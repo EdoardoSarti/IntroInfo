{
 "cells": [
  {
   "cell_type": "markdown",
   "id": "437a11d0",
   "metadata": {},
   "source": [
    "<h1><center>SPEV311 — Introduction à l'Informatique — TP 07</center><br>\n",
    "<center>Graphiques</center></h1>"
   ]
  },
  {
   "cell_type": "markdown",
   "id": "c3a9453e",
   "metadata": {},
   "source": [
    "<h3>Auto-évaluation</h3>\n",
    "\n",
    "<div> Les exercices se divisent en trois niveaux d'auto-évaluation:\n",
    "<ul>\n",
    "    <li><h3><font color='white' style='background-color:orange'>Fondamentaux</font></h3> Pour réviser les notions apprises en cours. Il faut tous les savoir résoudre pour avoir la moyenne.</li>\n",
    "    <li><h3><font color='white' style='background-color:green'>Intermédiaires</font></h3> Pour vous aider à raisonner et rentrer au coeur des sujets. Si vous saurez tous les résoudre, vous aurez un bon niveau de préparation !</li>\n",
    "    <li><h3><font color='white' style='background-color:blue'>Avancés</font></h3> Défis pour vous entraîner à l'examen final... et aller plus loin !</li>\n",
    "</ul>\n",
    "</div>"
   ]
  },
  {
   "cell_type": "markdown",
   "id": "a1f1cca0",
   "metadata": {},
   "source": [
    "Les exercices avec un <font color='white' style='text-shadow: -1px 0 black, 0 1px black, 1px 0 black, 0 -1px black;'>C</font> sont corrigés : vous trouverez un notebook avec la correction de ces exercices dans le même dossier où vous avez trouvé celui-ci."
   ]
  },
  {
   "cell_type": "markdown",
   "id": "c1b5b9b0",
   "metadata": {},
   "source": [
    "### <font color='black'>Table des matières<font><a class='anchor' id='top'></a>\n",
    "1. [La bibliothèque matplotlib](#matplotlib)<br>\n",
    "    1.1 [Variables dépendantes](#vardep)<br>\n",
    "    1.2 [Nuages de points](#nuages)<br>\n",
    "    1.3 [Distributions de données](#distr)<br>\n",
    "2. [Expérience : alignement de séquences - Partie 1](#aln1)<br>\n",
    "    2.1 [Gerez un _flux de travail_ entier en Python3 !](#flux)"
   ]
  },
  {
   "cell_type": "markdown",
   "id": "45201be3",
   "metadata": {},
   "source": [
    "<h3>1. La bibliothèque matplotlib</h3><a class='anchor' id='matplotlib'></a>\n",
    "\n",
    "`matplotlib` est la bibliothèque la plus connue pour créer des graphiques en python. Toutes les classes et les méthodes qu'on verra sont contenues dans sa sous-biliothèque `pyplot`. Normalement, on charge cette sous bibliothèque de cette façon :\n",
    "\n",
    "```python\n",
    "import matplotlib.pyplot as plt\n",
    "```\n",
    "\n",
    "Le `as` nous dit qu'au lieu de toujours devoir répéter `matplotlib.pyplot` lors de l'utilisation de ses fonctions, on utilisera l'alias `plt` :\n",
    "\n",
    "```python\n",
    "# Exemple\n",
    "plt.show()    # et non pas matplotlib.pyplot.show()\n",
    "```\n",
    "\n",
    "Il y a beaucoup de différentes façons d'utiliser `pyplot` : dans ce cours on en choisit une et on restera avec elle, afin de ne pas introduire trop de notation.\n",
    "Pour initialiser l'environnement où on va créer les graphiques (la _toile_, ou _canvas_ en anglais), il faut exécuter la fonction `plt.subplots()`, qui nous rend deux objets : une _figure_, qui correspond à la toile sur laquelle on va dessiner (et donc contrôle les propriétés générales du graphique, comme sa taille, son titre, etc.) et un _axe_, la partie plus importante, qui correspond au véritable graphique qu'on est en train de créer.\n",
    "\n",
    "```python\n",
    "fig, ax = plt.subplots()\n",
    "```\n",
    "\n",
    "Une fois ces deux objets obtenus, on peut commencer à utiliser l'objet axe (le deuxième) pour créer notre graphique. Parmi les types de graphique qu'on verra il y a :\n",
    "- suite de données : `ax.plot(X, Y)`\n",
    "- histogramme : `ax.hist(X)`\n",
    "- boîte à moustaches : `ax.boxplot(X)`\n",
    "- nuage de points : `ax.scatterplot(X, Y)`\n",
    "- carte de chaleur : `ax.imshow(M)`\n",
    "\n",
    "(Notation : `X` et `Y` correspondent à des listes normales ou des arrays de `numpy` de données de taille égale, `M` correspond à une matrice de `numpy`)\n",
    "\n",
    "Enfin, pour visualiser le graphique crée, il faudra exécuter\n",
    "```python\n",
    "plt.show()\n",
    "```\n",
    "\n",
    "Si on veut le sauvegarder dans un fichier image, on exécute\n",
    "```python\n",
    "plt.savefig(filename)\n",
    "```\n",
    "\n",
    "où `filename` est un `str` qui contient le nom du fichier de sortie, qui doit terminer avec l'une des extensions image : `.png`, `.jpeg`, etc.\n",
    "\n",
    "ATTENTION : afin de visualiser correctement les graphiques de `matplotlib` sur Jupyter, il faut utilser la commande magique\n",
    "```python\n",
    "%matplotlib inline\n",
    "```\n",
    "Cette commande n'est qu'un aide à la visualisation sur un notebook, ce n'est pas une partie importante de la programmation graphique. \n",
    "\n",
    "Ici de suite on charge la bibliothèque une fois pour toutes :"
   ]
  },
  {
   "cell_type": "code",
   "execution_count": null,
   "id": "aa4654df",
   "metadata": {},
   "outputs": [],
   "source": [
    "# Ne pas modifier !\n",
    "%matplotlib inline\n",
    "import matplotlib.pyplot as plt\n",
    "plt.ion()"
   ]
  },
  {
   "cell_type": "markdown",
   "id": "b2f1a39c",
   "metadata": {},
   "source": [
    "Ici on montre un exemple de graphique : "
   ]
  },
  {
   "cell_type": "code",
   "execution_count": null,
   "id": "7d4211ac",
   "metadata": {},
   "outputs": [],
   "source": [
    "# Ne pas modifier !\n",
    "# Création des données : une branche de parabole\n",
    "X = [0,1,2,3,4,5,6,7,8,9]   # abscisse\n",
    "Y = []                      # ordonnée\n",
    "for val in X:\n",
    "    Y.append(val**2)        # La liste Y contiendra les carrés des nombres en X\n",
    "    \n",
    "# On vérifie que X et Y ont la même taille\n",
    "print(\"taille des deux listes :\", len(X), len(Y))\n",
    "\n",
    "# Graphique\n",
    "fig, ax = plt.subplots()   # création de l'environnement\n",
    "ax.plot(X, Y)              # appel de la fonction qui trace une suite de données\n",
    "plt.show()                 # commande pour montrer l'image sur jupyter\n",
    "plt.savefig(\"test.png\")    # commande pour sauvegarder l'image dans un fichier nommé \"test.png\" "
   ]
  },
  {
   "cell_type": "markdown",
   "id": "03147f83",
   "metadata": {},
   "source": [
    "Contrôlez si dans votre dossier courant il y a désormais un fichier `test.png` contenant la même image visualisée ci-dessus. Si tout marche bien, on est prêts pour jouer !"
   ]
  },
  {
   "cell_type": "markdown",
   "id": "5fff955c",
   "metadata": {},
   "source": [
    "<b><font color='white' style='background-color:black'>Ex. 1.1</font> Variables dépendantes</b><a class='anchor' id='vardep'></a><br>\n",
    "L'exemple classique de graphique (reporté aussi ci-dessus) est le graphique du comportement d'une variable $y$ (_dépendante_) en fonction d'une variable $x$ (_indépendante_). Pour tracer un tel graphique, la fonction à utiliser est `plot`, à laquelle il faut fournir deux listes (ici nommées `X` et `Y`) de la même taille contenant les données indépendantes et dépendantes.<br> \n",
    "\n",
    "\n",
    "<b><font color='white' style='background-color:orange'>1.1.a</font></b> <font color='white' style='text-shadow: -1px 0 black, 0 1px black, 1px 0 black, 0 -1px black;'>C</font> On donne ici la variable `n_bactéries` qui représente le nombre (en millions) de bactéries dans une colonie au cours d'une certaine période de temps. Les mésurations ont été prises chaque heure. Créez une liste `temps` et remplissez-la avec le temps (en heures) écoulé depuis le début de l'expérience, affichez-la et vérifiez que `temps` et `n_bactéries` ont la même taille. Quelle est la variable dépendente ?"
   ]
  },
  {
   "cell_type": "code",
   "execution_count": null,
   "id": "28db48ea",
   "metadata": {},
   "outputs": [],
   "source": [
    "n_bactéries = [104, 105, 108, 109, 108, 332, 889, 2954, 8118, 23522, 25688, 26909, 26787, 26524, 9497, 4802, 1578, 681]\n",
    "temps = []\n",
    "for i in range(len(n_bactéries)):\n",
    "    temps.append(i)\n",
    "\n",
    "print(temps)\n",
    "assert len(n_bactéries) == len(temps)"
   ]
  },
  {
   "cell_type": "markdown",
   "id": "73a48112",
   "metadata": {},
   "source": [
    "**La variable dépendante est `n_bactéries`**"
   ]
  },
  {
   "cell_type": "markdown",
   "id": "d340c2fd",
   "metadata": {},
   "source": [
    "<b><font color='white' style='background-color:orange'>1.1.b</font></b> <font color='white' style='text-shadow: -1px 0 black, 0 1px black, 1px 0 black, 0 -1px black;'>C</font> Avec les listes `temps` et `n_bactéries`, tracez le graphique avec la fonction `plot` de la sous-bibliothèque `pyplot`. Rappelez-vous de l'alias et de la commande pour afficher le graphique !"
   ]
  },
  {
   "cell_type": "code",
   "execution_count": null,
   "id": "99a4c322",
   "metadata": {},
   "outputs": [],
   "source": [
    "fig, ax = plt.subplots()\n",
    "ax.plot(temps, n_bactéries)\n",
    "plt.show()"
   ]
  },
  {
   "cell_type": "markdown",
   "id": "bd4a4a47",
   "metadata": {},
   "source": [
    "<b><font color='white' style='background-color:orange'>1.1.c</font></b> Rajoutons maintenant des étiquettes aux axes : on nomme l'axe des abscisses \"temps (heures)\" et l'axe des ordonnées \"nombre de bactéries (millions)\". Pour ce faire, utilisez les méthodes `set_xlabel` et `set_ylabel` de l'objet des axes. Rajoutez aussi le titre \"Croissance bactérienne\" avec la méthode `set_title`.\n",
    "\n",
    "**Attention :** afin que votre code affiche la figure à nouveau, recopiez tout le code de la boîte précédente, en rajoutant les nouvelles lignes où nécessaire"
   ]
  },
  {
   "cell_type": "code",
   "execution_count": null,
   "id": "325eb6a0",
   "metadata": {},
   "outputs": [],
   "source": []
  },
  {
   "cell_type": "markdown",
   "id": "ae1854fc",
   "metadata": {},
   "source": [
    "<b><font color='white' style='background-color:green'>1.1.d</font></b> <font color='white' style='text-shadow: -1px 0 black, 0 1px black, 1px 0 black, 0 -1px black;'>C</font> On a maintenant deux jeux de données : `n_bactéries` et `n_bactéries_2`. Représentez-les sur le même graphique (deux couleurs différentes seront assignées automatiquement aux deux lignes). Ensuite, créez une légende en nommant la première courbe \"contrôle\" et la deuxième \"médicament\". Pour créer une légende, il faut :\n",
    "- lors de l'écriture des commandes `plot`, utiliser le paramètre optionnel `label` pour associer une étiquette à la suite de données\n",
    "- avant d'afficher la figure, appeler la méthode `legend` de l'objet des axes, sans aucun paramètre : ça va activer l'affichage de la légende\n",
    "\n",
    "**Attention :** afin que votre code affiche la figure à nouveau, recopiez tout le code de la boîte précédente, en rajoutant les nouvelles lignes où nécessaire"
   ]
  },
  {
   "cell_type": "code",
   "execution_count": null,
   "id": "dda448f6",
   "metadata": {},
   "outputs": [],
   "source": [
    "n_bactéries_2 = [96, 101, 103, 102, 101, 225, 426, 990, 1634, 3586, 5222, 5278, 4774, 3714, 1453, 727, 353, 114]\n",
    "\n",
    "fig, ax = plt.subplots()\n",
    "ax.plot(temps, n_bactéries, label=\"contrôle\")\n",
    "ax.plot(temps, n_bactéries_2, label=\"médicament\")\n",
    "ax.set_xlabel(\"temps (heures)\")\n",
    "ax.set_ylabel(\"nombre de bactéries (millions)\")\n",
    "ax.set_title(\"Croissance bactérienne\")\n",
    "ax.legend()\n",
    "plt.show()"
   ]
  },
  {
   "cell_type": "markdown",
   "id": "08d958ae",
   "metadata": {},
   "source": [
    "<b><font color='white' style='background-color:green'>1.1.d</font></b> Normalement, la croissance bactérienne est affiché en échelle logarithmique sur l'axe des ordonnées. Pyplot permet de le faire avec la méthode `set_yscale` de l'objet des axes. Cette méthode prend l'un de ces `str`: `\"linear\"` (défault), `\"log\"`, `\"logit\"`, et bien d'autres.\n",
    "\n",
    "**Attention :** afin que votre code affiche la figure à nouveau, recopiez tout le code de la boîte précédente, en rajoutant les nouvelles lignes où nécessaire"
   ]
  },
  {
   "cell_type": "code",
   "execution_count": null,
   "id": "ac54e9e8",
   "metadata": {},
   "outputs": [],
   "source": []
  },
  {
   "cell_type": "markdown",
   "id": "f68639a9",
   "metadata": {},
   "source": [
    "<p><img style=\"float:right; margin:20px; padding:20px; max-width:400px\" src=\"croissance_bacterienne.png\"></p>\n",
    "<p style=\"text-align:justify;\"><a class='anchor' id='division'></a>\n",
    "<br><br>\n",
    "<b><font color='white' style='background-color:blue'>1.1.e</font></b> <font color='white' style='text-shadow: -1px 0 black, 0 1px black, 1px 0 black, 0 -1px black;'>C</font> Les deux suites de données suivent à peu près le comportement générique d'une courbe de croissance bactérienne (ici à côté). Cependant, les branches de croissance exponentielle des deux jeux de données n'ont pas la même pente. Sauriez-vous estimer la pente des deux branches ? Pour rappel, vous trouvez ci-dessous la formule de l'estimation de la pente de la ligne de régression linéaire $\\hat{\\beta}$ (c'est l'éstimateur de ce qui est appelé $\\mu$max en figure), avec la méthode des moindres carrés : $$\\hat{\\beta} = \\frac{\\sum x_i\\sum y_i - n \\sum x_i y_i}{\\sum \\left ( x_i \\right)^2 - n \\sum x_i^2}$$\n",
    "où $n$ est le nombre de données (la longueur de l'une des listes).\n",
    "</p>\n",
    "\n",
    "Afin de calculer agilement cette formule, il est conseillé de :\n",
    "- créer une liste `log_n` remplie avec les logarithmes des valeurs de `n_bactéries` : c'est les données avec lequelles vous devez travailler \n",
    "- initialiser à zéro les variables qui devront contenir la somme des x `somme_x`, la somme des y `somme_y`, la somme des x au carré `somme_x2` et la somme des produits x par y `somme_xy`.\n",
    "- faire une boucle sur l'indice des éléments de l'une des listes (elles sont toutes de la même taille !), correspondant aux valeurs qui montrent la croissance exponentielle (choisissez l'interval à la main en regardant le graphique)\n",
    "- pour chacun de ces indices :\n",
    "    - rajouter à chacune des 4 variables le facteur approprié : `somme_x = somme_x + temps[i]` et ainsi de suite\n",
    "- calculer et affichez la formule en utilisant les 4 variables que vous avez calculées\n",
    "- répétez pour `n_bactéries_2`. Vous pouvez finalement créer une fonction pour ne pas répéter le code !\n"
   ]
  },
  {
   "cell_type": "code",
   "execution_count": null,
   "id": "9e379354",
   "metadata": {},
   "outputs": [],
   "source": [
    "import math\n",
    "\n",
    "def estimation_beta(X, Y):\n",
    "    log_n = []\n",
    "    for y in Y:\n",
    "        log_n.append(math.log(y))\n",
    "    somme_x = 0\n",
    "    somme_y = 0\n",
    "    somme_x2 = 0\n",
    "    somme_xy = 0\n",
    "    n = 5\n",
    "    for i in range(4,9):\n",
    "        somme_x = somme_x + X[i] \n",
    "        somme_y = somme_y + log_n[i]\n",
    "        somme_x2 = somme_x2 + X[i]**2\n",
    "        somme_xy = somme_xy + X[i]*log_n[i]\n",
    "    print((somme_x*somme_y - n*somme_xy)/(somme_x**2 - n*somme_x2))\n",
    "\n",
    "estimation_beta(temps, n_bactéries)\n",
    "estimation_beta(temps, n_bactéries_2)"
   ]
  },
  {
   "cell_type": "markdown",
   "id": "292b2733",
   "metadata": {},
   "source": [
    "<b><font color='white' style='background-color:black'>Ex. 1.2</font> Nuages de points</b><a class='anchor' id='nuages'></a><br>\n",
    "\n",
    "Des données `X` et `Y` n'ont pas forcément besoin de se trouver en rélation de causalité entre elles (`Y` \"en fonction de\" `X`). On souhaite néanmoins les visualiser comme nuage de points, pour chercher à trouver des corrélations. La fonction `scatter` de la sous-bibliothèque Pymol nous permet de le faire. Cet exercice se sert de la sous-bibliothèque `numpy.random` pour générer les données. Attention : même si elles se ressemblent, ce n'est pas la bibliothèque `random` qu'on a utilisée en `TP02` et `TP03`. On utilisera cette bibliothèque pour échantillonner une gaussienne.<br> \n",
    "\n",
    "\n",
    "<b><font color='white' style='background-color:orange'>1.2.a</font></b> <font color='white' style='text-shadow: -1px 0 black, 0 1px black, 1px 0 black, 0 -1px black;'>C</font> Vous trouvez ci-dessous un code qui génère deux arrays `numpy` de flottants. Utilisez-les pour tracer un nuage de points avec la fonction `scatter`, et affichez l'image."
   ]
  },
  {
   "cell_type": "code",
   "execution_count": null,
   "id": "6d0385c5",
   "metadata": {},
   "outputs": [],
   "source": [
    "import numpy as np\n",
    "\n",
    "# Génération des points... prenez cette ligne comme une boîte noire \n",
    "X, Y = np.random.multivariate_normal([0, 0], np.array([[6, -3], [-3, 3.5]]), size=800).T\n",
    "\n",
    "fig, ax = plt.subplots()\n",
    "ax.scatter(X, Y)\n",
    "plt.show()"
   ]
  },
  {
   "cell_type": "markdown",
   "id": "015317d3",
   "metadata": {},
   "source": [
    "<b><font color='white' style='background-color:orange'>1.2.b</font></b> Rajoutons les étiquettes des axes et l'intitulé comme l'on a fait dans l'exercice `1.1`. Cette fois, c'est à vous d'inventer des noms pour les trois."
   ]
  },
  {
   "cell_type": "code",
   "execution_count": null,
   "id": "51c3b337",
   "metadata": {},
   "outputs": [],
   "source": []
  },
  {
   "cell_type": "markdown",
   "id": "08f324cb",
   "metadata": {},
   "source": [
    "<b><font color='white' style='background-color:orange'>1.2.c</font></b> On va maintenant travailler avec des données réelles. On veut étudier la corrélation entre taille du génome et nombre de gènes dans des différentes espèces. Pour ce faire, ouvrez le fichier `genes.csv` et affichez ci-dessous les premières 10 lignes. Quelles sont les colonnes qu'on devra considérer ?"
   ]
  },
  {
   "cell_type": "code",
   "execution_count": null,
   "id": "d4c989cf",
   "metadata": {},
   "outputs": [],
   "source": []
  },
  {
   "cell_type": "markdown",
   "id": "ddc198d5",
   "metadata": {},
   "source": [
    "**La deuxième et la troisième colonne**"
   ]
  },
  {
   "cell_type": "markdown",
   "id": "a824c905",
   "metadata": {},
   "source": [
    "<b><font color='white' style='background-color:green'>1.2.d</font></b> <font color='white' style='text-shadow: -1px 0 black, 0 1px black, 1px 0 black, 0 -1px black;'>C</font> Initialisez deux listes vides `taille` et `n_gènes`, chargez à nouveau le fichier `genes.csv` et remplissez les deux listes avec les données correspondantes. Rappelez-vous :\n",
    "- de louper la première ligne du fichier (elle contient l'en-tête) ;\n",
    "- de la méthode `split` : choisissez le bon argument pour traiter un fichier `csv` (révisez le `TP06` !)\n",
    "- que vous avez un texte `str` en lecture, mais que vous voules remplir les deux listes avec des nombres `float` !\n",
    "\n",
    "Vérifiez que les deux listes ont la même taille. **Vérifiez aussi que les listes contiennent des `float` et non pas des `str`**"
   ]
  },
  {
   "cell_type": "code",
   "execution_count": null,
   "id": "3c3a3d66",
   "metadata": {},
   "outputs": [],
   "source": [
    "taille = []\n",
    "n_gènes = []\n",
    "\n",
    "f = open(\"genes.csv\")\n",
    "lines = f.readlines()\n",
    "for line in lines[1:]:\n",
    "    taille.append(float(line.split(\",\")[1]))\n",
    "    n_gènes.append(float(line.split(\",\")[2]))\n",
    "f.close()\n",
    "\n",
    "assert len(taille) == len(n_gènes)\n",
    "print(type(taille[0]), type(n_gènes[0]))"
   ]
  },
  {
   "cell_type": "markdown",
   "id": "9686d05c",
   "metadata": {},
   "source": [
    "<b><font color='white' style='background-color:green'>1.2.e</font></b> Une fois les deux listes créées et vérifiées, tracez le nuage de points qui met en relation les données des deux listes. N'oubliez pas de nommer les axes et de rajouter un intitulé approprié."
   ]
  },
  {
   "cell_type": "code",
   "execution_count": null,
   "id": "0966e310",
   "metadata": {},
   "outputs": [],
   "source": []
  },
  {
   "cell_type": "markdown",
   "id": "7e99b8b9",
   "metadata": {},
   "source": [
    "<b><font color='white' style='background-color:green'>1.2.e</font></b> <font color='white' style='text-shadow: -1px 0 black, 0 1px black, 1px 0 black, 0 -1px black;'>C</font> Comme dans l'exercice `1.1`, il serait mieux d'analyser la corrélation entre les logarithmes de ces valeurs. Cette fois, l'échelle logarithmique doit être utilisée sur les deux axes. Apportez cette modification au graphique et affichez-le à nouveau."
   ]
  },
  {
   "cell_type": "code",
   "execution_count": null,
   "id": "91c3bb09",
   "metadata": {},
   "outputs": [],
   "source": [
    "fig, ax = plt.subplots()\n",
    "ax.scatter(taille, n_gènes)\n",
    "ax.set_xlabel(\"Taille du génome (en Mb)\")\n",
    "ax.set_ylabel(\"Nombre de gènes\")\n",
    "ax.set_title(\"Correlation entre taille et nombre de gènes\")\n",
    "ax.set_xscale(\"log\")\n",
    "ax.set_yscale(\"log\")\n",
    "plt.show()"
   ]
  },
  {
   "cell_type": "markdown",
   "id": "0411e5a5",
   "metadata": {},
   "source": [
    "<b><font color='white' style='background-color:blue'>1.2.f</font></b> <font color='white' style='text-shadow: -1px 0 black, 0 1px black, 1px 0 black, 0 -1px black;'>C</font> Les données semblent être corrélées. En vous inspirant de l'exercice `1.1.e`, calculez le _coefficient de corrélation de Pearson_ avec cette formule : $$r_{xy} = \\frac{n \\sum x_i y_i - \\sum x_i\\sum y_i}{\\sqrt{n \\sum x_i^2 - \\sum \\left ( x_i \\right)^2} \\sqrt{n \\sum y_i^2 - \\sum \\left ( y_i \\right)^2}}$$"
   ]
  },
  {
   "cell_type": "code",
   "execution_count": null,
   "id": "52240764",
   "metadata": {},
   "outputs": [],
   "source": [
    "import math\n",
    "\n",
    "def estimation_r(X, Y):\n",
    "    log_x = []\n",
    "    log_y = []\n",
    "    for x in X:\n",
    "        log_x.append(math.log(x))    \n",
    "    for y in Y:\n",
    "        log_y.append(math.log(y))\n",
    "    somme_x = 0\n",
    "    somme_y = 0\n",
    "    somme_x2 = 0\n",
    "    somme_y2 = 0\n",
    "    somme_xy = 0\n",
    "    n = len(X)\n",
    "    for i in range(len(X)):\n",
    "        somme_x = somme_x + log_x[i] \n",
    "        somme_y = somme_y + log_y[i]\n",
    "        somme_x2 = somme_x2 + log_x[i]**2\n",
    "        somme_y2 = somme_y2 + log_y[i]**2\n",
    "        somme_xy = somme_xy + log_x[i]*log_y[i]\n",
    "    print((n*somme_xy - somme_x*somme_y)/((n*somme_x2 - somme_x**2)**0.5 * (n*somme_y2 - somme_y**2)**0.5))\n",
    "\n",
    "estimation_r(taille, n_gènes)"
   ]
  },
  {
   "cell_type": "markdown",
   "id": "10217a30",
   "metadata": {},
   "source": [
    "<p><img style=\"float:right; margin:20px; padding:20px; max-width:400px\" src=\"boxplot.png\"></p>\n",
    "<p style=\"text-align:justify;\"><a class='anchor' id='division'></a>\n",
    "<br><br>\n",
    "\n",
    "<b><font color='white' style='background-color:black'>Ex. 1.3</font> Distributions de données</b><a class='anchor' id='distr'></a><br>\n",
    "\n",
    "La pluspart des données ne met pas en rélation une quantité X avec une autre Y, mais consiste en un seul jeu de données dont on veut analyser sa distribution, c'est à dire comment les données se répartissent parmi les valeurs possibles.\n",
    "</p>\n",
    "\n",
    "Un type de graphique qui peut représenter une ou plus distributions de données est l'histogramme : dans ce cas, on utilise la fonction `hist`, qui prend un seul paramètre nécessaire : une liste de valeurs.\n",
    "\n",
    "Un type de graphique très utilisé en biologie est la boîte à moustaches le graphique illustré), qui permet de comparer des différentes distributions. Pour le tracer, il faut utiliser la fonction `boxplot`, qui prend comme seul paramètre nécessaire une liste de listes : chaque liste contient un jeu de données, qui produira une boîte."
   ]
  },
  {
   "cell_type": "markdown",
   "id": "0894291b",
   "metadata": {},
   "source": [
    "<b><font color='white' style='background-color:orange'>1.3.a</font></b> <font color='white' style='text-shadow: -1px 0 black, 0 1px black, 1px 0 black, 0 -1px black;'>C</font> Une expérience de cytométrie en flux a considéré 40000 cellules pour quantifier l'intensité de la fluoréscence liée à 5 types d'antigènes. Les données sont stockées dans le fichier `flow-cytometry-40k.txt`. Chargez-le et affichez-en les premières 10 lignes. Quel est le format de ce fichier ?"
   ]
  },
  {
   "cell_type": "code",
   "execution_count": null,
   "id": "782da48b",
   "metadata": {},
   "outputs": [],
   "source": [
    "f = open(\"flow-cytometry-40k.txt\")\n",
    "lines = f.readlines()\n",
    "for line in lines[:10]:\n",
    "    print(line, end='')"
   ]
  },
  {
   "cell_type": "markdown",
   "id": "d4c7ba8f",
   "metadata": {},
   "source": [
    "C'est un fichier de texte simple, les colonnes sont séparées par des espaces."
   ]
  },
  {
   "cell_type": "markdown",
   "id": "cdd87bd2",
   "metadata": {},
   "source": [
    "<b><font color='white' style='background-color:orange'>1.3.b</font></b> En vous inspirant de ce que vous avez fait dans l'exercice `1.2`, initialisez une liste vide nommée `cd4` et mettez-y les données de la colonne correspondante, en type `float`. Affichez les premières 9 valeurs de la liste et comparez-les avec ce que vous avez obtenu en `1.3.a`."
   ]
  },
  {
   "cell_type": "code",
   "execution_count": null,
   "id": "2268e0ad",
   "metadata": {},
   "outputs": [],
   "source": []
  },
  {
   "cell_type": "markdown",
   "id": "f9c1f81e",
   "metadata": {},
   "source": [
    "<b><font color='white' style='background-color:orange'>1.3.c</font></b> <font color='white' style='text-shadow: -1px 0 black, 0 1px black, 1px 0 black, 0 -1px black;'>C</font> Avec la liste `cd4` que vous avez remplie en `1.3.b`, tracez un histogramme avec la fonction `hist` de Pyplot. Rajoutez une description de l'axe x (\"intensité fluoréscence CD4\") et affichez."
   ]
  },
  {
   "cell_type": "code",
   "execution_count": null,
   "id": "8af4871a",
   "metadata": {},
   "outputs": [],
   "source": []
  },
  {
   "cell_type": "markdown",
   "id": "42af64ee",
   "metadata": {},
   "source": [
    "<b><font color='white' style='background-color:green'>1.3.d</font></b> Vous avez peut-être remarqué que ce n'est pas le graphique le plus utile du monde. En effets la pluspart des données semble se concentrer à faible intensité, et cela rend les autres données presque illisibles. On pourrait utiliser encore l'échelle logarithmique, mais cette fois on décide plutôt de se concentrer sur les données qui ont une fluoréscence > 100. Pour ce faire, utilisez les méthodes `set_xlim` et `set_ylim` de l'objet des axes pour \"zoomer\" sur la partie du graphique qui nous intéresse. Vous devez borner les abscisses entre 100 et 1000 et les ordonnées entre 0 et 250."
   ]
  },
  {
   "cell_type": "code",
   "execution_count": null,
   "id": "962115d5",
   "metadata": {},
   "outputs": [],
   "source": []
  },
  {
   "cell_type": "markdown",
   "id": "eedf1f45",
   "metadata": {},
   "source": [
    "<b><font color='white' style='background-color:green'>1.3.e</font></b> <font color='white' style='text-shadow: -1px 0 black, 0 1px black, 1px 0 black, 0 -1px black;'>C</font> Maintenant affichons les données de CD4 à côté de celles de CD8: créez une liste cd8 et y chargez les données de la colonne correspondante. Ensuite, commandez à python de vous fournir deux graphiques côte-à-côte avec cette instruction :\n",
    "\n",
    "```python\n",
    "fig, axes = plt.subplots(1, 2)   # UNE ligne avec DEUX graphiques\n",
    "```\n",
    "\n",
    "Maintenant la variable `axes` est une _liste_ de deux objets axes, un pour chaque graphique. Vous devez donc vous adresser à chaque graphique en spécifiant `axes[0]` ou `axes[1]`."
   ]
  },
  {
   "cell_type": "code",
   "execution_count": null,
   "id": "59af9aba",
   "metadata": {},
   "outputs": [],
   "source": [
    "cd8 = []\n",
    "for line in lines[1:]:\n",
    "    cd8.append(float(line.split()[2]))\n",
    "\n",
    "fig, axes = plt.subplots(1, 2)\n",
    "cds = [cd4, cd8]\n",
    "for i in range(2):\n",
    "    axes[i].hist(cds[i])\n",
    "    axes[i].set_xlim(100,1000)\n",
    "    axes[i].set_ylim(0, 250)\n",
    "\n",
    "plt.show()"
   ]
  },
  {
   "cell_type": "markdown",
   "id": "710c34f4",
   "metadata": {},
   "source": [
    "<b><font color='white' style='background-color:blue'>1.3.f</font></b> <font color='white' style='text-shadow: -1px 0 black, 0 1px black, 1px 0 black, 0 -1px black;'>C</font> Maintenant comparons tous les types d'antigènes avec des boîtes à moustaches : récueillez toutes les données d'après le fichier et organisez-les dans une _liste de listes_, chaque liste contenant les données d'une colonne. Pour rendre l'analyse plus intéressante, ne gardez que les valeurs $> 100$ (comme vous avez fait ci dessus)."
   ]
  },
  {
   "cell_type": "code",
   "execution_count": null,
   "id": "b487ad2e",
   "metadata": {},
   "outputs": [],
   "source": [
    "cds = [[],[],[],[],[]]\n",
    "for line in lines[1:]:\n",
    "    fields = line.split()\n",
    "    i = 0\n",
    "    for f in fields[1:]:\n",
    "        if float(f) > 100:\n",
    "            cds[i].append(float(f))\n",
    "        i = i + 1\n",
    "\n",
    "fig, ax = plt.subplots()\n",
    "ax.boxplot(cds)\n",
    "plt.show()"
   ]
  },
  {
   "cell_type": "markdown",
   "id": "dcf18c74",
   "metadata": {},
   "source": [
    "<h3>2. Application : alignements de séquences</h3><a class='anchor' id='alignements'></a>"
   ]
  },
  {
   "cell_type": "markdown",
   "id": "01003e6a",
   "metadata": {},
   "source": [
    "Dans cette section, vous allez suivre un procédé pour calculer et analyser la similarité des séquence d'acides aminés tirés par des familles de protéines. Pour ce faire, on aura besoin de lancer un logiciel externe : MUSCLE. L'exécutable est fourni dans ce répertoire :\n",
    "- Si vous utilisez Linux, l'exécutable à lancer sera `muscle3.8.31_i86linux64` ;\n",
    "- Si vous utilisez MacOS, l'exécutable à lancer sera `muscle3.8.31_i86darwin64` ;\n",
    "- Si vous utilisez Windows, l'exécutable à lancer sera `muscle3.8.31_i86win32.exe`\n",
    "\n",
    "En plus, si vous utilisez Linux ou MacOS, vous devrez exécuter la boîte ci-dessous :"
   ]
  },
  {
   "cell_type": "code",
   "execution_count": null,
   "id": "69934b8b",
   "metadata": {},
   "outputs": [],
   "source": [
    "%system chmod +x muscle3.8.31_i86linux64 muscle3.8.31_i86darwin64"
   ]
  },
  {
   "cell_type": "markdown",
   "id": "c050b921",
   "metadata": {},
   "source": [
    "<b><font color='white' style='background-color:black'>Ex. 2.1</font> Gerez un _flux de travail_ entier en Python3 !</b><a class='anchor' id='flux'></a><br>\n",
    "\n",
    "Dans cet exercice, on vous propose de trouver, parmi un ensemble de séquences d'acides aminés, celles qui ressemblent le plus à une séquence donnée. Vous aurez donc deux fichier : celui de la séquence donnée `query.fasta` et celui des séquences à comparer avec elle `sequences.fasta`.\n",
    "\n",
    "**Attention :** vous remarquerez que cet exercice est de difficulté plus élevée par rapport aux autres. pour vous faciliter, les fichiers intermédiaires que vous devriez obtenir (et qui vous permettent d'avancer) sont stockés dans le répertoire `résultats/` : vous ne devrez que les copier-coller dans ce répertoire afin de les utiliser.  La liste SI est disponible aussi (il faut décommenter la ligne suivante) :"
   ]
  },
  {
   "cell_type": "code",
   "execution_count": null,
   "id": "8fcdd9b6",
   "metadata": {},
   "outputs": [],
   "source": [
    "#SI = [0.7844827586206896, 0.7873563218390804, 0.7787356321839081, 0.7758620689655172, 0.8850574712643678, 0.8563218390804598, 0.8706896551724138, 0.896551724137931, 0.8936781609195402, 0.8649425287356322, 0.8649425287356322, 0.8563218390804598, 0.8477011494252874, 0.8448275862068966, 0.8850574712643678, 0.8443804034582133, 0.5702005730659025, 0.5702005730659025, 0.5759312320916905, 0.5673352435530086, 0.5616045845272206, 0.5730659025787965, 0.5558739255014327, 0.5472779369627507, 0.5558739255014327, 0.5587392550143266, 0.7867435158501441, 0.6057142857142858, 0.484149855907781, 0.35344827586206895, 0.5243553008595988, 0.5358166189111748, 0.5186246418338109, 0.5300859598853869, 0.12643678160919541, 0.4396551724137931, 0.4166666666666667, 0.39255014326647564, 0.5043227665706052, 0.44571428571428573, 0.46397694524495675, 0.25787965616045844, 0.2557471264367816, 0.16091954022988506, 0.2177650429799427, 0.3074712643678161, 0.2507204610951009, 0.21613832853025935, 0.14985590778097982, 0.10951008645533142, 0.0893371757925072]"
   ]
  },
  {
   "cell_type": "markdown",
   "id": "a71c375e",
   "metadata": {},
   "source": [
    "<b><font color='white' style='background-color:green'>2.1.a</font></b> <font color='white' style='text-shadow: -1px 0 black, 0 1px black, 1px 0 black, 0 -1px black;'>C</font> Le format `fasta` est un format de fichier de texte qui s'adapte à la description des séquences d'acides aminés (mais pas que). Analysons d'abord le format. Vous avez le fichier `sequences.fasta` : ouvrez-le et affichez les premières 10 lignes. Arrivez-vous à comprendre comment ce fichier est-il rédigé ? Comment chaque séquence est-elle décrite ?"
   ]
  },
  {
   "cell_type": "code",
   "execution_count": null,
   "id": "32439281",
   "metadata": {},
   "outputs": [],
   "source": [
    "f = open(\"sequences.fasta\")\n",
    "lines = f.readlines()\n",
    "for line in lines[:10]:\n",
    "    print(line, end='')\n",
    "f.close()"
   ]
  },
  {
   "cell_type": "markdown",
   "id": "213568cb",
   "metadata": {},
   "source": [
    "Chaque séquence est décrite en deux lignes : une ligne d'en-tête, précédée par un `\">\"`, qui contient toutes les infos relatives à la séquence. Ensuite, une ligne qui contient la chaîne d'acides aminés."
   ]
  },
  {
   "cell_type": "markdown",
   "id": "32f48de5",
   "metadata": {},
   "source": [
    "<b><font color='white' style='background-color:blue'>2.1.b</font></b> <font color='white' style='text-shadow: -1px 0 black, 0 1px black, 1px 0 black, 0 -1px black;'>C</font> Notre but est d'aligner les séquences dans `sequences.fasta` une à une contre la séquence en `query.fasta`. Pour ce faire, on a besoin de créer un ensemble de fichiers `pair_N.fasta` qui contiennent la séquence query et l'une des autres séquences, toujours dans le format fasta.\n",
    "\n",
    "Exemple : si dans `query.fasta` on a\n",
    "```\n",
    ">Query seq\n",
    "AMAJKLARTYATNMPAW\n",
    "```\n",
    "\n",
    "et dans `sequences.fasta` on a\n",
    "```\n",
    ">Seq 1\n",
    "MKLIMPARTEAS\n",
    ">Seq 2\n",
    "RTQAILIMIITRETTEDRAS\n",
    "```\n",
    "\n",
    "on souhaitera créer les fichiers\n",
    "`pair_01.fasta`\n",
    "```\n",
    ">Query seq\n",
    "AMAJKLARTYATNMPAW\n",
    ">Seq 1\n",
    "MKLIMPARTEAS\n",
    "```\n",
    "\n",
    "et `pair_02.fasta`\n",
    "```\n",
    ">Query seq\n",
    "AMAJKLARTYATNMPAW\n",
    ">Seq 2\n",
    "RTQAILIMIITRETTEDRAS\n",
    "```"
   ]
  },
  {
   "cell_type": "code",
   "execution_count": null,
   "id": "e178c92f",
   "metadata": {},
   "outputs": [],
   "source": [
    "f = open(\"query.fasta\")\n",
    "lines = f.readlines()\n",
    "q_header = lines[0]\n",
    "query = lines[1]\n",
    "f.close()\n",
    "\n",
    "f = open(\"sequences.fasta\")\n",
    "lines = f.readlines()\n",
    "n_seqs = len(lines)//2\n",
    "filenames = []\n",
    "f.close()\n",
    "for i in range(0, len(lines), 2):\n",
    "    fn = \"pair_{0:02d}.fasta\".format(i//2)\n",
    "    g = open(fn, 'w')\n",
    "    g.write(q_header)\n",
    "    g.write(query)\n",
    "    g.write(lines[i])\n",
    "    g.write(lines[i+1])\n",
    "    filenames.append(fn)\n",
    "    g.close()\n",
    "print(len(filenames))"
   ]
  },
  {
   "cell_type": "markdown",
   "id": "c7f23f9b",
   "metadata": {},
   "source": [
    "<b><font color='white' style='background-color:blue'>2.1.c</font></b> <font color='white' style='text-shadow: -1px 0 black, 0 1px black, 1px 0 black, 0 -1px black;'>C</font> Maintenant, il faut lancer le logiciel MUSCLE sur les fichiers d'entrées que vous avez créés. Pour lancer le ligiciel :\n",
    "- Sur Linux : `subprocess.run([\"./muscle3.8.31_i86linux64\", \"-in\", fn, \"-out\", out_fn])`\n",
    "- Sur MacOS : `subprocess.run([\"./muscle3.8.31_i86darwin64\", \"-in\", fn, \"-out\", out_fn])`\n",
    "- Sur Windows : `subprocess.run([\"start\", \"muscle3.8.31_i86win32.exe\", \"-in\", fn, \"-out\", out_fn])`\n",
    "\n",
    "où `fn` est un `str` qui doit contenir le nom du fichier en entrée, et `out_fn` est un `str` qui doit contenir le fichier de sorties qui sera créé par MUSCLE. Attention : vous devriez changer ces noms pour chaque lancement, afin de ne pas répéter le même calcul N fois !\n",
    "\n",
    "Enfin, ouvrez quelques fichiers de sortie et vérifiez qu'ils contiennent les séquences alignées"
   ]
  },
  {
   "cell_type": "code",
   "execution_count": null,
   "id": "353ec15f",
   "metadata": {},
   "outputs": [
    {
     "name": "stderr",
     "output_type": "stream",
     "text": [
      "This software is donated to the public domain.\n",
      "Please cite: Edgar, R.C. Nucleic Acids Res 32(5), 1792-97.\n",
      "\n",
      "pair_37 2 seqs, max length 347, avg  length 298\n",
      "00:00:00      1 MB(0%)  Iter   1   33.33%  K-mer dist pass 1\r",
      "00:00:00      1 MB(0%)  Iter   1  100.00%  K-mer dist pass 1\r\n",
      "00:00:00      1 MB(0%)  Iter   1   33.33%  K-mer dist pass 2\r",
      "00:00:00      1 MB(0%)  Iter   1  100.00%  K-mer dist pass 2\r\n",
      "00:00:00      1 MB(0%)  Iter   1  100.00%  Align node       \r",
      "00:00:01      2 MB(0%)  Iter   1  100.00%  Align node\r\n",
      "00:00:01      2 MB(0%)  Iter   1   50.00%  Root alignment\r",
      "00:00:01      2 MB(0%)  Iter   1  100.00%  Root alignment\r",
      "00:00:01      2 MB(0%)  Iter   1  100.00%  Root alignment\r\n",
      "\n",
      "MUSCLE v3.8.31 by Robert C. Edgar\n",
      "\n",
      "http://www.drive5.com/muscle\n",
      "This software is donated to the public domain.\n",
      "Please cite: Edgar, R.C. Nucleic Acids Res 32(5), 1792-97.\n",
      "\n",
      "pair_38 2 seqs, max length 347, avg  length 272\n",
      "00:00:00      1 MB(0%)  Iter   1   33.33%  K-mer dist pass 1\r",
      "00:00:00      1 MB(0%)  Iter   1  100.00%  K-mer dist pass 1\r\n",
      "00:00:00      1 MB(0%)  Iter   1   33.33%  K-mer dist pass 2\r",
      "00:00:00      1 MB(0%)  Iter   1  100.00%  K-mer dist pass 2\r\n",
      "00:00:00      1 MB(0%)  Iter   1  100.00%  Align node       \r",
      "00:00:00      2 MB(0%)  Iter   1  100.00%  Align node\r\n",
      "00:00:00      2 MB(0%)  Iter   1   50.00%  Root alignment\r",
      "00:00:00      2 MB(0%)  Iter   1  100.00%  Root alignment\r",
      "00:00:00      2 MB(0%)  Iter   1  100.00%  Root alignment\r\n",
      "\n",
      "MUSCLE v3.8.31 by Robert C. Edgar\n",
      "\n",
      "http://www.drive5.com/muscle\n",
      "This software is donated to the public domain.\n",
      "Please cite: Edgar, R.C. Nucleic Acids Res 32(5), 1792-97.\n",
      "\n",
      "pair_39 2 seqs, max length 347, avg  length 315\n",
      "00:00:00      1 MB(0%)  Iter   1   33.33%  K-mer dist pass 1\r",
      "00:00:00      1 MB(0%)  Iter   1  100.00%  K-mer dist pass 1\r\n",
      "00:00:00      1 MB(0%)  Iter   1   33.33%  K-mer dist pass 2\r",
      "00:00:00      1 MB(0%)  Iter   1  100.00%  K-mer dist pass 2\r\n",
      "00:00:00      2 MB(0%)  Iter   1  100.00%  Align node       \r",
      "00:00:00      2 MB(0%)  Iter   1  100.00%  Align node\r\n",
      "00:00:00      2 MB(0%)  Iter   1   50.00%  Root alignment\r",
      "00:00:00      2 MB(0%)  Iter   1  100.00%  Root alignment\r",
      "00:00:00      2 MB(0%)  Iter   1  100.00%  Root alignment\r\n",
      "\n",
      "MUSCLE v3.8.31 by Robert C. Edgar\n",
      "\n",
      "http://www.drive5.com/muscle\n",
      "This software is donated to the public domain.\n",
      "Please cite: Edgar, R.C. Nucleic Acids Res 32(5), 1792-97.\n",
      "\n",
      "pair_40 2 seqs, max length 347, avg  length 264\n",
      "00:00:00      1 MB(0%)  Iter   1   33.33%  K-mer dist pass 1\r",
      "00:00:00      1 MB(0%)  Iter   1  100.00%  K-mer dist pass 1\r\n",
      "00:00:00      1 MB(0%)  Iter   1   33.33%  K-mer dist pass 2\r",
      "00:00:00      1 MB(0%)  Iter   1  100.00%  K-mer dist pass 2\r\n",
      "00:00:00      1 MB(0%)  Iter   1  100.00%  Align node       \r",
      "00:00:00      2 MB(0%)  Iter   1  100.00%  Align node\r\n",
      "00:00:00      2 MB(0%)  Iter   1   50.00%  Root alignment\r",
      "00:00:00      2 MB(0%)  Iter   1  100.00%  Root alignment\r",
      "00:00:00      2 MB(0%)  Iter   1  100.00%  Root alignment\r\n",
      "\n",
      "MUSCLE v3.8.31 by Robert C. Edgar\n",
      "\n",
      "http://www.drive5.com/muscle\n",
      "This software is donated to the public domain.\n",
      "Please cite: Edgar, R.C. Nucleic Acids Res 32(5), 1792-97.\n",
      "\n",
      "pair_41 2 seqs, max length 347, avg  length 262\n",
      "00:00:00      1 MB(0%)  Iter   1   33.33%  K-mer dist pass 1\r",
      "00:00:00      1 MB(0%)  Iter   1  100.00%  K-mer dist pass 1\r\n",
      "00:00:00      1 MB(0%)  Iter   1   33.33%  K-mer dist pass 2\r",
      "00:00:00      1 MB(0%)  Iter   1  100.00%  K-mer dist pass 2\r\n",
      "00:00:00      1 MB(0%)  Iter   1  100.00%  Align node       \r",
      "00:00:00      2 MB(0%)  Iter   1  100.00%  Align node\r\n",
      "00:00:00      2 MB(0%)  Iter   1   50.00%  Root alignment\r",
      "00:00:00      2 MB(0%)  Iter   1  100.00%  Root alignment\r",
      "00:00:00      2 MB(0%)  Iter   1  100.00%  Root alignment\r\n",
      "\n",
      "MUSCLE v3.8.31 by Robert C. Edgar\n",
      "\n",
      "http://www.drive5.com/muscle\n",
      "This software is donated to the public domain.\n",
      "Please cite: Edgar, R.C. Nucleic Acids Res 32(5), 1792-97.\n",
      "\n",
      "pair_42 2 seqs, max length 347, avg  length 253\n",
      "00:00:00      1 MB(0%)  Iter   1   33.33%  K-mer dist pass 1\r",
      "00:00:00      1 MB(0%)  Iter   1  100.00%  K-mer dist pass 1\r\n",
      "00:00:00      1 MB(0%)  Iter   1   33.33%  K-mer dist pass 2\r",
      "00:00:00      1 MB(0%)  Iter   1  100.00%  K-mer dist pass 2\r\n",
      "00:00:00      1 MB(0%)  Iter   1  100.00%  Align node       \r",
      "00:00:00      2 MB(0%)  Iter   1  100.00%  Align node\r\n",
      "00:00:00      2 MB(0%)  Iter   1   50.00%  Root alignment\r",
      "00:00:00      2 MB(0%)  Iter   1  100.00%  Root alignment\r",
      "00:00:00      2 MB(0%)  Iter   1  100.00%  Root alignment\r\n",
      "\n",
      "MUSCLE v3.8.31 by Robert C. Edgar\n",
      "\n",
      "http://www.drive5.com/muscle\n",
      "This software is donated to the public domain.\n",
      "Please cite: Edgar, R.C. Nucleic Acids Res 32(5), 1792-97.\n",
      "\n",
      "pair_43 2 seqs, max length 347, avg  length 221\n",
      "00:00:00      1 MB(0%)  Iter   1   33.33%  K-mer dist pass 1\r",
      "00:00:00      1 MB(0%)  Iter   1  100.00%  K-mer dist pass 1\r\n",
      "00:00:00      1 MB(0%)  Iter   1   33.33%  K-mer dist pass 2\r",
      "00:00:00      1 MB(0%)  Iter   1  100.00%  K-mer dist pass 2\r\n",
      "00:00:00      1 MB(0%)  Iter   1  100.00%  Align node       \r",
      "00:00:00      2 MB(0%)  Iter   1  100.00%  Align node\r\n",
      "00:00:00      2 MB(0%)  Iter   1   50.00%  Root alignment\r",
      "00:00:00      2 MB(0%)  Iter   1  100.00%  Root alignment\r",
      "00:00:00      2 MB(0%)  Iter   1  100.00%  Root alignment\r\n",
      "\n",
      "MUSCLE v3.8.31 by Robert C. Edgar\n",
      "\n",
      "http://www.drive5.com/muscle\n",
      "This software is donated to the public domain.\n",
      "Please cite: Edgar, R.C. Nucleic Acids Res 32(5), 1792-97.\n",
      "\n",
      "pair_44 2 seqs, max length 347, avg  length 250\n",
      "00:00:00      1 MB(0%)  Iter   1   33.33%  K-mer dist pass 1\r",
      "00:00:00      1 MB(0%)  Iter   1  100.00%  K-mer dist pass 1\r\n",
      "00:00:00      1 MB(0%)  Iter   1   33.33%  K-mer dist pass 2\r",
      "00:00:00      1 MB(0%)  Iter   1  100.00%  K-mer dist pass 2\r\n",
      "00:00:00      1 MB(0%)  Iter   1  100.00%  Align node       \r",
      "00:00:00      2 MB(0%)  Iter   1  100.00%  Align node\r\n",
      "00:00:00      2 MB(0%)  Iter   1   50.00%  Root alignment\r",
      "00:00:00      2 MB(0%)  Iter   1  100.00%  Root alignment\r",
      "00:00:00      2 MB(0%)  Iter   1  100.00%  Root alignment\r\n",
      "\n",
      "MUSCLE v3.8.31 by Robert C. Edgar\n",
      "\n",
      "http://www.drive5.com/muscle\n",
      "This software is donated to the public domain.\n",
      "Please cite: Edgar, R.C. Nucleic Acids Res 32(5), 1792-97.\n",
      "\n",
      "pair_45 2 seqs, max length 347, avg  length 239\n",
      "00:00:00      1 MB(0%)  Iter   1   33.33%  K-mer dist pass 1\r",
      "00:00:00      1 MB(0%)  Iter   1  100.00%  K-mer dist pass 1\r\n",
      "00:00:00      1 MB(0%)  Iter   1   33.33%  K-mer dist pass 2\r",
      "00:00:00      1 MB(0%)  Iter   1  100.00%  K-mer dist pass 2\r\n",
      "00:00:00      1 MB(0%)  Iter   1  100.00%  Align node       \r",
      "00:00:00      2 MB(0%)  Iter   1  100.00%  Align node\r\n",
      "00:00:00      2 MB(0%)  Iter   1   50.00%  Root alignment\r",
      "00:00:00      2 MB(0%)  Iter   1  100.00%  Root alignment\r",
      "00:00:00      2 MB(0%)  Iter   1  100.00%  Root alignment\r\n",
      "\n",
      "MUSCLE v3.8.31 by Robert C. Edgar\n",
      "\n",
      "http://www.drive5.com/muscle\n",
      "This software is donated to the public domain.\n",
      "Please cite: Edgar, R.C. Nucleic Acids Res 32(5), 1792-97.\n",
      "\n",
      "pair_46 2 seqs, max length 347, avg  length 226\n",
      "00:00:00      1 MB(0%)  Iter   1   33.33%  K-mer dist pass 1\r",
      "00:00:00      1 MB(0%)  Iter   1  100.00%  K-mer dist pass 1\r\n",
      "00:00:00      1 MB(0%)  Iter   1   33.33%  K-mer dist pass 2\r",
      "00:00:00      1 MB(0%)  Iter   1  100.00%  K-mer dist pass 2\r\n",
      "00:00:00      1 MB(0%)  Iter   1  100.00%  Align node       \r",
      "00:00:00      2 MB(0%)  Iter   1  100.00%  Align node\r\n",
      "00:00:00      2 MB(0%)  Iter   1   50.00%  Root alignment\r",
      "00:00:00      2 MB(0%)  Iter   1  100.00%  Root alignment\r",
      "00:00:00      2 MB(0%)  Iter   1  100.00%  Root alignment\r\n",
      "\n",
      "MUSCLE v3.8.31 by Robert C. Edgar\n",
      "\n",
      "http://www.drive5.com/muscle\n",
      "This software is donated to the public domain.\n",
      "Please cite: Edgar, R.C. Nucleic Acids Res 32(5), 1792-97.\n",
      "\n",
      "pair_47 2 seqs, max length 347, avg  length 252\n",
      "00:00:00      1 MB(0%)  Iter   1   33.33%  K-mer dist pass 1\r",
      "00:00:00      1 MB(0%)  Iter   1  100.00%  K-mer dist pass 1\r\n",
      "00:00:00      1 MB(0%)  Iter   1   33.33%  K-mer dist pass 2\r",
      "00:00:00      1 MB(0%)  Iter   1  100.00%  K-mer dist pass 2\r\n",
      "00:00:00      1 MB(0%)  Iter   1  100.00%  Align node       \r",
      "00:00:00      2 MB(0%)  Iter   1  100.00%  Align node\r\n",
      "00:00:00      2 MB(0%)  Iter   1   50.00%  Root alignment\r",
      "00:00:00      2 MB(0%)  Iter   1  100.00%  Root alignment\r",
      "00:00:00      2 MB(0%)  Iter   1  100.00%  Root alignment\r\n",
      "\n",
      "MUSCLE v3.8.31 by Robert C. Edgar\n",
      "\n",
      "http://www.drive5.com/muscle\n",
      "This software is donated to the public domain.\n",
      "Please cite: Edgar, R.C. Nucleic Acids Res 32(5), 1792-97.\n",
      "\n",
      "pair_48 2 seqs, max length 347, avg  length 210\n",
      "00:00:00      1 MB(0%)  Iter   1   33.33%  K-mer dist pass 1\r",
      "00:00:00      1 MB(0%)  Iter   1  100.00%  K-mer dist pass 1\r\n",
      "00:00:00      1 MB(0%)  Iter   1   33.33%  K-mer dist pass 2\r",
      "00:00:00      1 MB(0%)  Iter   1  100.00%  K-mer dist pass 2\r\n",
      "00:00:00      1 MB(0%)  Iter   1  100.00%  Align node       \r",
      "00:00:00      2 MB(0%)  Iter   1  100.00%  Align node\r\n",
      "00:00:00      2 MB(0%)  Iter   1   50.00%  Root alignment\r",
      "00:00:00      2 MB(0%)  Iter   1  100.00%  Root alignment\r",
      "00:00:00      2 MB(0%)  Iter   1  100.00%  Root alignment\r\n",
      "\n",
      "MUSCLE v3.8.31 by Robert C. Edgar\n",
      "\n",
      "http://www.drive5.com/muscle\n",
      "This software is donated to the public domain.\n",
      "Please cite: Edgar, R.C. Nucleic Acids Res 32(5), 1792-97.\n",
      "\n",
      "pair_49 2 seqs, max length 347, avg  length 209\n",
      "00:00:00      1 MB(0%)  Iter   1   33.33%  K-mer dist pass 1\r",
      "00:00:00      1 MB(0%)  Iter   1  100.00%  K-mer dist pass 1\r\n",
      "00:00:00      1 MB(0%)  Iter   1   33.33%  K-mer dist pass 2\r",
      "00:00:00      1 MB(0%)  Iter   1  100.00%  K-mer dist pass 2\r\n",
      "00:00:00      1 MB(0%)  Iter   1  100.00%  Align node       \r",
      "00:00:00      2 MB(0%)  Iter   1  100.00%  Align node\r\n",
      "00:00:00      2 MB(0%)  Iter   1   50.00%  Root alignment\r",
      "00:00:00      2 MB(0%)  Iter   1  100.00%  Root alignment\r",
      "00:00:00      2 MB(0%)  Iter   1  100.00%  Root alignment\r\n",
      "\n",
      "MUSCLE v3.8.31 by Robert C. Edgar\n",
      "\n",
      "http://www.drive5.com/muscle\n",
      "This software is donated to the public domain.\n",
      "Please cite: Edgar, R.C. Nucleic Acids Res 32(5), 1792-97.\n",
      "\n",
      "pair_50 2 seqs, max length 347, avg  length 196\n",
      "00:00:00      1 MB(0%)  Iter   1   33.33%  K-mer dist pass 1\r",
      "00:00:00      1 MB(0%)  Iter   1  100.00%  K-mer dist pass 1\r\n",
      "00:00:00      1 MB(0%)  Iter   1   33.33%  K-mer dist pass 2\r",
      "00:00:00      1 MB(0%)  Iter   1  100.00%  K-mer dist pass 2\r\n",
      "00:00:00      1 MB(0%)  Iter   1  100.00%  Align node       \r",
      "00:00:00      2 MB(0%)  Iter   1  100.00%  Align node\r\n",
      "00:00:00      2 MB(0%)  Iter   1   50.00%  Root alignment\r",
      "00:00:00      2 MB(0%)  Iter   1  100.00%  Root alignment\r",
      "00:00:00      2 MB(0%)  Iter   1  100.00%  Root alignment\r\n"
     ]
    }
   ],
   "source": [
    "import subprocess\n",
    "out_filenames = []\n",
    "for fn in filenames:\n",
    "    out_fn = fn[:-6]+\"_out.afa\"\n",
    "    subprocess.run([\"./muscle3.8.31_i86darwin64\", \"-in\", fn, \"-out\", out_fn])\n",
    "    # subprocess.run([\"./muscle3.8.31_i86linux64\", \"-in\", fn, \"-out\", out_fn])\n",
    "    # subprocess.run([\"start\", \"muscle3.8.31_i86win32.exe\", \"-in\", fn, \"-out\", out_fn])\n",
    "    out_filenames.append(out_fn)\n",
    "print(len(out_filenames))"
   ]
  },
  {
   "cell_type": "markdown",
   "id": "e5576a1c",
   "metadata": {},
   "source": [
    "<b><font color='white' style='background-color:blue'>2.1.d</font></b> <font color='white' style='text-shadow: -1px 0 black, 0 1px black, 1px 0 black, 0 -1px black;'>C</font> Ce qui nous intéresse est de comparer les séquences pour voir si elles sont similaires ou pas. Maintenant qu'elles sont alignées, on peut calculer leur _identité de séquence_ ou _seqid_ : \n",
    "$$\\mathrm{seqid} = \\frac{\\mathrm{lettres identiques}}{\\mathrm{taille\\ de\\ l'alignement}}$$\n",
    "\n",
    "Crééz une fonction `seqid` qui prend deux `str` de la même taille nommées `seq1` et `seq2` et rend un `float` correspondant à leur identité de séquence.\n",
    "\n",
    "Exemple (transformez-les dans des àssert`):\n",
    "\n",
    "```python\n",
    "seqid(\"AATTT\", \"AATTT\")  # doit rendre 1.0\n",
    "seqid(\"AATTT\", \"CCAAA\")  # doit rendre 0.0\n",
    "seqid(\"AATTT\", \"CC---\")  # doit rendre 0.0\n",
    "seqid(\"AATTT\", \"CA---\")  # doit rendre 0.2\n",
    "seqid(\"AATTT\", \"CCT-T\")  # doit rendre 0.4\n",
    "```"
   ]
  },
  {
   "cell_type": "code",
   "execution_count": null,
   "id": "6c319bbe",
   "metadata": {},
   "outputs": [],
   "source": [
    "def seqid(seq1, seq2):\n",
    "    hit = 0\n",
    "    for i in range(len(seq1)):\n",
    "        if seq1[i] == seq2[i]:\n",
    "            hit = hit + 1\n",
    "    return hit/len(seq1)"
   ]
  },
  {
   "cell_type": "code",
   "execution_count": null,
   "id": "68724c18",
   "metadata": {},
   "outputs": [],
   "source": [
    "assert seqid(\"AATTT\", \"AATTT\") == 1.0\n",
    "assert seqid(\"AATTT\", \"CCAAA\") == 0.0\n",
    "assert seqid(\"AATTT\", \"CC---\") == 0.0\n",
    "assert seqid(\"AATTT\", \"CA---\") == 0.2\n",
    "assert seqid(\"AATTT\", \"CCT-T\") == 0.4"
   ]
  },
  {
   "cell_type": "markdown",
   "id": "0c3811c4",
   "metadata": {},
   "source": [
    "<b><font color='white' style='background-color:blue'>2.1.e</font></b> <font color='white' style='text-shadow: -1px 0 black, 0 1px black, 1px 0 black, 0 -1px black;'>C</font> Maintenant il faut récueillir les données et utiliser la fonction. Crééz du code qui vous permet de lire les lignes de chaque fichier de sortie, utilise la fonction et garde les résultats dans une liste `SI`"
   ]
  },
  {
   "cell_type": "code",
   "execution_count": null,
   "id": "37c81aa2",
   "metadata": {},
   "outputs": [],
   "source": [
    "SI = []\n",
    "for fn in out_filenames:\n",
    "    f = open(fn)\n",
    "    lines = f.readlines()\n",
    "    seqs = [\"\", \"\"]\n",
    "    i = -1\n",
    "    for line in lines:\n",
    "        if line[0] == \">\":\n",
    "            i = i + 1\n",
    "        else:\n",
    "            seqs[i] = seqs[i] + line.strip()\n",
    "    SI.append(seqid(seqs[0], seqs[1]))\n",
    "    f.close()"
   ]
  },
  {
   "cell_type": "markdown",
   "id": "8320006b",
   "metadata": {},
   "source": [
    "<b><font color='white' style='background-color:blue'>2.1.f</font></b> <font color='white' style='text-shadow: -1px 0 black, 0 1px black, 1px 0 black, 0 -1px black;'>C</font> Analysons les données récueillies : d'abord, tracez un graphique des valeurs obtenues, triées du plus bas au plus haut (il y a une fonction prédéfinie pour ça). Qu'est-ce que vous remarquez ?"
   ]
  },
  {
   "cell_type": "code",
   "execution_count": null,
   "id": "c8bbb05b",
   "metadata": {},
   "outputs": [],
   "source": [
    "import matplotlib.pyplot as plt\n",
    "\n",
    "fig, ax = plt.subplots()\n",
    "ax.plot(sorted(SI))\n",
    "ax.set_ylabel(\"Identité de séquence\")\n",
    "plt.show()"
   ]
  },
  {
   "cell_type": "markdown",
   "id": "f6406f28",
   "metadata": {},
   "source": [
    "Il y a un groupe de séquences qui ressemblent beaucoup le query."
   ]
  },
  {
   "cell_type": "markdown",
   "id": "0406c1c7",
   "metadata": {},
   "source": [
    "<b><font color='white' style='background-color:blue'>2.1.g</font></b> <font color='white' style='text-shadow: -1px 0 black, 0 1px black, 1px 0 black, 0 -1px black;'>C</font> On peut visualiser ces données d'une autre façon : créez un histogramme avec ces données."
   ]
  },
  {
   "cell_type": "code",
   "execution_count": null,
   "id": "4a925dc3",
   "metadata": {},
   "outputs": [],
   "source": [
    "fig, ax = plt.subplots()\n",
    "ax.hist(SI)\n",
    "ax.set_xlabel(\"Identité de séquence\")\n",
    "plt.show()"
   ]
  },
  {
   "cell_type": "markdown",
   "id": "77ffd56e",
   "metadata": {},
   "source": [
    "<b><font color='white' style='background-color:blue'>2.1.h</font></b> <font color='white' style='text-shadow: -1px 0 black, 0 1px black, 1px 0 black, 0 -1px black;'>C</font> Est-ce que les deux graphiques vous semblent cohérents ? Pourquoi ? Affichez-les un à côté de l'autre."
   ]
  },
  {
   "cell_type": "markdown",
   "id": "0cbefa76",
   "metadata": {},
   "source": [
    "Oui : les deux colonnes les plus hautes de l'histogramme correspondent aux valeurs les plus présentes dans l'autre graphique"
   ]
  },
  {
   "cell_type": "code",
   "execution_count": null,
   "id": "7351e012",
   "metadata": {},
   "outputs": [],
   "source": [
    "fig, axes = plt.subplots(1,2)\n",
    "axes[0].plot(SI)\n",
    "axes[1].hist(SI)\n",
    "plt.show()"
   ]
  }
 ],
 "metadata": {
  "kernelspec": {
   "display_name": "Python 3 (ipykernel)",
   "language": "python",
   "name": "python3"
  },
  "language_info": {
   "codemirror_mode": {
    "name": "ipython",
    "version": 3
   },
   "file_extension": ".py",
   "mimetype": "text/x-python",
   "name": "python",
   "nbconvert_exporter": "python",
   "pygments_lexer": "ipython3",
   "version": "3.11.6"
  }
 },
 "nbformat": 4,
 "nbformat_minor": 5
}
