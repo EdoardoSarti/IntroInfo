{
 "cells": [
  {
   "cell_type": "markdown",
   "id": "437a11d0",
   "metadata": {},
   "source": [
    "<h1><center>SPEV311 — Introduction à l'Informatique — TP 09</center><br>\n",
    "<center>Classes, Noms</center></h1>"
   ]
  },
  {
   "cell_type": "markdown",
   "id": "c3a9453e",
   "metadata": {},
   "source": [
    "<h3>Auto-évaluation</h3>\n",
    "\n",
    "<div> Les exercices se divisent en trois niveaux d'auto-évaluation:\n",
    "<ul>\n",
    "    <li><h3><font color='white' style='background-color:orange'>Fondamentaux</font></h3> Pour réviser les notions apprises en cours. Il faut tous les savoir résoudre pour avoir la moyenne.</li>\n",
    "    <li><h3><font color='white' style='background-color:green'>Intermédiaires</font></h3> Pour vous aider à raisonner et rentrer au coeur des sujets. Si vous saurez tous les résoudre, vous aurez un bon niveau de préparation !</li>\n",
    "    <li><h3><font color='white' style='background-color:blue'>Avancés</font></h3> Défis pour vous entraîner à l'examen final... et aller plus loin !</li>\n",
    "</ul>\n",
    "</div>"
   ]
  },
  {
   "cell_type": "markdown",
   "id": "21788571",
   "metadata": {},
   "source": [
    "Les exercices avec un <font color='white' style='text-shadow: -1px 0 black, 0 1px black, 1px 0 black, 0 -1px black;'>C</font> sont corrigés : vous trouverez un notebook avec la correction de ces exercices dans le même dossier où vous avez trouvé celui-ci."
   ]
  },
  {
   "cell_type": "markdown",
   "id": "c1b5b9b0",
   "metadata": {},
   "source": [
    "### <font color='black'>Table des matières<font><a class='anchor' id='top'></a>\n",
    "1. [Classes](#classes)<br>\n",
    "    1.1 [Premiers pas avec les classes](#classes1)<br>\n",
    "    1.2 [Un autre exemple de classe](#classes2)<br>\n",
    "    1.3 [Pourquoi utiliser les classes ?](#classes3)<br>\n",
    "2. [Noms](#noms)<br>\n",
    "    2.1 [Copie de structures mutables](#noms1)<br>\n",
    "    2.2 [Opérateur is et fonction id](#noms2)<br>"
   ]
  },
  {
   "cell_type": "markdown",
   "id": "45201be3",
   "metadata": {},
   "source": [
    "<h3>1. Classes</h3><a class='anchor' id='classes1'></a>"
   ]
  },
  {
   "cell_type": "markdown",
   "id": "12214b6d",
   "metadata": {},
   "source": [
    "<b><font color='white' style='background-color:black'>Ex. 1.1</font> Premiers pas avec les classes</b><a class='anchor' id='classes1'></a><br>\n",
    "\n",
    "Cet exercice est une révision de ce qu'on a vu en cours à propos des classes.<br> \n",
    "\n",
    "<b><font color='white' style='background-color:orange'>1.1.a</font></b> <font color='white' style='text-shadow: -1px 0 black, 0 1px black, 1px 0 black, 0 -1px black;'>C</font> Créez une classe `Triangle` avec les attributs `a`, `b`, `c` contenant les longueurs de ses trois côtés. Pour l'instant, la seule méthode présente sera `__init__`, qui définira les attributs.\n",
    "Ensuite, créez un objet triangle et en affichez l'attribut `b`."
   ]
  },
  {
   "cell_type": "code",
   "execution_count": null,
   "id": "ae8755b9",
   "metadata": {},
   "outputs": [],
   "source": [
    "class Triangle:\n",
    "    def __init__(self, cote_1, cote_2, cote_3):\n",
    "        self.a = cote_1\n",
    "        self.b = cote_2\n",
    "        self.c = cote_3"
   ]
  },
  {
   "cell_type": "code",
   "execution_count": null,
   "id": "7f32acb4",
   "metadata": {},
   "outputs": [],
   "source": [
    "t = Triangle(30, 40, 50)\n",
    "print(t.b)"
   ]
  },
  {
   "cell_type": "markdown",
   "id": "3267f39e",
   "metadata": {},
   "source": [
    "<b><font color='white' style='background-color:orange'>1.1.b</font></b> Rajoutez une méthode `perimetre` qui en calcule le perimetre. Ensuite, créez un objet triangle et appelez cette méthode"
   ]
  },
  {
   "cell_type": "code",
   "execution_count": null,
   "id": "65faec88",
   "metadata": {},
   "outputs": [],
   "source": []
  },
  {
   "cell_type": "code",
   "execution_count": null,
   "id": "9cc14855",
   "metadata": {},
   "outputs": [],
   "source": []
  },
  {
   "cell_type": "markdown",
   "id": "0a3ae970",
   "metadata": {},
   "source": [
    "<b><font color='white' style='background-color:green'>1.1.c</font></b> <font color='white' style='text-shadow: -1px 0 black, 0 1px black, 1px 0 black, 0 -1px black;'>C</font> Il est possible de calculer l'aire d'un triangle quelconque à partir de ses trois côtés. C'est la formule d'Héron :\n",
    "\n",
    "$$A = \\sqrt{s(s−a)(s−b)(s−c)}$$\n",
    "\n",
    "où $s$ est le sémipérimètre (la moitié du périmètre) et $a$, $b$, $c$ les longueurs des côtés.\n",
    "\n",
    "Rajoutez à votre classe une méthode `aire` qui en calcule l'aire. Ensuite, créez un objet triangle et appelez cette méthode"
   ]
  },
  {
   "cell_type": "code",
   "execution_count": null,
   "id": "6252ce69",
   "metadata": {},
   "outputs": [],
   "source": [
    "class Triangle:\n",
    "    def __init__(self, a, b, c):\n",
    "        self.a = a\n",
    "        self.b = b\n",
    "        self.c = c\n",
    "        \n",
    "    def perimetre(self):\n",
    "        return self.a + self.b + self.c\n",
    "    \n",
    "    def aire(self):\n",
    "        s = self.perimetre()/2\n",
    "        return (s*(s-self.a)*(s-self.b)*(s-self.c))**0.5"
   ]
  },
  {
   "cell_type": "code",
   "execution_count": null,
   "id": "dcbac227",
   "metadata": {},
   "outputs": [],
   "source": [
    "t = Triangle(30, 40, 50)\n",
    "print(t.aire())"
   ]
  },
  {
   "cell_type": "markdown",
   "id": "70ccf162",
   "metadata": {},
   "source": [
    "<b><font color='white' style='background-color:green'>1.1.d</font></b> La classe qu'on a défini manque de quelques contrôles. En effet, pas tous les triplets de longueurs de côtés définissent un triangle : prenez par exemple les longueurs 1, 2, 13 et vous verrez que vous ne réussirez pas à former un triangle.\n",
    "\n",
    "Formellement, il faut que les côtés respectent l'**inégalité triangulaire : chaque côté doit être inférieur ou égal à la somme des deux autres.**.\n",
    "\n",
    "Dans `__init__`, imposez vérifiez si les trois côtés respectent l'inégalité triangulaire. S'ils ne le font pas, affichez un message et interrompez l'exécution avec l'instruction `raise BaseException(\"Erreur ! Ces côtés ne forment pas un triangle\")`. Testez avec un triangle bien formé et un triangle impossible"
   ]
  },
  {
   "cell_type": "code",
   "execution_count": null,
   "id": "ba774980",
   "metadata": {},
   "outputs": [],
   "source": []
  },
  {
   "cell_type": "code",
   "execution_count": null,
   "id": "a48c2b7a",
   "metadata": {},
   "outputs": [],
   "source": []
  },
  {
   "cell_type": "markdown",
   "id": "c27e45f6",
   "metadata": {},
   "source": [
    "<b><font color='white' style='background-color:green'>1.1.e</font></b> <font color='white' style='text-shadow: -1px 0 black, 0 1px black, 1px 0 black, 0 -1px black;'>C</font> Maintenant définissez une classe `TriangleIsocele` qui hérite de la classe `Triangle`.\n",
    "La seule chose à réféfinir est `__init__` : en effet, la fonction doit maintenant prendre en premier paramètre la longueur des deux côtés égaux, et en deuxième la longueur du troisième côté. Ensuite, créez un objet triangle isocèle et calculez-en le périmètre et l'aire"
   ]
  },
  {
   "cell_type": "code",
   "execution_count": null,
   "id": "113facb5",
   "metadata": {},
   "outputs": [],
   "source": [
    "class TriangleIsocele(Triangle):\n",
    "    def __init__(self, a, b):\n",
    "        if not b <= 2*a:\n",
    "            raise BaseException(\"Erreur ! Ces côtés ne forment pas un triangle\")\n",
    "        self.a = a\n",
    "        self.b = a\n",
    "        self.c = b"
   ]
  },
  {
   "cell_type": "code",
   "execution_count": null,
   "id": "0ae6a00b",
   "metadata": {},
   "outputs": [],
   "source": [
    "ti = TriangleIsocele(10, 12)\n",
    "print(ti.perimetre(), ti.aire())"
   ]
  },
  {
   "cell_type": "markdown",
   "id": "c087b70d",
   "metadata": {},
   "source": [
    "<b><font color='white' style='background-color:blue'>1.1.f</font></b> <font color='white' style='text-shadow: -1px 0 black, 0 1px black, 1px 0 black, 0 -1px black;'>C</font> En `1.1.e`, au lieu que reécrire `__init__`, on aurait pu appeler la fonction `__init__` de la classe `Triangle` avec les bons paramètres.\n",
    "Cet appel se fait de la façon suivante :\n",
    "\n",
    "```python\n",
    "super().__init__(...)\n",
    "```\n",
    "\n",
    "En effets, `super()` récupère la classe parent de la classe actuelle.\n",
    "Redefinissez `TriangleIsocele` de cette façon (en 3 lignes de code !) et testez-le."
   ]
  },
  {
   "cell_type": "code",
   "execution_count": null,
   "id": "53547fa7",
   "metadata": {},
   "outputs": [],
   "source": [
    "class TriangleIsocele(Triangle):\n",
    "    def __init__(self, a, b):\n",
    "        super().__init__(a, a, b)"
   ]
  },
  {
   "cell_type": "code",
   "execution_count": null,
   "id": "4412a082",
   "metadata": {},
   "outputs": [],
   "source": [
    "ti = TriangleIsocele(10, 12)\n",
    "print(ti.perimetre(), ti.aire())"
   ]
  },
  {
   "cell_type": "markdown",
   "id": "639d5c6f",
   "metadata": {},
   "source": [
    "<b><font color='white' style='background-color:green'>1.1.g</font></b> Définissez une classe `TriangleRectangle` qui hérite de la classe `Triangle`.\n",
    "La seule chose à réféfinir est `__init__` : en effet, la fonction doit maintenant prendre en premier paramètre la longueur des deux cathètes, et doit calculer la longueur de l'hypoténuse avec le théorème de Pythagore. (A-t-on encore besoin de contrôler les longueurs des trois côtés ?). Testez en créant un objet et en calculant périmètre et aire. "
   ]
  },
  {
   "cell_type": "code",
   "execution_count": null,
   "id": "024a70d6",
   "metadata": {},
   "outputs": [],
   "source": []
  },
  {
   "cell_type": "code",
   "execution_count": null,
   "id": "b5d1584f",
   "metadata": {},
   "outputs": [],
   "source": []
  },
  {
   "cell_type": "markdown",
   "id": "513a157c",
   "metadata": {},
   "source": [
    "<b><font color='white' style='background-color:green'>1.1.h</font></b> <font color='white' style='text-shadow: -1px 0 black, 0 1px black, 1px 0 black, 0 -1px black;'>C</font> Pour les triangles rectangles on a une façon bien plus simple pour calculer l'aire : produit des cathètes divisé par 2. Redéfinissez ainsi la méthode `aire` et testez"
   ]
  },
  {
   "cell_type": "code",
   "execution_count": null,
   "id": "e7a2059a",
   "metadata": {},
   "outputs": [],
   "source": [
    "class TriangleRectangle(Triangle):\n",
    "    def __init__(self, a, b):\n",
    "        self.a = a\n",
    "        self.b = b\n",
    "        self.c = (a**2 + b**2)**0.5\n",
    "        \n",
    "    def aire(self):\n",
    "        return self.a*self.b/2"
   ]
  },
  {
   "cell_type": "code",
   "execution_count": null,
   "id": "9042606d",
   "metadata": {},
   "outputs": [],
   "source": [
    "tr = TriangleRectangle(3,4)\n",
    "print(tr.perimetre(), tr.aire())"
   ]
  },
  {
   "cell_type": "markdown",
   "id": "4ddcc7e7",
   "metadata": {},
   "source": [
    "<b><font color='white' style='background-color:black'>Ex. 1.2</font> Un autre exemple de classe</b><a class='anchor' id='classes2'></a><br>"
   ]
  },
  {
   "cell_type": "markdown",
   "id": "67a3a8b6",
   "metadata": {},
   "source": [
    "<b><font color='white' style='background-color:orange'>1.2.a</font></b> Créez une classe `Etudiant` avec les attributs `nom`, `prenom`, `notes` initialisés respectivement avec le nom de famille et prénom de l'étudiant (pris par `__init__` et une liste vide. \n",
    "Ensuite, créez un objet étudiant ayant pour nom `Wilson` et pour prénom `Wade`, et affichez l'attribut `nom`."
   ]
  },
  {
   "cell_type": "code",
   "execution_count": null,
   "id": "0ea0c5c2",
   "metadata": {},
   "outputs": [],
   "source": []
  },
  {
   "cell_type": "code",
   "execution_count": null,
   "id": "fde7757c",
   "metadata": {},
   "outputs": [],
   "source": []
  },
  {
   "cell_type": "markdown",
   "id": "bf0a4719",
   "metadata": {},
   "source": [
    "<b><font color='white' style='background-color:orange'>1.2.b</font></b> <font color='white' style='text-shadow: -1px 0 black, 0 1px black, 1px 0 black, 0 -1px black;'>C</font> Dans la classe `Etudiant`, créez une méthode `ajout_note` qui prend en paramètre une nouvelle note et la rajoute à la liste de notes de l'attribut `notes`. Ensuite rajoutez les notes de la liste suivante au carnet de Wade Wilson."
   ]
  },
  {
   "cell_type": "code",
   "execution_count": null,
   "id": "55abada2",
   "metadata": {},
   "outputs": [],
   "source": [
    "# Ne pas modifier !\n",
    "Wade_Wilson_notes = [8, 13, 10.5, 19, 9.5, 14]"
   ]
  },
  {
   "cell_type": "code",
   "execution_count": null,
   "id": "52e0176b",
   "metadata": {},
   "outputs": [],
   "source": [
    "class Etudiant:\n",
    "    def __init__(self, n, p):\n",
    "        self.nom = n\n",
    "        self.prenom = p\n",
    "        self.notes = []\n",
    "        \n",
    "    def ajout_note(self, n):\n",
    "        self.notes.append(n)"
   ]
  },
  {
   "cell_type": "code",
   "execution_count": null,
   "id": "df9ab9be",
   "metadata": {},
   "outputs": [],
   "source": [
    "e = Etudiant(\"Wilson\", \"Wade\")\n",
    "for n in Wade_Wilson_notes:\n",
    "    e.ajout_note(n)\n",
    "\n",
    "e.notes"
   ]
  },
  {
   "cell_type": "markdown",
   "id": "0f65b2b3",
   "metadata": {},
   "source": [
    "<b><font color='white' style='background-color:green'>1.2.c</font></b> Dans la classe `Etudiant`, créez une méthode `moyenne` qui renvoie la moyenne des notes. Ensuite définissez encore un objet qui représente Wade Wilson, rajoutez-y ses notes (exo `1.2.b`) et utilisez la méthode `moyenne`."
   ]
  },
  {
   "cell_type": "code",
   "execution_count": null,
   "id": "bf23def4",
   "metadata": {},
   "outputs": [],
   "source": []
  },
  {
   "cell_type": "code",
   "execution_count": null,
   "id": "97e8496b",
   "metadata": {},
   "outputs": [],
   "source": []
  },
  {
   "cell_type": "markdown",
   "id": "7a43f71a",
   "metadata": {},
   "source": [
    "<b><font color='white' style='background-color:green'>1.2.d</font></b> <font color='white' style='text-shadow: -1px 0 black, 0 1px black, 1px 0 black, 0 -1px black;'>C</font> Dans la classe `Etudiant`, créez une méthode `max_note`  et une méthode `min_note` qui renvoient respectivement la note la plus haute et la plus basse. Ensuite définissez encore un objet qui représente Wade Wilson, rajoutez-y ses notes (exo `1.2.b`) et utilisez les deux méthodes pour calculer l'écart maximale des notes de l'étudiant."
   ]
  },
  {
   "cell_type": "code",
   "execution_count": null,
   "id": "e3de684e",
   "metadata": {},
   "outputs": [],
   "source": [
    "class Etudiant:\n",
    "    def __init__(self, n, p):\n",
    "        self.nom = n\n",
    "        self.prenom = p\n",
    "        self.notes = []\n",
    "        \n",
    "    def ajout_note(self, n):\n",
    "        self.notes.append(n)\n",
    "        \n",
    "    def moyenne(self):\n",
    "        m = 0\n",
    "        if not self.notes:\n",
    "            return 0\n",
    "        for n in self.notes:\n",
    "            m = m + n\n",
    "        return m / len(self.notes)\n",
    "    \n",
    "    def max_note(self):\n",
    "        return max(self.notes)\n",
    "    \n",
    "    def min_note(self):\n",
    "        return min(self.notes)"
   ]
  },
  {
   "cell_type": "code",
   "execution_count": null,
   "id": "369e9b7c",
   "metadata": {},
   "outputs": [],
   "source": [
    "e = Etudiant(\"Wilson\", \"Wade\")\n",
    "for n in Wade_Wilson_notes:\n",
    "    e.ajout_note(n)\n",
    "e.max_note() - e.min_note()"
   ]
  },
  {
   "cell_type": "markdown",
   "id": "b75bf044",
   "metadata": {},
   "source": [
    "<b><font color='white' style='background-color:green'>1.2.e</font></b> Créez les classes `EtudiantLicence` et `EtudiantMaster` qui héritent depuis la classe `Etudiant`. Héritez tous les attributs (regardez la documentation !) et rajoutez l'attribut `promotion` à la première et `EUR` à la deuxième. Ces nouveaux attributs devront être assignés par l'initialisateur (et l'exemple devra donc marcher)."
   ]
  },
  {
   "cell_type": "code",
   "execution_count": null,
   "id": "34084cf9",
   "metadata": {},
   "outputs": [],
   "source": []
  },
  {
   "cell_type": "code",
   "execution_count": null,
   "id": "89236902",
   "metadata": {},
   "outputs": [],
   "source": []
  },
  {
   "cell_type": "markdown",
   "id": "1ae51313",
   "metadata": {},
   "source": [
    "<b><font color='white' style='background-color:blue'>1.2.f</font></b> <font color='white' style='text-shadow: -1px 0 black, 0 1px black, 1px 0 black, 0 -1px black;'>C</font> Créez la classe `Promotion` avec les attributs et méthodes suivants :\n",
    "1. Attributs :\n",
    "  - `intitulé` (`str`) : intitulé de la promotion\n",
    "  - `étudiants` (`list`) : liste d'objets Etudiant\n",
    "2. Méthodes :\n",
    "  - `ajout_étudiant` : rajoute un objet Etudiant à la liste `étudiants`\n",
    "  - `meilleure_moyenne` : calcule la meilleure moyenne de notes par rapport à la liste `étudiants`"
   ]
  },
  {
   "cell_type": "code",
   "execution_count": null,
   "id": "fdc1a81b",
   "metadata": {},
   "outputs": [],
   "source": [
    "class Promotion:\n",
    "    def __init__(self, e):\n",
    "        self.intitulé = e\n",
    "        self.étudiants = []\n",
    "    \n",
    "    def ajout_étudiant(self, e):\n",
    "        self.étudiants.append(e)\n",
    "        \n",
    "    def meilleure_moyenne(self):\n",
    "        M = 0\n",
    "        nomM = None\n",
    "        for e in self.étudiants:\n",
    "            if e.moyenne() > M:\n",
    "                M = e.moyenne()\n",
    "                nomM = e.nom\n",
    "        return M, nomM"
   ]
  },
  {
   "cell_type": "code",
   "execution_count": null,
   "id": "5272294b",
   "metadata": {},
   "outputs": [],
   "source": [
    "# Ne pas modifier !\n",
    "\n",
    "from random import randint\n",
    "\n",
    "d_promo = {\n",
    "    \"Wilson\" : Etudiant(\"Wilson\", \"Wade\"),\n",
    "    \"Kent\" : Etudiant(\"Kent\", \"Clark\"),\n",
    "    \"Parker\" : Etudiant(\"Parker\", \"Peter\"),\n",
    "    \"Wayne\" : Etudiant(\"Wayne\", \"Bruce\")\n",
    "}\n",
    "\n",
    "for k in d_promo:\n",
    "    d_promo[k].notes = [randint(1,20) for i in range(4)]"
   ]
  },
  {
   "cell_type": "code",
   "execution_count": null,
   "id": "458cb26d",
   "metadata": {},
   "outputs": [],
   "source": [
    "promo = Promotion(\"Biologie\")\n",
    "for k in d_promo:\n",
    "    promo.ajout_étudiant(d_promo[k])\n",
    "    \n",
    "promo.meilleure_moyenne()"
   ]
  },
  {
   "cell_type": "markdown",
   "id": "e22835c2",
   "metadata": {},
   "source": [
    "<b><font color='white' style='background-color:black'>Ex. 1.3</font> Pourquoi utiliser les classes ?</b><a class='anchor' id='classes3'></a><br>\n",
    "\n",
    "<b><font color='white' style='background-color:orange'>1.3.a</font></b> <font color='white' style='text-shadow: -1px 0 black, 0 1px black, 1px 0 black, 0 -1px black;'>C</font> On a un dictionnaire contenant des informations sur un groupe de clients d'un service d'achats en ligne. Les clés du dictionnaire sont des noms d'utilisateur, les valeurs sont des listes de données, toujours dans le même ordre : prénom, nom de famille, courriel, nombre d'achats, dépense totale. Créez une fonction `total_commerces` qui prend ce dictionnaire et renvoie le grand total dépensé sur le site par tous les utilisateurs."
   ]
  },
  {
   "cell_type": "code",
   "execution_count": null,
   "id": "cc897594",
   "metadata": {},
   "outputs": [],
   "source": [
    "# Ne pas modifier !\n",
    "data = {\n",
    "    \"fishy88\" : [\"Henri\", \"Dubois\", 3, 53.18, \"h.dubois@hotmail.fr\"],\n",
    "    \"peaudelours\" : [\"Gérard\", \"Pignol\", 0, 0.00, \"gerry.peaudelours@gmail.com\"],\n",
    "    \"MrD\" : [\"Daniel\", \"Beauregard\", 13, 295.40, \"regardebien@protonmail.com\"],\n",
    "    \"etoilette\" : [\"Giselle\", \"Chevron\", 4, 45.67, \"giselle.chevron@gmail.com\"],\n",
    "    \"kalista\" : [\"Kalista\", \"Carrière\", 6, 217.80, \"kalistacarriere@givenchy.fr\"],\n",
    "    \"patate\" : [\"Guillaume\", \"Ledoux\", 5, 134.88, \"ledouxguillaume@yahoomail.fr\"],\n",
    "    \"forthelolz\" : [\"Napoléon\", \"Bonaparte\", 0, 0.00, \"empereur@elba.it\"],\n",
    "    \"clindoeil\" : [\"Krista\", \"Larzikan\", 7, 199.72, \"lamagiedunreve@hotmail.fr\"],\n",
    "    \"salpetre\" : [\"Marc\", \"Crodon\", 4, 46.90, \"marc.crodon@inserm.fr\"]\n",
    "}"
   ]
  },
  {
   "cell_type": "code",
   "execution_count": null,
   "id": "79856755",
   "metadata": {},
   "outputs": [],
   "source": [
    "def total_commerces(d):\n",
    "    res = 0\n",
    "    for k in d:\n",
    "        res = res + d[k][3]\n",
    "    return res"
   ]
  },
  {
   "cell_type": "code",
   "execution_count": null,
   "id": "0df232be",
   "metadata": {},
   "outputs": [],
   "source": [
    "total_commerces(data)"
   ]
  },
  {
   "cell_type": "markdown",
   "id": "76169729",
   "metadata": {},
   "source": [
    "<b><font color='white' style='background-color:orange'>1.3.b</font></b> <font color='white' style='text-shadow: -1px 0 black, 0 1px black, 1px 0 black, 0 -1px black;'>C</font> Créez une fonction `moyenne_achats` qui prend le dictionnaire défini en haut et renvoie la moyenne d'achats par utilisateur"
   ]
  },
  {
   "cell_type": "code",
   "execution_count": null,
   "id": "79bd4e10",
   "metadata": {},
   "outputs": [],
   "source": [
    "def moyenne_achats(d):\n",
    "    a = 0\n",
    "    for k in d:\n",
    "        a = a + d[k][2]\n",
    "    return a/len(d)"
   ]
  },
  {
   "cell_type": "code",
   "execution_count": null,
   "id": "6f6af2f9",
   "metadata": {},
   "outputs": [],
   "source": [
    "moyenne_achats(data)"
   ]
  },
  {
   "cell_type": "markdown",
   "id": "a3d73a51",
   "metadata": {},
   "source": [
    "<b><font color='white' style='background-color:orange'>1.3.c</font></b> <font color='white' style='text-shadow: -1px 0 black, 0 1px black, 1px 0 black, 0 -1px black;'>C</font> Créez une fonction `depense_moyenne_achat` qui prend le dictionnaire défini en haut et renvoie la dépense moyenne pour un achat sur la plateforme"
   ]
  },
  {
   "cell_type": "code",
   "execution_count": null,
   "id": "a7ddf785",
   "metadata": {},
   "outputs": [],
   "source": [
    "def depense_moyenne_achat(d):\n",
    "    a = 0\n",
    "    for k in d:\n",
    "        a = a + d[k][2]\n",
    "    return total_commerces(d)/a"
   ]
  },
  {
   "cell_type": "code",
   "execution_count": null,
   "id": "2f60bcf6",
   "metadata": {},
   "outputs": [],
   "source": [
    "depense_moyenne_achat(data)"
   ]
  },
  {
   "cell_type": "markdown",
   "id": "1af20dd2",
   "metadata": {},
   "source": [
    "<b><font color='white' style='background-color:green'>1.3.d</font></b> <font color='white' style='text-shadow: -1px 0 black, 0 1px black, 1px 0 black, 0 -1px black;'>C</font> Créez une fonction `min_depense_par_achat` qui prend le dictionnaire défini en haut et renvoie les données de l'utilisateur qui a le meilleur (plus petit) rapport montant dépensé / nombre d'achats"
   ]
  },
  {
   "cell_type": "code",
   "execution_count": null,
   "id": "ecdd0dc5",
   "metadata": {},
   "outputs": [],
   "source": [
    "def min_depense_par_achat(d):\n",
    "    données = None\n",
    "    m = 10000\n",
    "    for k in d:\n",
    "        if d[k][2] != 0 and d[k][3] / d[k][2] < m:\n",
    "            m = d[k][3] / d[k][2]\n",
    "            données = d[k]\n",
    "    return données"
   ]
  },
  {
   "cell_type": "code",
   "execution_count": null,
   "id": "9276220b",
   "metadata": {},
   "outputs": [],
   "source": [
    "min_depense_par_achat(data)"
   ]
  },
  {
   "cell_type": "markdown",
   "id": "b7eff646",
   "metadata": {},
   "source": [
    "<b><font color='white' style='background-color:orange'>1.3.e</font></b> <font color='white' style='text-shadow: -1px 0 black, 0 1px black, 1px 0 black, 0 -1px black;'>C</font> Suite à une mise à jour du site, la base de données contenant les informations sur les utilisateurs et leurs achats a changé. Maintenant, entre les données \"nom de famille\" et \"nombre d'achats\", il y a une nouvelle case \"pays d'origine\".\n",
    "Appelez toutes les fonctions que vous avez écrites en donnant en entrée le nouveau dictionnaire : que remarquez-vous ?"
   ]
  },
  {
   "cell_type": "code",
   "execution_count": null,
   "id": "ec4afff4",
   "metadata": {},
   "outputs": [],
   "source": [
    "# Ne pas modifier !\n",
    "data2 = {\n",
    "    \"fishy88\" : [\"Henri\", \"Dubois\", \"France\", 3, 53.18, \"h.dubois@hotmail.fr\"],\n",
    "    \"peaudelours\" : [\"Gérard\", \"Pignol\", \"France\", 0, 0.00, \"gerry.peaudelours@gmail.com\"],\n",
    "    \"MrD\" : [\"Daniel\", \"Beauregard\", \"Belgique\", 13, 295.40, \"regardebien@protonmail.com\"],\n",
    "    \"etoilette\" : [\"Giselle\", \"Chevron\", \"USA\", 4, 45.67, \"giselle.chevron@gmail.com\"],\n",
    "    \"kalista\" : [\"Kalista\", \"Carrière\", \"France\", 6, 217.80, \"kalistacarriere@givenchy.fr\"],\n",
    "    \"patate\" : [\"Guillaume\", \"Ledoux\", \"Canada\", 5, 134.88, \"ledouxguillaume@yahoomail.fr\"],\n",
    "    \"forthelolz\" : [\"Napoléon\", \"Bonaparte\", \"Italie\", 0, 0.00, \"empereur@elba.it\"],\n",
    "    \"clindoeil\" : [\"Krista\", \"Larzikan\", \"Hongrie\", 7, 199.72, \"lamagiedunreve@hotmail.fr\"],\n",
    "    \"salpetre\" : [\"Marc\", \"Crodon\", \"Suisse\", 4, 46.90, \"marc.crodon@inserm.fr\"]\n",
    "}"
   ]
  },
  {
   "cell_type": "code",
   "execution_count": null,
   "id": "bbe62de2",
   "metadata": {},
   "outputs": [],
   "source": [
    "total_commerces(data2)\n",
    "moyenne_achats(data2)\n",
    "depense_moyenne_achat(data2)\n",
    "min_depense_par_achat(data2)"
   ]
  },
  {
   "cell_type": "markdown",
   "id": "be98848b",
   "metadata": {},
   "source": [
    "**Les données auxquelles on veut accéder ne sont plus aux mêmes indices, donc les fonctions ne marchent plus**"
   ]
  },
  {
   "cell_type": "markdown",
   "id": "b5a8c44d",
   "metadata": {},
   "source": [
    "<b><font color='white' style='background-color:green'>1.3.f</font></b> Il y a donc un gros problème : chaque fois que l'on change la structure de données, l'ensemble complet des fonctions qu'on a défini doit être révisé !\n",
    "Cherchons à nous en passer du dictionnaire et créons une classe qui puisse contenir les mêmes informations.\n",
    "\n",
    "On crée donc une classe `Client` qui contient les attributs suivants (initialisés dans `__init__`) :\n",
    "- nom d'utilisateur `username` ;\n",
    "- prènom `prenom` ;\n",
    "- nom de famille `nom` ;\n",
    "- courriel `email` ;\n",
    "- nombre d'achats `n_achats` ;\n",
    "- dépense totale `dépense`."
   ]
  },
  {
   "cell_type": "code",
   "execution_count": null,
   "id": "a67e453c",
   "metadata": {},
   "outputs": [],
   "source": [
    "# Ne pas modifier !\n",
    "class Client:\n",
    "    def __init__(self, u, p, n, na, d, e):\n",
    "        self.username = u\n",
    "        self.prenom = p\n",
    "        self.nom = n\n",
    "        self.email = e\n",
    "        self.n_achats = na\n",
    "        self.depense = d"
   ]
  },
  {
   "cell_type": "markdown",
   "id": "1778cada",
   "metadata": {},
   "source": [
    "On crée maintenant un objet pour chaque client et on le remplit avec les informations du dictionnaire (version 1):"
   ]
  },
  {
   "cell_type": "code",
   "execution_count": null,
   "id": "b5ca22c1",
   "metadata": {},
   "outputs": [],
   "source": [
    "# Ne pas modifier !\n",
    "data = {\n",
    "    \"fishy88\" : [\"Henri\", \"Dubois\", 3, 53.18, \"h.dubois@hotmail.fr\"],\n",
    "    \"peaudelours\" : [\"Gérard\", \"Pignol\", 0, 0.00, \"gerry.peaudelours@gmail.com\"],\n",
    "    \"MrD\" : [\"Daniel\", \"Beauregard\", 13, 295.40, \"regardebien@protonmail.com\"],\n",
    "    \"etoilette\" : [\"Giselle\", \"Chevron\", 4, 45.67, \"giselle.chevron@gmail.com\"],\n",
    "    \"kalista\" : [\"Kalista\", \"Carrière\", 6, 217.80, \"kalistacarriere@givenchy.fr\"],\n",
    "    \"patate\" : [\"Guillaume\", \"Ledoux\", 5, 134.88, \"ledouxguillaume@yahoomail.fr\"],\n",
    "    \"forthelolz\" : [\"Napoléon\", \"Bonaparte\", 0, 0.00, \"empereur@elba.it\"],\n",
    "    \"clindoeil\" : [\"Krista\", \"Larzikan\", 7, 199.72, \"lamagiedunreve@hotmail.fr\"],\n",
    "    \"salpetre\" : [\"Marc\", \"Crodon\", 4, 46.90, \"marc.crodon@inserm.fr\"]\n",
    "}\n",
    "\n",
    "new_data = {}\n",
    "for k in data:\n",
    "    new_data[k] = Client(k, data[k][0], data[k][1], data[k][2], data[k][3], data[k][4])"
   ]
  },
  {
   "cell_type": "markdown",
   "id": "b5babbc6",
   "metadata": {},
   "source": [
    "Maintenant, à vous : redéfinissez les fonctions `total_commerces`, `moyenne_achats`, `depense_moyenne_achat` et `min_depense_par_achat` en utilisant le nouveau dictionnaire d'objets au lieu de l'ancien dictionnaire de listes"
   ]
  },
  {
   "cell_type": "code",
   "execution_count": null,
   "id": "251cfe9c",
   "metadata": {},
   "outputs": [],
   "source": []
  },
  {
   "cell_type": "code",
   "execution_count": null,
   "id": "78e7a4cb",
   "metadata": {},
   "outputs": [],
   "source": []
  },
  {
   "cell_type": "code",
   "execution_count": null,
   "id": "cb89c7f4",
   "metadata": {},
   "outputs": [],
   "source": []
  },
  {
   "cell_type": "code",
   "execution_count": null,
   "id": "404afe34",
   "metadata": {},
   "outputs": [],
   "source": []
  },
  {
   "cell_type": "code",
   "execution_count": null,
   "id": "4ff3233e",
   "metadata": {},
   "outputs": [],
   "source": []
  },
  {
   "cell_type": "markdown",
   "id": "71a397a2",
   "metadata": {},
   "source": [
    "<b><font color='white' style='background-color:green'>1.3.g</font></b> Dans ce nouveau scénario, la mise à jour de l'execice `1.3.e` n'est plus un problème : il suffit de modifier la collecte de données, et on pourra garder les fonctions inchangées. Complétez la deuxième boîte de code afin que les bonnes données soient enregistrées aux bons endroits dans la classe. Puis, exécutez à nouveau les fonctions et vérifiez qu'elles donnent bien le même résultat"
   ]
  },
  {
   "cell_type": "code",
   "execution_count": null,
   "id": "332949be",
   "metadata": {},
   "outputs": [],
   "source": [
    "# Ne pas modifier !\n",
    "data2 = {\n",
    "    \"fishy88\" : [\"Henri\", \"Dubois\", \"France\", 3, 53.18, \"h.dubois@hotmail.fr\"],\n",
    "    \"peaudelours\" : [\"Gérard\", \"Pignol\", \"France\", 0, 0.00, \"gerry.peaudelours@gmail.com\"],\n",
    "    \"MrD\" : [\"Daniel\", \"Beauregard\", \"Belgique\", 13, 295.40, \"regardebien@protonmail.com\"],\n",
    "    \"etoilette\" : [\"Giselle\", \"Chevron\", \"USA\", 4, 45.67, \"giselle.chevron@gmail.com\"],\n",
    "    \"kalista\" : [\"Kalista\", \"Carrière\", \"France\", 6, 217.80, \"kalistacarriere@givenchy.fr\"],\n",
    "    \"patate\" : [\"Guillaume\", \"Ledoux\", \"Canada\", 5, 134.88, \"ledouxguillaume@yahoomail.fr\"],\n",
    "    \"forthelolz\" : [\"Napoléon\", \"Bonaparte\", \"Italie\", 0, 0.00, \"empereur@elba.it\"],\n",
    "    \"clindoeil\" : [\"Krista\", \"Larzikan\", \"Hongrie\", 7, 199.72, \"lamagiedunreve@hotmail.fr\"],\n",
    "    \"salpetre\" : [\"Marc\", \"Crodon\", \"Suisse\", 4, 46.90, \"marc.crodon@inserm.fr\"]\n",
    "}"
   ]
  },
  {
   "cell_type": "code",
   "execution_count": null,
   "id": "12229ee4",
   "metadata": {},
   "outputs": [],
   "source": [
    "# Ne pas modifier (sauf dernière ligne)\n",
    "new_data2 = {}\n",
    "for k in data2:\n",
    "    # Complétez le code ici\n",
    "    new_data2[k] = "
   ]
  },
  {
   "cell_type": "code",
   "execution_count": null,
   "id": "0960a786",
   "metadata": {},
   "outputs": [],
   "source": [
    "# Ne pas modifier !\n",
    "print(total_commerces(new_data2))\n",
    "print(moyenne_achats(new_data2))\n",
    "print(depense_moyenne_achat(new_data2))\n",
    "print(min_depense_par_achat(new_data2))"
   ]
  },
  {
   "cell_type": "markdown",
   "id": "d2f4306d",
   "metadata": {},
   "source": [
    "<h3>2. Noms</h3><a class='anchor' id='noms'></a>"
   ]
  },
  {
   "cell_type": "markdown",
   "id": "7b584b1a",
   "metadata": {},
   "source": [
    "<b><font color='white' style='background-color:black'>Ex. 2.1</font> Copie de structures mutables</b><a class='anchor' id='noms1'></a><br>\n",
    "\n",
    "<b><font color='white' style='background-color:green'>2.1.a</font></b> Dans `data` on a une liste avec les effectifs des cellules qu'on a compté dans chaque puits pendant une manip. On veut avoir ces données sous la forme de fraction de la quantité totale de cellules, mais on veut aussi garder les données originales. On redige donc le code suivant. Que se passe-t-il ? Saurez-vous le corriger afin qu'il aie le résultat souhaité ?"
   ]
  },
  {
   "cell_type": "code",
   "execution_count": null,
   "id": "d85a3502",
   "metadata": {},
   "outputs": [],
   "source": [
    "# Ne pas modifier !\n",
    "data = [43, 35, 63, 68, 39, 54, 44, 39, 51, 55, 42, 45]\n",
    "backup = data\n",
    "\n",
    "somme = sum(data)\n",
    "for i in range(len(data)):\n",
    "    data[i] = data[i]/somme\n",
    "\n",
    "print(data)\n",
    "print(backup)"
   ]
  },
  {
   "cell_type": "markdown",
   "id": "5a0a608a",
   "metadata": {},
   "source": []
  },
  {
   "cell_type": "code",
   "execution_count": null,
   "id": "12dda74a",
   "metadata": {},
   "outputs": [],
   "source": []
  },
  {
   "cell_type": "code",
   "execution_count": null,
   "id": "ad060de0",
   "metadata": {},
   "outputs": [],
   "source": []
  },
  {
   "cell_type": "markdown",
   "id": "df82e9cb",
   "metadata": {},
   "source": [
    "<b><font color='white' style='background-color:black'>Ex. 2.2</font> Opérateur `is` et fonction `id`</b><a class='anchor' id='noms2'></a><br>\n",
    "\n",
    "<b><font color='white' style='background-color:green'>2.2.a</font></b> Savez-vous dire ce qui se passe dans la boîte de code suivante ?"
   ]
  },
  {
   "cell_type": "code",
   "execution_count": null,
   "id": "57c7365e",
   "metadata": {},
   "outputs": [],
   "source": [
    "# Ne pas modifier !\n",
    "a = 777\n",
    "b = 777\n",
    "c = 7\n",
    "d = 7\n",
    "print(\"a == b :\", a == b)\n",
    "print(\"c == d :\", c == d)\n",
    "print(\"a is b :\", a is b)\n",
    "print(\"c is d :\", c is d)"
   ]
  },
  {
   "cell_type": "markdown",
   "id": "487eae70",
   "metadata": {},
   "source": []
  }
 ],
 "metadata": {
  "kernelspec": {
   "display_name": "Python 3 (ipykernel)",
   "language": "python",
   "name": "python3"
  },
  "language_info": {
   "codemirror_mode": {
    "name": "ipython",
    "version": 3
   },
   "file_extension": ".py",
   "mimetype": "text/x-python",
   "name": "python",
   "nbconvert_exporter": "python",
   "pygments_lexer": "ipython3",
   "version": "3.11.6"
  }
 },
 "nbformat": 4,
 "nbformat_minor": 5
}
