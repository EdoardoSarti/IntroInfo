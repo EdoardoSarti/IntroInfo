{
 "cells": [
  {
   "cell_type": "markdown",
   "id": "437a11d0",
   "metadata": {},
   "source": [
    "<h1><center>SPEV311 — Introduction à l'Informatique — TP 01</center><br>\n",
    "<center>Expressions, Instructions, Fonctions</center></h1>"
   ]
  },
  {
   "cell_type": "markdown",
   "id": "c3a9453e",
   "metadata": {},
   "source": [
    "<h3>Auto-évaluation</h3>\n",
    "\n",
    "<div> Les exercices se divisent en trois niveaux d'auto-évaluation:\n",
    "<ul>\n",
    "    <li><h3><font color='white' style='background-color:orange'>Fondamentaux</font></h3> Pour réviser les notions apprises en cours. Il faut tous les savoir résoudre pour avoir la moyenne.</li>\n",
    "    <li><h3><font color='white' style='background-color:green'>Intermédiaires</font></h3> Pour vous aider à raisonner et rentrer au coeur des sujets. Si vous saurez tous les résoudre, vous aurez un bon niveau de préparation !</li>\n",
    "    <li><h3><font color='white' style='background-color:blue'>Avancés</font></h3> Défis pour vous entraîner à l'examen final... et aller plus loin !</li>\n",
    "</ul>\n",
    "</div>"
   ]
  },
  {
   "cell_type": "markdown",
   "id": "c1b5b9b0",
   "metadata": {},
   "source": [
    "### <font color='black'>Table des matières<font><a class='anchor' id='top'></a>\n",
    "1. [Expressions avec les nombres entiers](#entiers)<br>\n",
    "    1.1 [La calculette Python](#calculette)<br>\n",
    "    1.2 [Division éuclidienne : quotient et reste](#division)<br>\n",
    "2. [Variables](#variables)<br>\n",
    "    2.1 [Affectation](#affectation)<br>\n",
    "    2.2 [Affichage avec `print`](#affichage)<br>\n",
    "    2.3 [Types](#types)<br>\n",
    "3. [Fonctions](#fonctions)<br>\n",
    "    3.1 [Utiliser les fonctions prédéfinies](#prédéfinies)<br>"
   ]
  },
  {
   "cell_type": "markdown",
   "id": "45201be3",
   "metadata": {},
   "source": [
    "<h3>1. Expressions avec les nombres entiers</h3><a class='anchor' id='entiers'></a>"
   ]
  },
  {
   "cell_type": "markdown",
   "id": "e22835c2",
   "metadata": {},
   "source": [
    "<b><font color='white' style='background-color:black'>Ex. 1.1</font> La calculette Python</b><a class='anchor' id='calculette'></a><br>\n",
    "On peut utiliser Python comme une normale calculette.<br> \n",
    "<b><font color='white' style='background-color:orange'>1.1.a</font></b> Essayons: si Marc a 1634 pommes et Pierre a 9830 pommes, combient de pommes auront Marc et Pierre en total ? Dans la boîte de code ci-dessous, écrivez la bonne opération à faire, et obtenez le résultat"
   ]
  },
  {
   "cell_type": "code",
   "execution_count": null,
   "id": "dea6870c",
   "metadata": {},
   "outputs": [],
   "source": []
  },
  {
   "cell_type": "markdown",
   "id": "a7df8787",
   "metadata": {},
   "source": [
    "<b><font color='white' style='background-color:orange'>1.1.b</font></b> Calculez le nombre de secondes dans une journée"
   ]
  },
  {
   "cell_type": "code",
   "execution_count": null,
   "id": "0911e635",
   "metadata": {},
   "outputs": [],
   "source": []
  },
  {
   "cell_type": "markdown",
   "id": "132e39b4",
   "metadata": {},
   "source": [
    "<b><font color='white' style='background-color:orange'>1.1.c</font></b> La vieille Céline a 7 filles, chacune de ses filles a 7 enfants, chaque enfant a 7 chats et chaque chat a 7 chatons : en comptant filles, enfants, chats et chatons, c'est combien le grand total de la famille de la vieille Céline (sans la compter) ? Calculez-le en n'utilisant que des sommes et des produits, puis calculez-le en utilisant l'opérateur puissance."
   ]
  },
  {
   "cell_type": "code",
   "execution_count": null,
   "id": "787b441c",
   "metadata": {},
   "outputs": [],
   "source": []
  },
  {
   "cell_type": "code",
   "execution_count": null,
   "id": "504ab7da",
   "metadata": {},
   "outputs": [],
   "source": []
  },
  {
   "cell_type": "markdown",
   "id": "79771879",
   "metadata": {},
   "source": [
    "<b><font color='white' style='background-color:orange'>1.1.d</font></b> Transcrivez cette expression dans la boîte de code ci-dessous et en calculez le résultat:"
   ]
  },
  {
   "cell_type": "markdown",
   "id": "069d1fac",
   "metadata": {},
   "source": [
    "$$ \\left[(2^7 - 15) \\times 5 + 2^{(3+4)^2}\\right] + \\left(2 - (5 \\times 10)\\right)$$"
   ]
  },
  {
   "cell_type": "code",
   "execution_count": null,
   "id": "ca124fec",
   "metadata": {},
   "outputs": [],
   "source": []
  },
  {
   "cell_type": "markdown",
   "id": "5877cd4e",
   "metadata": {},
   "source": [
    "<b><font color='white' style='background-color:green'>1.1.e</font></b> Dans l'expression de l'exercice `1.1.d`, quelles sont les parenthèses qui peuvent être omises sans changer le résultat de l'expression ? Ecrivez à nouveau l'expression de `1.1.d` dans la boîte ci-dessous, enlevez toutes les parenthèses rédondantes et assurez-vous que le résultat ne soit pas changé!"
   ]
  },
  {
   "cell_type": "code",
   "execution_count": null,
   "id": "fb8457bd",
   "metadata": {},
   "outputs": [],
   "source": []
  },
  {
   "cell_type": "markdown",
   "id": "33197b1b",
   "metadata": {},
   "source": [
    "<b><font color='white' style='background-color:blue'>1.1.f</font></b> Il est difficile de s'assurer si le résultat de `1.1.d` est correct: on devrait faire les calculs à la main, mais ça a l'air pénible. On peut néanmoins vérifier au moins la *parité* du résultat attendu: en regardant l'expression `1.1.d`, arrivez-vous à prédire si le résultat devra être pair ou impair ? Décrivez votre raisonnement dans la boîte de texte ci-dessous."
   ]
  },
  {
   "cell_type": "markdown",
   "id": "af4bf242",
   "metadata": {},
   "source": [
    "**ici votre réponse**"
   ]
  },
  {
   "cell_type": "markdown",
   "id": "c340b54c",
   "metadata": {},
   "source": [
    "<p><img style=\"float:right; margin:20px; padding:20px; max-width:400px\" src=\"Division_euclidienne.jpeg\"></p>\n",
    "<p style=\"text-align:justify;\"><a class='anchor' id='division'></a>\n",
    "<br><br>\n",
    "<b><font color='white' style='background-color:black'>Ex. 1.2</font> Division éuclidienne: quotient et reste</b>\n",
    "<br> En générale, la division décimale rend un résultat à virgule. Il y a des contexte où on est plutôt intéressé à avoir un résultat en termes de quotient et reste entiers : s'il faut dire combien ça fait 2 heures divisées par 3, personne ne dirait $0.\\overline{6}$ heures, mais bien 40 minutes ! Si $a$ et $b$ sont des entiers et $b \\neq 0$, on peut utiliser la division éuclidienne comme vu en cours.<br>\n",
    "</p>"
   ]
  },
  {
   "cell_type": "markdown",
   "id": "2fc6a8bf",
   "metadata": {},
   "source": [
    "<b><font color='white' style='background-color:orange'>1.2.a</font></b> Essayons: Marc, Pierre et Louise veulent se répartir équitablement un plateau avec 14 gâteaux. Combien de gâteaux aura chacun ? Combien de gâteaux resteront-ils sur le plateau ? Ecrivez les deux opérations à faire dans les deux boîtes de code ci-dessous."
   ]
  },
  {
   "cell_type": "code",
   "execution_count": null,
   "id": "17e8fc25",
   "metadata": {},
   "outputs": [],
   "source": []
  },
  {
   "cell_type": "code",
   "execution_count": null,
   "id": "9fdf8530",
   "metadata": {},
   "outputs": [],
   "source": []
  },
  {
   "cell_type": "markdown",
   "id": "65a30d2f",
   "metadata": {},
   "source": [
    "<b><font color='white' style='background-color:orange'>1.2.b</font></b> Il est toujours important de contrôler ses résultats. Faisons donc le calcul à l'invers: Marc, Pierre et Louise mangent 4 gâteaux chacun, et en laissent 2 sur le plateau. Combien de gâteaux y avait-il sur le plateau?"
   ]
  },
  {
   "cell_type": "code",
   "execution_count": null,
   "id": "560b8d6e",
   "metadata": {},
   "outputs": [],
   "source": []
  },
  {
   "cell_type": "markdown",
   "id": "2e63deea",
   "metadata": {},
   "source": [
    "<p><img style=\"float:right; margin:20px; padding:20px; max-width:200px\" src=\"Plaque_96_puits.jpeg\"></p>\n",
    "<p style=\"text-align:justify;\">\n",
    "<br><br><br><b><font color='white' style='background-color:orange'>1.2.c</font></b> Pour effectuer son titrage, j'ai besoin de remplir 300 puits avec de la solution. Chaque plaque a 96 puits: combien de plaques vais-je remplir complètement? Combien de puits restent-ils à remplir? Ecrivez les deux opérations à faire dans les deux boîtes de code ci-dessous.\n",
    "</p>"
   ]
  },
  {
   "cell_type": "code",
   "execution_count": null,
   "id": "aafabb01",
   "metadata": {},
   "outputs": [],
   "source": []
  },
  {
   "cell_type": "code",
   "execution_count": null,
   "id": "74d9aa1e",
   "metadata": {},
   "outputs": [],
   "source": []
  },
  {
   "cell_type": "markdown",
   "id": "4ef4f636",
   "metadata": {},
   "source": [
    "<b><font color='white' style='background-color:orange'>1.2.d</font></b> Etes-vous sûrs d'avoir bien fait les calculs de l'exercice `1.2.c`? Contrôlez en faisant le calcul invers, tout comme dans l'exercice `1.2.b`"
   ]
  },
  {
   "cell_type": "code",
   "execution_count": null,
   "id": "7241d030",
   "metadata": {},
   "outputs": [],
   "source": []
  },
  {
   "cell_type": "markdown",
   "id": "b146ca5c",
   "metadata": {},
   "source": [
    "<b><font color='white' style='background-color:green'>1.2.e</font></b> Revenons sur cet exercice, cette fois en posant des questions plus utiles d'un point de vue scientifique. Pour effectuer son titrage, j'ai besoin de remplir 455 puits avec de la solution. Chaque plaque a 96 puits et coûte 4 euros: quel sera le montant dépensé pour acheter les plaques? Combien y aura-t-il de puits vides? Ecrivez les deux opérations à faire dans les deux boîtes de code ci-dessous."
   ]
  },
  {
   "cell_type": "code",
   "execution_count": null,
   "id": "05d03dc6",
   "metadata": {},
   "outputs": [],
   "source": []
  },
  {
   "cell_type": "code",
   "execution_count": null,
   "id": "0575a48e",
   "metadata": {},
   "outputs": [],
   "source": []
  },
  {
   "cell_type": "markdown",
   "id": "8a155e07",
   "metadata": {},
   "source": [
    "<b><font color='white' style='background-color:orange'>1.2.f</font></b> L'opération modulo peut donc être utilisée pour savoir si un entier est un multiple d'un autre entier: en effet, si `a` est un multiple de `b`, l'opération `a%b` donnera `0` comme résultat. Vérifiez si `1234321` est un multiple de `11`."
   ]
  },
  {
   "cell_type": "code",
   "execution_count": null,
   "id": "6ff68a37",
   "metadata": {},
   "outputs": [],
   "source": []
  },
  {
   "cell_type": "markdown",
   "id": "b2331c65",
   "metadata": {},
   "source": [
    "<b><font color='white' style='background-color:green'>1.2.g</font></b> Si un nombre $n$ est impair, quel sera le résultat de $n\\%2$? Ecrivez votre réponse dans la boîte de texte ci-dessous et expliquez."
   ]
  },
  {
   "cell_type": "markdown",
   "id": "478db459",
   "metadata": {},
   "source": [
    "**ici votre réponse**"
   ]
  },
  {
   "cell_type": "markdown",
   "id": "4cb4198f",
   "metadata": {},
   "source": [
    "<b><font color='white' style='background-color:green'>1.2.h</font></b> Copiez-collez l'expression que vous avez écrite en `1.1.d` et contrôlez si son résultat est pair ou impair, c'est à dire, s'il est un multiple de 2 ou pas. Rappelez-vous de l'ordre des opérations!"
   ]
  },
  {
   "cell_type": "code",
   "execution_count": null,
   "id": "b758f10c",
   "metadata": {},
   "outputs": [],
   "source": []
  },
  {
   "cell_type": "markdown",
   "id": "415bc292",
   "metadata": {},
   "source": [
    "<h3>2. Variables</h3><a class='anchor' id='variables'></a>"
   ]
  },
  {
   "cell_type": "markdown",
   "id": "5fc0ee7a",
   "metadata": {},
   "source": [
    "<p><img style=\"float:right; margin:20px; padding:20px; max-width:300px\" src=\"Variable.jpeg\"></p>\n",
    "<p><br><br>\n",
    "<b><font color='white' style='background-color:black'>Ex. 2.1</font> Affectation</b><a class='anchor' id='affectation'></a><br> Une variable est un espace de mémoire qui contient une valeur. La variable peut changer de valeur au cours d'un script.<br>\n",
    "</p>"
   ]
  },
  {
   "cell_type": "markdown",
   "id": "0cae565c",
   "metadata": {},
   "source": [
    "<b><font color='white' style='background-color:gray'>Exemple</font></b><br>\n",
    "```python\n",
    "a = 7          # Initialise la variable a et attribue la valeur 7\n",
    "\n",
    "a = 'Barbie'   # La variable a est déjà initialisée, et contient la valeur 7. \n",
    "               # Ici, on remplace la valeur 7 avec la valeur 'Barbie'\n",
    "```"
   ]
  },
  {
   "cell_type": "markdown",
   "id": "b7930b02",
   "metadata": {},
   "source": [
    "<b><font color='white' style='background-color:orange'>2.1.a</font></b> Dans la première boîte de code, attribuez la valeur `3` à la variable `nombre`. Dans la deuxième, attribuez la valeur `'Allez les Bleus !'` à la même variable. Enfin, affichez la valeur de la variable en ne saisissant que son nom dans la troisième boîte."
   ]
  },
  {
   "cell_type": "code",
   "execution_count": null,
   "id": "a5c82479",
   "metadata": {},
   "outputs": [],
   "source": []
  },
  {
   "cell_type": "code",
   "execution_count": null,
   "id": "45bb691c",
   "metadata": {},
   "outputs": [],
   "source": []
  },
  {
   "cell_type": "code",
   "execution_count": null,
   "id": "3d13184c",
   "metadata": {},
   "outputs": [],
   "source": []
  },
  {
   "cell_type": "markdown",
   "id": "1b490841",
   "metadata": {},
   "source": [
    "<b><font color='white' style='background-color:orange'>2.1.b</font></b> Dans l'exercice `2.1.a`, quelles boîtes contiennent des instructions? Quelles boîtes contiennent des expressions? Expliquez."
   ]
  },
  {
   "cell_type": "markdown",
   "id": "4a20c8bd",
   "metadata": {},
   "source": [
    "Les premières deux boîtes contiennent des instructions (d'affectation), alors que la troisième contient une expression (triviale : le résultat d'une valeur est la valeur même)"
   ]
  },
  {
   "cell_type": "markdown",
   "id": "6a94f944",
   "metadata": {},
   "source": [
    "<b><font color='white' style='background-color:orange'>2.1.c</font></b> Attribuez la valeur `10` à la variable `a`, et la valeur `7` à la variable b. Ensuite, calculez a - b"
   ]
  },
  {
   "cell_type": "code",
   "execution_count": null,
   "id": "02635149",
   "metadata": {},
   "outputs": [],
   "source": []
  },
  {
   "cell_type": "code",
   "execution_count": null,
   "id": "66128bce",
   "metadata": {},
   "outputs": [],
   "source": []
  },
  {
   "cell_type": "code",
   "execution_count": null,
   "id": "c07f6c5c",
   "metadata": {},
   "outputs": [],
   "source": []
  },
  {
   "cell_type": "markdown",
   "id": "c4415fff",
   "metadata": {},
   "source": [
    "<b><font color='white' style='background-color:orange'>2.1.d</font></b> Attribuez la valeur `100` à la variable `mes_points` et la valeur `500 - mes_points` à la valeur `tes_points`. Affichez la valeur de `tes_points`."
   ]
  },
  {
   "cell_type": "code",
   "execution_count": null,
   "id": "6f4b2a30",
   "metadata": {},
   "outputs": [],
   "source": []
  },
  {
   "cell_type": "code",
   "execution_count": null,
   "id": "7745459e",
   "metadata": {},
   "outputs": [],
   "source": []
  },
  {
   "cell_type": "code",
   "execution_count": null,
   "id": "73e2bd5f",
   "metadata": {},
   "outputs": [],
   "source": []
  },
  {
   "cell_type": "markdown",
   "id": "02e57d0b",
   "metadata": {},
   "source": [
    "<b><font color='white' style='background-color:orange'>2.1.e</font></b> Attribuez la valeur `100` à la variable `Batman`. Dans la deuxième boîte, cherchez à afficher la valeur de la variable Robin. Que se passe-t-il? Expliquez"
   ]
  },
  {
   "cell_type": "code",
   "execution_count": null,
   "id": "a1b870ec",
   "metadata": {},
   "outputs": [],
   "source": []
  },
  {
   "cell_type": "code",
   "execution_count": null,
   "id": "6e5380d8",
   "metadata": {},
   "outputs": [],
   "source": []
  },
  {
   "cell_type": "markdown",
   "id": "a1bd8d29",
   "metadata": {},
   "source": [
    "L'interpréteur se plante : la variable `Robin` n'a jamais été définie !"
   ]
  },
  {
   "cell_type": "markdown",
   "id": "56f84acf",
   "metadata": {},
   "source": [
    "<b><font color='white' style='background-color:green'>2.1.e</font></b> Dans une seule boîte de code, attribuez `10` à `a`, `3` à `b` et `50` à `c`, et calculez $$a^b - c*b + a$$ Ensuite, dans la deuxième boîte, ajoutez `1` à la valeur de `b` et calculez à nouveau l'expression."
   ]
  },
  {
   "cell_type": "code",
   "execution_count": null,
   "id": "5457b2b7",
   "metadata": {},
   "outputs": [],
   "source": []
  },
  {
   "cell_type": "code",
   "execution_count": null,
   "id": "5749aae7",
   "metadata": {},
   "outputs": [],
   "source": []
  },
  {
   "cell_type": "markdown",
   "id": "de6c88f7",
   "metadata": {},
   "source": [
    "<b><font color='white' style='background-color:green'>2.1.f</font></b> Attribuez la valeur `'Tic'` à la variable `tamias_1` et la valeur `'Tac'` à la variable `tamias_2`. Ensuite, écrivez les instructions nécessaires pour échanger les  valeurs des deux variables. Utilisez les deux autres boîtes pour afficher le contenu de `tamias_1` et `tamias_2`"
   ]
  },
  {
   "cell_type": "code",
   "execution_count": null,
   "id": "f5a25d53",
   "metadata": {},
   "outputs": [],
   "source": []
  },
  {
   "cell_type": "code",
   "execution_count": null,
   "id": "7a36bb49",
   "metadata": {},
   "outputs": [],
   "source": []
  },
  {
   "cell_type": "code",
   "execution_count": null,
   "id": "28e4f0c8",
   "metadata": {},
   "outputs": [],
   "source": []
  },
  {
   "cell_type": "markdown",
   "id": "d838ea33",
   "metadata": {},
   "source": [
    "<b><font color='white' style='background-color:green'>2.1.g</font></b> Attribuez les valeurs aux variables comme dans le tableau:\n",
    "\n",
    "| Variable |   Valeur |\n",
    "| -------- | -------- |\n",
    "| canard_1 |   'Riri' |\n",
    "| canard_2 |   'Fifi' |\n",
    "| canard_3 | 'Loulou' |\n",
    "\n",
    "Et écrivez les instructions nécessaires pour obtenir les associations suivantes:\n",
    "\n",
    "| Variable |   Valeur |\n",
    "| -------- | -------- |\n",
    "| canard_1 | 'Loulou' |\n",
    "| canard_2 |   'Riri' |\n",
    "| canard_3 |   'Fifi' |\n",
    "\n",
    "Affichez vos résultats dans les trois boîtes qui suivent."
   ]
  },
  {
   "cell_type": "code",
   "execution_count": null,
   "id": "cb9f4524",
   "metadata": {},
   "outputs": [],
   "source": []
  },
  {
   "cell_type": "code",
   "execution_count": null,
   "id": "10009175",
   "metadata": {},
   "outputs": [],
   "source": []
  },
  {
   "cell_type": "code",
   "execution_count": null,
   "id": "80a2b22b",
   "metadata": {},
   "outputs": [],
   "source": []
  },
  {
   "cell_type": "code",
   "execution_count": null,
   "id": "6320186c",
   "metadata": {},
   "outputs": [],
   "source": []
  },
  {
   "cell_type": "markdown",
   "id": "c468e695",
   "metadata": {},
   "source": [
    "<b><font color='white' style='background-color:black'>Ex. 2.2</font> Affichage avec `print`</b><a class='anchor' id='affichage'></a><br> La fonction `print` permet d'afficher toute valeur à n'importe quel point du code.<br>\n",
    "<b><font color='white' style='background-color:orange'>2.2.a</font></b> Dans les deux boîtes suivantes, affichez les valeurs `'13'` et `'Madagascar'` à l'aide de la fonction `print`"
   ]
  },
  {
   "cell_type": "code",
   "execution_count": null,
   "id": "6a4a8ab4",
   "metadata": {},
   "outputs": [],
   "source": []
  },
  {
   "cell_type": "code",
   "execution_count": null,
   "id": "e2cf4d9c",
   "metadata": {},
   "outputs": [],
   "source": []
  },
  {
   "cell_type": "markdown",
   "id": "18e9ea6f",
   "metadata": {},
   "source": [
    "<b><font color='white' style='background-color:orange'>2.2.b</font></b> Maintenant affichez les valeurs `'13'` et `'Madagascar'` de suite dans une seule ligne."
   ]
  },
  {
   "cell_type": "code",
   "execution_count": null,
   "id": "e3b28f99",
   "metadata": {},
   "outputs": [],
   "source": []
  },
  {
   "cell_type": "markdown",
   "id": "233eb275",
   "metadata": {},
   "source": [
    "<b><font color='white' style='background-color:orange'>2.2.c</font></b> Certains caractères ont besoin de l'échappement `\\` pour ne pas être interprétés par Python. Affichez:<br>\n",
    "```\n",
    "\\\n",
    "Guillemets \", apostrophe '\n",
    "```"
   ]
  },
  {
   "cell_type": "code",
   "execution_count": null,
   "id": "dc00a333",
   "metadata": {},
   "outputs": [],
   "source": []
  },
  {
   "cell_type": "markdown",
   "id": "bc0e9f90",
   "metadata": {},
   "source": [
    "<b><font color='white' style='background-color:orange'>2.2.d</font></b> Qu'affiche ce code?<br>\n",
    "```python\n",
    "x = 8\n",
    "y = 9\n",
    "print('Mon numéro porte bonheur est le', x+y)\n",
    "```"
   ]
  },
  {
   "cell_type": "markdown",
   "id": "2b3c40a4",
   "metadata": {},
   "source": [
    "**ici votre réponse**"
   ]
  },
  {
   "cell_type": "markdown",
   "id": "57650ee5",
   "metadata": {},
   "source": [
    "<b><font color='white' style='background-color:green'>2.2.e</font></b> Affichez le dessin suivant:<br>\n",
    "```\n",
    " /\\_/\\\n",
    "((@v@))\n",
    "():::()\n",
    " VV-VV\n",
    "```"
   ]
  },
  {
   "cell_type": "code",
   "execution_count": null,
   "id": "66c6d086",
   "metadata": {},
   "outputs": [],
   "source": []
  },
  {
   "cell_type": "markdown",
   "id": "f6e5429e",
   "metadata": {},
   "source": [
    "<b><font color='white' style='background-color:green'>2.2.f</font></b> Vous avez les variables suivantes:<br>\n",
    "\n",
    "| Variable |   Valeur |\n",
    "| -------- | -------- |\n",
    "| a |   5 |\n",
    "| b |   10 |\n",
    "| c | 20 |\n",
    "\n",
    "Affichez le résultat de: $$a^{c/b} + a - c \\times b$$"
   ]
  },
  {
   "cell_type": "code",
   "execution_count": null,
   "id": "31145637",
   "metadata": {},
   "outputs": [],
   "source": []
  },
  {
   "cell_type": "markdown",
   "id": "086e5f23",
   "metadata": {},
   "source": [
    "<b><font color='white' style='background-color:black'>Ex. 2.3</font> Types</b><a class='anchor' id='types'></a><br>\n",
    "Chaque valeur a un type: étudions ici les types `int`, `float`, `str`, `bool`. Ces mots sont des mots réservés en Python et servent à définir les types !<br>\n",
    "<b><font color='white' style='background-color:orange'>2.3.a</font></b> A l'aide de la fonction `type` et de la fonction `print`, affichez ci-dessous les types des valeurs suivantes: `1000`, `'Barbie'`, `3.14`, `'h'`, `True`.\n",
    "Ensuite, écrivez en mots le nom complet des types que vous avez trouvés."
   ]
  },
  {
   "cell_type": "code",
   "execution_count": null,
   "id": "b4b8c1d9",
   "metadata": {},
   "outputs": [],
   "source": []
  },
  {
   "cell_type": "markdown",
   "id": "ff170341",
   "metadata": {},
   "source": [
    "**ici votre réponse**"
   ]
  },
  {
   "cell_type": "markdown",
   "id": "a0a8d782",
   "metadata": {},
   "source": [
    "<b><font color='white' style='background-color:orange'>2.3.b</font></b> Quel est le type du résultat de l'expression `8//4` ? Et `8/4` ? Expliquez"
   ]
  },
  {
   "cell_type": "code",
   "execution_count": null,
   "id": "8af520bd",
   "metadata": {},
   "outputs": [],
   "source": []
  },
  {
   "cell_type": "markdown",
   "id": "6bb7cb3b",
   "metadata": {},
   "source": [
    "**ici votre réponse**"
   ]
  },
  {
   "cell_type": "markdown",
   "id": "518231df",
   "metadata": {},
   "source": [
    "<b><font color='white' style='background-color:green'>2.3.c</font></b> Affichez le type de `4.0` et de `9`. Ensuite, sommez-les, et affichez le type du résultat. Pourquoi le résultat a-t-il ce type? Expliquez."
   ]
  },
  {
   "cell_type": "code",
   "execution_count": null,
   "id": "1fbda8fa",
   "metadata": {},
   "outputs": [],
   "source": []
  },
  {
   "cell_type": "markdown",
   "id": "a6cba8b3",
   "metadata": {},
   "source": [
    "**ici votre réponse**"
   ]
  },
  {
   "cell_type": "markdown",
   "id": "e06b5c9b",
   "metadata": {},
   "source": [
    "<b><font color='white' style='background-color:green'>2.3.d</font></b> Que se passe-t-il quand vous cherchez à sommer la valeur `10` à la valeur `'22'`? Expliquez."
   ]
  },
  {
   "cell_type": "code",
   "execution_count": null,
   "id": "e8e2612a",
   "metadata": {},
   "outputs": [],
   "source": []
  },
  {
   "cell_type": "markdown",
   "id": "e5591dae",
   "metadata": {},
   "source": [
    "**ici votre réponse**"
   ]
  },
  {
   "cell_type": "markdown",
   "id": "bba2ae16",
   "metadata": {},
   "source": [
    "<h3>3. Fonctions</h3><a class='anchor' id='fonctions'></a>\n",
    "\n",
    "Les fonctions sont des morceaux de code réutilisables qui acceptent des données en entrée et rendent des données en sortie. Les variables contenant les données en entrée sont dites *paramètres*. Une fonction peut aussi ne prendre aucun paramètre, ou avoir certains paramètres optionnels.\n",
    "\n",
    "<b><font color='white' style='background-color:black'>Ex. 3.1</font> Utiliser les fonctions prédéfinies</b><a class='anchor' id='prédéfinies'></a><br>\n",
    "Nous avons déjà vu les fonctions print et type. Nous allons voir d'autres fonctions utiles et comment les utiliser.<br>Servez-vous de la <a href=\"https://docs.python.org/3/library/functions.html\">documentation officielle de Python</a> !<br>\n",
    "<b><font color='white' style='background-color:orange'>3.1.a</font></b> Dans la deuxième boîte de code, trouvez une fonction prédéfinie pour évaluer la longueur de la chaîne définie dans la première boîte"
   ]
  },
  {
   "cell_type": "code",
   "execution_count": null,
   "id": "a45d7177",
   "metadata": {},
   "outputs": [],
   "source": [
    "# Ne pas modifier !\n",
    "a = \"Bof, autant d'utiliser ChatGPT :/\""
   ]
  },
  {
   "cell_type": "code",
   "execution_count": null,
   "id": "c3f74de6",
   "metadata": {},
   "outputs": [],
   "source": []
  },
  {
   "cell_type": "markdown",
   "id": "f87f898d",
   "metadata": {},
   "source": [
    "<b><font color='white' style='background-color:orange'>3.1.b</font></b> Dans la deuxième boîte de code, affichez le minimum et le maximum des variables définies dans la première boîte"
   ]
  },
  {
   "cell_type": "code",
   "execution_count": null,
   "id": "aa15936b",
   "metadata": {},
   "outputs": [],
   "source": [
    "# Ne pas modifier !\n",
    "a = 14*90\n",
    "b = 117*9\n",
    "c = 9**7\n",
    "d = 2**14 - 14**2\n",
    "e = 4**3**2"
   ]
  },
  {
   "cell_type": "code",
   "execution_count": null,
   "id": "d5945e64",
   "metadata": {},
   "outputs": [],
   "source": []
  },
  {
   "cell_type": "markdown",
   "id": "dc240a67",
   "metadata": {},
   "source": [
    "<b><font color='white' style='background-color:orange'>3.1.c</font></b> Faites comme dans l'exercice 3.1.b, cette fois avec les variables suivantes. Qu'est-ce qui se passe? Pourquoi? Expliquez dans la boîte de texte."
   ]
  },
  {
   "cell_type": "code",
   "execution_count": null,
   "id": "c08676d6",
   "metadata": {},
   "outputs": [],
   "source": [
    "# Ne pas modifier !\n",
    "a = 14*90\n",
    "b = 117*9\n",
    "c = \"9**7\"\n",
    "d = 2**14 - 14**2\n",
    "e = \"4**3**2\""
   ]
  },
  {
   "cell_type": "code",
   "execution_count": null,
   "id": "83eedf16",
   "metadata": {},
   "outputs": [],
   "source": []
  },
  {
   "cell_type": "markdown",
   "id": "baa6dc99",
   "metadata": {},
   "source": [
    "**ici votre réponse**"
   ]
  },
  {
   "cell_type": "markdown",
   "id": "390f93e2",
   "metadata": {},
   "source": [
    "<b><font color='white' style='background-color:green'>3.1.d</font></b> Regardons plus attentivement le message d'erreur obtenu : qu'est-ce qu'il dit exactement ? Quelle relation porrait-il avoir avec la commande qui a échouée ?"
   ]
  },
  {
   "cell_type": "markdown",
   "id": "8fd7cc0e",
   "metadata": {},
   "source": [
    "**ici votre réponse**"
   ]
  },
  {
   "cell_type": "markdown",
   "id": "4a5d5885",
   "metadata": {},
   "source": [
    "<b><font color='white' style='background-color:green'>3.1.e</font></b> A la lumière de ce qu'on a découvert sur les fonctions minimum et maximum, que sera-t-il affiché par le code suivant ? Repondez, puis écrivez et lancez le code dans la boîte qui suit. C'était le comportement attendu ?\n",
    "\n",
    "```python\n",
    "a = 'Dans'\n",
    "b = 'la'\n",
    "c = 'vallée'\n",
    "print(min(a, b, c))\n",
    "```"
   ]
  },
  {
   "cell_type": "markdown",
   "id": "f42ed45c",
   "metadata": {},
   "source": [
    "**ici votre réponse**"
   ]
  },
  {
   "cell_type": "code",
   "execution_count": null,
   "id": "e7a44d91",
   "metadata": {},
   "outputs": [],
   "source": []
  },
  {
   "cell_type": "markdown",
   "id": "1bcbb771",
   "metadata": {},
   "source": [
    "<b><font color='white' style='background-color:blue'>3.1.f</font></b> Faites des tests avec la fonction `abs`: que fait-elle? Combien de paramètres admet-elle? De quel type? Expliquez "
   ]
  },
  {
   "cell_type": "code",
   "execution_count": null,
   "id": "ad100b3d",
   "metadata": {},
   "outputs": [],
   "source": []
  },
  {
   "cell_type": "code",
   "execution_count": null,
   "id": "ee6c9d0f",
   "metadata": {},
   "outputs": [],
   "source": []
  },
  {
   "cell_type": "code",
   "execution_count": null,
   "id": "4cf6f5c9",
   "metadata": {},
   "outputs": [],
   "source": []
  },
  {
   "cell_type": "markdown",
   "id": "371ba40e",
   "metadata": {},
   "source": [
    "**ici votre réponse**"
   ]
  },
  {
   "cell_type": "markdown",
   "id": "54042668",
   "metadata": {},
   "source": [
    "<b><font color='white' style='background-color:blue'>3.1.g</font></b> Affichez le type du résultat de `print(4)`. Qu'est-ce que cela signifie? Expliquez."
   ]
  },
  {
   "cell_type": "code",
   "execution_count": null,
   "id": "cf6bf672",
   "metadata": {},
   "outputs": [],
   "source": []
  },
  {
   "cell_type": "markdown",
   "id": "070e8df6",
   "metadata": {},
   "source": [
    "**ici votre réponse**"
   ]
  },
  {
   "cell_type": "code",
   "execution_count": null,
   "id": "24ad4eab",
   "metadata": {},
   "outputs": [],
   "source": []
  }
 ],
 "metadata": {
  "kernelspec": {
   "display_name": "Python 3 (ipykernel)",
   "language": "python",
   "name": "python3"
  },
  "language_info": {
   "codemirror_mode": {
    "name": "ipython",
    "version": 3
   },
   "file_extension": ".py",
   "mimetype": "text/x-python",
   "name": "python",
   "nbconvert_exporter": "python",
   "pygments_lexer": "ipython3",
   "version": "3.10.9"
  }
 },
 "nbformat": 4,
 "nbformat_minor": 5
}
