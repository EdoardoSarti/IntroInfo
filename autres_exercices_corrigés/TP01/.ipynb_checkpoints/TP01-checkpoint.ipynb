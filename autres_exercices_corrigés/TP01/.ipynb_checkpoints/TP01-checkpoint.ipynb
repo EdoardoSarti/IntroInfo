{
 "cells": [
  {
   "cell_type": "markdown",
   "metadata": {
    "deletable": false,
    "editable": false
   },
   "source": [
    "<h1><center>L2 SV — Introduction à l'Informatique — TP 1</center></h1>"
   ]
  },
  {
   "cell_type": "markdown",
   "metadata": {
    "deletable": false,
    "editable": false
   },
   "source": [
    "Félicitations ! Vous avez réussi à importer la feuille de calculs (ou *notebook*) du TP 1 dans Jupyter !\n",
    "Ce fichier contient l'énoncé de TP, du code, des commentaires. Vous allez directement répondre aux questions sur cette page. Ces réponses pourront être\n",
    "* du code (dans les boîtes `Code`)\n",
    "* du texte en français (dans les boîtes `Markdown`)"
   ]
  },
  {
   "cell_type": "markdown",
   "metadata": {
    "deletable": false,
    "editable": false
   },
   "source": [
    "## 1. Premières expérimentations"
   ]
  },
  {
   "cell_type": "markdown",
   "metadata": {
    "deletable": false,
    "editable": false
   },
   "source": [
    "* Vous pouvez taper du code ou du texte en français (*markdown*).\n"
   ]
  },
  {
   "cell_type": "markdown",
   "metadata": {
    "deletable": false
   },
   "source": [
    "Voici du texte dans une boîte *markdown*. Double-cliquer ici pour le modifier.\n",
    "\n",
    "<!--- Bravo, vous avez trouvé ! Remplacez cette ligne par votre nom et prénom. -->\n",
    "\n",
    "Pour validez vos changements, cliquez sur `Run` (ou `Exécuter` si *jupyter* est en français).\n"
   ]
  },
  {
   "cell_type": "markdown",
   "metadata": {
    "deletable": false,
    "editable": false
   },
   "source": [
    "* Pour les boîtes de `code`, vous pouvez exécuter votre code et le résultat apparaît en dessous."
   ]
  },
  {
   "cell_type": "markdown",
   "metadata": {
    "deletable": false,
    "editable": false
   },
   "source": [
    "Les boîtes de code sont colorées différemment, elles vont contenir du code _python_ à exécuter.\n",
    "\n",
    "Voici du `code`."
   ]
  },
  {
   "cell_type": "code",
   "execution_count": null,
   "metadata": {
    "deletable": false
   },
   "outputs": [],
   "source": [
    "print(6)\n",
    "print(1,2)\n",
    "# fin de l'expérimentation"
   ]
  },
  {
   "cell_type": "markdown",
   "metadata": {
    "deletable": false,
    "editable": false
   },
   "source": [
    "Vous pouvez repérer ces boîtes à leur couleur de fond et au fait qu'il y a écrit\n",
    "```\n",
    "In [] ou Entrée []\n",
    "```\n",
    "à gauche."
   ]
  },
  {
   "cell_type": "markdown",
   "metadata": {
    "deletable": false,
    "editable": false
   },
   "source": [
    "Pour *exécuter*, vous pouvez sélectionner la boîte, puis cliquer sur le bouton `Run` (ou `Exécuter` si *jupyter* est en français) ci-dessus ou bien appuyer sur Ctrl+Entrée simultanément.\n",
    "\n",
    "Exécutez la cellule ci-dessus en cliquant, puis au clavier.\n",
    "\n",
    "Le code est exécuté dans le sens habituel de la lecture : de gauche à droite et de haut en bas. L'instruction print(paramètres) affiche tous les paramètres (qui sont séparés par des virgules dans la parenthèse) sur la même ligne. Les lignes commençant par `#` sont appelées _commentaires_ et sont ignorées par l'exécution.\n",
    "\n",
    "1) Changer le code suivant pour qu'une fois exécuté, il donne l'affichage suivant :\n",
    "```\n",
    "1 2 nous\n",
    "3 4 irons\n",
    "5 6 au bois\n",
    "```"
   ]
  },
  {
   "cell_type": "code",
   "execution_count": null,
   "metadata": {
    "deletable": false
   },
   "outputs": [],
   "source": [
    "print(1, 'bonjour')\n",
    "\n"
   ]
  },
  {
   "cell_type": "markdown",
   "metadata": {
    "deletable": false,
    "editable": false
   },
   "source": [
    "2) Les codes suivants devraient afficher les lignes ci-dessous mais ils présentent des erreurs. Corrigez-les.\n",
    "```\n",
    "a\n",
    "b b\n",
    "c c c\n",
    "```\n",
    "Remarque : les _messages d'erreur_ peuvent vous aider à comprendre le problème."
   ]
  },
  {
   "cell_type": "code",
   "execution_count": null,
   "metadata": {},
   "outputs": [],
   "source": [
    "# 2)a.\n",
    "print('a')\n",
    "prlnt('b', 'b')\n",
    "print('c', 'c', 'c')"
   ]
  },
  {
   "cell_type": "code",
   "execution_count": null,
   "metadata": {},
   "outputs": [],
   "source": [
    "# 2)b.\n",
    "print('a')\n",
    "print('b', 'b)\n",
    "print('c', 'c', 'c')"
   ]
  },
  {
   "cell_type": "code",
   "execution_count": null,
   "metadata": {},
   "outputs": [],
   "source": [
    "# 2)c.\n",
    "# deux erreurs\n",
    "print('a')\n",
    "print('b' 'b')\n",
    "print('c', 'c', 'c'"
   ]
  },
  {
   "cell_type": "code",
   "execution_count": null,
   "metadata": {},
   "outputs": [],
   "source": [
    "# 2)d.\n",
    "# plusieurs erreurs\n",
    "print('a')\n",
    "prlnt(, 'b')\n",
    "pront('c', 'c', 'c')"
   ]
  },
  {
   "cell_type": "markdown",
   "metadata": {
    "deletable": false,
    "editable": false
   },
   "source": [
    "## 2. Variables, expressions et affichage avancé."
   ]
  },
  {
   "cell_type": "markdown",
   "metadata": {
    "deletable": false,
    "editable": false
   },
   "source": [
    "Une variable est comme une boîte qui contient une valeur.\n",
    "\n",
    "```\n",
    "x = 7\n",
    "```\n",
    "\n",
    "* Cela stocke la valeur `7` dans la boîte `x`\n",
    "* **Attention** : la variable affectée est à gauche, la valeur à droite.\n",
    "* Plus tard, `x` permet de retrouver la valeur de la boîte."
   ]
  },
  {
   "cell_type": "code",
   "execution_count": null,
   "metadata": {
    "deletable": false
   },
   "outputs": [],
   "source": [
    "x = 7\n",
    "print('mon numéro porte-bonheur est', x)\n",
    "print(x, x, 'x', x)"
   ]
  },
  {
   "cell_type": "markdown",
   "metadata": {
    "deletable": false,
    "editable": false
   },
   "source": [
    "3) Quelle est la différence entre `x` et `'x'` ?"
   ]
  },
  {
   "cell_type": "markdown",
   "metadata": {
    "deletable": false
   },
   "source": [
    "__votre réponse ici__"
   ]
  },
  {
   "cell_type": "markdown",
   "metadata": {
    "deletable": false,
    "editable": false
   },
   "source": [
    "On peut demander à _python_ d'effectuer des calculs."
   ]
  },
  {
   "cell_type": "code",
   "execution_count": null,
   "metadata": {
    "deletable": false
   },
   "outputs": [],
   "source": [
    "x = 7\n",
    "print(3 + 2)\n",
    "print(x + 2 - 5)"
   ]
  },
  {
   "cell_type": "markdown",
   "metadata": {
    "deletable": false,
    "editable": false
   },
   "source": [
    "4) En utilisant la variable `x` définie ci-dessous, affichez le résultat du calcul $3x^8 + 2x - 7$."
   ]
  },
  {
   "cell_type": "code",
   "execution_count": null,
   "metadata": {
    "deletable": false
   },
   "outputs": [],
   "source": [
    "x = 7\n",
    "# à compléter !"
   ]
  },
  {
   "cell_type": "markdown",
   "metadata": {
    "deletable": false,
    "editable": false
   },
   "source": [
    "5. Utilisez des variables pour obtenir l'affichage suivant.\n",
    " ```\n",
    "La somme de 3 et 4 vaut 7\n",
    "Le produit de 3 et 4 vaut 12\n",
    "J'ai utilisé les variables \"x\" et \"y\"\n",
    "```"
   ]
  },
  {
   "cell_type": "code",
   "execution_count": null,
   "metadata": {
    "deletable": false
   },
   "outputs": [],
   "source": [
    "# à compléter\n",
    "\n",
    "print('La somme de', x, 'et', y, 'vaut', x + y)"
   ]
  },
  {
   "cell_type": "markdown",
   "metadata": {
    "deletable": false,
    "editable": false
   },
   "source": [
    "6) Exécutez le code suivant et expliquez ce que vous obtenez."
   ]
  },
  {
   "cell_type": "code",
   "execution_count": null,
   "metadata": {},
   "outputs": [],
   "source": [
    "x = 2\n",
    "y = x + 1\n",
    "z = 2 * y - 3\n",
    "x = x - z + 1\n",
    "y = y * x\n",
    "print(y)"
   ]
  },
  {
   "cell_type": "markdown",
   "metadata": {
    "deletable": false,
    "editable": false
   },
   "source": [
    "Expliquez en donnant l'évolution des valeurs des variables."
   ]
  },
  {
   "cell_type": "markdown",
   "metadata": {
    "deletable": false
   },
   "source": [
    "__Votre réponse ici__"
   ]
  },
  {
   "cell_type": "markdown",
   "metadata": {
    "deletable": false,
    "editable": false
   },
   "source": [
    " On a défini deux variables `x` et `y`. On voudrait échanger leur valeurs (sans utiliser directement ces valeurs). "
   ]
  },
  {
   "cell_type": "code",
   "execution_count": null,
   "metadata": {
    "deletable": false,
    "editable": false
   },
   "outputs": [],
   "source": [
    "x = 5\n",
    "y = 1\n",
    "# essai d'échange de contenu des variables\n",
    "y = x;\n",
    "x = y;\n",
    "# observation du résultat\n",
    "print('x vaut', x, 'et y vaut', y);"
   ]
  },
  {
   "cell_type": "markdown",
   "metadata": {
    "deletable": false,
    "editable": false
   },
   "source": [
    "7) Pourquoi la version ci-dessus ne fonctionne-t-elle pas ? "
   ]
  },
  {
   "cell_type": "markdown",
   "metadata": {},
   "source": [
    "__Votre réponse ici__"
   ]
  },
  {
   "cell_type": "markdown",
   "metadata": {
    "deletable": false,
    "editable": false
   },
   "source": [
    "8) Comment faire pour échanger le contenu des variables `x` et `y` ?"
   ]
  },
  {
   "cell_type": "code",
   "execution_count": null,
   "metadata": {},
   "outputs": [],
   "source": [
    "x = 5;\n",
    "y = 1;\n",
    "# à vous de jouer pour échanger le contenu de x et y\n",
    "# Vous n'avez pas le droit d'utiliser des nombres (par exemple 1 ou 5) en dessous.\n",
    "\n",
    "\n",
    "# observation du résultat\n",
    "print('x vaut', x, 'et y vaut', y)"
   ]
  },
  {
   "cell_type": "markdown",
   "metadata": {
    "deletable": false,
    "editable": false
   },
   "source": [
    "## 3. Un peu d'aléatoire"
   ]
  },
  {
   "cell_type": "markdown",
   "metadata": {
    "deletable": false,
    "editable": false
   },
   "source": [
    "On veut simuler un lancer de dé (à 6 faces). Pour ce faire, on utilise la fonction `randint` de la bibliothèque `random`."
   ]
  },
  {
   "cell_type": "code",
   "execution_count": null,
   "metadata": {
    "deletable": false,
    "editable": false
   },
   "outputs": [],
   "source": [
    "# importation de la fonction\n",
    "from random import randint"
   ]
  },
  {
   "cell_type": "markdown",
   "metadata": {
    "deletable": false,
    "editable": false
   },
   "source": [
    "Si on veut de l'aide sur une fonction, on peut consulter la documentation de _python_ ou utiliser l'aide rapide : `help(une_fonction)` affiche une documentation succincte sur `une_fonction`"
   ]
  },
  {
   "cell_type": "code",
   "execution_count": null,
   "metadata": {
    "deletable": false,
    "editable": false
   },
   "outputs": [],
   "source": [
    "help(randint)"
   ]
  },
  {
   "cell_type": "markdown",
   "metadata": {
    "deletable": false,
    "editable": false
   },
   "source": [
    "On utilise donc la ligne de code suivante pour obtenir le résultat du lancer dans la variable `dé1`.\n",
    "Ce résultat doit être un nombre aléatoire entre 1 et 6 ; exécutez le code ci-dessous plusieurs fois pour vous en convaincre."
   ]
  },
  {
   "cell_type": "code",
   "execution_count": null,
   "metadata": {
    "deletable": false,
    "editable": false
   },
   "outputs": [],
   "source": [
    "dé1 = randint(1, 6)\n",
    "print('Le lancer du dé 1 est', dé1)"
   ]
  },
  {
   "cell_type": "markdown",
   "metadata": {
    "deletable": false,
    "editable": false
   },
   "source": [
    "9) Sur le même modèle, définissez des variables `dé2` et `dé3` qui contiennent le résultat de deux autres lancers de dés (à 6 faces).\n",
    "Votre code ci-dessous doit produire un affichage sous la forme\n",
    "```\n",
    "Le lancer du dé 2 est X\n",
    "Le lancer du dé 3 est Y\n",
    "```\n",
    "où `X` et `Y` sont les résultats de lancers des dés."
   ]
  },
  {
   "cell_type": "code",
   "execution_count": null,
   "metadata": {},
   "outputs": [],
   "source": [
    "# votre code ici\n",
    "\n",
    "\n"
   ]
  },
  {
   "cell_type": "markdown",
   "metadata": {
    "deletable": false,
    "editable": false
   },
   "source": [
    "10) Affichez ensuite la somme des trois lancers de dés.\n",
    "Votre code doit produire un affichage de la forme\n",
    "```\n",
    "La somme des trois lancers de dés est S\n",
    "```\n",
    "où `S` est la valeur de la somme."
   ]
  },
  {
   "cell_type": "code",
   "execution_count": null,
   "metadata": {},
   "outputs": [],
   "source": [
    "# votre code ici"
   ]
  },
  {
   "cell_type": "markdown",
   "metadata": {
    "deletable": false,
    "editable": false
   },
   "source": [
    "## 4. Tests"
   ]
  },
  {
   "cell_type": "markdown",
   "metadata": {
    "deletable": false,
    "editable": false
   },
   "source": [
    "On veut savoir si une propriété est vraie (`True`) ou fausse (`False`). Pour ce faire, on utilise les opérateurs de comparaisons.\n",
    "**Attention** :\n",
    "* `==` sert à tester l'égalité (**à ne pas confondre avec l'affection de variables `=`**)\n",
    "* `!=` sert à tester si l'égalité est fausse, correspond à $\\neq$ en mathématiques\n",
    "* `<=` sert à tester $\\leqslant$, de même `>=` pour tester $\\geqslant$\n",
    "\n",
    "Exécutez les codes ci-dessous pour que _python_ vous dise si les égalités / inégalité suivantes sont vraies ou fausses."
   ]
  },
  {
   "cell_type": "code",
   "execution_count": null,
   "metadata": {},
   "outputs": [],
   "source": [
    "3 == 4"
   ]
  },
  {
   "cell_type": "code",
   "execution_count": null,
   "metadata": {},
   "outputs": [],
   "source": [
    "3 == 4 * 5 - 17"
   ]
  },
  {
   "cell_type": "code",
   "execution_count": null,
   "metadata": {},
   "outputs": [],
   "source": [
    "42 > 4 + 2 + 3"
   ]
  },
  {
   "cell_type": "code",
   "execution_count": null,
   "metadata": {},
   "outputs": [],
   "source": [
    "42 ** 2 - 24 ** 3 <= 7 "
   ]
  },
  {
   "cell_type": "code",
   "execution_count": null,
   "metadata": {},
   "outputs": [],
   "source": [
    "25 ** 3 > 5 ** 8 / 5 / 5"
   ]
  },
  {
   "cell_type": "markdown",
   "metadata": {
    "deletable": false,
    "editable": false
   },
   "source": [
    "11) Demandez à _python_ pour savoir si les égalités ou inégalité suivantes sont vraies."
   ]
  },
  {
   "cell_type": "markdown",
   "metadata": {
    "deletable": false,
    "editable": false
   },
   "source": [
    "11) a) $3 \\times 5 = 5 + 17$"
   ]
  },
  {
   "cell_type": "code",
   "execution_count": null,
   "metadata": {},
   "outputs": [],
   "source": []
  },
  {
   "cell_type": "markdown",
   "metadata": {
    "deletable": false,
    "editable": false
   },
   "source": [
    "11) b) $24 + 8 \\times 2 + 2 \\neq 42$"
   ]
  },
  {
   "cell_type": "code",
   "execution_count": null,
   "metadata": {},
   "outputs": [],
   "source": []
  },
  {
   "cell_type": "markdown",
   "metadata": {
    "deletable": false,
    "editable": false
   },
   "source": [
    "11) c) $\\frac{3 + 9}{24} > \\frac{2 + 7}{19}$"
   ]
  },
  {
   "cell_type": "code",
   "execution_count": null,
   "metadata": {},
   "outputs": [],
   "source": []
  },
  {
   "cell_type": "markdown",
   "metadata": {
    "deletable": false,
    "editable": false
   },
   "source": [
    "On peut utiliser des variables dans les tests."
   ]
  },
  {
   "cell_type": "code",
   "execution_count": null,
   "metadata": {
    "deletable": false,
    "editable": false
   },
   "outputs": [],
   "source": [
    "x = 7\n",
    "print(x + 3 == 10)"
   ]
  },
  {
   "cell_type": "markdown",
   "metadata": {
    "deletable": false,
    "editable": false
   },
   "source": [
    "12) On lance deux dés à six faces. Créez deux variables (aléatoires) `dé1` et `dé2` pour ces lancers. Affichez le résultat du test pour savoir si le `dé1` est supérieur ou égal au `dé2`."
   ]
  },
  {
   "cell_type": "code",
   "execution_count": null,
   "metadata": {},
   "outputs": [],
   "source": [
    "dé1 = # à compléter\n",
    "dé2 = # à compléter\n",
    "\n",
    "print(...) # à compléter\n"
   ]
  },
  {
   "cell_type": "markdown",
   "metadata": {
    "deletable": false,
    "editable": false
   },
   "source": [
    "## 5. Branchements conditionnels"
   ]
  },
  {
   "cell_type": "markdown",
   "metadata": {
    "deletable": false,
    "editable": false
   },
   "source": [
    "On souhaite à présent exécuter du code qui dépend de la valeur des variables.\n",
    "\n",
    "Pour ce faire, on va utiliser un branchement conditionnel (`if`).\n",
    "Modèle :\n",
    "```\n",
    "if test:\n",
    "    # exécuté si le test est vrai\n",
    "else:\n",
    "    # exécuté si le test est faux\n",
    "```\n",
    "Exemple :"
   ]
  },
  {
   "cell_type": "code",
   "execution_count": null,
   "metadata": {
    "deletable": false,
    "editable": false
   },
   "outputs": [],
   "source": [
    "if 10 ** 8 > 4 ** 13:\n",
    "    print('Plus grand')\n",
    "else:\n",
    "    print('Plus petit')"
   ]
  },
  {
   "cell_type": "markdown",
   "metadata": {
    "deletable": false,
    "editable": false
   },
   "source": [
    "Reprenons le lancer de dé. On considère qu'on a gagné si le lancer du dé 1 est 4, 5, 6, sinon, on a perdu.\n",
    "On écrit donc le code suivant."
   ]
  },
  {
   "cell_type": "code",
   "execution_count": null,
   "metadata": {
    "deletable": false,
    "editable": false
   },
   "outputs": [],
   "source": [
    "dé1 = randint(1,6)\n",
    "if dé1 > 3:\n",
    "    print('gagné')\n",
    "else:\n",
    "    print('perdu')"
   ]
  },
  {
   "cell_type": "markdown",
   "metadata": {
    "deletable": false,
    "editable": false
   },
   "source": [
    "**Attention** : les espaces (indentation) sont obligatoires ; votre éditeur doit les écrire automatiquement."
   ]
  },
  {
   "cell_type": "markdown",
   "metadata": {
    "deletable": false,
    "editable": false
   },
   "source": [
    "Vous pouvez jouer (exécuter le code) plusieurs fois pour vous convaincre que vous ne gagnez (ou perdez) pas à tous les coups."
   ]
  },
  {
   "cell_type": "markdown",
   "metadata": {
    "deletable": false,
    "editable": false
   },
   "source": [
    "La partie `else` est facultative : si on ne veut rien faire si le test est faux, alors on ne l'écrit pas.\n",
    "\n",
    "Exemple :"
   ]
  },
  {
   "cell_type": "code",
   "execution_count": null,
   "metadata": {
    "deletable": false,
    "editable": false
   },
   "outputs": [],
   "source": [
    "dé1 = randint(1,6)\n",
    "if dé1 > 3:\n",
    "    print('gagné')"
   ]
  },
  {
   "cell_type": "markdown",
   "metadata": {
    "deletable": false,
    "editable": false
   },
   "source": [
    "13) _Plusieurs dés._ Écrivez du code pour lancer trois dés (à 6 faces). Vous affichez `gagné` si la somme des trois dés est supérieure ou égale à 13, `perdu`, sinon."
   ]
  },
  {
   "cell_type": "code",
   "execution_count": null,
   "metadata": {},
   "outputs": [],
   "source": [
    "# votre code\n",
    "\n",
    "\n"
   ]
  },
  {
   "cell_type": "markdown",
   "metadata": {
    "deletable": false,
    "editable": false
   },
   "source": [
    "14) _Le plus grand dé._ Écrivez du code pour lancer deux dés (aléatoires à 6 faces). Affichez la plus grande valeur obtenue.\n",
    "\n",
    "L'affichage obtenu doit être sous la forme\n",
    "```\n",
    "La plus grande valeur obtenue est V\n",
    "```"
   ]
  },
  {
   "cell_type": "code",
   "execution_count": null,
   "metadata": {},
   "outputs": [],
   "source": [
    "# votre code\n",
    "\n"
   ]
  },
  {
   "cell_type": "markdown",
   "metadata": {
    "deletable": false,
    "editable": false
   },
   "source": [
    "15) _Ranger le résultat._ Écrivez du code pour lancer deux dés (aléatoires à 6 faces). Affichez les deux valeurs en commençant par la plus grande.\n",
    "\n",
    "L'affichage obtenu doit être sous la forme\n",
    "```\n",
    "Les lancers obtenus sont L1 et L2\n",
    "```\n",
    "où `L1` est supérieur (ou égal) à `L2`."
   ]
  },
  {
   "cell_type": "code",
   "execution_count": null,
   "metadata": {},
   "outputs": [],
   "source": [
    "# votre code\n",
    "\n"
   ]
  },
  {
   "cell_type": "markdown",
   "metadata": {
    "deletable": false,
    "editable": false
   },
   "source": [
    "16) _Attention à l'indentation !_ Comparez les deux codes suivants et expliquez pourquoi ils ne donnent pas toujours le même résultat."
   ]
  },
  {
   "cell_type": "code",
   "execution_count": null,
   "metadata": {
    "deletable": false,
    "editable": false
   },
   "outputs": [],
   "source": [
    "# 15) a)\n",
    "dé1 = randint(1, 6)\n",
    "if dé1 == 6:\n",
    "    print('Vous avez obtenu 6')\n",
    "    print('Bravo !')\n",
    "    "
   ]
  },
  {
   "cell_type": "code",
   "execution_count": null,
   "metadata": {
    "deletable": false,
    "editable": false
   },
   "outputs": [],
   "source": [
    "# 15) b)\n",
    "dé1 = randint(1, 6)\n",
    "if dé1 == 6:\n",
    "    print('Vous avez obtenu 6')\n",
    "print('Bravo !')\n"
   ]
  },
  {
   "cell_type": "markdown",
   "metadata": {
    "deletable": false,
    "editable": false
   },
   "source": [
    "Quelle différence de résultat ? Et pourquoi ?\n"
   ]
  },
  {
   "cell_type": "markdown",
   "metadata": {},
   "source": [
    "**Votre réponse ici**"
   ]
  },
  {
   "cell_type": "markdown",
   "metadata": {
    "deletable": false,
    "editable": false
   },
   "source": [
    "Il est possible d'imbriquer des conditions.\n",
    "\n",
    "Imaginons le jeu de dé suivant :\n",
    "* On lance deux dés à 6 faces.\n",
    "* Si la somme des deux dés est supérieure ou égale à 7, on regarde si le dé 1 vaut 5 ou 6 : on a alors gagné.\n",
    "* Si la somme des deux dés n'est pas supérieure ou égale à 7, on regarde si le dé 2 vaut 1 ou 2, auquel cas on a gagné.\n",
    "* On a perdu dans tous les autres cas.\n",
    "\n",
    "On peut coder ce jeu ainsi."
   ]
  },
  {
   "cell_type": "code",
   "execution_count": null,
   "metadata": {
    "deletable": false,
    "editable": false
   },
   "outputs": [],
   "source": [
    "dé1 = randint(1, 6)\n",
    "dé2 = randint(1, 6)\n",
    "\n",
    "if dé1 + dé2 >= 7:\n",
    "    if dé1 >= 5:\n",
    "        print('gagné')\n",
    "    else:\n",
    "        print('perdu')\n",
    "else:\n",
    "    if dé2 <= 2:\n",
    "        print('gagné')\n",
    "    else:\n",
    "        print('perdu')"
   ]
  },
  {
   "cell_type": "markdown",
   "metadata": {
    "deletable": false,
    "editable": false
   },
   "source": [
    "Notez que les branchements `if` sont imbriqués et qu'il y a donc plusieurs niveaux d'indentation."
   ]
  },
  {
   "cell_type": "markdown",
   "metadata": {
    "deletable": false,
    "editable": false
   },
   "source": [
    "17) *Un autre jeu.* On lance deux dés (à 6 faces). On considère que l'on a gagné si on obtient 4 et 2 avec les deux dés\n",
    "(dans n'importe quel ordre).\n",
    "\n",
    "Programmez ce jeu."
   ]
  },
  {
   "cell_type": "code",
   "execution_count": null,
   "metadata": {},
   "outputs": [],
   "source": [
    "# à vous de jouer\n"
   ]
  },
  {
   "cell_type": "markdown",
   "metadata": {
    "deletable": false,
    "editable": false
   },
   "source": [
    "18) *(bonus) Le 421, préparatifs.* On lance trois dés (à 6 faces). On veut créer trois nouvelles variables `a`, `b` et `c` telles que `a` $\\leqslant$ `b` $\\leqslant$ `c` et qui contiennent les résultats des lancers.\n",
    "\n",
    "Exemples d'affichages obtenus :\n",
    "\n",
    "```\n",
    "Lancers : 5 4 3\n",
    "rangés : 3 4 5\n",
    "```\n",
    "\n",
    "```\n",
    "Lancers : 6 1 3\n",
    "rangés : 1 3 6\n",
    "```"
   ]
  },
  {
   "cell_type": "code",
   "execution_count": null,
   "metadata": {},
   "outputs": [],
   "source": [
    "dé1 = ... # à compléter\n",
    "dé2 = ... # à compléter\n",
    "dé3 = .... # à compléter\n",
    "\n",
    "# votre code, vous devez définir a, b, c sans modifier dé1, dé2, dé3\n",
    "\n",
    "\n",
    "\n",
    "\n",
    "# ne plus rien modifier sous cette ligne\n",
    "print(\"Lancers :\", dé1, dé2, dé3)\n",
    "print(\"rangés :\", a, b, c)\n"
   ]
  },
  {
   "cell_type": "markdown",
   "metadata": {
    "deletable": false,
    "editable": false
   },
   "source": [
    "19) *(bonus) Le 421.* On lance trois dés (à 6 faces). Selon la combinaison obtenue, on obtient un certain nombre de points.\n",
    "\n",
    "*Remarque :* pour une combinaison, l'ordre des dés n'a pas d'importance, 421 donne la même combinaison que 142.\n",
    "\n",
    "Plus précisément :\n",
    "* Si on obtient 421, on gagne 10 points.\n",
    "* Si on obtient deux as (1) et une troisième valeur, on gagne cette valeur : par exemple, 114 donne 4 points, sauf 111 qui vaut 7 points.\n",
    "* Si on obtient trois valeurs identiques, on gagne cette valeur : 555 rapporte 5 points. Exception : 111 rapporte 7 points.\n",
    "* Si on obtient trois chiffres successifs, par exemple 543, on gagne 2 points.\n",
    "* Toutes les autres combinaisons gagnent un point.\n",
    "\n",
    "Écrivez du code pour lancer trois dés et qui affiche le nombre de points obtenus au 421.\n",
    "\n",
    "*Indication :* vous pouvez créer de nouvelles variables correspondant aux dés rangés du plus petit au plus grand."
   ]
  },
  {
   "cell_type": "code",
   "execution_count": null,
   "metadata": {},
   "outputs": [],
   "source": [
    "# votre code\n",
    "from random import randint\n",
    "\n",
    "dé1 = randint(1,6)\n",
    "dé2 = randint(1,6)\n",
    "dé3 = randint(1,6)\n",
    "\n",
    "a = min(min(dé1, dé2), dé3)\n",
    "b = \n",
    "c = \n",
    "\n",
    "score = 0\n",
    "if a == 1 and b == 2 and c == 4:\n",
    "    score = 10\n",
    "if a == 1 and b == 1 and c != 1:\n",
    "    score = 4\n",
    "    \n"
   ]
  },
  {
   "cell_type": "markdown",
   "metadata": {
    "deletable": false,
    "editable": false
   },
   "source": [
    "## 6. Autour des divisions des nombres entiers en *python 3*"
   ]
  },
  {
   "cell_type": "markdown",
   "metadata": {
    "deletable": false,
    "editable": false
   },
   "source": [
    "### Division flottante, division entière et modulo"
   ]
  },
  {
   "cell_type": "markdown",
   "metadata": {
    "deletable": false,
    "editable": false
   },
   "source": [
    "La division notée avec une seule barre `/` donne **toujours** un résultat qui est un nombre à virgule en *python 3*.\n",
    "Par exemple,"
   ]
  },
  {
   "cell_type": "code",
   "execution_count": null,
   "metadata": {
    "deletable": false,
    "editable": false
   },
   "outputs": [],
   "source": [
    "3 / 5"
   ]
  },
  {
   "cell_type": "code",
   "execution_count": null,
   "metadata": {
    "deletable": false,
    "editable": false
   },
   "outputs": [],
   "source": [
    "8 / 4"
   ]
  },
  {
   "cell_type": "markdown",
   "metadata": {
    "deletable": false,
    "editable": false
   },
   "source": [
    "La division notée avec deux barres `//` est la division entière en *python 3*. Par exemple,"
   ]
  },
  {
   "cell_type": "code",
   "execution_count": null,
   "metadata": {
    "deletable": false,
    "editable": false
   },
   "outputs": [],
   "source": [
    "3 // 5"
   ]
  },
  {
   "cell_type": "code",
   "execution_count": null,
   "metadata": {
    "deletable": false,
    "editable": false
   },
   "outputs": [],
   "source": [
    "8 // 4"
   ]
  },
  {
   "cell_type": "code",
   "execution_count": null,
   "metadata": {
    "deletable": false,
    "editable": false
   },
   "outputs": [],
   "source": [
    "10 // 4"
   ]
  },
  {
   "cell_type": "markdown",
   "metadata": {
    "deletable": false,
    "editable": false
   },
   "source": [
    "La division entière `a // b` calcule en fait le *quotient* de la division euclidienne de `a` par `b`."
   ]
  },
  {
   "cell_type": "markdown",
   "metadata": {
    "deletable": false,
    "editable": false
   },
   "source": [
    "Pour obtenir, le *reste* de la division euclidienne de `a` par `b`, on utilise l'opérateur modulo `%`. Par exemple,"
   ]
  },
  {
   "cell_type": "code",
   "execution_count": null,
   "metadata": {
    "deletable": false,
    "editable": false
   },
   "outputs": [],
   "source": [
    "3 % 5"
   ]
  },
  {
   "cell_type": "code",
   "execution_count": null,
   "metadata": {
    "deletable": false,
    "editable": false
   },
   "outputs": [],
   "source": [
    "8 % 4"
   ]
  },
  {
   "cell_type": "code",
   "execution_count": null,
   "metadata": {
    "deletable": false,
    "editable": false
   },
   "outputs": [],
   "source": [
    "10 % 4"
   ]
  },
  {
   "cell_type": "markdown",
   "metadata": {
    "deletable": false,
    "editable": false
   },
   "source": [
    "**Propriétés :**\n",
    "* `a` est divisible par `b`, nombre entier non nul, si et seulement `a % b` est `0`.\n",
    "* *Cas particulier :* `a` est pair si et seulement si `a % 2` est `0` ; `a` est impair si et seulement si `a % 2` est `1`."
   ]
  },
  {
   "cell_type": "markdown",
   "metadata": {
    "deletable": false,
    "editable": false
   },
   "source": [
    "### Exemples"
   ]
  },
  {
   "cell_type": "markdown",
   "metadata": {
    "deletable": false,
    "editable": false
   },
   "source": [
    "$42$ est divisible par $6$ car "
   ]
  },
  {
   "cell_type": "code",
   "execution_count": null,
   "metadata": {
    "deletable": false,
    "editable": false
   },
   "outputs": [],
   "source": [
    "42 % 6"
   ]
  },
  {
   "cell_type": "markdown",
   "metadata": {
    "deletable": false,
    "editable": false
   },
   "source": [
    "$43$ n'est pas divisible par $7$ car"
   ]
  },
  {
   "cell_type": "code",
   "execution_count": null,
   "metadata": {
    "deletable": false,
    "editable": false
   },
   "outputs": [],
   "source": [
    "43 % 7"
   ]
  },
  {
   "cell_type": "markdown",
   "metadata": {
    "deletable": false,
    "editable": false
   },
   "source": [
    "$1235$ est impair car"
   ]
  },
  {
   "cell_type": "code",
   "execution_count": null,
   "metadata": {
    "deletable": false,
    "editable": false
   },
   "outputs": [],
   "source": [
    "1235 % 2"
   ]
  },
  {
   "cell_type": "markdown",
   "metadata": {
    "deletable": false,
    "editable": false
   },
   "source": [
    "$125848542$ est pair car"
   ]
  },
  {
   "cell_type": "code",
   "execution_count": null,
   "metadata": {
    "deletable": false,
    "editable": false
   },
   "outputs": [],
   "source": [
    "125848542 % 2"
   ]
  },
  {
   "cell_type": "markdown",
   "metadata": {
    "deletable": false,
    "editable": false
   },
   "source": [
    "### Exercices"
   ]
  },
  {
   "cell_type": "markdown",
   "metadata": {
    "deletable": false,
    "editable": false
   },
   "source": [
    "20) $10141081$ est-il divisible par $2027$ ?"
   ]
  },
  {
   "cell_type": "code",
   "execution_count": null,
   "metadata": {},
   "outputs": [],
   "source": [
    "# à vous de jouer"
   ]
  },
  {
   "cell_type": "markdown",
   "metadata": {
    "deletable": false,
    "editable": false
   },
   "source": [
    "21) On lance deux dés à six faces. Le nombre de points remportés est\n",
    "* 0 si la somme des dés est paire,\n",
    "* 1 si la somme des dés est impaire.\n",
    "\n",
    "Écrivez du code qui simule le lancer des deux dés et affiche le nombre de points remportés."
   ]
  },
  {
   "cell_type": "code",
   "execution_count": null,
   "metadata": {},
   "outputs": [],
   "source": [
    "# à vous de jouer"
   ]
  },
  {
   "cell_type": "markdown",
   "metadata": {
    "deletable": false,
    "editable": false
   },
   "source": [
    "22) On lance deux dés à six faces. Le nombre de points remportés est\n",
    "* 4 si la somme des dés est paire,\n",
    "* *1 + la somme* si la somme des dés est impaire.\n",
    "\n",
    "Écrivez du code qui simule le lancer des deux dés et affiche le nombre de points remportés."
   ]
  },
  {
   "cell_type": "code",
   "execution_count": null,
   "metadata": {},
   "outputs": [],
   "source": [
    "# à vous de jouer"
   ]
  }
 ],
 "metadata": {
  "celltoolbar": "Aucun(e)",
  "kernelspec": {
   "display_name": "Python 3 (ipykernel)",
   "language": "python",
   "name": "python3"
  },
  "language_info": {
   "codemirror_mode": {
    "name": "ipython",
    "version": 3
   },
   "file_extension": ".py",
   "mimetype": "text/x-python",
   "name": "python",
   "nbconvert_exporter": "python",
   "pygments_lexer": "ipython3",
   "version": "3.10.8"
  },
  "metadata": {
   "deletable": false,
   "editable": true,
   "trusted": true
  },
  "varInspector": {
   "cols": {
    "lenName": 16,
    "lenType": 16,
    "lenVar": 40
   },
   "kernels_config": {
    "python": {
     "delete_cmd_postfix": "",
     "delete_cmd_prefix": "del ",
     "library": "var_list.py",
     "varRefreshCmd": "print(var_dic_list())"
    },
    "r": {
     "delete_cmd_postfix": ") ",
     "delete_cmd_prefix": "rm(",
     "library": "var_list.r",
     "varRefreshCmd": "cat(var_dic_list()) "
    }
   },
   "types_to_exclude": [
    "module",
    "function",
    "builtin_function_or_method",
    "instance",
    "_Feature"
   ],
   "window_display": false
  }
 },
 "nbformat": 4,
 "nbformat_minor": 2
}
