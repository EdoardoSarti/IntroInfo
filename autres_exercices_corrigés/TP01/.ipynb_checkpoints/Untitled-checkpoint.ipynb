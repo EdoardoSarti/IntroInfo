{
 "cells": [
  {
   "cell_type": "markdown",
   "id": "bc55e069",
   "metadata": {},
   "source": [
    "# Partiel 2024-2025"
   ]
  },
  {
   "cell_type": "markdown",
   "id": "8a3c622f",
   "metadata": {},
   "source": [
    "# Questions de cours : 12/40"
   ]
  },
  {
   "cell_type": "markdown",
   "id": "10a81f7e",
   "metadata": {},
   "source": [
    "# TP01-TP02"
   ]
  },
  {
   "cell_type": "markdown",
   "id": "6a94f944",
   "metadata": {},
   "source": [
    "<b><font color='white' style='background-color:orange'>1.</font></b> Attribuez la valeur `100` à la variable `a`, et la valeur `7` à la variable b. Ensuite, calculez la division entière de a par b."
   ]
  },
  {
   "cell_type": "code",
   "execution_count": null,
   "id": "02635149",
   "metadata": {},
   "outputs": [],
   "source": [
    "a = 100"
   ]
  },
  {
   "cell_type": "code",
   "execution_count": null,
   "id": "66128bce",
   "metadata": {},
   "outputs": [],
   "source": [
    "b = 7"
   ]
  },
  {
   "cell_type": "code",
   "execution_count": null,
   "id": "c07f6c5c",
   "metadata": {},
   "outputs": [],
   "source": [
    "a//b"
   ]
  },
  {
   "cell_type": "markdown",
   "id": "d6da6e1b",
   "metadata": {},
   "source": [
    "<b><font color='white' style='background-color:orange'>2.2.d</font></b> Qu'affiche ce code?<br>\n",
    "```python\n",
    "prénom = \"Inigo\"\n",
    "nom = \"Montoya\"\n",
    "print(\"Bonjour\", \"Je m'appelle\", prénom, nom, end=\".\", sep=\"/\")\n",
    "```"
   ]
  },
  {
   "cell_type": "markdown",
   "id": "de6c88f7",
   "metadata": {},
   "source": [
    "<b><font color='white' style='background-color:green'>2.1.f</font></b> Attribuez la valeur `'Tic'` à la variable `` et la valeur `'Tac'` à la variable `tamias_2`. Ensuite, écrivez les instructions nécessaires pour échanger les  valeurs des deux variables. Utilisez les deux autres cellules pour afficher le contenu de `tamias_1` et `tamias_2`"
   ]
  },
  {
   "cell_type": "code",
   "execution_count": null,
   "id": "f5a25d53",
   "metadata": {},
   "outputs": [],
   "source": [
    "tamias_1 = 'Tic'\n",
    "tamias_2 = 'Tac'\n",
    "\n",
    "tmp = tamias_2\n",
    "tamias_2 = tamias_1\n",
    "tamias_1 = tmp"
   ]
  },
  {
   "cell_type": "code",
   "execution_count": null,
   "id": "7a36bb49",
   "metadata": {},
   "outputs": [],
   "source": [
    "tamias_1"
   ]
  },
  {
   "cell_type": "code",
   "execution_count": null,
   "id": "28e4f0c8",
   "metadata": {},
   "outputs": [],
   "source": [
    "tamias_2"
   ]
  },
  {
   "cell_type": "code",
   "execution_count": null,
   "id": "9c064a4f",
   "metadata": {},
   "outputs": [],
   "source": []
  },
  {
   "cell_type": "markdown",
   "id": "f448e48e",
   "metadata": {},
   "source": [
    "# TP03-TP04"
   ]
  },
  {
   "cell_type": "code",
   "execution_count": null,
   "id": "29c3c7b2",
   "metadata": {},
   "outputs": [],
   "source": []
  }
 ],
 "metadata": {
  "kernelspec": {
   "display_name": "Python 3 (ipykernel)",
   "language": "python",
   "name": "python3"
  },
  "language_info": {
   "codemirror_mode": {
    "name": "ipython",
    "version": 3
   },
   "file_extension": ".py",
   "mimetype": "text/x-python",
   "name": "python",
   "nbconvert_exporter": "python",
   "pygments_lexer": "ipython3",
   "version": "3.10.9"
  }
 },
 "nbformat": 4,
 "nbformat_minor": 5
}
