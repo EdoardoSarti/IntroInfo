{
 "cells": [
  {
   "cell_type": "markdown",
   "id": "437a11d0",
   "metadata": {},
   "source": [
    "<h1><center>SPEV311 — Introduction à l'Informatique — TP 01</center><br>\n",
    "<center>Expressions, Instructions, Fonctions</center></h1>"
   ]
  },
  {
   "cell_type": "markdown",
   "id": "c3a9453e",
   "metadata": {},
   "source": [
    "<h3>Auto-évaluation</h3>\n",
    "\n",
    "<div> Les exercices se divisent en trois niveaux d'auto-évaluation:\n",
    "<ul>\n",
    "    <li><h3><font color='white' style='background-color:orange'>Fondamentaux</font></h3> Pour réviser les notions apprises en cours. Il faut tous les savoir résoudre pour avoir la moyenne.</li>\n",
    "    <li><h3><font color='white' style='background-color:green'>Intermédiaires</font></h3> Pour vous aider à raisonner et rentrer au coeur des sujets. Si vous saurez tous les résoudre, vous aurez un bon niveau de préparation !</li>\n",
    "    <li><h3><font color='white' style='background-color:blue'>Avancés</font></h3> Défis pour vous entraîner à l'examen final... et aller plus loin !</li>\n",
    "</ul>\n",
    "</div>\n",
    "\n",
    "Les exercices avec un <font color='white' style='text-shadow: -1px 0 black, 0 1px black, 1px 0 black, 0 -1px black;'>C</font> sont corrigés : vous trouverez un notebook avec la correction de ces exercices dans le même dossier où vous avez trouvé celui-ci."
   ]
  },
  {
   "cell_type": "markdown",
   "id": "c1b5b9b0",
   "metadata": {},
   "source": [
    "### <font color='black'>Table des matières<font><a class='anchor' id='top'></a>\n",
    "1. [Expressions avec les nombres entiers](#entiers)<br>\n",
    "    1.1 [La calculette Python](#calculette)<br>\n",
    "    1.2 [Division éuclidienne : quotient et reste](#division)<br>\n",
    "2. [Variables](#variables)<br>\n",
    "    2.1 [Affectation](#affectation)<br>\n",
    "    2.2 [Affichage avec `print`](#affichage)<br>\n",
    "    2.3 [Types](#types)<br>\n",
    "3. [Fonctions](#fonctions)<br>\n",
    "    3.1 [Utiliser les fonctions prédéfinies](#prédéfinies)<br>\n",
    "    3.2 [Importer des fonctions](#importer)<br>\n",
    "    3.3 [Définir et utiliser ses propres fonctions](#définir)<br>\n",
    "    3.4 [Compléments sur les fonctions](#compléments)<br>\n",
    "4. [Tests](#tests)<br>\n",
    "    4.1 [Comparaisons](#comparaisons)<br>\n",
    "    4.2 [Flottants et précision](#flottants)<br>"
   ]
  },
  {
   "cell_type": "markdown",
   "id": "45201be3",
   "metadata": {},
   "source": [
    "<h3>1. Expressions avec les nombres entiers</h3><a class='anchor' id='entiers'></a>"
   ]
  },
  {
   "cell_type": "markdown",
   "id": "e22835c2",
   "metadata": {},
   "source": [
    "<b><font color='white' style='background-color:black'>Ex. 1.1</font> La calculette Python</b><a class='anchor' id='calculette'></a><br>\n",
    "On peut utiliser Python comme une normale calculette.<br> \n",
    "<b><font color='white' style='background-color:orange'>1.1.a</font> <font color='white' style='text-shadow: -1px 0 black, 0 1px black, 1px 0 black, 0 -1px black;'>C</font></b> Essayons: si Marc a 1634 pommes et Pierre a 9830 pommes, combient de pommes auront Marc et Pierre en total ? Dans la boîte de code ci-dessous, écrivez la bonne opération à faire, et obtenez le résultat"
   ]
  },
  {
   "cell_type": "code",
   "execution_count": null,
   "id": "dea6870c",
   "metadata": {},
   "outputs": [],
   "source": [
    "1634 + 9830"
   ]
  },
  {
   "cell_type": "markdown",
   "id": "a7df8787",
   "metadata": {},
   "source": [
    "<b><font color='white' style='background-color:orange'>1.1.b</font></b> Calculez le nombre de secondes dans une journée"
   ]
  },
  {
   "cell_type": "code",
   "execution_count": null,
   "id": "0911e635",
   "metadata": {},
   "outputs": [],
   "source": []
  },
  {
   "cell_type": "markdown",
   "id": "132e39b4",
   "metadata": {},
   "source": [
    "<b><font color='white' style='background-color:orange'>1.1.c</font></b> La vieille Céline a 7 filles, chacune de ses filles a 7 enfants, chaque enfant a 7 chats et chaque chat a 7 chatons : en comptant filles, enfants, chats et chatons, c'est combien le grand total de la famille de la vieille Céline (sans la compter) ? Calculez-le en n'utilisant que des sommes et des produits, puis calculez-le en utilisant l'opérateur puissance."
   ]
  },
  {
   "cell_type": "code",
   "execution_count": null,
   "id": "787b441c",
   "metadata": {},
   "outputs": [],
   "source": []
  },
  {
   "cell_type": "code",
   "execution_count": null,
   "id": "504ab7da",
   "metadata": {},
   "outputs": [],
   "source": []
  },
  {
   "cell_type": "markdown",
   "id": "79771879",
   "metadata": {},
   "source": [
    "<b><font color='white' style='background-color:orange'>1.1.d</font> <font color='white' style='text-shadow: -1px 0 black, 0 1px black, 1px 0 black, 0 -1px black;'>C</font></b> Transcrivez cette expression dans la boîte de code ci-dessous et en calculez le résultat:"
   ]
  },
  {
   "cell_type": "markdown",
   "id": "069d1fac",
   "metadata": {},
   "source": [
    "$$ \\left[(2^7 - 15) \\times 5 + 2^{(3+4)^2}\\right] + \\left(2 - (5 \\times 10)\\right)$$"
   ]
  },
  {
   "cell_type": "code",
   "execution_count": null,
   "id": "ca124fec",
   "metadata": {},
   "outputs": [],
   "source": [
    "( (2**7 - 15)*5 + 2**((3+4)**2) ) + (2 - (5*10))"
   ]
  },
  {
   "cell_type": "markdown",
   "id": "5877cd4e",
   "metadata": {},
   "source": [
    "<b><font color='white' style='background-color:green'>1.1.e</font> <font color='white' style='text-shadow: -1px 0 black, 0 1px black, 1px 0 black, 0 -1px black;'>C</font></b> Dans l'expression de l'exercice `1.1.d`, quelles sont les parenthèses qui peuvent être omises sans changer le résultat de l'expression ? Ecrivez à nouveau l'expression de `1.1.d` dans la boîte ci-dessous, enlevez toutes les parenthèses rédondantes et assurez-vous que le résultat ne soit pas changé!"
   ]
  },
  {
   "cell_type": "code",
   "execution_count": null,
   "id": "fb8457bd",
   "metadata": {},
   "outputs": [],
   "source": [
    "(2**7 - 15)*5 + 2**((3+4)**2) + 2 - 5*10"
   ]
  },
  {
   "cell_type": "markdown",
   "id": "33197b1b",
   "metadata": {},
   "source": [
    "<b><font color='white' style='background-color:blue'>1.1.f</font> <font color='white' style='text-shadow: -1px 0 black, 0 1px black, 1px 0 black, 0 -1px black;'>C</font></b> Il est difficile de s'assurer si le résultat de `1.1.d` est correct: on devrait faire les calculs à la main, mais ça a l'air pénible. On peut néanmoins vérifier au moins la *parité* du résultat attendu: en regardant l'expression `1.1.d`, arrivez-vous à prédire si le résultat devra être pair ou impair ? Décrivez votre raisonnement dans la boîte de texte ci-dessous."
   ]
  },
  {
   "cell_type": "markdown",
   "id": "af4bf242",
   "metadata": {},
   "source": [
    "Regardons la parité des facteurs : $$ \\left[(\\mathrm{pair} - \\mathrm{impair}) \\times \\mathrm{impair} + \\mathrm{pair}\\right] + \\left(\\mathrm{pair}\\right)$$\n",
    "$$= \\left[(\\mathrm{impair}) \\times \\mathrm{impair} + \\mathrm{pair}\\right] + \\left(\\mathrm{pair}\\right)$$\n",
    "$$= \\left[\\mathrm{impair} + \\mathrm{pair}\\right] + \\left(\\mathrm{pair}\\right) = \\mathrm{impair}$$"
   ]
  },
  {
   "cell_type": "markdown",
   "id": "c340b54c",
   "metadata": {},
   "source": [
    "<p><img style=\"float:right; margin:20px; padding:20px; max-width:400px\" src=\"Division_euclidienne.jpeg\"></p>\n",
    "<p style=\"text-align:justify;\"><a class='anchor' id='division'></a>\n",
    "<br><br>\n",
    "<b><font color='white' style='background-color:black'>Ex. 1.2</font> Division éuclidienne: quotient et reste</b>\n",
    "<br> En générale, la division décimale rend un résultat à virgule. Il y a des contexte où on est plutôt intéressé à avoir un résultat en termes de quotient et reste entiers : s'il faut dire combien ça fait 2 heures divisées par 3, personne ne dirait $0.\\overline{6}$ heures, mais bien 40 minutes ! Si $a$ et $b$ sont des entiers et $b \\neq 0$, on peut utiliser la division éuclidienne comme vu en cours.<br>\n",
    "</p>"
   ]
  },
  {
   "cell_type": "markdown",
   "id": "2fc6a8bf",
   "metadata": {},
   "source": [
    "<b><font color='white' style='background-color:orange'>1.2.a</font></b> <font color='white' style='text-shadow: -1px 0 black, 0 1px black, 1px 0 black, 0 -1px black;'>C</font> Essayons: Marc, Pierre et Louise veulent se répartir équitablement un plateau avec 14 gâteaux. Combien de gâteaux aura chacun ? Combien de gâteaux resteront-ils sur le plateau ? Ecrivez les deux opérations à faire dans les deux boîtes de code ci-dessous."
   ]
  },
  {
   "cell_type": "code",
   "execution_count": null,
   "id": "17e8fc25",
   "metadata": {},
   "outputs": [],
   "source": [
    "14//3"
   ]
  },
  {
   "cell_type": "code",
   "execution_count": null,
   "id": "9fdf8530",
   "metadata": {},
   "outputs": [],
   "source": [
    "14%3"
   ]
  },
  {
   "cell_type": "markdown",
   "id": "65a30d2f",
   "metadata": {},
   "source": [
    "<b><font color='white' style='background-color:orange'>1.2.b</font></b> <font color='white' style='text-shadow: -1px 0 black, 0 1px black, 1px 0 black, 0 -1px black;'>C</font> Il est toujours important de contrôler ses résultats. Faisons donc le calcul à l'invers: Marc, Pierre et Louise mangent 4 gâteaux chacun, et en laissent 2 sur le plateau. Combien de gâteaux y avait-il sur le plateau?"
   ]
  },
  {
   "cell_type": "code",
   "execution_count": null,
   "id": "560b8d6e",
   "metadata": {},
   "outputs": [],
   "source": [
    "3*4 + 2"
   ]
  },
  {
   "cell_type": "markdown",
   "id": "2e63deea",
   "metadata": {},
   "source": [
    "<p><img style=\"float:right; margin:20px; padding:20px; max-width:200px\" src=\"Plaque_96_puits.jpeg\"></p>\n",
    "<p style=\"text-align:justify;\">\n",
    "<br><br><br><b><font color='white' style='background-color:orange'>1.2.c</font></b> Pour effectuer son titrage, j'ai besoin de remplir 300 puits avec de la solution. Chaque plaque a 96 puits: combien de plaques vais-je remplir complètement? Combien de puits restent-ils à remplir? Ecrivez les deux opérations à faire dans les deux boîtes de code ci-dessous.\n",
    "</p>"
   ]
  },
  {
   "cell_type": "code",
   "execution_count": null,
   "id": "aafabb01",
   "metadata": {},
   "outputs": [],
   "source": []
  },
  {
   "cell_type": "code",
   "execution_count": null,
   "id": "74d9aa1e",
   "metadata": {},
   "outputs": [],
   "source": []
  },
  {
   "cell_type": "markdown",
   "id": "4ef4f636",
   "metadata": {},
   "source": [
    "<b><font color='white' style='background-color:orange'>1.2.d</font></b> Etes-vous sûrs d'avoir bien fait les calculs de l'exercice `1.2.c`? Contrôlez en faisant le calcul invers, tout comme dans l'exercice `1.2.b`"
   ]
  },
  {
   "cell_type": "code",
   "execution_count": null,
   "id": "7241d030",
   "metadata": {},
   "outputs": [],
   "source": []
  },
  {
   "cell_type": "markdown",
   "id": "b146ca5c",
   "metadata": {},
   "source": [
    "<b><font color='white' style='background-color:green'>1.2.e</font></b> <font color='white' style='text-shadow: -1px 0 black, 0 1px black, 1px 0 black, 0 -1px black;'>C</font> Revenons sur cet exercice, cette fois en posant des questions plus utiles d'un point de vue scientifique. Pour effectuer son titrage, j'ai besoin de remplir 455 puits avec de la solution. Chaque plaque a 96 puits et coûte 4 euros: quel sera le montant dépensé pour acheter les plaques? Combien y aura-t-il de puits vides? Ecrivez les deux opérations à faire dans les deux boîtes de code ci-dessous."
   ]
  },
  {
   "cell_type": "code",
   "execution_count": null,
   "id": "05d03dc6",
   "metadata": {},
   "outputs": [],
   "source": [
    "(455//96 + 1)*4     # Cette formule n'est pas valide en général..."
   ]
  },
  {
   "cell_type": "code",
   "execution_count": null,
   "id": "0575a48e",
   "metadata": {},
   "outputs": [],
   "source": [
    "96 - 455%96"
   ]
  },
  {
   "cell_type": "markdown",
   "id": "8a155e07",
   "metadata": {},
   "source": [
    "<b><font color='white' style='background-color:orange'>1.2.f</font></b> L'opération modulo peut donc être utilisée pour savoir si un entier est un multiple d'un autre entier: en effet, si `a` est un multiple de `b`, l'opération `a%b` donnera `0` comme résultat. Vérifiez si `1234321` est un multiple de `11`."
   ]
  },
  {
   "cell_type": "code",
   "execution_count": null,
   "id": "6ff68a37",
   "metadata": {},
   "outputs": [],
   "source": []
  },
  {
   "cell_type": "markdown",
   "id": "b2331c65",
   "metadata": {},
   "source": [
    "<b><font color='white' style='background-color:green'>1.2.g</font></b> Si un nombre $n$ est impair, quel sera le résultat de $n\\%2$? Ecrivez votre réponse dans la boîte de texte ci-dessous et expliquez."
   ]
  },
  {
   "cell_type": "markdown",
   "id": "478db459",
   "metadata": {},
   "source": [
    "**Ici votre réponse**"
   ]
  },
  {
   "cell_type": "markdown",
   "id": "4cb4198f",
   "metadata": {},
   "source": [
    "<b><font color='white' style='background-color:green'>1.2.h</font></b> <font color='white' style='text-shadow: -1px 0 black, 0 1px black, 1px 0 black, 0 -1px black;'>C</font> Copiez-collez l'expression que vous avez écrite en `1.1.d` et contrôlez si son résultat est pair ou impair, c'est à dire, s'il est un multiple de 2 ou pas. Rappelez-vous de l'ordre des opérations!"
   ]
  },
  {
   "cell_type": "code",
   "execution_count": null,
   "id": "b758f10c",
   "metadata": {},
   "outputs": [],
   "source": [
    "(( (2**7 - 15)*5 + 2**((3+4)**2) ) + (2 - (5*10)) ) % 2"
   ]
  },
  {
   "cell_type": "markdown",
   "id": "415bc292",
   "metadata": {},
   "source": [
    "<h3>2. Variables</h3><a class='anchor' id='variables'></a>"
   ]
  },
  {
   "cell_type": "markdown",
   "id": "5fc0ee7a",
   "metadata": {},
   "source": [
    "<p><img style=\"float:right; margin:20px; padding:20px; max-width:300px\" src=\"Variable.jpeg\"></p>\n",
    "<p><br><br>\n",
    "<b><font color='white' style='background-color:black'>Ex. 2.1</font> Affectation</b><a class='anchor' id='affectation'></a><br> Une variable est un espace de mémoire qui contient une valeur. La variable peut changer de valeur au cours d'un script.<br>\n",
    "</p>"
   ]
  },
  {
   "cell_type": "markdown",
   "id": "0cae565c",
   "metadata": {},
   "source": [
    "<b><font color='white' style='background-color:gray'>Exemple</font></b><br>\n",
    "```python\n",
    "a = 7          # Initialise la variable a et attribue la valeur 7\n",
    "\n",
    "a = 'Barbie'   # La variable a est déjà initialisée, et contient la valeur 7. \n",
    "               # Ici, on remplace la valeur 7 avec la valeur 'Barbie'\n",
    "```"
   ]
  },
  {
   "cell_type": "markdown",
   "id": "b7930b02",
   "metadata": {},
   "source": [
    "<b><font color='white' style='background-color:orange'>2.1.a</font></b> <font color='white' style='text-shadow: -1px 0 black, 0 1px black, 1px 0 black, 0 -1px black;'>C</font> Dans la première boîte de code, attribuez la valeur `3` à la variable `nombre`. Dans la deuxième, attribuez la valeur `'Allez les Bleus !'` à la même variable. Enfin, affichez la valeur de la variable en ne saisissant que son nom dans la troisième boîte."
   ]
  },
  {
   "cell_type": "code",
   "execution_count": null,
   "id": "a5c82479",
   "metadata": {},
   "outputs": [],
   "source": [
    "nombre = 3"
   ]
  },
  {
   "cell_type": "code",
   "execution_count": null,
   "id": "45bb691c",
   "metadata": {},
   "outputs": [],
   "source": [
    "nombre = 'Allez les Bleus !'"
   ]
  },
  {
   "cell_type": "code",
   "execution_count": null,
   "id": "3d13184c",
   "metadata": {},
   "outputs": [],
   "source": [
    "nombre"
   ]
  },
  {
   "cell_type": "markdown",
   "id": "1b490841",
   "metadata": {},
   "source": [
    "<b><font color='white' style='background-color:orange'>2.1.b</font></b> Dans l'exercice `2.1.a`, quelles boîtes contiennent des instructions? Quelles boîtes contiennent des expressions? Expliquez."
   ]
  },
  {
   "cell_type": "markdown",
   "id": "4a20c8bd",
   "metadata": {},
   "source": [
    "**Ici votre réponse**"
   ]
  },
  {
   "cell_type": "markdown",
   "id": "6a94f944",
   "metadata": {},
   "source": [
    "<b><font color='white' style='background-color:orange'>2.1.c</font></b> Attribuez la valeur `10` à la variable `a`, et la valeur `7` à la variable b. Ensuite, calculez a - b"
   ]
  },
  {
   "cell_type": "code",
   "execution_count": null,
   "id": "02635149",
   "metadata": {},
   "outputs": [],
   "source": []
  },
  {
   "cell_type": "code",
   "execution_count": null,
   "id": "66128bce",
   "metadata": {},
   "outputs": [],
   "source": []
  },
  {
   "cell_type": "code",
   "execution_count": null,
   "id": "c07f6c5c",
   "metadata": {},
   "outputs": [],
   "source": []
  },
  {
   "cell_type": "markdown",
   "id": "c4415fff",
   "metadata": {},
   "source": [
    "<b><font color='white' style='background-color:orange'>2.1.d</font></b> <font color='white' style='text-shadow: -1px 0 black, 0 1px black, 1px 0 black, 0 -1px black;'>C</font> Attribuez la valeur `100` à la variable `mes_points` et la valeur `500 - mes_points` à la valeur `tes_points`. Affichez la valeur de `tes_points`."
   ]
  },
  {
   "cell_type": "code",
   "execution_count": null,
   "id": "6f4b2a30",
   "metadata": {},
   "outputs": [],
   "source": [
    "mes_points = 100"
   ]
  },
  {
   "cell_type": "code",
   "execution_count": null,
   "id": "7745459e",
   "metadata": {},
   "outputs": [],
   "source": [
    "tes_points = 500 - mes_points"
   ]
  },
  {
   "cell_type": "code",
   "execution_count": null,
   "id": "73e2bd5f",
   "metadata": {},
   "outputs": [],
   "source": [
    "tes_points"
   ]
  },
  {
   "cell_type": "markdown",
   "id": "02e57d0b",
   "metadata": {},
   "source": [
    "<b><font color='white' style='background-color:orange'>2.1.e</font></b> Attribuez la valeur `100` à la variable `Batman`. Dans la deuxième boîte, cherchez à afficher la valeur de la variable Robin. Que se passe-t-il? Expliquez"
   ]
  },
  {
   "cell_type": "code",
   "execution_count": null,
   "id": "a1b870ec",
   "metadata": {},
   "outputs": [],
   "source": []
  },
  {
   "cell_type": "code",
   "execution_count": null,
   "id": "6e5380d8",
   "metadata": {},
   "outputs": [],
   "source": []
  },
  {
   "cell_type": "markdown",
   "id": "a1bd8d29",
   "metadata": {},
   "source": [
    "**Ici votre réponse**"
   ]
  },
  {
   "cell_type": "markdown",
   "id": "56f84acf",
   "metadata": {},
   "source": [
    "<b><font color='white' style='background-color:green'>2.1.e</font></b> <font color='white' style='text-shadow: -1px 0 black, 0 1px black, 1px 0 black, 0 -1px black;'>C</font> Dans une seule boîte de code, attribuez `10` à `a`, `3` à `b` et `50` à `c`, et calculez $$a^b - c*b + a$$ Ensuite, dans la deuxième boîte, ajoutez `1` à la valeur de `b` et calculez à nouveau l'expression."
   ]
  },
  {
   "cell_type": "code",
   "execution_count": null,
   "id": "5457b2b7",
   "metadata": {},
   "outputs": [],
   "source": [
    "a = 10\n",
    "b = 3\n",
    "c = 50\n",
    "a**b - c*b + a"
   ]
  },
  {
   "cell_type": "code",
   "execution_count": null,
   "id": "5749aae7",
   "metadata": {},
   "outputs": [],
   "source": [
    "b = b + 1\n",
    "a**b - c*b + a"
   ]
  },
  {
   "cell_type": "markdown",
   "id": "de6c88f7",
   "metadata": {},
   "source": [
    "<b><font color='white' style='background-color:green'>2.1.f</font></b> Attribuez la valeur `'Tic'` à la variable `tamias_1` et la valeur `'Tac'` à la variable `tamias_2`. Ensuite, écrivez les instructions nécessaires pour échanger les  valeurs des deux variables. Utilisez les deux autres boîtes pour afficher le contenu de `tamias_1` et `tamias_2`"
   ]
  },
  {
   "cell_type": "code",
   "execution_count": null,
   "id": "f5a25d53",
   "metadata": {},
   "outputs": [],
   "source": []
  },
  {
   "cell_type": "code",
   "execution_count": null,
   "id": "7a36bb49",
   "metadata": {},
   "outputs": [],
   "source": []
  },
  {
   "cell_type": "code",
   "execution_count": null,
   "id": "28e4f0c8",
   "metadata": {},
   "outputs": [],
   "source": []
  },
  {
   "cell_type": "markdown",
   "id": "d838ea33",
   "metadata": {},
   "source": [
    "<b><font color='white' style='background-color:green'>2.1.g</font></b> <font color='white' style='text-shadow: -1px 0 black, 0 1px black, 1px 0 black, 0 -1px black;'>C</font> Attribuez les valeurs aux variables comme dans le tableau:\n",
    "\n",
    "| Variable |   Valeur |\n",
    "| -------- | -------- |\n",
    "| canard_1 |   'Riri' |\n",
    "| canard_2 |   'Fifi' |\n",
    "| canard_3 | 'Loulou' |\n",
    "\n",
    "Et écrivez les instructions nécessaires pour obtenir les associations suivantes:\n",
    "\n",
    "| Variable |   Valeur |\n",
    "| -------- | -------- |\n",
    "| canard_1 | 'Loulou' |\n",
    "| canard_2 |   'Riri' |\n",
    "| canard_3 |   'Fifi' |\n",
    "\n",
    "Affichez vos résultats dans les trois boîtes qui suivent."
   ]
  },
  {
   "cell_type": "code",
   "execution_count": null,
   "id": "cb9f4524",
   "metadata": {},
   "outputs": [],
   "source": [
    "canard_1 = 'Riri'\n",
    "canard_2 = 'Fifi'\n",
    "canard_3 = 'Loulou'\n",
    "\n",
    "tmp = canard_1\n",
    "canard_1 = canard_3\n",
    "canard_3 = canard_2\n",
    "canard_2 = tmp"
   ]
  },
  {
   "cell_type": "code",
   "execution_count": null,
   "id": "10009175",
   "metadata": {},
   "outputs": [],
   "source": [
    "canard_1"
   ]
  },
  {
   "cell_type": "code",
   "execution_count": null,
   "id": "80a2b22b",
   "metadata": {},
   "outputs": [],
   "source": [
    "canard_2"
   ]
  },
  {
   "cell_type": "code",
   "execution_count": null,
   "id": "6320186c",
   "metadata": {},
   "outputs": [],
   "source": [
    "canard_3"
   ]
  },
  {
   "cell_type": "markdown",
   "id": "c468e695",
   "metadata": {},
   "source": [
    "<b><font color='white' style='background-color:black'>Ex. 2.2</font> Affichage avec `print`</b><a class='anchor' id='affichage'></a><br> La fonction `print` permet d'afficher toute valeur à n'importe quel point du code.<br>\n",
    "<b><font color='white' style='background-color:orange'>2.2.a</font></b> Dans les deux boîtes suivantes, affichez les valeurs `'13'` et `'Madagascar'` à l'aide de la fonction `print`"
   ]
  },
  {
   "cell_type": "code",
   "execution_count": null,
   "id": "6a4a8ab4",
   "metadata": {},
   "outputs": [],
   "source": []
  },
  {
   "cell_type": "code",
   "execution_count": null,
   "id": "e2cf4d9c",
   "metadata": {},
   "outputs": [],
   "source": []
  },
  {
   "cell_type": "markdown",
   "id": "18e9ea6f",
   "metadata": {},
   "source": [
    "<b><font color='white' style='background-color:orange'>2.2.b</font></b> <font color='white' style='text-shadow: -1px 0 black, 0 1px black, 1px 0 black, 0 -1px black;'>C</font> Maintenant affichez les valeurs `'13'` et `'Madagascar'` de suite dans une seule ligne."
   ]
  },
  {
   "cell_type": "code",
   "execution_count": null,
   "id": "e3b28f99",
   "metadata": {},
   "outputs": [],
   "source": [
    "print(13, 'Madagascar')"
   ]
  },
  {
   "cell_type": "markdown",
   "id": "233eb275",
   "metadata": {},
   "source": [
    "<b><font color='white' style='background-color:orange'>2.2.c</font></b> <font color='white' style='text-shadow: -1px 0 black, 0 1px black, 1px 0 black, 0 -1px black;'>C</font> Certains caractères ont besoin de l'échappement `\\` pour ne pas être interprétés par Python. Affichez:<br>\n",
    "```\n",
    "\\\n",
    "Guillemets \", apostrophe '\n",
    "```"
   ]
  },
  {
   "cell_type": "code",
   "execution_count": null,
   "id": "dc00a333",
   "metadata": {},
   "outputs": [],
   "source": [
    "print('\\\\')\n",
    "print('Guillemets \", apostrophe \\'')"
   ]
  },
  {
   "cell_type": "markdown",
   "id": "bc0e9f90",
   "metadata": {},
   "source": [
    "<b><font color='white' style='background-color:orange'>2.2.d</font></b> Qu'affiche ce code?<br>\n",
    "```python\n",
    "x = 8\n",
    "y = 9\n",
    "print('Mon numéro porte bonheur est le', x+y)\n",
    "```"
   ]
  },
  {
   "cell_type": "markdown",
   "id": "2b3c40a4",
   "metadata": {},
   "source": [
    "**Ici votre réponse**"
   ]
  },
  {
   "cell_type": "markdown",
   "id": "57650ee5",
   "metadata": {},
   "source": [
    "<b><font color='white' style='background-color:green'>2.2.e</font></b> Affichez le dessin suivant:<br>\n",
    "```\n",
    " /\\_/\\\n",
    "((@v@))\n",
    "():::()\n",
    " VV-VV\n",
    "```"
   ]
  },
  {
   "cell_type": "code",
   "execution_count": null,
   "id": "66c6d086",
   "metadata": {},
   "outputs": [],
   "source": []
  },
  {
   "cell_type": "markdown",
   "id": "f6e5429e",
   "metadata": {},
   "source": [
    "<b><font color='white' style='background-color:green'>2.2.f</font></b> <font color='white' style='text-shadow: -1px 0 black, 0 1px black, 1px 0 black, 0 -1px black;'>C</font> Vous avez les variables suivantes:<br>\n",
    "\n",
    "| Variable |   Valeur |\n",
    "| -------- | -------- |\n",
    "| a |   5 |\n",
    "| b |   10 |\n",
    "| c | 20 |\n",
    "\n",
    "Affichez le résultat de: $$a^{c/b} + a - c \\times b$$"
   ]
  },
  {
   "cell_type": "code",
   "execution_count": null,
   "id": "31145637",
   "metadata": {},
   "outputs": [],
   "source": [
    "a = 5\n",
    "b = 10\n",
    "c = 20\n",
    "print(a**(c/b) + a - c*b)"
   ]
  },
  {
   "cell_type": "markdown",
   "id": "086e5f23",
   "metadata": {},
   "source": [
    "<b><font color='white' style='background-color:black'>Ex. 2.3</font> Types</b><a class='anchor' id='types'></a><br>\n",
    "Chaque valeur a un type: étudions ici les types `int`, `float`, `str`, `bool`. Ces mots sont des mots réservés en Python et servent à définir les types !<br>\n",
    "<b><font color='white' style='background-color:orange'>2.3.a</font></b> A l'aide de la fonction `type` et de la fonction `print`, affichez ci-dessous les types des valeurs suivantes: `1000`, `'Barbie'`, `3.14`, `'h'`, `True`.\n",
    "Ensuite, écrivez en mots le nom complet des types que vous avez trouvés."
   ]
  },
  {
   "cell_type": "code",
   "execution_count": null,
   "id": "b4b8c1d9",
   "metadata": {},
   "outputs": [],
   "source": []
  },
  {
   "cell_type": "markdown",
   "id": "ff170341",
   "metadata": {},
   "source": [
    "**Ici votre réponse**"
   ]
  },
  {
   "cell_type": "markdown",
   "id": "a0a8d782",
   "metadata": {},
   "source": [
    "<b><font color='white' style='background-color:orange'>2.3.b</font></b> <font color='white' style='text-shadow: -1px 0 black, 0 1px black, 1px 0 black, 0 -1px black;'>C</font> Quel est le type du résultat de l'expression `8//4` ? Et `8/4` ? Expliquez"
   ]
  },
  {
   "cell_type": "code",
   "execution_count": null,
   "id": "8af520bd",
   "metadata": {},
   "outputs": [],
   "source": [
    "print(type(8//4), type(8/4))"
   ]
  },
  {
   "cell_type": "markdown",
   "id": "6bb7cb3b",
   "metadata": {},
   "source": [
    "Même si `8/4` donne un entier, l'opération `/` (division décimale) est définie sur les flottants, et rend toujours un `float` : dans ce cas, `2.0`."
   ]
  },
  {
   "cell_type": "markdown",
   "id": "518231df",
   "metadata": {},
   "source": [
    "<b><font color='white' style='background-color:green'>2.3.c</font></b> Affichez le type de `4.0` et de `9`. Ensuite, sommez-les, et affichez le type du résultat. Pourquoi le résultat a-t-il ce type? Expliquez."
   ]
  },
  {
   "cell_type": "code",
   "execution_count": null,
   "id": "1fbda8fa",
   "metadata": {},
   "outputs": [],
   "source": []
  },
  {
   "cell_type": "markdown",
   "id": "a6cba8b3",
   "metadata": {},
   "source": [
    "**Ici votre réponse**"
   ]
  },
  {
   "cell_type": "markdown",
   "id": "e06b5c9b",
   "metadata": {},
   "source": [
    "<b><font color='white' style='background-color:green'>2.3.d</font></b> <font color='white' style='text-shadow: -1px 0 black, 0 1px black, 1px 0 black, 0 -1px black;'>C</font> Que se passe-t-il quand vous cherchez à sommer la valeur `10` à la valeur `'22'`? Expliquez."
   ]
  },
  {
   "cell_type": "code",
   "execution_count": null,
   "id": "e8e2612a",
   "metadata": {},
   "outputs": [],
   "source": [
    "10 + '22'"
   ]
  },
  {
   "cell_type": "markdown",
   "id": "e5591dae",
   "metadata": {},
   "source": [
    "La somme entre un entier et une chaîne de caractères n'est pas définie"
   ]
  },
  {
   "cell_type": "markdown",
   "id": "bba2ae16",
   "metadata": {},
   "source": [
    "<h3>3. Fonctions</h3><a class='anchor' id='fonctions'></a>\n",
    "\n",
    "Les fonctions sont des morceaux de code réutilisables qui acceptent des données en entrée et rendent des données en sortie. Les variables contenant les données en entrée sont dites *paramètres*. Une fonction peut aussi ne prendre aucun paramètre, ou avoir certains paramètres optionnels.\n",
    "\n",
    "<b><font color='white' style='background-color:black'>Ex. 3.1</font> Utiliser les fonctions prédéfinies</b><a class='anchor' id='prédéfinies'></a><br>\n",
    "Nous avons déjà vu les fonctions print et type. Nous allons voir d'autres fonctions utiles et comment les utiliser.<br>Servez-vous de la <a href=\"https://docs.python.org/3/library/functions.html\">documentation officielle de Python</a> !<br>\n",
    "<b><font color='white' style='background-color:orange'>3.1.a</font></b> Dans la deuxième boîte de code, trouvez une fonction prédéfinie pour évaluer la longueur de la chaîne définie dans la première boîte"
   ]
  },
  {
   "cell_type": "code",
   "execution_count": null,
   "id": "a45d7177",
   "metadata": {},
   "outputs": [],
   "source": [
    "# Ne pas modifier !\n",
    "a = \"Bof, autant d'utiliser ChatGPT :/\""
   ]
  },
  {
   "cell_type": "code",
   "execution_count": null,
   "id": "c3f74de6",
   "metadata": {},
   "outputs": [],
   "source": []
  },
  {
   "cell_type": "markdown",
   "id": "f87f898d",
   "metadata": {},
   "source": [
    "<b><font color='white' style='background-color:orange'>3.1.b</font></b> <font color='white' style='text-shadow: -1px 0 black, 0 1px black, 1px 0 black, 0 -1px black;'>C</font> Dans la deuxième boîte de code, affichez le minimum et le maximum des variables définies dans la première boîte"
   ]
  },
  {
   "cell_type": "code",
   "execution_count": null,
   "id": "aa15936b",
   "metadata": {},
   "outputs": [],
   "source": [
    "# Ne pas modifier !\n",
    "a = 14*90\n",
    "b = 117*9\n",
    "c = 9**7\n",
    "d = 2**14 - 14**2\n",
    "e = 4**3**2"
   ]
  },
  {
   "cell_type": "code",
   "execution_count": null,
   "id": "d5945e64",
   "metadata": {},
   "outputs": [],
   "source": [
    "print(min(a,b,c,d,e), max(a,b,c,d,e))"
   ]
  },
  {
   "cell_type": "markdown",
   "id": "dc240a67",
   "metadata": {},
   "source": [
    "<b><font color='white' style='background-color:orange'>3.1.c</font></b> Faites comme dans l'exercice 3.1.b, cette fois avec les variables suivantes. Qu'est-ce qui se passe? Pourquoi? Expliquez dans la boîte de texte."
   ]
  },
  {
   "cell_type": "code",
   "execution_count": null,
   "id": "c08676d6",
   "metadata": {},
   "outputs": [],
   "source": [
    "# Ne pas modifier !\n",
    "a = 14*90\n",
    "b = 117*9\n",
    "c = \"9**7\"\n",
    "d = 2**14 - 14**2\n",
    "e = \"4**3**2\""
   ]
  },
  {
   "cell_type": "code",
   "execution_count": null,
   "id": "83eedf16",
   "metadata": {},
   "outputs": [],
   "source": []
  },
  {
   "cell_type": "markdown",
   "id": "baa6dc99",
   "metadata": {},
   "source": [
    "**Ici votre réponse**"
   ]
  },
  {
   "cell_type": "markdown",
   "id": "390f93e2",
   "metadata": {},
   "source": [
    "<b><font color='white' style='background-color:green'>3.1.d</font></b> Regardons plus attentivement le message d'erreur obtenu : qu'est-ce qu'il dit exactement ? Quelle relation porrait-il avoir avec la commande qui a échouée ?"
   ]
  },
  {
   "cell_type": "markdown",
   "id": "8fd7cc0e",
   "metadata": {},
   "source": [
    "**Ici votre réponse**"
   ]
  },
  {
   "cell_type": "markdown",
   "id": "4a5d5885",
   "metadata": {},
   "source": [
    "<b><font color='white' style='background-color:green'>3.1.e</font></b> <font color='white' style='text-shadow: -1px 0 black, 0 1px black, 1px 0 black, 0 -1px black;'>C</font> A la lumière de ce qu'on a découvert sur les fonctions minimum et maximum, que sera-t-il affiché par le code suivant ? Repondez, puis écrivez et lancez le code dans la boîte qui suit. C'était le comportement attendu ?\n",
    "\n",
    "```python\n",
    "a = 'Dans'\n",
    "b = 'la'\n",
    "c = 'vallée'\n",
    "print(min(a, b, c))\n",
    "```"
   ]
  },
  {
   "cell_type": "markdown",
   "id": "f42ed45c",
   "metadata": {},
   "source": [
    "Il va renvoyer l'un des trois mots, sans échouer. L'opérateur `<` est en effets défini entre deux `str`, mais pas entre un nombre et un `str`."
   ]
  },
  {
   "cell_type": "code",
   "execution_count": null,
   "id": "e7a44d91",
   "metadata": {},
   "outputs": [],
   "source": [
    "a = 'Dans'\n",
    "b = 'la'\n",
    "c = 'vallée'\n",
    "print(min(a, b, c))"
   ]
  },
  {
   "cell_type": "markdown",
   "id": "1bcbb771",
   "metadata": {},
   "source": [
    "<b><font color='white' style='background-color:blue'>3.1.f</font></b> <font color='white' style='text-shadow: -1px 0 black, 0 1px black, 1px 0 black, 0 -1px black;'>C</font> Faites des tests avec la fonction `abs`: que fait-elle? Combien de paramètres admet-elle? De quel type? Expliquez "
   ]
  },
  {
   "cell_type": "code",
   "execution_count": null,
   "id": "ad100b3d",
   "metadata": {},
   "outputs": [],
   "source": [
    "abs(-10)"
   ]
  },
  {
   "cell_type": "code",
   "execution_count": null,
   "id": "ee6c9d0f",
   "metadata": {},
   "outputs": [],
   "source": [
    "abs(3.14, -10, -5)"
   ]
  },
  {
   "cell_type": "code",
   "execution_count": null,
   "id": "4cf6f5c9",
   "metadata": {},
   "outputs": [],
   "source": [
    "abs('pingouin')"
   ]
  },
  {
   "cell_type": "markdown",
   "id": "371ba40e",
   "metadata": {},
   "source": [
    "La fonction `abs` prend un paramètre en entrée. Ce paramètre doit être un nombre (int ou float). La fonction renvoie la valeur absolue du nombre en entrée."
   ]
  },
  {
   "cell_type": "markdown",
   "id": "54042668",
   "metadata": {},
   "source": [
    "<b><font color='white' style='background-color:blue'>3.1.g</font></b> <font color='white' style='text-shadow: -1px 0 black, 0 1px black, 1px 0 black, 0 -1px black;'>C</font> Affichez le type du résultat de `print(4)`. Qu'est-ce que cela signifie? Expliquez."
   ]
  },
  {
   "cell_type": "code",
   "execution_count": null,
   "id": "cf6bf672",
   "metadata": {},
   "outputs": [],
   "source": [
    "type(print(4))"
   ]
  },
  {
   "cell_type": "markdown",
   "id": "070e8df6",
   "metadata": {},
   "source": [
    "La fonction `print` affiche l'entier 4, mais elle ne rend aucun résultat. Puisque en Python chaque fonction rend un résultat, `print` rend quand même une valeur `None`, qui est de type `NoneType`"
   ]
  },
  {
   "cell_type": "markdown",
   "id": "145ba5f6",
   "metadata": {},
   "source": [
    "<b><font color='white' style='background-color:black'>Ex. 3.2</font> Importer des fonctions</b><a class='anchor' id='importer'></a><br>\n",
    "Grâce à son énorme communauté d'utilisateurs, Python a beaucoup de bibliothèques de fonctions. La commande `import` nous permet d'utiliser des fonctions dans des bibliothèques qui ne sont pas la bibliothèque standard.\n",
    "\n",
    "```python\n",
    "from math import cos    # Importer la fonction cos (cosinus) depuis la bibliothèque math\n",
    "\n",
    "print(cos(0))\n",
    "```\n",
    "\n",
    "On peut aussi obtenir le même résultat en important toute la bibliothèque et ensuite en appellant `nom_bibliothèque.fonction` au lieu que la fonction:\n",
    "\n",
    "```python\n",
    "import math    # Importer la bibliothèque math\n",
    "\n",
    "print(math.cos(0))   # Même résultat!\n",
    "```\n",
    "\n",
    "Pour avoir quelques infos sur l'usage d'une fonction, vous pouvez taper\n",
    "\n",
    "```python\n",
    "help(cos)    # help est une fonction préféfinie standard!\n",
    "```"
   ]
  },
  {
   "cell_type": "markdown",
   "id": "b3231277",
   "metadata": {},
   "source": [
    "<b><font color='white' style='background-color:orange'>3.2.a</font></b> <font color='white' style='text-shadow: -1px 0 black, 0 1px black, 1px 0 black, 0 -1px black;'>C</font> Importez la fonction `exp` depuis la bibliothèque `math` et calculez $e^{10}$"
   ]
  },
  {
   "cell_type": "code",
   "execution_count": null,
   "id": "e0d533b4",
   "metadata": {},
   "outputs": [],
   "source": [
    "from math import exp\n",
    "\n",
    "print(exp(10))"
   ]
  },
  {
   "cell_type": "markdown",
   "id": "751bedce",
   "metadata": {},
   "source": [
    "<b><font color='white' style='background-color:orange'>3.2.b</font></b> Par la même bibliothèque, importez la fonction `log` et contrôlez que $\\log(e^{4})$ est bien 4."
   ]
  },
  {
   "cell_type": "code",
   "execution_count": null,
   "id": "4ff5a1e9",
   "metadata": {},
   "outputs": [],
   "source": []
  },
  {
   "cell_type": "markdown",
   "id": "e8cf5560",
   "metadata": {},
   "source": [
    "<b><font color='white' style='background-color:green'>3.2.c</font></b> <font color='white' style='text-shadow: -1px 0 black, 0 1px black, 1px 0 black, 0 -1px black;'>C</font> Par la bibliothèque `random`, importez la fonction `randint`. Cette fonction génère un entier aléatoire entre deux entiers donnés : vous trouverez la spécification de cette fonction dans la [documentation officielle](https://docs.python.org/3/library/random.html) et quelques infos en écrivant `help(randint)` dans une boîte de code. Avec cette fonction, générez un entier entre 50 et 170."
   ]
  },
  {
   "cell_type": "code",
   "execution_count": null,
   "id": "f783440d",
   "metadata": {},
   "outputs": [],
   "source": [
    "from random import randint\n",
    "\n",
    "print(randint(50,170))"
   ]
  },
  {
   "cell_type": "markdown",
   "id": "da9b8c83",
   "metadata": {},
   "source": [
    "<b><font color='white' style='background-color:green'>3.2.d</font></b> <font color='white' style='text-shadow: -1px 0 black, 0 1px black, 1px 0 black, 0 -1px black;'>C</font> Python a vraiment beaucoup de bibliothèques : explorons un peu. Par la bibliothèque `emoji`, importez la fonction `emojize` et affichez le résultat de cette ligne de code: `emojize('Python is :thumbs_up:')` "
   ]
  },
  {
   "cell_type": "code",
   "execution_count": null,
   "id": "da5934d8",
   "metadata": {},
   "outputs": [],
   "source": [
    "%pip install emoji    # Cette ligne est une \"commande magique\" de Python\n",
    "                      # Installe la bibliothèque si votre ordinateur ne l'a pas\n",
    "                      # (on ne l'a pas fait avec les autres car elles sont très communes)"
   ]
  },
  {
   "cell_type": "code",
   "execution_count": null,
   "id": "69f057b9",
   "metadata": {},
   "outputs": [],
   "source": [
    "from emoji import emojize\n",
    "\n",
    "print(emojize('Python is :thumbs_up:'))"
   ]
  },
  {
   "cell_type": "markdown",
   "id": "3420e76a",
   "metadata": {},
   "source": [
    "<b><font color='white' style='background-color:blue'>3.2.e</font></b> <font color='white' style='text-shadow: -1px 0 black, 0 1px black, 1px 0 black, 0 -1px black;'>C</font> Essayons encore, cette fois avec un outil plus compliqué. Exécutez les deux cases ci-dessous, et observez. Savez-vous dire à peu près ce qui se passe? Expliquez dans la boîte en dessous."
   ]
  },
  {
   "cell_type": "code",
   "execution_count": null,
   "id": "952ee121",
   "metadata": {},
   "outputs": [],
   "source": [
    "%pip install py3dmol    # Encore la commande magique !"
   ]
  },
  {
   "cell_type": "code",
   "execution_count": null,
   "id": "2c8b26e6",
   "metadata": {
    "scrolled": true
   },
   "outputs": [],
   "source": [
    "import py3Dmol\n",
    "view = py3Dmol.view(query='pdb:1hvr')\n",
    "view.setStyle({'cartoon':{'color':'spectrum'}})\n",
    "view"
   ]
  },
  {
   "cell_type": "markdown",
   "id": "fe90b8cf",
   "metadata": {},
   "source": [
    "La bibliothèque `py3Dmol` permet de visualiser et intéragir avec un modèle 3D de macromolécule, à partir d'un fichier en format [format PDB](https://en.wikipedia.org/wiki/Protein_Data_Bank_(file_format)). La fonoction `view` se connecte à la [base de données en ligne](https://www.rcsb.org/), télécharge le fichier en format PDB et crée un objet qui en contient les informations et qui peut être visualisé. Ensuite, grâce à la méthode `setStyle` on change quelques attributs de l'objet, et enfin on le visualise. Objet, méthode, attribut... ça ne vous parle pas ? Revenez ici après le `TP06` ! Pour l'instant, profitez de l'interface intéractive !"
   ]
  },
  {
   "cell_type": "markdown",
   "id": "d296d9bd",
   "metadata": {},
   "source": [
    "<b><font color='white' style='background-color:black'>Ex. 3.3</font> Définir et utiliser ses propres fonctions</b><a class='anchor' id='définir'></a><br>\n",
    "Définir et utiliser ses propres fonctions est fondamental pour programmer : ça permet de réutiliser son code à des différents endroits en l'appliquant à des différentes données.\n",
    "La syntaxe de base est:\n",
    "\n",
    "```python\n",
    "def surface_triangle(base, hauteur):   # Déclarer le nom de la fonction et de tous les paramètres en entrée\n",
    "    # <== Attention à l'indentation !!!\n",
    "    \n",
    "    # Ecrire le code avec une suite d'instructions\n",
    "    res = base*hauteur/2\n",
    "    \n",
    "    # Conclure en rendant le résultat\n",
    "    return res\n",
    "```\n",
    "\n",
    "Si on n'a pas besoin, on peut aussi ne rendre aucun resultat. Dans ce cas, la fonction rendra implicitement la valeur `None`.\n",
    "Pour appliquer la fonction, après l'avoir définie, il suffira de l'appeler avec un jeu de paramètres compatibles:\n",
    "\n",
    "```python\n",
    "print(surface_triangle(4,5))     # ça va afficher 10\n",
    "```\n",
    "\n",
    "Les paramètres optionnels sont déclarés comme de suite le paramètre `titre`:\n",
    "\n",
    "```python\n",
    "def salutation(nom, titre=\"M.\"):  \n",
    "    print(\"Bonjour\", titre, nom)\n",
    "```\n",
    "\n",
    "```python\n",
    "salutation(\"Debussy\")    # affiche \"Bonjour M. Debussy\" car le défaut de titre est \"M.\"\n",
    "salutation(\"Bovary\", titre=\"Mme\")  # affiche \"Bonjour Mme Bovary\" car on a spécifié une valeur pour titre\n",
    "```"
   ]
  },
  {
   "cell_type": "markdown",
   "id": "fcede9bf",
   "metadata": {},
   "source": [
    "<b><font color='white' style='background-color:orange'>3.3.a</font></b> <font color='white' style='text-shadow: -1px 0 black, 0 1px black, 1px 0 black, 0 -1px black;'>C</font> Définissez une fonction nommée `carré` qui prend en entrée un nombre et qui renvoie son carré."
   ]
  },
  {
   "cell_type": "code",
   "execution_count": null,
   "id": "10eeb5d4",
   "metadata": {},
   "outputs": [],
   "source": [
    "def carré(n):\n",
    "    res = n*n   # ou res = n**2\n",
    "    return res"
   ]
  },
  {
   "cell_type": "markdown",
   "id": "ef3df628",
   "metadata": {},
   "source": [
    "<b><font color='white' style='background-color:orange'>3.3.b</font></b> Il est important de toujours tester ses fonctions avec un jeu de test, pour s'assurer qu'elles rendent le bon résultat. Essayez à appliquer votre `carré` aux variables définies de suite."
   ]
  },
  {
   "cell_type": "code",
   "execution_count": null,
   "id": "44837b58",
   "metadata": {},
   "outputs": [],
   "source": [
    "# Ne pas modifier !!\n",
    "a = 4     # Quel est le résultat attendu ?\n",
    "# Appliquez votre fonction ici !\n"
   ]
  },
  {
   "cell_type": "code",
   "execution_count": null,
   "id": "14d81df2",
   "metadata": {},
   "outputs": [],
   "source": [
    "# Ne pas modifier !!\n",
    "num = -10     # Quel est le résultat attendu ?\n",
    "# Appliquez votre fonction ici !\n"
   ]
  },
  {
   "cell_type": "code",
   "execution_count": null,
   "id": "4885a62e",
   "metadata": {},
   "outputs": [],
   "source": [
    "# Ne pas modifier !!\n",
    "mot = 'racine'     # Quel est le résultat attendu ?\n",
    "# Appliquez votre fonction ici !\n"
   ]
  },
  {
   "cell_type": "markdown",
   "id": "a9e5abb5",
   "metadata": {},
   "source": [
    "<b><font color='white' style='background-color:orange'>3.3.c</font></b> <font color='white' style='text-shadow: -1px 0 black, 0 1px black, 1px 0 black, 0 -1px black;'>C</font> Une bonne pratique pour tester ses fonctions c'est d'utiliser l'instruction `assert`. Cette instruction permet de comparer le résultat de la fonction avec un résultat attendu, tout comme on l'a fait \"à la main\" dans l'exercice 3.3.b. Si la comparaison réussie, `assert` ne produit aucune sortie, sinon il produit une erreur qui arrête l'exécution.<br>\n",
    "Testez la fonction `min` avec `assert`: testez si le minimum entre 2 et 3 est 2, et si le minimum entre 10 et 20 est 15"
   ]
  },
  {
   "cell_type": "code",
   "execution_count": null,
   "id": "078e95b1",
   "metadata": {},
   "outputs": [],
   "source": [
    "assert min(2,3) == 2"
   ]
  },
  {
   "cell_type": "code",
   "execution_count": null,
   "id": "52df2fac",
   "metadata": {},
   "outputs": [],
   "source": [
    "assert min(10,20) == 15"
   ]
  },
  {
   "cell_type": "markdown",
   "id": "bf20d571",
   "metadata": {},
   "source": [
    "<b><font color='white' style='background-color:green'>3.3.d</font></b> <font color='white' style='text-shadow: -1px 0 black, 0 1px black, 1px 0 black, 0 -1px black;'>C</font> Créez une fonction `expsum` qui prend deux entiers non-négatifs $a$ et $b$ et calcule $2^a + 2^b$. Dans la deuxième boîte, créez un jeu de test complet avec au moins trois `assert`. "
   ]
  },
  {
   "cell_type": "code",
   "execution_count": null,
   "id": "db8dc042",
   "metadata": {},
   "outputs": [],
   "source": [
    "def expsum(a, b):\n",
    "    res = 2**a + 2**b\n",
    "    return res"
   ]
  },
  {
   "cell_type": "code",
   "execution_count": null,
   "id": "e5264df4",
   "metadata": {},
   "outputs": [],
   "source": [
    "assert expsum(0,0) == 2\n",
    "assert expsum(1,1) == 4\n",
    "assert expsum(2,3) == 12"
   ]
  },
  {
   "cell_type": "markdown",
   "id": "e8fad582",
   "metadata": {},
   "source": [
    "<b><font color='white' style='background-color:green'>3.3.e</font></b> La fonction `combien_secondes`devrait calculer le nombre de segondes totales si on rentre un nombre d'heures `h`, minutes `m` et segondes `s`. Pourtant, il y a quelque chose qui ne marche pas. Trouvez les erreurs (sans changer les `assert` !) et assurez-vous que tout marche bien"
   ]
  },
  {
   "cell_type": "code",
   "execution_count": null,
   "id": "e5670b27",
   "metadata": {},
   "outputs": [],
   "source": [
    "def combien_secondes(h m, s)\n",
    "    minutes = h*60 + m\n",
    "    secondes = minuttes*60 - s\n",
    "    return secondes"
   ]
  },
  {
   "cell_type": "code",
   "execution_count": null,
   "id": "32fb4b9e",
   "metadata": {},
   "outputs": [],
   "source": [
    "# Ne pas modifier !\n",
    "assert combien_secondes(0,0,0) == 0\n",
    "assert combien_secondes(0,0,10) == 10\n",
    "assert combien_secondes(0,1,0) == 60\n",
    "assert combien_secondes(1,0,0) == 3600"
   ]
  },
  {
   "cell_type": "markdown",
   "id": "77aba5ff",
   "metadata": {},
   "source": [
    "<b><font color='white' style='background-color:blue'>3.3.f</font></b> <font color='white' style='text-shadow: -1px 0 black, 0 1px black, 1px 0 black, 0 -1px black;'>C</font> Vous aimez jouer à Donjons & Dragons avec vos amis, mais hélas, vous n'avez pas de dés. Ecrivez une fonction `tirage_caractéristique` qui lance 4 dés à six faces, somme les résultats et enlève la valeur minimale obtenue par l'un des  dés. Rappelez-vous des bibliothèques qu'on a vues !<br> _Exemple: Anne lance les dés et obtient 5, 6, 2, 3. Le résultat sera 5 + 6 + 3 + 2 - 2 = 14. Un bon résultat !_"
   ]
  },
  {
   "cell_type": "code",
   "execution_count": null,
   "id": "9b74857e",
   "metadata": {},
   "outputs": [],
   "source": [
    "def tirage_caractéristique():\n",
    "    from random import randint\n",
    "    a = randint(1,6)\n",
    "    b = randint(1,6)\n",
    "    c = randint(1,6)\n",
    "    d = randint(1,6)\n",
    "    m = min(a,b,c,d)\n",
    "    res = a + b + c + d - m\n",
    "    return res"
   ]
  },
  {
   "cell_type": "code",
   "execution_count": null,
   "id": "5863849b",
   "metadata": {},
   "outputs": [],
   "source": [
    "tirage_caractéristique()"
   ]
  },
  {
   "cell_type": "markdown",
   "id": "c452f6a9",
   "metadata": {},
   "source": [
    "<b><font color='white' style='background-color:blue'>3.3.f-bis</font></b> <font color='white' style='text-shadow: -1px 0 black, 0 1px black, 1px 0 black, 0 -1px black;'>C</font> Mais comment tester une fonction qui utilise des valeurs aléatoires? Si vous avez des idées, écrivez votre réponse ci-dessous... sinon, on en reparlera dans quelques épisodes !"
   ]
  },
  {
   "cell_type": "markdown",
   "id": "4f71b43a",
   "metadata": {},
   "source": [
    "Les fonctions aléatoires ne sont pas vraiment aléatoires, mais seulement très \"imprévisibles\". Elles ont toujours un paramètre `seed` qui peut être fixé : une fois `seed` fixé, la séquence de résultats de la fonction est complètement déterministique et réproducible, et donc on peut tester nos fonctions sans sans nous occuper de la partie stocastique.\n",
    "\n",
    "Si par contre c'est les aspects stocastiques qui nous intéressent pour le test, `assert` ne suffira plus, et il faudra passer à une véritable analyse statistique : t-test, ANOVA, Fischer, etc. etc. "
   ]
  },
  {
   "cell_type": "markdown",
   "id": "a1f04a5b",
   "metadata": {},
   "source": [
    "<b><font color='white' style='background-color:blue'>3.3.g</font></b> <font color='white' style='text-shadow: -1px 0 black, 0 1px black, 1px 0 black, 0 -1px black;'>C</font> Prenez l'exercice 1.2.e sur le coût des plaques à 96 puits et rendez-le une fonction `cout_plaques` qui prend en entrée le nombre de puits souhaités `p` et le coût d'une plaque `c`, et rend le cout. Dans la deuxième boîte, créez un jeu de tests avec au moins 5 `assert` pour tester tous les cas d'usage de la fonction."
   ]
  },
  {
   "cell_type": "code",
   "execution_count": null,
   "id": "df224d2b",
   "metadata": {},
   "outputs": [],
   "source": [
    "def cout_plaques(p, c):\n",
    "    res = ((p-1)//96 + 1)*c\n",
    "    return res"
   ]
  },
  {
   "cell_type": "code",
   "execution_count": null,
   "id": "721387c5",
   "metadata": {},
   "outputs": [],
   "source": [
    "assert cout_plaques(0,0) == 0\n",
    "assert cout_plaques(96,1) == 1\n",
    "assert cout_plaques(95,1) == 1\n",
    "assert cout_plaques(97,1) == 2\n",
    "assert cout_plaques(96,100) == 100"
   ]
  },
  {
   "cell_type": "markdown",
   "id": "04f4e035",
   "metadata": {},
   "source": [
    "<b><font color='white' style='background-color:blue'>3.3.g-bis</font></b> <font color='white' style='text-shadow: -1px 0 black, 0 1px black, 1px 0 black, 0 -1px black;'>C</font> Etes-vous sûrs d'avoir bien fait l'exercice `3.3.f`? Avez-vous contrôlé le coût pour 96 puits ? Et pour 97 ?"
   ]
  },
  {
   "cell_type": "code",
   "execution_count": null,
   "id": "a7a22d22",
   "metadata": {},
   "outputs": [],
   "source": [
    "assert cout_plaques(96,1) == 1\n",
    "assert cout_plaques(97,1) == 2"
   ]
  },
  {
   "cell_type": "markdown",
   "id": "3c0f398f",
   "metadata": {},
   "source": [
    "<b><font color='white' style='background-color:black'>Ex. 3.4</font> Compléments sur les fonctions</b><a class='anchor' id='compléments'></a><br>\n",
    "\n",
    "<b><font color='white' style='background-color:green'>3.4.a</font></b> <font color='white' style='text-shadow: -1px 0 black, 0 1px black, 1px 0 black, 0 -1px black;'>C</font>\n",
    "En Python, une fonction peut rendre plus qu'une valeur. Créez la fonction inverse de `combien_secondes` en `3.3.c`, c'est à dire une fonction qui prend un entier qui représente un certain montant de segondes et le transforme en heures, minutes, segondes (exemple : 120s -> 0h, 2m, 0s). Appellez cette fonction `combien_temps` et testez-la.\n",
    "\n",
    "**Attention** : pour utiliser une fonction qui rend plusieurs valeurs, vous avez deux possibilités : \n",
    "- `a = combien_temps(4000)` : dans ce cas, `a` contiendra un _triplet_ `(h, m, s)`\n",
    "- `a, b, c = combien_temps(4000)` : dans ce cas, `a`, `b`, `c` seront des entiers contenant respectivement heures, minutes, segondes.\n",
    "\n",
    "Pour tester, il faudra donc créer des `assert` qui utilisent la syntaxe du triplet : exemple\n",
    "```python\n",
    "assert combien_temps(3666) == (1, 1, 6)   # 1 heure, 1 minute, 6 segondes\n",
    "```\n",
    "\n",
    "NB : avec vos connaissances, la fonction `combien_temps` peut être écrite en 2 lignes !"
   ]
  },
  {
   "cell_type": "code",
   "execution_count": null,
   "id": "0f66b2fa",
   "metadata": {},
   "outputs": [],
   "source": [
    "def combien_temps(s):\n",
    "    return s//(60*60), (s%(60*60))//60, s%60"
   ]
  },
  {
   "cell_type": "code",
   "execution_count": null,
   "id": "9d015493",
   "metadata": {},
   "outputs": [],
   "source": [
    "assert combien_temps(3666) == (1, 1, 6) \n",
    "assert combien_temps(19) == (0, 0, 19) "
   ]
  },
  {
   "cell_type": "markdown",
   "id": "81e51d71",
   "metadata": {},
   "source": [
    "<b><font color='white' style='background-color:green'>3.4.b</font></b> Les fonctions peuvent prendre des paramètres optionnels, qui ont une valeur de default s'ils ne sont pas spécifiés. Par exemple, la fonction `print` prend les paramètres optionnels `end` et `sep`, dont les defaults sont respectivement `'\\n'` et `' '`. Jouez avec `sep` et `end` dans l'appel de fonction suivant jusqu'à quand vous n'obtenez l'affichage\n",
    "```\n",
    "PSG-Juventus 1-3\n",
    "```"
   ]
  },
  {
   "cell_type": "code",
   "execution_count": null,
   "id": "45fe3d84",
   "metadata": {},
   "outputs": [],
   "source": [
    "print(\"PSG\", \"Juventus 1\", \"3\", sep=\"...\", end=\"!?\")"
   ]
  },
  {
   "cell_type": "markdown",
   "id": "aee57b20",
   "metadata": {},
   "source": [
    "<h3>4. Tests</h3><a class='anchor' id='tests'></a>\n",
    "<b><font color='white' style='background-color:black'>Ex. 4.1</font> Comparaisons</b><a class='anchor' id='comparaisons'></a><br>\n",
    "On a déjà vu un premier type de comparaison en utilisant `assert`. Les opérateurs de comparaison sont:\n",
    "\n",
    "```python\n",
    "==    # égale à\n",
    "!=    # inégale à\n",
    ">     # supérieur à\n",
    "<     # inférieur à\n",
    ">=    # supérieur ou égale à\n",
    "<=    # inférieur ou égale à\n",
    "```\n",
    "\n",
    "Les tests rendent toujours un booléen : `True` ou `False`"
   ]
  },
  {
   "cell_type": "code",
   "execution_count": null,
   "id": "1747b41b",
   "metadata": {},
   "outputs": [],
   "source": [
    "# Exemple (ne pas modifier)\n",
    "2 + 2 == 5"
   ]
  },
  {
   "cell_type": "markdown",
   "id": "7c947b49",
   "metadata": {},
   "source": [
    "<b><font color='white' style='background-color:orange'>4.1.a</font></b> <font color='white' style='text-shadow: -1px 0 black, 0 1px black, 1px 0 black, 0 -1px black;'>C</font> Demandez à Python pour savoir si les égalités ou inégalité suivantes sont vraies :"
   ]
  },
  {
   "cell_type": "markdown",
   "id": "161b90a7",
   "metadata": {},
   "source": [
    "$3 \\times 5 = 5 + 17$"
   ]
  },
  {
   "cell_type": "code",
   "execution_count": null,
   "id": "254f0915",
   "metadata": {},
   "outputs": [],
   "source": [
    "3*5 == 5 + 17"
   ]
  },
  {
   "cell_type": "markdown",
   "id": "1db544fe",
   "metadata": {},
   "source": [
    "$24 + 8 \\times 2 + 2 \\neq 42$"
   ]
  },
  {
   "cell_type": "code",
   "execution_count": null,
   "id": "14dc9a52",
   "metadata": {},
   "outputs": [],
   "source": [
    "24 + 8*2 + 2 != 42"
   ]
  },
  {
   "cell_type": "markdown",
   "id": "b566e081",
   "metadata": {},
   "source": [
    "$\\frac{3 + 9}{24} > \\frac{2 + 7}{19}$"
   ]
  },
  {
   "cell_type": "code",
   "execution_count": null,
   "id": "3669a104",
   "metadata": {},
   "outputs": [],
   "source": [
    "(3+9)/24 > (2+7)/19"
   ]
  },
  {
   "cell_type": "markdown",
   "id": "8aa43f91",
   "metadata": {},
   "source": [
    "<b><font color='white' style='background-color:orange'>4.1.b</font></b> Testez si la longueur du fameux mot de Mary Poppins `'Supercalifragilisticexpialidocious'` est supérieure à celle de sa traduction française `'Supercalifragilisticexpidélilicieux'`."
   ]
  },
  {
   "cell_type": "code",
   "execution_count": null,
   "id": "b6dc114a",
   "metadata": {},
   "outputs": [],
   "source": []
  },
  {
   "cell_type": "markdown",
   "id": "8b21da50",
   "metadata": {},
   "source": [
    "<b><font color='white' style='background-color:orange'>4.1.c</font></b> Testez si c'est vrai que `4` et `4.0` sont égaux. Est-ce que `'Batman'` et `'batman'` le sont?"
   ]
  },
  {
   "cell_type": "code",
   "execution_count": null,
   "id": "d8313d30",
   "metadata": {},
   "outputs": [],
   "source": []
  },
  {
   "cell_type": "markdown",
   "id": "fe4e5f0b",
   "metadata": {},
   "source": [
    "<b><font color='white' style='background-color:green'>4.1.d</font></b> <font color='white' style='text-shadow: -1px 0 black, 0 1px black, 1px 0 black, 0 -1px black;'>C</font> Un triangle de côtés `6`, `8` et `10` est-il rectangle? Testez-le avec une comparaison adéquate"
   ]
  },
  {
   "cell_type": "code",
   "execution_count": null,
   "id": "90f214d0",
   "metadata": {},
   "outputs": [],
   "source": [
    "6**2 + 8**2 == 10**2"
   ]
  },
  {
   "cell_type": "markdown",
   "id": "ad2113e7",
   "metadata": {},
   "source": [
    "<b><font color='white' style='background-color:green'>4.1.e</font></b> On lance deux dés à six faces. Créez deux variables (aléatoires) `dé1` et `dé2` pour ces lancers. Affichez le résultat du test pour savoir si le `dé1` est supérieur ou égal au `dé2`"
   ]
  },
  {
   "cell_type": "code",
   "execution_count": null,
   "id": "ae8aae46",
   "metadata": {},
   "outputs": [],
   "source": []
  },
  {
   "cell_type": "markdown",
   "id": "f58aadb5",
   "metadata": {},
   "source": [
    "<b><font color='white' style='background-color:black'>Ex. 4.2</font> Flottants et précision</b><a class='anchor' id='flottants'></a><br>\n",
    "Python est toujours exacte sur les entiers, n'importe de quelle taille, même énorme (ce n'est pas le cas pour tous les langages !). Mais pour les flottants, ça change : aucun langage n'arrive à avoir précision infinie. On va voir ce que ça entraîne du côté pratique, et comment faire avec.<br> \n",
    "<b><font color='white' style='background-color:orange'>4.2.a</font></b> Exécutez les tests suivants :"
   ]
  },
  {
   "cell_type": "markdown",
   "id": "cdf51a68",
   "metadata": {},
   "source": [
    "$0.1 + 0.1 = 0.2$"
   ]
  },
  {
   "cell_type": "code",
   "execution_count": null,
   "id": "dc17fdbb",
   "metadata": {},
   "outputs": [],
   "source": []
  },
  {
   "cell_type": "markdown",
   "id": "4db43d71",
   "metadata": {},
   "source": [
    "$0.1 + 0.1 + 0.1  = 0.3$"
   ]
  },
  {
   "cell_type": "code",
   "execution_count": null,
   "id": "7092c298",
   "metadata": {},
   "outputs": [],
   "source": []
  },
  {
   "cell_type": "markdown",
   "id": "e31b5a00",
   "metadata": {},
   "source": [
    "$0.1 + 0.1 + 0.1 + 0.1 = 0.4$"
   ]
  },
  {
   "cell_type": "code",
   "execution_count": null,
   "id": "13498105",
   "metadata": {},
   "outputs": [],
   "source": []
  },
  {
   "cell_type": "markdown",
   "id": "d737bb98",
   "metadata": {},
   "source": [
    "<b><font color='white' style='background-color:blue'>4.2.b</font></b> <font color='white' style='text-shadow: -1px 0 black, 0 1px black, 1px 0 black, 0 -1px black;'>C</font> Savez-vous expliquer la raison du comportement vu dans l'exercice 4.2.a ?"
   ]
  },
  {
   "cell_type": "markdown",
   "id": "980cd08f",
   "metadata": {},
   "source": [
    "C'est à cause de la perte de précision de la machine. Les nombres décimaux sont mappés en des nombres binaires qui les rapprochent au mieux : `0.1` est en fait `0.100000000000000005`, `0.2` est `0.200000000000000010`, `0.3` est `0.299999999999999988`. Donc Python cache les vrais nombres, mais enfin dit la vérité : `0.1 + 0.1 == 0.100000000000000005 + 0.100000000000000005 == 0.200000000000000010 == 0.2` alors que `0.1 + 0.1 + 0.1 == 0.300000000000000015 != 0.299999999999999988 == 0.3`"
   ]
  },
  {
   "cell_type": "markdown",
   "id": "28c03902",
   "metadata": {},
   "source": [
    "<b><font color='white' style='background-color:orange'>4.2.c</font></b> Utilisez la <a href=\"https://docs.python.org/3/library/functions.html\">fonction prédéfinie standard</a> `round` pour arrondir un nombre à virgule. Comme d'habitude en mathématiques, la fonction devrait arrondir vers le bas si la partie décimale est $\\lt 0.5$, et vers le haut si la partie décimale est $\\ge 0.5$, avec la possible exception de $0.5$ qui s'arrondit à 0 pour des exigences mathématiques. Trouvez au moins un autre nombre avec partie décimale `.5` qui est arrondi en bas au lieu qu'en haut."
   ]
  },
  {
   "cell_type": "code",
   "execution_count": null,
   "id": "a644b808",
   "metadata": {},
   "outputs": [],
   "source": []
  },
  {
   "cell_type": "markdown",
   "id": "e4ab6b74",
   "metadata": {},
   "source": [
    "<b><font color='white' style='background-color:green'>4.2.d</font></b> <font color='white' style='text-shadow: -1px 0 black, 0 1px black, 1px 0 black, 0 -1px black;'>C</font> Si on veut comparer deux flottants, il faut établir un seuil d'approximation. Créez une fonction `égalité_flottants` qui prend deux flottants `x` et `y` et un seuil `h`, et renvoie le résultat de ce test: $$|x - y| < h$$\n",
    "Dans la deuxième boîte, proposez un jeu de tests adéquat. Dans la troisième boîte, utilisez votre fonction pour savoir si $0.1+0.1+0.1$ est égal à $0.3$ avec une précision de $10^{-10}$"
   ]
  },
  {
   "cell_type": "code",
   "execution_count": null,
   "id": "b6e86c2b",
   "metadata": {},
   "outputs": [],
   "source": [
    "def égalité_flottants(x, y, h):\n",
    "    return abs(x-y) < h"
   ]
  },
  {
   "cell_type": "code",
   "execution_count": null,
   "id": "7963b0d1",
   "metadata": {},
   "outputs": [],
   "source": [
    "assert égalité_flottants(0.3, 3*0.1, 0.00001)\n",
    "assert égalité_flottants(0.3, 0.33, 0.1)"
   ]
  },
  {
   "cell_type": "code",
   "execution_count": null,
   "id": "61e61a19",
   "metadata": {},
   "outputs": [],
   "source": [
    "égalité_flottants(0.3, 3*0.1, 10**-10)"
   ]
  },
  {
   "cell_type": "markdown",
   "id": "f1765fef",
   "metadata": {},
   "source": [
    "<b><font color='white' style='background-color:blue'>4.2.e</font></b> <font color='white' style='text-shadow: -1px 0 black, 0 1px black, 1px 0 black, 0 -1px black;'>C</font> Calculez, à l'aide des fonctions de la bibliothèque `math`, $$\\log(e^{-500}e^{-400})$$\n",
    "Que se passe-t-il ? Expliquez-le dans la boîte de texte. Ensuite, contournez cet obstacle en modifiant le calcul"
   ]
  },
  {
   "cell_type": "code",
   "execution_count": null,
   "id": "1f3dbd26",
   "metadata": {},
   "outputs": [],
   "source": [
    "from math import exp, log\n",
    "\n",
    "log(exp(-500)*exp(-400))"
   ]
  },
  {
   "cell_type": "markdown",
   "id": "9ca1952c",
   "metadata": {},
   "source": [
    "Il y a un _soupassement_ : les nombres calculés sont trop proches de zéro et y sont arrondis. Mais la fonction `log` n'est pas définie en 0, d'où l'erreur"
   ]
  },
  {
   "cell_type": "code",
   "execution_count": null,
   "id": "bca48ac9",
   "metadata": {},
   "outputs": [],
   "source": [
    "-500 - 400     # log et exp s'annulent..."
   ]
  }
 ],
 "metadata": {
  "kernelspec": {
   "display_name": "Python 3 (ipykernel)",
   "language": "python",
   "name": "python3"
  },
  "language_info": {
   "codemirror_mode": {
    "name": "ipython",
    "version": 3
   },
   "file_extension": ".py",
   "mimetype": "text/x-python",
   "name": "python",
   "nbconvert_exporter": "python",
   "pygments_lexer": "ipython3",
   "version": "3.11.4"
  }
 },
 "nbformat": 4,
 "nbformat_minor": 5
}
