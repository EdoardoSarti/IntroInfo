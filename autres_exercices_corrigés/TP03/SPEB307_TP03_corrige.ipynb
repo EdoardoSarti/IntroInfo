{
 "cells": [
  {
   "cell_type": "markdown",
   "id": "437a11d0",
   "metadata": {},
   "source": [
    "<h1><center>SPEB307 — Introduction à l'Informatique — TP 03</center><br>\n",
    "<center>Boucles</center></h1>"
   ]
  },
  {
   "cell_type": "markdown",
   "id": "c3a9453e",
   "metadata": {},
   "source": [
    "<h3>Auto-évaluation</h3>\n",
    "\n",
    "<div> Les exercices se divisent en trois niveaux d'auto-évaluation:\n",
    "<ul>\n",
    "    <li><h3><font color='white' style='background-color:orange'>Fondamentaux</font></h3> Pour réviser les notions apprises en cours. Il faut tous les savoir résoudre pour avoir la moyenne.</li>\n",
    "    <li><h3><font color='white' style='background-color:green'>Intermédiaires</font></h3> Pour vous aider à raisonner et rentrer au coeur des sujets. Si vous saurez tous les résoudre, vous aurez un bon niveau de préparation !</li>\n",
    "    <li><h3><font color='white' style='background-color:blue'>Avancés</font></h3> Défis pour vous entraîner à l'examen final... et aller plus loin !</li>\n",
    "</ul>\n",
    "</div>"
   ]
  },
  {
   "cell_type": "markdown",
   "id": "c1b5b9b0",
   "metadata": {},
   "source": [
    "### <font color='black'>Table des matières<font><a class='anchor' id='top'></a>\n",
    "\n",
    "1. [Boucle while](#while)<br>\n",
    "    1.1 [Premières boucles](#premières)<br>\n",
    "    1.2 [Conditions d'arrêt](#arrêt)<br>\n",
    "    1.3 [Plus loin avec les boucles](#while2)<br>\n",
    "2. [La boucle for](#for)<br>\n",
    "    2.1 [La fonction `range`](#range)<br>\n",
    "    2.2 [Différences entre `while` et `for`](#différences)<br>\n",
    "    2.3 [Usage avancé des boucles](#itérateurs)"
   ]
  },
  {
   "cell_type": "markdown",
   "id": "58b84d8e",
   "metadata": {},
   "source": [
    "<h3>1. Boucle while</h3><a class='anchor' id='while'></a>\n",
    "\n",
    "Les ordinateurs ont été inventés pour faire plus rapidement des long calculs répétitifs. Jusqu'ici on a vu comment un programme peut opérer des choix grâce à la syntaxe conditionnelle. Maintenant on voit la première structure qui nous permet de répéter un bloc d'instructions jusqu'à quand une certaine condition n'est atteinte.\n",
    "\n",
    "La boucle `while` a une syntaxe très simple :\n",
    "\n",
    "```python\n",
    "while condition:\n",
    "    # exécute ce code tant que condition == True\n",
    "```\n",
    "\n",
    "Exemple : un script qui fait la somme des premiers 5 entiers.\n",
    "```python\n",
    "i = 0                   # Initialise i (le compteur de la boucle) à 0\n",
    "somme = 0               # Initialise somme (la variable contenant le résultat) à 0\n",
    "while i < 5:            # tant que i est inférieure à 10\n",
    "    i = i + 1           # rajoute 1 à la valeur de i\n",
    "    somme = somme + i   # rajoute i à la valeur de somme\n",
    "print(somme)            # affiche le résultat\n",
    "```\n",
    "\n",
    "Pour mieux suivre le flux de travail des boucles, on se servira d'une table où on transcrit les valeurs des variables dans la boucle. Dans l'exemple, on a les variables `i` et `somme`. On transcrit la valeur des variables **à la fin** du tour de boucle.\n",
    "\n",
    "| tour de boucle   | i    | somme | i<5       |\n",
    "|-----------------:|-----:|------:|----------:|\n",
    "| 0 (entrée)       | 0    | 0     | True      |\n",
    "| 1                | 1    | 1     | True      |\n",
    "| 2                | 2    | 3     | True      |\n",
    "| 3                | 3    | 6     | True      |\n",
    "| 4                | 4    | 10    | True      |\n",
    "| 5 (sortie)       | 5    | 15    | False     |"
   ]
  },
  {
   "cell_type": "markdown",
   "id": "eda51284",
   "metadata": {},
   "source": [
    "<b><font color='white' style='background-color:black'>Ex. 1.1</font> Premières boucles</b><a class='anchor' id='premières'></a><br>\n",
    "Commençons par quelques cas simples<br>\n",
    "<b><font color='white' style='background-color:orange'>1.1.a</font></b> Ecrire une boucle `while` qui affiche les entiers de 0 à 9"
   ]
  },
  {
   "cell_type": "code",
   "execution_count": null,
   "id": "5a16417c",
   "metadata": {},
   "outputs": [],
   "source": [
    "i = 0\n",
    "while i < 10:\n",
    "    print(i)\n",
    "    i = i + 1"
   ]
  },
  {
   "cell_type": "markdown",
   "id": "ea8f1c2b",
   "metadata": {},
   "source": [
    "<b><font color='white' style='background-color:orange'>1.1.b</font></b> Ecrire une boucle `while` qui affiche les multiples de 3, de 3 jusqu'à 18 (inclus)"
   ]
  },
  {
   "cell_type": "code",
   "execution_count": null,
   "id": "bfafd466",
   "metadata": {},
   "outputs": [],
   "source": [
    "i = 3\n",
    "while i < 19:\n",
    "    print(i)\n",
    "    i = i + 3"
   ]
  },
  {
   "cell_type": "markdown",
   "id": "4ba962e3",
   "metadata": {},
   "source": [
    "<b><font color='white' style='background-color:orange'>1.1.c</font></b> Ecrire une boucle `while` qui lance 5 dés à 10 faces et en affiche les résultats"
   ]
  },
  {
   "cell_type": "code",
   "execution_count": null,
   "id": "c934c8fc",
   "metadata": {},
   "outputs": [],
   "source": [
    "from random import randint\n",
    "\n",
    "i = 0\n",
    "while i < 5:\n",
    "    print(randint(1,10))\n",
    "    i = i + 1"
   ]
  },
  {
   "cell_type": "markdown",
   "id": "3119b401",
   "metadata": {},
   "source": [
    "<b><font color='white' style='background-color:orange'>1.1.d</font></b> Ecrire une boucle `while` qui produit l'affichage suivant:\n",
    "```\n",
    "5\n",
    "4\n",
    "3\n",
    "2\n",
    "1\n",
    "```"
   ]
  },
  {
   "cell_type": "code",
   "execution_count": null,
   "id": "27775f24",
   "metadata": {},
   "outputs": [],
   "source": [
    "i = 5\n",
    "while i > 0:\n",
    "    print(i)\n",
    "    i = i - 1"
   ]
  },
  {
   "cell_type": "markdown",
   "id": "f06739f1",
   "metadata": {},
   "source": [
    "<b><font color='white' style='background-color:orange'>1.1.e</font></b> Ecrire une boucle `while` qui produit l'affichage suivant:\n",
    "```\n",
    "32\n",
    "16\n",
    "8\n",
    "4\n",
    "2\n",
    "1\n",
    "```"
   ]
  },
  {
   "cell_type": "code",
   "execution_count": null,
   "id": "10010083",
   "metadata": {},
   "outputs": [],
   "source": [
    "i = 32\n",
    "while i >= 1:\n",
    "    print(i)\n",
    "    i = i // 2"
   ]
  },
  {
   "cell_type": "markdown",
   "id": "09986673",
   "metadata": {},
   "source": [
    "<b><font color='white' style='background-color:orange'>1.1.f</font></b> Ecrivez la table des variables de boucle pour le code suivant :"
   ]
  },
  {
   "cell_type": "code",
   "execution_count": null,
   "id": "d99407e2",
   "metadata": {},
   "outputs": [],
   "source": [
    "# Ne pas modifier !!\n",
    "i = 1\n",
    "factorielle = 1\n",
    "while i < 5:\n",
    "    factorielle = factorielle * i\n",
    "    i = i + 1\n",
    "print(factorielle)"
   ]
  },
  {
   "cell_type": "markdown",
   "id": "c558e22d",
   "metadata": {},
   "source": [
    "| tour de boucle   | i    | factorielle | i<5       |\n",
    "|-----------------:|-----:|------------:|----------:|\n",
    "| 0 (entrée)       | 1    | 1           | True      |\n",
    "| 1                | 2    | 1           | True      |\n",
    "| 2                | 3    | 2           | True      |\n",
    "| 3                | 4    | 6           | True      |\n",
    "| 4 (sortie)       | 5    | 24          | False     |"
   ]
  },
  {
   "cell_type": "markdown",
   "id": "e998c4bc",
   "metadata": {},
   "source": [
    "<b><font color='white' style='background-color:green'>1.1.g</font></b> Ecrivez une boucle `while` qui compte tous les multiples de 3 ou de 5 qui se trouvent entre 13 et 78"
   ]
  },
  {
   "cell_type": "code",
   "execution_count": null,
   "id": "097b0dbd",
   "metadata": {},
   "outputs": [],
   "source": [
    "i = 13\n",
    "c = 0\n",
    "while i <= 78:\n",
    "    if i % 3 or i % 5:\n",
    "        c = c + 1\n",
    "    i = i + 1\n",
    "print(c)"
   ]
  },
  {
   "cell_type": "markdown",
   "id": "3a531b97",
   "metadata": {},
   "source": [
    "<b><font color='white' style='background-color:black'>Ex. 1.2</font> Conditions d'arrêt</b><a class='anchor' id='arrêt'></a><br>\n",
    "Il faut faire attention à la condion d'arrêt de la boucle. Considérez cet exemple:\n",
    "\n",
    "```python\n",
    "i = 1\n",
    "while i > 0:\n",
    "    i = i + 3\n",
    "print(i)\n",
    "```\n",
    "\n",
    "| tour de boucle   | i    | i>0       |\n",
    "|-----------------:|-----:|----------:|\n",
    "| 0 (entrée)       | 1    | True      |\n",
    "| 1                | 4    | True      |\n",
    "| 2                | 7    | True      |\n",
    "| 3                | 11   | True      |\n",
    "| 4                | 14   | True      |\n",
    "| ...              | ...  | True      |"
   ]
  },
  {
   "cell_type": "markdown",
   "id": "d66ac34a",
   "metadata": {},
   "source": [
    "<b><font color='white' style='background-color:green'>1.2.a</font></b> On a la boucle dans la boîte de code suivante. Déterminez pour quelles valeurs de `a` et `b` la boucle ne tourne pas à l'infini."
   ]
  },
  {
   "cell_type": "code",
   "execution_count": null,
   "id": "36180c5c",
   "metadata": {},
   "outputs": [],
   "source": [
    "a = 1     # complétez ici\n",
    "b = -1000 # complétez ici \n",
    "while a < b:\n",
    "    b = b - a\n",
    "print(b)"
   ]
  },
  {
   "cell_type": "markdown",
   "id": "c1bd43b6",
   "metadata": {},
   "source": [
    "Pour toute valeur de b et pour $a > 0$"
   ]
  },
  {
   "cell_type": "markdown",
   "id": "2023015c",
   "metadata": {},
   "source": [
    "<b><font color='white' style='background-color:green'>1.2.b</font></b> Qu'est-ce qui ne va pas dans ce code ? Calculez la table des variables pour les premiers 3 tours de boucle\n",
    "\n",
    "```python\n",
    "f = 2**0\n",
    "res = 1\n",
    "while res < 1000:\n",
    "    res = res * f\n",
    "print(res)\n",
    "```"
   ]
  },
  {
   "cell_type": "markdown",
   "id": "820b7fe7",
   "metadata": {},
   "source": [
    "| tour de boucle   | res  | res<1000  |\n",
    "|-----------------:|-----:|----------:|\n",
    "| 0 (entrée)       | 1    | True      |\n",
    "| 1                | 1    | True      |\n",
    "| 2                | 1    | True      |\n",
    "| 3                | 1    | True      |\n",
    "| ...              | ...  | True      |"
   ]
  },
  {
   "cell_type": "markdown",
   "id": "d6c491c1",
   "metadata": {},
   "source": [
    "<b><font color='white' style='background-color:black'>Ex. 1.3</font> Plus loin avec les boucles</b><a class='anchor' id='while2'></a><br>"
   ]
  },
  {
   "cell_type": "markdown",
   "id": "b51e8001",
   "metadata": {},
   "source": [
    "<b><font color='white' style='background-color:green'>1.3.a</font></b> Un nombre premier est un entier positif qui n'est pas divisible par aucun entier sauf 1 et lui-même. Créez du code qui contrôle si un entier `n` est premier ou pas. S'il est premier, il affiche `True`, sinon `False`."
   ]
  },
  {
   "cell_type": "code",
   "execution_count": null,
   "id": "44e4da62",
   "metadata": {},
   "outputs": [],
   "source": [
    "n = 8\n",
    "\n",
    "i = 2\n",
    "res = True\n",
    "while i < n and res == True:\n",
    "    if n % i == 0:\n",
    "        res = False\n",
    "    i = i + 1\n",
    "print(res)"
   ]
  },
  {
   "cell_type": "markdown",
   "id": "c8e025a7",
   "metadata": {},
   "source": [
    "<b><font color='white' style='background-color:green'>1.3.b</font></b> Ecrire du code qui trouve le plus petit commun multiple de deux entiers `a` et `b`. La stratégie est : calculer le minimum entre `a` et `b` et le multiplier par 1, 2, 3, etc jusqu'à quand il est divisible par l'autre entier."
   ]
  },
  {
   "cell_type": "code",
   "execution_count": null,
   "id": "a546159c",
   "metadata": {},
   "outputs": [],
   "source": [
    "a = 4\n",
    "b = 6\n",
    "\n",
    "m = min(a,b)\n",
    "c = m\n",
    "M = max(a,b)\n",
    "while c % M != 0:\n",
    "    c = c + m\n",
    "print(\"plus petit commun multiple :\", c)"
   ]
  },
  {
   "cell_type": "markdown",
   "id": "45201be3",
   "metadata": {},
   "source": [
    "<h3>2. La boucle for</h3><a class='anchor' id='for'></a>\n",
    "\n",
    "Alors que `while` est utile pour introduire tous les concepts clé des boucle, la syntaxe la plus utilisée en python est celle de la boucle `for`:\n",
    "\n",
    "```python\n",
    "for variable_de_boucle in variable_itérable:\n",
    "    # instructions répétées\n",
    "```\n",
    "\n",
    "Comme on l'a vu dans les exercices avec la boucle `while`, la variable de boucle change à cheque tour de boucle. Une variable itérable est par contre un type complexe (on peut penser à une liste) qui contient toutes les valeurs qui seront données à la variable de boucle au cours de l'exécution.\n",
    "\n",
    "Exemple : \n",
    "\n",
    "```python\n",
    "somme = 0\n",
    "for i in (1, 3, 5, 7, 9):   # la variable itérable utilisée ici s'appelle n-uplet\n",
    "    somme = somme + i\n",
    "```\n",
    "\n",
    "L'exécution donnera 5 tours de boucle où i prendra les valeurs 1, 3, 5, 7, 9 dans cet ordre. Regardons la table de boucle :\n",
    "\n",
    "| tour de boucle | i | somme |\n",
    "|:---------------|---|-------|\n",
    "| 0 (entrée)     | / | 0     |\n",
    "| 1              | 1 | 1     |\n",
    "| 2              | 3 | 4     |\n",
    "| 3              | 5 | 9     |\n",
    "| 4              | 7 | 16    |\n",
    "| 5 (sortie)     | 9 | 25    |"
   ]
  },
  {
   "cell_type": "markdown",
   "id": "e22835c2",
   "metadata": {},
   "source": [
    "<b><font color='white' style='background-color:black'>Ex. 1.1</font> La fonction range</b><a class='anchor' id='range'></a><br>\n",
    "Une fonction très pratique à utiliser avec les boucles `for` est la fonction `range`. Cette fonction rend un _objet itérable_ (on en reparlera, pensez-le comme une liste) qui produit les entiers depuis une certaine valeur jusqu'à une autre valeur avec un certain pas :\n",
    "\n",
    "```python\n",
    "range(début, fin, pas)    # si pas == 1, on peut écrire range(début, fin)\n",
    "```\n",
    "\n",
    "En supposant $\\mathrm{début} <= \\mathrm{fin}$, l'itérateur rendu parcurra la liste suivante : \n",
    "$$\\{\\mathrm{début}, \\mathrm{début}+\\mathrm{pas}, \\mathrm{début}+2\\mathrm{pas}, ..., \\mathrm{début}+n\\mathrm{pas}\\}$$ où $\\mathrm{début}+n\\mathrm{pas} < \\mathrm{fin}$ et $\\mathrm{début}+(n+1)\\mathrm{pas} \\geq \\mathrm{fin}$.\n",
    "\n",
    "Exemple :\n",
    "\n",
    "`range(1,9,3)` est équivalent à lister les entiers `1, 4, 7` (et on s'arrête là, car `10` est plus grand ou égal à `9`), donc\n",
    "\n",
    "```python\n",
    "for i in range(1,9,3):\n",
    "    print(i)\n",
    "```\n",
    "\n",
    "produira\n",
    "\n",
    "| tour de boucle | i |\n",
    "|:---------------|---|\n",
    "| 0 (entrée)     | / |\n",
    "| 1              | 1 |\n",
    "| 2              | 4 |\n",
    "| 3 (sortie)     | 7 |\n",
    "\n",
    "Avec la fonction `range` on peut aussi faire des pas négatifs :\n",
    "\n",
    "```python\n",
    "range(début, fin, pas)\n",
    "```\n",
    "\n",
    "En supposant $\\mathrm{début} > \\mathrm{fin}$, l'itérateur rendu parcurra la liste suivante : \n",
    "$$\\{\\mathrm{début}, \\mathrm{début}-\\mathrm{pas}, \\mathrm{début}-2\\mathrm{pas}, ..., \\mathrm{début}-n\\mathrm{pas}\\}$$ où $\\mathrm{début}-n\\mathrm{pas} > \\mathrm{fin}$ et $\\mathrm{début}-(n+1)\\mathrm{pas} \\leq \\mathrm{fin}$.\n",
    "\n",
    "Exemple :\n",
    "\n",
    "`range(13,1,-4)` est équivalent à lister les entiers `13, 9, 5` (et on s'arrête là,  car `1` est plus petit ou égal à `1`), donc\n",
    "\n",
    "```python\n",
    "for i in range(13,1,-4):\n",
    "    print(i)\n",
    "```\n",
    "\n",
    "produira\n",
    "\n",
    "| tour de boucle | i  |\n",
    "|:---------------|----|\n",
    "| 0 (entrée)     | /  |\n",
    "| 1              | 13 |\n",
    "| 2              | 9  |\n",
    "| 3 (sortie)     | 5  |"
   ]
  },
  {
   "cell_type": "markdown",
   "id": "a7df8787",
   "metadata": {},
   "source": [
    "<b><font color='white' style='background-color:orange'>2.1.a</font></b> Affichez, avec une boucle `for` et la fonction `range`, les entiers de `1` à `10`"
   ]
  },
  {
   "cell_type": "code",
   "execution_count": null,
   "id": "0911e635",
   "metadata": {},
   "outputs": [],
   "source": [
    "for i in range(1, 11):\n",
    "    print(i)"
   ]
  },
  {
   "cell_type": "markdown",
   "id": "132e39b4",
   "metadata": {},
   "source": [
    "<b><font color='white' style='background-color:orange'>2.1.b</font></b> N'affichez que les nombres impairs de `1` à `16`"
   ]
  },
  {
   "cell_type": "code",
   "execution_count": null,
   "id": "787b441c",
   "metadata": {},
   "outputs": [],
   "source": [
    "for i in range(1, 16, 2):\n",
    "    print(i)"
   ]
  },
  {
   "cell_type": "markdown",
   "id": "9be67320",
   "metadata": {},
   "source": [
    "<b><font color='white' style='background-color:orange'>2.1.c</font></b> Affichez la suite suivante :\n",
    "```\n",
    "-4\n",
    "-1\n",
    "2\n",
    "5\n",
    "8\n",
    "11\n",
    "```"
   ]
  },
  {
   "cell_type": "code",
   "execution_count": null,
   "id": "504ab7da",
   "metadata": {},
   "outputs": [],
   "source": [
    "for i in range(-4, 12, 3):\n",
    "    print(i)"
   ]
  },
  {
   "cell_type": "markdown",
   "id": "79771879",
   "metadata": {},
   "source": [
    "<b><font color='white' style='background-color:green'>2.1.d</font></b> Qu'affiche le code suivant ? Repondez, puis exécutez dans une boîte de code. Servez-vous d'une table de boucle, avec une colonne qui suit la condition `n % i == 0`\n",
    "\n",
    "```python\n",
    "n = 12\n",
    "for i in range(1, n):\n",
    "    if n % i == 0:\n",
    "        print(i)\n",
    "```"
   ]
  },
  {
   "cell_type": "markdown",
   "id": "f173f9d3",
   "metadata": {},
   "source": [
    "| tour de boucle | i  | n  | n % i == 0 |\n",
    "|:---------------|----|----|------------|\n",
    "| 0 (entrée)     | /  | 12 |            |\n",
    "| 1              | 1  | 12 | True       |\n",
    "| 2              | 2  | 12 | True       |\n",
    "| 3              | 3  | 12 | True       |\n",
    "| 4              | 4  | 12 | True       |\n",
    "| 5              | 5  | 12 | False      |\n",
    "| 6              | 6  | 12 | True       |\n",
    "| 7              | 7  | 12 | False      |\n",
    "| 8              | 8  | 12 | False      |\n",
    "| 9              | 9  | 12 | False      |\n",
    "| 10             | 10 | 12 | False      |\n",
    "| 11 (sortie)    | 11 | 12 | False      |\n",
    "\n",
    "```\n",
    "1\n",
    "2\n",
    "3\n",
    "4\n",
    "6\n",
    "```"
   ]
  },
  {
   "cell_type": "code",
   "execution_count": null,
   "id": "23b79d68",
   "metadata": {},
   "outputs": [],
   "source": [
    "n = 12\n",
    "for i in range(1, n):\n",
    "    if n % i == 0:\n",
    "        print(i)"
   ]
  },
  {
   "cell_type": "markdown",
   "id": "9fd52100",
   "metadata": {},
   "source": [
    "<b><font color='white' style='background-color:green'>2.1.e</font></b> Créez du code qui prend un entier `n` non-négatif et calcule la factorielle de cet entier, définie de suite: $$n! = 1 \\times ... \\times n$$\n",
    "On a aussi que $0! = 1$."
   ]
  },
  {
   "cell_type": "code",
   "execution_count": null,
   "id": "5124660f",
   "metadata": {},
   "outputs": [],
   "source": [
    "n = 4\n",
    "\n",
    "fac = 1\n",
    "if n > 0:\n",
    "    for i in range(1,n+1):\n",
    "        fac = fac * i\n",
    "print(fac)"
   ]
  },
  {
   "cell_type": "markdown",
   "id": "e210b2ca",
   "metadata": {},
   "source": [
    "<b><font color='white' style='background-color:green'>2.1.f</font></b> Affichez la suite suivante :\n",
    "```\n",
    "5\n",
    "4\n",
    "3\n",
    "2\n",
    "1\n",
    "0\n",
    "```"
   ]
  },
  {
   "cell_type": "code",
   "execution_count": null,
   "id": "7dc3cddb",
   "metadata": {},
   "outputs": [],
   "source": [
    "for i in range(5,-1,-1):\n",
    "    print(i)"
   ]
  },
  {
   "cell_type": "markdown",
   "id": "2a944169",
   "metadata": {},
   "source": [
    "<b><font color='white' style='background-color:green'>2.1.g</font></b> Affichez la suite suivante :\n",
    "```\n",
    "10\n",
    "7\n",
    "4\n",
    "1\n",
    "-2\n",
    "-5\n",
    "```"
   ]
  },
  {
   "cell_type": "code",
   "execution_count": null,
   "id": "054b91e8",
   "metadata": {},
   "outputs": [],
   "source": [
    "for i in range(10,-6,-3):\n",
    "    print(i)"
   ]
  },
  {
   "cell_type": "markdown",
   "id": "478c3c4e",
   "metadata": {},
   "source": [
    "<b><font color='white' style='background-color:green'>2.1.h</font></b> Créez du code qui prend deux entiers `début` et `fin` (avec $\\mathrm{début} \\leq \\mathrm{fin}$) et affiche la sortie suivante :\n",
    "```\n",
    "début fin\n",
    "début+1 fin-1\n",
    "début+2 fin-2\n",
    "... ...\n",
    "fin-1 début+1\n",
    "fin début\n",
    "```\n",
    "\n",
    "Exemple de sortie pour $\\mathrm{début} = 5$ et $\\mathrm{fin} = 12$:\n",
    "```\n",
    "5 12\n",
    "6 11\n",
    "7 10\n",
    "8 9\n",
    "9 8\n",
    "10 7\n",
    "11 6\n",
    "12 5\n",
    "```"
   ]
  },
  {
   "cell_type": "code",
   "execution_count": null,
   "id": "ceb2eaac",
   "metadata": {},
   "outputs": [],
   "source": [
    "début, fin = 5, 12\n",
    "\n",
    "diff = fin - début + 1\n",
    "for i in range(0, diff):\n",
    "    print(début+i, fin-i)"
   ]
  },
  {
   "cell_type": "markdown",
   "id": "c340b54c",
   "metadata": {},
   "source": [
    "<b><font color='white' style='background-color:black'>Ex. 2.2</font> Différences entre `while` et `for`</b><a class='anchor' id='différences'></a>\n",
    "\n",
    "<b><font color='white' style='background-color:orange'>2.2.a</font></b> La première différence entre `while` et `for` est la condition d'arrêt : alors que `for` l'intègre dans l'itérateur (et donc normalement l'arrêt est assuré, une fois atteint le bout de la liste), une boucle `while` n'est pas à priori assurée s'arreter. Le problème de l'arrêt est important en informatique : il ne suffit pas d'essayer en exécutant le code, car le code pourrait avoir un temps d'exécution très long mais limité (et alors quand est-ce qu'on déciderait qu'il ne s'arrète pas ?). Il faut, en principe, le prouver théoriquement. \n",
    "\n",
    "Analysez les codes suivants et décidez s'ils vont s'arreter ou pas. Expliquez dans les boîtes de texte en dessous des codes"
   ]
  },
  {
   "cell_type": "markdown",
   "id": "6a8fb6d6",
   "metadata": {},
   "source": [
    "```python\n",
    "i = 0\n",
    "while i < 10:\n",
    "    print(i)\n",
    "```"
   ]
  },
  {
   "cell_type": "markdown",
   "id": "02fe5411",
   "metadata": {},
   "source": [
    "**Non : `i` vaut toujours `0`**"
   ]
  },
  {
   "cell_type": "markdown",
   "id": "f9b7e304",
   "metadata": {},
   "source": [
    "```python\n",
    "j = 0\n",
    "flag = True\n",
    "while flag:\n",
    "    j = j + 1\n",
    "    print(i)\n",
    "```"
   ]
  },
  {
   "cell_type": "markdown",
   "id": "1d31efca",
   "metadata": {},
   "source": [
    "**Non : `flag` vaut toujours `True`**"
   ]
  },
  {
   "cell_type": "markdown",
   "id": "20fbe987",
   "metadata": {},
   "source": [
    "```python\n",
    "a = 0\n",
    "flag = True\n",
    "while flag:\n",
    "    a = a + 10\n",
    "    if a == 100:\n",
    "        flag = False\n",
    "```"
   ]
  },
  {
   "cell_type": "markdown",
   "id": "388b66cf",
   "metadata": {},
   "source": [
    "**Oui : quand `a` vaut `100` (après 10 tours), `flag` devient `False` et la boucle s'arrète**"
   ]
  },
  {
   "cell_type": "markdown",
   "id": "55273dcf",
   "metadata": {},
   "source": [
    "```python\n",
    "n = 0\n",
    "m = 0\n",
    "while m < 1000 and n > -1000:\n",
    "    m = m - n\n",
    "    n = n - m\n",
    "```"
   ]
  },
  {
   "cell_type": "markdown",
   "id": "9139989e",
   "metadata": {},
   "source": [
    "**Non : `m` et `n` valent toujours `0`**"
   ]
  },
  {
   "cell_type": "markdown",
   "id": "f7b5761c",
   "metadata": {},
   "source": [
    "```python\n",
    "n = 0\n",
    "m = 1\n",
    "while m < 1000 and n > -1000:\n",
    "    m = m - n\n",
    "    n = n - m\n",
    "```"
   ]
  },
  {
   "cell_type": "markdown",
   "id": "454ec101",
   "metadata": {},
   "source": [
    "**Oui : `m` et `n` deviennent de plus en plus grands (`m` étant positif, `n` négatif), et la condition d'arrêt sera vérifiée (même si c'est pénible de calculer à quel tour). A remarquer : on n'a changé qu'une unité dans l'initialisation d'une variable !**"
   ]
  },
  {
   "cell_type": "markdown",
   "id": "e673c637",
   "metadata": {},
   "source": [
    "<b><font color='white' style='background-color:orange'>2.2.b</font></b> Ici on a un script avec une condition `while` : produisez le même affichage avec une boucle `for`"
   ]
  },
  {
   "cell_type": "code",
   "execution_count": null,
   "id": "3bb012e5",
   "metadata": {},
   "outputs": [],
   "source": [
    "# Ne pas modifier !!\n",
    "i = 0\n",
    "t = 1\n",
    "while t <= 10 :\n",
    "    i = i + t**2\n",
    "    print(\"tour numéro\", t, \":\", i)\n",
    "    t = t + 1"
   ]
  },
  {
   "cell_type": "code",
   "execution_count": null,
   "id": "bcb51900",
   "metadata": {},
   "outputs": [],
   "source": [
    "i = 0\n",
    "for t in range(1,11):\n",
    "    i = i + t**2\n",
    "    print(\"tour numéro\", t, \":\", i)"
   ]
  },
  {
   "cell_type": "markdown",
   "id": "05092a42",
   "metadata": {},
   "source": [
    "<b><font color='white' style='background-color:green'>2.2.c</font></b> Une autre différence entre `while` et `for` est le dégré de versatilité de la variable de boucle. Pour comprendre cette limite de `for`, cherchez à reproduire cette boucle `while` avec un `for`, comme vous l'avez fait en `1.2.b`. Vous arrivez-y ? Pourquoi ? Expliquez."
   ]
  },
  {
   "cell_type": "code",
   "execution_count": null,
   "id": "6a5d0da4",
   "metadata": {},
   "outputs": [],
   "source": [
    "# Ne pas modifier !\n",
    "n = 10\n",
    "\n",
    "nombre_pas = 0\n",
    "while n > 1:\n",
    "    nombre_pas = nombre_pas + 1\n",
    "    if n % 2 == 0:\n",
    "        n = n // 2\n",
    "    else:\n",
    "        n = 3*n + 1\n",
    "print(nombre_pas)"
   ]
  },
  {
   "cell_type": "code",
   "execution_count": null,
   "id": "edfdba82",
   "metadata": {},
   "outputs": [],
   "source": [
    "# Et avec un \"for\" ?"
   ]
  },
  {
   "cell_type": "markdown",
   "id": "9ef1e1ef",
   "metadata": {},
   "source": [
    "**La seule façon de le faire serait de créer une liste appropriée avec une boucle while et ensuite de faire une boucle for sur cette liste : une complication inutile. Le problème c'est qu'on ne connaît pas à priori si on atteindra la condition d'arrêt - dans ce cas, c'est l'un des fameux problèmes ouverts en mathématiques : la conjecture de Collatz !**"
   ]
  },
  {
   "cell_type": "markdown",
   "id": "6f32617a",
   "metadata": {},
   "source": [
    "<b><font color='white' style='background-color:green'>2.2.d</font></b> Attention : même si Python le permet, il est une mauvaise pratique de modifier la variable de boucle d'une boucle `for` ! \n",
    "\n",
    "Faites une table de boucle pour chacun des deux codes ci-dessous et expliquez les différences dans la boîte de texte. (N'oubliez pas la colonne de la condition de boucle pour la boucle `while`). Pourquoi le comportement n'est pas le même ?"
   ]
  },
  {
   "cell_type": "code",
   "execution_count": null,
   "id": "24d2339a",
   "metadata": {},
   "outputs": [],
   "source": [
    "# Ne pas modifier !\n",
    "for i in range(1,11):\n",
    "    print(\"début de tour\", i)\n",
    "    i = i ** 2\n",
    "    print(\"fin de tour\", i)"
   ]
  },
  {
   "cell_type": "code",
   "execution_count": null,
   "id": "683ef2a7",
   "metadata": {},
   "outputs": [],
   "source": [
    "# Ne pas modifier !\n",
    "i = 1\n",
    "while i < 11:\n",
    "    print(\"début de tour\", i)\n",
    "    i = i ** 2\n",
    "    print(\"fin de tour\", i)\n",
    "    i = i + 1"
   ]
  },
  {
   "cell_type": "markdown",
   "id": "14358bcb",
   "metadata": {},
   "source": [
    "**Boucle `for` :**\n",
    "\n",
    "| tour de boucle | i   |\n",
    "|----------------|-----|\n",
    "| 0 (entrée)     | /   |\n",
    "| 1              | 1   |\n",
    "| 2              | 4   |\n",
    "| 3              | 9   |\n",
    "| 4              | 16  |\n",
    "| 5              | 25  |\n",
    "| 6              | 36  |\n",
    "| 7              | 49  |\n",
    "| 8              | 64  |\n",
    "| 9              | 81  |\n",
    "| 10 (sortie)    | 100 |\n",
    "\n",
    "**Chaque début de tour, la variable `i` se met à jour avec la prochaine valeur donnée par l'itérateur rendu par la fonction `range`**\n",
    "\n",
    "\n",
    "Boucle `while` :\n",
    "\n",
    "| tour de boucle | i   | i < 11 |\n",
    "|----------------|-----|--------|\n",
    "| 0 (entrée)     | 1   | True   |\n",
    "| 1              | 2   | True   |\n",
    "| 2              | 5   | True   |\n",
    "| 3 (sortie)     | 26  | False  |\n",
    "\n",
    "**La variable de boucle ne suit pas la même évolution que pour `for` !**"
   ]
  },
  {
   "cell_type": "markdown",
   "id": "1dc245c1",
   "metadata": {},
   "source": [
    "<b><font color='white' style='background-color:black'>Ex. 2.3</font> Usage avancé des boucles</b><a class='anchor' id='itérateurs'></a>"
   ]
  },
  {
   "cell_type": "markdown",
   "id": "9ec9c291",
   "metadata": {},
   "source": [
    "<b><font color='white' style='background-color:green'>2.3.a</font></b> Ecrivez du code qui affiche les lignes suivantes, avec `for` dans la première boîte et avec `while` dans la deuxième :\n",
    "\n",
    "```\n",
    "5 est un nombre impair\n",
    "6 est un nombre pair\n",
    "7 est un nombre impair\n",
    "8 est un nombre pair\n",
    "9 est un nombre impair\n",
    "10 est un nombre pair\n",
    "11 est un nombre impair\n",
    "12 est un nombre pair\n",
    "13 est un nombre impair\n",
    "14 est un nombre pair\n",
    "```"
   ]
  },
  {
   "cell_type": "code",
   "execution_count": null,
   "id": "09558766",
   "metadata": {},
   "outputs": [],
   "source": [
    "for i in range(5, 15):\n",
    "    if i % 2 == 0:\n",
    "        print(i, \"est un nombre pair\")\n",
    "    else:\n",
    "        print(i, \"est un nombre impair\")"
   ]
  },
  {
   "cell_type": "code",
   "execution_count": null,
   "id": "56c7e819",
   "metadata": {},
   "outputs": [],
   "source": [
    "i = 5\n",
    "while i < 15:\n",
    "    if i % 2 == 0:\n",
    "        print(i, \"est un nombre pair\")\n",
    "    else:\n",
    "        print(i, \"est un nombre impair\")\n",
    "    i = i + 1"
   ]
  },
  {
   "cell_type": "markdown",
   "id": "aa2b3844",
   "metadata": {},
   "source": [
    "<b><font color='white' style='background-color:green'>2.3.b</font></b> Ecrivez du code qui affiche les lignes suivantes, avec `for` dans la première boîte et avec `while` dans la deuxième :\n",
    "\n",
    "```\n",
    "21 est strictement positif\n",
    "18 est strictement positif\n",
    "15 est strictement positif\n",
    "12 est strictement positif\n",
    "9 est strictement positif\n",
    "6 est strictement positif\n",
    "3 est strictement positif\n",
    "0 est nul\n",
    "-3 est strictement négatif\n",
    "-6 est strictement négatif\n",
    "-9 est strictement négatif\n",
    "-12 est strictement négatif\n",
    "-15 est strictement négatif\n",
    "-18 est strictement négatif\n",
    "-21 est strictement négatif\n",
    "```"
   ]
  },
  {
   "cell_type": "code",
   "execution_count": null,
   "id": "ca89d4e5",
   "metadata": {},
   "outputs": [],
   "source": [
    "for i in range(21, -22, -3):\n",
    "    if i > 0:\n",
    "        print(i, \"est strictement positif\")\n",
    "    elif i == 0:\n",
    "        print(i, \"est nul\")\n",
    "    else:\n",
    "        print(i, \"est strictement négatif\")"
   ]
  },
  {
   "cell_type": "code",
   "execution_count": null,
   "id": "c335ce3e",
   "metadata": {},
   "outputs": [],
   "source": [
    "i = 21\n",
    "while i > -22:\n",
    "    if i > 0:\n",
    "        print(i, \"est strictement positif\")\n",
    "    elif i == 0:\n",
    "        print(i, \"est nul\")\n",
    "    else:\n",
    "        print(i, \"est strictement négatif\")\n",
    "    i = i - 3"
   ]
  }
 ],
 "metadata": {
  "kernelspec": {
   "display_name": "Python 3 (ipykernel)",
   "language": "python",
   "name": "python3"
  },
  "language_info": {
   "codemirror_mode": {
    "name": "ipython",
    "version": 3
   },
   "file_extension": ".py",
   "mimetype": "text/x-python",
   "name": "python",
   "nbconvert_exporter": "python",
   "pygments_lexer": "ipython3",
   "version": "3.10.9"
  }
 },
 "nbformat": 4,
 "nbformat_minor": 5
}
