{
 "cells": [
  {
   "cell_type": "markdown",
   "id": "c0a4ecc8",
   "metadata": {},
   "source": [
    "# Partiel 2024-2025"
   ]
  },
  {
   "cell_type": "markdown",
   "id": "dfd6cf47",
   "metadata": {},
   "source": [
    "# Questions de cours : 6/20"
   ]
  },
  {
   "cell_type": "markdown",
   "id": "f9b92fce",
   "metadata": {},
   "source": [
    "<b><font color='white' style='background-color:orange'>1.</font></b> **1/40** Le langage d'assemblage est plus bas ou plus haut niveau que python ? Expliquez."
   ]
  },
  {
   "cell_type": "markdown",
   "id": "53f26737",
   "metadata": {},
   "source": [
    "<b><font color='white' style='background-color:orange'>2.</font></b> **1/40** Traduisez ces nombres binaires en nombres entiers. `00000000`correspond à `0`, `11111111` correspond à `255`.\n",
    "```\n",
    "00001010\n",
    "10000000\n",
    "00000011\n",
    "10000011\n",
    "```"
   ]
  },
  {
   "cell_type": "markdown",
   "id": "a7c4a7d0",
   "metadata": {},
   "source": [
    "<b><font color='white' style='background-color:orange'>3.</font></b> **1/40** Ecrivez un exemple de donnée de type simple, un de type complexe, et un de type complexe contenant au moins une donnée de type symple et une de type complexe."
   ]
  },
  {
   "cell_type": "markdown",
   "id": "e97db0f7",
   "metadata": {},
   "source": [
    "<b><font color='white' style='background-color:green'>4.</font></b> **2/40** Ecrivez le résultat de ces opérations. Si l'opération est impossible, écrivez \"erreur\".\n",
    "```\n",
    "3 + '10'\n",
    "'20' + '1'\n",
    "4 * 4\n",
    "'10' * 4\n",
    "'20' * '4'\n",
    "10 + 8\n",
    "(2, 4, 6) + (0, 1, 2)\n",
    "('a', 'b') + 'c'\n",
    "```"
   ]
  },
  {
   "cell_type": "markdown",
   "id": "b24205ab",
   "metadata": {},
   "source": [
    "<b><font color='white' style='background-color:blue'>5.</font></b> **1/40** Quel type de donnée est retournée par cette fonction ?\n",
    "```\n",
    "from random import randint\n",
    "\n",
    "def fonction_mystère():\n",
    "    a = randint(1,10)\n",
    "    b = randint(0,1) / randint(1,10)\n",
    "    return a/b, b\n",
    "```"
   ]
  },
  {
   "cell_type": "markdown",
   "id": "3d18be93",
   "metadata": {},
   "source": [
    "# Erreurs : 2/20"
   ]
  },
  {
   "cell_type": "markdown",
   "id": "1d2fc736",
   "metadata": {},
   "source": [
    "<b><font color='white' style='background-color:orange'>6.</font></b> **1/20** Trouvez au moins un jeu de données pour lesquels l'appel de cette fonction produira une erreur d'exécution\n",
    "\n",
    "```\n",
    "def trouve_dernier_caractère(x):\n",
    "    if type(x) == str:\n",
    "        return x[-1]\n",
    "    else:\n",
    "        print(\"Cette fonction prend en entrée une chaîne de caractères\")\n",
    "```"
   ]
  },
  {
   "cell_type": "markdown",
   "id": "9ef5fa1c",
   "metadata": {},
   "source": [
    "<b><font color='white' style='background-color:green'>7.</font></b> **1/20** Ce code contient une erreur de syntaxe et une d'exécution : trouvez-les.\n",
    "```\n",
    "def deux_opérations(a, b):\n",
    "    if a%2 = a%2:\n",
    "        return a/b, a-b\n",
    "    else:\n",
    "        return a*b, a+b\n",
    "    \n",
    "deux_opérations(deux_opérations(4, 4))\n",
    "```"
   ]
  },
  {
   "cell_type": "markdown",
   "id": "bdce7ea5",
   "metadata": {},
   "source": [
    "# TP01-TP02 : 5/20"
   ]
  },
  {
   "cell_type": "markdown",
   "id": "6a94f944",
   "metadata": {},
   "source": [
    "<b><font color='white' style='background-color:orange'>8.</font></b> **1/20** Attribuez la valeur `100` à la variable `a`, et la valeur `7` à la variable b. Ensuite, écrivez la commande qui calcule la division entière de `a` par `b`."
   ]
  },
  {
   "cell_type": "code",
   "execution_count": null,
   "id": "02635149",
   "metadata": {},
   "outputs": [],
   "source": [
    "a = 100"
   ]
  },
  {
   "cell_type": "code",
   "execution_count": null,
   "id": "66128bce",
   "metadata": {},
   "outputs": [],
   "source": [
    "b = 7"
   ]
  },
  {
   "cell_type": "code",
   "execution_count": null,
   "id": "c07f6c5c",
   "metadata": {},
   "outputs": [],
   "source": [
    "a//b"
   ]
  },
  {
   "cell_type": "markdown",
   "id": "e0d1465d",
   "metadata": {},
   "source": [
    "<b><font color='white' style='background-color:orange'>9.</font></b> **1/20** Qu'affiche ce code?<br>\n",
    "```python\n",
    "prénom = \"Inigo\"\n",
    "nom = \"Montoya\"\n",
    "print(\"Bonjour\", \"Je m'appelle\", prénom, nom, end=\".\", sep=\"/\")\n",
    "```"
   ]
  },
  {
   "cell_type": "markdown",
   "id": "6bf381e9",
   "metadata": {},
   "source": [
    "<b><font color='white' style='background-color:orange'>10.</font></b> **1/20** Vous avez la fonction suivante :<br>\n",
    "```python\n",
    "def couleur(r, g, b):\n",
    "    if r > 250 and b > 250:\n",
    "        if g < 50:\n",
    "            return \"violet\"\n",
    "        elif g > 250:\n",
    "            return \"blanc\"\n",
    "        else:\n",
    "            return \"?\"\n",
    "    else:\n",
    "        if r == g and g == b:\n",
    "            return \"gris\"\n",
    "        else:\n",
    "            return \"??\"\n",
    "```\n",
    "Ecrivez la sortie de la fonction appelée avec ces jeux d'entrées :\n",
    "```python\n",
    "couleur(253, 250, 255)\n",
    "couleur(0, 1, 2)\n",
    "couleur(55, 55, 55)\n",
    "couleur(255, 100, 254)\n",
    "```"
   ]
  },
  {
   "cell_type": "markdown",
   "id": "de6c88f7",
   "metadata": {},
   "source": [
    "<b><font color='white' style='background-color:green'>11.</font></b> **2/20** Ecrivez une fonction `swap` qui prend en entrée deux paramètres `a` et `b` de types quelconques, et rend les mêmes deux valeurs changées de place (le premier en seconde place, le second en première). Testez votre fonction avec trois `assert`."
   ]
  },
  {
   "cell_type": "markdown",
   "id": "9388193b",
   "metadata": {},
   "source": [
    "# TP03-TP05 : 7/20"
   ]
  },
  {
   "cell_type": "markdown",
   "id": "1fae90df",
   "metadata": {},
   "source": [
    "<b><font color='white' style='background-color:orange'>12.</font></b> **2/20** Ecrivez le tableau de variables de boucle pour le code suivant. Que contient la liste `l` à la fin de l'exécution ?\n",
    "```\n",
    "mot = \"SaLUt\"\n",
    "l = []\n",
    "for c in mot:\n",
    "    if c == c.upper():\n",
    "        l.append(c)  \n",
    "```"
   ]
  },
  {
   "cell_type": "markdown",
   "id": "66bdc3df",
   "metadata": {},
   "source": [
    "<b><font color='white' style='background-color:orange'>13.</font></b> **1/20** Qu'affiche le code suivant ?\n",
    "```\n",
    "mot = \"Bienvenue\"\n",
    "print(mot[-2::-2])\n",
    "```"
   ]
  },
  {
   "cell_type": "code",
   "execution_count": 4,
   "id": "e311bb9b",
   "metadata": {},
   "outputs": [
    {
     "name": "stdout",
     "output_type": "stream",
     "text": [
      "ueni\n"
     ]
    }
   ],
   "source": [
    "mot = \"Bienvenue\"\n",
    "print(mot[-2::-2])"
   ]
  },
  {
   "cell_type": "markdown",
   "id": "0f087921",
   "metadata": {},
   "source": [
    "<b><font color='white' style='background-color:green'>14.</font></b> **2/20** Créez une fonction `hamming` qui prend en entrée deux chaînes de caractères et les compare. Si les deux chaînes ont la même taille, la fonction doit rendre le nombre de caractères égaux qui se trouvent au même indice. Si elles ne le sont pas, la fonction doit rendre `-1`.\n",
    "\n",
    "Exemples:\n",
    "- `hamming(\"homme\", \"femme\")` rend `3` (les caractères aux indices 2, 3 et 4 sont pareils dans les deux chaînes)\n",
    "- `hamming(\"homme\", \"mehom\")` rend `0` (même si les deux chaînes sont composées par les mêmes lettres, les caractères au même indice ne sont jamais égaux)\n",
    "- `hamming(\"homme\", \"humain\")` rend `-1` (les chaînes ne sont pas de la même taille)"
   ]
  },
  {
   "cell_type": "markdown",
   "id": "7144e476",
   "metadata": {},
   "source": [
    "<b><font color='white' style='background-color:blue'>15.</font></b> **2/20** La variable `img` contient un objet Image `9x9` complètement vide (noire). En utilisant une double boucle `for` et les méthodes de l'objet, coulorez l'image comme en figure.\n",
    "![](image_partiel.png)"
   ]
  },
  {
   "cell_type": "code",
   "execution_count": 1,
   "id": "2450403f",
   "metadata": {},
   "outputs": [
    {
     "data": {
      "image/png": "[encoded data removed]",
      "text/plain": [
       "<Figure size 700x700 with 1 Axes>"
      ]
     },
     "metadata": {},
     "output_type": "display_data"
    }
   ],
   "source": [
    "from PIL import Image\n",
    "\n",
    "def afficher_image(img):\n",
    "    from matplotlib.pyplot import imshow, show, axis, figure\n",
    "    from numpy import asarray\n",
    "    # pour afficher les courbes dans le notebook\n",
    "    # (nécessaire pour les versions anciennes de jupyter)\n",
    "    %matplotlib inline\n",
    "    fig=figure(figsize=(10,10), dpi= 70)\n",
    "    axis('off')\n",
    "    imshow(asarray(img))\n",
    "    fig.savefig(\"image_partiel.png\")\n",
    "    show()\n",
    "\n",
    "image_nouvelle = Image.new(mode=\"RGB\", size=(9,9))\n",
    "for x in range(9):\n",
    "    for y in range(9):\n",
    "        if x == y:\n",
    "            image_nouvelle.putpixel((x,y), (255,0,0))\n",
    "        elif x%2 == 0 and y%2 == 0 and x>y:\n",
    "            image_nouvelle.putpixel((x,y), (0,255,0))\n",
    "        elif x%2 == 0 and y%2 == 0 and x<y:\n",
    "            image_nouvelle.putpixel((x,y), (0, 0, 255))\n",
    "afficher_image(image_nouvelle)"
   ]
  },
  {
   "cell_type": "code",
   "execution_count": null,
   "id": "fd393833",
   "metadata": {},
   "outputs": [],
   "source": []
  }
 ],
 "metadata": {
  "kernelspec": {
   "display_name": "Python 3 (ipykernel)",
   "language": "python",
   "name": "python3"
  },
  "language_info": {
   "codemirror_mode": {
    "name": "ipython",
    "version": 3
   },
   "file_extension": ".py",
   "mimetype": "text/x-python",
   "name": "python",
   "nbconvert_exporter": "python",
   "pygments_lexer": "ipython3",
   "version": "3.10.9"
  }
 },
 "nbformat": 4,
 "nbformat_minor": 5
}
