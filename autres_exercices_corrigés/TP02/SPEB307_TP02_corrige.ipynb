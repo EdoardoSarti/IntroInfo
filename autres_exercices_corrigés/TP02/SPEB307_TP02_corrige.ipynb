{
 "cells": [
  {
   "cell_type": "markdown",
   "id": "437a11d0",
   "metadata": {},
   "source": [
    "<h1><center>SPEB307 — Introduction à l'Informatique — TP 02</center><br>\n",
    "<center>Tests, Booléens, Conditions</center></h1>"
   ]
  },
  {
   "cell_type": "markdown",
   "id": "c3a9453e",
   "metadata": {},
   "source": [
    "<h3>Auto-évaluation</h3>\n",
    "\n",
    "<div> Les exercices se divisent en trois niveaux d'auto-évaluation:\n",
    "<ul>\n",
    "    <li><h3><font color='white' style='background-color:orange'>Fondamentaux</font></h3> Pour réviser les notions apprises en cours. Il faut tous les savoir résoudre pour avoir la moyenne.</li>\n",
    "    <li><h3><font color='white' style='background-color:green'>Intermédiaires</font></h3> Pour vous aider à raisonner et rentrer au coeur des sujets. Si vous saurez tous les résoudre, vous aurez un bon niveau de préparation !</li>\n",
    "    <li><h3><font color='white' style='background-color:blue'>Avancés</font></h3> Défis pour vous entraîner à l'examen final... et aller plus loin !</li>\n",
    "</ul>\n",
    "</div>"
   ]
  },
  {
   "cell_type": "markdown",
   "id": "c1b5b9b0",
   "metadata": {},
   "source": [
    "### <font color='black'>Table des matières<font><a class='anchor' id='top'></a>\n",
    "1. [Tests](#tests)<br>\n",
    "    1.1 [Comparaisons](#comparaisons)<br>\n",
    "    1.2 [Flottants et précision](#flottants)<br>\n",
    "2. [Booléens](#booléens)<br>\n",
    "    2.1 [Opérations sur les booléens](#opérations)<br>\n",
    "    3.2 [Tests avancés](#tests)<br>\n",
    "3. [Conditions](#conditions)<br>\n",
    "    3.1 [If, elif, else](#syntaxe)<br>\n",
    "    3.2 [Conditions imbriquées](#imbriquées)<br>"
   ]
  },
  {
   "cell_type": "markdown",
   "id": "aee57b20",
   "metadata": {},
   "source": [
    "<h3>1. Tests</h3><a class='anchor' id='tests'></a>\n",
    "<b><font color='white' style='background-color:black'>Ex. 1.1</font> Comparaisons</b><a class='anchor' id='comparaisons'></a><br>\n",
    "On a déjà vu un premier type de comparaison en utilisant `assert`. Les opérateurs de comparaison sont:\n",
    "\n",
    "```python\n",
    "==    # égal à\n",
    "!=    # inégal à\n",
    ">     # supérieur à\n",
    "<     # inférieur à\n",
    ">=    # supérieur ou égal à\n",
    "<=    # inférieur ou égal à\n",
    "```\n",
    "\n",
    "Les tests rendent toujours un booléen : `True` ou `False`"
   ]
  },
  {
   "cell_type": "code",
   "execution_count": 31,
   "id": "1747b41b",
   "metadata": {},
   "outputs": [
    {
     "data": {
      "text/plain": [
       "False"
      ]
     },
     "execution_count": 31,
     "metadata": {},
     "output_type": "execute_result"
    }
   ],
   "source": [
    "# Exemple (ne pas modifier)\n",
    "2 + 2 == 5"
   ]
  },
  {
   "cell_type": "markdown",
   "id": "7c947b49",
   "metadata": {},
   "source": [
    "<b><font color='white' style='background-color:orange'>1.1.a</font></b> <font color='white' style='text-shadow: -1px 0 black, 0 1px black, 1px 0 black, 0 -1px black;'>C</font> Demandez à Python pour savoir si les égalités ou inégalité suivantes sont vraies :"
   ]
  },
  {
   "cell_type": "markdown",
   "id": "161b90a7",
   "metadata": {},
   "source": [
    "$3 \\times 5 = 5 + 17$"
   ]
  },
  {
   "cell_type": "code",
   "execution_count": 32,
   "id": "254f0915",
   "metadata": {},
   "outputs": [
    {
     "data": {
      "text/plain": [
       "False"
      ]
     },
     "execution_count": 32,
     "metadata": {},
     "output_type": "execute_result"
    }
   ],
   "source": [
    "3*5 == 5 + 17"
   ]
  },
  {
   "cell_type": "markdown",
   "id": "1db544fe",
   "metadata": {},
   "source": [
    "$24 + 8 \\times 2 + 2 \\neq 42$"
   ]
  },
  {
   "cell_type": "code",
   "execution_count": 33,
   "id": "14dc9a52",
   "metadata": {},
   "outputs": [
    {
     "data": {
      "text/plain": [
       "False"
      ]
     },
     "execution_count": 33,
     "metadata": {},
     "output_type": "execute_result"
    }
   ],
   "source": [
    "24 + 8*2 + 2 != 42"
   ]
  },
  {
   "cell_type": "markdown",
   "id": "b566e081",
   "metadata": {},
   "source": [
    "$\\frac{3 + 9}{24} > \\frac{2 + 7}{19}$"
   ]
  },
  {
   "cell_type": "code",
   "execution_count": 34,
   "id": "3669a104",
   "metadata": {},
   "outputs": [
    {
     "data": {
      "text/plain": [
       "True"
      ]
     },
     "execution_count": 34,
     "metadata": {},
     "output_type": "execute_result"
    }
   ],
   "source": [
    "(3+9)/24 > (2+7)/19"
   ]
  },
  {
   "cell_type": "markdown",
   "id": "8aa43f91",
   "metadata": {},
   "source": [
    "<b><font color='white' style='background-color:orange'>1.1.b</font></b> Testez si la longueur du fameux mot de Mary Poppins `'Supercalifragilisticexpialidocious'` est supérieure à celle de sa traduction française `'Supercalifragilisticexpidélilicieux'`."
   ]
  },
  {
   "cell_type": "code",
   "execution_count": 35,
   "id": "b6dc114a",
   "metadata": {},
   "outputs": [
    {
     "data": {
      "text/plain": [
       "False"
      ]
     },
     "execution_count": 35,
     "metadata": {},
     "output_type": "execute_result"
    }
   ],
   "source": [
    "len('Supercalifragilisticexpialidocious') > len('Supercalifragilisticexpidélilicieux')"
   ]
  },
  {
   "cell_type": "markdown",
   "id": "8b21da50",
   "metadata": {},
   "source": [
    "<b><font color='white' style='background-color:orange'>1.1.c</font></b> Testez s'il est vrai que `4` et `4.0` sont égaux. Est-ce que `'Batman'` et `'batman'` le sont?"
   ]
  },
  {
   "cell_type": "code",
   "execution_count": 36,
   "id": "d8313d30",
   "metadata": {},
   "outputs": [
    {
     "data": {
      "text/plain": [
       "True"
      ]
     },
     "execution_count": 36,
     "metadata": {},
     "output_type": "execute_result"
    }
   ],
   "source": [
    "4 == 4.0"
   ]
  },
  {
   "cell_type": "markdown",
   "id": "fe4e5f0b",
   "metadata": {},
   "source": [
    "<b><font color='white' style='background-color:green'>1.1.d</font></b> Un triangle de côtés `6`, `8` et `10` est-il rectangle? Testez-le avec une comparaison adéquate"
   ]
  },
  {
   "cell_type": "code",
   "execution_count": 37,
   "id": "90f214d0",
   "metadata": {},
   "outputs": [
    {
     "data": {
      "text/plain": [
       "True"
      ]
     },
     "execution_count": 37,
     "metadata": {},
     "output_type": "execute_result"
    }
   ],
   "source": [
    "6**2 + 8**2 == 10**2"
   ]
  },
  {
   "cell_type": "markdown",
   "id": "f58aadb5",
   "metadata": {},
   "source": [
    "<b><font color='white' style='background-color:black'>Ex. 1.2</font> Flottants et précision</b><a class='anchor' id='flottants'></a><br>\n",
    "Python est toujours exact sur les entiers, quelle que soit la taille, même énorme (ce n'est pas le cas pour tous les langages !). Mais pour les flottants, ça change : aucun langage n'arrive à avoir précision infinie. On va voir ce que cela entraîne du côté pratique, et comment faire avec.<br> \n",
    "<b><font color='white' style='background-color:orange'>1.2.a</font></b> Exécutez les tests suivants :"
   ]
  },
  {
   "cell_type": "markdown",
   "id": "cdf51a68",
   "metadata": {},
   "source": [
    "$0.1 + 0.1 = 0.2$"
   ]
  },
  {
   "cell_type": "code",
   "execution_count": 38,
   "id": "dc17fdbb",
   "metadata": {},
   "outputs": [
    {
     "data": {
      "text/plain": [
       "True"
      ]
     },
     "execution_count": 38,
     "metadata": {},
     "output_type": "execute_result"
    }
   ],
   "source": [
    "0.1 + 0.1 == 0.2"
   ]
  },
  {
   "cell_type": "markdown",
   "id": "4db43d71",
   "metadata": {},
   "source": [
    "$0.1 + 0.1 + 0.1  = 0.3$"
   ]
  },
  {
   "cell_type": "code",
   "execution_count": 39,
   "id": "7092c298",
   "metadata": {},
   "outputs": [
    {
     "data": {
      "text/plain": [
       "False"
      ]
     },
     "execution_count": 39,
     "metadata": {},
     "output_type": "execute_result"
    }
   ],
   "source": [
    "0.1 + 0.1 + 0.1 == 0.3"
   ]
  },
  {
   "cell_type": "markdown",
   "id": "e31b5a00",
   "metadata": {},
   "source": [
    "$0.1 + 0.1 + 0.1 + 0.1 = 0.4$"
   ]
  },
  {
   "cell_type": "code",
   "execution_count": 40,
   "id": "13498105",
   "metadata": {},
   "outputs": [
    {
     "data": {
      "text/plain": [
       "True"
      ]
     },
     "execution_count": 40,
     "metadata": {},
     "output_type": "execute_result"
    }
   ],
   "source": [
    "0.1 + 0.1 + 0.1 + 0.1 == 0.4"
   ]
  },
  {
   "cell_type": "markdown",
   "id": "d737bb98",
   "metadata": {},
   "source": [
    "<b><font color='white' style='background-color:blue'>1.2.b</font></b> Savez-vous expliquer la raison du comportement vu dans l'exercice 4.2.a ?"
   ]
  },
  {
   "cell_type": "markdown",
   "id": "980cd08f",
   "metadata": {},
   "source": [
    "C'est à cause de la perte de précision de la machine. Les nombres décimaux sont mappés en des nombres binaires qui les rapprochent au mieux : `0.1` est en fait `0.100000000000000005`, `0.2` est `0.200000000000000010`, `0.3` est `0.299999999999999988`. Donc Python cache les vrais nombres, mais enfin dit la vérité : `0.1 + 0.1 == 0.100000000000000005 + 0.100000000000000005 == 0.200000000000000010 == 0.2` alors que `0.1 + 0.1 + 0.1 == 0.300000000000000015 != 0.299999999999999988 == 0.3`"
   ]
  },
  {
   "cell_type": "markdown",
   "id": "28c03902",
   "metadata": {},
   "source": [
    "<b><font color='white' style='background-color:orange'>1.2.c</font></b> Utilisez la <a href=\"https://docs.python.org/3/library/functions.html\">fonction prédéfinie standard</a> `round` pour arrondir un nombre à virgule. Comme d'habitude en mathématiques, la fonction devrait arrondir vers le bas si la partie décimale est $\\lt 0.5$, et vers le haut si la partie décimale est $\\ge 0.5$, avec la possible exception de $0.5$ qui s'arrondit à 0 pour des exigences mathématiques. Trouvez au moins un autre nombre avec partie décimale `.5` qui est arrondi vers le bas plutôt que vers le haut."
   ]
  },
  {
   "cell_type": "code",
   "execution_count": 41,
   "id": "a644b808",
   "metadata": {},
   "outputs": [
    {
     "data": {
      "text/plain": [
       "4"
      ]
     },
     "execution_count": 41,
     "metadata": {},
     "output_type": "execute_result"
    }
   ],
   "source": [
    "round(4.5)"
   ]
  },
  {
   "cell_type": "markdown",
   "id": "e4ab6b74",
   "metadata": {},
   "source": [
    "<b><font color='white' style='background-color:green'>1.2.d</font></b> Si on veut comparer deux flottants, il faut établir un seuil d'approximation. Créez du code qui prend deux flottants `x` et `y` et un seuil `h`, et calcule le résultat de ce test: $$|x - y| < h$$\n",
    "Utilisez votre code pour savoir si $0.1+0.1+0.1$ est égal à $0.3$ avec une précision de $10^{-10}$"
   ]
  },
  {
   "cell_type": "code",
   "execution_count": 44,
   "id": "b6e86c2b",
   "metadata": {},
   "outputs": [
    {
     "data": {
      "text/plain": [
       "True"
      ]
     },
     "execution_count": 44,
     "metadata": {},
     "output_type": "execute_result"
    }
   ],
   "source": [
    "x = 0.3\n",
    "y = 0.1 + 0.1 + 0.1\n",
    "h = 10**-10\n",
    "\n",
    "abs(x-y) < h"
   ]
  },
  {
   "cell_type": "markdown",
   "id": "45201be3",
   "metadata": {},
   "source": [
    "<h3>2. Booléens</h3><a class='anchor' id='booléens'></a>"
   ]
  },
  {
   "cell_type": "markdown",
   "id": "e22835c2",
   "metadata": {},
   "source": [
    "<b><font color='white' style='background-color:black'>Ex. 2.1</font> Opérations sur les booléens</b><a class='anchor' id='opérations'></a><br>\n",
    "Les booléens (`True` et `False`) ont une importance particulière parce que c'est le type de donnée le plus proche au fonctionnement d'un ordinateur. Du point de vue logique, il y a une arythmétique des booléens qui est de fondamentale importance pour pouvoir valider la vérité de n'importe quel type de proposition.<br>\n",
    "\n",
    "| a       | b       | `not` a | a `and` b | a `or` b | \n",
    "|---------|---------|---------|-----------|----------|\n",
    "| `True`  | `True`  | `False` | `True`    | `True`   |\n",
    "| `True`  | `False` | `False` | `False`   | `True`   |\n",
    "| `False` | `True`  | `True`  | `False`   | `True`   |\n",
    "| `False` | `False` | `True`  | `False`   | `False`  |\n",
    "\n",
    "Attention : Tout comme les opérations sur les nombres, les opérations sur les entiers aussi suivent des priorités ! `not` est exécuté en premier, puis `and`, puis `or`."
   ]
  },
  {
   "cell_type": "markdown",
   "id": "e015bb56",
   "metadata": {},
   "source": [
    "<b><font color='white' style='background-color:orange'>2.1.a</font></b> Commençons par évaluer l'expression logique correspondante à la phrase :\n",
    "\n",
    "\"C'est toujours comme ça : soit il pleut et j'ai pas de parapluie, ou je l'amène et il pleut pas !\"\n",
    "```python\n",
    "(il_pleut and (not parapluie)) or ((not il_pleut) and parapluie)\n",
    "```\n",
    "\n",
    "Définissez les variables booléennes `il_pleut` et `parapluie`, d'abord en leur assignant la valeur `True`. Ensuite, écrivez l'expression logique ci-dessus avec les variables `il_pleut` et `parapluie`. \n",
    "\n",
    "Une fois ce fait, évaluez la fonction pour toute combinaison de valeurs des variables `il_pleut` et `parapluie` (`True` et `True`, `True` et `False`, etc.).\n",
    "Pour quelles valeurs de ces deux variables l'expression est-elle vraie ? Pourquoi ? Expliquez dans la boîte de texte."
   ]
  },
  {
   "cell_type": "code",
   "execution_count": 2,
   "id": "8a7d71f5",
   "metadata": {},
   "outputs": [
    {
     "data": {
      "text/plain": [
       "False"
      ]
     },
     "execution_count": 2,
     "metadata": {},
     "output_type": "execute_result"
    }
   ],
   "source": [
    "il_pleut = True  # essaie avec False\n",
    "parapluie = True  # essaie avec False\n",
    "(il_pleut and (not parapluie)) or ((not il_pleut) and parapluie)"
   ]
  },
  {
   "cell_type": "markdown",
   "id": "7d2ba976",
   "metadata": {},
   "source": [
    "**L'expression est vraie quand les valeures matchent le sens de l'énoncé. Notamment, l'énoncé est un `xor` : on s'en rend compte aussi parce que les enstrées et sorties de l'expression reproduisent celles du tableau `xor`**"
   ]
  },
  {
   "cell_type": "markdown",
   "id": "3a88f979",
   "metadata": {},
   "source": [
    "<b><font color='white' style='background-color:orange'>2.1.b</font></b> Ecrivez à nouveau l'expression de `1.1.a` en enlevant toute parenthèse inutile. Puis testez pour toute combinaison de valeurs... maintenant, vous savez la bonne réponse !"
   ]
  },
  {
   "cell_type": "code",
   "execution_count": 5,
   "id": "a4e0da90",
   "metadata": {},
   "outputs": [
    {
     "data": {
      "text/plain": [
       "False"
      ]
     },
     "execution_count": 5,
     "metadata": {},
     "output_type": "execute_result"
    }
   ],
   "source": [
    "il_pleut = True  # test avec False\n",
    "parapluie = True  # test avec False\n",
    "il_pleut and not parapluie or not il_pleut and parapluie"
   ]
  },
  {
   "cell_type": "markdown",
   "id": "9b9716b5",
   "metadata": {},
   "source": [
    "<b><font color='white' style='background-color:orange'>2.1.c</font></b> Pour être enregistrés comme mariés à l'hôpital, il faut que vous ayez le même nom de famille. A défaut, il faut que vous ayez vos documents avec vous et l'attestation de mariage. Ecrivez l'expression logique correspondante à cette phrase en utilisant les variables en entrée `même_nom`, `documents`, `attestation`, et changez les valeurs booléennes pour tester les conditions suivantes:\n",
    "1. Vous n'avez pas le même nom et vous n'avez que votre document\n",
    "2. Vous avez le même nom et vous avez l'attestation et le document"
   ]
  },
  {
   "cell_type": "code",
   "execution_count": 4,
   "id": "f62ab57f",
   "metadata": {},
   "outputs": [
    {
     "data": {
      "text/plain": [
       "False"
      ]
     },
     "execution_count": 4,
     "metadata": {},
     "output_type": "execute_result"
    }
   ],
   "source": [
    "même_nom = False        # 2) True\n",
    "mon_document = True     # 2) True\n",
    "attestation = False     # 2) True\n",
    "même_nom or (mon_document and attestation)"
   ]
  },
  {
   "cell_type": "markdown",
   "id": "aac0a921",
   "metadata": {},
   "source": [
    "<b><font color='white' style='background-color:green'>2.1.d</font></b> A l'aide de deux variables `a` et `b`, écrivez une expression à laquelle on **ne peut pas** enlever toutes les parenthèses sans en changer la vérité. Dans la première boîte de code définissez les deux variables booléennes, dans la deuxième écrivez l'expression avec parenthèse,dans la troisième, celle sans. Ensuite, en changeant les valeurs des variables, testez le résultat des deux expressions"
   ]
  },
  {
   "cell_type": "code",
   "execution_count": 9,
   "id": "85d0ec83",
   "metadata": {},
   "outputs": [],
   "source": [
    "a = True\n",
    "b = False"
   ]
  },
  {
   "cell_type": "code",
   "execution_count": 10,
   "id": "dc1e93d5",
   "metadata": {},
   "outputs": [
    {
     "data": {
      "text/plain": [
       "False"
      ]
     },
     "execution_count": 10,
     "metadata": {},
     "output_type": "execute_result"
    }
   ],
   "source": [
    "a and (a or b) and b"
   ]
  },
  {
   "cell_type": "code",
   "execution_count": 11,
   "id": "422635be",
   "metadata": {},
   "outputs": [
    {
     "data": {
      "text/plain": [
       "True"
      ]
     },
     "execution_count": 11,
     "metadata": {},
     "output_type": "execute_result"
    }
   ],
   "source": [
    "a and a or b and b"
   ]
  },
  {
   "cell_type": "markdown",
   "id": "a7df8787",
   "metadata": {},
   "source": [
    "<b><font color='white' style='background-color:black'>Ex. 2.2</font> Tests avancés</b><a class='anchor' id='tests'></a><br>\n",
    "Le résultat de tout opérateur de comparaison est un booléen. Cela veut dire qu'on peut combiner opérateurs arythmétiques, comparaisons et opérateurs logiques:\n",
    "\n",
    "```python\n",
    "(1 + 3)*5 < 5 or 10 > 99\n",
    "```\n",
    "\n",
    "Attention toujours aux priorités ! Ici la liste presque complète des opérateurs, du plus prioritaire au moins:\n",
    "```python\n",
    "()                                            # Bien évidemment, les parenthèse ont la priorité sur tout !\n",
    "**                                            # Puissance\n",
    "-x                                            # Le \"négatif\", c'est à dire un moins devant un nombre\n",
    "*, /, //, %                                   # Le produit et ses inverses\n",
    "+, -                                          # La somme et son inverse\n",
    "==, !=, >, >=, <, <=, is, is not, in, not in  # Les comparaisons (dont on n'a vues qu'une partie)\n",
    "not                                           # négation logique\n",
    "and                                           # et logique\n",
    "or                                            # ou logique\n",
    "``` \n",
    "\n",
    "L'expression ci-dessus se résoude donc de cette façon :\n",
    "```python\n",
    "(1 + 3)*5 < 5 or 10 > 99\n",
    "4*5 < 5 or 10 > 99              # Parenthèses en premier, même s'il y a + dedans\n",
    "20 < 5 or 10 > 99               # Produit\n",
    "False or 10 > 99                # Comparaison\n",
    "False or False                  # Comparaison\n",
    "False                           # Ou logique\n",
    "```"
   ]
  },
  {
   "cell_type": "markdown",
   "id": "478a7505",
   "metadata": {},
   "source": [
    "<b><font color='white' style='background-color:orange'>2.2.a</font></b> Dans la boîte de texte, résoudez l'expression une opération à la fois, en respectant la priorité des opérateurs"
   ]
  },
  {
   "cell_type": "markdown",
   "id": "4d2b2398",
   "metadata": {},
   "source": [
    "```python\n",
    "not (5 < -7 or 14 + 4 > 3)\n",
    "```"
   ]
  },
  {
   "cell_type": "markdown",
   "id": "2c495ad7",
   "metadata": {},
   "source": [
    "```python\n",
    "not (5 < -7 or 14 + 4 > 3)\n",
    "not (5 < -7 or 18 > 3)\n",
    "not (False or 18 > 3)\n",
    "not (False or True)\n",
    "not True\n",
    "False\n",
    "```"
   ]
  },
  {
   "cell_type": "markdown",
   "id": "b291b07b",
   "metadata": {},
   "source": [
    "```python\n",
    "5**(9-7) - 56 < 13//4 or (not 15%5 == 3 and 8*9 != 7)\n",
    "```"
   ]
  },
  {
   "cell_type": "markdown",
   "id": "d38ba36d",
   "metadata": {},
   "source": [
    "```python\n",
    "5**2 - 56 < 13//4 or (not 15%5 == 3 and 8*9 != 7)\n",
    "5**2 - 56 < 13//4 or (not 0 == 3 and 8*9 != 7)\n",
    "5**2 - 56 < 13//4 or (not 0 == 3 and 72 != 7)\n",
    "5**2 - 56 < 13//4 or (not False and 72 != 7)\n",
    "5**2 - 56 < 13//4 or (not False and True)\n",
    "5**2 - 56 < 13//4 or (True and True)\n",
    "5**2 - 56 < 13//4 or True\n",
    "25 - 56 < 13//4 or True\n",
    "-31 < 13//4 or True\n",
    "-31 < 3 or True\n",
    "True or True\n",
    "True\n",
    "```"
   ]
  },
  {
   "cell_type": "markdown",
   "id": "c4176586",
   "metadata": {},
   "source": [
    "<b><font color='white' style='background-color:green'>2.2.b</font></b> \"Pour avoir une réduction au théâtre il faut soit avoir 12 ans ou moins, soit 65 ans ou plus, soit être étudiant\". Définissez un entier `âge` et un booléen `étudiant` et écrivez l'expression correspondante à la phrase. Testez ensuite votre fonction en changeant les valeurs"
   ]
  },
  {
   "cell_type": "code",
   "execution_count": 12,
   "id": "6e23efe2",
   "metadata": {},
   "outputs": [
    {
     "data": {
      "text/plain": [
       "True"
      ]
     },
     "execution_count": 12,
     "metadata": {},
     "output_type": "execute_result"
    }
   ],
   "source": [
    "âge = 20\n",
    "étudiant = True\n",
    "âge <= 12 or âge >= 65 or étudiant"
   ]
  },
  {
   "cell_type": "markdown",
   "id": "2c3b18dc",
   "metadata": {},
   "source": [
    "<b><font color='white' style='background-color:blue'>2.2.b-bis</font></b> Reprenons l'expression en `1.2.a`. Si `âge` contient 16 et `étudiant` contient `'Faux'`, quel est le résultat ? Essayez dans la  boîte de code. Quel comportement vous attendiez-vous ? Savez-vous expliquer pourquoi vous avez obtenu le résultat que vous voyez ?"
   ]
  },
  {
   "cell_type": "code",
   "execution_count": 13,
   "id": "3360cf92",
   "metadata": {},
   "outputs": [
    {
     "data": {
      "text/plain": [
       "'Faux'"
      ]
     },
     "execution_count": 13,
     "metadata": {},
     "output_type": "execute_result"
    }
   ],
   "source": [
    "âge = 20\n",
    "étudiant = 'Faux'\n",
    "âge <= 12 or âge >= 65 or étudiant"
   ]
  },
  {
   "cell_type": "markdown",
   "id": "d3dbb375",
   "metadata": {},
   "source": [
    "**Si votre expression se termine avec `or étudiant` : Python associe une valeur de vérité à chaque valeur, n'importe le type. Par exemple `0` et `''` se comportent comme s'ils étaient `False`, alors que tout autre nombre et chaîne se comportent comme `True`. Donc la chaîne `'Faux'` est évaluée comme `True`, et puisque c'est la dernière évaluation de l'expression, `'Faux'` est rendue comme resultat.**\n",
    "\n",
    "**Si votre expression se termine avec `or étudiant == True`, vous aurez une autre réponse : en effet, `'Faux' == True` donne `False`. Il est donc plus safe de toujours utiliser les comparaisons même si le résultat attendu est déjà un booléen**"
   ]
  },
  {
   "cell_type": "markdown",
   "id": "02412b99",
   "metadata": {},
   "source": [
    "<b><font color='white' style='background-color:green'>2.2.c</font></b> Reprénons encore l'exercice `2.2.b`. Il y a une autre façon d'exprimer la même phrase : \"Si votre âge est compris entre 12 et 65 (exclus !) et vous n'êtes pas étudiant, vous n'aurez pas de réduction sur le ticket\". Ecrivez cette expression, qui prend toujours un entier `âge` et un booléen `étudiant`, mais qui implémente cette nouvelle phrase. Testez-la: quelle différence remarquez-vous ? Savez-vous la justifier ? Expliquez dans la boîte de texte."
   ]
  },
  {
   "cell_type": "code",
   "execution_count": 14,
   "id": "069096a6",
   "metadata": {},
   "outputs": [
    {
     "data": {
      "text/plain": [
       "False"
      ]
     },
     "execution_count": 14,
     "metadata": {},
     "output_type": "execute_result"
    }
   ],
   "source": [
    "âge = 20\n",
    "étudiant = True\n",
    "12 < âge and âge < 65 and (not étudiant)"
   ]
  },
  {
   "cell_type": "markdown",
   "id": "22a449c1",
   "metadata": {},
   "source": [
    "**Les résultats sont complémentaires parce qu'une expression est le contraire de l'autre.**"
   ]
  },
  {
   "cell_type": "markdown",
   "id": "44827f70",
   "metadata": {},
   "source": [
    "<b><font color='white' style='background-color:green'>2.2.d</font></b> Résoudez l'expression une opération à la fois, en respectant la priorité des opérateurs. Mais... attention à l'évaluation paraisseuse !"
   ]
  },
  {
   "cell_type": "markdown",
   "id": "6d2b6bd4",
   "metadata": {},
   "source": [
    "```python\n",
    "(9**2 < 90 or 1 != 1) and 80//4 >= 8 and 44*3 + 12%5 and 9**100 < 8**104\n",
    "```"
   ]
  },
  {
   "cell_type": "markdown",
   "id": "20ead8dc",
   "metadata": {},
   "source": [
    "```python\n",
    "(9**2 > 90 or 1 != 1) and 80//4 >= 8 and 44*3 + 12%5 and 9**100 < 8**104\n",
    "(81 > 90 or 1 != 1) and 80//4 >= 8 and 44*3 + 12%5 and 9**100 < 8**104\n",
    "(False or 1 != 1) and 80//4 >= 8 and 44*3 + 12%5 and 9**100 < 8**104\n",
    "(False or False) and 80//4 >= 8 and 44*3 + 12%5 and 9**100 < 8**104\n",
    "False and 80//4 >= 8 and 44*3 + 12%5 and 9**100 < 8**104       \n",
    "False and 44*3 + 12%5 and 9**100 < 8**104\n",
    "False and 9**100 < 8**104\n",
    "False\n",
    "```"
   ]
  },
  {
   "cell_type": "markdown",
   "id": "f82ebc7f",
   "metadata": {},
   "source": [
    "<h3>3. Conditions</h3><a class='anchor' id='conditions'></a> \n",
    "\n",
    "<b><font color='white' style='background-color:black'>Ex. 3.1</font> if - elif - else</b><a class='anchor' id='syntaxe'></a><br> On peut utiliser une expression logique pour gérer le flux de travail d'un programme. On le fait avec la syntaxe conditionnelle :\n",
    "\n",
    "```python\n",
    "if condition:\n",
    "    # exécuté si condition est True\n",
    "elif autre_condition:\n",
    "    # exécuté si condition est False et autre_condition est True\n",
    "elif encore_une_autre_condition:\n",
    "    # exécuté si condition et autre_condition sont False et encore_une_autre_condition est True\n",
    "else:\n",
    "    # exécuté si toutes les conditions précédentes sont False\n",
    "```\n",
    "\n",
    "Exemple :\n",
    "```python\n",
    "from random import randint  # Commande pour charger la fonction randint\n",
    "\n",
    "dé = randint(1,6)      # On \"lance\" un dé à 6 faces\n",
    "if dé >= 5:\n",
    "    # exécuté si on a fait 5 ou 6\n",
    "    print(\"Bon resultat !\")\n",
    "elif dé >= 3:\n",
    "    # exécuté si on a fait 3 ou 4\n",
    "    # (parce que si on avait fait 5 ou 6, on aurait exécuté le morceau précédent !\n",
    "    print(\"Pas ouf\")\n",
    "else:\n",
    "    # exécuté si on a fait 1 ou 2\n",
    "    print(\"Mince\")\n",
    "```\n",
    "\n",
    "Seulement le bloc du `if` est nécessaire : les autres parties sont optionnelles, on le verra dans la suite."
   ]
  },
  {
   "cell_type": "markdown",
   "id": "852dc8b8",
   "metadata": {},
   "source": [
    "<b><font color='white' style='background-color:orange'>3.1.a</font></b> Écrire du code qui lit un entier `n` et affiche s’il est pair ou impair."
   ]
  },
  {
   "cell_type": "code",
   "execution_count": 47,
   "id": "8832e5eb",
   "metadata": {},
   "outputs": [
    {
     "name": "stdout",
     "output_type": "stream",
     "text": [
      "10 est pair\n"
     ]
    }
   ],
   "source": [
    "n = 10\n",
    "\n",
    "if n%2 == 0:\n",
    "    print(n, \"est pair\")\n",
    "else:\n",
    "    print(n, \"est impair\")"
   ]
  },
  {
   "cell_type": "markdown",
   "id": "00369eb9",
   "metadata": {},
   "source": [
    "<b><font color='white' style='background-color:orange'>3.1.b</font></b> Écrire du code qui lit un entier `n` et affiche s’il est positif, négatif ou nul"
   ]
  },
  {
   "cell_type": "code",
   "execution_count": 49,
   "id": "abd13e44",
   "metadata": {},
   "outputs": [
    {
     "name": "stdout",
     "output_type": "stream",
     "text": [
      "10 est positif\n"
     ]
    }
   ],
   "source": [
    "n = 10\n",
    "\n",
    "if n == 0:\n",
    "    print(n, \"est nul\")\n",
    "elif n > 0 :\n",
    "    print(n, \"est positif\")\n",
    "else:\n",
    "    print(n, \"est négatif\")"
   ]
  },
  {
   "cell_type": "markdown",
   "id": "74ac60d6",
   "metadata": {},
   "source": [
    "<b><font color='white' style='background-color:orange'>3.1.c</font></b> Écrire du code qui lit deux nombres `x` et `y` et affiche le plus grand"
   ]
  },
  {
   "cell_type": "code",
   "execution_count": 50,
   "id": "3aad161f",
   "metadata": {},
   "outputs": [
    {
     "name": "stdout",
     "output_type": "stream",
     "text": [
      "10.9\n"
     ]
    }
   ],
   "source": [
    "x = 10.9\n",
    "y = -4.5\n",
    "\n",
    "if x > y:\n",
    "    print(x)\n",
    "else:\n",
    "    print(y)"
   ]
  },
  {
   "cell_type": "markdown",
   "id": "2680c985",
   "metadata": {},
   "source": [
    "<b><font color='white' style='background-color:orange'>3.1.d</font></b> Ecrire du code qui vérifie si un entier `n` est divisible par 3, par 5, par les deux, ou par aucun."
   ]
  },
  {
   "cell_type": "code",
   "execution_count": 51,
   "id": "e6b71730",
   "metadata": {},
   "outputs": [
    {
     "name": "stdout",
     "output_type": "stream",
     "text": [
      "13 n'est divisible ni par 3 ni par 5\n"
     ]
    }
   ],
   "source": [
    "n = 13\n",
    "\n",
    "if n%3 == 0 and n%5 == 0:\n",
    "    print(n, \"est divisible par 3 et par 5\")\n",
    "elif n%3 == 0 and n%5 != 0:\n",
    "    print(n, \"est divisible par 3\")\n",
    "elif n%3 == 0 and n%5 != 0:\n",
    "    print(n, \"est divisible par 5\")\n",
    "else:\n",
    "    print(n, \"n'est divisible ni par 3 ni par 5\")"
   ]
  },
  {
   "cell_type": "markdown",
   "id": "85ae39b1",
   "metadata": {},
   "source": [
    "<b><font color='white' style='background-color:orange'>3.1.e</font></b> Ecrivez du code qui demande à l’utilisateur un mot de passe et vérifie s’il correspond à `\"python123\"`.  "
   ]
  },
  {
   "cell_type": "code",
   "execution_count": 53,
   "id": "54dd1a14",
   "metadata": {},
   "outputs": [
    {
     "name": "stdout",
     "output_type": "stream",
     "text": [
      "Entrez votre mot de passe :ciao\n",
      "mot de passe incorrect :(\n"
     ]
    }
   ],
   "source": [
    "mdp = input(\"Entrez votre mot de passe :\")\n",
    "\n",
    "if mdp == \"python123\":\n",
    "    print(\"mot de passe correct !\")\n",
    "else:\n",
    "    print(\"mot de passe incorrect :(\")"
   ]
  },
  {
   "cell_type": "markdown",
   "id": "85fe6a56",
   "metadata": {},
   "source": [
    "<b><font color='white' style='background-color:orange'>3.1.f</font></b> Ecrivez du code qui prend deux nombres et une opération (`\"+\"`, `\"-\"`, `\"*\"`, `\"/\"`), et affiche le résultat de l'opération demandée."
   ]
  },
  {
   "cell_type": "code",
   "execution_count": 56,
   "id": "777f8269",
   "metadata": {},
   "outputs": [
    {
     "name": "stdout",
     "output_type": "stream",
     "text": [
      "0.5\n"
     ]
    }
   ],
   "source": [
    "a = 10\n",
    "b = 20\n",
    "op = \"/\"\n",
    "\n",
    "if op == \"+\":\n",
    "    print(a + b)\n",
    "elif op == \"-\":\n",
    "    print(a - b)\n",
    "elif op == \"*\":\n",
    "    print(a * b)\n",
    "elif op == \"/\":\n",
    "    print(a / b)\n",
    "else:\n",
    "    print(\"Opération non valide\")"
   ]
  },
  {
   "cell_type": "markdown",
   "id": "79403377",
   "metadata": {},
   "source": [
    "<b><font color='white' style='background-color:orange'>3.1.g</font></b> Écrire du code qui vérifie si une année est bissextile.  \n",
    "Une année est bissextile si :  \n",
    "- divisible par 4 et pas par 100, ou  \n",
    "- divisible par 400."
   ]
  },
  {
   "cell_type": "code",
   "execution_count": 59,
   "id": "af19efb7",
   "metadata": {},
   "outputs": [
    {
     "name": "stdout",
     "output_type": "stream",
     "text": [
      "L'année 2000 est bissextile\n"
     ]
    }
   ],
   "source": [
    "année = 2000\n",
    "\n",
    "if (année%4 == 0 and année%100 != 100) or (année%400 == 0):\n",
    "    print(\"L'année\", année, \"est bissextile\")\n",
    "else:\n",
    "    print(\"L'année\", année, \"n'est pas bissextile\")"
   ]
  },
  {
   "cell_type": "markdown",
   "id": "c8eb935e",
   "metadata": {},
   "source": [
    "<b><font color='white' style='background-color:black'>Ex. 3.2</font>Conditions imbriquées</b><a class='anchor' id='imbriquées'></a><br>\n",
    "<b><font color='white' style='background-color:green'>3.2.a</font></b> Lire un nombre et afficher :  \n",
    "- \"positif pair\",  \n",
    "- \"positif impair\",  \n",
    "- \"négatif pair\",  \n",
    "- \"négatif impair\",  \n",
    "- ou \"zéro\"."
   ]
  },
  {
   "cell_type": "code",
   "execution_count": 60,
   "id": "35b633bf",
   "metadata": {},
   "outputs": [
    {
     "name": "stdout",
     "output_type": "stream",
     "text": [
      "positif pair\n"
     ]
    }
   ],
   "source": [
    "n = 10\n",
    "\n",
    "if n == 0:\n",
    "    print(\"zéro\")\n",
    "else:\n",
    "    if n > 0:\n",
    "        if n%2 == 0:\n",
    "            print(\"positif pair\")\n",
    "        else:\n",
    "            print(\"positif impair\")\n",
    "    else:\n",
    "        if n%2 == 0:\n",
    "            print(\"négatif pair\")\n",
    "        else:\n",
    "            print(\"négatif impair\")"
   ]
  },
  {
   "cell_type": "markdown",
   "id": "e99877ce",
   "metadata": {},
   "source": [
    "<b><font color='white' style='background-color:green'>3.2.a</font></b> Ecrire `3.2.a` sans utiliser des conditions imbriquées"
   ]
  },
  {
   "cell_type": "code",
   "execution_count": 62,
   "id": "0064a6ba",
   "metadata": {},
   "outputs": [
    {
     "name": "stdout",
     "output_type": "stream",
     "text": [
      "positif pair\n"
     ]
    }
   ],
   "source": [
    "n = 10\n",
    "\n",
    "if n == 0:\n",
    "    print(\"zéro\")\n",
    "if n > 0:\n",
    "    print(\"positif\", end=\" \")\n",
    "else:\n",
    "    print(\"négatif\", end=\" \")\n",
    "if n!=0 and n%2 == 0:\n",
    "    print(\"pair\")\n",
    "else:\n",
    "    print(\"impair\")"
   ]
  },
  {
   "cell_type": "markdown",
   "id": "23813038",
   "metadata": {},
   "source": [
    "<b><font color='white' style='background-color:blue'>3.2.b</font></b> Ecrivez du code qui prend trois entiers `a`, `b`, `c` en entrée et les affiche, en les triant en ordre décroissant. Testez avec plusieurs combinaisons de valeurs."
   ]
  },
  {
   "cell_type": "code",
   "execution_count": 17,
   "id": "7cb12677",
   "metadata": {},
   "outputs": [
    {
     "name": "stdout",
     "output_type": "stream",
     "text": [
      "30 20 10\n"
     ]
    }
   ],
   "source": [
    "a = 10\n",
    "b = 30\n",
    "c = 20\n",
    "if a >= b and a >= c:\n",
    "    if b >= c:\n",
    "        print(a, b, c)\n",
    "    else:\n",
    "        print(a, c, b)\n",
    "elif b >= a and b >= c:\n",
    "    if a >= c:\n",
    "        print(b, a, c)\n",
    "    else:\n",
    "        print(b, c, a)\n",
    "else:\n",
    "    if a >= b:\n",
    "        print(c, a, b)\n",
    "    else:\n",
    "        print(c, b, a)"
   ]
  }
 ],
 "metadata": {
  "kernelspec": {
   "display_name": "Python 3 (ipykernel)",
   "language": "python",
   "name": "python3"
  },
  "language_info": {
   "codemirror_mode": {
    "name": "ipython",
    "version": 3
   },
   "file_extension": ".py",
   "mimetype": "text/x-python",
   "name": "python",
   "nbconvert_exporter": "python",
   "pygments_lexer": "ipython3",
   "version": "3.10.9"
  }
 },
 "nbformat": 4,
 "nbformat_minor": 5
}
