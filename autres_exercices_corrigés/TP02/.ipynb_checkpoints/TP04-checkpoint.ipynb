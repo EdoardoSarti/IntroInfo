{
 "cells": [
  {
   "cell_type": "markdown",
   "metadata": {
    "deletable": false,
    "editable": false
   },
   "source": [
    "<h1><center>L2 SV — Introduction à l'Informatique — TP 4</center></h1>"
   ]
  },
  {
   "cell_type": "markdown",
   "metadata": {
    "deletable": false,
    "editable": false
   },
   "source": [
    "# 0. Un calcul sur plusieurs lignes"
   ]
  },
  {
   "cell_type": "markdown",
   "metadata": {
    "deletable": false,
    "editable": false
   },
   "source": [
    "On peut découper un long calcul sur plusieurs lignes. Par exemple, plutôt que d'écrire"
   ]
  },
  {
   "cell_type": "code",
   "execution_count": null,
   "metadata": {},
   "outputs": [],
   "source": [
    "234504004 + 234504005 + 234504006 + 234504007 + 234504008 + 234504009"
   ]
  },
  {
   "cell_type": "markdown",
   "metadata": {
    "deletable": false,
    "editable": false
   },
   "source": [
    "on peut utiliser la barre oblique inversée (*backslash* `\\`), retourner à la ligne, puis continuer le calcul :"
   ]
  },
  {
   "cell_type": "code",
   "execution_count": null,
   "metadata": {},
   "outputs": [],
   "source": [
    "234504004 + 234504005 + 234504006 + \\\n",
    "234504007 + 234504008 + 234504009"
   ]
  },
  {
   "cell_type": "markdown",
   "metadata": {
    "deletable": false,
    "editable": false
   },
   "source": [
    "# 1. Tests et validation de code"
   ]
  },
  {
   "cell_type": "markdown",
   "metadata": {
    "deletable": false,
    "editable": false
   },
   "source": [
    "Il est bon d'écrire du code aussi générique que possible, pour le rendre réutilisable.\n",
    "\n",
    "Par exemple, disons qu'on va être amené à réutiliser du code pour dire « Bonjour » à des personnes différentes, on peut définir à l'avance une variable `prénom` (exécutez la boîte suivante)."
   ]
  },
  {
   "cell_type": "code",
   "execution_count": null,
   "metadata": {},
   "outputs": [],
   "source": [
    "prénom = 'Bruno'"
   ]
  },
  {
   "cell_type": "markdown",
   "metadata": {
    "deletable": false,
    "editable": false
   },
   "source": [
    "1) Écrivez alors du code qui permet d'afficher `Bonjour prénom` où `prénom` est remplacé par sa valeur.\n",
    "\n",
    "Avec la valeur ci-dessus, vous devriez afficher\n",
    "```\n",
    "Bonjour Bruno\n",
    "```"
   ]
  },
  {
   "cell_type": "code",
   "execution_count": null,
   "metadata": {},
   "outputs": [],
   "source": [
    "# à vous de jouer"
   ]
  },
  {
   "cell_type": "markdown",
   "metadata": {
    "deletable": false,
    "editable": false
   },
   "source": [
    "Pour vérifier que votre code est correct, vous pouvez modifier la valeur de `prénom` dans la boîte au-dessus, exécuter les deux boîtes et observer que cela fonctionne."
   ]
  },
  {
   "cell_type": "markdown",
   "metadata": {
    "deletable": false,
    "editable": false
   },
   "source": [
    "Mais vous pouvez aussi utiliser une vérification automatique pour cette fonction."
   ]
  },
  {
   "cell_type": "markdown",
   "metadata": {
    "deletable": false,
    "editable": false
   },
   "source": [
    "Allez sur la page suivante pour recopier votre code et le tester : [https://lms.univ-cotedazur.fr/mod/quiz/view.php?id=274182](https://lms.univ-cotedazur.fr/mod/quiz/view.php?id=274182)."
   ]
  },
  {
   "cell_type": "markdown",
   "metadata": {
    "deletable": false,
    "editable": false
   },
   "source": [
    "2) Autre exemple : on veut écrire du code similaire, mais \n",
    "* si `prénom` termine par un `e`, on affiche `Bonsoir prénom` (en remplaçant `prénom` par sa valeur)\n",
    "* sinon, on affiche `Bonjour prénom` (en remplaçant `prénom` par sa valeur)\n",
    "\n",
    "La variable `prénom` doit déjà être définie plus haut, au besoin, exécutez à nouveau la boîte de code qui la définit.\n",
    "\n",
    "Écrivez votre code ci-dessous, puis copiez-le sur moodle pour tester que vous gérez bien tous les cas."
   ]
  },
  {
   "cell_type": "code",
   "execution_count": null,
   "metadata": {},
   "outputs": [],
   "source": [
    "# à vous de jouer"
   ]
  },
  {
   "cell_type": "markdown",
   "metadata": {
    "deletable": false,
    "editable": false
   },
   "source": [
    "Il faut être attentif à ce qu'il faut taper ! L'évaluateur de test de moodle est impitoyable : il veut obtenir ***exactement*** le format attendu. Supposons qu'on ait deux variables `m` et `n` définies (exécutez la boîte suivante)."
   ]
  },
  {
   "cell_type": "code",
   "execution_count": null,
   "metadata": {},
   "outputs": [],
   "source": [
    "m = 2\n",
    "n = 3"
   ]
  },
  {
   "cell_type": "markdown",
   "metadata": {
    "deletable": false,
    "editable": false
   },
   "source": [
    "3) Écrivez du code pour calculer $m^n$ en expliquant le calcul. Pour les variables `m` et `n` telles qu'elles sont définies, comme $2^3 = 8$, l'affichage produit doit être\n",
    "```\n",
    "2 élevé à l'exposant 3 vaut 8\n",
    "```\n",
    "Votre code doit fonctionner même si on change les valeurs de `m` et `n`."
   ]
  },
  {
   "cell_type": "code",
   "execution_count": null,
   "metadata": {},
   "outputs": [],
   "source": [
    "# à vous de jouer"
   ]
  },
  {
   "cell_type": "markdown",
   "metadata": {
    "deletable": false,
    "editable": false
   },
   "source": [
    "Recopiez le code ci-dessus sur moodle pour le tester."
   ]
  },
  {
   "cell_type": "markdown",
   "metadata": {
    "deletable": false,
    "editable": false
   },
   "source": [
    "# 2. Concaténation de chaînes de caractères"
   ]
  },
  {
   "cell_type": "markdown",
   "metadata": {
    "deletable": false,
    "editable": false
   },
   "source": [
    "Le fait d'écrire bout à bout deux chaînes de caractères s'appelle la ***concaténation***.\n",
    "\n",
    "En python, on utilise l'opérateur `+` pour concaténer deux chaînes.\n",
    "\n",
    "Exécutez la boîte ci-dessous pour observer son effet."
   ]
  },
  {
   "cell_type": "code",
   "execution_count": null,
   "metadata": {},
   "outputs": [],
   "source": [
    "'Bonjour' + ' à toutes' + ' et à tous !'"
   ]
  },
  {
   "cell_type": "markdown",
   "metadata": {
    "deletable": false,
    "editable": false
   },
   "source": [
    "4) Expliquez pourquoi les deux boîtes de code suivantes ne produisent pas le même affichage."
   ]
  },
  {
   "cell_type": "code",
   "execution_count": null,
   "metadata": {},
   "outputs": [],
   "source": [
    "print('Bonjour', 'à toutes', 'et à tous !')"
   ]
  },
  {
   "cell_type": "code",
   "execution_count": null,
   "metadata": {},
   "outputs": [],
   "source": [
    "print('Bonjour' + 'à toutes' + 'et à tous !')"
   ]
  },
  {
   "cell_type": "markdown",
   "metadata": {},
   "source": [
    "**Votre réponse ici**"
   ]
  },
  {
   "cell_type": "markdown",
   "metadata": {
    "deletable": false,
    "editable": false
   },
   "source": [
    "5) Quel caractère spécial permet-il d'effectuer un retour à la ligne ?"
   ]
  },
  {
   "cell_type": "markdown",
   "metadata": {},
   "source": [
    "**Votre réponse ici**"
   ]
  },
  {
   "cell_type": "markdown",
   "metadata": {
    "deletable": false,
    "editable": false
   },
   "source": [
    "6) Complétez le code pour produire l'affichage suivant ***avec une seule instruction `print(...)`*** (vous pouvez uniquement compléter la valeur de `s`, pas la ligne `print(s)`).\n",
    "```\n",
    "Ô rage ! ô désespoir ! ô viellesse ennemie !\n",
    "N'ai-je donc tant vécu que pour cette infamie ?\n",
    "Et ne suis-je blanchi dans les travaux guerriers\n",
    "Que pour voir en un jour flétrir tant de lauriers ?\n",
    "```"
   ]
  },
  {
   "cell_type": "code",
   "execution_count": null,
   "metadata": {},
   "outputs": [],
   "source": [
    "s = # à compléter\n",
    "print(s)"
   ]
  },
  {
   "cell_type": "markdown",
   "metadata": {
    "deletable": false,
    "editable": false
   },
   "source": [
    "7) Évitez les répétitions : en utilisant des variables et des concaténations, écrivez du code pour produire l'affichage suivant\n",
    "```\n",
    "Peut-on illuminer un ciel bourbeux et noir ?\n",
    "Peut-on déchirer des ténèbres\n",
    "Plus denses que la poix, sans matin et sans soir\n",
    "Sans astres, sans éclairs funèbres ?\n",
    "Peut-on illuminer un ciel bourbeux et noir ?\n",
    "```\n",
    "avec les contraintes suivantes :\n",
    "* Utilisez une seule fois `print(...)`,\n",
    "* Un mot répété ne peut être tapé qu'une seule fois (`Sans` et `sans` sont considérés comme différents)."
   ]
  },
  {
   "cell_type": "code",
   "execution_count": null,
   "metadata": {},
   "outputs": [],
   "source": [
    "# à vous de jouer"
   ]
  },
  {
   "cell_type": "markdown",
   "metadata": {
    "deletable": false,
    "editable": false
   },
   "source": [
    "### Plus de répétitions"
   ]
  },
  {
   "cell_type": "markdown",
   "metadata": {
    "deletable": false,
    "editable": false
   },
   "source": [
    "Rappel : plutôt que d'écrire\n",
    "```python\n",
    "'Oui ' + 'Oui ' + 'Oui '\n",
    "```\n",
    "on peut écrire\n",
    "```python\n",
    "3 * 'Oui '\n",
    "```"
   ]
  },
  {
   "cell_type": "markdown",
   "metadata": {
    "deletable": false,
    "editable": false
   },
   "source": [
    "8) Écrire du code pour afficher\n",
    "```\n",
    "Bonjour ! Bonjour ! Bonjour ! Bonjour ! Bonjour ! \n",
    "```\n",
    "* sans boucle `for`,\n",
    "* avec un seul `print`,\n",
    "* en tapant une seule fois `Bonjour !`."
   ]
  },
  {
   "cell_type": "code",
   "execution_count": null,
   "metadata": {},
   "outputs": [],
   "source": [
    "# à vous de jouer"
   ]
  },
  {
   "cell_type": "markdown",
   "metadata": {
    "deletable": false,
    "editable": false
   },
   "source": [
    "9) a) Écrire du code pour produire l'affichage suivant (c'est possible en deux lignes de code, vous pouvez utiliser une boucle `for`).\n",
    "```\n",
    "Oui ! \n",
    "Oui ! Oui ! \n",
    "Oui ! Oui ! Oui ! \n",
    "Oui ! Oui ! Oui ! Oui ! \n",
    "Oui ! Oui ! Oui ! Oui ! Oui ! \n",
    "Oui ! Oui ! Oui ! Oui ! Oui ! Oui ! \n",
    "Oui ! Oui ! Oui ! Oui ! Oui ! Oui ! Oui ! \n",
    "Oui ! Oui ! Oui ! Oui ! Oui ! Oui ! Oui ! Oui ! \n",
    "Oui ! Oui ! Oui ! Oui ! Oui ! Oui ! Oui ! Oui ! Oui ! \n",
    "```"
   ]
  },
  {
   "cell_type": "code",
   "execution_count": null,
   "metadata": {},
   "outputs": [],
   "source": [
    "# à vous de jouer"
   ]
  },
  {
   "cell_type": "markdown",
   "metadata": {
    "deletable": false,
    "editable": false
   },
   "source": [
    "9) b) Modifiez votre code pour qu'il dépende d'une variable `n` qui dit combien de lignes on veut afficher. Par exemple, pour `n = 9`, votre code doit afficher\n",
    "```\n",
    "Oui ! \n",
    "Oui ! Oui ! \n",
    "Oui ! Oui ! Oui ! \n",
    "Oui ! Oui ! Oui ! Oui ! \n",
    "Oui ! Oui ! Oui ! Oui ! Oui ! \n",
    "Oui ! Oui ! Oui ! Oui ! Oui ! Oui ! \n",
    "Oui ! Oui ! Oui ! Oui ! Oui ! Oui ! Oui ! \n",
    "Oui ! Oui ! Oui ! Oui ! Oui ! Oui ! Oui ! Oui ! \n",
    "Oui ! Oui ! Oui ! Oui ! Oui ! Oui ! Oui ! Oui ! Oui ! \n",
    "```"
   ]
  },
  {
   "cell_type": "code",
   "execution_count": null,
   "metadata": {},
   "outputs": [],
   "source": [
    "n = 9 \n",
    "# votre code doit fonctionner même si on modifier la valeur de n\n",
    "# à vous de jouer"
   ]
  },
  {
   "cell_type": "markdown",
   "metadata": {
    "deletable": false,
    "editable": false
   },
   "source": [
    "9) c) Validez votre code sur moodle. **Ne recopiez pas la partie où on change la valeur de `n`.**"
   ]
  },
  {
   "cell_type": "markdown",
   "metadata": {
    "deletable": false,
    "editable": false
   },
   "source": [
    "10) a) Écrire du code pour produire l'affichage suivant.\n",
    "```\n",
    "Non ! \n",
    "Oui ! Oui ! \n",
    "Non ! Non ! Non ! \n",
    "Oui ! Oui ! Oui ! Oui ! \n",
    "Non ! Non ! Non ! Non ! Non ! \n",
    "Oui ! Oui ! Oui ! Oui ! Oui ! Oui ! \n",
    "Non ! Non ! Non ! Non ! Non ! Non ! Non ! \n",
    "Oui ! Oui ! Oui ! Oui ! Oui ! Oui ! Oui ! Oui ! \n",
    "Non ! Non ! Non ! Non ! Non ! Non ! Non ! Non ! Non ! \n",
    "Oui ! Oui ! Oui ! Oui ! Oui ! Oui ! Oui ! Oui ! Oui ! Oui !  \n",
    "```"
   ]
  },
  {
   "cell_type": "code",
   "execution_count": null,
   "metadata": {},
   "outputs": [],
   "source": [
    "# à vous de jouer"
   ]
  },
  {
   "cell_type": "markdown",
   "metadata": {
    "deletable": false,
    "editable": false
   },
   "source": [
    "10) b) Modifiez votre code pour qu'il dépende d'une variable `n` qui dit combien de lignes on veut afficher. \n",
    "\n",
    "Par exemple, pour `n = 10`, votre code doit afficher\n",
    "```\n",
    "Non ! \n",
    "Oui ! Oui ! \n",
    "Non ! Non ! Non ! \n",
    "Oui ! Oui ! Oui ! Oui ! \n",
    "Non ! Non ! Non ! Non ! Non ! \n",
    "Oui ! Oui ! Oui ! Oui ! Oui ! Oui ! \n",
    "Non ! Non ! Non ! Non ! Non ! Non ! Non ! \n",
    "Oui ! Oui ! Oui ! Oui ! Oui ! Oui ! Oui ! Oui ! \n",
    "Non ! Non ! Non ! Non ! Non ! Non ! Non ! Non ! Non ! \n",
    "Oui ! Oui ! Oui ! Oui ! Oui ! Oui ! Oui ! Oui ! Oui ! Oui !\n",
    "```\n",
    "Votre code doit fonctionner même si on modifie la valeur de `n`."
   ]
  },
  {
   "cell_type": "code",
   "execution_count": null,
   "metadata": {},
   "outputs": [],
   "source": [
    "n = 10\n",
    "# à vous de jouer"
   ]
  },
  {
   "cell_type": "markdown",
   "metadata": {},
   "source": [
    "10) c) Validez votre code sur moodle."
   ]
  },
  {
   "cell_type": "markdown",
   "metadata": {
    "deletable": false,
    "editable": false
   },
   "source": [
    "# 3. Extraction de chaînes de caractères"
   ]
  },
  {
   "cell_type": "markdown",
   "metadata": {
    "deletable": false,
    "editable": false
   },
   "source": [
    "### Rappels : extraction et longueur"
   ]
  },
  {
   "cell_type": "markdown",
   "metadata": {
    "deletable": false,
    "editable": false
   },
   "source": [
    "Les positions des lettres sont numérotées à partir de 0. Par exemple, pour la chaîne `'Bonjour !'`,"
   ]
  },
  {
   "cell_type": "markdown",
   "metadata": {
    "deletable": false,
    "editable": false
   },
   "source": [
    "| position      | 0 | 1  | 2 | 3 | 4 | 5 | 6 | 7 | 8 |\n",
    "| ------------- |:-:| :-:|:-:|:-:|:-:|:-:|:-:|:-:|:-:|\n",
    "| **caractère**    |`'B'`| `'o'`|`'n'`|`'j'`|`'o'`|`'u'`|`'r'`|`' '`|`'!'`|"
   ]
  },
  {
   "cell_type": "markdown",
   "metadata": {
    "deletable": false,
    "editable": false
   },
   "source": [
    "On appelle aussi les positions des ***indices***. Ainsi, le caractère d'indice 2 de `'Bonjour !'` est `'n'`.\n",
    "\n",
    "L'extraction d'un caractère se fait avec les crochets. Exécutez les boîtes suivantes pour observer leur effet."
   ]
  },
  {
   "cell_type": "code",
   "execution_count": null,
   "metadata": {},
   "outputs": [],
   "source": [
    "s = 'Bonjour !'"
   ]
  },
  {
   "cell_type": "code",
   "execution_count": null,
   "metadata": {},
   "outputs": [],
   "source": [
    "s[0]"
   ]
  },
  {
   "cell_type": "code",
   "execution_count": null,
   "metadata": {},
   "outputs": [],
   "source": [
    "s[3]"
   ]
  },
  {
   "cell_type": "markdown",
   "metadata": {
    "deletable": false,
    "editable": false
   },
   "source": [
    "11) a) Comment faites-vous pour extraire le dernière caractère de `s` ?"
   ]
  },
  {
   "cell_type": "code",
   "execution_count": null,
   "metadata": {},
   "outputs": [],
   "source": [
    "# à vous de jouer"
   ]
  },
  {
   "cell_type": "markdown",
   "metadata": {
    "deletable": false,
    "editable": false
   },
   "source": [
    "La fonction `len(...)` permet d'obtenir la longueur d'une chaîne de caractères."
   ]
  },
  {
   "cell_type": "code",
   "execution_count": null,
   "metadata": {},
   "outputs": [],
   "source": [
    "len(s)"
   ]
  },
  {
   "cell_type": "markdown",
   "metadata": {
    "deletable": false,
    "editable": false
   },
   "source": [
    "11) b) Écrivez du code pour obtenir le dernier caractère de `s`. Contrainte supplémentaire : votre code doit encore fonctionner même si on change `s`."
   ]
  },
  {
   "cell_type": "code",
   "execution_count": null,
   "metadata": {},
   "outputs": [],
   "source": [
    "s = 'Bonjour !'\n",
    "# votre code doit fonctionner même si vous changez s, par exemple\n",
    "# s = 'Et au revoir !'\n",
    "\n",
    "# à vous de jouer\n"
   ]
  },
  {
   "cell_type": "markdown",
   "metadata": {
    "deletable": false,
    "editable": false
   },
   "source": [
    "12) Quelle est la chaîne la plus longue entre `s1` et `s2` pour\n",
    "```\n",
    "s1 = 'azertyuiop'\n",
    "s2 = 'a\\n\\'\\nmel\\\\3'\n",
    "```"
   ]
  },
  {
   "cell_type": "markdown",
   "metadata": {},
   "source": [
    "**Votre réponse ici, vous pouvez utiliser la boîte de code ci-dessous.**"
   ]
  },
  {
   "cell_type": "code",
   "execution_count": null,
   "metadata": {},
   "outputs": [],
   "source": []
  },
  {
   "cell_type": "markdown",
   "metadata": {
    "deletable": false,
    "editable": false
   },
   "source": [
    "# 4. Parcours de chaînes de caractères"
   ]
  },
  {
   "cell_type": "markdown",
   "metadata": {
    "deletable": false,
    "editable": false
   },
   "source": [
    "13) a) Affichez les caractères de la chaîne de caractères `s`, un caractère par ligne. Contrainte supplémentaire : votre code doit encore fonctionner même si on change `s`.\n",
    "\n",
    "Par exemple, pour `s = 'Bonjour !'`, vous devez afficher\n",
    "```\n",
    "B\n",
    "o\n",
    "n\n",
    "j\n",
    "o\n",
    "u\n",
    "r\n",
    " \n",
    "!\n",
    "```\n"
   ]
  },
  {
   "cell_type": "code",
   "execution_count": null,
   "metadata": {},
   "outputs": [],
   "source": [
    "s = 'Bonjour !'\n",
    "# votre code doit fonctionner même si vous changez s, par exemple\n",
    "# s = 'Et au revoir !'\n",
    "\n",
    "# à vous de jouer"
   ]
  },
  {
   "cell_type": "markdown",
   "metadata": {
    "deletable": false,
    "editable": false
   },
   "source": [
    "13) b) Affichez les indices, deux points, puis les caractères de la chaîne de caractères `s`, un caractère par ligne. Contrainte supplémentaire : votre code doit encore fonctionner même si on change `s`.\n",
    "\n",
    "Par exemple, pour `s = 'Bonjour !'`, vous devez afficher\n",
    "```\n",
    "0 : B\n",
    "1 : o\n",
    "2 : n\n",
    "3 : j\n",
    "4 : o\n",
    "5 : u\n",
    "6 : r\n",
    "7 :  \n",
    "8 : !\n",
    "```\n"
   ]
  },
  {
   "cell_type": "code",
   "execution_count": null,
   "metadata": {},
   "outputs": [],
   "source": [
    "s = 'Bonjour !'\n",
    "# votre code doit fonctionner même si vous changez s, par exemple\n",
    "# s = 'Et au revoir !'\n",
    "\n",
    "# à vous de jouer"
   ]
  },
  {
   "cell_type": "markdown",
   "metadata": {
    "deletable": false,
    "editable": false
   },
   "source": [
    "13) c) Validez votre code sur moodle."
   ]
  },
  {
   "cell_type": "markdown",
   "metadata": {
    "deletable": false,
    "editable": false
   },
   "source": [
    "13) d) Affichez les indices, deux points, puis les caractères de la chaîne de caractères `s`, un caractère par ligne, mais ***en partant de la fin***. Contrainte supplémentaire : votre code doit fonctionner si on change `s`.\n",
    "\n",
    "Par exemple, pour `s = 'Bonjour !'`, vous devez afficher\n",
    "```\n",
    "8 : !\n",
    "7 :  \n",
    "6 : r\n",
    "5 : u\n",
    "4 : o\n",
    "3 : j\n",
    "2 : n\n",
    "1 : o\n",
    "0 : B\n",
    "```"
   ]
  },
  {
   "cell_type": "code",
   "execution_count": null,
   "metadata": {},
   "outputs": [],
   "source": [
    "s = 'Bonjour !'\n",
    "# votre code doit fonctionner même si vous changez s, par exemple\n",
    "# s = 'Et au revoir !'\n",
    "\n",
    "# à vous de jouer\n"
   ]
  },
  {
   "cell_type": "markdown",
   "metadata": {
    "deletable": false,
    "editable": false
   },
   "source": [
    "13) e) Validez votre code sur moodle."
   ]
  },
  {
   "cell_type": "markdown",
   "metadata": {
    "deletable": false,
    "editable": false
   },
   "source": [
    "14) *Miroir*. Le miroir de `'abcde'` est `'edcba'`.\n",
    "\n",
    "Écrivez du code pour afficher le miroir de `s`. Contrainte supplémentaire : votre code doit fonctionner si on change `s`.\n",
    "\n",
    "Par exemple, pour `s = 'Bonjour !'`, vous devez afficher\n",
    "```\n",
    "! ruojnoB\n",
    "```\n",
    "\n",
    "Indication : vous pouvez changer le comportement par défaut de `print(...)` avec `end = ...` "
   ]
  },
  {
   "cell_type": "code",
   "execution_count": null,
   "metadata": {},
   "outputs": [],
   "source": [
    "s = 'Bonjour !'\n",
    "# votre code doit fonctionner même si vous changez s, par exemple\n",
    "# s = 'Au revoir !'\n",
    "\n",
    "# à vous de jouer\n"
   ]
  },
  {
   "cell_type": "markdown",
   "metadata": {
    "deletable": false,
    "editable": false
   },
   "source": [
    "15) a) *Dernier caractère d'un vers.*\n",
    "\n",
    "Un poème est donné dans la chaîne de caractères `poème`. Il est composé de plusieurs vers (lignes). On veut afficher le dernier caractère de chaque vers, un caractère par ligne.\n",
    "\n",
    "Par exemple, pour\n",
    "```\n",
    "poème = 'Notre histoire est noble et tragique\\nComme le masque d\\'un tyran\\nNul drame hasardeux ou magique\\nAucun détail indifférent\\nNe rend notre amour pathétique\\n'\n",
    "```\n",
    "vous devez afficher\n",
    "```\n",
    "e\n",
    "n\n",
    "e\n",
    "t\n",
    "e\n",
    "```\n",
    "\n",
    "Votre code doit fonctionner même si on change `poème`. On suppose que `poème` finit toujours par un retour à la ligne."
   ]
  },
  {
   "cell_type": "code",
   "execution_count": null,
   "metadata": {},
   "outputs": [],
   "source": [
    "poème = 'Notre histoire est noble et tragique\\nComme le masque d\\'un tyran\\nNul drame hasardeux ou magique\\nAucun détail indifférent\\nNe rend notre amour pathétique\\n'\n",
    "\n",
    "# doit aussi fonctionner pour \n",
    "# poème = 'La dame avait une robe\\nEn ottoman violine\\nEt sa tunique brodée d\\'or\\nÉtait composée de deux panneaux\\nS\\'attachant sur l\\'épaule\\n'\n",
    "# poème = 'Lettres ! Envoie aussi des lettres, ma chérie\\nOn aime en recevoir dans notre artillerie\\nUne par jour au moins, une au moins, je t\\'en prie...\\nL\\'heure est venue, Adieu ! l\\'heure de ton départ\\nOn va rentrer, il est neuf heures moins le quart\\n\\nUne… deux… trois… Adieux Nîmes, dans le Gard.\\n'\n",
    "\n",
    "# à vous de jouer"
   ]
  },
  {
   "cell_type": "markdown",
   "metadata": {
    "deletable": false,
    "editable": false
   },
   "source": [
    "15) b) *Premier caractère d'un vers.*\n",
    "\n",
    "Écrire du code pour afficher le premier caractère de chaque vers (ligne) de la chaîne de caractères `poème`.\n",
    "\n",
    "Par exemple, pour\n",
    "```\n",
    "poème = 'Notre histoire est noble et tragique\\nComme le masque d\\'un tyran\\nNul drame hasardeux ou magique\\nAucun détail indifférent\\nNe rend notre amour pathétique\\n'\n",
    "```\n",
    "vous devez afficher\n",
    "```\n",
    "N\n",
    "C\n",
    "N\n",
    "A\n",
    "N\n",
    "```\n",
    "\n",
    "Votre code doit fonctionner même si on change `poème`. On suppose que `poème` finit toujours par un retour à la ligne."
   ]
  },
  {
   "cell_type": "code",
   "execution_count": null,
   "metadata": {},
   "outputs": [],
   "source": [
    "poème = 'Notre histoire est noble et tragique\\nComme le masque d\\'un tyran\\nNul drame hasardeux ou magique\\nAucun détail indifférent\\nNe rend notre amour pathétique\\n'\n",
    "\n",
    "# doit aussi fonctionner pour \n",
    "# poème = 'La dame avait une robe\\nEn ottoman violine\\nEt sa tunique brodée d\\'or\\nÉtait composée de deux panneaux\\nS\\'attachant sur l\\'épaule\\n'\n",
    "# poème = 'Lettres ! Envoie aussi des lettres, ma chérie\\nOn aime en recevoir dans notre artillerie\\nUne par jour au moins, une au moins, je t\\'en prie...\\nL\\'heure est venue, Adieu ! l\\'heure de ton départ\\nOn va rentrer, il est neuf heures moins le quart\\n\\nUne… deux… trois… Adieux Nîmes, dans le Gard.\\n'\n",
    "\n",
    "# à vous de jouer"
   ]
  },
  {
   "cell_type": "markdown",
   "metadata": {
    "deletable": false,
    "editable": false
   },
   "source": [
    "15) c) *Le premier mot de chaque vers.*\n",
    "\n",
    "Écrire du code pour afficher le premier mot de chaque vers (ligne) de la chaîne de caractères poème.\n",
    "\n",
    "Par exemple, pour\n",
    "```\n",
    "poème = 'Notre histoire est noble et tragique\\nComme le masque d\\'un tyran\\nNul drame hasardeux ou magique\\nAucun détail indifférent\\nNe rend notre amour pathétique\\n'\n",
    "```\n",
    "vous devez obtenir\n",
    "```\n",
    "Notre\n",
    "Comme\n",
    "Nul\n",
    "Aucun\n",
    "Ne\n",
    "```\n",
    "\n",
    "\n",
    "Votre code doit fonctionner même si on change `poème`.\n",
    "Par exemple, pour\n",
    "\n",
    "```\n",
    "poème = 'La dame avait une robe\\nEn ottoman violine\\nEt sa tunique brodée d\\'or\\nÉtait composée de deux panneaux\\nS\\'attachant sur l\\'épaule\\n'\n",
    "```\n",
    "vous devez obtenir\n",
    "```\n",
    "La\n",
    "En\n",
    "Et\n",
    "Était\n",
    "S\n",
    "```\n",
    "On suppose que `poème` finit toujours par un retour à la ligne.\n",
    "\n",
    "Indication : vous pouvez créer une variable booléenne (qui vaut `True` ou `False`) pour indiquer si vous êtes en début de ligne. Il faudra mettre à jour cette variable au fil de la lecture des caractères. Et utiliser cette variable pour décider de l'affichage."
   ]
  },
  {
   "cell_type": "code",
   "execution_count": null,
   "metadata": {},
   "outputs": [],
   "source": [
    "poème = 'Notre histoire est noble et tragique\\nComme le masque d\\'un tyran\\nNul drame hasardeux ou magique\\nAucun détail indifférent\\nNe rend notre amour pathétique\\n'\n",
    "\n",
    "# doit aussi fonctionner pour \n",
    "# poème = 'La dame avait une robe\\nEn ottoman violine\\nEt sa tunique brodée d\\'or\\nÉtait composée de deux panneaux\\nS\\'attachant sur l\\'épaule\\n'\n",
    "\n",
    "# à vous de jouer"
   ]
  },
  {
   "cell_type": "markdown",
   "metadata": {
    "deletable": false,
    "editable": false
   },
   "source": [
    "# 5. Remplacer des caractères"
   ]
  },
  {
   "cell_type": "markdown",
   "metadata": {},
   "source": [
    "16) *Anaérobie.*    \n",
    "    Écrivez du code qui affiche tous les caractères de la chaîne `s` à part la lettre r.\n",
    "\n",
    "Exemple : pour `s = 'Cette rosse amorale a fait crouler le parterre'`, vous devez afficher\n",
    "```\n",
    "Cette osse amoale a fait coule le patee\n",
    "```\n",
    "Votre code doit fonctionner même si on change `s`."
   ]
  },
  {
   "cell_type": "code",
   "execution_count": null,
   "metadata": {},
   "outputs": [],
   "source": [
    "s = 'Cette rosse amorale a fait crouler le parterre'\n",
    "# à vous de jouer, votre code doit fonctionner même si on change s\n",
    "    "
   ]
  },
  {
   "cell_type": "markdown",
   "metadata": {
    "deletable": false,
    "editable": false
   },
   "source": [
    "16) a) *[1337](https://fr.wikipedia.org/wiki/Leet_speak).*    \n",
    "    Écrivez du code qui affiche la chaîne `s` (uniquement constituée de capitales) dans laquelle L a été remplacé par 1, E par 3 et T par 7.\n",
    "\n",
    "Exemple : pour `s = 'MIGNONNE, ALLONS VOIR SI LA ROSE\\nQUI CE MATIN AVAIT DÉCLOSE\\nSA ROBE DE POURPRE AU SOLEIL,\\nA POINT PERDU CETTE VESPRÉE,\\nLES PLIS DE SA ROBE POURPRÉE,\\nET SON TEINT AU VÔTRE PAREIL.'`, vous devez afficher\n",
    "```\n",
    "MIGNONN3, A11ONS VOIR SI 1A ROS3\n",
    "QUI C3 MA7IN AVAI7 DÉC1OS3\n",
    "SA ROB3 D3 POURPR3 AU SO13I1,\n",
    "A POIN7 P3RDU C3773 V3SPRÉ3,\n",
    "13S P1IS D3 SA ROB3 POURPRÉ3,\n",
    "37 SON 73IN7 AU VÔ7R3 PAR3I1.\n",
    "```\n",
    "\n"
   ]
  },
  {
   "cell_type": "code",
   "execution_count": null,
   "metadata": {},
   "outputs": [],
   "source": [
    "s = 'MIGNONNE, ALLONS VOIR SI LA ROSE\\nQUI CE MATIN AVAIT DÉCLOSE\\nSA ROBE DE POURPRE AU SOLEIL,\\nA POINT PERDU CETTE VESPRÉE,\\nLES PLIS DE SA ROBE POURPRÉE,\\nET SON TEINT AU VÔTRE PAREIL.'\n",
    "# à vous de jouer, votre code doit fonctionner même si on change s\n",
    "\n"
   ]
  },
  {
   "cell_type": "markdown",
   "metadata": {
    "deletable": false,
    "editable": false
   },
   "source": [
    "16) b) *1337 3XP3R7.*    \n",
    "    Reprenez le code précédent et modifiez-le pour que les versions accentuées de E soient aussi remplacées par 3.\n",
    "\n",
    "Pour l'exemple donné, vous devez obtenir\n",
    "```\n",
    "MIGNONN3, A11ONS VOIR SI 1A ROS3\n",
    "QUI C3 MA7IN AVAI7 D3C1OS3\n",
    "SA ROB3 D3 POURPR3 AU SO13I1,\n",
    "A POIN7 P3RDU C3773 V3SPR33,\n",
    "13S P1IS D3 SA ROB3 POURPR33,\n",
    "37 SON 73IN7 AU VÔ7R3 PAR3I1.\n",
    "```\n",
    "\n",
    "Remarque : `'È'` est le caractère d'ordre 200, `'É'` est le caractère d'ordre 201, `'Ê'` est le caractère d'ordre 202."
   ]
  },
  {
   "cell_type": "code",
   "execution_count": null,
   "metadata": {},
   "outputs": [],
   "source": [
    "s = 'MIGNONNE, ALLONS VOIR SI LA ROSE\\nQUI CE MATIN AVAIT DÉCLOSE\\nSA ROBE DE POURPRE AU SOLEIL,\\nA POINT PERDU CETTE VESPRÉE,\\nLES PLIS DE SA ROBE POURPRÉE,\\nET SON TEINT AU VÔTRE PAREIL.'\n",
    "# à vous de jouer\n",
    "     "
   ]
  },
  {
   "cell_type": "markdown",
   "metadata": {
    "deletable": false,
    "editable": false
   },
   "source": [
    "# 6. Tapis de (familles de) cartes"
   ]
  },
  {
   "cell_type": "markdown",
   "metadata": {
    "deletable": false,
    "editable": false
   },
   "source": [
    "Exécutez la boîte de code ci-dessous."
   ]
  },
  {
   "cell_type": "code",
   "execution_count": null,
   "metadata": {
    "deletable": false,
    "editable": false
   },
   "outputs": [],
   "source": [
    "def pique():\n",
    "    print('♠', sep = '', end = '')\n",
    "    \n",
    "def carreau():\n",
    "    print('♦️', sep = '', end = '')\n",
    "\n",
    "def trèfle():\n",
    "    print('♣', sep = '', end = '')\n",
    "    \n",
    "def coeur():\n",
    "    print('♥️', sep = '', end = '')\n",
    "    \n",
    "def retourligne():\n",
    "    print()"
   ]
  },
  {
   "cell_type": "markdown",
   "metadata": {
    "deletable": false,
    "editable": false
   },
   "source": [
    "Pour les questions suivantes, vous ne pouvez pas utiliser l'instruction ```print(...)``` directement, mais uniquement les fonctions `pique()`, `trèfle()`, `carreau()`, `coeur()` et `retourligne()`.\n",
    "\n",
    "***N'oubliez pas les parenthèses `()`***"
   ]
  },
  {
   "cell_type": "markdown",
   "metadata": {
    "deletable": false,
    "editable": false
   },
   "source": [
    "17) Écrire du code pour afficher\n",
    "\n",
    "```\n",
    "♠♣♦️♥️\n",
    "```"
   ]
  },
  {
   "cell_type": "code",
   "execution_count": null,
   "metadata": {},
   "outputs": [],
   "source": [
    "# à vous de jouer\n"
   ]
  },
  {
   "cell_type": "markdown",
   "metadata": {
    "deletable": false,
    "editable": false
   },
   "source": [
    "18) Écrire du code pour produire l'affichage suivant (utiliser une boucle `for`)\n",
    "```\n",
    "♠♣♦♥\n",
    "♠♣♦♥\n",
    "♠♣♦♥\n",
    "♠♣♦♥\n",
    "♠♣♦♥\n",
    "♠♣♦♥\n",
    "♠♣♦♥\n",
    "♠♣♦♥\n",
    "♠♣♦♥\n",
    "♠♣♦♥\n",
    "```\n"
   ]
  },
  {
   "cell_type": "code",
   "execution_count": null,
   "metadata": {},
   "outputs": [],
   "source": [
    "hauteur = 10\n",
    "\n",
    "# à vous de jouer, utilisez la variable hauteur plutôt que 10 directement.\n",
    "\n",
    "    "
   ]
  },
  {
   "cell_type": "markdown",
   "metadata": {
    "deletable": false,
    "editable": false
   },
   "source": [
    "19) Écrire du code pour produire l'affichage suivant (utiliser une boucle `for`)\n",
    "```\n",
    "♠\n",
    "♣\n",
    "♠\n",
    "♣\n",
    "♠\n",
    "♣\n",
    "♠\n",
    "♣\n",
    "♠\n",
    "♣\n",
    "```\n"
   ]
  },
  {
   "cell_type": "code",
   "execution_count": null,
   "metadata": {},
   "outputs": [],
   "source": [
    "hauteur = 10\n",
    "\n",
    "# à vous de jouer, utilisez la variable hauteur plutôt que 10 directement.\n"
   ]
  },
  {
   "cell_type": "markdown",
   "metadata": {
    "deletable": false,
    "editable": false
   },
   "source": [
    "20) Écrire du code pour produire l'affichage suivant, à 25 colonnes et 10 lignes.\n",
    "\n",
    "```\n",
    "♥♥♥♥♥♥♥♥♥♥♥♥♥♥♥♥♥♥♥♥♥♥♥♥♥\n",
    "♥♥♥♥♥♥♥♥♥♥♥♥♥♥♥♥♥♥♥♥♥♥♥♥♥\n",
    "♥♥♥♥♥♥♥♥♥♥♥♥♥♥♥♥♥♥♥♥♥♥♥♥♥\n",
    "♥♥♥♥♥♥♥♥♥♥♥♥♥♥♥♥♥♥♥♥♥♥♥♥♥\n",
    "♥♥♥♥♥♥♥♥♥♥♥♥♥♥♥♥♥♥♥♥♥♥♥♥♥\n",
    "♥♥♥♥♥♥♥♥♥♥♥♥♥♥♥♥♥♥♥♥♥♥♥♥♥\n",
    "♥♥♥♥♥♥♥♥♥♥♥♥♥♥♥♥♥♥♥♥♥♥♥♥♥\n",
    "♥♥♥♥♥♥♥♥♥♥♥♥♥♥♥♥♥♥♥♥♥♥♥♥♥\n",
    "♥♥♥♥♥♥♥♥♥♥♥♥♥♥♥♥♥♥♥♥♥♥♥♥♥\n",
    "♥♥♥♥♥♥♥♥♥♥♥♥♥♥♥♥♥♥♥♥♥♥♥♥♥\n",
    "```\n",
    "\n",
    "Indication : vous pouvez utiliser deux boucles `for` imbriquées."
   ]
  },
  {
   "cell_type": "code",
   "execution_count": null,
   "metadata": {},
   "outputs": [],
   "source": [
    "largeur = 25\n",
    "hauteur = 10\n",
    "# à vous de jouer, utilisez les variables largeur, hauteur plutôt que 25, 10.\n"
   ]
  },
  {
   "cell_type": "markdown",
   "metadata": {
    "deletable": false,
    "editable": false
   },
   "source": [
    "21) Écrire du code pour produire l'affichage suivant, à 25 colonnes et 10 lignes.\n",
    "```\n",
    "♦♥♦♥♦♥♦♥♦♥♦♥♦♥♦♥♦♥♦♥♦♥♦♥♦\n",
    "♦♥♦♥♦♥♦♥♦♥♦♥♦♥♦♥♦♥♦♥♦♥♦♥♦\n",
    "♦♥♦♥♦♥♦♥♦♥♦♥♦♥♦♥♦♥♦♥♦♥♦♥♦\n",
    "♦♥♦♥♦♥♦♥♦♥♦♥♦♥♦♥♦♥♦♥♦♥♦♥♦\n",
    "♦♥♦♥♦♥♦♥♦♥♦♥♦♥♦♥♦♥♦♥♦♥♦♥♦\n",
    "♦♥♦♥♦♥♦♥♦♥♦♥♦♥♦♥♦♥♦♥♦♥♦♥♦\n",
    "♦♥♦♥♦♥♦♥♦♥♦♥♦♥♦♥♦♥♦♥♦♥♦♥♦\n",
    "♦♥♦♥♦♥♦♥♦♥♦♥♦♥♦♥♦♥♦♥♦♥♦♥♦\n",
    "♦♥♦♥♦♥♦♥♦♥♦♥♦♥♦♥♦♥♦♥♦♥♦♥♦\n",
    "♦♥♦♥♦♥♦♥♦♥♦♥♦♥♦♥♦♥♦♥♦♥♦♥♦\n",
    "```\n"
   ]
  },
  {
   "cell_type": "code",
   "execution_count": null,
   "metadata": {},
   "outputs": [],
   "source": [
    "largeur = 25\n",
    "hauteur = 10\n",
    "# à vous de jouer, utilisez les variables largeur, hauteur plutôt que 25, 10.\n",
    "\n"
   ]
  },
  {
   "cell_type": "markdown",
   "metadata": {
    "deletable": false,
    "editable": false
   },
   "source": [
    "22) Écrire du code pour produire l'affichage suivant, à 25 colonnes et 10 lignes.\n",
    "```\n",
    "♠♠♠♠♠♠♠♠♠♠♠♠♠♠♠♠♠♠♠♠♠♠♠♠♠\n",
    "♣♣♣♣♣♣♣♣♣♣♣♣♣♣♣♣♣♣♣♣♣♣♣♣♣\n",
    "♦️♦️♦️♦️♦️♦️♦️♦️♦️♦️♦️♦️♦️♦️♦️♦️♦️♦️♦️♦️♦️♦️♦️♦️♦️\n",
    "♥️♥️♥️♥️♥️♥️♥️♥️♥️♥️♥️♥️♥️♥️♥️♥️♥️♥️♥️♥️♥️♥️♥️♥️♥️\n",
    "♠♠♠♠♠♠♠♠♠♠♠♠♠♠♠♠♠♠♠♠♠♠♠♠♠\n",
    "♣♣♣♣♣♣♣♣♣♣♣♣♣♣♣♣♣♣♣♣♣♣♣♣♣\n",
    "♦️♦️♦️♦️♦️♦️♦️♦️♦️♦️♦️♦️♦️♦️♦️♦️♦️♦️♦️♦️♦️♦️♦️♦️♦️\n",
    "♥️♥️♥️♥️♥️♥️♥️♥️♥️♥️♥️♥️♥️♥️♥️♥️♥️♥️♥️♥️♥️♥️♥️♥️♥️\n",
    "♠♠♠♠♠♠♠♠♠♠♠♠♠♠♠♠♠♠♠♠♠♠♠♠♠\n",
    "♣♣♣♣♣♣♣♣♣♣♣♣♣♣♣♣♣♣♣♣♣♣♣♣♣\n",
    "```"
   ]
  },
  {
   "cell_type": "code",
   "execution_count": null,
   "metadata": {},
   "outputs": [],
   "source": [
    "largeur = 25\n",
    "hauteur = 10\n",
    "# à vous de jouer, utilisez les variables largeur, hauteur plutôt que 25, 10.\n"
   ]
  },
  {
   "cell_type": "markdown",
   "metadata": {
    "deletable": false,
    "editable": false
   },
   "source": [
    "# 7. Bonus : découpage de texte"
   ]
  },
  {
   "cell_type": "markdown",
   "metadata": {
    "deletable": false,
    "editable": false
   },
   "source": [
    "On se donne un texte long rangé dans la chaîne de caractères `texte`, sans retour à la ligne."
   ]
  },
  {
   "cell_type": "markdown",
   "metadata": {
    "deletable": false,
    "editable": false
   },
   "source": [
    "24) (bonus) Le but est d'écrire du code pour afficher ce texte avec une largeur maximale de 80 caractères. Une fois arrivé à 80 caractères, retournez à la ligne (même au milieu d'un mot).\n",
    "\n",
    "Pour l'exemple de la boîte suivante, cela doit donner\n",
    "\n",
    "```\n",
    "Un port est un séjour charmant pour une âme fatiguée des luttes de la vie. L'amp\n",
    "leur du ciel, l'architecture mobile des nuages, les colorations changeantes de l\n",
    "a mer, le scintillement des phares, sont un prisme merveilleusement propre à amu\n",
    "ser les yeux sans jamais les lasser. Les formes élancées des navires, au gréemen\n",
    "t compliqué, auxquels la houle imprime des oscillations harmonieuses, servent à \n",
    "entretenir dans l'âme le goût du rhythme et de la beauté. Et puis, surtout, il y\n",
    " a une sorte de plaisir mystérieux et aristocratique pour celui qui n'a plus ni \n",
    "curiosité ni ambition, à contempler, couché dans le belvédère ou accoudé sur le \n",
    "môle, tous ces mouvements de ceux qui partent et de ceux qui reviennent, de ceux\n",
    " qui ont encore la force de vouloir, le désir de voyager ou de s'enrichir.\n",
    "```"
   ]
  },
  {
   "cell_type": "code",
   "execution_count": null,
   "metadata": {},
   "outputs": [],
   "source": [
    "texte = \"Un port est un séjour charmant pour une âme fatiguée des luttes de la vie. L'ampleur du ciel, l'architecture mobile des nuages, les colorations changeantes de la mer, le scintillement des phares, sont un prisme merveilleusement propre à amuser les yeux sans jamais les lasser. Les formes élancées des navires, au gréement compliqué, auxquels la houle imprime des oscillations harmonieuses, servent à entretenir dans l'âme le goût du rhythme et de la beauté. Et puis, surtout, il y a une sorte de plaisir mystérieux et aristocratique pour celui qui n'a plus ni curiosité ni ambition, à contempler, couché dans le belvédère ou accoudé sur le môle, tous ces mouvements de ceux qui partent et de ceux qui reviennent, de ceux qui ont encore la force de vouloir, le désir de voyager ou de s'enrichir.\"\n",
    "\n",
    "\n",
    "# à vous de jouer\n"
   ]
  },
  {
   "cell_type": "markdown",
   "metadata": {
    "deletable": false,
    "editable": false
   },
   "source": [
    "25) ***(bonus difficile)*** On veut afficher ce texte avec une largeur maximale de 80 mais sans découpage au milieu des mots : écrivez du code pour afficher le plus de mots possibles sur chaque ligne, tout en respectant la largeur maximale.\n",
    "\n",
    "Remarque : une ligne affichée ne doit pas commencer par une espace.\n",
    "\n",
    "```\n",
    "Un port est un séjour charmant pour une âme fatiguée des luttes de la vie.\n",
    "L'ampleur du ciel, l'architecture mobile des nuages, les colorations changeantes\n",
    "de la mer, le scintillement des phares, sont un prisme merveilleusement propre à\n",
    "amuser les yeux sans jamais les lasser. Les formes élancées des navires, au\n",
    "gréement compliqué, auxquels la houle imprime des oscillations harmonieuses,\n",
    "servent à entretenir dans l'âme le goût du rhythme et de la beauté. Et puis,\n",
    "surtout, il y a une sorte de plaisir mystérieux et aristocratique pour celui qui\n",
    "n'a plus ni curiosité ni ambition, à contempler, couché dans le belvédère ou\n",
    "accoudé sur le môle, tous ces mouvements de ceux qui partent et de ceux qui\n",
    "reviennent, de ceux qui ont encore la force de vouloir, le désir de voyager ou\n",
    "de s'enrichir.\n",
    "```"
   ]
  },
  {
   "cell_type": "code",
   "execution_count": null,
   "metadata": {},
   "outputs": [],
   "source": [
    "texte = \"Un port est un séjour charmant pour une âme fatiguée des luttes de la vie. L'ampleur du ciel, l'architecture mobile des nuages, les colorations changeantes de la mer, le scintillement des phares, sont un prisme merveilleusement propre à amuser les yeux sans jamais les lasser. Les formes élancées des navires, au gréement compliqué, auxquels la houle imprime des oscillations harmonieuses, servent à entretenir dans l'âme le goût du rhythme et de la beauté. Et puis, surtout, il y a une sorte de plaisir mystérieux et aristocratique pour celui qui n'a plus ni curiosité ni ambition, à contempler, couché dans le belvédère ou accoudé sur le môle, tous ces mouvements de ceux qui partent et de ceux qui reviennent, de ceux qui ont encore la force de vouloir, le désir de voyager ou de s'enrichir.\"\n",
    "\n",
    "# à vous de jouer\n"
   ]
  }
 ],
 "metadata": {
  "celltoolbar": "Format de la Cellule Texte Brut",
  "kernelspec": {
   "display_name": "Python 3 (ipykernel)",
   "language": "python",
   "name": "python3"
  },
  "language_info": {
   "codemirror_mode": {
    "name": "ipython",
    "version": 3
   },
   "file_extension": ".py",
   "mimetype": "text/x-python",
   "name": "python",
   "nbconvert_exporter": "python",
   "pygments_lexer": "ipython3",
   "version": "3.10.8"
  },
  "varInspector": {
   "cols": {
    "lenName": 16,
    "lenType": 16,
    "lenVar": 40
   },
   "kernels_config": {
    "python": {
     "delete_cmd_postfix": "",
     "delete_cmd_prefix": "del ",
     "library": "var_list.py",
     "varRefreshCmd": "print(var_dic_list())"
    },
    "r": {
     "delete_cmd_postfix": ") ",
     "delete_cmd_prefix": "rm(",
     "library": "var_list.r",
     "varRefreshCmd": "cat(var_dic_list()) "
    }
   },
   "types_to_exclude": [
    "module",
    "function",
    "builtin_function_or_method",
    "instance",
    "_Feature"
   ],
   "window_display": false
  }
 },
 "nbformat": 4,
 "nbformat_minor": 4
}
