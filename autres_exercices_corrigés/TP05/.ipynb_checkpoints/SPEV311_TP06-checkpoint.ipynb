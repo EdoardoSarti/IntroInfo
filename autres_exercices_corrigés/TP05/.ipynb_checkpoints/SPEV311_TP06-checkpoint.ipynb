{
 "cells": [
  {
   "cell_type": "markdown",
   "id": "437a11d0",
   "metadata": {},
   "source": [
    "<h1><center>SPEV311 — Introduction à l'Informatique — TP 06</center><br>\n",
    "<center>Uplets, Listes</center></h1>"
   ]
  },
  {
   "cell_type": "markdown",
   "id": "c3a9453e",
   "metadata": {},
   "source": [
    "<h3>Auto-évaluation</h3>\n",
    "\n",
    "<div> Les exercices se divisent en trois niveaux d'auto-évaluation:\n",
    "<ul>\n",
    "    <li><h3><font color='white' style='background-color:orange'>Fondamentaux</font></h3> Pour réviser les notions apprises en cours. Il faut tous les savoir résoudre pour arriver au 10/20.</li>\n",
    "    <li><h3><font color='white' style='background-color:green'>Intermédiaires</font></h3> Pour vous aider à raisonner et rentrer au coeur des sujets. Si vous savez les résoudre, vous arriverez jusqu'à 16/20.</li>\n",
    "    <li><h3><font color='white' style='background-color:blue'>Avancés</font></h3> Défis pour vous entraîner et aller jusqu'au 20/20!</li>\n",
    "</ul>\n",
    "</div>"
   ]
  },
  {
   "cell_type": "markdown",
   "id": "c1b5b9b0",
   "metadata": {},
   "source": [
    "### <font color='black'>Table des matières<font><a class='anchor' id='top'></a>\n",
    "1. [Uplets](#uplets)<br>\n",
    "    1.1 [Opérations sur les uplets](#opérations)<br>\n",
    "    1.2 [Uplets et boucles](#foruplets)<br>\n",
    "    1.3 [Sommes d'uplets](#sommes)<br>\n",
    "    1.4 [Arrays avec `numpy`](#array)<br>\n",
    "2. [Listes](#variables)<br>\n",
    "    2.1 [Opérations, boucles](#opboucl)<br>\n",
    "    2.2 [Création et modification d'une liste](#modification)<br>\n",
    "3. [Séquences de séquences](#séquences)<br>\n",
    "    3.1 [Listes de mots](#listemots)<br>\n",
    "    3.2 [Matrices avec `numpy`](#matrice)<br>"
   ]
  },
  {
   "cell_type": "markdown",
   "id": "81e0d925",
   "metadata": {},
   "source": [
    "<h3>0. Séquences</h3><a class='anchor' id='entiers'></a>\n",
    "\n",
    "Pour l'instant on n'a vu qu'un seul type de conteneur : les chaînes de caractères. Les chaînes sont des **séquences**, car ce sont des **conteneurs ordonnés** : en effets, les caractères d'une chaînes gardent leur ordre (`\"fou\"` n'est pas égal à `\"ouf\"`, même s'ils sont composés par les mêmes caractères). \n",
    "\n",
    "En Python, les trois types principaux de séquences sont :\n",
    "- les chaînes de caractères (`str`);\n",
    "- les uplets (`tuple`);\n",
    "- les listes (`list`).\n",
    "\n",
    "En Python, toutes les séquences sont indexées par des entiers. Le système d'indexage est le même pour toutes les séquences : on l'a déjà étudié dans le cas des chaînes.\n",
    "\n",
    "<div>\n",
    "<img src=\"indexing_sequences.jpeg\" width=\"500\"/>\n",
    "</div>\n",
    "\n"
   ]
  },
  {
   "cell_type": "markdown",
   "id": "45201be3",
   "metadata": {},
   "source": [
    "<h3>1. Uplets</h3><a class='anchor' id='entiers'></a>\n",
    "\n",
    "Pour l'instant on n'a vu qu'un seul type de conteneur : les chaînes de caractères. Les chaînes sont des **séquences**, car ce sont des conteneurs **ordonnés** (les caractères d'une chaînes gardent leur ordre : `\"fou\"` n'est pas égal à `\"ouf\"`) et indexés par des entiers. Mais les chaînes ne sont pas les seules séquences en Python : ici on en verra autres deux types : les uplets et les listes.\n",
    "\n",
    "Les uplets sont des séquences **non modifiables**, tout comme les chaînes, mais les éléments d'un uplet ne sont pas forcément des caractères. Ici un exemple d'uplet :\n",
    "\n",
    "```python\n",
    "u = (1, 4, \"Madagascar\", 6.9, True, \"!?\")\n",
    "```\n",
    "\n",
    "Bien évidemment, on peut aussi créer des uplets **homogènes** :\n",
    "\n",
    "```python\n",
    "t = (1.2, 0.7, 3.5, 5.0, 1.9)\n",
    "```\n",
    "\n",
    "On "
   ]
  },
  {
   "cell_type": "markdown",
   "id": "e22835c2",
   "metadata": {},
   "source": [
    "<b><font color='white' style='background-color:black'>Ex. 1.1</font> Opérations sur les uplets</b><a class='anchor' id='opérations'></a><br>\n",
    "On peut utiliser Python comme une normale calculette.<br> \n",
    "<b><font color='white' style='background-color:orange'>1.1.a</font></b> Essayons: si Marc a 1634 pommes et Pierre a 9830 pommes, combient de pommes auront Marc et Pierre en total ? Dans la boîte de code ci-dessous, écrivez la bonne opération à faire, et obtenez le résultat"
   ]
  },
  {
   "cell_type": "code",
   "execution_count": 1,
   "id": "dea6870c",
   "metadata": {},
   "outputs": [
    {
     "data": {
      "text/plain": [
       "11464"
      ]
     },
     "execution_count": 1,
     "metadata": {},
     "output_type": "execute_result"
    }
   ],
   "source": [
    "1634 + 9830"
   ]
  },
  {
   "cell_type": "markdown",
   "id": "a7df8787",
   "metadata": {},
   "source": [
    "<b><font color='white' style='background-color:orange'>1.1.b</font></b> Calculez le nombre de secondes dans une journée"
   ]
  },
  {
   "cell_type": "code",
   "execution_count": 2,
   "id": "0911e635",
   "metadata": {},
   "outputs": [
    {
     "data": {
      "text/plain": [
       "86400"
      ]
     },
     "execution_count": 2,
     "metadata": {},
     "output_type": "execute_result"
    }
   ],
   "source": [
    "24 * 60 * 60"
   ]
  },
  {
   "cell_type": "markdown",
   "id": "132e39b4",
   "metadata": {},
   "source": [
    "<b><font color='white' style='background-color:orange'>1.1.c</font></b> La vieille Céline a 7 filles, chacune de ses filles a 7 enfants, chaque enfant a 7 chats et chaque chat a 7 chatons : en comptant filles, enfants, chats et chatons, c'est combien le grand total de la famille de la vieille Céline ? Calculez-le en n'utilisant que des sommes et des produits, puis calculez-le en utilisant l'opérateur puissance."
   ]
  },
  {
   "cell_type": "code",
   "execution_count": 3,
   "id": "787b441c",
   "metadata": {},
   "outputs": [
    {
     "data": {
      "text/plain": [
       "2800"
      ]
     },
     "execution_count": 3,
     "metadata": {},
     "output_type": "execute_result"
    }
   ],
   "source": [
    "7 + 7*7 + 7*7*7 + 7*7*7*7"
   ]
  },
  {
   "cell_type": "code",
   "execution_count": 4,
   "id": "504ab7da",
   "metadata": {},
   "outputs": [
    {
     "data": {
      "text/plain": [
       "2800"
      ]
     },
     "execution_count": 4,
     "metadata": {},
     "output_type": "execute_result"
    }
   ],
   "source": [
    "7 + 7**2 + 7**3 + 7**4"
   ]
  },
  {
   "cell_type": "markdown",
   "id": "79771879",
   "metadata": {},
   "source": [
    "<b><font color='white' style='background-color:orange'>1.1.d</font></b> Transcrivez cette expression dans la boîte de code ci-dessous et en calculez le résultat:"
   ]
  },
  {
   "cell_type": "markdown",
   "id": "069d1fac",
   "metadata": {},
   "source": [
    "$$ \\left[(2^7 - 15) \\times 5 + 2^{(3+4)^2}\\right] + \\left(2 - (5 \\times 10)\\right)$$"
   ]
  },
  {
   "cell_type": "code",
   "execution_count": 5,
   "id": "ca124fec",
   "metadata": {},
   "outputs": [
    {
     "data": {
      "text/plain": [
       "562949953421829"
      ]
     },
     "execution_count": 5,
     "metadata": {},
     "output_type": "execute_result"
    }
   ],
   "source": [
    "( (2**7 - 15)*5 + 2**((3+4)**2) ) + (2 - (5*10))"
   ]
  },
  {
   "cell_type": "markdown",
   "id": "5877cd4e",
   "metadata": {},
   "source": [
    "<b><font color='white' style='background-color:green'>1.1.e</font></b> Dans l'expression de l'exercice `1.1.d`, quelles sont les parenthèses qui peuvent être omises sans changer le résultat de l'expression ? Ecrivez à nouveau l'expression de `1.1.d` dans la boîte ci-dessous, enlevez toutes les parenthèses rédondantes et assurez-vous que le résultat ne soit pas changé!"
   ]
  },
  {
   "cell_type": "code",
   "execution_count": 6,
   "id": "fb8457bd",
   "metadata": {},
   "outputs": [
    {
     "data": {
      "text/plain": [
       "562949953421829"
      ]
     },
     "execution_count": 6,
     "metadata": {},
     "output_type": "execute_result"
    }
   ],
   "source": [
    "(2**7 - 15)*5 + 2**((3+4)**2) + 2 - 5*10"
   ]
  },
  {
   "cell_type": "markdown",
   "id": "33197b1b",
   "metadata": {},
   "source": [
    "<b><font color='white' style='background-color:blue'>1.1.f</font></b> Il est difficile de s'assurer si le résultat de `1.1.d` est correct: on devrait faire les calculs à la main, mais ça a l'air pénible. On peut néanmoins vérifier au moins la *parité* du résultat attendu: en regardant l'expression `1.1.d`, arrivez-vous à prédire si le résultat devra être pair ou impair ? Décrivez votre raisonnement dans la boîte de texte ci-dessous."
   ]
  },
  {
   "cell_type": "markdown",
   "id": "af4bf242",
   "metadata": {},
   "source": [
    "Regardons la parité des facteurs : $$ \\left[(\\mathrm{pair} - \\mathrm{impair}) \\times \\mathrm{impair} + \\mathrm{pair}\\right] + \\left(\\mathrm{pair}\\right)$$\n",
    "$$= \\left[(\\mathrm{impair}) \\times \\mathrm{impair} + \\mathrm{pair}\\right] + \\left(\\mathrm{pair}\\right)$$\n",
    "$$= \\left[\\mathrm{impair} + \\mathrm{pair}\\right] + \\left(\\mathrm{pair}\\right) = \\mathrm{impair}$$"
   ]
  },
  {
   "cell_type": "markdown",
   "id": "c340b54c",
   "metadata": {},
   "source": [
    "<p><img style=\"float:right; margin:20px; padding:20px; max-width:400px\" src=\"Division_euclidienne.jpeg\"></p>\n",
    "<p style=\"text-align:justify;\"><a class='anchor' id='division'></a>\n",
    "<br><br>\n",
    "<b><font color='white' style='background-color:black'>Ex. 1.2</font> Division éuclidienne: quotient et reste</b>\n",
    "<br> En générale, la division décimale rend un résultat à virgule. Il y a des contexte où on est plutôt intéressé à avoir un résultat en termes de quotient et reste entiers : s'il faut dire combien ça fait 2 heures divisées par 3, personne ne dirait $0.\\overline{6}$ heures, mais bien 40 minutes ! Si $a$ et $b$ sont des entiers et $b \\neq 0$, on peut utiliser la division éuclidienne comme vu en cours.<br>\n",
    "</p>"
   ]
  },
  {
   "cell_type": "markdown",
   "id": "2fc6a8bf",
   "metadata": {},
   "source": [
    "<b><font color='white' style='background-color:orange'>1.2.a</font></b> Essayons: Marc, Pierre et Louise veulent se répartir équitablement un plateau avec 14 gâteaux. Combien de gâteaux aura chacun ? Combien de gâteaux resteront-ils sur le plateau ? Ecrivez les deux opérations à faire dans les deux boîtes de code ci-dessous."
   ]
  },
  {
   "cell_type": "code",
   "execution_count": 7,
   "id": "17e8fc25",
   "metadata": {},
   "outputs": [
    {
     "data": {
      "text/plain": [
       "4"
      ]
     },
     "execution_count": 7,
     "metadata": {},
     "output_type": "execute_result"
    }
   ],
   "source": [
    "14//3"
   ]
  },
  {
   "cell_type": "code",
   "execution_count": 8,
   "id": "9fdf8530",
   "metadata": {},
   "outputs": [
    {
     "data": {
      "text/plain": [
       "2"
      ]
     },
     "execution_count": 8,
     "metadata": {},
     "output_type": "execute_result"
    }
   ],
   "source": [
    "14%3"
   ]
  },
  {
   "cell_type": "markdown",
   "id": "65a30d2f",
   "metadata": {},
   "source": [
    "<b><font color='white' style='background-color:orange'>1.2.b</font></b> Il est toujours important de contrôler ses résultats. Faisons donc le calcul à l'invers: Marc, Pierre et Louise mangent 4 gâteaux chacun, et en laissent 2 sur le plateau. Combien de gâteaux y avait-il sur le plateau?"
   ]
  },
  {
   "cell_type": "code",
   "execution_count": 9,
   "id": "560b8d6e",
   "metadata": {},
   "outputs": [
    {
     "data": {
      "text/plain": [
       "14"
      ]
     },
     "execution_count": 9,
     "metadata": {},
     "output_type": "execute_result"
    }
   ],
   "source": [
    "3*4 + 2"
   ]
  },
  {
   "cell_type": "markdown",
   "id": "2e63deea",
   "metadata": {},
   "source": [
    "<p><img style=\"float:right; margin:20px; padding:20px; max-width:200px\" src=\"Plaque_96_puits.jpeg\"></p>\n",
    "<p style=\"text-align:justify;\">\n",
    "<br><br><br><b><font color='white' style='background-color:orange'>1.2.c</font></b> Pour effectuer son titrage, j'ai besoin de remplir 300 puits avec de la solution. Chaque plaque a 96 puits: combien de plaques vais-je remplir complètement? Combien de puits restent-ils à remplir? Ecrivez les deux opérations à faire dans les deux boîtes de code ci-dessous.\n",
    "</p>"
   ]
  },
  {
   "cell_type": "code",
   "execution_count": 10,
   "id": "aafabb01",
   "metadata": {},
   "outputs": [
    {
     "data": {
      "text/plain": [
       "3"
      ]
     },
     "execution_count": 10,
     "metadata": {},
     "output_type": "execute_result"
    }
   ],
   "source": [
    "300//96"
   ]
  },
  {
   "cell_type": "code",
   "execution_count": 11,
   "id": "74d9aa1e",
   "metadata": {},
   "outputs": [
    {
     "data": {
      "text/plain": [
       "12"
      ]
     },
     "execution_count": 11,
     "metadata": {},
     "output_type": "execute_result"
    }
   ],
   "source": [
    "300%96"
   ]
  },
  {
   "cell_type": "markdown",
   "id": "4ef4f636",
   "metadata": {},
   "source": [
    "<b><font color='white' style='background-color:orange'>1.2.d</font></b> Etes-vous sûrs d'avoir bien fait les calculs de l'exercice `1.1.c`? Contrôlez en faisant le calcul invers, tout comme dans l'exercice `1.1.b`"
   ]
  },
  {
   "cell_type": "code",
   "execution_count": 12,
   "id": "7241d030",
   "metadata": {},
   "outputs": [
    {
     "data": {
      "text/plain": [
       "300"
      ]
     },
     "execution_count": 12,
     "metadata": {},
     "output_type": "execute_result"
    }
   ],
   "source": [
    "3*96 + 12"
   ]
  },
  {
   "cell_type": "markdown",
   "id": "b146ca5c",
   "metadata": {},
   "source": [
    "<b><font color='white' style='background-color:green'>1.2.e</font></b> Revenons sur cet exercice, cette fois en posant des questions plus utiles d'un point de vue scientifique. Pour effectuer son titrage, j'ai besoin de remplir 455 puits avec de la solution. Chaque plaque a 96 puits et coûte 4 euros: quel sera le montant dépensé pour acheter les plaques? Combien y aura-t-il de puits vides? Ecrivez les deux opérations à faire dans les deux boîtes de code ci-dessous."
   ]
  },
  {
   "cell_type": "code",
   "execution_count": 13,
   "id": "05d03dc6",
   "metadata": {},
   "outputs": [
    {
     "data": {
      "text/plain": [
       "20"
      ]
     },
     "execution_count": 13,
     "metadata": {},
     "output_type": "execute_result"
    }
   ],
   "source": [
    "(455//96 + 1)*4     # Cette formule n'est pas valide en général..."
   ]
  },
  {
   "cell_type": "code",
   "execution_count": 14,
   "id": "0575a48e",
   "metadata": {},
   "outputs": [
    {
     "data": {
      "text/plain": [
       "25"
      ]
     },
     "execution_count": 14,
     "metadata": {},
     "output_type": "execute_result"
    }
   ],
   "source": [
    "96 - 455%96"
   ]
  },
  {
   "cell_type": "markdown",
   "id": "8a155e07",
   "metadata": {},
   "source": [
    "<b><font color='white' style='background-color:orange'>1.2.f</font></b> L'opération modulo peut donc être utilisée pour savoir si un entier est un multiple d'un autre entier: en effet, si `a` est un multiple de `b`, l'opération `a%b` donnera `0` comme résultat. Vérifiez si `1234321` est un multiple de `11`."
   ]
  },
  {
   "cell_type": "code",
   "execution_count": 15,
   "id": "6ff68a37",
   "metadata": {},
   "outputs": [
    {
     "data": {
      "text/plain": [
       "0"
      ]
     },
     "execution_count": 15,
     "metadata": {},
     "output_type": "execute_result"
    }
   ],
   "source": [
    "1234321%11"
   ]
  },
  {
   "cell_type": "markdown",
   "id": "b2331c65",
   "metadata": {},
   "source": [
    "<b><font color='white' style='background-color:green'>1.2.g</font></b> Si un nombre $n$ est impair, quel sera le résultat de $n\\%2$? Ecrivez votre réponse dans la boîte de texte ci-dessous et expliquez."
   ]
  },
  {
   "cell_type": "markdown",
   "id": "478db459",
   "metadata": {},
   "source": [
    "Le résultat est 1. Si $n$ est impair, le reste de sa division par 2 est 1"
   ]
  },
  {
   "cell_type": "markdown",
   "id": "4cb4198f",
   "metadata": {},
   "source": [
    "<b><font color='white' style='background-color:green'>1.2.h</font></b> Copiez-collez l'expression que vous avez écrite en `1.1.d` et contrôlez si son résultat est pair ou impair, c'est à dire, s'il est un multiple de 2 ou pas. Rappelez-vous de l'ordre des opérations!"
   ]
  },
  {
   "cell_type": "code",
   "execution_count": 16,
   "id": "b758f10c",
   "metadata": {},
   "outputs": [
    {
     "data": {
      "text/plain": [
       "1"
      ]
     },
     "execution_count": 16,
     "metadata": {},
     "output_type": "execute_result"
    }
   ],
   "source": [
    "(( (2**7 - 15)*5 + 2**((3+4)**2) ) + (2 - (5*10)) ) % 2"
   ]
  },
  {
   "cell_type": "markdown",
   "id": "415bc292",
   "metadata": {},
   "source": [
    "<h3>2. Variables</h3><a class='anchor' id='variables'></a>"
   ]
  },
  {
   "cell_type": "markdown",
   "id": "5fc0ee7a",
   "metadata": {},
   "source": [
    "<p><img style=\"float:right; margin:20px; padding:20px; max-width:300px\" src=\"Variable.jpeg\"></p>\n",
    "<p><br><br>\n",
    "<b><font color='white' style='background-color:black'>Ex. 2.1</font> Affectation</b><a class='anchor' id='affectation'></a><br> Une variable est un espace de mémoire qui contient une valeur. La variable peut changer de valeur au cours d'un script.<br>\n",
    "</p>"
   ]
  },
  {
   "cell_type": "markdown",
   "id": "0cae565c",
   "metadata": {},
   "source": [
    "<b><font color='white' style='background-color:gray'>Exemple</font></b><br>\n",
    "```python\n",
    "a = 7          # Initialise la variable a et attribue la valeur 7\n",
    "\n",
    "a = 'Barbie'   # La variable a est déjà initialisée, et contient la valeur 7. \n",
    "               # Ici, on remplace la valeur 7 avec la valeur 'Barbie'\n",
    "```"
   ]
  },
  {
   "cell_type": "markdown",
   "id": "b7930b02",
   "metadata": {},
   "source": [
    "<b><font color='white' style='background-color:orange'>2.1.a</font></b> Dans la première boîte de code, attribuez la valeur `3` à la variable `nombre`. Dans la deuxième, attribuez la valeur `'Allez les Bleus !'` à la même variable. Enfin, affichez la valeur de la variable en ne saisissant que son nom dans la troisième boîte."
   ]
  },
  {
   "cell_type": "code",
   "execution_count": 17,
   "id": "a5c82479",
   "metadata": {},
   "outputs": [],
   "source": [
    "nombre = 3"
   ]
  },
  {
   "cell_type": "code",
   "execution_count": 18,
   "id": "45bb691c",
   "metadata": {},
   "outputs": [],
   "source": [
    "nombre = 'Allez les Bleus !'"
   ]
  },
  {
   "cell_type": "code",
   "execution_count": 19,
   "id": "3d13184c",
   "metadata": {},
   "outputs": [
    {
     "data": {
      "text/plain": [
       "'Allez les Bleus !'"
      ]
     },
     "execution_count": 19,
     "metadata": {},
     "output_type": "execute_result"
    }
   ],
   "source": [
    "nombre"
   ]
  },
  {
   "cell_type": "markdown",
   "id": "1b490841",
   "metadata": {},
   "source": [
    "<b><font color='white' style='background-color:orange'>2.1.b</font></b> Dans l'exercice `2.1.a`, quelles boîtes contiennent des instructions? Quelles boîtes contiennent des expressions? Expliquez."
   ]
  },
  {
   "cell_type": "markdown",
   "id": "4a20c8bd",
   "metadata": {},
   "source": [
    "Les premières deux boîtes contiennent des instructions (d'affectation), alors que la troisième contient une expression (triviale : le résultat d'une valeur est la valeur même)"
   ]
  },
  {
   "cell_type": "markdown",
   "id": "6a94f944",
   "metadata": {},
   "source": [
    "<b><font color='white' style='background-color:orange'>2.1.c</font></b> Attribuez la valeur `10` à la variable `a`, et la valeur `7` à la variable b. Ensuite, calculez a - b"
   ]
  },
  {
   "cell_type": "code",
   "execution_count": 20,
   "id": "02635149",
   "metadata": {},
   "outputs": [],
   "source": [
    "a = 10"
   ]
  },
  {
   "cell_type": "code",
   "execution_count": 21,
   "id": "66128bce",
   "metadata": {},
   "outputs": [],
   "source": [
    "b = 7"
   ]
  },
  {
   "cell_type": "code",
   "execution_count": 22,
   "id": "c07f6c5c",
   "metadata": {},
   "outputs": [
    {
     "data": {
      "text/plain": [
       "3"
      ]
     },
     "execution_count": 22,
     "metadata": {},
     "output_type": "execute_result"
    }
   ],
   "source": [
    "a-b"
   ]
  },
  {
   "cell_type": "markdown",
   "id": "c4415fff",
   "metadata": {},
   "source": [
    "<b><font color='white' style='background-color:orange'>2.1.d</font></b> Attribuez la valeur `100` à la variable `mes_points` et la valeur `500 - mes_points` à la valeur `tes_points`. Affichez la valeur de `tes_points`."
   ]
  },
  {
   "cell_type": "code",
   "execution_count": 23,
   "id": "6f4b2a30",
   "metadata": {},
   "outputs": [],
   "source": [
    "mes_points = 100"
   ]
  },
  {
   "cell_type": "code",
   "execution_count": 24,
   "id": "7745459e",
   "metadata": {},
   "outputs": [],
   "source": [
    "tes_points = 500 - mes_points"
   ]
  },
  {
   "cell_type": "code",
   "execution_count": 25,
   "id": "73e2bd5f",
   "metadata": {},
   "outputs": [
    {
     "data": {
      "text/plain": [
       "400"
      ]
     },
     "execution_count": 25,
     "metadata": {},
     "output_type": "execute_result"
    }
   ],
   "source": [
    "tes_points"
   ]
  },
  {
   "cell_type": "markdown",
   "id": "02e57d0b",
   "metadata": {},
   "source": [
    "<b><font color='white' style='background-color:orange'>2.1.e</font></b> Attribuez la valeur `100` à la variable `Batman`. Dans la deuxième boîte, cherchez à afficher la valeur de la variable Robin. Que se passe-t-il? Expliquez"
   ]
  },
  {
   "cell_type": "code",
   "execution_count": 26,
   "id": "a1b870ec",
   "metadata": {},
   "outputs": [],
   "source": [
    "Batman = 100"
   ]
  },
  {
   "cell_type": "code",
   "execution_count": 27,
   "id": "6e5380d8",
   "metadata": {},
   "outputs": [
    {
     "ename": "NameError",
     "evalue": "name 'Robin' is not defined",
     "output_type": "error",
     "traceback": [
      "\u001b[0;31m---------------------------------------------------------------------------\u001b[0m",
      "\u001b[0;31mNameError\u001b[0m                                 Traceback (most recent call last)",
      "Cell \u001b[0;32mIn[27], line 1\u001b[0m\n\u001b[0;32m----> 1\u001b[0m \u001b[43mRobin\u001b[49m\n",
      "\u001b[0;31mNameError\u001b[0m: name 'Robin' is not defined"
     ]
    }
   ],
   "source": [
    "Robin"
   ]
  },
  {
   "cell_type": "markdown",
   "id": "a1bd8d29",
   "metadata": {},
   "source": []
  },
  {
   "cell_type": "markdown",
   "id": "56f84acf",
   "metadata": {},
   "source": [
    "<b><font color='white' style='background-color:green'>2.1.e</font></b> Dans une seule boîte de code, attribuez `10` à `a`, `3` à `b` et `50` à `c`, et calculez $$a^b - c*b + a$$ Ensuite, dans la deuxième boîte, ajoutez `1` à la valeur de `b` et calculez à nouveau l'expression."
   ]
  },
  {
   "cell_type": "code",
   "execution_count": 28,
   "id": "5457b2b7",
   "metadata": {},
   "outputs": [
    {
     "data": {
      "text/plain": [
       "860"
      ]
     },
     "execution_count": 28,
     "metadata": {},
     "output_type": "execute_result"
    }
   ],
   "source": [
    "a = 10\n",
    "b = 3\n",
    "c = 50\n",
    "a**b - c*b + a"
   ]
  },
  {
   "cell_type": "code",
   "execution_count": 29,
   "id": "5749aae7",
   "metadata": {},
   "outputs": [
    {
     "data": {
      "text/plain": [
       "9810"
      ]
     },
     "execution_count": 29,
     "metadata": {},
     "output_type": "execute_result"
    }
   ],
   "source": [
    "b = b + 1\n",
    "a**b - c*b + a"
   ]
  },
  {
   "cell_type": "markdown",
   "id": "de6c88f7",
   "metadata": {},
   "source": [
    "<b><font color='white' style='background-color:green'>2.1.f</font></b> Attribuez la valeur `'Tic'` à la variable `tamias_1` et la valeur `'Tac'` à la variable `tamias_2`. Ensuite, écrivez les instructions nécessaires pour échanger les  valeurs des deux variables. Utilisez les deux autres boîtes pour afficher le contenu de `tamias_1` et `tamias_2`"
   ]
  },
  {
   "cell_type": "code",
   "execution_count": 30,
   "id": "f5a25d53",
   "metadata": {},
   "outputs": [],
   "source": [
    "tamias_1 = 'Tic'\n",
    "tamias_2 = 'Tac'\n",
    "\n",
    "tmp = tamias_2\n",
    "tamias_2 = tamias_1\n",
    "tamias_1 = tmp"
   ]
  },
  {
   "cell_type": "code",
   "execution_count": 31,
   "id": "7a36bb49",
   "metadata": {},
   "outputs": [
    {
     "data": {
      "text/plain": [
       "'Tac'"
      ]
     },
     "execution_count": 31,
     "metadata": {},
     "output_type": "execute_result"
    }
   ],
   "source": [
    "tamias_1"
   ]
  },
  {
   "cell_type": "code",
   "execution_count": 32,
   "id": "28e4f0c8",
   "metadata": {},
   "outputs": [
    {
     "data": {
      "text/plain": [
       "'Tic'"
      ]
     },
     "execution_count": 32,
     "metadata": {},
     "output_type": "execute_result"
    }
   ],
   "source": [
    "tamias_2"
   ]
  },
  {
   "cell_type": "markdown",
   "id": "d838ea33",
   "metadata": {},
   "source": [
    "<b><font color='white' style='background-color:green'>2.1.g</font></b> Attribuez les valeurs aux variables comme dans le tableau:\n",
    "\n",
    "| Variable |   Valeur |\n",
    "| -------- | -------- |\n",
    "| canard_1 |   'Riri' |\n",
    "| canard_2 |   'Fifi' |\n",
    "| canard_3 | 'Loulou' |\n",
    "\n",
    "Et écrivez les instructions nécessaires pour obtenir les associations suivantes:\n",
    "\n",
    "| Variable |   Valeur |\n",
    "| -------- | -------- |\n",
    "| canard_1 | 'Loulou' |\n",
    "| canard_2 |   'Riri' |\n",
    "| canard_3 |   'Fifi' |\n",
    "\n",
    "Affichez vos résultats dans les trois boîtes qui suivent."
   ]
  },
  {
   "cell_type": "code",
   "execution_count": 33,
   "id": "cb9f4524",
   "metadata": {},
   "outputs": [],
   "source": [
    "canard_1 = 'Riri'\n",
    "canard_2 = 'Fifi'\n",
    "canard_3 = 'Loulou'\n",
    "\n",
    "tmp = canard_1\n",
    "canard_1 = canard_3\n",
    "canard_3 = canard_2\n",
    "canard_2 = tmp"
   ]
  },
  {
   "cell_type": "code",
   "execution_count": 34,
   "id": "10009175",
   "metadata": {},
   "outputs": [
    {
     "data": {
      "text/plain": [
       "'Loulou'"
      ]
     },
     "execution_count": 34,
     "metadata": {},
     "output_type": "execute_result"
    }
   ],
   "source": [
    "canard_1"
   ]
  },
  {
   "cell_type": "code",
   "execution_count": 35,
   "id": "80a2b22b",
   "metadata": {},
   "outputs": [
    {
     "data": {
      "text/plain": [
       "'Riri'"
      ]
     },
     "execution_count": 35,
     "metadata": {},
     "output_type": "execute_result"
    }
   ],
   "source": [
    "canard_2"
   ]
  },
  {
   "cell_type": "code",
   "execution_count": 36,
   "id": "6320186c",
   "metadata": {},
   "outputs": [
    {
     "data": {
      "text/plain": [
       "'Fifi'"
      ]
     },
     "execution_count": 36,
     "metadata": {},
     "output_type": "execute_result"
    }
   ],
   "source": [
    "canard_3"
   ]
  },
  {
   "cell_type": "markdown",
   "id": "c468e695",
   "metadata": {},
   "source": [
    "<b><font color='white' style='background-color:black'>Ex. 2.2</font> Affichage avec `print`</b><a class='anchor' id='affichage'></a><br> La fonction `print` permet d'afficher toute valeur à n'importe quel point du code.<br>\n",
    "<b><font color='white' style='background-color:orange'>2.2.a</font></b> Dans les deux boîtes suivantes, affichez les valeurs `'13'` et `'Madagascar'` à l'aide de la fonction `print`"
   ]
  },
  {
   "cell_type": "code",
   "execution_count": 37,
   "id": "6a4a8ab4",
   "metadata": {},
   "outputs": [
    {
     "name": "stdout",
     "output_type": "stream",
     "text": [
      "13\n"
     ]
    }
   ],
   "source": [
    "print(13)"
   ]
  },
  {
   "cell_type": "code",
   "execution_count": 38,
   "id": "e2cf4d9c",
   "metadata": {},
   "outputs": [
    {
     "name": "stdout",
     "output_type": "stream",
     "text": [
      "Madagascar\n"
     ]
    }
   ],
   "source": [
    "print('Madagascar')"
   ]
  },
  {
   "cell_type": "markdown",
   "id": "18e9ea6f",
   "metadata": {},
   "source": [
    "<b><font color='white' style='background-color:orange'>2.2.b</font></b> Maintenant affichez les valeurs `'13'` et `'Madagascar'` de suite dans une seule ligne."
   ]
  },
  {
   "cell_type": "code",
   "execution_count": 39,
   "id": "e3b28f99",
   "metadata": {},
   "outputs": [
    {
     "name": "stdout",
     "output_type": "stream",
     "text": [
      "13 Madagascar\n"
     ]
    }
   ],
   "source": [
    "print(13, 'Madagascar')"
   ]
  },
  {
   "cell_type": "markdown",
   "id": "233eb275",
   "metadata": {},
   "source": [
    "<b><font color='white' style='background-color:orange'>2.2.c</font></b> Certains caractères ont besoint de l'échappement `\\` pour ne pas être interprétés par Python. Affichez:<br>\n",
    "```\n",
    "\\\n",
    "Guillemets \", apostrophe '\n",
    "```"
   ]
  },
  {
   "cell_type": "code",
   "execution_count": 40,
   "id": "dc00a333",
   "metadata": {},
   "outputs": [
    {
     "name": "stdout",
     "output_type": "stream",
     "text": [
      "\\\n",
      "Guillemets \", apostrophe '\n"
     ]
    }
   ],
   "source": [
    "print('\\\\')\n",
    "print('Guillemets \", apostrophe \\'')"
   ]
  },
  {
   "cell_type": "markdown",
   "id": "bc0e9f90",
   "metadata": {},
   "source": [
    "<b><font color='white' style='background-color:orange'>2.2.d</font></b> Qu'affiche ce code?<br>\n",
    "```python\n",
    "x = 8\n",
    "y = 9\n",
    "print('Mon numéro porte bonheur est le', x+y)\n",
    "```"
   ]
  },
  {
   "cell_type": "markdown",
   "id": "2b3c40a4",
   "metadata": {},
   "source": []
  },
  {
   "cell_type": "markdown",
   "id": "57650ee5",
   "metadata": {},
   "source": [
    "<b><font color='white' style='background-color:green'>2.2.e</font></b> Affichez le dessin suivant:<br>\n",
    "```\n",
    " /\\_/\\\n",
    "((@v@))\n",
    "():::()\n",
    " VV-VV\n",
    "```"
   ]
  },
  {
   "cell_type": "code",
   "execution_count": 41,
   "id": "66c6d086",
   "metadata": {},
   "outputs": [
    {
     "name": "stdout",
     "output_type": "stream",
     "text": [
      " /\\_/\\\n",
      "((@v@))\n",
      "():::()\n",
      " VV-VV\n"
     ]
    }
   ],
   "source": [
    "print(' /\\\\_/\\\\')\n",
    "print('((@v@))')\n",
    "print('():::()')\n",
    "print(' VV-VV')"
   ]
  },
  {
   "cell_type": "markdown",
   "id": "f6e5429e",
   "metadata": {},
   "source": [
    "<b><font color='white' style='background-color:green'>2.2.f</font></b> Vous avez les variables suivantes:<br>\n",
    "\n",
    "| Variable |   Valeur |\n",
    "| -------- | -------- |\n",
    "| a |   5 |\n",
    "| b |   10 |\n",
    "| c | 20 |\n",
    "\n",
    "Affichez le résultat de: $$a^{c/b} + a - c \\times b$$"
   ]
  },
  {
   "cell_type": "code",
   "execution_count": 42,
   "id": "31145637",
   "metadata": {},
   "outputs": [
    {
     "name": "stdout",
     "output_type": "stream",
     "text": [
      "-170\n"
     ]
    }
   ],
   "source": [
    "a = 5\n",
    "b = 10\n",
    "c = 20\n",
    "print(a**(c//b) + a - c*b)"
   ]
  },
  {
   "cell_type": "markdown",
   "id": "086e5f23",
   "metadata": {},
   "source": [
    "<b><font color='white' style='background-color:black'>Ex. 2.3</font> Types</b><a class='anchor' id='types'></a><br>\n",
    "Chaque valeur a un type: étudions ici les types `int`, `float`, `str`, `bool`. Ces mots sont des mots réservés en Python et servent à définir les types !<br>\n",
    "<b><font color='white' style='background-color:orange'>2.3.a</font></b> A l'aide de la fonction `type` et de la fonction `print`, affichez ci-dessous les types des valeurs suivantes: `1000`, `'Barbie'`, `3.14`, `'h'`, `True`.\n",
    "Ensuite, écrivez en mots le nom complet des types que vous avez trouvés."
   ]
  },
  {
   "cell_type": "code",
   "execution_count": 43,
   "id": "b4b8c1d9",
   "metadata": {},
   "outputs": [
    {
     "name": "stdout",
     "output_type": "stream",
     "text": [
      "<class 'int'> <class 'str'> <class 'float'> <class 'str'> <class 'bool'>\n"
     ]
    }
   ],
   "source": [
    "print(type(1000), type('Barbie'), type(3.14), type('h'), type(True))"
   ]
  },
  {
   "cell_type": "markdown",
   "id": "ff170341",
   "metadata": {},
   "source": [
    "Entier, chaîne de caractères, flottant, chaîne de caractères, booléen"
   ]
  },
  {
   "cell_type": "markdown",
   "id": "a0a8d782",
   "metadata": {},
   "source": [
    "<b><font color='white' style='background-color:orange'>2.3.b</font></b> Quel est le type du résultat de l'expression `8//4` ? Et `8/4` ? Expliquez"
   ]
  },
  {
   "cell_type": "code",
   "execution_count": 44,
   "id": "8af520bd",
   "metadata": {},
   "outputs": [
    {
     "name": "stdout",
     "output_type": "stream",
     "text": [
      "<class 'int'> <class 'float'>\n"
     ]
    }
   ],
   "source": [
    "print(type(8//4), type(8/4))"
   ]
  },
  {
   "cell_type": "markdown",
   "id": "6bb7cb3b",
   "metadata": {},
   "source": []
  },
  {
   "cell_type": "markdown",
   "id": "518231df",
   "metadata": {},
   "source": [
    "<b><font color='white' style='background-color:green'>2.3.c</font></b> Affichez le type de `4.0` et de `9`. Ensuite, sommez-les, et affichez le type du résultat. Pourquoi le résultat a-t-il ce type? Expliquez."
   ]
  },
  {
   "cell_type": "code",
   "execution_count": 45,
   "id": "1fbda8fa",
   "metadata": {},
   "outputs": [
    {
     "name": "stdout",
     "output_type": "stream",
     "text": [
      "<class 'float'> <class 'int'>\n",
      "<class 'float'>\n"
     ]
    }
   ],
   "source": [
    "print(type(4.0), type(9))\n",
    "print(type(4.0 + 9))"
   ]
  },
  {
   "cell_type": "markdown",
   "id": "a6cba8b3",
   "metadata": {},
   "source": [
    "La somme entre un entier et un flottant donne un flottant"
   ]
  },
  {
   "cell_type": "markdown",
   "id": "e06b5c9b",
   "metadata": {},
   "source": [
    "<b><font color='white' style='background-color:green'>2.3.d</font></b> Que se passe-t-il quand vous cherchez à sommer la valeur `10` à la valeur `'22'`? Expliquez."
   ]
  },
  {
   "cell_type": "code",
   "execution_count": 46,
   "id": "e8e2612a",
   "metadata": {},
   "outputs": [
    {
     "ename": "TypeError",
     "evalue": "unsupported operand type(s) for +: 'int' and 'str'",
     "output_type": "error",
     "traceback": [
      "\u001b[0;31m---------------------------------------------------------------------------\u001b[0m",
      "\u001b[0;31mTypeError\u001b[0m                                 Traceback (most recent call last)",
      "Cell \u001b[0;32mIn[46], line 1\u001b[0m\n\u001b[0;32m----> 1\u001b[0m \u001b[38;5;241;43m10\u001b[39;49m\u001b[43m \u001b[49m\u001b[38;5;241;43m+\u001b[39;49m\u001b[43m \u001b[49m\u001b[38;5;124;43m'\u001b[39;49m\u001b[38;5;124;43m22\u001b[39;49m\u001b[38;5;124;43m'\u001b[39;49m\n",
      "\u001b[0;31mTypeError\u001b[0m: unsupported operand type(s) for +: 'int' and 'str'"
     ]
    }
   ],
   "source": [
    "10 + '22'"
   ]
  },
  {
   "cell_type": "markdown",
   "id": "e5591dae",
   "metadata": {},
   "source": [
    "La somme entre un entier et une chaîne de caractères n'est pas définie"
   ]
  },
  {
   "cell_type": "markdown",
   "id": "bba2ae16",
   "metadata": {},
   "source": [
    "<h3>3. Fonctions</h3><a class='anchor' id='fonctions'></a>\n",
    "<b><font color='white' style='background-color:black'>Ex. 3.1</font> Utiliser les fonctions prédéfinies</b><a class='anchor' id='prédéfinies'></a><br>\n",
    "Nous avons déjà vu les fonctions print et type. Nous allons voir d'autres fonctions utiles et comment les utiliser.<br>Servez-vous de la <a href=\"https://docs.python.org/3/library/functions.html\">documentation officielle de Python</a> !<br>\n",
    "<b><font color='white' style='background-color:orange'>3.1.a</font></b> Dans la deuxième boîte de code, trouvez une fonction prédéfinie pour évaluer la longueur de la chaîne définie dans la première boîte"
   ]
  },
  {
   "cell_type": "code",
   "execution_count": 47,
   "id": "a45d7177",
   "metadata": {},
   "outputs": [],
   "source": [
    "a = \"Bof, autant d'utiliser ChatGPT :/\""
   ]
  },
  {
   "cell_type": "code",
   "execution_count": 48,
   "id": "c3f74de6",
   "metadata": {},
   "outputs": [
    {
     "data": {
      "text/plain": [
       "33"
      ]
     },
     "execution_count": 48,
     "metadata": {},
     "output_type": "execute_result"
    }
   ],
   "source": [
    "len(a)"
   ]
  },
  {
   "cell_type": "markdown",
   "id": "f87f898d",
   "metadata": {},
   "source": [
    "<b><font color='white' style='background-color:orange'>3.1.b</font></b> Dans la deuxième boîte de code, affichez le minimum et le maximum des variables définies dans la première boîte"
   ]
  },
  {
   "cell_type": "code",
   "execution_count": 49,
   "id": "aa15936b",
   "metadata": {},
   "outputs": [],
   "source": [
    "a = 14*90\n",
    "b = 117*9\n",
    "c = 9**7\n",
    "d = 2**14 - 14**2\n",
    "e = 4**3**2"
   ]
  },
  {
   "cell_type": "code",
   "execution_count": 50,
   "id": "d5945e64",
   "metadata": {},
   "outputs": [
    {
     "name": "stdout",
     "output_type": "stream",
     "text": [
      "1053 4782969\n"
     ]
    }
   ],
   "source": [
    "print(min(a,b,c,d,e), max(a,b,c,d,e))"
   ]
  },
  {
   "cell_type": "markdown",
   "id": "dc240a67",
   "metadata": {},
   "source": [
    "<b><font color='white' style='background-color:orange'>3.1.c</font></b> Faites comme dans l'exercice 3.1.b, cette fois avec les variables suivantes. Qu'est-ce qui se passe? Pourquoi? Expliquez dans la boîte de texte."
   ]
  },
  {
   "cell_type": "code",
   "execution_count": 51,
   "id": "c08676d6",
   "metadata": {},
   "outputs": [],
   "source": [
    "a = 14*90\n",
    "b = 117*9\n",
    "c = \"9**7\"\n",
    "d = 2**14 - 14**2\n",
    "e = \"4**3**2\""
   ]
  },
  {
   "cell_type": "code",
   "execution_count": 52,
   "id": "83eedf16",
   "metadata": {},
   "outputs": [
    {
     "ename": "TypeError",
     "evalue": "'<' not supported between instances of 'str' and 'int'",
     "output_type": "error",
     "traceback": [
      "\u001b[0;31m---------------------------------------------------------------------------\u001b[0m",
      "\u001b[0;31mTypeError\u001b[0m                                 Traceback (most recent call last)",
      "Cell \u001b[0;32mIn[52], line 1\u001b[0m\n\u001b[0;32m----> 1\u001b[0m \u001b[38;5;28mprint\u001b[39m(\u001b[38;5;28;43mmin\u001b[39;49m\u001b[43m(\u001b[49m\u001b[43ma\u001b[49m\u001b[43m,\u001b[49m\u001b[43mb\u001b[49m\u001b[43m,\u001b[49m\u001b[43mc\u001b[49m\u001b[43m,\u001b[49m\u001b[43md\u001b[49m\u001b[43m,\u001b[49m\u001b[43me\u001b[49m\u001b[43m)\u001b[49m, \u001b[38;5;28mmax\u001b[39m(a,b,c,d,e))\n",
      "\u001b[0;31mTypeError\u001b[0m: '<' not supported between instances of 'str' and 'int'"
     ]
    }
   ],
   "source": [
    "print(min(a,b,c,d,e), max(a,b,c,d,e))"
   ]
  },
  {
   "cell_type": "markdown",
   "id": "baa6dc99",
   "metadata": {},
   "source": [
    "Les fonctions `min` et `max` ne sont pas définies pour des types mixtes"
   ]
  },
  {
   "cell_type": "markdown",
   "id": "390f93e2",
   "metadata": {},
   "source": [
    "<b><font color='white' style='background-color:green'>3.1.d</font></b> Regardons plus attentivement le message d'erreur obtenu : qu'est-ce qu'il dit exactement ? Quelle relation porrait-il avoir avec la commande qui a échouée ?"
   ]
  },
  {
   "cell_type": "markdown",
   "id": "8fd7cc0e",
   "metadata": {},
   "source": [
    "C'est en fait l'opérateur `<` qui échoue. La fonction `min` doit s'en servir pour chercher le minimum."
   ]
  },
  {
   "cell_type": "markdown",
   "id": "4a5d5885",
   "metadata": {},
   "source": [
    "<b><font color='white' style='background-color:green'>3.1.e</font></b> A la lumière de ce qu'on a découvert sur les fonctions minimum et maximum, que sera-t-il affiché par le code suivant ? Repondez, puis écrivez et lancez le code dans la boîte qui suit. C'était le comportement attendu ?\n",
    "\n",
    "```python\n",
    "a = 'Dans'\n",
    "b = 'la'\n",
    "c = 'vallée'\n",
    "print(min(a, b, c))\n",
    "```"
   ]
  },
  {
   "cell_type": "markdown",
   "id": "f42ed45c",
   "metadata": {},
   "source": [
    "Il va renvoyer l'un des trois mots, sans échouer"
   ]
  },
  {
   "cell_type": "code",
   "execution_count": 53,
   "id": "e7a44d91",
   "metadata": {},
   "outputs": [
    {
     "name": "stdout",
     "output_type": "stream",
     "text": [
      "Dans\n"
     ]
    }
   ],
   "source": [
    "a = 'Dans'\n",
    "b = 'la'\n",
    "c = 'vallée'\n",
    "print(min(a, b, c))"
   ]
  },
  {
   "cell_type": "markdown",
   "id": "1bcbb771",
   "metadata": {},
   "source": [
    "<b><font color='white' style='background-color:blue'>3.1.f</font></b> Faites des tests avec la fonction `abs`: que fait-elle? Combien de paramètres admet-elle? De quel type? Expliquez "
   ]
  },
  {
   "cell_type": "code",
   "execution_count": 54,
   "id": "ad100b3d",
   "metadata": {},
   "outputs": [
    {
     "data": {
      "text/plain": [
       "10"
      ]
     },
     "execution_count": 54,
     "metadata": {},
     "output_type": "execute_result"
    }
   ],
   "source": [
    "abs(-10)"
   ]
  },
  {
   "cell_type": "code",
   "execution_count": 55,
   "id": "ee6c9d0f",
   "metadata": {},
   "outputs": [
    {
     "ename": "TypeError",
     "evalue": "abs() takes exactly one argument (3 given)",
     "output_type": "error",
     "traceback": [
      "\u001b[0;31m---------------------------------------------------------------------------\u001b[0m",
      "\u001b[0;31mTypeError\u001b[0m                                 Traceback (most recent call last)",
      "Cell \u001b[0;32mIn[55], line 1\u001b[0m\n\u001b[0;32m----> 1\u001b[0m \u001b[38;5;28;43mabs\u001b[39;49m\u001b[43m(\u001b[49m\u001b[38;5;241;43m3.14\u001b[39;49m\u001b[43m,\u001b[49m\u001b[43m \u001b[49m\u001b[38;5;241;43m-\u001b[39;49m\u001b[38;5;241;43m10\u001b[39;49m\u001b[43m,\u001b[49m\u001b[43m \u001b[49m\u001b[38;5;241;43m-\u001b[39;49m\u001b[38;5;241;43m5\u001b[39;49m\u001b[43m)\u001b[49m\n",
      "\u001b[0;31mTypeError\u001b[0m: abs() takes exactly one argument (3 given)"
     ]
    }
   ],
   "source": [
    "abs(3.14, -10, -5)"
   ]
  },
  {
   "cell_type": "code",
   "execution_count": 56,
   "id": "4cf6f5c9",
   "metadata": {},
   "outputs": [
    {
     "ename": "TypeError",
     "evalue": "bad operand type for abs(): 'str'",
     "output_type": "error",
     "traceback": [
      "\u001b[0;31m---------------------------------------------------------------------------\u001b[0m",
      "\u001b[0;31mTypeError\u001b[0m                                 Traceback (most recent call last)",
      "Cell \u001b[0;32mIn[56], line 1\u001b[0m\n\u001b[0;32m----> 1\u001b[0m \u001b[38;5;28;43mabs\u001b[39;49m\u001b[43m(\u001b[49m\u001b[38;5;124;43m'\u001b[39;49m\u001b[38;5;124;43mpingouin\u001b[39;49m\u001b[38;5;124;43m'\u001b[39;49m\u001b[43m)\u001b[49m\n",
      "\u001b[0;31mTypeError\u001b[0m: bad operand type for abs(): 'str'"
     ]
    }
   ],
   "source": [
    "abs('pingouin')"
   ]
  },
  {
   "cell_type": "markdown",
   "id": "371ba40e",
   "metadata": {},
   "source": [
    "La fonction `abs` prend un paramètre en entrée. Ce paramètre doit être un nombre (int ou float). La fonction renvoie la valeur absolue du nombre en entrée."
   ]
  },
  {
   "cell_type": "markdown",
   "id": "54042668",
   "metadata": {},
   "source": [
    "<b><font color='white' style='background-color:blue'>3.1.g</font></b> Affichez le type du résultat de `print(4)`. Qu'est-ce que cela signifie? Expliquez."
   ]
  },
  {
   "cell_type": "code",
   "execution_count": 57,
   "id": "cf6bf672",
   "metadata": {},
   "outputs": [
    {
     "name": "stdout",
     "output_type": "stream",
     "text": [
      "4\n"
     ]
    },
    {
     "data": {
      "text/plain": [
       "NoneType"
      ]
     },
     "execution_count": 57,
     "metadata": {},
     "output_type": "execute_result"
    }
   ],
   "source": [
    "type(print(4))"
   ]
  },
  {
   "cell_type": "markdown",
   "id": "070e8df6",
   "metadata": {},
   "source": [
    "La fonction `print` affiche l'entier 4, mais elle ne rend aucun résultat. Puisque en Python chaque fonction rend un résultat, `print` rend quand même une valeur `None`, qui est de type `NoneType`"
   ]
  },
  {
   "cell_type": "markdown",
   "id": "145ba5f6",
   "metadata": {},
   "source": [
    "<b><font color='white' style='background-color:black'>Ex. 3.2</font> Importer des fonctions</b><a class='anchor' id='importer'></a><br>\n",
    "Grâce à son énorme communauté d'utilisateurs, Python a beaucoup de bibliothèques de fonctions. La commande `import` nous permet d'utiliser des fonctions dans des bibliothèques qui ne sont pas la bibliothèque standard.\n",
    "\n",
    "```python\n",
    "from math import cos    # Importer la fonction cos (cosinus) depuis la bibliothèque math\n",
    "\n",
    "print(cos(0))\n",
    "```\n",
    "\n",
    "On peut aussi obtenir le même résultat en important toute la bibliothèque et ensuite en appellant `nom_bibliothèque.fonction` au lieu que la fonction:\n",
    "\n",
    "```python\n",
    "import math    # Importer la bibliothèque math\n",
    "\n",
    "print(math.cos(0))   # Même résultat!\n",
    "```\n",
    "\n",
    "Pour avoir quelques infos sur l'usage d'une fonction, vous pouvez taper\n",
    "\n",
    "```python\n",
    "help(cos)    # help est une fonction préféfinie standard!\n",
    "```"
   ]
  },
  {
   "cell_type": "markdown",
   "id": "b3231277",
   "metadata": {},
   "source": [
    "<b><font color='white' style='background-color:orange'>3.2.a</font></b> Importez la fonction `exp` depuis la bibliothèque `math` et calculez $e^{10}$"
   ]
  },
  {
   "cell_type": "code",
   "execution_count": 58,
   "id": "e0d533b4",
   "metadata": {},
   "outputs": [
    {
     "name": "stdout",
     "output_type": "stream",
     "text": [
      "22026.465794806718\n"
     ]
    }
   ],
   "source": [
    "from math import exp\n",
    "\n",
    "print(exp(10))"
   ]
  },
  {
   "cell_type": "markdown",
   "id": "751bedce",
   "metadata": {},
   "source": [
    "<b><font color='white' style='background-color:orange'>3.2.b</font></b> Par la même bibliothèque, importez la fonction `log` et contrôlez que $\\log(e^{4})$ est bien 4."
   ]
  },
  {
   "cell_type": "code",
   "execution_count": 59,
   "id": "4ff5a1e9",
   "metadata": {},
   "outputs": [
    {
     "name": "stdout",
     "output_type": "stream",
     "text": [
      "4.0\n"
     ]
    }
   ],
   "source": [
    "from math import log\n",
    "\n",
    "print(log(exp(4)))"
   ]
  },
  {
   "cell_type": "markdown",
   "id": "e8cf5560",
   "metadata": {},
   "source": [
    "<b><font color='white' style='background-color:green'>3.2.c</font></b> Par la bibliothèque `random`, importez la fonction `randint`. Cette fonction génère un entier aléatoire entre deux entiers donnés : vous trouverez la spécification de cette fonction dans la [documentation officielle](https://docs.python.org/3/library/random.html) et quelques infos en écrivant `help(randint)` dans une boîte de code. Avec cette fonction, générez un entier entre 50 et 170."
   ]
  },
  {
   "cell_type": "code",
   "execution_count": 60,
   "id": "f783440d",
   "metadata": {},
   "outputs": [
    {
     "name": "stdout",
     "output_type": "stream",
     "text": [
      "131\n"
     ]
    }
   ],
   "source": [
    "from random import randint\n",
    "\n",
    "print(randint(50,170))"
   ]
  },
  {
   "cell_type": "markdown",
   "id": "da9b8c83",
   "metadata": {},
   "source": [
    "<b><font color='white' style='background-color:green'>3.2.d</font></b> Python a vraiment beaucoup de bibliothèques : explorons un peu. Par la bibliothèque `emoji`, importez la fonction `emojize` et affichez le résultat de cette ligne de code: `emoji.emojize('Python is :thumbs_up:')` "
   ]
  },
  {
   "cell_type": "code",
   "execution_count": 61,
   "id": "da5934d8",
   "metadata": {},
   "outputs": [
    {
     "name": "stdout",
     "output_type": "stream",
     "text": [
      "Requirement already satisfied: emoji in /usr/local/Cellar/jupyterlab/3.4.8/libexec/lib/python3.10/site-packages (2.7.0)\n",
      "\n",
      "\u001b[1m[\u001b[0m\u001b[34;49mnotice\u001b[0m\u001b[1;39;49m]\u001b[0m\u001b[39;49m A new release of pip available: \u001b[0m\u001b[31;49m22.2.2\u001b[0m\u001b[39;49m -> \u001b[0m\u001b[32;49m23.2.1\u001b[0m\n",
      "\u001b[1m[\u001b[0m\u001b[34;49mnotice\u001b[0m\u001b[1;39;49m]\u001b[0m\u001b[39;49m To update, run: \u001b[0m\u001b[32;49m/usr/local/Cellar/jupyterlab/3.4.8/libexec/bin/python3.10 -m pip install --upgrade pip\u001b[0m\n",
      "Note: you may need to restart the kernel to use updated packages.\n"
     ]
    }
   ],
   "source": [
    "%pip install emoji    # Cette ligne est une \"commande magique\" de Python\n",
    "                      # Installe la bibliothèque si votre ordinateur ne l'a pas\n",
    "                      # (on ne l'a pas fait avec les autres car elles sont très communes)"
   ]
  },
  {
   "cell_type": "code",
   "execution_count": 62,
   "id": "69f057b9",
   "metadata": {},
   "outputs": [
    {
     "name": "stdout",
     "output_type": "stream",
     "text": [
      "Python is 👍\n"
     ]
    }
   ],
   "source": [
    "import emoji\n",
    "\n",
    "print(emoji.emojize('Python is :thumbs_up:'))"
   ]
  },
  {
   "cell_type": "markdown",
   "id": "3420e76a",
   "metadata": {},
   "source": [
    "<b><font color='white' style='background-color:blue'>3.2.e</font></b> Essayons encore, cette fois avec un outil plus compliqué. Exécutez les deux cases ci-dessous, et observez. Savez-vous dire à peu près ce qui se passe? Expliquez dans la boîte en dessous."
   ]
  },
  {
   "cell_type": "code",
   "execution_count": 63,
   "id": "952ee121",
   "metadata": {},
   "outputs": [
    {
     "name": "stdout",
     "output_type": "stream",
     "text": [
      "Requirement already satisfied: py3dmol in /usr/local/Cellar/jupyterlab/3.4.8/libexec/lib/python3.10/site-packages (2.0.3)\n",
      "\n",
      "\u001b[1m[\u001b[0m\u001b[34;49mnotice\u001b[0m\u001b[1;39;49m]\u001b[0m\u001b[39;49m A new release of pip available: \u001b[0m\u001b[31;49m22.2.2\u001b[0m\u001b[39;49m -> \u001b[0m\u001b[32;49m23.2.1\u001b[0m\n",
      "\u001b[1m[\u001b[0m\u001b[34;49mnotice\u001b[0m\u001b[1;39;49m]\u001b[0m\u001b[39;49m To update, run: \u001b[0m\u001b[32;49m/usr/local/Cellar/jupyterlab/3.4.8/libexec/bin/python3.10 -m pip install --upgrade pip\u001b[0m\n",
      "Note: you may need to restart the kernel to use updated packages.\n"
     ]
    }
   ],
   "source": [
    "%pip install py3dmol    # Encore la commande magique !"
   ]
  },
  {
   "cell_type": "code",
   "execution_count": 64,
   "id": "2c8b26e6",
   "metadata": {
    "scrolled": true
   },
   "outputs": [
    {
     "data": {
      "application/3dmoljs_load.v0": "<div id=\"3dmolviewer_1690758333136611\"  style=\"position: relative; width: 640px; height: 480px;\">\n        <p id=\"3dmolwarning_1690758333136611\" style=\"background-color:#ffcccc;color:black\">You appear to be running in JupyterLab (or JavaScript failed to load for some other reason).  You need to install the 3dmol extension: <br>\n        <tt>jupyter labextension install jupyterlab_3dmol</tt></p>\n        </div>\n<script>\n\nvar loadScriptAsync = function(uri){\n  return new Promise((resolve, reject) => {\n    //this is to ignore the existence of requirejs amd\n    var savedexports, savedmodule;\n    if (typeof exports !== 'undefined') savedexports = exports;\n    else exports = {}\n    if (typeof module !== 'undefined') savedmodule = module;\n    else module = {}\n\n    var tag = document.createElement('script');\n    tag.src = uri;\n    tag.async = true;\n    tag.onload = () => {\n        exports = savedexports;\n        module = savedmodule;\n        resolve();\n    };\n  var firstScriptTag = document.getElementsByTagName('script')[0];\n  firstScriptTag.parentNode.insertBefore(tag, firstScriptTag);\n});\n};\n\nif(typeof $3Dmolpromise === 'undefined') {\n$3Dmolpromise = null;\n  $3Dmolpromise = loadScriptAsync('https://cdnjs.cloudflare.com/ajax/libs/3Dmol/2.0.3/3Dmol-min.js');\n}\n\nvar viewer_1690758333136611 = null;\nvar warn = document.getElementById(\"3dmolwarning_1690758333136611\");\nif(warn) {\n    warn.parentNode.removeChild(warn);\n}\n$3Dmolpromise.then(function() {\nviewer_1690758333136611 = $3Dmol.createViewer(document.getElementById(\"3dmolviewer_1690758333136611\"),{backgroundColor:\"white\"});\n$3Dmol.download(\"pdb:1hvr\", viewer_1690758333136611, {}, function() {\nviewer_1690758333136611.zoomTo();\n\tviewer_1690758333136611.setStyle({\"cartoon\": {\"color\": \"spectrum\"}});\nviewer_1690758333136611.render();\n})\n});\n</script>",
      "text/html": [
       "<div id=\"3dmolviewer_1690758333136611\"  style=\"position: relative; width: 640px; height: 480px;\">\n",
       "        <p id=\"3dmolwarning_1690758333136611\" style=\"background-color:#ffcccc;color:black\">You appear to be running in JupyterLab (or JavaScript failed to load for some other reason).  You need to install the 3dmol extension: <br>\n",
       "        <tt>jupyter labextension install jupyterlab_3dmol</tt></p>\n",
       "        </div>\n",
       "<script>\n",
       "\n",
       "var loadScriptAsync = function(uri){\n",
       "  return new Promise((resolve, reject) => {\n",
       "    //this is to ignore the existence of requirejs amd\n",
       "    var savedexports, savedmodule;\n",
       "    if (typeof exports !== 'undefined') savedexports = exports;\n",
       "    else exports = {}\n",
       "    if (typeof module !== 'undefined') savedmodule = module;\n",
       "    else module = {}\n",
       "\n",
       "    var tag = document.createElement('script');\n",
       "    tag.src = uri;\n",
       "    tag.async = true;\n",
       "    tag.onload = () => {\n",
       "        exports = savedexports;\n",
       "        module = savedmodule;\n",
       "        resolve();\n",
       "    };\n",
       "  var firstScriptTag = document.getElementsByTagName('script')[0];\n",
       "  firstScriptTag.parentNode.insertBefore(tag, firstScriptTag);\n",
       "});\n",
       "};\n",
       "\n",
       "if(typeof $3Dmolpromise === 'undefined') {\n",
       "$3Dmolpromise = null;\n",
       "  $3Dmolpromise = loadScriptAsync('https://cdnjs.cloudflare.com/ajax/libs/3Dmol/2.0.3/3Dmol-min.js');\n",
       "}\n",
       "\n",
       "var viewer_1690758333136611 = null;\n",
       "var warn = document.getElementById(\"3dmolwarning_1690758333136611\");\n",
       "if(warn) {\n",
       "    warn.parentNode.removeChild(warn);\n",
       "}\n",
       "$3Dmolpromise.then(function() {\n",
       "viewer_1690758333136611 = $3Dmol.createViewer(document.getElementById(\"3dmolviewer_1690758333136611\"),{backgroundColor:\"white\"});\n",
       "$3Dmol.download(\"pdb:1hvr\", viewer_1690758333136611, {}, function() {\n",
       "viewer_1690758333136611.zoomTo();\n",
       "\tviewer_1690758333136611.setStyle({\"cartoon\": {\"color\": \"spectrum\"}});\n",
       "viewer_1690758333136611.render();\n",
       "})\n",
       "});\n",
       "</script>"
      ]
     },
     "metadata": {},
     "output_type": "display_data"
    },
    {
     "data": {
      "text/plain": [
       "<py3Dmol.view at 0x10ebfeef0>"
      ]
     },
     "execution_count": 64,
     "metadata": {},
     "output_type": "execute_result"
    }
   ],
   "source": [
    "import py3Dmol\n",
    "view = py3Dmol.view(query='pdb:1hvr')\n",
    "view.setStyle({'cartoon':{'color':'spectrum'}})\n",
    "view"
   ]
  },
  {
   "cell_type": "markdown",
   "id": "fe90b8cf",
   "metadata": {},
   "source": []
  },
  {
   "cell_type": "markdown",
   "id": "d296d9bd",
   "metadata": {},
   "source": [
    "<b><font color='white' style='background-color:black'>Ex. 3.3</font> Définir et utiliser ses propres fonctions</b><a class='anchor' id='définir'></a><br>\n",
    "Définir et utiliser ses propres fonctions est fondamental pour programmer : ça permet de réutiliser son code à des différents endroits en l'appliquant à des différentes données.\n",
    "La syntaxe de base est:\n",
    "\n",
    "```python\n",
    "def surface_triangle(base, hauteur):   # Déclarer le nom de la fonction et de tous les paramètres en entrée\n",
    "    # Ecrire le code avec une suite d'instructions\n",
    "    res = base*hauteur/2\n",
    "    \n",
    "    # Conclure en rendant le résultat\n",
    "    return res\n",
    "```\n",
    "\n",
    "Si on n'a pas besoin, on peut aussi ne rendre aucun resultat. Dans ce cas, la fonction rendra implicitement la valeur `None`.\n",
    "Pour appliquer la fonction, après l'avoir définie, il suffira de l'appeler avec un jeu de paramètres compatibles:\n",
    "\n",
    "```python\n",
    "print(surface_triangle(4,5))     # ça va afficher 10\n",
    "```"
   ]
  },
  {
   "cell_type": "markdown",
   "id": "fcede9bf",
   "metadata": {},
   "source": [
    "<b><font color='white' style='background-color:orange'>3.3.a</font></b> Définissez une fonction nommée `carré` qui prend en entrée un nombre et qui renvoie son carré."
   ]
  },
  {
   "cell_type": "code",
   "execution_count": 65,
   "id": "10eeb5d4",
   "metadata": {},
   "outputs": [],
   "source": [
    "def carré(n):\n",
    "    res = n*n   # ou res = n**2\n",
    "    return res"
   ]
  },
  {
   "cell_type": "markdown",
   "id": "ef3df628",
   "metadata": {},
   "source": [
    "<b><font color='white' style='background-color:orange'>3.3.b</font></b> Il est important de toujours tester ses fonctions avec un jeu de test, pour s'assurer qu'elles rendent le bon résultat. Essayez à appliquer votre `carré` aux variables définies de suite."
   ]
  },
  {
   "cell_type": "code",
   "execution_count": 66,
   "id": "44837b58",
   "metadata": {},
   "outputs": [
    {
     "data": {
      "text/plain": [
       "16"
      ]
     },
     "execution_count": 66,
     "metadata": {},
     "output_type": "execute_result"
    }
   ],
   "source": [
    "a = 4     # Quel est le résultat attendu ?\n",
    "# Appliquez votre fonction ici !\n",
    "carré(a)"
   ]
  },
  {
   "cell_type": "code",
   "execution_count": 67,
   "id": "14d81df2",
   "metadata": {},
   "outputs": [
    {
     "data": {
      "text/plain": [
       "100"
      ]
     },
     "execution_count": 67,
     "metadata": {},
     "output_type": "execute_result"
    }
   ],
   "source": [
    "num = -10     # Quel est le résultat attendu ?\n",
    "# Appliquez votre fonction ici !\n",
    "carré(num)"
   ]
  },
  {
   "cell_type": "code",
   "execution_count": 68,
   "id": "4885a62e",
   "metadata": {},
   "outputs": [
    {
     "ename": "TypeError",
     "evalue": "can't multiply sequence by non-int of type 'str'",
     "output_type": "error",
     "traceback": [
      "\u001b[0;31m---------------------------------------------------------------------------\u001b[0m",
      "\u001b[0;31mTypeError\u001b[0m                                 Traceback (most recent call last)",
      "Cell \u001b[0;32mIn[68], line 3\u001b[0m\n\u001b[1;32m      1\u001b[0m mot \u001b[38;5;241m=\u001b[39m \u001b[38;5;124m'\u001b[39m\u001b[38;5;124mracine\u001b[39m\u001b[38;5;124m'\u001b[39m     \u001b[38;5;66;03m# Quel est le résultat attendu ?\u001b[39;00m\n\u001b[1;32m      2\u001b[0m \u001b[38;5;66;03m# Appliquez votre fonction ici !\u001b[39;00m\n\u001b[0;32m----> 3\u001b[0m \u001b[43mcarré\u001b[49m\u001b[43m(\u001b[49m\u001b[43mmot\u001b[49m\u001b[43m)\u001b[49m\n",
      "Cell \u001b[0;32mIn[65], line 2\u001b[0m, in \u001b[0;36mcarré\u001b[0;34m(n)\u001b[0m\n\u001b[1;32m      1\u001b[0m \u001b[38;5;28;01mdef\u001b[39;00m \u001b[38;5;21mcarré\u001b[39m(n):\n\u001b[0;32m----> 2\u001b[0m     res \u001b[38;5;241m=\u001b[39m \u001b[43mn\u001b[49m\u001b[38;5;241;43m*\u001b[39;49m\u001b[43mn\u001b[49m   \u001b[38;5;66;03m# ou res = n**2\u001b[39;00m\n\u001b[1;32m      3\u001b[0m     \u001b[38;5;28;01mreturn\u001b[39;00m res\n",
      "\u001b[0;31mTypeError\u001b[0m: can't multiply sequence by non-int of type 'str'"
     ]
    }
   ],
   "source": [
    "mot = 'racine'     # Quel est le résultat attendu ?\n",
    "# Appliquez votre fonction ici !\n",
    "carré(mot)"
   ]
  },
  {
   "cell_type": "markdown",
   "id": "a9e5abb5",
   "metadata": {},
   "source": [
    "<b><font color='white' style='background-color:orange'>3.3.c</font></b> Une bonne pratique pour tester ses fonctions c'est d'utiliser l'instruction `assert`. Cette instruction permet de comparer le résultat de la fonction avec un résultat attendu, tout comme l'a fait \"à la main\" dans l'exercice 3.3.b. Si la comparaison réussie, `assert` ne produit aucune sortie, sinon il produit une erreur qui arrête l'exécution.<br>\n",
    "Testez la fonction `min` avec `assert`: testez si le minimum entre 2 et 3 est 2, et si le minimum entre 10 et 20 est 15"
   ]
  },
  {
   "cell_type": "code",
   "execution_count": null,
   "id": "078e95b1",
   "metadata": {},
   "outputs": [],
   "source": [
    "assert min(2,3) == 2"
   ]
  },
  {
   "cell_type": "code",
   "execution_count": null,
   "id": "52df2fac",
   "metadata": {},
   "outputs": [],
   "source": [
    "assert min(10,20) == 15"
   ]
  },
  {
   "cell_type": "markdown",
   "id": "bf20d571",
   "metadata": {},
   "source": [
    "<b><font color='white' style='background-color:green'>3.3.d</font></b> Créez une fonction `expsum` qui prend deux entiers non-négatifs $a$ et $b$ et calcule $2^a + 2^b$. Dans la deuxième boîte, créez un jeu de test complet avec au moins trois `assert`. "
   ]
  },
  {
   "cell_type": "code",
   "execution_count": 69,
   "id": "db8dc042",
   "metadata": {},
   "outputs": [],
   "source": [
    "def expsum(a, b):\n",
    "    res = 2**a + 2**b\n",
    "    return res"
   ]
  },
  {
   "cell_type": "code",
   "execution_count": 70,
   "id": "e5264df4",
   "metadata": {},
   "outputs": [],
   "source": [
    "assert expsum(0,0) == 2\n",
    "assert expsum(1,1) == 4\n",
    "assert expsum(2,3) == 12"
   ]
  },
  {
   "cell_type": "markdown",
   "id": "e8fad582",
   "metadata": {},
   "source": [
    "<b><font color='white' style='background-color:green'>3.3.e</font></b> La fonction `combien_segondes`devrait calculer le nombre de segondes totales si on rentre un nombre d'heures `h`, minutes `m` et segondes `s`. Pourtant, il y a quelque chose qui ne marche pas. Trouvez les erreurs (sans changer les `assert` !) et assurez-vous que tout marche bien"
   ]
  },
  {
   "cell_type": "code",
   "execution_count": 71,
   "id": "e5670b27",
   "metadata": {},
   "outputs": [
    {
     "ename": "SyntaxError",
     "evalue": "invalid syntax (4080454597.py, line 1)",
     "output_type": "error",
     "traceback": [
      "\u001b[0;36m  Cell \u001b[0;32mIn[71], line 1\u001b[0;36m\u001b[0m\n\u001b[0;31m    def combien_segondes(h m, s)\u001b[0m\n\u001b[0m                           ^\u001b[0m\n\u001b[0;31mSyntaxError\u001b[0m\u001b[0;31m:\u001b[0m invalid syntax\n"
     ]
    }
   ],
   "source": [
    "def combien_segondes(h m, s)\n",
    "    minutes = h*60 + m\n",
    "    segondes = minuttes*60 - s\n",
    "    return segondes"
   ]
  },
  {
   "cell_type": "code",
   "execution_count": 72,
   "id": "32fb4b9e",
   "metadata": {},
   "outputs": [
    {
     "ename": "NameError",
     "evalue": "name 'combien_segondes' is not defined",
     "output_type": "error",
     "traceback": [
      "\u001b[0;31m---------------------------------------------------------------------------\u001b[0m",
      "\u001b[0;31mNameError\u001b[0m                                 Traceback (most recent call last)",
      "Cell \u001b[0;32mIn[72], line 1\u001b[0m\n\u001b[0;32m----> 1\u001b[0m \u001b[38;5;28;01massert\u001b[39;00m \u001b[43mcombien_segondes\u001b[49m(\u001b[38;5;241m0\u001b[39m,\u001b[38;5;241m0\u001b[39m,\u001b[38;5;241m0\u001b[39m) \u001b[38;5;241m==\u001b[39m \u001b[38;5;241m0\u001b[39m\n\u001b[1;32m      2\u001b[0m \u001b[38;5;28;01massert\u001b[39;00m combien_segondes(\u001b[38;5;241m0\u001b[39m,\u001b[38;5;241m0\u001b[39m,\u001b[38;5;241m10\u001b[39m) \u001b[38;5;241m==\u001b[39m \u001b[38;5;241m10\u001b[39m\n\u001b[1;32m      3\u001b[0m \u001b[38;5;28;01massert\u001b[39;00m combien_segondes(\u001b[38;5;241m0\u001b[39m,\u001b[38;5;241m1\u001b[39m,\u001b[38;5;241m0\u001b[39m) \u001b[38;5;241m==\u001b[39m \u001b[38;5;241m60\u001b[39m\n",
      "\u001b[0;31mNameError\u001b[0m: name 'combien_segondes' is not defined"
     ]
    }
   ],
   "source": [
    "assert combien_segondes(0,0,0) == 0\n",
    "assert combien_segondes(0,0,10) == 10\n",
    "assert combien_segondes(0,1,0) == 60\n",
    "assert combien_segondes(1,0,0) == 3600"
   ]
  },
  {
   "cell_type": "markdown",
   "id": "77aba5ff",
   "metadata": {},
   "source": [
    "<b><font color='white' style='background-color:blue'>3.3.f</font></b> Vous aimez jouer à Donjons & Dragons avec vos amis, mais hélas, vous n'avez pas de dés. Ecrivez une fonction `tirage_caractéristique` qui lance 4 dés à six faces, somme les résultats et enlève la valeur minimale obtenue par l'un des  dés. Rappelez-vous des bibliothèques qu'on a vues !<br> _Exemple: Anne lance les dés et obtient 5, 6, 2, 3. Le résultat sera 5 + 6 + 3 + 2 - 2 = 14. Un bon résultat !_"
   ]
  },
  {
   "cell_type": "code",
   "execution_count": 73,
   "id": "9b74857e",
   "metadata": {},
   "outputs": [],
   "source": [
    "def tirage_caractéristique():\n",
    "    from random import randint\n",
    "    a = randint(1,6)\n",
    "    b = randint(1,6)\n",
    "    c = randint(1,6)\n",
    "    d = randint(1,6)\n",
    "    m = min(a,b,c,d)\n",
    "    res = a + b + c + d - m\n",
    "    return res"
   ]
  },
  {
   "cell_type": "code",
   "execution_count": 74,
   "id": "5863849b",
   "metadata": {},
   "outputs": [
    {
     "data": {
      "text/plain": [
       "9"
      ]
     },
     "execution_count": 74,
     "metadata": {},
     "output_type": "execute_result"
    }
   ],
   "source": [
    "tirage_caractéristique()"
   ]
  },
  {
   "cell_type": "markdown",
   "id": "c452f6a9",
   "metadata": {},
   "source": [
    "<b><font color='white' style='background-color:blue'>3.3.f-bis</font></b> Mais comment tester une fonction qui utilise des valeurs aléatoires? Si vous avez des idées, écrivez votre réponse ci-dessous... sinon, on en reparlera dans quelques épisodes !"
   ]
  },
  {
   "cell_type": "code",
   "execution_count": null,
   "id": "5801ea81",
   "metadata": {},
   "outputs": [],
   "source": []
  },
  {
   "cell_type": "markdown",
   "id": "a1f04a5b",
   "metadata": {},
   "source": [
    "<b><font color='white' style='background-color:blue'>3.3.g</font></b> Prenez l'exercice 1.2.e sur le coût des plaques à 96 puits et rendez-le une fonction `cout_plaques` qui prend en entrée le nombre de puits souhaités `p` et le coût d'une plaque `c`, et rend le cout. Dans la deuxième boîte, créez un jeu de tests avec au moins 5 `assert` pour tester tous les cas d'usage de la fonction."
   ]
  },
  {
   "cell_type": "code",
   "execution_count": 75,
   "id": "df224d2b",
   "metadata": {},
   "outputs": [],
   "source": [
    "def cout_plaques(p, c):\n",
    "    res = ((p-1)//96 + 1)*c\n",
    "    return res"
   ]
  },
  {
   "cell_type": "code",
   "execution_count": 76,
   "id": "721387c5",
   "metadata": {},
   "outputs": [],
   "source": [
    "assert cout_plaques(0,0) == 0\n",
    "assert cout_plaques(96,1) == 1\n",
    "assert cout_plaques(95,1) == 1\n",
    "assert cout_plaques(97,1) == 2\n",
    "assert cout_plaques(96,100) == 100"
   ]
  },
  {
   "cell_type": "markdown",
   "id": "04f4e035",
   "metadata": {},
   "source": [
    "<b><font color='white' style='background-color:blue'>3.3.g-bis</font></b> Etes-vous sûrs d'avoir bien fait l'exercice `3.3.f`? Avez-vous contrôlé le coût pour 96 puits ? Et pour 97 ?"
   ]
  },
  {
   "cell_type": "code",
   "execution_count": 77,
   "id": "a7a22d22",
   "metadata": {},
   "outputs": [],
   "source": [
    "assert cout_plaques(96,1) == 1\n",
    "assert cout_plaques(97,1) == 2"
   ]
  },
  {
   "cell_type": "markdown",
   "id": "aee57b20",
   "metadata": {},
   "source": [
    "<h3>4. Tests</h3><a class='anchor' id='tests'></a>\n",
    "<b><font color='white' style='background-color:black'>Ex. 4.1</font> Comparaisons</b><a class='anchor' id='comparaisons'></a><br>\n",
    "On a déjà vu un premier type de comparaison en utilisant `assert`. Les opérateurs de comparaison sont:\n",
    "\n",
    "```python\n",
    "==    # égale à\n",
    "!=    # inégale à\n",
    ">     # supérieur à\n",
    "<     # inférieur à\n",
    ">=    # supérieur ou égale à\n",
    "<=    # inférieur ou égale à\n",
    "```\n",
    "\n",
    "Les tests rendent toujours un booléen : `True` ou `False`"
   ]
  },
  {
   "cell_type": "code",
   "execution_count": 78,
   "id": "1747b41b",
   "metadata": {},
   "outputs": [
    {
     "data": {
      "text/plain": [
       "False"
      ]
     },
     "execution_count": 78,
     "metadata": {},
     "output_type": "execute_result"
    }
   ],
   "source": [
    "# Exemple\n",
    "2 + 2 == 5"
   ]
  },
  {
   "cell_type": "markdown",
   "id": "7c947b49",
   "metadata": {},
   "source": [
    "<b><font color='white' style='background-color:orange'>4.1.a</font></b> Demandez à Python pour savoir si les égalités ou inégalité suivantes sont vraies :"
   ]
  },
  {
   "cell_type": "markdown",
   "id": "161b90a7",
   "metadata": {},
   "source": [
    "$3 \\times 5 = 5 + 17$"
   ]
  },
  {
   "cell_type": "code",
   "execution_count": 79,
   "id": "254f0915",
   "metadata": {},
   "outputs": [
    {
     "data": {
      "text/plain": [
       "False"
      ]
     },
     "execution_count": 79,
     "metadata": {},
     "output_type": "execute_result"
    }
   ],
   "source": [
    "3*5 == 5 + 17"
   ]
  },
  {
   "cell_type": "markdown",
   "id": "1db544fe",
   "metadata": {},
   "source": [
    "$24 + 8 \\times 2 + 2 \\neq 42$"
   ]
  },
  {
   "cell_type": "code",
   "execution_count": 80,
   "id": "14dc9a52",
   "metadata": {},
   "outputs": [
    {
     "data": {
      "text/plain": [
       "False"
      ]
     },
     "execution_count": 80,
     "metadata": {},
     "output_type": "execute_result"
    }
   ],
   "source": [
    "24 + 8*2 + 2 != 42"
   ]
  },
  {
   "cell_type": "markdown",
   "id": "b566e081",
   "metadata": {},
   "source": [
    "$\\frac{3 + 9}{24} > \\frac{2 + 7}{19}$"
   ]
  },
  {
   "cell_type": "code",
   "execution_count": 81,
   "id": "3669a104",
   "metadata": {},
   "outputs": [
    {
     "data": {
      "text/plain": [
       "True"
      ]
     },
     "execution_count": 81,
     "metadata": {},
     "output_type": "execute_result"
    }
   ],
   "source": [
    "(3+9)/24 > (2+7)/19"
   ]
  },
  {
   "cell_type": "markdown",
   "id": "8aa43f91",
   "metadata": {},
   "source": [
    "<b><font color='white' style='background-color:orange'>4.1.b</font></b> Testez si la longueur du fameux mot de Mary Poppins `'Supercalifragilisticexpialidocious'` est supérieure à celle de sa traduction française `'Supercalifragilisticexpidélilicieux'`."
   ]
  },
  {
   "cell_type": "code",
   "execution_count": 82,
   "id": "b6dc114a",
   "metadata": {},
   "outputs": [
    {
     "data": {
      "text/plain": [
       "False"
      ]
     },
     "execution_count": 82,
     "metadata": {},
     "output_type": "execute_result"
    }
   ],
   "source": [
    "len('Supercalifragilisticexpialidocious') > len('Supercalifragilisticexpidélilicieux')"
   ]
  },
  {
   "cell_type": "markdown",
   "id": "8b21da50",
   "metadata": {},
   "source": [
    "<b><font color='white' style='background-color:orange'>4.1.c</font></b> Testez si c'est vrai que `4` et `4.0` sont égaux. Est-ce que `'Batman'` et `'batman'` le sont?"
   ]
  },
  {
   "cell_type": "code",
   "execution_count": 83,
   "id": "d8313d30",
   "metadata": {},
   "outputs": [
    {
     "data": {
      "text/plain": [
       "True"
      ]
     },
     "execution_count": 83,
     "metadata": {},
     "output_type": "execute_result"
    }
   ],
   "source": [
    "4 == 4.0"
   ]
  },
  {
   "cell_type": "markdown",
   "id": "fe4e5f0b",
   "metadata": {},
   "source": [
    "<b><font color='white' style='background-color:green'>4.1.d</font></b> Un triangle de côtés `6`, `8` et `10` est-il rectangle? Testez-le avec une comparaison adéquate"
   ]
  },
  {
   "cell_type": "code",
   "execution_count": 84,
   "id": "90f214d0",
   "metadata": {},
   "outputs": [
    {
     "data": {
      "text/plain": [
       "True"
      ]
     },
     "execution_count": 84,
     "metadata": {},
     "output_type": "execute_result"
    }
   ],
   "source": [
    "6**2 + 8**2 == 10**2"
   ]
  },
  {
   "cell_type": "markdown",
   "id": "ad2113e7",
   "metadata": {},
   "source": [
    "<b><font color='white' style='background-color:green'>4.1.e</font></b> On lance deux dés à six faces. Créez deux variables (aléatoires) `dé1` et `dé2` pour ces lancers. Affichez le résultat du test pour savoir si le `dé1` est supérieur ou égal au `dé2`"
   ]
  },
  {
   "cell_type": "code",
   "execution_count": 85,
   "id": "ae8aae46",
   "metadata": {},
   "outputs": [
    {
     "name": "stdout",
     "output_type": "stream",
     "text": [
      "False\n"
     ]
    }
   ],
   "source": [
    "from random import randint\n",
    "\n",
    "dé1 = randint(1,6)\n",
    "dé2 = randint(1,6)\n",
    "\n",
    "print(dé1 > dé2)"
   ]
  },
  {
   "cell_type": "markdown",
   "id": "f58aadb5",
   "metadata": {},
   "source": [
    "<b><font color='white' style='background-color:black'>Ex. 4.2</font> Flottants et précision</b><a class='anchor' id='flottants'></a><br>\n",
    "Python est toujours exacte sur les entiers, n'importe de quelle taille, même énorme (ce n'est pas le cas pour tous les langages !). Mais pour les flottants, ça change : aucun langage n'arrive à avoir précision infinie. On va voir ce que ça entraîne du côté pratique, et comment faire avec.<br> \n",
    "<b><font color='white' style='background-color:orange'>4.2.a</font></b> Exécutez les tests suivants :"
   ]
  },
  {
   "cell_type": "markdown",
   "id": "cdf51a68",
   "metadata": {},
   "source": [
    "$0.1 + 0.1 = 0.2$"
   ]
  },
  {
   "cell_type": "code",
   "execution_count": null,
   "id": "dc17fdbb",
   "metadata": {},
   "outputs": [],
   "source": []
  },
  {
   "cell_type": "markdown",
   "id": "4db43d71",
   "metadata": {},
   "source": [
    "$0.1 + 0.1 + 0.1  = 0.3$"
   ]
  },
  {
   "cell_type": "code",
   "execution_count": null,
   "id": "7092c298",
   "metadata": {},
   "outputs": [],
   "source": []
  },
  {
   "cell_type": "markdown",
   "id": "e31b5a00",
   "metadata": {},
   "source": [
    "$0.1 + 0.1 + 0.1 + 0.1 = 0.4$"
   ]
  },
  {
   "cell_type": "code",
   "execution_count": null,
   "id": "13498105",
   "metadata": {},
   "outputs": [],
   "source": []
  },
  {
   "cell_type": "markdown",
   "id": "d737bb98",
   "metadata": {},
   "source": [
    "<b><font color='white' style='background-color:blue'>4.2.b</font></b> Savez-vous expliquer la raison du comportement vu dans l'exercice 4.2.a ?"
   ]
  },
  {
   "cell_type": "markdown",
   "id": "980cd08f",
   "metadata": {},
   "source": [
    "C'est à cause de la perte de précision de la machine. Les nombres décimaux sont mappés en des nombres binaires qui les rapprochent au mieux : `0.1` est en fait `0.100000000000000005`, `0.2` est `0.200000000000000010`, `0.3` est `0.299999999999999988`. Donc Python cache les vrais nombres, mais enfin dit la vérité : `0.1 + 0.1 == 0.100000000000000005 + 0.100000000000000005 == 0.200000000000000010 == 0.2` alors que `0.1 + 0.1 + 0.1 == 0.300000000000000015 != 0.299999999999999988 == 0.3`"
   ]
  },
  {
   "cell_type": "markdown",
   "id": "28c03902",
   "metadata": {},
   "source": [
    "<b><font color='white' style='background-color:orange'>4.2.c</font></b> Utilisez la <a href=\"https://docs.python.org/3/library/functions.html\">fonction prédéfinie standard</a> `round` pour arrondir un nombre à virgule. Comme d'habitude en mathématiques, la fonction devrait arrondir vers le bas si la partie décimale est $\\lt 0.5$, et vers le haut si la partie décimale est $\\ge 0.5$, avec la possible exception de $0.5$ qui s'arrondit à 0 pour des exigences mathématiques. Trouvez au moins un autre nombre avec partie décimale `.5` qui est arrondi en bas au lieu qu'en haut."
   ]
  },
  {
   "cell_type": "code",
   "execution_count": 86,
   "id": "a644b808",
   "metadata": {},
   "outputs": [
    {
     "data": {
      "text/plain": [
       "4"
      ]
     },
     "execution_count": 86,
     "metadata": {},
     "output_type": "execute_result"
    }
   ],
   "source": [
    "round(4.5)"
   ]
  },
  {
   "cell_type": "markdown",
   "id": "e4ab6b74",
   "metadata": {},
   "source": [
    "<b><font color='white' style='background-color:green'>4.2.d</font></b> Si on veut comparer deux flottants, il faut établir un seuil d'approximation. Créez une fonction `égalité_flottants` qui prend deux flottants `x` et `y` et un seuil `h`, et renvoie le résultat de ce test: $$|x - y| < h$$\n",
    "Dans la deuxième boîte, proposez un jeu de tests adéquat. Dans la troisième boîte, utilisez votre fonction pour savoir si $0.1+0.1+0.1$ est égal à $0.3$ avec une précision de $10^{-10}$"
   ]
  },
  {
   "cell_type": "code",
   "execution_count": 87,
   "id": "b6e86c2b",
   "metadata": {},
   "outputs": [],
   "source": [
    "def égalité_flottants(x, y, h):\n",
    "    return abs(x-y) < h"
   ]
  },
  {
   "cell_type": "code",
   "execution_count": 88,
   "id": "7963b0d1",
   "metadata": {},
   "outputs": [],
   "source": [
    "assert égalité_flottants(0.3, 3*0.1, 0.00001)\n",
    "assert égalité_flottants(0.3, 0.33, 0.1)"
   ]
  },
  {
   "cell_type": "code",
   "execution_count": 89,
   "id": "61e61a19",
   "metadata": {},
   "outputs": [
    {
     "data": {
      "text/plain": [
       "True"
      ]
     },
     "execution_count": 89,
     "metadata": {},
     "output_type": "execute_result"
    }
   ],
   "source": [
    "égalité_flottants(0.3, 3*0.1, 10**-10)"
   ]
  },
  {
   "cell_type": "markdown",
   "id": "f1765fef",
   "metadata": {},
   "source": [
    "<b><font color='white' style='background-color:blue'>4.2.e</font></b> Calculez, à l'aide des fonctions de la bibliothèque `math`, $$\\log(e^{-500}e^{-400})$$\n",
    "Que se passe-t-il ? Expliquez-le dans la boîte de texte. Ensuite, contournez cet obstacle en modifiant le calcul"
   ]
  },
  {
   "cell_type": "code",
   "execution_count": 90,
   "id": "1f3dbd26",
   "metadata": {},
   "outputs": [
    {
     "ename": "ValueError",
     "evalue": "math domain error",
     "output_type": "error",
     "traceback": [
      "\u001b[0;31m---------------------------------------------------------------------------\u001b[0m",
      "\u001b[0;31mValueError\u001b[0m                                Traceback (most recent call last)",
      "Cell \u001b[0;32mIn[90], line 3\u001b[0m\n\u001b[1;32m      1\u001b[0m \u001b[38;5;28;01mfrom\u001b[39;00m \u001b[38;5;21;01mmath\u001b[39;00m \u001b[38;5;28;01mimport\u001b[39;00m exp, log\n\u001b[0;32m----> 3\u001b[0m \u001b[43mlog\u001b[49m\u001b[43m(\u001b[49m\u001b[43mexp\u001b[49m\u001b[43m(\u001b[49m\u001b[38;5;241;43m-\u001b[39;49m\u001b[38;5;241;43m500\u001b[39;49m\u001b[43m)\u001b[49m\u001b[38;5;241;43m*\u001b[39;49m\u001b[43mexp\u001b[49m\u001b[43m(\u001b[49m\u001b[38;5;241;43m-\u001b[39;49m\u001b[38;5;241;43m400\u001b[39;49m\u001b[43m)\u001b[49m\u001b[43m)\u001b[49m\n",
      "\u001b[0;31mValueError\u001b[0m: math domain error"
     ]
    }
   ],
   "source": [
    "from math import exp, log\n",
    "\n",
    "log(exp(-500)*exp(-400))"
   ]
  },
  {
   "cell_type": "markdown",
   "id": "9ca1952c",
   "metadata": {},
   "source": [
    "Il y a un _soupassement_ : les nombres calculés sont trop proches de zéro et y sont arrondis. Mais la fonction `log` n'est pas définie en 0, d'où l'erreur"
   ]
  },
  {
   "cell_type": "code",
   "execution_count": 91,
   "id": "bca48ac9",
   "metadata": {},
   "outputs": [
    {
     "data": {
      "text/plain": [
       "-900"
      ]
     },
     "execution_count": 91,
     "metadata": {},
     "output_type": "execute_result"
    }
   ],
   "source": [
    "-500 - 400     # log et exp s'annulent..."
   ]
  }
 ],
 "metadata": {
  "kernelspec": {
   "display_name": "Python 3 (ipykernel)",
   "language": "python",
   "name": "python3"
  },
  "language_info": {
   "codemirror_mode": {
    "name": "ipython",
    "version": 3
   },
   "file_extension": ".py",
   "mimetype": "text/x-python",
   "name": "python",
   "nbconvert_exporter": "python",
   "pygments_lexer": "ipython3",
   "version": "3.10.8"
  }
 },
 "nbformat": 4,
 "nbformat_minor": 5
}
