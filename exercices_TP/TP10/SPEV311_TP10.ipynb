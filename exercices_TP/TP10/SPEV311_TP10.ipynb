{
 "cells": [
  {
   "cell_type": "markdown",
   "id": "437a11d0",
   "metadata": {},
   "source": [
    "<h1><center>SPEV311 — Introduction à l'Informatique — TP 10</center><br>\n",
    "<center>Révision et ouverure à la Bioinformatique</center></h1>"
   ]
  },
  {
   "cell_type": "markdown",
   "id": "c3a9453e",
   "metadata": {},
   "source": [
    "<h3>Auto-évaluation</h3>\n",
    "\n",
    "<div> Les exercices se divisent en trois niveaux d'auto-évaluation:\n",
    "<ul>\n",
    "    <li><h3><font color='white' style='background-color:orange'>Fondamentaux</font></h3> Pour réviser les notions apprises en cours. Il faut tous les savoir résoudre pour avoir la moyenne.</li>\n",
    "    <li><h3><font color='white' style='background-color:green'>Intermédiaires</font></h3> Pour vous aider à raisonner et rentrer au coeur des sujets. Si vous saurez tous les résoudre, vous aurez un bon niveau de préparation !</li>\n",
    "    <li><h3><font color='white' style='background-color:blue'>Avancés</font></h3> Défis pour vous entraîner à l'examen final... et aller plus loin !</li>\n",
    "</ul>\n",
    "</div>"
   ]
  },
  {
   "cell_type": "markdown",
   "id": "40268a6a",
   "metadata": {},
   "source": [
    "Pour ce dernier TP, _tous_ les exercices seront corrigés... mais la correction sera donnée dès la semaine prochaine."
   ]
  },
  {
   "cell_type": "markdown",
   "id": "c1b5b9b0",
   "metadata": {},
   "source": [
    "### <font color='black'>Table des matières<font><a class='anchor' id='top'></a>\n",
    "1. [Analyse de la structure d'une protéine](#protein)<br>\n",
    "    1.1 [Analyse d'un fichier PDB](#pdb1)<br>\n",
    "    1.2 [Carte de contact](#pdb2)<br>\n",
    "2. [Drapeaux du monde](#drapeaux)<br>\n",
    "    2.1 [5 drapeaux en petit format](#drapeaux1)<br>\n",
    "    2.2 [2 drapeaux en grand format](#drapeaux2)<br>"
   ]
  },
  {
   "cell_type": "markdown",
   "id": "45201be3",
   "metadata": {},
   "source": [
    "<h3>1. Analyse de la structure d'une protéine</h3><a class='anchor' id='protein'></a>\n",
    "\n",
    "Les protéines sont les acteurs principaux de tous les organismes du vivant. Elles sont d'acides aminés, qui s'enchaînent l'un après l'autre comme les perles d'un collier. \n",
    "\n",
    "Les acides aminés (aussi appelés _résidus_) sont des molécules de 20 types différents. Ces molécules ont une partie qui est égale pour tous les 20 types et qui s'appelle _backbone_ : c'est la partie qui permet aux acides aminés de se relier entre eux. L'atome principale du backbone s'appelle $C_{\\alpha}$ (\"C alpha\", ou `CA`). Souvent, on prend le $C_{\\alpha}$ comme référence pour répérer un acide aminé.\n",
    "\n",
    "Les protéines peuvent être assemblées à partir de plusieurs de ces chaînes, qu'on appelle aussi _sousunités_ de la protéine. La protéine RuBisCo, qui fera l'objet de cet exercice, est composée de deux chaînes d'acides aminés, l'une bien plus longue que l'autre.\n",
    "\n",
    "Pendant cet exercice on verra comment analyser la structure d'une protéine à partir d'un fichier de données en format "
   ]
  },
  {
   "cell_type": "markdown",
   "id": "e22835c2",
   "metadata": {},
   "source": [
    "<b><font color='white' style='background-color:black'>Ex. 1.1</font> Analyse d'un fichier PDB</b><a class='anchor' id='pdb1'></a><br>\n",
    "Le format PDB est un format de fichier texte qui est utilisé pour stocker les coordonnées de chaque atome d'une protéine. Dans ce premier exercice, on va créer des fonctions pour en extraire des informations utiles.\n",
    "\n",
    "<b><font color='white' style='background-color:orange'>1.1.a</font></b> Comme première chose, ouvrez le fichier `1svd.pdb` en lecture et affichez les premières 10 lignes. Arrivez-vous à comprendre le format utilisé ?"
   ]
  },
  {
   "cell_type": "code",
   "execution_count": null,
   "id": "547141e2",
   "metadata": {},
   "outputs": [],
   "source": []
  },
  {
   "cell_type": "markdown",
   "id": "9a78a7f1",
   "metadata": {},
   "source": [
    "**Au début de chaque ligne, un mot clé indique le type de contenu de la ligne**"
   ]
  },
  {
   "cell_type": "markdown",
   "id": "a7df8787",
   "metadata": {},
   "source": [
    "<b><font color='white' style='background-color:orange'>1.1.b</font></b> Le format PDB ayant été conçu pour contenir toutes les informations expérimentales sur la structure des protéines, il est en fait très complexe, avec beaucoup de sections chacune avec un format différent. Nous allons nous nous concentrer sur les lignes qui commencent par le mot clé **ATOM** : affichez ci-dessous les premières 10 lignes de ce type. Arrivez-vous maintenant à comprendre quel type d'information y a-t-il dedans ?"
   ]
  },
  {
   "cell_type": "code",
   "execution_count": null,
   "id": "0911e635",
   "metadata": {},
   "outputs": [],
   "source": []
  },
  {
   "cell_type": "markdown",
   "id": "1c290547",
   "metadata": {},
   "source": [
    "**Il y a les coordonnées de chaque atom, identifié par son résidu ( = acide aminé) et sa chaîne protéique.**"
   ]
  },
  {
   "cell_type": "markdown",
   "id": "804b7550",
   "metadata": {},
   "source": [
    "<b><font color='white' style='background-color:orange'>1.1.c</font></b> Les lignes commençant par `ATOM` suivent un format assez stricte : ici on décrit comment les caractères sont liés à des différentes données. **Attention :** ici la numérotation part de 1, alors que le premier indice dans un `str` est 0 ! \n",
    "Exemple : si `ligne` est une variable contenant une ligne du fichier,  le nom à 3 lettres du résidu (`18-20`) sera contenu en `ligne[17:20]`.\n",
    "\n",
    "```\n",
    "1-6 : mot clé (dans ce cas, \"ATOM\")\n",
    "7-12 : numéro d'atome\n",
    "13-16 : nom de l'atome\n",
    "17 : emplacement alternatif (ici vide)\n",
    "18-20 : nom du résidu\n",
    "22 : nom de la chaîne (sousunité protéique)\n",
    "23-26 : numéro du résidu\n",
    "27 : code d'insertion du résidu (ici vide)\n",
    "31-38 : coordonnée x\n",
    "39-46 : coordonnée y\n",
    "47-54 : coordonnée z\n",
    "55-60 : occupancy\n",
    "61-66 : facteur b\n",
    "67-fin de ligne : autres infos\n",
    "```\n"
   ]
  },
  {
   "cell_type": "markdown",
   "id": "245ba2d2",
   "metadata": {},
   "source": [
    "Créez un code qui lit le fichier et, à partir des lignes `\"ATOM\"`, construit un ensemble avec tous les noms des résidus. Combien de différents noms de résidus trouvez-vous ?"
   ]
  },
  {
   "cell_type": "code",
   "execution_count": null,
   "id": "1d8fb92f",
   "metadata": {},
   "outputs": [],
   "source": []
  },
  {
   "cell_type": "markdown",
   "id": "8280eeaf",
   "metadata": {},
   "source": [
    "**On trouve tous les 20 types de résidus qui composent les protéines !**"
   ]
  },
  {
   "cell_type": "markdown",
   "id": "d8c6c3dc",
   "metadata": {},
   "source": [
    "<b><font color='white' style='background-color:green'>1.1.d</font></b> Créez une fonction `filtre_CA` qui prend le nom du fichier PDB et rend une liste avec comme éléments les lignes du fichier commençant par `\"ATOM\"` et dont le nom de l'atome correspond à `\"CA\"`. Dans la deuxième boîte, appelez cette fonction pour afficher les lignes `CA` du fichier `1svd.pdb`."
   ]
  },
  {
   "cell_type": "code",
   "execution_count": null,
   "id": "6f8f126b",
   "metadata": {},
   "outputs": [],
   "source": []
  },
  {
   "cell_type": "code",
   "execution_count": null,
   "id": "25accd2c",
   "metadata": {
    "scrolled": true
   },
   "outputs": [],
   "source": []
  },
  {
   "cell_type": "markdown",
   "id": "132e39b4",
   "metadata": {},
   "source": [
    "<b><font color='white' style='background-color:orange'>1.1.e</font></b> Créez une fonction `write_lines` qui prend une chaîne de caractères spécifiant le nom d'un fichier que la fonction devra créer, et une liste de chaînes de caractèresles que la fonction va écrire dans le fichier créé. Dans la deuxième boîte, appelez cette fonction (et la précédente) pour écrire les lignes \"ATOM\" "
   ]
  },
  {
   "cell_type": "code",
   "execution_count": null,
   "id": "1f30208f",
   "metadata": {},
   "outputs": [],
   "source": []
  },
  {
   "cell_type": "code",
   "execution_count": null,
   "id": "d9974a1c",
   "metadata": {},
   "outputs": [],
   "source": []
  },
  {
   "cell_type": "markdown",
   "id": "5d841d43",
   "metadata": {},
   "source": [
    "Voyons ce que vous avez créez jusqu'ici :"
   ]
  },
  {
   "cell_type": "code",
   "execution_count": null,
   "id": "a32f2f8f",
   "metadata": {},
   "outputs": [],
   "source": [
    "# Ne pas modifier !\n",
    "import py3Dmol\n",
    "view = py3Dmol.view(query='1svd_CA.pdb')\n",
    "view.setStyle({'sphere':{'color':'red'}})\n",
    "view.addStyle({'cartoon':{'style': 'trace', 'color':'gray'}})\n",
    "view"
   ]
  },
  {
   "cell_type": "markdown",
   "id": "847c3831",
   "metadata": {},
   "source": [
    "<b><font color='white' style='background-color:green'>1.1.f</font></b> Créez une fonction `get_coords` qui prend une liste de lignes `ATOM` et rend une liste de triplets (des `tuple` à 3 éléments) avec les coordonnées x, y et z de chaque atome. Les coordonnées devront être des `float` ! Dans la deuxième boîte, appliquez cette fonction à la liste que vous avez obtenue en `1.1.d`."
   ]
  },
  {
   "cell_type": "code",
   "execution_count": null,
   "id": "1f25978f",
   "metadata": {},
   "outputs": [],
   "source": []
  },
  {
   "cell_type": "raw",
   "id": "25f0cdad-7f50-492c-8639-4eff492358a9",
   "metadata": {
    "scrolled": true
   },
   "source": []
  },
  {
   "cell_type": "markdown",
   "id": "6b8a4f54",
   "metadata": {},
   "source": [
    "<b><font color='white' style='background-color:green'>1.1.g</font></b> Cherchons maintenant le centre géométrique de cette protéine. Le centre géométrique (ou centroide) d'un nuage de points est défini comme le point ayant pour coordonnée x la moyenne des coordonnées x de tous les points, et ainsi de suite pour y et z. \n",
    "Créez une fonction `centroid` qui, d'après une liste de coordonnées en 3d, rend un triplet correspondant au centroide du nuage de points en entrée. Appliquez la fonction à la liste obtenue en `1.1.f`."
   ]
  },
  {
   "cell_type": "code",
   "execution_count": null,
   "id": "b7c1ff8f",
   "metadata": {},
   "outputs": [],
   "source": []
  },
  {
   "cell_type": "code",
   "execution_count": null,
   "id": "7f3178b2",
   "metadata": {},
   "outputs": [],
   "source": []
  },
  {
   "cell_type": "markdown",
   "id": "3df11bf2",
   "metadata": {},
   "source": [
    "<b><font color='white' style='background-color:green'>1.1.h</font></b> Combien chaque atome est-il éloigné du centre de la protéine ? Créez une fonction `distance_from_point` qui prend un triplet avec les coordonnées d'un point et une liste de triplets contenant les coordonnées d'un nuage de points, et rend une liste de `float` correspondant aux distances entre les points du nuage et le point en entrée.\n",
    "\n",
    "Pour rappel, la distance $d$ entre deux points $1$ et $2$ se calcule comme\n",
    "$$d = \\sqrt{(x_1 - x_2)^2 + (y_1 - y_2)^2 + (z_1 - z_2)^2}$$\n",
    "où $x_i$, $y_i$, $z_i$ sont les trois coordonnées du point $i$ (avec $i = 1$ ou $i = 2$)\n",
    "\n",
    "Appliquez cette fonction au nuage de points du `1.1.f` et au centroide du `1.1.g`."
   ]
  },
  {
   "cell_type": "code",
   "execution_count": null,
   "id": "4972b3ee",
   "metadata": {},
   "outputs": [],
   "source": []
  },
  {
   "cell_type": "code",
   "execution_count": null,
   "id": "be7c71e1",
   "metadata": {},
   "outputs": [],
   "source": []
  },
  {
   "cell_type": "markdown",
   "id": "276a7eb1",
   "metadata": {},
   "source": [
    "<b><font color='white' style='background-color:green'>1.1.j</font></b> Vous rappelez-vous comment on affiche un graphique ? Revisez le `TP07` et affichez ci-dessous un graphique des distances : vous mettrez en abscisse les résidus de la protéine (dans l'ordre du fichier PDB) et en ordonnée la distance de chacun du centroide. \n",
    "\n",
    "**Remarque :** si vous avez tout bien fait, ls fonction `distance_from_point` devrait déjà rendre la bonne entrée pour le graphique !"
   ]
  },
  {
   "cell_type": "code",
   "execution_count": null,
   "id": "411fcaf9",
   "metadata": {},
   "outputs": [],
   "source": []
  },
  {
   "cell_type": "markdown",
   "id": "5353b877",
   "metadata": {},
   "source": [
    "<b><font color='white' style='background-color:blue'>1.1.k</font></b> Apprêtons-nous à visualiser la distance de chaque atome directement sur l'image 3d de la protéine. Pour ce faire, il y a une astuce à faire : il faudra remplacer la colonne contenant le `facteur b` (cf `1.1.c`) avec les distances. Pour ce faire, il faudra _normaliser_ la liste des distances (c'est à dire, la distance maximale devra être égale à 1, et toutes les autres suivront cette proportion). Une fois normalisées, il faudra créer un nouveaur fichier `1svd_CA_dist.pdb` où les facteur b dans du fichier `1svd_CA.pdb` original ont été remplacés par les distances, tout en suivant le même format !"
   ]
  },
  {
   "cell_type": "code",
   "execution_count": null,
   "id": "f7e20ec8",
   "metadata": {},
   "outputs": [],
   "source": []
  },
  {
   "cell_type": "markdown",
   "id": "ffaa4f8c",
   "metadata": {},
   "source": [
    "Voyons votre avancement :"
   ]
  },
  {
   "cell_type": "code",
   "execution_count": null,
   "id": "1ef7377a",
   "metadata": {},
   "outputs": [],
   "source": [
    "# Ne pas modifier !\n",
    "import py3Dmol\n",
    "view = py3Dmol.view(query='1svd_CA_dist.pdb')\n",
    "view.setStyle({'sphere':{'colorscheme':{'prop':'b','gradient':'roygb','min':0,'max':1}}})\n",
    "view.addStyle({'cartoon':{'style': 'trace', 'color':'gray'}})\n",
    "view"
   ]
  },
  {
   "cell_type": "markdown",
   "id": "bb560b29",
   "metadata": {},
   "source": [
    "<b><font color='white' style='background-color:black'>Ex. 1.2</font> Carte de contacts</b><a class='anchor' id='pdb2'></a><br>\n",
    "\n",
    "Dans cet exercice on va analyser les contacts entre différents acides aminés de la protéine.\n",
    "\n",
    "<b><font color='white' style='background-color:orange'>1.2.a</font></b> Créez une fonction `filtre_sousunite` qui prend le nom d'un fichier pdb et le nom de l'une des sousunités protéiques (ou _chaîne_) du fichier PDB (voir la description en `1.1.c`) et rend une liste ayant comme éléments les lignes du fichier commençant par `\"ATOM\"` et dont la sousunité de l'atome correspond à la lettre souhaitée. Si vous avez fait l'exercice `1.1.d`, réutilisez le code !\n",
    "Dans la deuxième boîte, appelez cette fonction pour afficher les lignes de la sousunité protéique `A` du fichier `1svd.pdb`.\n",
    "\n",
    "6. Créez une fonction qui discretise une matrice selon un seuil\n",
    "\n",
    "Visualisons ce que vous avez fait..."
   ]
  },
  {
   "cell_type": "code",
   "execution_count": null,
   "id": "f29066f0",
   "metadata": {},
   "outputs": [],
   "source": []
  },
  {
   "cell_type": "code",
   "execution_count": null,
   "id": "522b82ea",
   "metadata": {},
   "outputs": [],
   "source": []
  },
  {
   "cell_type": "markdown",
   "id": "bc6fbbbf",
   "metadata": {},
   "source": [
    "<b><font color='white' style='background-color:orange'>1.2.b</font></b> Pour calculer les interactions entre acides aminés on aura besoin de tous les atomes et non seulement des `\"CA\"`. Créez une fonction `extraction` qui prend une liste de lignes comme celle créée en `1.2.a` et rend un dictionnaire où les clés sont des `int` spécifiant les numéros de résidu (voir `1.1.c`) et les valeurs sont les listes des triplets correspondant aux coordonnées des atomes du résidu associé. Si vous avez fait `1.1.f`, réutilisez des parties de ce code !\n",
    "Dans la deuxième boîte, essayez cette fonction sur la liste obtenue en `1.2.a`."
   ]
  },
  {
   "cell_type": "code",
   "execution_count": null,
   "id": "3358e27d",
   "metadata": {},
   "outputs": [],
   "source": []
  },
  {
   "cell_type": "code",
   "execution_count": null,
   "id": "96961bc0",
   "metadata": {},
   "outputs": [],
   "source": []
  },
  {
   "cell_type": "markdown",
   "id": "001b1ed5",
   "metadata": {},
   "source": [
    "<b><font color='white' style='background-color:green'>1.2.c</font></b> Commençons maintenant par trouver la distance minimale entre deux acides aminés. Pour ce faire, il faut calculer la distance entre tous les atomes d'un résidu et tous les atomes de l'autre et choisir la distance minimale. Créez une fonction `min_dist` qui prend le dictionnaire créé en `1.2.b`, deux numéros de résidu (c'est à dire deux `int`), et rend la distance minimale entre les deux résidus correspondants. Si au moins l'un des deux résidus n'est pas parmi les clés du dictionnaire, il faudra terminer l'exécution avec cette instruction : `raise BaseException(\"Erreur : numéro(s) de résidu invalide(s) !\")`. **Remarque :** pour la formule de la distance, voir `1.1.h`.\n",
    "Dans la deuxième boîte, essayez votre fonction sur le dictionnaire en `1.2.b` et les couples de résidus `30, 30`, `30, 40`, `40, 30` : que vous attendez-vous ? Qu'obtenez-vous ?"
   ]
  },
  {
   "cell_type": "code",
   "execution_count": null,
   "id": "8b5a67b6",
   "metadata": {},
   "outputs": [],
   "source": []
  },
  {
   "cell_type": "code",
   "execution_count": null,
   "id": "dadcad34",
   "metadata": {},
   "outputs": [],
   "source": []
  },
  {
   "cell_type": "markdown",
   "id": "57862822",
   "metadata": {},
   "source": [
    "**Votre réponse ici**"
   ]
  },
  {
   "cell_type": "markdown",
   "id": "cbc24184",
   "metadata": {},
   "source": [
    "<b><font color='white' style='background-color:blue'>1.2.d</font></b> Calculons maintenant la distance entre un résidu et tous les résidus de la sousunité. Créez une fonction `distances_from_residue` qui prend le dictionnaire du `1.2.b`, un numéro de résidu, et rend une liste de distances entre le résidu spécifié et chaque résidu du dictionnaire (inclus lui-même). **Attention :** les résidus doivent être listés en ordre ! Utilisez la fonction `sorted` sur les numéros de résidu pour obtenir le bon ordre. La liste des distances doit bien évidemment suivre cet ordre. **Remarque :** utilisez la fonction que vous avez créée en `1.2.c`."
   ]
  },
  {
   "cell_type": "code",
   "execution_count": null,
   "id": "b84ced48",
   "metadata": {},
   "outputs": [],
   "source": []
  },
  {
   "cell_type": "code",
   "execution_count": null,
   "id": "12149926",
   "metadata": {},
   "outputs": [],
   "source": []
  },
  {
   "cell_type": "markdown",
   "id": "b4f92ca5",
   "metadata": {},
   "source": [
    "<b><font color='white' style='background-color:blue'>1.2.e</font></b> Finalement, calculons les distaces de tous contre tous les acides aminés. Créez une fonction `all_vs_all` qui prend le dictionnaire défini en `1.2.b` et rend une _matrice_ de distances entre les résidus. C'est à dire, la fonction doit rendre une liste dont les éléments sont des listes comme obtenu en `1.2.d`. **Remarque :** il faudra donc bien utiliser la fonction créée en `1.2.d`. **Attention :** rappelez-vous du bon ordre des résidus !"
   ]
  },
  {
   "cell_type": "code",
   "execution_count": null,
   "id": "8b63a9be",
   "metadata": {},
   "outputs": [],
   "source": []
  },
  {
   "cell_type": "code",
   "execution_count": null,
   "id": "6fe43ee6",
   "metadata": {},
   "outputs": [],
   "source": []
  },
  {
   "cell_type": "markdown",
   "id": "adde160e",
   "metadata": {},
   "source": [
    "Voici ce que vous avez calculé :"
   ]
  },
  {
   "cell_type": "code",
   "execution_count": null,
   "id": "2cdb8978",
   "metadata": {},
   "outputs": [],
   "source": [
    "# Ne pas modifier !\n",
    "from matplotlib import pyplot as plt\n",
    "\n",
    "M = all_vs_all(extraction(filtre_sousunite(\"1svd.pdb\", \"A\")))\n",
    "plt.imshow(M)"
   ]
  },
  {
   "cell_type": "markdown",
   "id": "7d67e72c",
   "metadata": {},
   "source": [
    "Les régions bleues sont celles où les distances entre acides aminés sont plus faibles, c'est à dire les points de contacts entre résidus. Elles sont diposées géométriquement, et reflètent les éléments géométriques de la structure protéique, que vous pouvez retrouver chez la visualisation 3d de l'exercice 1. Cette correspondance entre géométrie 3d et géométrie sur la carte de contact est au coeur des stratégies de prédictions de structure protéique, dont le fameux [AlphaFold](https://www.youtube.com/watch?v=gg7WjuFs8F4&themeRefresh=1)."
   ]
  },
  {
   "cell_type": "markdown",
   "id": "56643f4c",
   "metadata": {},
   "source": [
    "<h3>2. Drapeaux du monde</h3><a class='anchor' id='drapeaux'></a>\n",
    "\n",
    "En utilisant quelques connaissances basiques vues en `TP04` (qui, comme tous les TP, fait partie du matériel à étudier !), et à l'aide de quelques conditions et boucles imbriquées, on va recréer les drapeaux de plusieurs pays !\n",
    "\n",
    "<b><font color='white' style='background-color:black'>Ex. 2.1</font> 5 Drapeaux en petit format</b><a class='anchor' id='drapeaux1'></a><br>\n",
    "\n",
    "Ici une fonction qui vous aidera en la visualisation des images que vous créerez :"
   ]
  },
  {
   "cell_type": "code",
   "execution_count": null,
   "id": "8ca88474",
   "metadata": {},
   "outputs": [],
   "source": [
    "# Ne pas modifier !\n",
    "from PIL import Image \n",
    "\n",
    "def afficher_image_axes(img):\n",
    "    from matplotlib.pyplot import imshow, show, axis, gca, figure\n",
    "    from matplotlib.axis import XAxis\n",
    "    from numpy import asarray\n",
    "    # pour afficher les courbes dans le notebook\n",
    "    # (nécessaire pour les versions anciennes de jupyter)\n",
    "    %matplotlib inline\n",
    "    fig=figure(figsize=(10,7), dpi= 70)\n",
    "    hauteur = img.height\n",
    "    largeur = img.width\n",
    "    pasX = max(largeur // 10, 1)\n",
    "    pasY = max(hauteur // 10, 1)\n",
    "    axis('on')\n",
    "    axeX = gca().get_xaxis()\n",
    "    axeY = gca().get_yaxis()\n",
    "    axeX.set_ticks_position('top')\n",
    "    axeX.set_ticks(range(0,largeur,pasX))\n",
    "    axeY.set_ticks(range(0,hauteur, pasY))\n",
    "    imshow(asarray(img))\n",
    "    show()"
   ]
  },
  {
   "cell_type": "markdown",
   "id": "1827fe15",
   "metadata": {},
   "source": [
    "<b><font color='white' style='background-color:orange'>2.1.a</font></b> Commençons avec la France : à l'aide de la fonction `new` de la sousbibliothèque `Image`, créez un objet image `france` en mode `RGB`, largeur `18` et hauteur `12`. Recréez la figure ci-dessous.\n",
    "\n",
    "![](france.png)"
   ]
  },
  {
   "cell_type": "code",
   "execution_count": null,
   "id": "e3e6f6c1",
   "metadata": {},
   "outputs": [],
   "source": []
  },
  {
   "cell_type": "markdown",
   "id": "8bd58a2b",
   "metadata": {},
   "source": [
    "<b><font color='white' style='background-color:orange'>2.1.b</font></b> Maintenant, la Thailande :\n",
    "\n",
    "![](thailande.png)"
   ]
  },
  {
   "cell_type": "code",
   "execution_count": null,
   "id": "3d3f49a4",
   "metadata": {},
   "outputs": [],
   "source": []
  },
  {
   "cell_type": "markdown",
   "id": "e36337d7",
   "metadata": {},
   "source": [
    "<b><font color='white' style='background-color:orange'>2.1.c</font></b> C'est le tour du Danemark :\n",
    "\n",
    "![](denmark.png)"
   ]
  },
  {
   "cell_type": "code",
   "execution_count": null,
   "id": "4bff0428",
   "metadata": {},
   "outputs": [],
   "source": []
  },
  {
   "cell_type": "markdown",
   "id": "d4c7364c",
   "metadata": {},
   "source": [
    "<b><font color='white' style='background-color:orange'>2.1.d</font></b> Or, la Suisse est un peu plus difficile :\n",
    "\n",
    "![](suisse.png)"
   ]
  },
  {
   "cell_type": "code",
   "execution_count": null,
   "id": "75280ee6",
   "metadata": {},
   "outputs": [],
   "source": []
  },
  {
   "cell_type": "markdown",
   "id": "2fd77ecd",
   "metadata": {},
   "source": [
    "<b><font color='white' style='background-color:green'>2.1.e</font></b> La Grèce est laborieuse aussi !\n",
    "\n",
    "![](grece.png)"
   ]
  },
  {
   "cell_type": "code",
   "execution_count": null,
   "id": "4fff7096",
   "metadata": {},
   "outputs": [],
   "source": []
  },
  {
   "cell_type": "markdown",
   "id": "18b6bc7c",
   "metadata": {},
   "source": [
    "<b><font color='white' style='background-color:black'>Ex. 2.2</font> 2 Drapeaux en grand format</b><a class='anchor' id='drapeaux2'></a><br>\n",
    "\n",
    "Les drapeaux de `2.1` n'utilisent que des lignes horizontales et verticales : même une petite grille de pixels peuvent les reproduire. Par contre, si on a des lignes courbes ou diagonales, il faut une résolution bien plus haute. Dans cet exercice on va travailler sur deux exemples.\n",
    "\n",
    "<b><font color='white' style='background-color:green'>2.2.a</font></b> Reproduisez le drapeau du Japon ! L'image devra être de taille `3000 x 2000`. Le centre du cercle rouge doit coincider avec le centre de l'image, et son diamètre doit être la moitié de l'hauteur de l'image. **Remarque :** comment dessiner le cercle ? Rappelez-vous de la formule du cercle :\n",
    "$$(y - y_c)^2 + (x - x_c)^2 = r^2$$\n",
    "où $(x_c, y_c)$ sont les coordonnées du centre.\n",
    "\n",
    "![](japon.png)"
   ]
  },
  {
   "cell_type": "code",
   "execution_count": null,
   "id": "e76956b8",
   "metadata": {},
   "outputs": [],
   "source": []
  },
  {
   "cell_type": "markdown",
   "id": "acdbcf06",
   "metadata": {},
   "source": [
    "<b><font color='white' style='background-color:green'>2.2.a</font></b> C'est le tour du Soudan ! L'image devra être de taille `600 x 300`. Suivez les proportions que vous trouvez sur la [page Wikipédia du drapeau](https://en.wikipedia.org/wiki/Flag_of_Sudan).\n",
    "\n",
    "![](soudan.png)"
   ]
  },
  {
   "cell_type": "code",
   "execution_count": null,
   "id": "f764b116",
   "metadata": {},
   "outputs": [],
   "source": []
  }
 ],
 "metadata": {
  "kernelspec": {
   "display_name": "Python 3 (ipykernel)",
   "language": "python",
   "name": "python3"
  },
  "language_info": {
   "codemirror_mode": {
    "name": "ipython",
    "version": 3
   },
   "file_extension": ".py",
   "mimetype": "text/x-python",
   "name": "python",
   "nbconvert_exporter": "python",
   "pygments_lexer": "ipython3",
   "version": "3.11.6"
  }
 },
 "nbformat": 4,
 "nbformat_minor": 5
}
