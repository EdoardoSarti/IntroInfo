{
 "cells": [
  {
   "cell_type": "markdown",
   "id": "437a11d0",
   "metadata": {},
   "source": [
    "<h1><center>SPEV311 — Introduction à l'Informatique — TP 02</center><br>\n",
    "<center>Booléens, Conditions, While</center></h1>"
   ]
  },
  {
   "cell_type": "markdown",
   "id": "c3a9453e",
   "metadata": {},
   "source": [
    "<h3>Auto-évaluation</h3>\n",
    "\n",
    "<div> Les exercices se divisent en trois niveaux d'auto-évaluation:\n",
    "<ul>\n",
    "    <li><h3><font color='white' style='background-color:orange'>Fondamentaux</font></h3> Pour réviser les notions apprises en cours. Il faut tous les savoir résoudre pour avoir la moyenne.</li>\n",
    "    <li><h3><font color='white' style='background-color:green'>Intermédiaires</font></h3> Pour vous aider à raisonner et rentrer au coeur des sujets. Si vous saurez tous les résoudre, vous aurez un bon niveau de préparation !</li>\n",
    "    <li><h3><font color='white' style='background-color:blue'>Avancés</font></h3> Défis pour vous entraîner à l'examen final... et aller plus loin !</li>\n",
    "</ul>\n",
    "</div>\n",
    "\n",
    "Les exercices avec un <font color='white' style='text-shadow: -1px 0 black, 0 1px black, 1px 0 black, 0 -1px black;'>C</font> sont corrigés : vous trouverez un notebook avec la correction de ces exercices dans le même dossier où vous avez trouvé celui-ci."
   ]
  },
  {
   "cell_type": "markdown",
   "id": "c1b5b9b0",
   "metadata": {},
   "source": [
    "### <font color='black'>Table des matières<font><a class='anchor' id='top'></a>\n",
    "1. [Booléens](#booléens)<br>\n",
    "    1.1 [Opérations sur les booléens](#opérations)<br>\n",
    "    1.2 [Tests avancés](#tests)<br>\n",
    "2. [Conditions](#conditions)<br>\n",
    "    2.1 [If, elif, else](#syntaxe)<br>\n",
    "    2.2 [Fonctions et conditions](#foncond)<br>\n",
    "    2.3 [Conditions imbriquées](#imbriquées)<br>\n",
    "3. [Boucle while](#while)<br>\n",
    "    3.1 [Premières boucles](#premières)<br>\n",
    "    3.2 [Conditions d'arrêt](#arrêt)<br>\n",
    "    3.3 [Plus loin avec les boucles](#while2)<br>"
   ]
  },
  {
   "cell_type": "markdown",
   "id": "45201be3",
   "metadata": {},
   "source": [
    "<h3>1. Booléens</h3><a class='anchor' id='booléens'></a>"
   ]
  },
  {
   "cell_type": "markdown",
   "id": "e22835c2",
   "metadata": {},
   "source": [
    "<b><font color='white' style='background-color:black'>Ex. 1.1</font> Opérations sur les booléens</b><a class='anchor' id='opérations'></a><br>\n",
    "Les booléens (`True` et `False`) ont une importance particulière parce que c'est le type de donnée le plus proche au fonctionnement d'un ordinateur. Du point de vue logique, il y a une arythmétique des booléens qui est de fondamentale importance pour pouvoir valider la vérité de n'importe quel type de proposition.<br>\n",
    "\n",
    "| a       | b       | `not` a | a `and` b | a `or` b | \n",
    "|---------|---------|---------|-----------|----------|\n",
    "| `True`  | `True`  | `False` | `True`    | `True`   |\n",
    "| `True`  | `False` | `False` | `False`   | `True`   |\n",
    "| `False` | `True`  | `True`  | `False`   | `True`   |\n",
    "| `False` | `False` | `True`  | `False`   | `False`  |\n",
    "\n",
    "Attention : Tout comme les opérations sur les nombres, les opérations sur les entiers aussi suivent des priorités ! `not` est exécuté en premier, puis `and`, puis `or`."
   ]
  },
  {
   "cell_type": "markdown",
   "id": "e015bb56",
   "metadata": {},
   "source": [
    "<b><font color='white' style='background-color:orange'>1.1.a</font></b> <font color='white' style='text-shadow: -1px 0 black, 0 1px black, 1px 0 black, 0 -1px black;'>C</font> Commençons par évaluer l'expression logique correspondante à la phrase :\n",
    "\n",
    "\"C'est toujours comme ça : soit il pleut et j'ai pas de parapluie, ou je l'amène et il pleut pas !\"\n",
    "```python\n",
    "(il_pleut and (not parapluie)) or ((not il_pleut) and parapluie)\n",
    "```\n",
    "\n",
    "Dans la première boîte, écrivez une fonction `le_comble` qui prend `il_pleut` et `parapluie` en entrée, et rend le résultat de cette expression. Dans la deuxième, évaluez la fonction pour toute combinaison de booléens dans les deux paramètres en entrée. Affichez les résultats.\n",
    "Pour quelles valeurs de ces deux variables l'expression est-elle vraie ? Pourquoi ? Expliquez dans la boîte de texte."
   ]
  },
  {
   "cell_type": "code",
   "execution_count": null,
   "id": "8a7d71f5",
   "metadata": {},
   "outputs": [],
   "source": [
    "def le_comble(il_pleut, parapluie):\n",
    "    return (il_pleut and (not parapluie)) or ((not il_pleut) and parapluie)"
   ]
  },
  {
   "cell_type": "code",
   "execution_count": null,
   "id": "2fbcf8f3",
   "metadata": {},
   "outputs": [],
   "source": [
    "print(le_comble(True, True))\n",
    "print(le_comble(True, False))\n",
    "print(le_comble(False, True))\n",
    "print(le_comble(False, False))"
   ]
  },
  {
   "cell_type": "markdown",
   "id": "7d2ba976",
   "metadata": {},
   "source": [
    "**L'expression est vraie quand les valeures matchent le sens de l'énoncé. Notamment, l'énoncé est un `xor` : on s'en rend compte aussi parce que les enstrées et sorties de la foncton `le_comble` reproduisent celles du tableau `xor`**"
   ]
  },
  {
   "cell_type": "markdown",
   "id": "3a88f979",
   "metadata": {},
   "source": [
    "<b><font color='white' style='background-color:orange'>1.1.b</font></b> Ecrivez à nouveau la fonction `le_comble` en enlevant toute parenthèse inutile. Puis, testez avec quatre `assert`... maintenant, vous savez les bonnes réponses !"
   ]
  },
  {
   "cell_type": "code",
   "execution_count": null,
   "id": "a4e0da90",
   "metadata": {},
   "outputs": [],
   "source": []
  },
  {
   "cell_type": "code",
   "execution_count": null,
   "id": "58329067",
   "metadata": {},
   "outputs": [],
   "source": []
  },
  {
   "cell_type": "markdown",
   "id": "9b9716b5",
   "metadata": {},
   "source": [
    "<b><font color='white' style='background-color:orange'>1.1.c</font></b> <font color='white' style='text-shadow: -1px 0 black, 0 1px black, 1px 0 black, 0 -1px black;'>C</font> Pour être enregistrés comme mariés à l'hôpital, il faut que vous ayez le même nom de famille. A défaut, il faut que vous ayez vos documents avec vous et l'attestation de mariage. Ecrivez une fonction `hôpital` qui rend l'expression logique correspondante à cette phrase en utilisant les variables en entrée `même_nom`, `documents`, `attestation`, et testez avec deux `assert` les conditions suivantes:\n",
    "1. Vous n'avez pas le même nom et vous n'avez que votre document\n",
    "2. Vous avez le même nom et vous avez l'attestation et le document"
   ]
  },
  {
   "cell_type": "code",
   "execution_count": null,
   "id": "f62ab57f",
   "metadata": {},
   "outputs": [],
   "source": [
    "def hôpital(même_nom, mon_document, attestation):\n",
    "    return même_nom or (mon_document and attestation)"
   ]
  },
  {
   "cell_type": "code",
   "execution_count": null,
   "id": "451c7e61",
   "metadata": {},
   "outputs": [],
   "source": [
    "assert hôpital(False, True, False) == False\n",
    "assert hôpital(True, True, True) == True"
   ]
  },
  {
   "cell_type": "markdown",
   "id": "aac0a921",
   "metadata": {},
   "source": [
    "<b><font color='white' style='background-color:green'>1.1.d</font></b> A l'aide de deux variables `a` et `b`, écrivez une expression à laquelle on **ne peut pas** enlever toutes les parenthèses sans en changer la vérité. Dans la première boîte de code définissez deux fonctions, l'une nommée `expr_par` rendant l'expression avec parenthèse, l'autre nommée `expr_sans_par`, sans. Dans la deuxième case affichez les résultats des deux fonctions pour toute combinaison de valeurs en entrée. Dans la troisième, testez avec un `assert` que, pour un même couple de valeurs en entrée, le comportement des deux fonction est différent"
   ]
  },
  {
   "cell_type": "code",
   "execution_count": null,
   "id": "dc1e93d5",
   "metadata": {},
   "outputs": [],
   "source": []
  },
  {
   "cell_type": "code",
   "execution_count": null,
   "id": "422635be",
   "metadata": {},
   "outputs": [],
   "source": []
  },
  {
   "cell_type": "code",
   "execution_count": null,
   "id": "16719b11",
   "metadata": {},
   "outputs": [],
   "source": []
  },
  {
   "cell_type": "markdown",
   "id": "a7df8787",
   "metadata": {},
   "source": [
    "<b><font color='white' style='background-color:black'>Ex. 1.2</font> Tests avancés</b><a class='anchor' id='tests'></a><br>\n",
    "Le résultat de tout opérateur de comparaison est un booléen. Cela veut dire qu'on peut combiner opérateurs arythmétiques, comparaisons et opérateurs logiques:\n",
    "\n",
    "```python\n",
    "(1 + 3)*5 < 5 or 10 > 99\n",
    "```\n",
    "\n",
    "Attention toujours aux priorités ! Ici la liste presque complète des opérateurs, du plus prioritaire au moins:\n",
    "```python\n",
    "()                                            # Bien évidemment, les parenthèse ont la priorité sur tout !\n",
    "**                                            # Puissance\n",
    "-x                                            # Le \"négatif\", c'est à dire un moins devant un nombre\n",
    "*, /, //, %                                   # Le produit et ses inverses\n",
    "+, -                                          # La somme et son inverse\n",
    "==, !=, >, >=, <, <=, is, is not, in, not in  # Les comparaisons (dont on n'a vues qu'une partie)\n",
    "not                                           # négation logique\n",
    "and                                           # et logique\n",
    "or                                            # ou logique\n",
    "``` \n",
    "\n",
    "L'expression ci-dessus se résoude donc de cette façon :\n",
    "```python\n",
    "(1 + 3)*5 < 5 or 10 > 99\n",
    "4*5 < 5 or 10 > 99              # Parenthèses en premier, même s'il y a + dedans\n",
    "20 < 5 or 10 > 99               # Produit\n",
    "False or 10 > 99                # Comparaison\n",
    "False or False                  # Comparaison\n",
    "False                           # Ou logique\n",
    "```"
   ]
  },
  {
   "cell_type": "markdown",
   "id": "478a7505",
   "metadata": {},
   "source": [
    "<b><font color='white' style='background-color:orange'>1.2.a</font></b> <font color='white' style='text-shadow: -1px 0 black, 0 1px black, 1px 0 black, 0 -1px black;'>C</font> Dans la boîte de texte, résoudez l'expression une opération à la fois, en respectant la priorité des opérateurs"
   ]
  },
  {
   "cell_type": "markdown",
   "id": "4d2b2398",
   "metadata": {},
   "source": [
    "```python\n",
    "not (5 < -7 or 14 + 4 > 3)\n",
    "```"
   ]
  },
  {
   "cell_type": "markdown",
   "id": "2c495ad7",
   "metadata": {},
   "source": [
    "```python\n",
    "not (5 < -7 or 14 + 4 > 3)\n",
    "not (5 < -7 or 18 > 3)\n",
    "not (False or 18 > 3)\n",
    "not (False or True)\n",
    "not True\n",
    "False\n",
    "```"
   ]
  },
  {
   "cell_type": "markdown",
   "id": "b291b07b",
   "metadata": {},
   "source": [
    "```python\n",
    "5**(9-7) - 56 < 13//4 or (not 15%5 == 3 and 8*9 != 7)\n",
    "```"
   ]
  },
  {
   "cell_type": "markdown",
   "id": "d38ba36d",
   "metadata": {},
   "source": [
    "```python\n",
    "5**2 - 56 < 13//4 or (not 15%5 == 3 and 8*9 != 7)\n",
    "5**2 - 56 < 13//4 or (not 0 == 3 and 8*9 != 7)\n",
    "5**2 - 56 < 13//4 or (not 0 == 3 and 72 != 7)\n",
    "5**2 - 56 < 13//4 or (not False and 72 != 7)\n",
    "5**2 - 56 < 13//4 or (not False and True)\n",
    "5**2 - 56 < 13//4 or (True and True)\n",
    "5**2 - 56 < 13//4 or True\n",
    "25 - 56 < 13//4 or True\n",
    "-31 < 13//4 or True\n",
    "-31 < 3 or True\n",
    "True or True\n",
    "True\n",
    "```"
   ]
  },
  {
   "cell_type": "markdown",
   "id": "c4176586",
   "metadata": {},
   "source": [
    "<b><font color='white' style='background-color:green'>1.2.b</font></b> \"Pour avoir une réduction au théâtre il faut soit avoir 12 ans ou moins, soit 65 ans ou plus, soit être étudiant\". Ecrivez une fonction `réduction_théâtre` qui prend en entree un entier `âge` et un booléen `étudiant` et rend le résultat de l'expression correspondante à a phrase. Dans la deuxième boîte de code, testez votre fonction avec au moins trois `assert`. "
   ]
  },
  {
   "cell_type": "code",
   "execution_count": null,
   "id": "6e23efe2",
   "metadata": {},
   "outputs": [],
   "source": []
  },
  {
   "cell_type": "code",
   "execution_count": null,
   "id": "229e007e",
   "metadata": {},
   "outputs": [],
   "source": []
  },
  {
   "cell_type": "markdown",
   "id": "2c3b18dc",
   "metadata": {},
   "source": [
    "<b><font color='white' style='background-color:blue'>1.2.b-bis</font></b> <font color='white' style='text-shadow: -1px 0 black, 0 1px black, 1px 0 black, 0 -1px black;'>C</font> Reprenons la fonction que vous avez définie en `1.2.a`. Si `âge` contient 16 et `étudiant` contient `'Faux'`, quel est le résultat ? Essayez dans la  boîte de code. Quel comportement vous attendiez-vous ? Savez-vous expliquer pourquoi vous avez obtenu le résultat que vous voyez ?"
   ]
  },
  {
   "cell_type": "code",
   "execution_count": null,
   "id": "3360cf92",
   "metadata": {},
   "outputs": [],
   "source": [
    "réduction_théâtre(16, 'Faux')"
   ]
  },
  {
   "cell_type": "markdown",
   "id": "d3dbb375",
   "metadata": {},
   "source": [
    "**Si votre expression se termine avec `or étudiant` : Python associe une valeur de vérité à chaque valeur, n'importe le type. Par exemple `0` et `''` se comportent comme s'ils étaient `False`, alors que tout autre nombre et chaîne se comportent comme `True`. Donc la chaîne `'Faux'` est évaluée comme `True`, et puisque c'est la dernière évaluation de l'expression, `'Faux'` est rendue comme resultat.**\n",
    "\n",
    "**Si votre expression se termine avec `or étudiant == True`, vous aurez une autre réponse : en effet, `'Faux' == True` donne `False`. Il est donc plus safe de toujours utiliser les comparaisons même si le résultat attendu est déjà un booléen**"
   ]
  },
  {
   "cell_type": "markdown",
   "id": "02412b99",
   "metadata": {},
   "source": [
    "<b><font color='white' style='background-color:green'>1.2.c</font></b> Reprénons encore l'exercice `1.2.b`. Il y a une autre façon d'exprimer la même phrase : \"Si votre âge est compris entre 12 et 65 (exclus !) et vous n'êtes pas étudiant, vous n'aurez pas de réduction sur le ticket\". Ecrivez la fonction `pas_de_réduction_théâtre` qui prend toujours un entier `âge` et un booléen `étudiant`, mais qui implémente cette nouvelle phrase. Testez-la avec les mêmes `assert` que vous avez utilisés en `1.2.b`. Quelle différence remarquez-vous ? Savez-vous la justifier ? Expliquez dans la boîte de texte."
   ]
  },
  {
   "cell_type": "code",
   "execution_count": null,
   "id": "069096a6",
   "metadata": {},
   "outputs": [],
   "source": []
  },
  {
   "cell_type": "code",
   "execution_count": null,
   "id": "7123b5d1",
   "metadata": {},
   "outputs": [],
   "source": []
  },
  {
   "cell_type": "markdown",
   "id": "609f650c",
   "metadata": {},
   "source": [
    "**Votre réponse ici**"
   ]
  },
  {
   "cell_type": "markdown",
   "id": "44827f70",
   "metadata": {},
   "source": [
    "<b><font color='white' style='background-color:green'>1.2.d</font></b> <font color='white' style='text-shadow: -1px 0 black, 0 1px black, 1px 0 black, 0 -1px black;'>C</font> Résoudez l'expression une opération à la fois, en respectant la priorité des opérateurs. Mais... attention à l'évaluation paraisseuse !"
   ]
  },
  {
   "cell_type": "markdown",
   "id": "6d2b6bd4",
   "metadata": {},
   "source": [
    "```python\n",
    "(9**2 < 90 or 1 != 1) and 80//4 >= 8 and 44*3 + 12%5 and 9**100 < 8**104\n",
    "```"
   ]
  },
  {
   "cell_type": "markdown",
   "id": "20ead8dc",
   "metadata": {},
   "source": [
    "```python\n",
    "(9**2 > 90 or 1 != 1) and 80//4 >= 8 and 44*3 + 12%5 and 9**100 < 8**104\n",
    "(81 > 90 or 1 != 1) and 80//4 >= 8 and 44*3 + 12%5 and 9**100 < 8**104\n",
    "(False or 1 != 1) and 80//4 >= 8 and 44*3 + 12%5 and 9**100 < 8**104\n",
    "(False or False) and 80//4 >= 8 and 44*3 + 12%5 and 9**100 < 8**104\n",
    "False and 80//4 >= 8 and 44*3 + 12%5 and 9**100 < 8**104       \n",
    "False and 44*3 + 12%5 and 9**100 < 8**104\n",
    "False and 9**100 < 8**104\n",
    "False\n",
    "```"
   ]
  },
  {
   "cell_type": "markdown",
   "id": "f82ebc7f",
   "metadata": {},
   "source": [
    "<h3>2. Conditions</h3><a class='anchor' id='conditions'></a> \n",
    "\n",
    "<b><font color='white' style='background-color:black'>Ex. 2.1</font> if - elif - else</b><a class='anchor' id='syntaxe'></a><br> On peut utiliser une expression logique pour gérer le flux de travail d'un programme. On le fait avec la syntaxe conditionnelle :\n",
    "\n",
    "```python\n",
    "if condition:\n",
    "    # exécuté si condition est True\n",
    "elif autre_condition:\n",
    "    # exécuté si condition est False et autre_condition est True\n",
    "elif encore_une_autre_condition:\n",
    "    # exécuté si condition et autre_condition sont False et encore_une_autre_condition est True\n",
    "else:\n",
    "    # exécuté si toutes les conditions précédentes sont False\n",
    "```\n",
    "\n",
    "Exemple :\n",
    "```python\n",
    "from random import randint\n",
    "\n",
    "dé = randint(1,6)      # On \"lance\" un dé à 6 faces\n",
    "if dé >= 5:\n",
    "    # exécuté si on a fait 5 ou 6\n",
    "    print(\"Bon resultat !\")\n",
    "elif dé >= 3:\n",
    "    # exécuté si on a fait 3 ou 4\n",
    "    # (parce que si on avait fait 5 ou 6, on aurait exécuté le morceau précédent !\n",
    "    print(\"Pas ouf\")\n",
    "else:\n",
    "    # exécuté si on a fait 1 ou 2\n",
    "    print(\"Mince\")\n",
    "```\n",
    "\n",
    "Seulement le bloc du `if` est nécessaire : les autres parties sont optionnelles, on le verra dans la suite."
   ]
  },
  {
   "cell_type": "markdown",
   "id": "852dc8b8",
   "metadata": {},
   "source": [
    "<b><font color='white' style='background-color:orange'>2.1.a</font></b> Comparez les deux codes suivants et expliquez pourquoi ils ne donnent pas toujours le même résultat. Ecrivez votre réponse dans la boîte de texte"
   ]
  },
  {
   "cell_type": "code",
   "execution_count": null,
   "id": "e6b71730",
   "metadata": {},
   "outputs": [],
   "source": [
    "# Ne pas modifier !!\n",
    "from random import randint\n",
    "\n",
    "dé = randint(1, 6)\n",
    "if dé == 6:\n",
    "    print('Vous avez obtenu 6')\n",
    "    print('Bravo !')"
   ]
  },
  {
   "cell_type": "code",
   "execution_count": null,
   "id": "bf23b76c",
   "metadata": {},
   "outputs": [],
   "source": [
    "# Ne pas modifier !!\n",
    "dé = randint(1, 6)\n",
    "if dé == 6:\n",
    "    print('Vous avez obtenu 6')\n",
    "print('Bravo !')"
   ]
  },
  {
   "cell_type": "markdown",
   "id": "a96a5931",
   "metadata": {},
   "source": [
    "**Ici votre réponse**"
   ]
  },
  {
   "cell_type": "markdown",
   "id": "85ae39b1",
   "metadata": {},
   "source": [
    "<b><font color='white' style='background-color:orange'>2.1.b</font></b> <font color='white' style='text-shadow: -1px 0 black, 0 1px black, 1px 0 black, 0 -1px black;'>C</font> Ecrivez du code qui lance un dé à 6 faces et si le résultat est plus grand que 3, affiche `\"gagné !\"`, sinon `\"perdu :(\"`"
   ]
  },
  {
   "cell_type": "code",
   "execution_count": null,
   "id": "54dd1a14",
   "metadata": {},
   "outputs": [],
   "source": [
    "dé = randint(1,6)\n",
    "if dé > 3:\n",
    "    print('gagné !')\n",
    "else:\n",
    "    print('perdu :(')"
   ]
  },
  {
   "cell_type": "markdown",
   "id": "85fe6a56",
   "metadata": {},
   "source": [
    "<b><font color='white' style='background-color:orange'>2.1.c</font></b> Ecrivez du code qui lance deux dés à 6 faces et si la somme est plus grande que 7, affiche `\"gagné !\"`, sinon `\"perdu :(\"`"
   ]
  },
  {
   "cell_type": "code",
   "execution_count": null,
   "id": "777f8269",
   "metadata": {},
   "outputs": [],
   "source": []
  },
  {
   "cell_type": "markdown",
   "id": "79403377",
   "metadata": {},
   "source": [
    "<b><font color='white' style='background-color:orange'>2.1.d</font></b> <font color='white' style='text-shadow: -1px 0 black, 0 1px black, 1px 0 black, 0 -1px black;'>C</font> Écrivez du code pour lancer deux dés (à 6 faces). Affichez les deux valeurs en ordre : la plus grande valeur en premier. Utiliser la syntaxe conditionnelle."
   ]
  },
  {
   "cell_type": "code",
   "execution_count": null,
   "id": "af19efb7",
   "metadata": {},
   "outputs": [],
   "source": [
    "dé_1 = randint(1,6)\n",
    "dé_2 = randint(1,6)\n",
    "if dé_1 > dé_2:\n",
    "    print(dé_1, dé_2)\n",
    "else:\n",
    "    print(dé_2, dé_1)"
   ]
  },
  {
   "cell_type": "markdown",
   "id": "94c63e28",
   "metadata": {},
   "source": [
    "<b><font color='white' style='background-color:green'>2.1.d-bis</font></b> Écrivez du code pour faire la même chose, mais cette fois sans utiliser le `if`"
   ]
  },
  {
   "cell_type": "code",
   "execution_count": null,
   "id": "3b9fb3f5",
   "metadata": {},
   "outputs": [],
   "source": []
  },
  {
   "cell_type": "markdown",
   "id": "284a1867",
   "metadata": {},
   "source": [
    "<b><font color='white' style='background-color:black'>Ex. 2.2</font> Fonctions et conditions</b><a class='anchor' id='foncond'></a><br>\n",
    "<b><font color='white' style='background-color:green'>2.2.a</font></b> <font color='white' style='text-shadow: -1px 0 black, 0 1px black, 1px 0 black, 0 -1px black;'>C</font> Créez une fonction `saluer`qui prend en entrée un entier `heure`. Si `heure` est entre 6 et 17, la fonction rend `'Bonjour !'`, si `heure` est entre 18 et 23 elle rend `'Bonsoir !'`, si elle est entre 0 et 5 elle rend `'Bonne nuit !'`, et si elle est n'importe quel autre entier, elle rend `'Oh, parbleu !'`. Dans la deuxième case, testez la fonction avec au moins un `assert` pour chaque type de réponse. "
   ]
  },
  {
   "cell_type": "code",
   "execution_count": null,
   "id": "d5979a4e",
   "metadata": {},
   "outputs": [],
   "source": [
    "def saluer(heure):\n",
    "    if heure >= 6 and heure <= 17:\n",
    "        res = 'Bonjour !'\n",
    "    elif heure >= 18 and heure <= 23:\n",
    "        res = 'Bonsoir !'\n",
    "    elif heure >= 0 and heure <= 5:\n",
    "        res = 'Bonne nuit !'\n",
    "    else:\n",
    "        res = 'Oh, parbleu !'\n",
    "    return res"
   ]
  },
  {
   "cell_type": "code",
   "execution_count": null,
   "id": "8d7247c5",
   "metadata": {},
   "outputs": [],
   "source": [
    "assert saluer(6) == 'Bonjour !'\n",
    "assert saluer(19) == 'Bonsoir !'\n",
    "assert saluer(3) == 'Bonne nuit !'\n",
    "assert saluer(-15) == 'Oh, parbleu !'"
   ]
  },
  {
   "cell_type": "markdown",
   "id": "3cdb4023",
   "metadata": {},
   "source": [
    "<b><font color='white' style='background-color:green'>2.2.b</font></b> Créez une fonction `lancer` qui lance deux dés à 6 faces et somme ses valeurs. Si c'est un doublon (double 1, double 2, etc.), après avoir fait la somme, la fonction lance les deux dés à nouveaux et somme aussi les nouveaux résultats."
   ]
  },
  {
   "cell_type": "code",
   "execution_count": null,
   "id": "0f7da73a",
   "metadata": {},
   "outputs": [],
   "source": []
  },
  {
   "cell_type": "code",
   "execution_count": null,
   "id": "995c6ac3",
   "metadata": {},
   "outputs": [],
   "source": []
  },
  {
   "cell_type": "markdown",
   "id": "50b01eaf",
   "metadata": {},
   "source": [
    "<b><font color='white' style='background-color:green'>2.2.b-bis</font></b> <font color='white' style='text-shadow: -1px 0 black, 0 1px black, 1px 0 black, 0 -1px black;'>C</font> Comment tester cette fonction ? On ne peut pas la tester avec les `assert` à cause de son caratère aléatoire. Néanmoins, on peut rajouter des `print` pour récupérer la valeur des deux dés et ensuite pour voir si le flux de travail rentre dans la condition. Modifiez la fonction et testez."
   ]
  },
  {
   "cell_type": "code",
   "execution_count": null,
   "id": "0cf7a51b",
   "metadata": {},
   "outputs": [],
   "source": [
    "def lancer():\n",
    "    dé_1 = randint(1,6)\n",
    "    dé_2 = randint(1,6)\n",
    "    print(dé_1, dé_2)\n",
    "    somme = dé_1 + dé_2\n",
    "    if dé_1 == dé_2:\n",
    "        print(\"Doublon !\")\n",
    "        dé_1 = randint(1,6)\n",
    "        dé_2 = randint(1,6)\n",
    "        print(dé_1, dé_2)\n",
    "        somme = somme + dé_1 + dé_2\n",
    "    return somme"
   ]
  },
  {
   "cell_type": "code",
   "execution_count": null,
   "id": "46e441ca",
   "metadata": {},
   "outputs": [],
   "source": [
    "lancer()"
   ]
  },
  {
   "cell_type": "markdown",
   "id": "c8eb935e",
   "metadata": {},
   "source": [
    "<b><font color='white' style='background-color:black'>Ex. 2.3</font>Conditions imbriquées</b><a class='anchor' id='imbriquées'></a><br>\n",
    "<b><font color='white' style='background-color:blue'>2.3.a</font></b> <font color='white' style='text-shadow: -1px 0 black, 0 1px black, 1px 0 black, 0 -1px black;'>C</font> Ecrivez une fonction `ordre` qui prend trois entiers `a`, `b`, `c` en entrée et les trie en ordre décroissant. Dans la deuxième boîte, testez-la avec 10 `assert` qui couvrent les différentes possibilités."
   ]
  },
  {
   "cell_type": "code",
   "execution_count": null,
   "id": "7cb12677",
   "metadata": {},
   "outputs": [],
   "source": [
    "def ordre(a, b, c):\n",
    "    if a >= b and a >= c:\n",
    "        if b >= c:\n",
    "            return a, b, c\n",
    "        else:\n",
    "            return a, c, b\n",
    "    elif b >= a and b >= c:\n",
    "        if a >= c:\n",
    "            return b, a, c\n",
    "        else:\n",
    "            return b, c, a\n",
    "    else:\n",
    "        if a >= b:\n",
    "            return c, a, b\n",
    "        else:\n",
    "            return c, b, a"
   ]
  },
  {
   "cell_type": "code",
   "execution_count": null,
   "id": "b9c03ede",
   "metadata": {},
   "outputs": [],
   "source": [
    "assert ordre(1,1,1) == (1,1,1)\n",
    "assert ordre(1,4,1) == (4,1,1)\n",
    "assert ordre(2,2,1) == (2,2,1)\n",
    "assert ordre(1,2,3) == (3,2,1)\n",
    "assert ordre(1,3,2) == (3,2,1)\n",
    "assert ordre(2,1,3) == (3,2,1)\n",
    "assert ordre(2,3,1) == (3,2,1)\n",
    "assert ordre(3,1,2) == (3,2,1)\n",
    "assert ordre(3,2,1) == (3,2,1)"
   ]
  },
  {
   "cell_type": "markdown",
   "id": "58b84d8e",
   "metadata": {},
   "source": [
    "<h3>3. Boucle while</h3><a class='anchor' id='while'></a>\n",
    "\n",
    "Les ordinateurs ont été inventés pour faire plus rapidement des long calculs répétitifs. Jusqu'ici on a vu comment un programme peut opérer des choix grâce à la syntaxe conditionnelle. Maintenant on voit la première structure qui nous permet de répéter un bloc d'instructions jusqu'à quand une certaine condition n'est atteinte.\n",
    "\n",
    "La boucle `while` a une syntaxe très simple :\n",
    "\n",
    "```python\n",
    "while condition:\n",
    "    # exécute ce code tant que condition == True\n",
    "```\n",
    "\n",
    "Exemple : un script qui fait la somme des premiers 5 entiers.\n",
    "```python\n",
    "i = 0                   # Initialise i (le compteur de la boucle) à 0\n",
    "somme = 0               # Initialise somme (la variable contenant le résultat) à 0\n",
    "while i < 5:            # tant que i est inférieure à 10\n",
    "    i = i + 1           # rajoute 1 à la valeur de i\n",
    "    somme = somme + i   # rajoute i à la valeur de somme\n",
    "print(somme)            # affiche le résultat\n",
    "```\n",
    "\n",
    "Pour mieux suivre le flux de travail des boucles, on se servira d'une table où on transcrit les valeurs des variables dans la boucle. Dans l'exemple, on a les variables `i` et `somme`. On transcrit la valeur des variables **à la fin** du tour de boucle.\n",
    "\n",
    "| tour de boucle   | i    | somme | i<5       |\n",
    "|-----------------:|-----:|------:|----------:|\n",
    "| 0 (entrée)       | 0    | 0     | True      |\n",
    "| 1                | 1    | 1     | True      |\n",
    "| 2                | 2    | 3     | True      |\n",
    "| 3                | 3    | 6     | True      |\n",
    "| 4                | 4    | 10    | True      |\n",
    "| 5 (sortie)       | 5    | 15    | False     |"
   ]
  },
  {
   "cell_type": "markdown",
   "id": "eda51284",
   "metadata": {},
   "source": [
    "<b><font color='white' style='background-color:black'>Ex. 3.1</font> Premières boucles</b><a class='anchor' id='premières'></a><br>\n",
    "Commençons par quelques cas simples<br>\n",
    "<b><font color='white' style='background-color:orange'>3.1.a</font></b> <font color='white' style='text-shadow: -1px 0 black, 0 1px black, 1px 0 black, 0 -1px black;'>C</font> Ecrire une boucle `while` qui affiche les entiers de 0 à 9"
   ]
  },
  {
   "cell_type": "code",
   "execution_count": null,
   "id": "5a16417c",
   "metadata": {},
   "outputs": [],
   "source": [
    "i = 0\n",
    "while i < 10:\n",
    "    print(i)\n",
    "    i = i + 1"
   ]
  },
  {
   "cell_type": "markdown",
   "id": "ea8f1c2b",
   "metadata": {},
   "source": [
    "<b><font color='white' style='background-color:orange'>3.1.b</font></b> Ecrire une boucle `while` qui affiche les multiples de 3, de 3 jusqu'à 18 (inclus)"
   ]
  },
  {
   "cell_type": "code",
   "execution_count": null,
   "id": "bfafd466",
   "metadata": {},
   "outputs": [],
   "source": []
  },
  {
   "cell_type": "markdown",
   "id": "4ba962e3",
   "metadata": {},
   "source": [
    "<b><font color='white' style='background-color:orange'>3.1.c</font></b> Ecrire une boucle `while` qui lance 5 dés à 10 faces et en affiche les résultats"
   ]
  },
  {
   "cell_type": "code",
   "execution_count": null,
   "id": "c934c8fc",
   "metadata": {},
   "outputs": [],
   "source": []
  },
  {
   "cell_type": "markdown",
   "id": "3119b401",
   "metadata": {},
   "source": [
    "<b><font color='white' style='background-color:orange'>3.1.d</font></b> <font color='white' style='text-shadow: -1px 0 black, 0 1px black, 1px 0 black, 0 -1px black;'>C</font> Ecrire une boucle `while` qui produit l'affichage suivant:\n",
    "```\n",
    "5\n",
    "4\n",
    "3\n",
    "2\n",
    "1\n",
    "```"
   ]
  },
  {
   "cell_type": "code",
   "execution_count": null,
   "id": "27775f24",
   "metadata": {},
   "outputs": [],
   "source": [
    "i = 5\n",
    "while i > 0:\n",
    "    print(i)\n",
    "    i = i - 1"
   ]
  },
  {
   "cell_type": "markdown",
   "id": "f06739f1",
   "metadata": {},
   "source": [
    "<b><font color='white' style='background-color:orange'>3.1.e</font></b> Ecrire une boucle `while` qui produit l'affichage suivant:\n",
    "```\n",
    "32\n",
    "16\n",
    "8\n",
    "4\n",
    "2\n",
    "1\n",
    "```"
   ]
  },
  {
   "cell_type": "code",
   "execution_count": null,
   "id": "10010083",
   "metadata": {},
   "outputs": [],
   "source": []
  },
  {
   "cell_type": "markdown",
   "id": "09986673",
   "metadata": {},
   "source": [
    "<b><font color='white' style='background-color:orange'>3.1.f</font></b> <font color='white' style='text-shadow: -1px 0 black, 0 1px black, 1px 0 black, 0 -1px black;'>C</font> Ecrivez la table des variables de boucle pour le code suivant :"
   ]
  },
  {
   "cell_type": "code",
   "execution_count": null,
   "id": "d99407e2",
   "metadata": {},
   "outputs": [],
   "source": [
    "# Ne pas modifier !!\n",
    "i = 1\n",
    "factorielle = 1\n",
    "while i < 5:\n",
    "    factorielle = factorielle * i\n",
    "    i = i + 1\n",
    "print(factorielle)"
   ]
  },
  {
   "cell_type": "markdown",
   "id": "c558e22d",
   "metadata": {},
   "source": [
    "| tour de boucle   | i    | factorielle | i<5       |\n",
    "|-----------------:|-----:|------------:|----------:|\n",
    "| 0 (entrée)       | 1    | 1           | True      |\n",
    "| 1                | 2    | 1           | True      |\n",
    "| 2                | 3    | 2           | True      |\n",
    "| 3                | 4    | 6           | True      |\n",
    "| 4 (sortie)       | 5    | 24          | False     |"
   ]
  },
  {
   "cell_type": "markdown",
   "id": "e998c4bc",
   "metadata": {},
   "source": [
    "<b><font color='white' style='background-color:green'>3.1.g</font></b> <font color='white' style='text-shadow: -1px 0 black, 0 1px black, 1px 0 black, 0 -1px black;'>C</font> Ecrivez une boucle `while` qui compte tous les multiples de 3 ou de 5 qui se trouvent entre 13 et 78"
   ]
  },
  {
   "cell_type": "code",
   "execution_count": null,
   "id": "097b0dbd",
   "metadata": {},
   "outputs": [],
   "source": [
    "i = 13\n",
    "c = 0\n",
    "while i <= 78:\n",
    "    if i % 3 or i % 5:\n",
    "        c = c + 1\n",
    "    i = i + 1\n",
    "print(c)"
   ]
  },
  {
   "cell_type": "markdown",
   "id": "02ea4bf9",
   "metadata": {},
   "source": [
    "<b><font color='white' style='background-color:green'>3.1.g-bis</font></b> Transformez l'exercice précédent en fonction : nommez la fonction `compte_3_5`. Elle doit prendre en entrée deux entiers `début` et `fin` : ils vont remplacer `13` et `78` dans le code précédent. La fonction doit rendre le décompte.\n",
    "Testez avec un jeu de test adéquat (au moins 3 assert)"
   ]
  },
  {
   "cell_type": "code",
   "execution_count": null,
   "id": "de8f2ac0",
   "metadata": {},
   "outputs": [],
   "source": []
  },
  {
   "cell_type": "code",
   "execution_count": null,
   "id": "2cd31af8",
   "metadata": {},
   "outputs": [],
   "source": []
  },
  {
   "cell_type": "markdown",
   "id": "3a531b97",
   "metadata": {},
   "source": [
    "<b><font color='white' style='background-color:black'>Ex. 3.2</font> Conditions d'arrêt</b><a class='anchor' id='arrêt'></a><br>\n",
    "Il faut faire attention à la condion d'arrêt de la boucle. Considérez cet exemple:\n",
    "\n",
    "```python\n",
    "i = 1\n",
    "while i > 0:\n",
    "    i = i + 3\n",
    "print(i)\n",
    "```\n",
    "\n",
    "| tour de boucle   | i    | i>0       |\n",
    "|-----------------:|-----:|----------:|\n",
    "| 0 (entrée)       | 1    | True      |\n",
    "| 1                | 4    | True      |\n",
    "| 2                | 7    | True      |\n",
    "| 3                | 11   | True      |\n",
    "| 4                | 14   | True      |\n",
    "| ...              | ...  | True      |"
   ]
  },
  {
   "cell_type": "markdown",
   "id": "d66ac34a",
   "metadata": {},
   "source": [
    "<b><font color='white' style='background-color:green'>3.2.a</font></b> <font color='white' style='text-shadow: -1px 0 black, 0 1px black, 1px 0 black, 0 -1px black;'>C</font> On a la fonction dans la boîte de code suivante. Déterminez pour quelles valeurs de `a` et `b` la fonction ne tourne pas à l'infini."
   ]
  },
  {
   "cell_type": "code",
   "execution_count": null,
   "id": "36180c5c",
   "metadata": {},
   "outputs": [],
   "source": [
    "def fonction(a, b):\n",
    "    while a < b:\n",
    "        b = b - a\n",
    "    return b"
   ]
  },
  {
   "cell_type": "markdown",
   "id": "c1bd43b6",
   "metadata": {},
   "source": [
    "**Pour toute valeur de b et pour $a > 0$**"
   ]
  },
  {
   "cell_type": "markdown",
   "id": "2023015c",
   "metadata": {},
   "source": [
    "<b><font color='white' style='background-color:green'>3.2.b</font></b> Qu'est-ce qui ne va pas dans ce code ? Calculez la table des variables pour les premiers 3 tours de boucle\n",
    "\n",
    "```python\n",
    "f = 2**0\n",
    "res = 1\n",
    "while res < 1000:\n",
    "    res = res * f\n",
    "print(res)\n",
    "```"
   ]
  },
  {
   "cell_type": "markdown",
   "id": "820b7fe7",
   "metadata": {},
   "source": [
    "**Ici votre réponse**"
   ]
  },
  {
   "cell_type": "markdown",
   "id": "d6c491c1",
   "metadata": {},
   "source": [
    "<b><font color='white' style='background-color:black'>Ex. 3.3</font> Plus loin avec les boucles</b><a class='anchor' id='while2'></a><br>"
   ]
  },
  {
   "cell_type": "markdown",
   "id": "b51e8001",
   "metadata": {},
   "source": [
    "<b><font color='white' style='background-color:green'>3.3.a</font></b> Un nombre premier est un entier positif qui n'est pas divisible par aucun entier sauf 1 et lui-même. Créez une fonction `est_premier` qui prend un entier en entrée et contrôle s'il est premier ou pas. S'il est premier, la fonction rend `True`, sinon `False`. Créez un jeu de tests adéquat avec au moins 4 `assert`"
   ]
  },
  {
   "cell_type": "code",
   "execution_count": null,
   "id": "44e4da62",
   "metadata": {},
   "outputs": [],
   "source": []
  },
  {
   "cell_type": "code",
   "execution_count": null,
   "id": "06b0eafa",
   "metadata": {},
   "outputs": [],
   "source": []
  },
  {
   "cell_type": "markdown",
   "id": "c8e025a7",
   "metadata": {},
   "source": [
    "<b><font color='white' style='background-color:green'>3.3.b</font></b> <font color='white' style='text-shadow: -1px 0 black, 0 1px black, 1px 0 black, 0 -1px black;'>C</font> Ecrire une fonction `ppcm` qui renvoie le plus petit commun multiple de deux entiers en entrée `a` et `b`. La stratégie est : individuer le minimum entre `a` et `b` et le multiplier par 1, 2, 3, etc jusqu'à quand il est divisible par l'autre entier. Tester avec au moins 4 `assert`"
   ]
  },
  {
   "cell_type": "code",
   "execution_count": null,
   "id": "a546159c",
   "metadata": {},
   "outputs": [],
   "source": [
    "def ppcm(a, b):\n",
    "    m = min(a,b)\n",
    "    c = m\n",
    "    M = max(a,b)\n",
    "    while c % M != 0:\n",
    "        c = c + m\n",
    "    return c"
   ]
  },
  {
   "cell_type": "code",
   "execution_count": null,
   "id": "fdc40f46",
   "metadata": {},
   "outputs": [],
   "source": [
    "assert ppcm(1, 5) == 5\n",
    "assert ppcm(5, 5) == 5\n",
    "assert ppcm(4, 5) == 20\n",
    "assert ppcm(12, 18) == 36"
   ]
  }
 ],
 "metadata": {
  "kernelspec": {
   "display_name": "Python 3 (ipykernel)",
   "language": "python",
   "name": "python3"
  },
  "language_info": {
   "codemirror_mode": {
    "name": "ipython",
    "version": 3
   },
   "file_extension": ".py",
   "mimetype": "text/x-python",
   "name": "python",
   "nbconvert_exporter": "python",
   "pygments_lexer": "ipython3",
   "version": "3.10.8"
  }
 },
 "nbformat": 4,
 "nbformat_minor": 5
}
