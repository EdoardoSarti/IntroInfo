{
 "cells": [
  {
   "cell_type": "markdown",
   "id": "b64b4f69",
   "metadata": {},
   "source": [
    "<h1><center>SPEV311 — Introduction à l'Informatique — TP 02</center><br>\n",
    "<center> Conditions, Boucles</center></h1>"
   ]
  },
  {
   "cell_type": "markdown",
   "id": "630e6c47",
   "metadata": {},
   "source": [
    "<h3>Auto-évaluation</h3>\n",
    "\n",
    "<div> Les exercices se divisent en trois niveaux d'auto-évaluation:\n",
    "<ul>\n",
    "    <li><h3><font color='white' style='background-color:orange'>Fondamentaux</font></h3> Pour réviser les notions apprises en cours. Il faut tous les savoir résoudre pour arriver au 10/20.</li>\n",
    "    <li><h3><font color='white' style='background-color:green'>Intermédiaires</font></h3> Pour vous aider à raisonner et rentrer au coeur des sujets. Si vous savez les résoudre, vous arriverez jusqu'à 16/20.</li>\n",
    "    <li><h3><font color='white' style='background-color:blue'>Avancés</font></h3> Défis pour vous entraîner et aller jusqu'au 20/20!</li>\n",
    "</ul>\n",
    "</div>"
   ]
  },
  {
   "cell_type": "markdown",
   "id": "284f68e2",
   "metadata": {},
   "source": [
    "<h3>1. Booléens</h3>\n",
    "\n",
    "<b><font color='white' style='background-color:black'>Ex. 1.1</font> Opérations sur les booléens</b><br>"
   ]
  },
  {
   "cell_type": "markdown",
   "id": "a14ec098",
   "metadata": {},
   "source": [
    "<b><font color='white' style='background-color:black'>Ex. 1.2</font> Tests avancés</b><br>"
   ]
  },
  {
   "cell_type": "markdown",
   "id": "bd5543d5",
   "metadata": {},
   "source": [
    "<h3>2. Conditions</h3>\n",
    "\n",
    "<b><font color='white' style='background-color:black'>Ex. 2.1</font> If, elif, else</b><br>"
   ]
  },
  {
   "cell_type": "markdown",
   "id": "c681ee12",
   "metadata": {},
   "source": [
    "<b><font color='white' style='background-color:black'>Ex. 2.2</font> Plus loin avec les conditions</b><br>"
   ]
  },
  {
   "cell_type": "markdown",
   "id": "e4a4ff34",
   "metadata": {},
   "source": [
    "<b><font color='white' style='background-color:black'>Ex. 2.3</font> Conditions imbriquées</b><br>"
   ]
  },
  {
   "cell_type": "markdown",
   "id": "b805ba4c",
   "metadata": {},
   "source": [
    "<h3>3. Boucle while</h3>\n",
    "\n",
    "<b><font color='white' style='background-color:black'>Ex. 3.1</font> Premières boucles</b><br>"
   ]
  },
  {
   "cell_type": "markdown",
   "id": "891319ba",
   "metadata": {},
   "source": [
    "<b><font color='white' style='background-color:black'>Ex. 3.2</font> Conditions d'arrêt</b><br>"
   ]
  },
  {
   "cell_type": "markdown",
   "id": "f2e7c70c",
   "metadata": {},
   "source": [
    "<b><font color='white' style='background-color:black'>Ex. 3.3</font> Plus loin avec les boucles</b><br>"
   ]
  },
  {
   "cell_type": "code",
   "execution_count": 46,
   "id": "b3371353",
   "metadata": {},
   "outputs": [
    {
     "data": {
      "text/plain": [
       "1.0000100000000001e-05"
      ]
     },
     "execution_count": 46,
     "metadata": {},
     "output_type": "execute_result"
    }
   ],
   "source": [
    "10**-10 + 10**-5"
   ]
  },
  {
   "cell_type": "markdown",
   "id": "67799476",
   "metadata": {},
   "source": [
    "<b><font color='white' style='background-color:orange'>1.1.b</font></b> Calculez le nombre de secondes dans une journée"
   ]
  },
  {
   "cell_type": "code",
   "execution_count": 6,
   "id": "2df6adb1",
   "metadata": {},
   "outputs": [
    {
     "data": {
      "text/plain": [
       "86400"
      ]
     },
     "execution_count": 6,
     "metadata": {},
     "output_type": "execute_result"
    }
   ],
   "source": [
    "24 * 60 * 60"
   ]
  },
  {
   "cell_type": "markdown",
   "id": "a3760efd",
   "metadata": {},
   "source": [
    "<b><font color='white' style='background-color:orange'>1.1.c</font></b> La vieille Céline a 7 filles, chacune de ses filles a 7 enfants, chaque enfant a 7 chats et chaque chat a 7 chatons : en comptant filles, enfants, chats et chatons, c'est combien le grand total de la famille de la vieille Céline ? Calculez-le en n'utilisant que des sommes et des produits, puis calculez-le en utilisant l'opérateur puissance."
   ]
  },
  {
   "cell_type": "code",
   "execution_count": 3,
   "id": "37a6b072",
   "metadata": {},
   "outputs": [
    {
     "data": {
      "text/plain": [
       "2800"
      ]
     },
     "execution_count": 3,
     "metadata": {},
     "output_type": "execute_result"
    }
   ],
   "source": [
    "7 + 7*7 + 7*7*7 + 7*7*7*7"
   ]
  },
  {
   "cell_type": "code",
   "execution_count": 4,
   "id": "28c942ff",
   "metadata": {},
   "outputs": [
    {
     "data": {
      "text/plain": [
       "2800"
      ]
     },
     "execution_count": 4,
     "metadata": {},
     "output_type": "execute_result"
    }
   ],
   "source": [
    "7 + 7**2 + 7**3 + 7**4"
   ]
  },
  {
   "cell_type": "markdown",
   "id": "1832ee92",
   "metadata": {},
   "source": [
    "<b><font color='white' style='background-color:orange'>1.1.d</font></b> Transcrivez cette expression dans la boîte de code ci-dessous et en calculez le résultat:"
   ]
  },
  {
   "cell_type": "markdown",
   "id": "49262e4b",
   "metadata": {},
   "source": [
    "$$ \\left[(2^7 - 15) \\times 5 + 2^{(3+4)^2}\\right] + \\left(2 - (5 \\times 10)\\right)$$"
   ]
  },
  {
   "cell_type": "code",
   "execution_count": 32,
   "id": "696e3675",
   "metadata": {},
   "outputs": [
    {
     "data": {
      "text/plain": [
       "562949953421829"
      ]
     },
     "execution_count": 32,
     "metadata": {},
     "output_type": "execute_result"
    }
   ],
   "source": [
    "( (2**7 - 15)*5 + 2**((3+4)**2) ) + (2 - (5*10))"
   ]
  },
  {
   "cell_type": "markdown",
   "id": "2624b5c6",
   "metadata": {},
   "source": [
    "<b><font color='white' style='background-color:green'>1.1.e</font></b> Dans l'expression de l'exercice `1.1.d`, quelles sont les parenthèses qui peuvent être omises sans changer le résultat de l'expression ? Ecrivez à nouveau l'expression de `1.1.d` dans la boîte ci-dessous, enlevez toutes les parenthèses rédondantes et assurez-vous que le résultat ne soit pas changé!"
   ]
  },
  {
   "cell_type": "code",
   "execution_count": 33,
   "id": "098da7c5",
   "metadata": {},
   "outputs": [
    {
     "data": {
      "text/plain": [
       "562949953421829"
      ]
     },
     "execution_count": 33,
     "metadata": {},
     "output_type": "execute_result"
    }
   ],
   "source": [
    "(2**7 - 15)*5 + 2**((3+4)**2) + 2 - 5*10"
   ]
  },
  {
   "cell_type": "markdown",
   "id": "40e9fd3d",
   "metadata": {},
   "source": [
    "<b><font color='white' style='background-color:blue'>1.1.f</font></b> Il est difficile de s'assurer si le résultat de `1.1.d` est correct: on devrait faire les calculs à la main, mais ça a l'air pénible. On peut néanmoins vérifier au moins la *parité* du résultat attendu: en regardant l'expression `1.1.d`, arrivez-vous à prédire si le résultat devra être pair ou impair ? Décrivez votre raisonnement dans la boîte de texte ci-dessous."
   ]
  },
  {
   "cell_type": "markdown",
   "id": "7397d6ae",
   "metadata": {},
   "source": [
    "Regardons la parité des facteurs : $$ \\left[(\\mathrm{pair} - \\mathrm{impair}) \\times \\mathrm{impair} + \\mathrm{pair}\\right] + \\left(\\mathrm{pair}\\right)$$\n",
    "$$= \\left[(\\mathrm{impair}) \\times \\mathrm{impair} + \\mathrm{pair}\\right] + \\left(\\mathrm{pair}\\right)$$\n",
    "$$= \\left[\\mathrm{impair} + \\mathrm{pair}\\right] + \\left(\\mathrm{pair}\\right) = \\mathrm{impair}$$"
   ]
  },
  {
   "cell_type": "markdown",
   "id": "36f8b176",
   "metadata": {},
   "source": [
    "<p><img style=\"float:right; margin:20px; padding:20px; max-width:400px\" src=\"Division_euclidienne.jpeg\"></p>\n",
    "<p style=\"text-align:justify;\">\n",
    "<br><br>\n",
    "<b><font color='white' style='background-color:black'>Ex. 1.2</font> Division éuclidienne: quotient et reste</b>\n",
    "<br> En générale, la division décimale rend un résultat à virgule. Il y a des contexte où on est plutôt intéressé à avoir un résultat en termes de quotient et reste entiers : s'il faut dire combien ça fait 2 heures divisées par 3, personne ne dirait $0.\\overline{6}$ heures, mais bien 40 minutes ! Si $a$ et $b$ sont des entiers et $b \\neq 0$, on peut utiliser la division éuclidienne comme vu en cours.<br>\n",
    "</p>"
   ]
  },
  {
   "cell_type": "markdown",
   "id": "ca45e14d",
   "metadata": {},
   "source": [
    "<b><font color='white' style='background-color:orange'>1.2.a</font></b> Essayons: Marc, Pierre et Louise veulent se répartir équitablement un plateau avec 14 gâteaux. Combien de gâteaux aura chacun ? Combien de gâteaux resteront-ils sur le plateau ? Ecrivez les deux opérations à faire dans les deux boîtes de code ci-dessous."
   ]
  },
  {
   "cell_type": "code",
   "execution_count": 17,
   "id": "b35f7d82",
   "metadata": {},
   "outputs": [
    {
     "data": {
      "text/plain": [
       "4"
      ]
     },
     "execution_count": 17,
     "metadata": {},
     "output_type": "execute_result"
    }
   ],
   "source": [
    "14//3"
   ]
  },
  {
   "cell_type": "code",
   "execution_count": 18,
   "id": "1167e414",
   "metadata": {},
   "outputs": [
    {
     "data": {
      "text/plain": [
       "2"
      ]
     },
     "execution_count": 18,
     "metadata": {},
     "output_type": "execute_result"
    }
   ],
   "source": [
    "14%3"
   ]
  },
  {
   "cell_type": "markdown",
   "id": "32aa6169",
   "metadata": {},
   "source": [
    "<b><font color='white' style='background-color:orange'>1.2.b</font></b> Il est toujours important de contrôler ses résultats. Faisons donc le calcul à l'invers: Marc, Pierre et Louise mangent 4 gâteaux chacun, et en laissent 2 sur le plateau. Combien de gâteaux y avait-il sur le plateau?"
   ]
  },
  {
   "cell_type": "code",
   "execution_count": 28,
   "id": "94493724",
   "metadata": {},
   "outputs": [
    {
     "data": {
      "text/plain": [
       "14"
      ]
     },
     "execution_count": 28,
     "metadata": {},
     "output_type": "execute_result"
    }
   ],
   "source": [
    "3*4 + 2"
   ]
  },
  {
   "cell_type": "markdown",
   "id": "4cf8fe6a",
   "metadata": {},
   "source": [
    "<p><img style=\"float:right; margin:20px; padding:20px; max-width:200px\" src=\"Plaque_96_puits.jpeg\"></p>\n",
    "<p style=\"text-align:justify;\">\n",
    "<br><br><br><b><font color='white' style='background-color:orange'>1.2.c</font></b> Pour effectuer son titrage, j'ai besoin de remplir 300 puits avec de la solution. Chaque plaque a 96 puits: combien de plaques vais-je remplir complètement? Combien de puits restent-ils à remplir? Ecrivez les deux opérations à faire dans les deux boîtes de code ci-dessous.\n",
    "</p>"
   ]
  },
  {
   "cell_type": "code",
   "execution_count": 40,
   "id": "0d1b8009",
   "metadata": {},
   "outputs": [
    {
     "data": {
      "text/plain": [
       "3"
      ]
     },
     "execution_count": 40,
     "metadata": {},
     "output_type": "execute_result"
    }
   ],
   "source": [
    "300//96"
   ]
  },
  {
   "cell_type": "code",
   "execution_count": 26,
   "id": "c7cb0429",
   "metadata": {},
   "outputs": [
    {
     "data": {
      "text/plain": [
       "12"
      ]
     },
     "execution_count": 26,
     "metadata": {},
     "output_type": "execute_result"
    }
   ],
   "source": [
    "300%96"
   ]
  },
  {
   "cell_type": "markdown",
   "id": "885eca20",
   "metadata": {},
   "source": [
    "<b><font color='white' style='background-color:orange'>1.2.d</font></b> Etes-vous sûrs d'avoir bien fait les calculs de l'exercice `1.1.c`? Contrôlez en faisant le calcul invers, tout comme dans l'exercice `1.1.b`"
   ]
  },
  {
   "cell_type": "code",
   "execution_count": 27,
   "id": "0fd13ab2",
   "metadata": {},
   "outputs": [
    {
     "data": {
      "text/plain": [
       "300"
      ]
     },
     "execution_count": 27,
     "metadata": {},
     "output_type": "execute_result"
    }
   ],
   "source": [
    "3*96 + 12"
   ]
  },
  {
   "cell_type": "markdown",
   "id": "b5b08d6d",
   "metadata": {},
   "source": [
    "<b><font color='white' style='background-color:green'>1.2.e</font></b> Revenons sur cet exercice, cette fois en posant des questions plus utiles d'un point de vue scientifique. Pour effectuer son titrage, j'ai besoin de remplir 455 puits avec de la solution. Chaque plaque a 96 puits et coûte 4 euros: quel sera le montant dépensé pour acheter les plaques? Combien y aura-t-il de puits vides? Ecrivez les deux opérations à faire dans les deux boîtes de code ci-dessous."
   ]
  },
  {
   "cell_type": "code",
   "execution_count": 207,
   "id": "643ab7f2",
   "metadata": {},
   "outputs": [
    {
     "data": {
      "text/plain": [
       "20"
      ]
     },
     "execution_count": 207,
     "metadata": {},
     "output_type": "execute_result"
    }
   ],
   "source": [
    "(455//96 + 1)*4     # Cette formule n'est pas valide en général..."
   ]
  },
  {
   "cell_type": "code",
   "execution_count": 30,
   "id": "daca0f7c",
   "metadata": {},
   "outputs": [
    {
     "data": {
      "text/plain": [
       "25"
      ]
     },
     "execution_count": 30,
     "metadata": {},
     "output_type": "execute_result"
    }
   ],
   "source": [
    "96 - 455%96"
   ]
  },
  {
   "cell_type": "markdown",
   "id": "a4ce1cbb",
   "metadata": {},
   "source": [
    "<b><font color='white' style='background-color:orange'>1.2.f</font></b> L'opération modulo peut donc être utilisée pour savoir si un entier est un multiple d'un autre entier: en effet, si `a` est un multiple de `b`, l'opération `a%b` donnera `0` comme résultat. Vérifiez si `1234321` est un multiple de `11`."
   ]
  },
  {
   "cell_type": "code",
   "execution_count": 39,
   "id": "ac139074",
   "metadata": {},
   "outputs": [
    {
     "data": {
      "text/plain": [
       "0"
      ]
     },
     "execution_count": 39,
     "metadata": {},
     "output_type": "execute_result"
    }
   ],
   "source": [
    "1234321%11"
   ]
  },
  {
   "cell_type": "markdown",
   "id": "bce7d334",
   "metadata": {},
   "source": [
    "<b><font color='white' style='background-color:green'>1.2.g</font></b> Si un nombre $n$ est impair, quel sera le résultat de $n\\%2$? Ecrivez votre réponse dans la boîte de texte ci-dessous et expliquez."
   ]
  },
  {
   "cell_type": "markdown",
   "id": "5edafcde",
   "metadata": {},
   "source": [
    "Le résultat est 1. Si $n$ est impair, le reste de sa division par 2 est 1"
   ]
  },
  {
   "cell_type": "markdown",
   "id": "8bc1dfa6",
   "metadata": {},
   "source": [
    "<b><font color='white' style='background-color:green'>1.2.h</font></b> Copiez-collez l'expression que vous avez écrite en `1.1.d` et contrôlez si son résultat est pair ou impair, c'est à dire, s'il est un multiple de 2 ou pas. Rappelez-vous de l'ordre des opérations!"
   ]
  },
  {
   "cell_type": "code",
   "execution_count": 37,
   "id": "f0348619",
   "metadata": {},
   "outputs": [
    {
     "data": {
      "text/plain": [
       "1"
      ]
     },
     "execution_count": 37,
     "metadata": {},
     "output_type": "execute_result"
    }
   ],
   "source": [
    "(( (2**7 - 15)*5 + 2**((3+4)**2) ) + (2 - (5*10)) ) % 2"
   ]
  },
  {
   "cell_type": "markdown",
   "id": "a9606dcc",
   "metadata": {},
   "source": [
    "<h3>2. Variables</h3>"
   ]
  },
  {
   "cell_type": "markdown",
   "id": "3a6ea5ac",
   "metadata": {},
   "source": [
    "<p><img style=\"float:right; margin:20px; padding:20px; max-width:300px\" src=\"Variable.jpeg\"></p>\n",
    "<p><br><br>\n",
    "<b><font color='white' style='background-color:black'>Ex. 2.1</font> Affectation</b><br> Une variable est un espace de mémoire qui contient une valeur. La variable peut changer de valeur au cours d'un script.<br>\n",
    "</p>"
   ]
  },
  {
   "cell_type": "markdown",
   "id": "810d7fbe",
   "metadata": {},
   "source": [
    "<b><font color='white' style='background-color:gray'>Exemple</font></b><br>\n",
    "```python\n",
    "a = 7          # Initialise la variable a et attribue la valeur 7\n",
    "\n",
    "a = 'Barbie'   # La variable a est déjà initialisée, et contient la valeur 7. \n",
    "               # Ici, on remplace la valeur 7 avec la valeur 'Barbie'\n",
    "```"
   ]
  },
  {
   "cell_type": "markdown",
   "id": "983cabda",
   "metadata": {},
   "source": [
    "<b><font color='white' style='background-color:orange'>2.1.a</font></b> Dans la première boîte de code, attribuez la valeur `3` à la variable `nombre`. Dans la deuxième, attribuez la valeur `'Allez les Bleus !'` à la même variable. Enfin, affichez la valeur de la variable en ne saisissant que son nom dans la troisième boîte."
   ]
  },
  {
   "cell_type": "code",
   "execution_count": 57,
   "id": "3ac3d637",
   "metadata": {},
   "outputs": [],
   "source": [
    "nombre = 3"
   ]
  },
  {
   "cell_type": "code",
   "execution_count": 49,
   "id": "f3b1cf18",
   "metadata": {},
   "outputs": [],
   "source": [
    "nombre = 'Allez les Bleus !'"
   ]
  },
  {
   "cell_type": "code",
   "execution_count": 50,
   "id": "4a373d34",
   "metadata": {},
   "outputs": [
    {
     "data": {
      "text/plain": [
       "'Allez les Bleus !'"
      ]
     },
     "execution_count": 50,
     "metadata": {},
     "output_type": "execute_result"
    }
   ],
   "source": [
    "nombre"
   ]
  },
  {
   "cell_type": "markdown",
   "id": "ee00def4",
   "metadata": {},
   "source": [
    "<b><font color='white' style='background-color:orange'>2.1.b</font></b> Dans l'exercice `2.1.a`, quelles boîtes contiennent des instructions? Quelles boîtes contiennent des expressions? Expliquez."
   ]
  },
  {
   "cell_type": "markdown",
   "id": "da1b9c33",
   "metadata": {},
   "source": [
    "Les premières deux boîtes contiennent des instructions (d'affectation), alors que la troisième contient une expression (triviale : le résultat d'une valeur est la valeur même)"
   ]
  },
  {
   "cell_type": "markdown",
   "id": "26d654c1",
   "metadata": {},
   "source": [
    "<b><font color='white' style='background-color:orange'>2.1.c</font></b> Attribuez la valeur `10` à la variable `a`, et la valeur `7` à la variable b. Ensuite, calculez a - b"
   ]
  },
  {
   "cell_type": "code",
   "execution_count": 51,
   "id": "44bbd2c6",
   "metadata": {},
   "outputs": [],
   "source": [
    "a = 10"
   ]
  },
  {
   "cell_type": "code",
   "execution_count": 52,
   "id": "cbba770c",
   "metadata": {},
   "outputs": [],
   "source": [
    "b = 7"
   ]
  },
  {
   "cell_type": "code",
   "execution_count": 53,
   "id": "d6e0adec",
   "metadata": {},
   "outputs": [
    {
     "data": {
      "text/plain": [
       "3"
      ]
     },
     "execution_count": 53,
     "metadata": {},
     "output_type": "execute_result"
    }
   ],
   "source": [
    "a-b"
   ]
  },
  {
   "cell_type": "markdown",
   "id": "02e0daec",
   "metadata": {},
   "source": [
    "<b><font color='white' style='background-color:orange'>2.1.d</font></b> Attribuez la valeur `100` à la variable `mes_points` et la valeur `500 - mes_points` à la valeur `tes_points`. Affichez la valeur de `tes_points`."
   ]
  },
  {
   "cell_type": "code",
   "execution_count": 54,
   "id": "1a0776a7",
   "metadata": {},
   "outputs": [],
   "source": [
    "mes_points = 100"
   ]
  },
  {
   "cell_type": "code",
   "execution_count": 55,
   "id": "1b78767b",
   "metadata": {},
   "outputs": [],
   "source": [
    "tes_points = 500 - mes_points"
   ]
  },
  {
   "cell_type": "code",
   "execution_count": 56,
   "id": "a11b0978",
   "metadata": {},
   "outputs": [
    {
     "data": {
      "text/plain": [
       "400"
      ]
     },
     "execution_count": 56,
     "metadata": {},
     "output_type": "execute_result"
    }
   ],
   "source": [
    "tes_points"
   ]
  },
  {
   "cell_type": "markdown",
   "id": "40251714",
   "metadata": {},
   "source": [
    "<b><font color='white' style='background-color:orange'>2.1.e</font></b> Attribuez la valeur `100` à la variable `Batman`. Dans la deuxième boîte, cherchez à afficher la valeur de la variable Robin. Que se passe-t-il? Expliquez"
   ]
  },
  {
   "cell_type": "code",
   "execution_count": 117,
   "id": "0135dcdf",
   "metadata": {},
   "outputs": [],
   "source": [
    "Batman = 100"
   ]
  },
  {
   "cell_type": "code",
   "execution_count": 118,
   "id": "8b27a28f",
   "metadata": {},
   "outputs": [
    {
     "ename": "NameError",
     "evalue": "name 'Robin' is not defined",
     "output_type": "error",
     "traceback": [
      "\u001b[0;31m---------------------------------------------------------------------------\u001b[0m",
      "\u001b[0;31mNameError\u001b[0m                                 Traceback (most recent call last)",
      "Cell \u001b[0;32mIn[118], line 1\u001b[0m\n\u001b[0;32m----> 1\u001b[0m \u001b[43mRobin\u001b[49m\n",
      "\u001b[0;31mNameError\u001b[0m: name 'Robin' is not defined"
     ]
    }
   ],
   "source": [
    "Robin"
   ]
  },
  {
   "cell_type": "markdown",
   "id": "8502496b",
   "metadata": {},
   "source": []
  },
  {
   "cell_type": "markdown",
   "id": "486b17b4",
   "metadata": {},
   "source": [
    "<b><font color='white' style='background-color:green'>2.1.e</font></b> Dans une seule boîte de code, attribuez `10` à `a`, `3` à `b` et `50` à `c`, et calculez $$a^b - c*b + a$$ Ensuite, dans la deuxième boîte, ajoutez `1` à la valeur de `b` et calculez à nouveau l'expression."
   ]
  },
  {
   "cell_type": "code",
   "execution_count": 59,
   "id": "5bb7cece",
   "metadata": {},
   "outputs": [
    {
     "data": {
      "text/plain": [
       "860"
      ]
     },
     "execution_count": 59,
     "metadata": {},
     "output_type": "execute_result"
    }
   ],
   "source": [
    "a = 10\n",
    "b = 3\n",
    "c = 50\n",
    "a**b - c*b + a"
   ]
  },
  {
   "cell_type": "code",
   "execution_count": 60,
   "id": "a1a8ad83",
   "metadata": {},
   "outputs": [
    {
     "data": {
      "text/plain": [
       "9810"
      ]
     },
     "execution_count": 60,
     "metadata": {},
     "output_type": "execute_result"
    }
   ],
   "source": [
    "b = b + 1\n",
    "a**b - c*b + a"
   ]
  },
  {
   "cell_type": "markdown",
   "id": "bbddab97",
   "metadata": {},
   "source": [
    "<b><font color='white' style='background-color:green'>2.1.f</font></b> Attribuez la valeur `'Tic'` à la variable `tamias_1` et la valeur `'Tac'` à la variable `tamias_2`. Ensuite, écrivez les instructions nécessaires pour échanger les  valeurs des deux variables. Utilisez les deux autres boîtes pour afficher le contenu de `tamias_1` et `tamias_2`"
   ]
  },
  {
   "cell_type": "code",
   "execution_count": 61,
   "id": "d5f455a4",
   "metadata": {},
   "outputs": [],
   "source": [
    "tamias_1 = 'Tic'\n",
    "tamias_2 = 'Tac'\n",
    "\n",
    "tmp = tamias_2\n",
    "tamias_2 = tamias_1\n",
    "tamias_1 = tmp"
   ]
  },
  {
   "cell_type": "code",
   "execution_count": 62,
   "id": "d2f5bed4",
   "metadata": {},
   "outputs": [
    {
     "data": {
      "text/plain": [
       "'Tac'"
      ]
     },
     "execution_count": 62,
     "metadata": {},
     "output_type": "execute_result"
    }
   ],
   "source": [
    "tamias_1"
   ]
  },
  {
   "cell_type": "code",
   "execution_count": 63,
   "id": "38a525a7",
   "metadata": {},
   "outputs": [
    {
     "data": {
      "text/plain": [
       "'Tic'"
      ]
     },
     "execution_count": 63,
     "metadata": {},
     "output_type": "execute_result"
    }
   ],
   "source": [
    "tamias_2"
   ]
  },
  {
   "cell_type": "markdown",
   "id": "2e483c4f",
   "metadata": {},
   "source": [
    "<b><font color='white' style='background-color:green'>2.1.g</font></b> Attribuez les valeurs aux variables comme dans le tableau:\n",
    "\n",
    "| Variable |   Valeur |\n",
    "| -------- | -------- |\n",
    "| canard_1 |   'Riri' |\n",
    "| canard_2 |   'Fifi' |\n",
    "| canard_3 | 'Loulou' |\n",
    "\n",
    "Et écrivez les instructions nécessaires pour obtenir les associations suivantes:\n",
    "\n",
    "| Variable |   Valeur |\n",
    "| -------- | -------- |\n",
    "| canard_1 | 'Loulou' |\n",
    "| canard_2 |   'Riri' |\n",
    "| canard_3 |   'Fifi' |\n",
    "\n",
    "Affichez vos résultats dans les trois boîtes qui suivent."
   ]
  },
  {
   "cell_type": "code",
   "execution_count": 84,
   "id": "82c603de",
   "metadata": {},
   "outputs": [],
   "source": [
    "canard_1 = 'Riri'\n",
    "canard_2 = 'Fifi'\n",
    "canard_3 = 'Loulou'\n",
    "\n",
    "tmp = canard_1\n",
    "canard_1 = canard_3\n",
    "canard_3 = canard_2\n",
    "canard_2 = tmp"
   ]
  },
  {
   "cell_type": "code",
   "execution_count": 85,
   "id": "ebac1166",
   "metadata": {},
   "outputs": [
    {
     "data": {
      "text/plain": [
       "'Loulou'"
      ]
     },
     "execution_count": 85,
     "metadata": {},
     "output_type": "execute_result"
    }
   ],
   "source": [
    "canard_1"
   ]
  },
  {
   "cell_type": "code",
   "execution_count": 86,
   "id": "967b8820",
   "metadata": {},
   "outputs": [
    {
     "data": {
      "text/plain": [
       "'Riri'"
      ]
     },
     "execution_count": 86,
     "metadata": {},
     "output_type": "execute_result"
    }
   ],
   "source": [
    "canard_2"
   ]
  },
  {
   "cell_type": "code",
   "execution_count": 87,
   "id": "3a567b0e",
   "metadata": {},
   "outputs": [
    {
     "data": {
      "text/plain": [
       "'Fifi'"
      ]
     },
     "execution_count": 87,
     "metadata": {},
     "output_type": "execute_result"
    }
   ],
   "source": [
    "canard_3"
   ]
  },
  {
   "cell_type": "markdown",
   "id": "d0dae86c",
   "metadata": {},
   "source": [
    "<b><font color='white' style='background-color:black'>Ex. 2.2</font> Affichage avec `print`</b><br> La fonction `print` permet d'afficher toute valeur à n'importe quel point du code.<br>\n",
    "<b><font color='white' style='background-color:orange'>2.2.a</font></b> Dans les deux boîtes suivantes, affichez les valeurs `'13'` et `'Madagascar'` à l'aide de la fonction `print`"
   ]
  },
  {
   "cell_type": "code",
   "execution_count": 98,
   "id": "49182e4c",
   "metadata": {},
   "outputs": [
    {
     "name": "stdout",
     "output_type": "stream",
     "text": [
      "13\n"
     ]
    }
   ],
   "source": [
    "print(13)"
   ]
  },
  {
   "cell_type": "code",
   "execution_count": 99,
   "id": "31f39e19",
   "metadata": {},
   "outputs": [
    {
     "name": "stdout",
     "output_type": "stream",
     "text": [
      "Madagascar\n"
     ]
    }
   ],
   "source": [
    "print('Madagascar')"
   ]
  },
  {
   "cell_type": "markdown",
   "id": "e9c5f5c2",
   "metadata": {},
   "source": [
    "<b><font color='white' style='background-color:orange'>2.2.b</font></b> Maintenant affichez les valeurs `'13'` et `'Madagascar'` de suite dans une seule ligne."
   ]
  },
  {
   "cell_type": "code",
   "execution_count": 100,
   "id": "38c87f8c",
   "metadata": {},
   "outputs": [
    {
     "name": "stdout",
     "output_type": "stream",
     "text": [
      "13 Madagascar\n"
     ]
    }
   ],
   "source": [
    "print(13, 'Madagascar')"
   ]
  },
  {
   "cell_type": "markdown",
   "id": "784639ae",
   "metadata": {},
   "source": [
    "<b><font color='white' style='background-color:orange'>2.2.c</font></b> Certains caractères ont besoint de l'échappement `\\` pour ne pas être interprétés par Python. Affichez:<br>\n",
    "```\n",
    "\\\n",
    "Guillemets \", apostrophe '\n",
    "```"
   ]
  },
  {
   "cell_type": "code",
   "execution_count": 101,
   "id": "b137a086",
   "metadata": {},
   "outputs": [
    {
     "name": "stdout",
     "output_type": "stream",
     "text": [
      "\\\n",
      "Guillemets \", apostrophe '\n"
     ]
    }
   ],
   "source": [
    "print('\\\\')\n",
    "print('Guillemets \", apostrophe \\'')"
   ]
  },
  {
   "cell_type": "markdown",
   "id": "639d0414",
   "metadata": {},
   "source": [
    "<b><font color='white' style='background-color:orange'>2.2.d</font></b> Qu'affiche ce code?<br>\n",
    "```python\n",
    "x = 8\n",
    "y = 9\n",
    "print('Mon numéro porte bonheur est le', x+y)\n",
    "```"
   ]
  },
  {
   "cell_type": "markdown",
   "id": "8709e2cb",
   "metadata": {},
   "source": []
  },
  {
   "cell_type": "markdown",
   "id": "31f9b0aa",
   "metadata": {},
   "source": [
    "<b><font color='white' style='background-color:green'>2.2.e</font></b> Affichez le dessin suivant:<br>\n",
    "```\n",
    " /\\_/\\\n",
    "((@v@))\n",
    "():::()\n",
    " VV-VV\n",
    "```"
   ]
  },
  {
   "cell_type": "code",
   "execution_count": 102,
   "id": "f6c13a12",
   "metadata": {},
   "outputs": [
    {
     "name": "stdout",
     "output_type": "stream",
     "text": [
      " /\\_/\\\n",
      "((@v@))\n",
      "():::()\n",
      " VV-VV\n"
     ]
    }
   ],
   "source": [
    "print(' /\\\\_/\\\\')\n",
    "print('((@v@))')\n",
    "print('():::()')\n",
    "print(' VV-VV')"
   ]
  },
  {
   "cell_type": "markdown",
   "id": "4340f728",
   "metadata": {},
   "source": [
    "<b><font color='white' style='background-color:green'>2.2.f</font></b> Vous avez les variables suivantes:<br>\n",
    "\n",
    "| Variable |   Valeur |\n",
    "| -------- | -------- |\n",
    "| a |   5 |\n",
    "| b |   10 |\n",
    "| c | 20 |\n",
    "\n",
    "Affichez le résultat de: $$a^{c/b} + a - c \\times b$$"
   ]
  },
  {
   "cell_type": "code",
   "execution_count": 103,
   "id": "a7ad79f1",
   "metadata": {},
   "outputs": [
    {
     "name": "stdout",
     "output_type": "stream",
     "text": [
      "-170\n"
     ]
    }
   ],
   "source": [
    "a = 5\n",
    "b = 10\n",
    "c = 20\n",
    "print(a**(c//b) + a - c*b)"
   ]
  },
  {
   "cell_type": "markdown",
   "id": "1cb8ad20",
   "metadata": {},
   "source": [
    "<b><font color='white' style='background-color:black'>Ex. 2.3</font> Types</b><br>\n",
    "Chaque valeur a un type: étudions ici les types `int`, `float`, `str`, `bool`<br>\n",
    "<b><font color='white' style='background-color:orange'>2.3.a</font></b> A l'aide de la fonction `type` et de la fonction `print`, affichez ci-dessous les types des valeurs suivantes: `1000`, `'Barbie'`, `3.14`, `'h'`, `True`.\n",
    "Ensuite, écrivez en mots le nom complet des types que vous avez trouvés."
   ]
  },
  {
   "cell_type": "code",
   "execution_count": 104,
   "id": "dfc40668",
   "metadata": {},
   "outputs": [
    {
     "name": "stdout",
     "output_type": "stream",
     "text": [
      "<class 'int'> <class 'str'> <class 'float'> <class 'str'> <class 'bool'>\n"
     ]
    }
   ],
   "source": [
    "print(type(1000), type('Barbie'), type(3.14), type('h'), type(True))"
   ]
  },
  {
   "cell_type": "markdown",
   "id": "13c68312",
   "metadata": {},
   "source": [
    "Entier, chaîne de caractères, flottant, chaîne de caractères, booléen"
   ]
  },
  {
   "cell_type": "markdown",
   "id": "d86ac061",
   "metadata": {},
   "source": [
    "<b><font color='white' style='background-color:orange'>2.3.b</font></b> Quel est le type du résultat de l'expression `8//4` ? Et `8/4` ? Expliquez"
   ]
  },
  {
   "cell_type": "code",
   "execution_count": 112,
   "id": "8a5b11e4",
   "metadata": {},
   "outputs": [
    {
     "name": "stdout",
     "output_type": "stream",
     "text": [
      "<class 'int'> <class 'float'>\n"
     ]
    }
   ],
   "source": [
    "print(type(8//4), type(8/4))"
   ]
  },
  {
   "cell_type": "markdown",
   "id": "aab5f302",
   "metadata": {},
   "source": []
  },
  {
   "cell_type": "markdown",
   "id": "126b76d4",
   "metadata": {},
   "source": [
    "<b><font color='white' style='background-color:green'>2.3.c</font></b> Affichez le type de `4.0` et de `9`. Ensuite, sommez-les, et affichez le type du résultat. Pourquoi le résultat a-t-il ce type? Expliquez."
   ]
  },
  {
   "cell_type": "code",
   "execution_count": 119,
   "id": "d584f1e0",
   "metadata": {},
   "outputs": [
    {
     "name": "stdout",
     "output_type": "stream",
     "text": [
      "<class 'float'> <class 'int'>\n",
      "<class 'float'>\n"
     ]
    }
   ],
   "source": [
    "print(type(4.0), type(9))\n",
    "print(type(4.0 + 9))"
   ]
  },
  {
   "cell_type": "markdown",
   "id": "ddfa404c",
   "metadata": {},
   "source": [
    "La somme entre un entier et un flottant donne un flottant"
   ]
  },
  {
   "cell_type": "markdown",
   "id": "1221a528",
   "metadata": {},
   "source": [
    "<b><font color='white' style='background-color:green'>2.3.d</font></b> Que se passe-t-il quand vous cherchez à sommer la valeur `10` à la valeur `'22'`? Expliquez."
   ]
  },
  {
   "cell_type": "code",
   "execution_count": 120,
   "id": "695a4835",
   "metadata": {},
   "outputs": [
    {
     "ename": "TypeError",
     "evalue": "unsupported operand type(s) for +: 'int' and 'str'",
     "output_type": "error",
     "traceback": [
      "\u001b[0;31m---------------------------------------------------------------------------\u001b[0m",
      "\u001b[0;31mTypeError\u001b[0m                                 Traceback (most recent call last)",
      "Cell \u001b[0;32mIn[120], line 1\u001b[0m\n\u001b[0;32m----> 1\u001b[0m \u001b[38;5;241;43m10\u001b[39;49m\u001b[43m \u001b[49m\u001b[38;5;241;43m+\u001b[39;49m\u001b[43m \u001b[49m\u001b[38;5;124;43m'\u001b[39;49m\u001b[38;5;124;43m22\u001b[39;49m\u001b[38;5;124;43m'\u001b[39;49m\n",
      "\u001b[0;31mTypeError\u001b[0m: unsupported operand type(s) for +: 'int' and 'str'"
     ]
    }
   ],
   "source": [
    "10 + '22'"
   ]
  },
  {
   "cell_type": "markdown",
   "id": "4f0f75df",
   "metadata": {},
   "source": [
    "La somme entre un entier et une chaîne de caractères n'est pas définie"
   ]
  },
  {
   "cell_type": "markdown",
   "id": "bd523aa2",
   "metadata": {},
   "source": [
    "<h3>3. Fonctions</h3>\n",
    "<b><font color='white' style='background-color:black'>Ex. 3.1</font> Utiliser les fonctions prédéfinies</b><br>\n",
    "Nous avons déjà vu les fonctions print et type. Nous allons voir d'autres fonctions utiles et comment les utiliser.<br>Servez-vous de la <a href=\"https://docs.python.org/3/library/functions.html\">documentation officielle de Python</a> !<br>\n",
    "<b><font color='white' style='background-color:orange'>3.1.a</font></b> Dans la deuxième boîte de code, trouvez une fonction prédéfinie pour évaluer la longueur de la chaîne définie dans la première boîte"
   ]
  },
  {
   "cell_type": "code",
   "execution_count": 123,
   "id": "e97b6a9a",
   "metadata": {},
   "outputs": [],
   "source": [
    "a = \"Bof, autant d'utiliser ChatGPT :/\""
   ]
  },
  {
   "cell_type": "code",
   "execution_count": 124,
   "id": "ed43442a",
   "metadata": {},
   "outputs": [
    {
     "data": {
      "text/plain": [
       "33"
      ]
     },
     "execution_count": 124,
     "metadata": {},
     "output_type": "execute_result"
    }
   ],
   "source": [
    "len(a)"
   ]
  },
  {
   "cell_type": "markdown",
   "id": "73ecfae3",
   "metadata": {},
   "source": [
    "<b><font color='white' style='background-color:orange'>3.1.b</font></b> Dans la deuxième boîte de code, affichez le minimum et le maximum des variables définies dans la première boîte"
   ]
  },
  {
   "cell_type": "code",
   "execution_count": 136,
   "id": "a61361a9",
   "metadata": {},
   "outputs": [],
   "source": [
    "a = 14*90\n",
    "b = 117*9\n",
    "c = 9**7\n",
    "d = 2**14 - 14**2\n",
    "e = 4**3**2"
   ]
  },
  {
   "cell_type": "code",
   "execution_count": 137,
   "id": "54bf8add",
   "metadata": {},
   "outputs": [
    {
     "name": "stdout",
     "output_type": "stream",
     "text": [
      "1053 4782969\n"
     ]
    }
   ],
   "source": [
    "print(min(a,b,c,d,e), max(a,b,c,d,e))"
   ]
  },
  {
   "cell_type": "markdown",
   "id": "f2418c18",
   "metadata": {},
   "source": [
    "<b><font color='white' style='background-color:orange'>3.1.c</font></b> Faites comme dans l'exercice 3.1.b, cette fois avec les variables suivantes. Qu'est-ce qui se passe? Pourquoi? Expliquez dans la boîte de texte."
   ]
  },
  {
   "cell_type": "code",
   "execution_count": 138,
   "id": "c0d2f83e",
   "metadata": {},
   "outputs": [],
   "source": [
    "a = 14*90\n",
    "b = 117*9\n",
    "c = \"9**7\"\n",
    "d = 2**14 - 14**2\n",
    "e = \"4**3**2\""
   ]
  },
  {
   "cell_type": "code",
   "execution_count": 139,
   "id": "c0223644",
   "metadata": {},
   "outputs": [
    {
     "ename": "TypeError",
     "evalue": "'<' not supported between instances of 'str' and 'int'",
     "output_type": "error",
     "traceback": [
      "\u001b[0;31m---------------------------------------------------------------------------\u001b[0m",
      "\u001b[0;31mTypeError\u001b[0m                                 Traceback (most recent call last)",
      "Cell \u001b[0;32mIn[139], line 1\u001b[0m\n\u001b[0;32m----> 1\u001b[0m \u001b[38;5;28mprint\u001b[39m(\u001b[38;5;28;43mmin\u001b[39;49m\u001b[43m(\u001b[49m\u001b[43ma\u001b[49m\u001b[43m,\u001b[49m\u001b[43mb\u001b[49m\u001b[43m,\u001b[49m\u001b[43mc\u001b[49m\u001b[43m,\u001b[49m\u001b[43md\u001b[49m\u001b[43m,\u001b[49m\u001b[43me\u001b[49m\u001b[43m)\u001b[49m, \u001b[38;5;28mmax\u001b[39m(a,b,c,d,e))\n",
      "\u001b[0;31mTypeError\u001b[0m: '<' not supported between instances of 'str' and 'int'"
     ]
    }
   ],
   "source": [
    "print(min(a,b,c,d,e), max(a,b,c,d,e))"
   ]
  },
  {
   "cell_type": "markdown",
   "id": "f0bd6257",
   "metadata": {},
   "source": [
    "Les fonctions `min` et `max` ne sont pas définies pour des types mixtes"
   ]
  },
  {
   "cell_type": "markdown",
   "id": "b40d10fc",
   "metadata": {},
   "source": [
    "<b><font color='white' style='background-color:green'>3.1.d</font></b> Regardons plus attentivement le message d'erreur obtenu : qu'est-ce qu'il dit exactement ? Quelle relation porrait-il avoir avec la commande qui a échouée ?"
   ]
  },
  {
   "cell_type": "markdown",
   "id": "bb7a2884",
   "metadata": {},
   "source": [
    "C'est en fait l'opérateur `<` qui échoue. La fonction `min` doit s'en servir pour chercher le minimum."
   ]
  },
  {
   "cell_type": "markdown",
   "id": "c9d96db2",
   "metadata": {},
   "source": [
    "<b><font color='white' style='background-color:green'>3.1.e</font></b> A la lumière de ce qu'on a découvert sur les fonctions minimum et maximum, que sera-t-il affiché par le code suivant ? Repondez, puis écrivez et lancez le code dans la boîte qui suit. C'était le comportement attendu ?\n",
    "\n",
    "```python\n",
    "a = 'Dans'\n",
    "b = 'la'\n",
    "c = 'vallée'\n",
    "print(min(a, b, c))\n",
    "```"
   ]
  },
  {
   "cell_type": "markdown",
   "id": "a1f4b926",
   "metadata": {},
   "source": [
    "Il va renvoyer l'un des trois mots, sans échouer"
   ]
  },
  {
   "cell_type": "code",
   "execution_count": 143,
   "id": "6f165d32",
   "metadata": {},
   "outputs": [
    {
     "name": "stdout",
     "output_type": "stream",
     "text": [
      "Dans\n"
     ]
    }
   ],
   "source": [
    "a = 'Dans'\n",
    "b = 'la'\n",
    "c = 'vallée'\n",
    "print(min(a, b, c))"
   ]
  },
  {
   "cell_type": "markdown",
   "id": "d509ca37",
   "metadata": {},
   "source": [
    "<b><font color='white' style='background-color:blue'>3.1.f</font></b> Faites des tests avec la fonction `abs`: que fait-elle? Combien de paramètres admet-elle? De quel type? Expliquez "
   ]
  },
  {
   "cell_type": "code",
   "execution_count": 144,
   "id": "1dd1c451",
   "metadata": {},
   "outputs": [
    {
     "data": {
      "text/plain": [
       "10"
      ]
     },
     "execution_count": 144,
     "metadata": {},
     "output_type": "execute_result"
    }
   ],
   "source": [
    "abs(-10)"
   ]
  },
  {
   "cell_type": "code",
   "execution_count": 148,
   "id": "f954f133",
   "metadata": {},
   "outputs": [
    {
     "ename": "TypeError",
     "evalue": "abs() takes exactly one argument (3 given)",
     "output_type": "error",
     "traceback": [
      "\u001b[0;31m---------------------------------------------------------------------------\u001b[0m",
      "\u001b[0;31mTypeError\u001b[0m                                 Traceback (most recent call last)",
      "Cell \u001b[0;32mIn[148], line 1\u001b[0m\n\u001b[0;32m----> 1\u001b[0m \u001b[38;5;28;43mabs\u001b[39;49m\u001b[43m(\u001b[49m\u001b[38;5;241;43m3.14\u001b[39;49m\u001b[43m,\u001b[49m\u001b[43m \u001b[49m\u001b[38;5;241;43m-\u001b[39;49m\u001b[38;5;241;43m10\u001b[39;49m\u001b[43m,\u001b[49m\u001b[43m \u001b[49m\u001b[38;5;241;43m-\u001b[39;49m\u001b[38;5;241;43m5\u001b[39;49m\u001b[43m)\u001b[49m\n",
      "\u001b[0;31mTypeError\u001b[0m: abs() takes exactly one argument (3 given)"
     ]
    }
   ],
   "source": [
    "abs(3.14, -10, -5)"
   ]
  },
  {
   "cell_type": "code",
   "execution_count": 145,
   "id": "216a2184",
   "metadata": {},
   "outputs": [
    {
     "ename": "TypeError",
     "evalue": "bad operand type for abs(): 'str'",
     "output_type": "error",
     "traceback": [
      "\u001b[0;31m---------------------------------------------------------------------------\u001b[0m",
      "\u001b[0;31mTypeError\u001b[0m                                 Traceback (most recent call last)",
      "Cell \u001b[0;32mIn[145], line 1\u001b[0m\n\u001b[0;32m----> 1\u001b[0m \u001b[38;5;28;43mabs\u001b[39;49m\u001b[43m(\u001b[49m\u001b[38;5;124;43m'\u001b[39;49m\u001b[38;5;124;43mpingouin\u001b[39;49m\u001b[38;5;124;43m'\u001b[39;49m\u001b[43m)\u001b[49m\n",
      "\u001b[0;31mTypeError\u001b[0m: bad operand type for abs(): 'str'"
     ]
    }
   ],
   "source": [
    "abs('pingouin')"
   ]
  },
  {
   "cell_type": "markdown",
   "id": "21ae2d9a",
   "metadata": {},
   "source": [
    "La fonction `abs` prend un paramètre en entrée. Ce paramètre doit être un nombre (int ou float). La fonction renvoie la valeur absolue du nombre en entrée."
   ]
  },
  {
   "cell_type": "markdown",
   "id": "f8ccc3b1",
   "metadata": {},
   "source": [
    "<b><font color='white' style='background-color:blue'>3.1.g</font></b> Affichez le type du résultat de `print(4)`. Qu'est-ce que cela signifie? Expliquez."
   ]
  },
  {
   "cell_type": "code",
   "execution_count": 116,
   "id": "addbf911",
   "metadata": {},
   "outputs": [
    {
     "name": "stdout",
     "output_type": "stream",
     "text": [
      "4\n"
     ]
    },
    {
     "data": {
      "text/plain": [
       "NoneType"
      ]
     },
     "execution_count": 116,
     "metadata": {},
     "output_type": "execute_result"
    }
   ],
   "source": [
    "type(print(4))"
   ]
  },
  {
   "cell_type": "markdown",
   "id": "4b1d806c",
   "metadata": {},
   "source": [
    "La fonction `print` affiche l'entier 4, mais elle ne rend aucun résultat. Puisque en Python chaque fonction rend un résultat, `print` rend quand même une valeur `None`, qui est de type `NoneType`"
   ]
  },
  {
   "cell_type": "markdown",
   "id": "3f0560ed",
   "metadata": {},
   "source": [
    "<b><font color='white' style='background-color:black'>Ex. 3.2</font> Importer des fonctions</b><br>\n",
    "Grâce à son énorme communauté d'utilisateurs, Python a beaucoup de bibliothèques de fonctions. La commande `import` nous permet d'utiliser des fonctions dans des bibliothèques qui ne sont pas la bibliothèque standard.\n",
    "\n",
    "```python\n",
    "from math import cos    # Importer la fonction cos (cosinus) depuis la bibliothèque math\n",
    "\n",
    "print(cos(0))\n",
    "```\n",
    "\n",
    "On peut aussi obtenir le même résultat en important toute la bibliothèque et ensuite en appellant `nom_bibliothèque.fonction` au lieu que la fonction:\n",
    "\n",
    "```python\n",
    "import math    # Importer la bibliothèque math\n",
    "\n",
    "print(math.cos(0))   # Même résultat!\n",
    "```\n",
    "\n",
    "Pour avoir quelques infos sur l'usage d'une fonction, vous pouvez taper\n",
    "\n",
    "```python\n",
    "help(cos)    # help est une fonction préféfinie standard!\n",
    "```"
   ]
  },
  {
   "cell_type": "markdown",
   "id": "4a100a48",
   "metadata": {},
   "source": [
    "<b><font color='white' style='background-color:orange'>3.2.a</font></b> Importez la fonction `exp` depuis la bibliothèque `math` et calculez $e^{10}$"
   ]
  },
  {
   "cell_type": "code",
   "execution_count": 152,
   "id": "c4c0fdd6",
   "metadata": {},
   "outputs": [
    {
     "name": "stdout",
     "output_type": "stream",
     "text": [
      "22026.465794806718\n"
     ]
    }
   ],
   "source": [
    "from math import exp\n",
    "\n",
    "print(exp(10))"
   ]
  },
  {
   "cell_type": "markdown",
   "id": "ff68b79c",
   "metadata": {},
   "source": [
    "<b><font color='white' style='background-color:orange'>3.2.b</font></b> Par la même bibliothèque, importez la fonction `log` et contrôlez que $\\log(e^{4})$ est bien 4."
   ]
  },
  {
   "cell_type": "code",
   "execution_count": 153,
   "id": "499c643c",
   "metadata": {},
   "outputs": [
    {
     "name": "stdout",
     "output_type": "stream",
     "text": [
      "4.0\n"
     ]
    }
   ],
   "source": [
    "from math import log\n",
    "\n",
    "print(log(exp(4)))"
   ]
  },
  {
   "cell_type": "markdown",
   "id": "d7c17fdc",
   "metadata": {},
   "source": [
    "<b><font color='white' style='background-color:green'>3.2.c</font></b> Par la bibliothèque `random`, importez la fonction `randint`. Cette fonction génère un entier aléatoire entre deux entiers donnés : vous trouverez la spécification de cette fonction dans la [documentation officielle](https://docs.python.org/3/library/random.html) et quelques infos en écrivant `help(randint)` dans une boîte de code. Avec cette fonction, générez un entier entre 50 et 170."
   ]
  },
  {
   "cell_type": "code",
   "execution_count": 154,
   "id": "026e6401",
   "metadata": {},
   "outputs": [
    {
     "name": "stdout",
     "output_type": "stream",
     "text": [
      "93\n"
     ]
    }
   ],
   "source": [
    "from random import randint\n",
    "\n",
    "print(randint(50,170))"
   ]
  },
  {
   "cell_type": "markdown",
   "id": "e6126e2a",
   "metadata": {},
   "source": [
    "<b><font color='white' style='background-color:green'>3.2.d</font></b> Python a vraiment beaucoup de bibliothèques : explorons un peu. Par la bibliothèque `emoji`, importez la fonction `emojize` et affichez le résultat de cette ligne de code: `emoji.emojize('Python is :thumbs_up:')` "
   ]
  },
  {
   "cell_type": "code",
   "execution_count": 160,
   "id": "a614101f",
   "metadata": {},
   "outputs": [
    {
     "name": "stdout",
     "output_type": "stream",
     "text": [
      "Requirement already satisfied: emoji in /usr/local/Cellar/jupyterlab/3.4.8/libexec/lib/python3.10/site-packages (2.7.0)\n",
      "\n",
      "\u001b[1m[\u001b[0m\u001b[34;49mnotice\u001b[0m\u001b[1;39;49m]\u001b[0m\u001b[39;49m A new release of pip available: \u001b[0m\u001b[31;49m22.2.2\u001b[0m\u001b[39;49m -> \u001b[0m\u001b[32;49m23.2.1\u001b[0m\n",
      "\u001b[1m[\u001b[0m\u001b[34;49mnotice\u001b[0m\u001b[1;39;49m]\u001b[0m\u001b[39;49m To update, run: \u001b[0m\u001b[32;49m/usr/local/Cellar/jupyterlab/3.4.8/libexec/bin/python3.10 -m pip install --upgrade pip\u001b[0m\n",
      "Note: you may need to restart the kernel to use updated packages.\n"
     ]
    }
   ],
   "source": [
    "%pip install emoji    # Cette ligne est une \"commande magique\" de Python\n",
    "                      # Installe la bibliothèque si votre ordinateur ne l'a pas\n",
    "                      # (on ne l'a pas fait avec les autres car elles sont très communes)"
   ]
  },
  {
   "cell_type": "code",
   "execution_count": 161,
   "id": "1f7d9742",
   "metadata": {},
   "outputs": [
    {
     "name": "stdout",
     "output_type": "stream",
     "text": [
      "Python is 👍\n"
     ]
    }
   ],
   "source": [
    "import emoji\n",
    "\n",
    "print(emoji.emojize('Python is :thumbs_up:'))"
   ]
  },
  {
   "cell_type": "markdown",
   "id": "d22847ad",
   "metadata": {},
   "source": [
    "<b><font color='white' style='background-color:blue'>3.2.e</font></b> Essayons encore, cette fois avec un outil plus compliqué. Exécutez les deux cases ci-dessous, et observez. Savez-vous dire à peu près ce qui se passe? Expliquez dans la boîte en dessous."
   ]
  },
  {
   "cell_type": "code",
   "execution_count": 178,
   "id": "2c70559c",
   "metadata": {},
   "outputs": [
    {
     "name": "stdout",
     "output_type": "stream",
     "text": [
      "Requirement already satisfied: py3dmol in /usr/local/Cellar/jupyterlab/3.4.8/libexec/lib/python3.10/site-packages (2.0.3)\n",
      "\n",
      "\u001b[1m[\u001b[0m\u001b[34;49mnotice\u001b[0m\u001b[1;39;49m]\u001b[0m\u001b[39;49m A new release of pip available: \u001b[0m\u001b[31;49m22.2.2\u001b[0m\u001b[39;49m -> \u001b[0m\u001b[32;49m23.2.1\u001b[0m\n",
      "\u001b[1m[\u001b[0m\u001b[34;49mnotice\u001b[0m\u001b[1;39;49m]\u001b[0m\u001b[39;49m To update, run: \u001b[0m\u001b[32;49m/usr/local/Cellar/jupyterlab/3.4.8/libexec/bin/python3.10 -m pip install --upgrade pip\u001b[0m\n",
      "Note: you may need to restart the kernel to use updated packages.\n"
     ]
    }
   ],
   "source": [
    "%pip install py3dmol"
   ]
  },
  {
   "cell_type": "code",
   "execution_count": 250,
   "id": "97976dbf",
   "metadata": {
    "scrolled": true
   },
   "outputs": [
    {
     "data": {
      "application/3dmoljs_load.v0": "<div id=\"3dmolviewer_169074153817963\"  style=\"position: relative; width: 640px; height: 480px;\">\n        <p id=\"3dmolwarning_169074153817963\" style=\"background-color:#ffcccc;color:black\">You appear to be running in JupyterLab (or JavaScript failed to load for some other reason).  You need to install the 3dmol extension: <br>\n        <tt>jupyter labextension install jupyterlab_3dmol</tt></p>\n        </div>\n<script>\n\nvar loadScriptAsync = function(uri){\n  return new Promise((resolve, reject) => {\n    //this is to ignore the existence of requirejs amd\n    var savedexports, savedmodule;\n    if (typeof exports !== 'undefined') savedexports = exports;\n    else exports = {}\n    if (typeof module !== 'undefined') savedmodule = module;\n    else module = {}\n\n    var tag = document.createElement('script');\n    tag.src = uri;\n    tag.async = true;\n    tag.onload = () => {\n        exports = savedexports;\n        module = savedmodule;\n        resolve();\n    };\n  var firstScriptTag = document.getElementsByTagName('script')[0];\n  firstScriptTag.parentNode.insertBefore(tag, firstScriptTag);\n});\n};\n\nif(typeof $3Dmolpromise === 'undefined') {\n$3Dmolpromise = null;\n  $3Dmolpromise = loadScriptAsync('https://cdnjs.cloudflare.com/ajax/libs/3Dmol/2.0.3/3Dmol-min.js');\n}\n\nvar viewer_169074153817963 = null;\nvar warn = document.getElementById(\"3dmolwarning_169074153817963\");\nif(warn) {\n    warn.parentNode.removeChild(warn);\n}\n$3Dmolpromise.then(function() {\nviewer_169074153817963 = $3Dmol.createViewer(document.getElementById(\"3dmolviewer_169074153817963\"),{backgroundColor:\"white\"});\n$3Dmol.download(\"pdb:1hvr\", viewer_169074153817963, {}, function() {\nviewer_169074153817963.zoomTo();\n\tviewer_169074153817963.setStyle({\"cartoon\": {\"color\": \"spectrum\"}});\nviewer_169074153817963.render();\n})\n});\n</script>",
      "text/html": [
       "<div id=\"3dmolviewer_169074153817963\"  style=\"position: relative; width: 640px; height: 480px;\">\n",
       "        <p id=\"3dmolwarning_169074153817963\" style=\"background-color:#ffcccc;color:black\">You appear to be running in JupyterLab (or JavaScript failed to load for some other reason).  You need to install the 3dmol extension: <br>\n",
       "        <tt>jupyter labextension install jupyterlab_3dmol</tt></p>\n",
       "        </div>\n",
       "<script>\n",
       "\n",
       "var loadScriptAsync = function(uri){\n",
       "  return new Promise((resolve, reject) => {\n",
       "    //this is to ignore the existence of requirejs amd\n",
       "    var savedexports, savedmodule;\n",
       "    if (typeof exports !== 'undefined') savedexports = exports;\n",
       "    else exports = {}\n",
       "    if (typeof module !== 'undefined') savedmodule = module;\n",
       "    else module = {}\n",
       "\n",
       "    var tag = document.createElement('script');\n",
       "    tag.src = uri;\n",
       "    tag.async = true;\n",
       "    tag.onload = () => {\n",
       "        exports = savedexports;\n",
       "        module = savedmodule;\n",
       "        resolve();\n",
       "    };\n",
       "  var firstScriptTag = document.getElementsByTagName('script')[0];\n",
       "  firstScriptTag.parentNode.insertBefore(tag, firstScriptTag);\n",
       "});\n",
       "};\n",
       "\n",
       "if(typeof $3Dmolpromise === 'undefined') {\n",
       "$3Dmolpromise = null;\n",
       "  $3Dmolpromise = loadScriptAsync('https://cdnjs.cloudflare.com/ajax/libs/3Dmol/2.0.3/3Dmol-min.js');\n",
       "}\n",
       "\n",
       "var viewer_169074153817963 = null;\n",
       "var warn = document.getElementById(\"3dmolwarning_169074153817963\");\n",
       "if(warn) {\n",
       "    warn.parentNode.removeChild(warn);\n",
       "}\n",
       "$3Dmolpromise.then(function() {\n",
       "viewer_169074153817963 = $3Dmol.createViewer(document.getElementById(\"3dmolviewer_169074153817963\"),{backgroundColor:\"white\"});\n",
       "$3Dmol.download(\"pdb:1hvr\", viewer_169074153817963, {}, function() {\n",
       "viewer_169074153817963.zoomTo();\n",
       "\tviewer_169074153817963.setStyle({\"cartoon\": {\"color\": \"spectrum\"}});\n",
       "viewer_169074153817963.render();\n",
       "})\n",
       "});\n",
       "</script>"
      ]
     },
     "metadata": {},
     "output_type": "display_data"
    },
    {
     "data": {
      "text/plain": [
       "<py3Dmol.view at 0x10df9a6b0>"
      ]
     },
     "execution_count": 250,
     "metadata": {},
     "output_type": "execute_result"
    }
   ],
   "source": [
    "import py3Dmol\n",
    "view = py3Dmol.view(query='pdb:1hvr')\n",
    "view.setStyle({'cartoon':{'color':'spectrum'}})\n",
    "view"
   ]
  },
  {
   "cell_type": "markdown",
   "id": "e3d51617",
   "metadata": {},
   "source": []
  },
  {
   "cell_type": "markdown",
   "id": "ba02e50d",
   "metadata": {},
   "source": [
    "<b><font color='white' style='background-color:black'>Ex. 3.3</font> Définir et utiliser ses propres fonctions</b><br>\n",
    "Définir et utiliser ses propres fonctions est fondamental pour programmer : ça permet de réutiliser son code à des différents endroits en l'appliquant à des différentes données.\n",
    "La syntaxe de base est:\n",
    "\n",
    "```python\n",
    "def surface_triangle(base, hauteur):   # Déclarer le nom de la fonction et de tous les paramètres en entrée\n",
    "    # Ecrire le code avec une suite d'instructions\n",
    "    res = base*hauteur/2\n",
    "    \n",
    "    # Conclure en rendant le résultat\n",
    "    return res\n",
    "```\n",
    "\n",
    "Si on n'a pas besoin, on peut aussi ne rendre aucun resultat. Dans ce cas, la fonction rendra implicitement la valeur `None`.\n",
    "Pour appliquer la fonction, après l'avoir définie, il suffira de l'appeler avec un jeu de paramètres compatibles:\n",
    "\n",
    "```python\n",
    "print(surface_triangle(4,5))     # ça va afficher 10\n",
    "```"
   ]
  },
  {
   "cell_type": "markdown",
   "id": "0e5fff85",
   "metadata": {},
   "source": [
    "<b><font color='white' style='background-color:orange'>3.3.a</font></b> Définissez une fonction nommée `carré` qui prend en entrée un nombre et qui renvoie son carré."
   ]
  },
  {
   "cell_type": "code",
   "execution_count": 185,
   "id": "32818e4f",
   "metadata": {},
   "outputs": [],
   "source": [
    "def carré(n):\n",
    "    res = n*n   # ou res = n**2\n",
    "    return res"
   ]
  },
  {
   "cell_type": "markdown",
   "id": "47d49ce8",
   "metadata": {},
   "source": [
    "<b><font color='white' style='background-color:orange'>3.3.b</font></b> Il est important de toujours tester ses fonctions avec un jeu de test, pour s'assurer qu'elles rendent le bon résultat. Essayez à appliquer votre `carré` aux variables définies de suite."
   ]
  },
  {
   "cell_type": "code",
   "execution_count": 186,
   "id": "12185288",
   "metadata": {},
   "outputs": [
    {
     "data": {
      "text/plain": [
       "16"
      ]
     },
     "execution_count": 186,
     "metadata": {},
     "output_type": "execute_result"
    }
   ],
   "source": [
    "a = 4     # Quel est le résultat attendu ?\n",
    "# Appliquez votre fonction ici !\n",
    "carré(a)"
   ]
  },
  {
   "cell_type": "code",
   "execution_count": 187,
   "id": "8f128e93",
   "metadata": {},
   "outputs": [
    {
     "data": {
      "text/plain": [
       "100"
      ]
     },
     "execution_count": 187,
     "metadata": {},
     "output_type": "execute_result"
    }
   ],
   "source": [
    "num = -10     # Quel est le résultat attendu ?\n",
    "# Appliquez votre fonction ici !\n",
    "carré(num)"
   ]
  },
  {
   "cell_type": "code",
   "execution_count": 188,
   "id": "036e8568",
   "metadata": {},
   "outputs": [
    {
     "ename": "TypeError",
     "evalue": "can't multiply sequence by non-int of type 'str'",
     "output_type": "error",
     "traceback": [
      "\u001b[0;31m---------------------------------------------------------------------------\u001b[0m",
      "\u001b[0;31mTypeError\u001b[0m                                 Traceback (most recent call last)",
      "Cell \u001b[0;32mIn[188], line 3\u001b[0m\n\u001b[1;32m      1\u001b[0m mot \u001b[38;5;241m=\u001b[39m \u001b[38;5;124m'\u001b[39m\u001b[38;5;124mracine\u001b[39m\u001b[38;5;124m'\u001b[39m     \u001b[38;5;66;03m# Quel est le résultat attendu ?\u001b[39;00m\n\u001b[1;32m      2\u001b[0m \u001b[38;5;66;03m# Appliquez votre fonction ici !\u001b[39;00m\n\u001b[0;32m----> 3\u001b[0m \u001b[43mcarré\u001b[49m\u001b[43m(\u001b[49m\u001b[43mmot\u001b[49m\u001b[43m)\u001b[49m\n",
      "Cell \u001b[0;32mIn[185], line 2\u001b[0m, in \u001b[0;36mcarré\u001b[0;34m(n)\u001b[0m\n\u001b[1;32m      1\u001b[0m \u001b[38;5;28;01mdef\u001b[39;00m \u001b[38;5;21mcarré\u001b[39m(n):\n\u001b[0;32m----> 2\u001b[0m     res \u001b[38;5;241m=\u001b[39m \u001b[43mn\u001b[49m\u001b[38;5;241;43m*\u001b[39;49m\u001b[43mn\u001b[49m   \u001b[38;5;66;03m# ou res = n**2\u001b[39;00m\n\u001b[1;32m      3\u001b[0m     \u001b[38;5;28;01mreturn\u001b[39;00m res\n",
      "\u001b[0;31mTypeError\u001b[0m: can't multiply sequence by non-int of type 'str'"
     ]
    }
   ],
   "source": [
    "mot = 'racine'     # Quel est le résultat attendu ?\n",
    "# Appliquez votre fonction ici !\n",
    "carré(mot)"
   ]
  },
  {
   "cell_type": "markdown",
   "id": "7b6f2792",
   "metadata": {},
   "source": [
    "<b><font color='white' style='background-color:orange'>3.3.c</font></b> Une bonne pratique pour tester ses fonctions c'est d'utiliser l'instruction `assert`. Cette instruction permet de comparer le résultat de la fonction avec un résultat attendu, tout comme l'a fait \"à la main\" dans l'exercice 3.3.b. Si la comparaison réussie, `assert` ne produit aucune sortie, sinon il produit une erreur qui arrête l'exécution.<br>\n",
    "Testez la fonction `min` avec `assert`: testez si le minimum entre 2 et 3 est 2, et si le minimum entre 10 et 20 est 15"
   ]
  },
  {
   "cell_type": "code",
   "execution_count": 193,
   "id": "9c36740c",
   "metadata": {},
   "outputs": [],
   "source": [
    "assert min(2,3) == 2"
   ]
  },
  {
   "cell_type": "code",
   "execution_count": 194,
   "id": "aaae800f",
   "metadata": {},
   "outputs": [
    {
     "ename": "AssertionError",
     "evalue": "",
     "output_type": "error",
     "traceback": [
      "\u001b[0;31m---------------------------------------------------------------------------\u001b[0m",
      "\u001b[0;31mAssertionError\u001b[0m                            Traceback (most recent call last)",
      "Cell \u001b[0;32mIn[194], line 1\u001b[0m\n\u001b[0;32m----> 1\u001b[0m \u001b[38;5;28;01massert\u001b[39;00m \u001b[38;5;28mmin\u001b[39m(\u001b[38;5;241m10\u001b[39m,\u001b[38;5;241m20\u001b[39m) \u001b[38;5;241m==\u001b[39m \u001b[38;5;241m15\u001b[39m\n",
      "\u001b[0;31mAssertionError\u001b[0m: "
     ]
    }
   ],
   "source": [
    "assert min(10,20) == 15"
   ]
  },
  {
   "cell_type": "markdown",
   "id": "92691dc3",
   "metadata": {},
   "source": [
    "<b><font color='white' style='background-color:green'>3.3.d</font></b> Créez une fonction `expsum` qui prend deux entiers non-négatifs $a$ et $b$ et calcule $2^a + 2^b$. Dans la deuxième boîte, créez un jeu de test complet avec au moins trois `assert`. "
   ]
  },
  {
   "cell_type": "code",
   "execution_count": 195,
   "id": "acabdf21",
   "metadata": {},
   "outputs": [],
   "source": [
    "def expsum(a, b):\n",
    "    res = 2**a + 2**b\n",
    "    return res"
   ]
  },
  {
   "cell_type": "code",
   "execution_count": 196,
   "id": "ec66ea16",
   "metadata": {},
   "outputs": [],
   "source": [
    "assert expsum(0,0) == 2\n",
    "assert expsum(1,1) == 4\n",
    "assert expsum(2,3) == 12"
   ]
  },
  {
   "cell_type": "markdown",
   "id": "417b99b4",
   "metadata": {},
   "source": [
    "<b><font color='white' style='background-color:green'>3.3.e</font></b> La fonction `combien_segondes`devrait calculer le nombre de segondes totales si on rentre un nombre d'heures `h`, minutes `m` et segondes `s`. Pourtant, il y a quelque chose qui ne marche pas. Trouvez les erreurs (sans changer les `assert` !) et assurez-vous que tout marche bien"
   ]
  },
  {
   "cell_type": "code",
   "execution_count": 204,
   "id": "a4ae6084",
   "metadata": {},
   "outputs": [
    {
     "ename": "SyntaxError",
     "evalue": "invalid syntax (4080454597.py, line 1)",
     "output_type": "error",
     "traceback": [
      "\u001b[0;36m  Cell \u001b[0;32mIn[204], line 1\u001b[0;36m\u001b[0m\n\u001b[0;31m    def combien_segondes(h m, s)\u001b[0m\n\u001b[0m                           ^\u001b[0m\n\u001b[0;31mSyntaxError\u001b[0m\u001b[0;31m:\u001b[0m invalid syntax\n"
     ]
    }
   ],
   "source": [
    "def combien_segondes(h m, s)\n",
    "    minutes = h*60 + m\n",
    "    segondes = minuttes*60 - s\n",
    "    return segondes"
   ]
  },
  {
   "cell_type": "code",
   "execution_count": 205,
   "id": "f1696b67",
   "metadata": {},
   "outputs": [],
   "source": [
    "assert combien_segondes(0,0,0) == 0\n",
    "assert combien_segondes(0,0,10) == 10\n",
    "assert combien_segondes(0,1,0) == 60\n",
    "assert combien_segondes(1,0,0) == 3600"
   ]
  },
  {
   "cell_type": "markdown",
   "id": "6410571c",
   "metadata": {},
   "source": [
    "<b><font color='white' style='background-color:blue'>3.3.f</font></b> Vous aimez jouer à Donjons & Dragons avec vos amis, mais hélas, vous n'avez pas de dés. Ecrivez une fonction `tirage_caractéristique` qui lance 4 dés à six faces, somme les résultats et enlève la valeur minimale obtenue par l'un des  dés. Rappelez-vous des bibliothèques qu'on a vues !<br> _Exemple: Anne lance les dés et obtient 5, 6, 2, 3. Le résultat sera 5 + 6 + 3 + 2 - 2 = 14. Un bon résultat !_"
   ]
  },
  {
   "cell_type": "code",
   "execution_count": 219,
   "id": "9b5a2606",
   "metadata": {},
   "outputs": [],
   "source": [
    "def tirage_caractéristique():\n",
    "    from random import randint\n",
    "    a = randint(1,6)\n",
    "    b = randint(1,6)\n",
    "    c = randint(1,6)\n",
    "    d = randint(1,6)\n",
    "    m = min(a,b,c,d)\n",
    "    res = a + b + c + d - m\n",
    "    return res"
   ]
  },
  {
   "cell_type": "code",
   "execution_count": 244,
   "id": "1938ebae",
   "metadata": {},
   "outputs": [
    {
     "data": {
      "text/plain": [
       "10"
      ]
     },
     "execution_count": 244,
     "metadata": {},
     "output_type": "execute_result"
    }
   ],
   "source": [
    "tirage_caractéristique()"
   ]
  },
  {
   "cell_type": "markdown",
   "id": "edc6cdf5",
   "metadata": {},
   "source": [
    "<b><font color='white' style='background-color:blue'>3.3.f-bis</font></b> Mais comment tester une fonction qui utilise des valeurs aléatoires? Si vous avez des idées, écrivez votre réponse ci-dessous... sinon, on en reparlera dans quelques épisodes !"
   ]
  },
  {
   "cell_type": "code",
   "execution_count": null,
   "id": "931a9c6b",
   "metadata": {},
   "outputs": [],
   "source": []
  },
  {
   "cell_type": "markdown",
   "id": "9d1709a8",
   "metadata": {},
   "source": [
    "<b><font color='white' style='background-color:blue'>3.3.g</font></b> Prenez l'exercice 1.2.e sur le coût des plaques à 96 puits et rendez-le une fonction `cout_plaques` qui prend en entrée le nombre de puits souhaités `p` et le coût d'une plaque `c`, et rend le cout. Dans la deuxième boîte, créez un jeu de tests avec au moins 5 `assert` pour tester tous les cas d'usage de la fonction."
   ]
  },
  {
   "cell_type": "code",
   "execution_count": 245,
   "id": "0d13956c",
   "metadata": {},
   "outputs": [],
   "source": [
    "def cout_plaques(p, c):\n",
    "    res = ((p-1)//96 + 1)*c\n",
    "    return res"
   ]
  },
  {
   "cell_type": "code",
   "execution_count": 246,
   "id": "e786f272",
   "metadata": {},
   "outputs": [],
   "source": [
    "assert cout_plaques(0,0) == 0\n",
    "assert cout_plaques(96,1) == 1\n",
    "assert cout_plaques(95,1) == 1\n",
    "assert cout_plaques(97,1) == 2\n",
    "assert cout_plaques(96,100) == 100"
   ]
  },
  {
   "cell_type": "markdown",
   "id": "5f6a18ff",
   "metadata": {},
   "source": [
    "<b><font color='white' style='background-color:blue'>3.3.g-bis</font></b> Etes-vous sûrs d'avoir bien fait l'exercice `3.3.f`? Avez-vous contrôlé le coût pour 96 puits ? Et pour 97 ?"
   ]
  },
  {
   "cell_type": "code",
   "execution_count": 247,
   "id": "6275c60e",
   "metadata": {},
   "outputs": [],
   "source": [
    "assert cout_plaques(96,1) == 1\n",
    "assert cout_plaques(97,1) == 2"
   ]
  },
  {
   "cell_type": "markdown",
   "id": "befc4df4",
   "metadata": {},
   "source": [
    "<h3>4. Tests</h3>\n",
    "<b><font color='white' style='background-color:black'>Ex. 4.1</font> Comparaisons</b><br>\n",
    "On a déjà vu un premier type de comparaison en utilisant `assert`. Les opérateurs de comparaison sont:\n",
    "\n",
    "```python\n",
    "==    # égale à\n",
    "!=    # inégale à\n",
    ">     # supérieur à\n",
    "<     # inférieur à\n",
    ">=    # supérieur ou égale à\n",
    "<=    # inférieur ou égale à\n",
    "```\n",
    "\n",
    "Les tests rendent toujours un booléen : `True` ou `False`"
   ]
  },
  {
   "cell_type": "code",
   "execution_count": 248,
   "id": "8dd7df23",
   "metadata": {},
   "outputs": [
    {
     "data": {
      "text/plain": [
       "False"
      ]
     },
     "execution_count": 248,
     "metadata": {},
     "output_type": "execute_result"
    }
   ],
   "source": [
    "# Exemple\n",
    "2 + 2 == 5"
   ]
  },
  {
   "cell_type": "markdown",
   "id": "8de5ed8c",
   "metadata": {},
   "source": [
    "<b><font color='white' style='background-color:orange'>4.1.a</font></b> Demandez à Python pour savoir si les égalités ou inégalité suivantes sont vraies :"
   ]
  },
  {
   "cell_type": "markdown",
   "id": "6396228d",
   "metadata": {},
   "source": [
    "$3 \\times 5 = 5 + 17$"
   ]
  },
  {
   "cell_type": "code",
   "execution_count": 252,
   "id": "c665dc72",
   "metadata": {},
   "outputs": [
    {
     "data": {
      "text/plain": [
       "False"
      ]
     },
     "execution_count": 252,
     "metadata": {},
     "output_type": "execute_result"
    }
   ],
   "source": [
    "3*5 == 5 + 17"
   ]
  },
  {
   "cell_type": "markdown",
   "id": "056e64a5",
   "metadata": {},
   "source": [
    "$24 + 8 \\times 2 + 2 \\neq 42$"
   ]
  },
  {
   "cell_type": "code",
   "execution_count": 253,
   "id": "3786a9e4",
   "metadata": {},
   "outputs": [
    {
     "data": {
      "text/plain": [
       "False"
      ]
     },
     "execution_count": 253,
     "metadata": {},
     "output_type": "execute_result"
    }
   ],
   "source": [
    "24 + 8*2 + 2 != 42"
   ]
  },
  {
   "cell_type": "markdown",
   "id": "65e09602",
   "metadata": {},
   "source": [
    "$\\frac{3 + 9}{24} > \\frac{2 + 7}{19}$"
   ]
  },
  {
   "cell_type": "code",
   "execution_count": 254,
   "id": "d8bcce72",
   "metadata": {},
   "outputs": [
    {
     "data": {
      "text/plain": [
       "True"
      ]
     },
     "execution_count": 254,
     "metadata": {},
     "output_type": "execute_result"
    }
   ],
   "source": [
    "(3+9)/24 > (2+7)/19"
   ]
  },
  {
   "cell_type": "markdown",
   "id": "a3bdec16",
   "metadata": {},
   "source": [
    "<b><font color='white' style='background-color:orange'>4.1.b</font></b> Testez si la longueur du fameux mot de Mary Poppins `'Supercalifragilisticexpialidocious'` est supérieure à celle de sa traduction française `'Supercalifragilisticexpidélilicieux'`."
   ]
  },
  {
   "cell_type": "code",
   "execution_count": 255,
   "id": "fcf9c277",
   "metadata": {},
   "outputs": [
    {
     "data": {
      "text/plain": [
       "False"
      ]
     },
     "execution_count": 255,
     "metadata": {},
     "output_type": "execute_result"
    }
   ],
   "source": [
    "len('Supercalifragilisticexpialidocious') > len('Supercalifragilisticexpidélilicieux')"
   ]
  },
  {
   "cell_type": "markdown",
   "id": "66d1193c",
   "metadata": {},
   "source": [
    "<b><font color='white' style='background-color:orange'>4.1.c</font></b> Testez si c'est vrai que `4` et `4.0` sont égaux. Est-ce que `'Batman'` et `'batman'` le sont?"
   ]
  },
  {
   "cell_type": "code",
   "execution_count": 256,
   "id": "c9574431",
   "metadata": {},
   "outputs": [
    {
     "data": {
      "text/plain": [
       "True"
      ]
     },
     "execution_count": 256,
     "metadata": {},
     "output_type": "execute_result"
    }
   ],
   "source": [
    "4 == 4.0"
   ]
  },
  {
   "cell_type": "markdown",
   "id": "74ebe99e",
   "metadata": {},
   "source": [
    "<b><font color='white' style='background-color:green'>4.1.d</font></b> Un triangle de côtés `6`, `8` et `10` est-il rectangle? Testez-le avec une comparaison adéquate"
   ]
  },
  {
   "cell_type": "code",
   "execution_count": 251,
   "id": "a9596b7b",
   "metadata": {},
   "outputs": [
    {
     "data": {
      "text/plain": [
       "True"
      ]
     },
     "execution_count": 251,
     "metadata": {},
     "output_type": "execute_result"
    }
   ],
   "source": [
    "6**2 + 8**2 == 10**2"
   ]
  },
  {
   "cell_type": "markdown",
   "id": "990e3f49",
   "metadata": {},
   "source": [
    "<b><font color='white' style='background-color:green'>4.1.e</font></b> On lance deux dés à six faces. Créez deux variables (aléatoires) `dé1` et `dé2` pour ces lancers. Affichez le résultat du test pour savoir si le `dé1` est supérieur ou égal au `dé2`"
   ]
  },
  {
   "cell_type": "code",
   "execution_count": 249,
   "id": "a8811808",
   "metadata": {},
   "outputs": [
    {
     "name": "stdout",
     "output_type": "stream",
     "text": [
      "False\n"
     ]
    }
   ],
   "source": [
    "from random import randint\n",
    "\n",
    "dé1 = randint(1,6)\n",
    "dé2 = randint(1,6)\n",
    "\n",
    "print(dé1 > dé2)"
   ]
  },
  {
   "cell_type": "markdown",
   "id": "e598481c",
   "metadata": {},
   "source": [
    "<b><font color='white' style='background-color:black'>Ex. 4.2</font> Flottants et inéxactitude</b><br>\n",
    "Pour l'instant, on n'a vu que des entiers. Mais quid des nombres à virgule? Peut-on faire"
   ]
  },
  {
   "cell_type": "markdown",
   "id": "4e6eea1e",
   "metadata": {},
   "source": [
    "<b><font color='white' style='background-color:black'>Ex. 4.2</font> Opérations sur les booléens</b><br>"
   ]
  },
  {
   "cell_type": "markdown",
   "id": "6cd6f3a3",
   "metadata": {},
   "source": [
    "<b><font color='white' style='background-color:black'>Ex. 4.3</font> Tests avancés</b><br>"
   ]
  },
  {
   "cell_type": "markdown",
   "id": "f5c1ba0f",
   "metadata": {},
   "source": [
    "<h3>5. Conditions</h3>\n",
    "<b><font color='white' style='background-color:black'>Ex. 5.1</font> If, elif, else</b><br>"
   ]
  },
  {
   "cell_type": "markdown",
   "id": "51c95ae9",
   "metadata": {},
   "source": [
    "<b><font color='white' style='background-color:black'>Ex. 5.2</font> S'entraîner avec les conditions</b><br>"
   ]
  },
  {
   "cell_type": "markdown",
   "id": "03773a6e",
   "metadata": {},
   "source": [
    "<b><font color='white' style='background-color:black'>Ex. 5.3</font> Encore plus loin avec les conditions</b><br>"
   ]
  },
  {
   "cell_type": "code",
   "execution_count": null,
   "id": "65b10e79",
   "metadata": {},
   "outputs": [],
   "source": []
  }
 ],
 "metadata": {
  "kernelspec": {
   "display_name": "Python 3 (ipykernel)",
   "language": "python",
   "name": "python3"
  },
  "language_info": {
   "codemirror_mode": {
    "name": "ipython",
    "version": 3
   },
   "file_extension": ".py",
   "mimetype": "text/x-python",
   "name": "python",
   "nbconvert_exporter": "python",
   "pygments_lexer": "ipython3",
   "version": "3.10.8"
  }
 },
 "nbformat": 4,
 "nbformat_minor": 5
}
