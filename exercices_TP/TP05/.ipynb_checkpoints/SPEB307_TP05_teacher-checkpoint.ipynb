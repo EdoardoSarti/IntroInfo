{
 "cells": [
  {
   "cell_type": "markdown",
   "id": "437a11d0",
   "metadata": {},
   "source": [
    "<h1><center>SPEV311 — Introduction à l'Informatique — TP 05</center><br>\n",
    "<center>Uplets, Listes</center></h1>"
   ]
  },
  {
   "cell_type": "markdown",
   "id": "c3a9453e",
   "metadata": {},
   "source": [
    "<h3>Auto-évaluation</h3>\n",
    "\n",
    "<div> Les exercices se divisent en trois niveaux d'auto-évaluation:\n",
    "<ul>\n",
    "    <li><h3><font color='white' style='background-color:orange'>Fondamentaux</font></h3> Pour réviser les notions apprises en cours. Il faut tous les savoir résoudre pour avoir la moyenne.</li>\n",
    "    <li><h3><font color='white' style='background-color:green'>Intermédiaires</font></h3> Pour vous aider à raisonner et rentrer au coeur des sujets. Si vous saurez tous les résoudre, vous aurez un bon niveau de préparation !</li>\n",
    "    <li><h3><font color='white' style='background-color:blue'>Avancés</font></h3> Défis pour vous entraîner à l'examen final... et aller plus loin !</li>\n",
    "</ul>\n",
    "</div>"
   ]
  },
  {
   "cell_type": "markdown",
   "id": "2066e189",
   "metadata": {},
   "source": [
    "Les exercices avec un <font color='white' style='text-shadow: -1px 0 black, 0 1px black, 1px 0 black, 0 -1px black;'>C</font> sont corrigés : vous trouverez un notebook avec la correction de ces exercices dans le même dossier où vous avez trouvé celui-ci."
   ]
  },
  {
   "cell_type": "markdown",
   "id": "c1b5b9b0",
   "metadata": {},
   "source": [
    "### <font color='black'>Table des matières<font><a class='anchor' id='top'></a>\n",
    "1. [Uplets](#uplets)<br>\n",
    "    1.1 [Opérations sur les uplets](#opérations)<br>\n",
    "    1.2 [Extraction](#extraction)<br>\n",
    "    1.3 [Uplets et boucles for](#foruplets)<br>\n",
    "    1.4 [Arrays avec `numpy`](#array)<br>\n",
    "2. [Listes](#variables)<br>\n",
    "    2.1 [Opérations, boucles](#opboucl)<br>\n",
    "    2.2 [Création et modification d'une liste](#modification)<br>\n",
    "3. [Conversions](#conversions)<br>\n",
    "    3.1 [Convertir les types](#types)<br>\n",
    "4. [Séquences de séquences](#séquences)<br>\n",
    "    4.1 [Listes de mots](#listemots)<br>\n",
    "    4.2 [Matrices avec `numpy`](#matrice)<br>"
   ]
  },
  {
   "cell_type": "markdown",
   "id": "81e0d925",
   "metadata": {},
   "source": [
    "<h3>0. Séquences</h3><a class='anchor' id='entiers'></a>\n",
    "\n",
    "Pour l'instant on n'a vu qu'un seul type de conteneur : les chaînes de caractères. Les chaînes sont des **séquences**, car ce sont des **conteneurs ordonnés** : en effets, les caractères d'une chaînes gardent leur ordre (`\"fou\"` n'est pas égal à `\"ouf\"`, même s'ils sont composés par les mêmes caractères). \n",
    "\n",
    "En Python, les trois types principaux de séquences sont :\n",
    "- les chaînes de caractères (`str`);\n",
    "- les uplets (`tuple`);\n",
    "- les listes (`list`).\n",
    "\n",
    "En Python, toutes les séquences sont indexées par des entiers. Le système d'indexage est le même pour toutes les séquences : on l'a déjà étudié dans le cas des chaînes.\n",
    "\n",
    "<div>\n",
    "<img src=\"indexing_sequences.jpeg\" width=\"500\"/>\n",
    "</div>\n",
    "\n",
    "Les **opérations sur les séquences** sont celles vues pour les chaînes de caractères :\n",
    "- concaténation `+` : si `a` et `b` sont deux séquences du même type, `a+b` est une séquence qui concatène les éléments de `a` et les éléments de `b`\n",
    "- répétition `*` : si `a` est une séquence et `n` est un entier, `a*n` est une séquence qui concatène `n` copies de `a`\n",
    "\n",
    "L'**extraction** des éléments d'une séquence se fait par la syntaxe à crochets : si `i` est un entier et `a` est une séquence avec au moins `i+1` éléments, `a[i]` est les `i+1`-ème élément de la séquence. Ainsi de suite pour l'indexage négatif.\n",
    "\n",
    "Les **découpages** suivent la syntaxe à crochets généralisée vue pour les chaînes : si `i`, `j` et `k` sont trois entiers, `i <= j`, et `a` est une séquence avec au moins `j+1` éléments, `a[i:j:k]` sélectionne les éléments depuis le `i+1`-ème jusqu'au `j`-ème en sautant à partir du `i+1`-ème avec un pas égal à `k` (et donc en récupérant `a[i]`, `a[i+k]`, `a[i+2*k]`, etc.)\n",
    "\n",
    "Les **séquences nulles** sont :\n",
    "- `str` nul : `''`\n",
    "- `tuple` nul : `()`\n",
    "- `list` nul : `[]`"
   ]
  },
  {
   "cell_type": "markdown",
   "id": "45201be3",
   "metadata": {},
   "source": [
    "<h3>1. Uplets</h3><a class='anchor' id='entiers'></a>\n",
    "\n",
    "Les uplets sont des séquences **non modifiables**, tout comme les chaînes, mais les éléments d'un uplet ne sont pas forcément des caractères. Ici un exemple d'uplet :\n",
    "\n",
    "```python\n",
    "u = (1, 4, \"Madagascar\", 6.9, True, \"!?\")\n",
    "```\n",
    "\n",
    "Bien évidemment, on peut aussi créer des uplets **homogènes** :\n",
    "\n",
    "```python\n",
    "t = (1.2, 0.7, 3.5, 5.0, 1.9)\n",
    "```"
   ]
  },
  {
   "cell_type": "markdown",
   "id": "e22835c2",
   "metadata": {},
   "source": [
    "<b><font color='white' style='background-color:black'>Ex. 1.1</font> Opérations sur les uplets</b><a class='anchor' id='opérations'></a><br>\n",
    "\n",
    "<b><font color='white' style='background-color:orange'>1.1.a</font></b> <font color='white' style='text-shadow: -1px 0 black, 0 1px black, 1px 0 black, 0 -1px black;'>C</font> On a les uplets\n",
    "```python\n",
    "u1 = (3, 5)\n",
    "u2 = (6, 7)\n",
    "```\n",
    "Que vaut `u1 + u2` en python ?  \n",
    "Écrivez du code, puis expliquez le résultat obtenu."
   ]
  },
  {
   "cell_type": "code",
   "execution_count": 1,
   "id": "bb4ccd49",
   "metadata": {},
   "outputs": [
    {
     "data": {
      "text/plain": [
       "(3, 5, 6, 7)"
      ]
     },
     "execution_count": 1,
     "metadata": {},
     "output_type": "execute_result"
    }
   ],
   "source": [
    "u1 = (3, 5)\n",
    "u2 = (6, 7)\n",
    "u1 + u2"
   ]
  },
  {
   "cell_type": "markdown",
   "id": "d1b364f3",
   "metadata": {},
   "source": [
    "<b><font color='white' style='background-color:orange'>1.1.b</font></b> Créez une fonction `concaténation` qui prend deux uplets et rend la concaténation des deux uplets. Créez un jeu de tests pour la tester... sur les uplets ET sur les chaînes de caractères ! La fonction marche-t-elle dans les deux cas ?"
   ]
  },
  {
   "cell_type": "code",
   "execution_count": 2,
   "id": "1d5f39bc",
   "metadata": {},
   "outputs": [],
   "source": [
    "def concaténation(u1, u2):\n",
    "    return u1 + u2"
   ]
  },
  {
   "cell_type": "code",
   "execution_count": 3,
   "id": "7675c2df",
   "metadata": {},
   "outputs": [],
   "source": [
    "assert concaténation((1,2,3), (4,5)) == (1,2,3,4,5)\n",
    "assert concaténation((), (1,)) == (1,)\n",
    "assert concaténation(\"rond\", \"point\") == \"rondpoint\""
   ]
  },
  {
   "cell_type": "markdown",
   "id": "65b23110",
   "metadata": {},
   "source": [
    "<b><font color='white' style='background-color:orange'>1.1.c</font></b> <font color='white' style='text-shadow: -1px 0 black, 0 1px black, 1px 0 black, 0 -1px black;'>C</font> Et si vous testiez la fonction `concaténation` que vous avez créee avec deux entiers, qu'obtrendiez-vous ? Pourquoi ? Expliquez."
   ]
  },
  {
   "cell_type": "markdown",
   "id": "cbc24b9c",
   "metadata": {},
   "source": [
    "**On obtient la somme de deux entiers, parce que le signe `+` entre deux entiers est interprété comme une somme**"
   ]
  },
  {
   "cell_type": "markdown",
   "id": "abfbf71d",
   "metadata": {},
   "source": [
    "<b><font color='white' style='background-color:green'>1.1.d</font></b> Créez une fonction `concaténation_généralisée` qui prend deux uplets `u1`, `u2` et deux entiers `m`, `n`, et rend la concaténation de `m` copies de `u1` avec `n` copies de `u2`. Créez un jeu de tests pour la tester... sur les uplets, sur les chaînes de caractères et sur les nombres !"
   ]
  },
  {
   "cell_type": "code",
   "execution_count": 4,
   "id": "32fa4037",
   "metadata": {},
   "outputs": [],
   "source": [
    "def concaténation_généralisée(u1, u2, m, n):\n",
    "    return u1*m + u2*n"
   ]
  },
  {
   "cell_type": "code",
   "execution_count": 5,
   "id": "782cd255",
   "metadata": {},
   "outputs": [],
   "source": [
    "assert concaténation_généralisée((1,2,3), (4,5), 2, 3) == (1,2,3,1,2,3,4,5,4,5,4,5)\n",
    "assert concaténation_généralisée((), (1,), 10, 3) == (1,1,1)\n",
    "assert concaténation_généralisée((1,2,3,4,5,6), (1,2,3), 0, 1) == (1,2,3)\n",
    "assert concaténation_généralisée(\"X\", \"O\", 2, 4) == \"XXOOOO\"\n",
    "assert concaténation_généralisée(1.5, -0.8, 2, 10) == -5.0"
   ]
  },
  {
   "cell_type": "markdown",
   "id": "bf46826d",
   "metadata": {},
   "source": [
    "<b><font color='white' style='background-color:green'>1.1.e</font></b> <font color='white' style='text-shadow: -1px 0 black, 0 1px black, 1px 0 black, 0 -1px black;'>C</font> On voudrait calculer la somme des couples coordonnée par coordonnée.  \n",
    "Écrire une fonction `somme_couples` qui prend deux couples `u1` et `u2` et en rend la somme coordonnée par coordonnée. Créez un jeu de tests avec au moins 3 `assert` et testez"
   ]
  },
  {
   "cell_type": "code",
   "execution_count": 6,
   "id": "237b35ac",
   "metadata": {},
   "outputs": [],
   "source": [
    "def somme_couples(u1, u2):\n",
    "    return (u1[0] + u2[0], u1[1] + u2[1])"
   ]
  },
  {
   "cell_type": "code",
   "execution_count": 7,
   "id": "54b0b930",
   "metadata": {},
   "outputs": [],
   "source": [
    "assert somme_couples((0, 0), (0, 0)) == (0, 0)\n",
    "assert somme_couples((10, 0), (0, -10)) == (10, -10)\n",
    "assert somme_couples((9, 13), (-17, 1)) == (-8, 14)"
   ]
  },
  {
   "cell_type": "markdown",
   "id": "bd9ef06c",
   "metadata": {},
   "source": [
    "<b><font color='white' style='background-color:black'>Ex. 1.2</font> Extraction</b><a class='anchor' id='extraction'></a><br>\n",
    "\n",
    "<b><font color='white' style='background-color:orange'>1.2.a</font></b> <font color='white' style='text-shadow: -1px 0 black, 0 1px black, 1px 0 black, 0 -1px black;'>C</font> On a l'uplet suivant :\n",
    "\n",
    "```python\n",
    "u = (4, 4, 6, 6, -3, 'a', 5)\n",
    "```\n",
    "\n",
    "Que vaut `u[u[0] - 2] * 2` ?  \n",
    "Écrivez du code pour que python le calcule pour vous, puis expliquez la valeur obtenue."
   ]
  },
  {
   "cell_type": "code",
   "execution_count": 8,
   "id": "1a2e2ba5",
   "metadata": {},
   "outputs": [
    {
     "name": "stdout",
     "output_type": "stream",
     "text": [
      "12\n"
     ]
    }
   ],
   "source": [
    "u = (4, 4, 6, 6, -3, 'a', 5)\n",
    "print(u[u[0] - 2] * 2)"
   ]
  },
  {
   "cell_type": "markdown",
   "id": "de26b214",
   "metadata": {},
   "source": [
    "**On a demandé le premier élément de `u`. Ensuite, on a enlevé 2 à sa valeur et on l'a utilisé comme indice pour demander le troisième élément de `u`**"
   ]
  },
  {
   "cell_type": "markdown",
   "id": "65acfee3",
   "metadata": {},
   "source": [
    "<b><font color='white' style='background-color:orange'>1.2.a-bis</font></b> <font color='white' style='text-shadow: -1px 0 black, 0 1px black, 1px 0 black, 0 -1px black;'>C</font> Que vaut `u[u[-1]] * 2` ? Écrivez du code pour que python le calcule pour vous, puis expliquez la valeur obtenue."
   ]
  },
  {
   "cell_type": "code",
   "execution_count": 9,
   "id": "190baefe",
   "metadata": {},
   "outputs": [
    {
     "name": "stdout",
     "output_type": "stream",
     "text": [
      "aa\n"
     ]
    }
   ],
   "source": [
    "print(u[u[-1]] * 2)"
   ]
  },
  {
   "cell_type": "markdown",
   "id": "2ae3cf57",
   "metadata": {},
   "source": [
    "**On a demandé le dernier élément de `u`. Ensuite, on l'a utilisé comme indice pour demander le sixième élément de `u`. Puisque c'est un caractère, l'opération `*` l'a répété deux fois**"
   ]
  },
  {
   "cell_type": "markdown",
   "id": "97fd006d",
   "metadata": {},
   "source": [
    "<b><font color='white' style='background-color:orange'>1.2.a-ter</font></b> <font color='white' style='text-shadow: -1px 0 black, 0 1px black, 1px 0 black, 0 -1px black;'>C</font> Que vaut `u[u[u[-1]]]` ? Écrivez du code pour que python le calcule pour vous, puis expliquez la valeur obtenue."
   ]
  },
  {
   "cell_type": "code",
   "execution_count": 10,
   "id": "4b9cfdf1",
   "metadata": {},
   "outputs": [
    {
     "ename": "TypeError",
     "evalue": "tuple indices must be integers or slices, not str",
     "output_type": "error",
     "traceback": [
      "\u001b[0;31m---------------------------------------------------------------------------\u001b[0m",
      "\u001b[0;31mTypeError\u001b[0m                                 Traceback (most recent call last)",
      "\u001b[0;32m/var/folders/n2/f38nwgwx4mj1c00zln5_6fh80000gn/T/ipykernel_96001/2850124620.py\u001b[0m in \u001b[0;36m<module>\u001b[0;34m\u001b[0m\n\u001b[0;32m----> 1\u001b[0;31m \u001b[0mprint\u001b[0m\u001b[0;34m(\u001b[0m\u001b[0mu\u001b[0m\u001b[0;34m[\u001b[0m\u001b[0mu\u001b[0m\u001b[0;34m[\u001b[0m\u001b[0mu\u001b[0m\u001b[0;34m[\u001b[0m\u001b[0;34m-\u001b[0m\u001b[0;36m1\u001b[0m\u001b[0;34m]\u001b[0m\u001b[0;34m]\u001b[0m\u001b[0;34m]\u001b[0m\u001b[0;34m)\u001b[0m\u001b[0;34m\u001b[0m\u001b[0;34m\u001b[0m\u001b[0m\n\u001b[0m",
      "\u001b[0;31mTypeError\u001b[0m: tuple indices must be integers or slices, not str"
     ]
    }
   ],
   "source": [
    "print(u[u[u[-1]]])"
   ]
  },
  {
   "cell_type": "markdown",
   "id": "8c9aeec6",
   "metadata": {},
   "source": [
    "**On a demandé le dernier élément de `u`. Ensuite, on l'a utilisé comme indice pour demander le sixième élément de `u`. On a encore cherché à l'utiliser comme indice, mais puisque c'est un caractère, une erreur s'est produite**"
   ]
  },
  {
   "cell_type": "markdown",
   "id": "c531e3fc",
   "metadata": {},
   "source": [
    "<b><font color='white' style='background-color:black'>Ex. 1.3</font> Uplets et boucles for</b><a class='anchor' id='foruplet'></a><br>\n",
    "<b><font color='white' style='background-color:orange'>1.3.a</font></b> On dispose de l'uplet `dés` constitué de caractères unicodes.  \n",
    "Écrire du code pour afficher les éléments de l'uplet `dés`, un par ligne, en affichant aussi l'indice.\n",
    "\n",
    "Votre code doit afficher\n",
    "```\n",
    "0 : ⚀\n",
    "1 : ⚁\n",
    "2 : ⚂\n",
    "3 : ⚃\n",
    "4 : ⚄\n",
    "5 : ⚅\n",
    "```"
   ]
  },
  {
   "cell_type": "code",
   "execution_count": 14,
   "id": "7caa45ca",
   "metadata": {},
   "outputs": [
    {
     "name": "stdout",
     "output_type": "stream",
     "text": [
      "0 : ⚀\n",
      "1 : ⚁\n",
      "2 : ⚂\n",
      "3 : ⚃\n",
      "4 : ⚄\n",
      "5 : ⚅\n"
     ]
    }
   ],
   "source": [
    "# Ne pas modifier !\n",
    "dés = ('⚀', '⚁', '⚂', '⚃', '⚄', '⚅')\n",
    "# Ici votre code :\n",
    "for i in range(len(dés)):\n",
    "    print(i, \":\", dés[i])"
   ]
  },
  {
   "cell_type": "markdown",
   "id": "d5874577",
   "metadata": {},
   "source": [
    "<b><font color='white' style='background-color:orange'>1.3.b</font></b> <font color='white' style='text-shadow: -1px 0 black, 0 1px black, 1px 0 black, 0 -1px black;'>C</font> On dispose de deux uplets `u1` et `u2`.\n",
    "Écrire une fonction `comparaison_taille_uplets` qui prend deux uplets `u1` et `u2` et affiche, selon le cas où on se trouve,\n",
    "```\n",
    "Les uplets ont même longueur.\n",
    "```\n",
    "ou\n",
    "```\n",
    "Les uplets n'ont pas même longueur.\n",
    "```\n",
    "En plus, la fonction doit rendre `True` dans le premier cas et `False` dans le deuxième.\n",
    "\n",
    "Testez avec des `assert` dans la deuxième boîte de code."
   ]
  },
  {
   "cell_type": "code",
   "execution_count": 13,
   "id": "078c69c2",
   "metadata": {},
   "outputs": [],
   "source": [
    "def comparaison_taille_uplets(u1, u2):\n",
    "    if len(u1) == len(u2):\n",
    "        print(\"Les uplets ont même longueur.\")\n",
    "        return True\n",
    "    else:\n",
    "        print(\"Les uplets n'ont pas même longueur.\")\n",
    "        return False"
   ]
  },
  {
   "cell_type": "code",
   "execution_count": 14,
   "id": "cc1bd3ce",
   "metadata": {},
   "outputs": [
    {
     "name": "stdout",
     "output_type": "stream",
     "text": [
      "Les uplets ont même longueur.\n",
      "Les uplets n'ont pas même longueur.\n"
     ]
    }
   ],
   "source": [
    "assert comparaison_taille_uplets((1,2,3), (1,1,3)) == True\n",
    "assert comparaison_taille_uplets((1,2,3), (1,1,3,5)) == False"
   ]
  },
  {
   "cell_type": "markdown",
   "id": "1a64893c",
   "metadata": {},
   "source": [
    "<b><font color='white' style='background-color:green'>1.3.c</font></b> <font color='white' style='text-shadow: -1px 0 black, 0 1px black, 1px 0 black, 0 -1px black;'>C</font> Dans l'exercice `1.1.e` on a créee une fonction `somme_couples` qui rend la somme coordonnée par coordonnée de deux couples. On voudrait calculer la somme des couples coordonnée par coordonnée. On veut la généraliser pour prendre deux uplets de n'importe quelle taille. \n",
    "Écrivez une fonction `somme_uplets` qui prend deux uplets `u1` et `u2`, vérifie qu'ils sont de la même taille en utilisant la fonction `comparaison_taille_uplets` créee en `1.3.b` et en rend la somme coordonnée par coordonnée. Si `u1` et `u2` ne sont pas de la même taille, la fonction rendra `None`. \n",
    "Créez un jeu de tests avec au moins 3 `assert` et testez"
   ]
  },
  {
   "cell_type": "code",
   "execution_count": 15,
   "id": "3ad43835",
   "metadata": {},
   "outputs": [],
   "source": [
    "def somme_uplets(u1, u2):\n",
    "    if comparaison_taille_uplets(u1, u2):\n",
    "        somme = ()\n",
    "        for i in range(len(u1)):\n",
    "            somme = somme + (u1[i] + u2[i],)\n",
    "        return somme\n",
    "    return None"
   ]
  },
  {
   "cell_type": "code",
   "execution_count": 16,
   "id": "0f2a0ed6",
   "metadata": {},
   "outputs": [
    {
     "name": "stdout",
     "output_type": "stream",
     "text": [
      "Les uplets ont même longueur.\n",
      "Les uplets ont même longueur.\n",
      "Les uplets ont même longueur.\n",
      "Les uplets n'ont pas même longueur.\n"
     ]
    }
   ],
   "source": [
    "assert somme_uplets((0, 0, 0, 0), (0, 0, 0, 0)) == (0, 0, 0, 0)\n",
    "assert somme_uplets((10, 0, 1), (0, -10, 1)) == (10, -10, 2)\n",
    "assert somme_uplets((9, 13), (-17, 1)) == (-8, 14)\n",
    "assert somme_uplets((9, 13, 15), (-17, 1)) == None"
   ]
  },
  {
   "cell_type": "markdown",
   "id": "16128988",
   "metadata": {},
   "source": [
    "<b><font color='white' style='background-color:green'>1.3.d</font></b> Créez une fonction `max_uplet` qui prend un uplet `u` homogène de nombres, et rend le maximum. Vous ne pouvez pas utiliser la fonction `max` dans la définition de la fonction, mais vous pouvez l'utiliser pour vérifier son fonctionnement avec le jeu de tests. La fonction doit marcher aussi pour l'uplet nul et dans ce cas elle doit rendre `None`"
   ]
  },
  {
   "cell_type": "code",
   "execution_count": 30,
   "id": "7fc12c07",
   "metadata": {},
   "outputs": [],
   "source": [
    "def max_uplet(u):\n",
    "    if not u:\n",
    "        return None\n",
    "    m = u[0]\n",
    "    for i in range(1,len(u)):\n",
    "        if u[i] > m:\n",
    "            m = u[i]\n",
    "    return m"
   ]
  },
  {
   "cell_type": "code",
   "execution_count": 31,
   "id": "df7fef42",
   "metadata": {},
   "outputs": [],
   "source": [
    "assert max_uplet((1,10,100)) == 100\n",
    "assert max_uplet((100,1,10)) == 100\n",
    "assert max_uplet((1,)) == 1\n",
    "assert max_uplet(()) == None"
   ]
  },
  {
   "cell_type": "markdown",
   "id": "9ad552a0",
   "metadata": {},
   "source": [
    "<b><font color='white' style='background-color:green'>1.3.e</font></b> <font color='white' style='text-shadow: -1px 0 black, 0 1px black, 1px 0 black, 0 -1px black;'>C</font> En vous inspirant de l'exercice `1.3.d`, créez une fonction `max_argmax_uplet` qui prend un uplet `u` homogène de nombres, et rend le maximum et son indice. Vous ne pouvez pas utiliser de fonctions prédéfinies dans la définition de la fonction. La fonction doit marcher aussi pour l'uplet nul et dans ce cas elle doit rendre `None`. Si le maximum apparaît plusieurs fois dans l'uplet, l'indice retourné doit être celui de la première occurrence. Créez un jeu de tests approprié et testez."
   ]
  },
  {
   "cell_type": "code",
   "execution_count": 34,
   "id": "985433d4",
   "metadata": {},
   "outputs": [],
   "source": [
    "def max_argmax_uplet(u):\n",
    "    if not u:\n",
    "        return None\n",
    "    m = u[0]\n",
    "    im = 0\n",
    "    for i in range(1,len(u)):\n",
    "        if u[i] > m:\n",
    "            m = u[i]\n",
    "            im = i\n",
    "    return m, im"
   ]
  },
  {
   "cell_type": "code",
   "execution_count": 35,
   "id": "39df8bb9",
   "metadata": {},
   "outputs": [],
   "source": [
    "assert max_argmax_uplet((1,10,100)) == (100, 2)\n",
    "assert max_argmax_uplet((100,1,10)) == (100, 0)\n",
    "assert max_argmax_uplet((1,)) == (1, 0)\n",
    "assert max_argmax_uplet(()) == None\n",
    "assert max_argmax_uplet((100,10,100)) == (100, 0)"
   ]
  },
  {
   "cell_type": "markdown",
   "id": "088f52c2",
   "metadata": {},
   "source": [
    "<b><font color='white' style='background-color:blue'>1.3.f</font></b> <font color='white' style='text-shadow: -1px 0 black, 0 1px black, 1px 0 black, 0 -1px black;'>C</font> En vous inspirant de l'exercice `1.3.e`, créez une fonction `max_occ_uplet` qui prend un uplet `u` homogène de nombres, et rend le maximum et le nombre d'occurrences de ce nombre dans l'uplet. Vous ne pouvez pas utiliser de fonctions prédéfinies dans la définition de la fonction. La fonction doit marcher aussi pour l'uplet nul et dans ce cas elle doit rendre `None`. Créez un jeu de tests approprié et testez."
   ]
  },
  {
   "cell_type": "code",
   "execution_count": 43,
   "id": "96cc5629",
   "metadata": {},
   "outputs": [],
   "source": [
    "def max_occ_uplet(u):\n",
    "    if not u:\n",
    "        return None\n",
    "    m = u[0]\n",
    "    occ = 1\n",
    "    for i in range(1,len(u)):\n",
    "        if u[i] > m:\n",
    "            m = u[i]\n",
    "            occ = 1\n",
    "        elif u[i] == m:\n",
    "            occ = occ + 1\n",
    "    return m, occ"
   ]
  },
  {
   "cell_type": "code",
   "execution_count": 44,
   "id": "512c4419",
   "metadata": {},
   "outputs": [],
   "source": [
    "assert max_occ_uplet((1,10,100)) == (100, 1)\n",
    "assert max_occ_uplet((100,1,10)) == (100, 1)\n",
    "assert max_occ_uplet((1,)) == (1, 1)\n",
    "assert max_occ_uplet(()) == None\n",
    "assert max_occ_uplet((100,10,100)) == (100, 2)"
   ]
  },
  {
   "cell_type": "markdown",
   "id": "f461476f",
   "metadata": {},
   "source": [
    "<h3>2. Listes</h3><a class='anchor' id='entiers'></a>\n",
    "\n",
    "Les listes sont des séquences **modifiables**, et cela leur donne une versatilité plus marquée que les uplets. Ici un exemple de définition de liste :\n",
    "\n",
    "```python\n",
    "L = [1, 4, \"Madagascar\", 6.9, True, \"!?\"]\n",
    "```\n",
    "\n",
    "Comme vous voyez, la liste peut contenir exactement les mêmes éléments qu'un uplet. Mais une liste peut aussi être modifiée :\n",
    "- On peut remplacer un ou plusieurs éléments de la liste sans en créer une copie : `L[2] = \"Constantinople\"` transforme le troisième élément de L depuis \"Madagascar\" en \"Constantinople\"\n",
    "- On peut rajouter des éléments à la fin de la liste avec la méthode `append` : `L.append(True)` rajoute le booléen `True` en tant que septième élément de la liste (et donc ayant indice `L[6]`)\n",
    "- On peut enlever des éléments avec la méthode `pop` : `L.pop(5)` enlève l'élément lié à l'indice `5`, dans ce cas `\"!?\"`"
   ]
  },
  {
   "cell_type": "markdown",
   "id": "ef680dd0",
   "metadata": {},
   "source": [
    "<b><font color='white' style='background-color:black'>Ex. 2.1</font> Remplacements</b><a class='anchor' id='numpy'></a><br>\n",
    "\n",
    "<b><font color='white' style='background-color:orange'>2.1.a</font></b> <font color='white' style='text-shadow: -1px 0 black, 0 1px black, 1px 0 black, 0 -1px black;'>C</font> Créez la liste \n",
    "```python\n",
    "L = [1, 4, \"Madagascar\", 6.9, True, \"!?\"]\n",
    "```\n",
    "puis faites les remplacements suivants : le troisième élément devient l'entier 6, le premier élément devient égal au dernier, l'élément avec indice égal à la valeur du deuxième élément devient la chaîne \"Enigme\". Affichez le résultat."
   ]
  },
  {
   "cell_type": "code",
   "execution_count": 65,
   "id": "8670538f",
   "metadata": {},
   "outputs": [
    {
     "name": "stdout",
     "output_type": "stream",
     "text": [
      "['!?', 4, 6, 6.9, 'Enigme', '!?']\n"
     ]
    }
   ],
   "source": [
    "L = [1, 4, \"Madagascar\", 6.9, True, \"!?\"]\n",
    "L[2] = 6\n",
    "L[0] = L[-1]\n",
    "L[L[1]] = \"Enigme\"\n",
    "print(L)"
   ]
  },
  {
   "cell_type": "markdown",
   "id": "912a2f1b",
   "metadata": {},
   "source": [
    "<b><font color='white' style='background-color:orange'>2.1.b</font></b> Regardez le code ci-dessous et répondez : que vaut `L[0]` ? Après avoir formulé votre réponse, vérifiez en copiant-collant le code dans la boîte de code.\n",
    "\n",
    "```python\n",
    "L = [4, 4, 6, 6, -3, 'a', 5]\n",
    "L[3] = 4\n",
    "L[2] = L[3] + 1\n",
    "L[0] = L[2]\n",
    "```"
   ]
  },
  {
   "cell_type": "markdown",
   "id": "a2879226",
   "metadata": {},
   "source": [
    "**5**"
   ]
  },
  {
   "cell_type": "code",
   "execution_count": 66,
   "id": "6c3e6a2c",
   "metadata": {},
   "outputs": [
    {
     "name": "stdout",
     "output_type": "stream",
     "text": [
      "5\n"
     ]
    }
   ],
   "source": [
    "L = [4, 4, 6, 6, -3, 'a', 5]\n",
    "L[3] = 4\n",
    "L[2] = L[3] + 1\n",
    "L[0] = L[2]\n",
    "print(L[0])"
   ]
  },
  {
   "cell_type": "markdown",
   "id": "0a10226b",
   "metadata": {},
   "source": [
    "<b><font color='white' style='background-color:orange'>2.1.c</font></b> <font color='white' style='text-shadow: -1px 0 black, 0 1px black, 1px 0 black, 0 -1px black;'>C</font> Créez une fonction `affiche_notes` qui prend un liste `notes` de nombres entre `0` et `20` et affiche les notes, une par ligne, précédée de leur indice.  \n",
    "Pour `affiche_notes([14, 5, 18, 12, 6, 9, 10, 9, 19.5, 1, 1, 19])` ça doit afficher\n",
    "```\n",
    "0 : 14\n",
    "1 : 5\n",
    "2 : 18\n",
    "3 : 12\n",
    "4 : 6\n",
    "5 : 9\n",
    "6 : 10\n",
    "7 : 9\n",
    "8 : 19.5\n",
    "9 : 1\n",
    "10 : 1\n",
    "11 : 19\n",
    "```"
   ]
  },
  {
   "cell_type": "code",
   "execution_count": 73,
   "id": "4889c8b6",
   "metadata": {},
   "outputs": [],
   "source": [
    "def affiche_notes(notes):\n",
    "    for i in range(len(notes)):\n",
    "        print(i, \":\", notes[i])"
   ]
  },
  {
   "cell_type": "code",
   "execution_count": 74,
   "id": "10d457be",
   "metadata": {},
   "outputs": [
    {
     "name": "stdout",
     "output_type": "stream",
     "text": [
      "0 : 14\n",
      "1 : 5\n",
      "2 : 18\n",
      "3 : 12\n",
      "4 : 6\n",
      "5 : 9\n",
      "6 : 10\n",
      "7 : 9\n",
      "8 : 19.5\n",
      "9 : 1\n",
      "10 : 1\n",
      "11 : 19\n"
     ]
    }
   ],
   "source": [
    "affiche_notes([14, 5, 18, 12, 6, 9, 10, 9, 19.5, 1, 1, 19])"
   ]
  },
  {
   "cell_type": "markdown",
   "id": "1ae1da1d",
   "metadata": {},
   "source": [
    "<b><font color='white' style='background-color:green'>2.1.d</font></b> Maintenant créez une fonction `augmente_notes` qui prend un liste `notes` de nombres entre `0` et `20` et rend une liste de la même taille où tous les éléments de `notes` ont été augmentés de `1`. Attention : les notes doivent rester entre `0` et `20`, vous devrez donc trouver une façon de ne pas trop augmenter les notes supérieures à `19.0` ! Affichez le résultat avec `affiche_notes` et testez avec la liste `[14, 5, 18, 12, 6, 9, 10, 9, 19.5, 1, 1, 19]`"
   ]
  },
  {
   "cell_type": "code",
   "execution_count": 75,
   "id": "56c12e11",
   "metadata": {},
   "outputs": [],
   "source": [
    "def augmente_notes(notes):\n",
    "    for i in range(len(notes)):\n",
    "        notes[i] = min(20, notes[i] + 1)\n",
    "    return notes"
   ]
  },
  {
   "cell_type": "code",
   "execution_count": 76,
   "id": "9df3e1b2",
   "metadata": {},
   "outputs": [
    {
     "name": "stdout",
     "output_type": "stream",
     "text": [
      "0 : 15\n",
      "1 : 6\n",
      "2 : 19\n",
      "3 : 13\n",
      "4 : 7\n",
      "5 : 10\n",
      "6 : 11\n",
      "7 : 10\n",
      "8 : 20\n",
      "9 : 2\n",
      "10 : 2\n",
      "11 : 20\n"
     ]
    }
   ],
   "source": [
    "affiche_notes(augmente_notes([14, 5, 18, 12, 6, 9, 10, 9, 19.5, 1, 1, 19]))"
   ]
  },
  {
   "cell_type": "markdown",
   "id": "e87358a4",
   "metadata": {},
   "source": [
    "<b><font color='white' style='background-color:green'>2.1.e</font></b> <font color='white' style='text-shadow: -1px 0 black, 0 1px black, 1px 0 black, 0 -1px black;'>C</font> Créez une fonction `modifie_notes` qui prend un liste `notes` de nombres entre `0` et `20` et un nombre `modificateur` de `-20` à `20` et rend une liste de la même taille où tous les éléments de `notes` ont été augmentés de ce nombre. Attention : les notes doivent rester entre `0` et `20`, vous devrez donc trouver une façon de gérer certains cas ! Affichez le résultat avec `affiche_notes` et testez avec la liste `[14, 5, 18, 12, 6, 9, 10, 9, 19.5, 1, 1, 19]` et les modificateurs `5` et `-2`"
   ]
  },
  {
   "cell_type": "code",
   "execution_count": 82,
   "id": "afe1394d",
   "metadata": {},
   "outputs": [],
   "source": [
    "def modifie_notes(notes, modificateur):\n",
    "    for i in range(len(notes)):\n",
    "        notes[i] = min(20, max(0, notes[i] + modificateur))\n",
    "    return notes"
   ]
  },
  {
   "cell_type": "code",
   "execution_count": 83,
   "id": "0b54794a",
   "metadata": {},
   "outputs": [
    {
     "name": "stdout",
     "output_type": "stream",
     "text": [
      "0 : 19\n",
      "1 : 10\n",
      "2 : 20\n",
      "3 : 17\n",
      "4 : 11\n",
      "5 : 14\n",
      "6 : 15\n",
      "7 : 14\n",
      "8 : 20\n",
      "9 : 6\n",
      "10 : 6\n",
      "11 : 20\n"
     ]
    }
   ],
   "source": [
    "affiche_notes(modifie_notes([14, 5, 18, 12, 6, 9, 10, 9, 19.5, 1, 1, 19], 5))"
   ]
  },
  {
   "cell_type": "code",
   "execution_count": 84,
   "id": "727bb3b4",
   "metadata": {},
   "outputs": [
    {
     "name": "stdout",
     "output_type": "stream",
     "text": [
      "0 : 12\n",
      "1 : 3\n",
      "2 : 16\n",
      "3 : 10\n",
      "4 : 4\n",
      "5 : 7\n",
      "6 : 8\n",
      "7 : 7\n",
      "8 : 17.5\n",
      "9 : 0\n",
      "10 : 0\n",
      "11 : 17\n"
     ]
    }
   ],
   "source": [
    "affiche_notes(modifie_notes([14, 5, 18, 12, 6, 9, 10, 9, 19.5, 1, 1, 19], -2))"
   ]
  },
  {
   "cell_type": "markdown",
   "id": "437eff46",
   "metadata": {},
   "source": [
    "<b><font color='white' style='background-color:black'>Ex. 2.2</font> Création d'une liste</b><a class='anchor' id='création'></a><br>\n",
    "\n",
    "<b><font color='white' style='background-color:orange'>2.2.a</font></b> <font color='white' style='text-shadow: -1px 0 black, 0 1px black, 1px 0 black, 0 -1px black;'>C</font> Quel est le contenu de `L` après ce code ? Répondez, puis vérifiez dans la boîte de code.\n",
    "\n",
    "```python\n",
    "L = [1,2,3]\n",
    "L.append(4)\n",
    "L.append(5)\n",
    "```"
   ]
  },
  {
   "cell_type": "markdown",
   "id": "5b25c86f",
   "metadata": {},
   "source": [
    "`[1,2,3,4,5]`"
   ]
  },
  {
   "cell_type": "code",
   "execution_count": 86,
   "id": "bf8045cf",
   "metadata": {},
   "outputs": [
    {
     "name": "stdout",
     "output_type": "stream",
     "text": [
      "[1, 2, 3, 4, 5]\n"
     ]
    }
   ],
   "source": [
    "L = [1,2,3]\n",
    "L.append(4)\n",
    "L.append(5)\n",
    "print(L)"
   ]
  },
  {
   "cell_type": "markdown",
   "id": "55a286b7",
   "metadata": {},
   "source": [
    "<b><font color='white' style='background-color:orange'>2.2.b</font></b> En partant d'une liste vide et en utilisant la méthode `append`, créez une liste contenant les entiers de `1` à `100`."
   ]
  },
  {
   "cell_type": "code",
   "execution_count": 88,
   "id": "ceb2328b",
   "metadata": {},
   "outputs": [
    {
     "name": "stdout",
     "output_type": "stream",
     "text": [
      "[1, 2, 3, 4, 5, 6, 7, 8, 9, 10, 11, 12, 13, 14, 15, 16, 17, 18, 19, 20, 21, 22, 23, 24, 25, 26, 27, 28, 29, 30, 31, 32, 33, 34, 35, 36, 37, 38, 39, 40, 41, 42, 43, 44, 45, 46, 47, 48, 49, 50, 51, 52, 53, 54, 55, 56, 57, 58, 59, 60, 61, 62, 63, 64, 65, 66, 67, 68, 69, 70, 71, 72, 73, 74, 75, 76, 77, 78, 79, 80, 81, 82, 83, 84, 85, 86, 87, 88, 89, 90, 91, 92, 93, 94, 95, 96, 97, 98, 99, 100]\n"
     ]
    }
   ],
   "source": [
    "L = []\n",
    "for i in range(1,101):\n",
    "    L.append(i)\n",
    "print(L)"
   ]
  },
  {
   "cell_type": "markdown",
   "id": "a8f3abee",
   "metadata": {},
   "source": [
    "<b><font color='white' style='background-color:orange'>2.2.c</font></b> <font color='white' style='text-shadow: -1px 0 black, 0 1px black, 1px 0 black, 0 -1px black;'>C</font> En partant d'une liste vide et en utilisant la méthode `append`, créez une liste contenant les entiers de `1` à `100` qui ne sont des multiples ni de `2`, ni de `3`, ni de `5`."
   ]
  },
  {
   "cell_type": "code",
   "execution_count": 89,
   "id": "7067bbce",
   "metadata": {},
   "outputs": [
    {
     "name": "stdout",
     "output_type": "stream",
     "text": [
      "[1, 7, 11, 13, 17, 19, 23, 29, 31, 37, 41, 43, 47, 49, 53, 59, 61, 67, 71, 73, 77, 79, 83, 89, 91, 97]\n"
     ]
    }
   ],
   "source": [
    "L = []\n",
    "for i in range(1,101):\n",
    "    if not(i % 2 == 0 or i % 3 == 0 or i % 5 == 0):\n",
    "        L.append(i)\n",
    "print(L)"
   ]
  },
  {
   "cell_type": "markdown",
   "id": "dbd235ec",
   "metadata": {},
   "source": [
    "<b><font color='white' style='background-color:green'>2.2.d</font></b> <font color='white' style='text-shadow: -1px 0 black, 0 1px black, 1px 0 black, 0 -1px black;'>C</font> Créez une fonction `crible_ératosthène` qui prend un entier `n` et rend la liste des nombres premiers plus petits ou égals à `n`, selon cette stratégie :\n",
    "- Initialisez une liste `L` vide ;\n",
    "- Bouclez une variable `i` de `2` jusqu'à `n`. Pour chaque `i` :\n",
    "    - Initialisez une variable `flag` à `True` ;\n",
    "    - Boucles une variable `j` sur tous les éléments de `L`. Pour chaque j :\n",
    "        - Si `i` est divisible par `j`, changez la valeur de `flag` à `False` ;\n",
    "    - Si la valeur de flag est `True`, rajoutez `i` à `L`\n",
    "- Rendez `L`\n",
    "\n",
    "Créez un jeu de test avec au moins trois `assert`"
   ]
  },
  {
   "cell_type": "code",
   "execution_count": 90,
   "id": "2c8300ab",
   "metadata": {},
   "outputs": [],
   "source": [
    "def crible_ératosthène(n):\n",
    "    L = []\n",
    "    for i in range(2,n+1):\n",
    "        flag = True\n",
    "        for j in L:\n",
    "            if i % j == 0:\n",
    "                flag = False\n",
    "        if flag:\n",
    "            L.append(i)\n",
    "    return L"
   ]
  },
  {
   "cell_type": "code",
   "execution_count": 91,
   "id": "076b3833",
   "metadata": {},
   "outputs": [],
   "source": [
    "assert crible_ératosthène(1) == []\n",
    "assert crible_ératosthène(10) == [2,3,5,7]\n",
    "assert crible_ératosthène(11) == [2,3,5,7,11]"
   ]
  },
  {
   "cell_type": "markdown",
   "id": "6439ca97",
   "metadata": {},
   "source": [
    "<b><font color='white' style='background-color:green'>2.2.e</font></b> Utilisez la fonction `crible_ératosthène` créée dans `2.2.d` pour avoir la liste des premiers 1000 nombres premiers. Ensuite, écrivez du code pour compter combien de ces nombres premiers terminent en `7`.\n",
    "Indice : si un entier termine en `7`, ça veut dire que sa division éuclidienne par `10` a un reste de `7`..."
   ]
  },
  {
   "cell_type": "code",
   "execution_count": 96,
   "id": "f6c344f7",
   "metadata": {},
   "outputs": [
    {
     "name": "stdout",
     "output_type": "stream",
     "text": [
      "46\n"
     ]
    }
   ],
   "source": [
    "L = crible_ératosthène(1000)\n",
    "c = 0\n",
    "for n in L:\n",
    "    if n%10 == 7:\n",
    "        c = c + 1\n",
    "print(c)"
   ]
  },
  {
   "cell_type": "markdown",
   "id": "036fb491",
   "metadata": {},
   "source": [
    "<b><font color='white' style='background-color:green'>2.2.f</font></b> <font color='white' style='text-shadow: -1px 0 black, 0 1px black, 1px 0 black, 0 -1px black;'>C</font> En vous inspirant de votre solution pour `2.2.e`, créez une fonction `effectifs_unités` qui prend une liste `entiers` d'entiers et rend une liste de taille `10` qui montre combien de ces entiers terminent avec `0`, avec `1`, et ainsi de suite jusqu'à `9`. Créez un jeu de tests approprié.\n",
    "Stratégie : pour première chose, créez une liste de taille 10 remplie de zéros (avec l'opération de répétition : c'est `10` fois la liste `[0]` !), et pour chaque nouvel entier lu depuis la liste en entrée incrémentez l'un des compteurs de une unité. <b><font color='white' style='background-color:blue'>2.2.f++</font></b> Vous avez droit à une seule boucle `for` !"
   ]
  },
  {
   "cell_type": "code",
   "execution_count": 97,
   "id": "13c06837",
   "metadata": {},
   "outputs": [],
   "source": [
    "def effectifs_unités(entiers):\n",
    "    L = [0]*10\n",
    "    for n in entiers:\n",
    "        L[n%10] = L[n%10] + 1\n",
    "    return L"
   ]
  },
  {
   "cell_type": "code",
   "execution_count": 98,
   "id": "b9d2ab9a",
   "metadata": {},
   "outputs": [],
   "source": [
    "assert effectifs_unités([0,0,0,0]) == [4,0,0,0,0,0,0,0,0,0]\n",
    "assert effectifs_unités([0,1,2,3,4,5,6,7,8,9]) == [1,1,1,1,1,1,1,1,1,1]"
   ]
  },
  {
   "cell_type": "markdown",
   "id": "d323b6d2",
   "metadata": {},
   "source": [
    "<b><font color='white' style='background-color:green'>2.2.g</font></b> En utilisant les fonctions que vous avez développées, affichez une statistiques des premiers 10000 nombres premiers qui compte combien de nombres terminent par `0`, par `1`, etc.\n",
    "Utilisez une seule ligne de code !\n",
    "\n",
    "Ensuite, commentez le résultat : pourquoi les valeurs `0` ? Pourquoi les `1` ?"
   ]
  },
  {
   "cell_type": "code",
   "execution_count": 99,
   "id": "5207b9aa",
   "metadata": {},
   "outputs": [
    {
     "name": "stdout",
     "output_type": "stream",
     "text": [
      "[0, 306, 1, 310, 0, 1, 0, 308, 0, 303]\n"
     ]
    }
   ],
   "source": [
    "print(effectifs_unités(crible_ératosthène(10000)))"
   ]
  },
  {
   "cell_type": "markdown",
   "id": "2cf93388",
   "metadata": {},
   "source": [
    "Les `0` sont les chiffres paires sauf le `2`. Les `1` sont le `2` et le `5` : un entier qui se termine par `2` est un multiple de `2`, pareil pour le `5`. Donc les seuls nombres premiers qui se terminent avec `2` ou `5` sont `2` et `5`. Sinon, les quatre chiffres restantes (`1`, `3`, `7`, `9`) ont presque les mêmes effectifs"
   ]
  },
  {
   "cell_type": "markdown",
   "id": "6369351b",
   "metadata": {},
   "source": [
    "<h3>3. Conversions et arrays numpy</h3><a class='anchor' id='conversions'></a>\n",
    "\n",
    "<b><font color='white' style='background-color:black'>Ex. 3.1</font> Conversions</b><a class='anchor' id='numpy'></a><br>\n",
    "En Python, certaines conversions entre types sont possibles :\n",
    "```python\n",
    "str(42)   # rend la chaîne \"42\"\n",
    "int(3.14) # rend l'entier 3\n",
    "list((1,3,5))  # rend la liste [1,3,5]\n",
    "bool([])  # rend le booléen False\n",
    "list(\"cool\")  # rend la liste [\"c\", \"o\", \"o\", \"l\"]\n",
    "```"
   ]
  },
  {
   "cell_type": "markdown",
   "id": "bdbea752",
   "metadata": {},
   "source": [
    "<b><font color='white' style='background-color:orange'>3.1.a</font></b> <font color='white' style='text-shadow: -1px 0 black, 0 1px black, 1px 0 black, 0 -1px black;'>C</font> Créez une fonction `dire_heure` qui prend deux entiers `h` et `m` et rend une chaîne de caractères `\"Il est XXX heures et YYY minutes\"` où `\"XXX\"` est la valeur de `h` et `\"YYY\"` la valeur de `m`. Utilisez une conversion.\n",
    "Attention ! Il ne faut pas _afficher_ cette chaîne (avec un `print`), il faut la _rendre_ (avec un `return`)!\n",
    "Créez un jeu de tests avec au moins 3 `assert`"
   ]
  },
  {
   "cell_type": "code",
   "execution_count": 102,
   "id": "3711c4fe",
   "metadata": {},
   "outputs": [],
   "source": [
    "def dire_heure(h, m):\n",
    "    return \"Il est \" + str(h) + \" heures et \" + str(m) + \" minutes\""
   ]
  },
  {
   "cell_type": "code",
   "execution_count": 103,
   "id": "3b3ac32b",
   "metadata": {},
   "outputs": [],
   "source": [
    "assert dire_heure(0, 0) == \"Il est 0 heures et 0 minutes\"\n",
    "assert dire_heure(25, -10) == \"Il est 25 heures et -10 minutes\"\n",
    "assert dire_heure(10, 10) == \"Il est 10 heures et 10 minutes\""
   ]
  },
  {
   "cell_type": "markdown",
   "id": "fcaf0ee8",
   "metadata": {},
   "source": [
    "<b><font color='white' style='background-color:orange'>3.1.b</font></b> La fonction créée en `3.1.a` est un peu trop simple : pour `dire_heure(0,0)`, ça rend `\"Il est 0 heures et 0 minutes\"`... Créez une nouvelle version de `dire_heure` qui prend les mêmes entiers `h` et `m` et rend une chaîne de caractères du même format qu'auparavant, mais quand `h` est égale à `0` elle rend `\"minuit\"` au lieu de `\"0 heures\"`. En plus, si `m` est égal à `0`, il ne faut pas rendre les minutes, et si `m` ou `h` sont égaux à `1`, il faut enlever le `s` à `\"heures\"` ou `\"minutes\"`.\n",
    "Testez avec un jeu de tests approprié"
   ]
  },
  {
   "cell_type": "code",
   "execution_count": 108,
   "id": "8a2c0908",
   "metadata": {},
   "outputs": [],
   "source": [
    "def dire_heure(h, m):\n",
    "    if h == 0:\n",
    "        hs = \"minuit\"\n",
    "    elif h == 1:\n",
    "        hs = \"1 heure\"\n",
    "    else :\n",
    "        hs = str(h) + \" heures\"\n",
    "    if m == 0:\n",
    "        return \"Il est \" + hs\n",
    "    elif m == 1:\n",
    "        ms = \"1 minute\"\n",
    "    else:\n",
    "        ms = str(m) + \" minutes\"\n",
    "    return \"Il est \" + hs + \" et \" + ms"
   ]
  },
  {
   "cell_type": "code",
   "execution_count": 109,
   "id": "6c9d29e0",
   "metadata": {},
   "outputs": [],
   "source": [
    "assert dire_heure(0, 0) == \"Il est minuit\"\n",
    "assert dire_heure(0, 1) == \"Il est minuit et 1 minute\"\n",
    "assert dire_heure(0, 2) == \"Il est minuit et 2 minutes\"\n",
    "assert dire_heure(1, 0) == \"Il est 1 heure\"\n",
    "assert dire_heure(10, 0) == \"Il est 10 heures\"\n",
    "assert dire_heure(1, 1) == \"Il est 1 heure et 1 minute\""
   ]
  },
  {
   "cell_type": "markdown",
   "id": "d928af99",
   "metadata": {},
   "source": [
    "<b><font color='white' style='background-color:green'>3.1.c</font></b> <font color='white' style='text-shadow: -1px 0 black, 0 1px black, 1px 0 black, 0 -1px black;'>C</font> Avec Python, on peut bien récupérer l'heure exacte : il faut juste utiliser la fonction `localtime` dans le module `time`. Cette fonction rend un objet avec plusieurs attributs, parmi lesquels deux : `tm_hour` (l'heure, `int`) et `tm_min` (les minutes, `int`).\n",
    "Utilisez cette fonction et la fonction `dire_heure` que vous avez créée en `3.1.b` pour dire l'heure exacte. Vous avez droit à 3 lignes de code !"
   ]
  },
  {
   "cell_type": "code",
   "execution_count": 113,
   "id": "7d851633",
   "metadata": {},
   "outputs": [
    {
     "data": {
      "text/plain": [
       "'Il est 18 heures et 2 minutes'"
      ]
     },
     "execution_count": 113,
     "metadata": {},
     "output_type": "execute_result"
    }
   ],
   "source": [
    "import time\n",
    "\n",
    "t = time.localtime()\n",
    "dire_heure(t.tm_hour, t.tm_min)"
   ]
  },
  {
   "cell_type": "markdown",
   "id": "a2df6bee",
   "metadata": {},
   "source": [
    "<b><font color='white' style='background-color:green'>3.1.d</font></b> <font color='white' style='text-shadow: -1px 0 black, 0 1px black, 1px 0 black, 0 -1px black;'>C</font> Ecrivez une fonction `modifie_uplet` qui prend un uplet `u`, un entier `i` et une donnée `a` et rend le même uplet mais avec la donnée `a` en position `i`. Dans la première boîte de code, ércivez-en une version qui utilise les conversions. Dans la deuxième boîte de code, une version qui ne les utilise pas et utilise les découpage à leur place. Dans la troisième, testez avec un jeu de tests approprié."
   ]
  },
  {
   "cell_type": "code",
   "execution_count": 115,
   "id": "97ce497c",
   "metadata": {},
   "outputs": [],
   "source": [
    "def modifie_uplet_1(u, i, a):\n",
    "    l = list(u)\n",
    "    l[i] = a\n",
    "    return tuple(l)"
   ]
  },
  {
   "cell_type": "code",
   "execution_count": 116,
   "id": "b25e3500",
   "metadata": {},
   "outputs": [],
   "source": [
    "def modifie_uplet_2(u, i, a):\n",
    "    res = u[:i] + (a,) + u[i+1:]\n",
    "    return res"
   ]
  },
  {
   "cell_type": "code",
   "execution_count": 117,
   "id": "ee72a370",
   "metadata": {},
   "outputs": [],
   "source": [
    "assert modifie_uplet_1((1, 2, 3), 1, 'a') == modifie_uplet_2((1, 2, 3), 1, 'a')\n",
    "assert modifie_uplet_1((1, 2, 3), 1, 'a') == (1, 'a', 3)"
   ]
  },
  {
   "cell_type": "markdown",
   "id": "9c8bdd70",
   "metadata": {},
   "source": [
    "<b><font color='white' style='background-color:black'>Ex. 3.2</font> Arrays de `numpy`</b><a class='anchor' id='numpy'></a><br>\n",
    "\n",
    "La bibliothèque `numpy` implémente un type de séquence très utile nommé `array`. Les arrays sont presque des uplets, mais avec beaucoup de méthodes qui rendent possible un traitement mathématique plus proche à celui des vecteurs. Notamment, l'opération `+` entre deux arrays de la même taille redevient la somme coordonnée par coordonnée, et l'opération `*` entre un array et un nombre redevient le produit de l'array coordonée par coordonnée par ce nombre.\n",
    "\n",
    "Normalement, la bibliothèque `numpy` est importée par entier avec\n",
    "```python\n",
    "import numpy as np\n",
    "```\n",
    "et ses classes et ses fonctions sont donc appelées avec la syntaxe à point\n",
    "```python\n",
    "np.Classe(...)\n",
    "np.fonction(...)\n",
    "```\n",
    "\n",
    "Notamment, les arrays peuvent être définis par des uplets:\n",
    "```python\n",
    "a = np.array((1,3,4,10,-12))\n",
    "````"
   ]
  },
  {
   "cell_type": "code",
   "execution_count": 18,
   "id": "c6b2aac2",
   "metadata": {},
   "outputs": [],
   "source": [
    "import numpy as np"
   ]
  },
  {
   "cell_type": "markdown",
   "id": "90c5cef8",
   "metadata": {},
   "source": [
    "<b><font color='white' style='background-color:green'>3.2.a</font></b> <font color='white' style='text-shadow: -1px 0 black, 0 1px black, 1px 0 black, 0 -1px black;'>C</font> Vous avez les trois arrays de suite, tous de taille 4, qui montrent combien de millions d'euros ont été donnés en financement pour la recherche à 4 pays de l'Union Euroéenne dans les années 2021, 2022 et 2023. Calculez-en la somme pays par pays. Ensuite, dans la deuxième boîte de code, calculez le pourcentage de financements reçus par chaque pays au cours des trois ans. Dans la troisième boîte refaites le calcul, cette fois en utilisant la méthode `sum`"
   ]
  },
  {
   "cell_type": "code",
   "execution_count": 19,
   "id": "774ceaf2",
   "metadata": {},
   "outputs": [],
   "source": [
    "# Ne pas modifier !\n",
    "an_2021 = np.array((7, 1.8, 5.6, 0.3))\n",
    "an_2022 = np.array((5.8, 1.1, 5.0, 0.9))\n",
    "an_2023 = np.array((10.1, 3.7, 2.6, 1.3))"
   ]
  },
  {
   "cell_type": "code",
   "execution_count": 120,
   "id": "51e49ca2",
   "metadata": {
    "scrolled": true
   },
   "outputs": [
    {
     "data": {
      "text/plain": [
       "array([22.9,  6.6, 13.2,  2.5])"
      ]
     },
     "execution_count": 120,
     "metadata": {},
     "output_type": "execute_result"
    }
   ],
   "source": [
    "somme = an_2021 + an_2022 + an_2023\n",
    "somme"
   ]
  },
  {
   "cell_type": "code",
   "execution_count": 59,
   "id": "b220387d",
   "metadata": {},
   "outputs": [
    {
     "data": {
      "text/plain": [
       "array([0.50663717, 0.1460177 , 0.2920354 , 0.05530973])"
      ]
     },
     "execution_count": 59,
     "metadata": {},
     "output_type": "execute_result"
    }
   ],
   "source": [
    "tot = 0\n",
    "for i in somme:\n",
    "    tot = tot + i\n",
    "somme/tot"
   ]
  },
  {
   "cell_type": "code",
   "execution_count": 62,
   "id": "4aba7876",
   "metadata": {},
   "outputs": [
    {
     "data": {
      "text/plain": [
       "array([0.50663717, 0.1460177 , 0.2920354 , 0.05530973])"
      ]
     },
     "execution_count": 62,
     "metadata": {},
     "output_type": "execute_result"
    }
   ],
   "source": [
    "somme/somme.sum()"
   ]
  },
  {
   "cell_type": "markdown",
   "id": "345af10b",
   "metadata": {},
   "source": [
    "<b><font color='white' style='background-color:green'>3.2.a-bis</font></b> Dans quelle année les quatre pays ont reçu plus de financements en total ? Affichez les sommes an par an et répondez."
   ]
  },
  {
   "cell_type": "code",
   "execution_count": 121,
   "id": "3d234c8a",
   "metadata": {},
   "outputs": [
    {
     "name": "stdout",
     "output_type": "stream",
     "text": [
      "14.700000000000001 12.8 17.700000000000003\n"
     ]
    }
   ],
   "source": [
    "print(an_2021.sum(), an_2022.sum(), an_2023.sum())"
   ]
  },
  {
   "cell_type": "markdown",
   "id": "92bcfc03",
   "metadata": {},
   "source": [
    "<h3>4. Séquences de séquences</h3><a class='anchor' id='seqseq'></a>\n",
    "\n",
    "Les listes et les uplets (mais pas les chaînes) peuvent contenir des séquences à leur tour :\n",
    "\n",
    "```python\n",
    "plur_x = (\"hiboux\", \"bijoux\", \"cailloux\", \"choux\", \"genoux\", \"joujoux\", \"poux\") # Uplet de chaînes de caractères de différentes tailles \n",
    "coord = [(10.3, 4.1), (-5.3, 4.0), (4.4, -10.9)]  # Liste de coordonnées en 2 dimensions\n",
    "```\n",
    "\n",
    "Pour accéder à un élément d'un élément de ces séquences, on peut cumuler la syntaxe à crochets :\n",
    "```python\n",
    "plur_x[2][3]  # rend \"l\"\n",
    "coord[0][0]   # rend 10.3\n",
    "```"
   ]
  },
  {
   "cell_type": "markdown",
   "id": "3ba7889a",
   "metadata": {},
   "source": [
    "<b><font color='white' style='background-color:black'>Ex. 4.1</font> Listes de chaînes</b><a class='anchor' id='listeschaînes'></a><br>\n",
    "\n",
    "<b><font color='white' style='background-color:green'>4.1.a</font></b> Vous avez ci-dessous une liste de séquences de protéines. Chaque caractère symbolise un acide aminé. Pour chaque chaîne, affichez le troisième acide aminé. Ensuite, affichez le cinquième acide aminé de la deuxième chaîne\n",
    "\n",
    "```python\n",
    "seqs = [\"AKJWNHDERTYAN\", \"PLOPRENSAATREIHEAHRKL\", \"AERNEALIPILMAFAII\", \"QLARTANIOIVCE\"]\n",
    "```"
   ]
  },
  {
   "cell_type": "code",
   "execution_count": 126,
   "id": "a42dd0bc",
   "metadata": {},
   "outputs": [
    {
     "name": "stdout",
     "output_type": "stream",
     "text": [
      "W\n",
      "P\n",
      "N\n",
      "R\n"
     ]
    }
   ],
   "source": [
    "seqs = [\"AKJWNHDERTYAN\", \"PLOPRENSAATREIHEAHRKL\", \"AERNEALIPILMAFAII\", \"QLARTANIOIVCE\"]\n",
    "for s in seqs:\n",
    "    print(s[3])"
   ]
  },
  {
   "cell_type": "code",
   "execution_count": 127,
   "id": "768e235d",
   "metadata": {},
   "outputs": [
    {
     "name": "stdout",
     "output_type": "stream",
     "text": [
      "R\n"
     ]
    }
   ],
   "source": [
    "print(seqs[1][4])"
   ]
  },
  {
   "cell_type": "markdown",
   "id": "05c71fe3",
   "metadata": {},
   "source": [
    "<b><font color='white' style='background-color:green'>4.1.b</font></b> <font color='white' style='text-shadow: -1px 0 black, 0 1px black, 1px 0 black, 0 -1px black;'>C</font> Vous avez ci-dessous une séquence de bases d'ARN. Trouvez tous les gènes et mettez-les dans une liste : un gène démarre toujours avec `\"AUG\"`, s'arrête toujours avec `\"UAG\"`, `\"UAA\"`, ou `\"UGA\"`."
   ]
  },
  {
   "cell_type": "code",
   "execution_count": 142,
   "id": "d1085aa7",
   "metadata": {},
   "outputs": [],
   "source": [
    "s = \"AUGAAAAAAAAUGAAUAAGCCGGACCGAGGAGAAAGACGCCGGUAGAUUAUGUGUUGA\""
   ]
  },
  {
   "cell_type": "code",
   "execution_count": 144,
   "id": "c7f9e9f4",
   "metadata": {},
   "outputs": [
    {
     "data": {
      "text/plain": [
       "['AUGAAAAAAAAUGA',\n",
       " 'AUGAAAAAAAAUGAAUAA',\n",
       " 'AUGAAAAAAAAUGAAUAAGCCGGACCGAGGAGAAAGACGCCGGUAG',\n",
       " 'AUGAAAAAAAAUGAAUAAGCCGGACCGAGGAGAAAGACGCCGGUAGAUUAUGUGUUGA',\n",
       " 'AUGAAUAA',\n",
       " 'AUGAAUAAGCCGGACCGAGGAGAAAGACGCCGGUAG',\n",
       " 'AUGAAUAAGCCGGACCGAGGAGAAAGACGCCGGUAGAUUAUGUGUUGA',\n",
       " 'AUGUGUUGA']"
      ]
     },
     "execution_count": 144,
     "metadata": {},
     "output_type": "execute_result"
    }
   ],
   "source": [
    "L = []\n",
    "for i in range(len(s)-2): \n",
    "    if s[i:i+3] == \"AUG\":\n",
    "        for j in range(i+3,len(s)-2):\n",
    "            if s[j:j+3] == \"UAG\" or s[j:j+3] == \"UAA\" or s[j:j+3] == \"UGA\":\n",
    "                L.append(s[i:j+3])\n",
    "L"
   ]
  },
  {
   "cell_type": "markdown",
   "id": "7d4a6bdd",
   "metadata": {},
   "source": [
    "<b><font color='white' style='background-color:black'>Ex. 4.2</font> Listes de listes</b><a class='anchor' id='listeslistes'></a><br>"
   ]
  },
  {
   "cell_type": "markdown",
   "id": "e87b724c",
   "metadata": {},
   "source": [
    "<b><font color='white' style='background-color:green'>4.2.a</font></b> La matrice identité est une matrice carée de dimension quelconque qui a des $1$ sur sa diagonale et des $0$ ailleurs. Par exemple, la matrice identité de dimension 4 est :\n",
    "$$\\begin{pmatrix}\n",
    "1 & 0 & 0 & 0\\\\\n",
    "0 & 1 & 0 & 0\\\\\n",
    "0 & 0 & 1 & 0\\\\\n",
    "0 & 0 & 0 & 1\\\\\n",
    "\\end{pmatrix}\n",
    "$$\n",
    "Créez une fonction `matrice_identite` qui prend l'entier strictement positif `n` comme paramètre et rend la matrice identité de dimension `n`. Créez un jeu de tests adéquat."
   ]
  },
  {
   "cell_type": "code",
   "execution_count": 23,
   "id": "778cb88f",
   "metadata": {},
   "outputs": [],
   "source": [
    "def matrice_identite(n):\n",
    "    M = []\n",
    "    for i in range(n):\n",
    "        line = [0]*n\n",
    "        line[i] = 1\n",
    "        M.append(line)\n",
    "    return M"
   ]
  },
  {
   "cell_type": "code",
   "execution_count": 22,
   "id": "26253c6c",
   "metadata": {},
   "outputs": [],
   "source": [
    "assert matrice_identite(1) == [[1]]\n",
    "assert matrice_identite(2) == [[1, 0], [0, 1]]\n",
    "assert matrice_identite(3) == [[1, 0, 0], [0, 1, 0], [0, 0, 1]]"
   ]
  }
 ],
 "metadata": {
  "kernelspec": {
   "display_name": "Python 3 (ipykernel)",
   "language": "python",
   "name": "python3"
  },
  "language_info": {
   "codemirror_mode": {
    "name": "ipython",
    "version": 3
   },
   "file_extension": ".py",
   "mimetype": "text/x-python",
   "name": "python",
   "nbconvert_exporter": "python",
   "pygments_lexer": "ipython3",
   "version": "3.10.9"
  }
 },
 "nbformat": 4,
 "nbformat_minor": 5
}
