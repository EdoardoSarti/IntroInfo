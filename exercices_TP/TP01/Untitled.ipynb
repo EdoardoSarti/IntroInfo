{
 "cells": [
  {
   "cell_type": "markdown",
   "id": "45e09bd5",
   "metadata": {},
   "source": [
    "# Partiel 2024-2025"
   ]
  },
  {
   "cell_type": "markdown",
   "id": "5d5aaa90",
   "metadata": {},
   "source": [
    "# Questions de cours : 6/20"
   ]
  },
  {
   "cell_type": "markdown",
   "id": "e6cbbf1e",
   "metadata": {},
   "source": [
    "<b><font color='white' style='background-color:orange'>1.</font></b> **1/40** Le langage d'assemblage est plus bas ou plus haut niveau que python ? Expliquez."
   ]
  },
  {
   "cell_type": "markdown",
   "id": "d909a1f8",
   "metadata": {},
   "source": [
    "<b><font color='white' style='background-color:orange'>2.</font></b> **1/40** Traduisez ces nombres binaires en nombres entiers. `00000000`correspond à `0`, `11111111` correspond à `255`.\n",
    "```\n",
    "00001010\n",
    "10000000\n",
    "00000011\n",
    "10000011\n",
    "```"
   ]
  },
  {
   "cell_type": "markdown",
   "id": "98a2e199",
   "metadata": {},
   "source": [
    "<b><font color='white' style='background-color:orange'>3.</font></b> **1/40** Ecrivez un exemple de donnée de type simple, un de type complexe, et un de type complexe contenant au moins une donnée de type symple et une de type complexe."
   ]
  },
  {
   "cell_type": "markdown",
   "id": "e0935819",
   "metadata": {},
   "source": [
    "<b><font color='white' style='background-color:green'>4.</font></b> **2/40** Ecrivez le résultat de ces opérations. Si l'opération est impossible, écrivez \"erreur\".\n",
    "```\n",
    "3 + '10'\n",
    "'20' + '1'\n",
    "4 * 4\n",
    "'10' * 4\n",
    "'20' * '4'\n",
    "10 + 8\n",
    "(2, 4, 6) + (0, 1, 2)\n",
    "('a', 'b') + 'c'\n",
    "```"
   ]
  },
  {
   "cell_type": "markdown",
   "id": "cce247a8",
   "metadata": {},
   "source": [
    "<b><font color='white' style='background-color:blue'>5.</font></b> **1/40** Quel type de donnée est retournée par cette fonction ?\n",
    "```\n",
    "from random import randint\n",
    "\n",
    "def fonction_mystère():\n",
    "    a = randint(1,10)\n",
    "    b = randint(0,1) / randint(1,10)\n",
    "    return a/b, b\n",
    "```"
   ]
  },
  {
   "cell_type": "markdown",
   "id": "e9c3cf22",
   "metadata": {},
   "source": [
    "# Erreurs : 2/20"
   ]
  },
  {
   "cell_type": "markdown",
   "id": "437746b8",
   "metadata": {},
   "source": [
    "<b><font color='white' style='background-color:orange'>6.</font></b> **1/20** Trouvez au moins un jeu de données pour lesquels l'appel de cette fonction produira une erreur d'exécution\n",
    "\n",
    "```\n",
    "def trouve_dernier_caractère(x):\n",
    "    if type(x) == str:\n",
    "        return x[-1]\n",
    "    else:\n",
    "        print(\"Cette fonction prend en entrée une chaîne de caractères\")\n",
    "```"
   ]
  },
  {
   "cell_type": "markdown",
   "id": "e390d13c",
   "metadata": {},
   "source": [
    "<b><font color='white' style='background-color:green'>7.</font></b> **1/20** Ce code contient une erreur de syntaxe et une d'exécution : trouvez-les.\n",
    "```\n",
    "def deux_opérations(a, b):\n",
    "    if a%2 = a%2:\n",
    "        return a/b, a-b\n",
    "    else:\n",
    "        return a*b, a+b\n",
    "    \n",
    "deux_opérations(deux_opérations(4, 4))\n",
    "```"
   ]
  },
  {
   "cell_type": "markdown",
   "id": "7ecf9363",
   "metadata": {},
   "source": [
    "# TP01-TP02 : 6/20"
   ]
  },
  {
   "cell_type": "markdown",
   "id": "6a94f944",
   "metadata": {},
   "source": [
    "<b><font color='white' style='background-color:orange'>8.</font></b> **1/20** Attribuez la valeur `100` à la variable `a`, et la valeur `7` à la variable b. Ensuite, écrivez la commande qui calcule la division entière de `a` par `b`."
   ]
  },
  {
   "cell_type": "code",
   "execution_count": null,
   "id": "02635149",
   "metadata": {},
   "outputs": [],
   "source": [
    "a = 100"
   ]
  },
  {
   "cell_type": "code",
   "execution_count": null,
   "id": "66128bce",
   "metadata": {},
   "outputs": [],
   "source": [
    "b = 7"
   ]
  },
  {
   "cell_type": "code",
   "execution_count": null,
   "id": "c07f6c5c",
   "metadata": {},
   "outputs": [],
   "source": [
    "a//b"
   ]
  },
  {
   "cell_type": "markdown",
   "id": "ac5d3dde",
   "metadata": {},
   "source": [
    "<b><font color='white' style='background-color:orange'>9.</font></b> **1/20** Qu'affiche ce code?<br>\n",
    "```python\n",
    "prénom = \"Inigo\"\n",
    "nom = \"Montoya\"\n",
    "print(\"Bonjour\", \"Je m'appelle\", prénom, nom, end=\".\", sep=\"/\")\n",
    "```"
   ]
  },
  {
   "cell_type": "markdown",
   "id": "de6c88f7",
   "metadata": {},
   "source": [
    "<b><font color='white' style='background-color:green'>11.</font></b> **2/20** Ecrivez une fonction `swap` qui prend en entrée deux paramètre de type quelconque, et rend les mêmes deux valeurs changées de place (le premier en seco "
   ]
  },
  {
   "cell_type": "code",
   "execution_count": null,
   "id": "f5a25d53",
   "metadata": {},
   "outputs": [],
   "source": [
    "tamias_1 = 'Tic'\n",
    "tamias_2 = 'Tac'\n",
    "\n",
    "tmp = tamias_2\n",
    "tamias_2 = tamias_1\n",
    "tamias_1 = tmp"
   ]
  },
  {
   "cell_type": "code",
   "execution_count": null,
   "id": "7a36bb49",
   "metadata": {},
   "outputs": [],
   "source": [
    "tamias_1"
   ]
  },
  {
   "cell_type": "code",
   "execution_count": null,
   "id": "28e4f0c8",
   "metadata": {},
   "outputs": [],
   "source": [
    "tamias_2"
   ]
  },
  {
   "cell_type": "code",
   "execution_count": null,
   "id": "986224ab",
   "metadata": {},
   "outputs": [],
   "source": []
  },
  {
   "cell_type": "markdown",
   "id": "d4f00f7c",
   "metadata": {},
   "source": [
    "# TP03-TP04 : 7/20"
   ]
  },
  {
   "cell_type": "code",
   "execution_count": null,
   "id": "918099c9",
   "metadata": {},
   "outputs": [],
   "source": []
  }
 ],
 "metadata": {
  "kernelspec": {
   "display_name": "Python 3 (ipykernel)",
   "language": "python",
   "name": "python3"
  },
  "language_info": {
   "codemirror_mode": {
    "name": "ipython",
    "version": 3
   },
   "file_extension": ".py",
   "mimetype": "text/x-python",
   "name": "python",
   "nbconvert_exporter": "python",
   "pygments_lexer": "ipython3",
   "version": "3.10.9"
  }
 },
 "nbformat": 4,
 "nbformat_minor": 5
}
