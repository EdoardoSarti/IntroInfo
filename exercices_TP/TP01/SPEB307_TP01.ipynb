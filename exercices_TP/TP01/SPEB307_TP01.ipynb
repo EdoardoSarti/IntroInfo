{
 "cells": [
  {
   "cell_type": "markdown",
   "id": "437a11d0",
   "metadata": {},
   "source": [
    "<h1><center>SPEB307 — Introduction à l'Informatique — TP 01</center><br>\n",
    "<center>Expressions, Instructions, Fonctions</center></h1>"
   ]
  },
  {
   "cell_type": "markdown",
   "id": "c3a9453e",
   "metadata": {},
   "source": [
    "<h3>Auto-évaluation</h3>\n",
    "\n",
    "<div> Les exercices se divisent en trois niveaux d'auto-évaluation:\n",
    "<ul>\n",
    "    <li><h3><font color='white' style='background-color:orange'>Fondamentaux</font></h3> Pour réviser les notions apprises en cours. Il faut savoir les résoudre pour avoir la moyenne.</li>\n",
    "    <li><h3><font color='white' style='background-color:green'>Intermédiaires</font></h3> Pour vous aider à raisonner et rentrer au coeur des sujets. Si vous savez tous les résoudre, vous aurez un bon niveau de préparation !</li>\n",
    "    <li><h3><font color='white' style='background-color:blue'>Avancés</font></h3> Défis pour vous entraîner à l'examen final... et aller plus loin !</li>\n",
    "</ul>\n",
    "</div>\n",
    "\n",
    "Les exercices avec un <font color='white' style='text-shadow: -1px 0 black, 0 1px black, 1px 0 black, 0 -1px black;'>C</font> sont corrigés : vous trouverez un notebook avec la correction de ces exercices dans le même dossier où vous avez trouvé celui-ci."
   ]
  },
  {
   "cell_type": "markdown",
   "id": "c1b5b9b0",
   "metadata": {},
   "source": [
    "### <font color='black'>Table des matières<font><a class='anchor' id='top'></a>\n",
    "1. [Expressions avec les nombres entiers](#entiers) **30'**<br>\n",
    "    1.1 [La calculette Python](#calculette)<br>\n",
    "    1.2 [Division éuclidienne : quotient et reste](#division)<br>\n",
    "2. [Variables](#variables)<br>\n",
    "    2.1 [Affectation](#affectation) **30'**<br>\n",
    "    2.2 [Affichage avec `print`](#affichage)<br>\n",
    "    2.3 [Types](#types)<br>\n",
    "3. [Fonctions](#fonctions) **30'**<br>\n",
    "    3.1 [Utiliser les fonctions prédéfinies](#prédéfinies)<br>\n",
    "    3.2 [Importer des fonctions](#importer)<br>\n",
    "    3.3 [Définir et utiliser ses propres fonctions](#définir)<br>\n",
    "    3.4 [Compléments sur les fonctions](#compléments)<br>\n",
    "4. [Tests](#tests) **30'**<br>\n",
    "    4.1 [Comparaisons](#comparaisons)<br>\n",
    "    4.2 [Flottants et précision](#flottants)<br>"
   ]
  },
  {
   "cell_type": "markdown",
   "id": "45201be3",
   "metadata": {},
   "source": [
    "<h3>1. Expressions avec les nombres entiers</h3><a class='anchor' id='entiers'></a>"
   ]
  },
  {
   "cell_type": "markdown",
   "id": "e22835c2",
   "metadata": {},
   "source": [
    "<b><font color='white' style='background-color:black'>Ex. 1.1</font> La calculette Python</b><a class='anchor' id='calculette'></a><br>\n",
    "On peut utiliser Python comme une calculette normale.<br> "
   ]
  },
  {
   "cell_type": "markdown",
   "id": "fff02b99",
   "metadata": {},
   "source": [
    "<b><font color='white' style='background-color:gray'>Exemple</font></b> Exécutez ces expressions et contrôlez le résultat"
   ]
  },
  {
   "cell_type": "code",
   "execution_count": 1,
   "id": "e38749ca",
   "metadata": {},
   "outputs": [
    {
     "data": {
      "text/plain": [
       "27"
      ]
     },
     "execution_count": 1,
     "metadata": {},
     "output_type": "execute_result"
    }
   ],
   "source": [
    "19 + 8     # addition"
   ]
  },
  {
   "cell_type": "code",
   "execution_count": 2,
   "id": "15bd33f0",
   "metadata": {},
   "outputs": [
    {
     "data": {
      "text/plain": [
       "66"
      ]
     },
     "execution_count": 2,
     "metadata": {},
     "output_type": "execute_result"
    }
   ],
   "source": [
    "77 - 11    # soustraction"
   ]
  },
  {
   "cell_type": "code",
   "execution_count": 3,
   "id": "fc96631a",
   "metadata": {},
   "outputs": [
    {
     "data": {
      "text/plain": [
       "12"
      ]
     },
     "execution_count": 3,
     "metadata": {},
     "output_type": "execute_result"
    }
   ],
   "source": [
    "6 * 2      # multiplication"
   ]
  },
  {
   "cell_type": "code",
   "execution_count": 4,
   "id": "5b18ca93",
   "metadata": {},
   "outputs": [
    {
     "data": {
      "text/plain": [
       "34.0"
      ]
     },
     "execution_count": 4,
     "metadata": {},
     "output_type": "execute_result"
    }
   ],
   "source": [
    "102 / 3    # division"
   ]
  },
  {
   "cell_type": "markdown",
   "id": "7c463fb2",
   "metadata": {},
   "source": [
    "<b><font color='white' style='background-color:orange'>1.1.a</font> <font color='white' style='text-shadow: -1px 0 black, 0 1px black, 1px 0 black, 0 -1px black;'>C</font></b> Essayons: si Marc a 1634 pommes et Pierre a 9830 pommes, combien de pommes auront Marc et Pierre au total ? Dans la cellule de code ci-dessous, écrivez la bonne opération à faire, et obtenez le résultat"
   ]
  },
  {
   "cell_type": "code",
   "execution_count": null,
   "id": "dea6870c",
   "metadata": {},
   "outputs": [],
   "source": []
  },
  {
   "cell_type": "markdown",
   "id": "a7df8787",
   "metadata": {},
   "source": [
    "<b><font color='white' style='background-color:orange'>1.1.b</font></b> Calculez le nombre de secondes dans une journée"
   ]
  },
  {
   "cell_type": "code",
   "execution_count": null,
   "id": "0911e635",
   "metadata": {},
   "outputs": [],
   "source": []
  },
  {
   "cell_type": "markdown",
   "id": "79771879",
   "metadata": {},
   "source": [
    "<b><font color='white' style='background-color:orange'>1.1.d</font> <font color='white' style='text-shadow: -1px 0 black, 0 1px black, 1px 0 black, 0 -1px black;'>C</font></b> Transcrivez l'expression dans la boîte de code ci-dessous et calculez-en le résultat:"
   ]
  },
  {
   "cell_type": "markdown",
   "id": "069d1fac",
   "metadata": {},
   "source": [
    "$$ \\left[(2^7 - 15) \\times 5 + 2^{(3+4)^2}\\right] + \\left(2 - (5 \\times 10)\\right)$$"
   ]
  },
  {
   "cell_type": "code",
   "execution_count": null,
   "id": "ca124fec",
   "metadata": {},
   "outputs": [],
   "source": []
  },
  {
   "cell_type": "markdown",
   "id": "5877cd4e",
   "metadata": {},
   "source": [
    "<b><font color='white' style='background-color:green'>1.1.e</font> <font color='white' style='text-shadow: -1px 0 black, 0 1px black, 1px 0 black, 0 -1px black;'>C</font></b> Dans l'expression de l'exercice `1.1.d`, quelles sont les parenthèses qui peuvent être omises sans changer le résultat de l'expression ? Ecrivez à nouveau l'expression de `1.1.d` dans la cellule ci-dessous, enlevez toutes les parenthèses rédondantes et assurez-vous que le résultat ne soit pas changé!"
   ]
  },
  {
   "cell_type": "code",
   "execution_count": null,
   "id": "fb8457bd",
   "metadata": {},
   "outputs": [],
   "source": []
  },
  {
   "cell_type": "markdown",
   "id": "33197b1b",
   "metadata": {},
   "source": [
    "<b><font color='white' style='background-color:blue'>1.1.f</font> <font color='white' style='text-shadow: -1px 0 black, 0 1px black, 1px 0 black, 0 -1px black;'>C</font></b> Il est difficile de s'assurer si le résultat de `1.1.d` est correct: on devrait faire les calculs à la main, mais ça a l'air pénible. On peut néanmoins vérifier au moins la *parité* du résultat attendu: en regardant l'expression `1.1.d`, arrivez-vous à prédire si le résultat devra être pair ou impair ? Décrivez votre raisonnement dans la boîte de texte ci-dessous."
   ]
  },
  {
   "cell_type": "markdown",
   "id": "af4bf242",
   "metadata": {},
   "source": [
    "**Ici votre réponse**"
   ]
  },
  {
   "cell_type": "markdown",
   "id": "c340b54c",
   "metadata": {},
   "source": [
    "<p><img style=\"float:right; margin:20px; padding:20px; max-width:400px\" src=\"Division_euclidienne.jpeg\"></p>\n",
    "<p style=\"text-align:justify;\"><a class='anchor' id='division'></a>\n",
    "<br><br>\n",
    "<b><font color='white' style='background-color:black'>Ex. 1.2</font> Division éuclidienne: quotient et reste</b>\n",
    "<br> En général, la division décimale rend un résultat à virgule. Il y a des contextes où l'on est plutôt intéressé à avoir un résultat en termes de quotient et reste entiers : s'il faut dire combien font 2 heures divisées par 3, personne ne dirait $0.\\overline{6}$ heures, mais bien 40 minutes ! Si $a$ et $b$ sont des entiers et $b \\neq 0$, on peut utiliser la division éuclidienne comme vu en cours.<br>\n",
    "</p>"
   ]
  },
  {
   "cell_type": "markdown",
   "id": "2fc6a8bf",
   "metadata": {},
   "source": [
    "<b><font color='white' style='background-color:orange'>1.2.a</font></b> <font color='white' style='text-shadow: -1px 0 black, 0 1px black, 1px 0 black, 0 -1px black;'>C</font> Essayons: Marc, Pierre et Louise veulent se répartir équitablement un plateau avec 14 gâteaux. Combien de gâteaux aura chacun ? Combien de gâteaux resteront-ils sur le plateau ? Ecrivez les deux opérations à faire dans les deux cellules de code ci-dessous."
   ]
  },
  {
   "cell_type": "code",
   "execution_count": null,
   "id": "17e8fc25",
   "metadata": {},
   "outputs": [],
   "source": []
  },
  {
   "cell_type": "code",
   "execution_count": null,
   "id": "9fdf8530",
   "metadata": {},
   "outputs": [],
   "source": []
  },
  {
   "cell_type": "markdown",
   "id": "65a30d2f",
   "metadata": {},
   "source": [
    "<b><font color='white' style='background-color:orange'>1.2.b</font></b> <font color='white' style='text-shadow: -1px 0 black, 0 1px black, 1px 0 black, 0 -1px black;'>C</font> Il est toujours important de contrôler ses résultats. Faisons donc le calcul à l'envers: Marc, Pierre et Louise mangent 4 gâteaux chacun, et en laissent 2 sur le plateau. Combien de gâteaux y avait-il sur le plateau?"
   ]
  },
  {
   "cell_type": "code",
   "execution_count": null,
   "id": "560b8d6e",
   "metadata": {},
   "outputs": [],
   "source": []
  },
  {
   "cell_type": "markdown",
   "id": "2e63deea",
   "metadata": {},
   "source": [
    "<p><img style=\"float:right; margin:20px; padding:20px; max-width:200px\" src=\"Plaque_96_puits.jpeg\"></p>\n",
    "<p style=\"text-align:justify;\">\n",
    "<br><br><br><b><font color='white' style='background-color:orange'>1.2.c</font></b> Pour effectuer mon titrage, j'ai besoin de remplir 300 puits avec de la solution. Chaque plaque a 96 puits: combien de plaques vais-je remplir complètement? Combien de puits restent-ils à remplir? Ecrivez les deux opérations à faire dans les deux cellules de code ci-dessous.\n",
    "</p>"
   ]
  },
  {
   "cell_type": "code",
   "execution_count": null,
   "id": "aafabb01",
   "metadata": {},
   "outputs": [],
   "source": []
  },
  {
   "cell_type": "code",
   "execution_count": null,
   "id": "74d9aa1e",
   "metadata": {},
   "outputs": [],
   "source": []
  },
  {
   "cell_type": "markdown",
   "id": "4ef4f636",
   "metadata": {},
   "source": [
    "<b><font color='white' style='background-color:orange'>1.2.d</font></b> Etes-vous sûrs d'avoir bien fait les calculs de l'exercice `1.2.c`? Contrôlez en faisant le calcul inverse, tout comme dans l'exercice `1.2.b`"
   ]
  },
  {
   "cell_type": "code",
   "execution_count": null,
   "id": "7241d030",
   "metadata": {},
   "outputs": [],
   "source": []
  },
  {
   "cell_type": "markdown",
   "id": "b146ca5c",
   "metadata": {},
   "source": [
    "<b><font color='white' style='background-color:green'>1.2.e</font></b> <font color='white' style='text-shadow: -1px 0 black, 0 1px black, 1px 0 black, 0 -1px black;'>C</font> Revenons sur cet exercice, cette fois en posant des questions plus utiles d'un point de vue scientifique. Pour effectuer mon titrage, j'ai besoin de remplir 455 puits avec de la solution. Chaque plaque a 96 puits et coûte 4 euros: quel sera le montant dépensé pour acheter les plaques? Combien y aura-t-il de puits vides? Ecrivez les deux opérations à faire dans les deux cellules de code ci-dessous."
   ]
  },
  {
   "cell_type": "code",
   "execution_count": null,
   "id": "05d03dc6",
   "metadata": {},
   "outputs": [],
   "source": []
  },
  {
   "cell_type": "code",
   "execution_count": null,
   "id": "0575a48e",
   "metadata": {},
   "outputs": [],
   "source": []
  },
  {
   "cell_type": "markdown",
   "id": "8a155e07",
   "metadata": {},
   "source": [
    "<b><font color='white' style='background-color:orange'>1.2.f</font></b> L'opération modulo peut donc être utilisée pour savoir si un entier est un multiple d'un autre entier: en effet, si `a` est un multiple de `b`, l'opération `a%b` donnera `0` comme résultat. Vérifiez si `1234321` est un multiple de `11`."
   ]
  },
  {
   "cell_type": "code",
   "execution_count": null,
   "id": "6ff68a37",
   "metadata": {},
   "outputs": [],
   "source": []
  },
  {
   "cell_type": "markdown",
   "id": "b2331c65",
   "metadata": {},
   "source": [
    "<b><font color='white' style='background-color:green'>1.2.g</font></b> Si un nombre $n$ est impair, quel sera le résultat de $n\\%2$? Ecrivez votre réponse dans la cellule de texte ci-dessous et expliquez."
   ]
  },
  {
   "cell_type": "markdown",
   "id": "478db459",
   "metadata": {},
   "source": [
    "**Ici votre réponse**"
   ]
  },
  {
   "cell_type": "markdown",
   "id": "4cb4198f",
   "metadata": {},
   "source": [
    "<b><font color='white' style='background-color:green'>1.2.h</font></b> <font color='white' style='text-shadow: -1px 0 black, 0 1px black, 1px 0 black, 0 -1px black;'>C</font> Copiez-collez l'expression que vous avez écrite en `1.1.d` et contrôlez si son résultat est pair ou impair, c'est à dire, s'il est un multiple de 2 ou pas. Rappelez-vous de l'ordre des opérations!"
   ]
  },
  {
   "cell_type": "code",
   "execution_count": null,
   "id": "b758f10c",
   "metadata": {},
   "outputs": [],
   "source": []
  },
  {
   "cell_type": "markdown",
   "id": "415bc292",
   "metadata": {},
   "source": [
    "<h3>2. Variables</h3><a class='anchor' id='variables'></a>"
   ]
  },
  {
   "cell_type": "markdown",
   "id": "5fc0ee7a",
   "metadata": {},
   "source": [
    "<p><img style=\"float:right; margin:20px; padding:20px; max-width:300px\" src=\"Variable.jpeg\"></p>\n",
    "<p><br><br>\n",
    "<b><font color='white' style='background-color:black'>Ex. 2.1</font> Affectation</b><a class='anchor' id='affectation'></a><br> Une variable est un espace de mémoire qui contient une valeur. La variable peut changer de valeur au cours d'un script.<br>\n",
    "</p>"
   ]
  },
  {
   "cell_type": "markdown",
   "id": "0cae565c",
   "metadata": {},
   "source": [
    "<b><font color='white' style='background-color:gray'>Exemple</font></b><br>\n",
    "```python\n",
    "a = 7          # Initialise la variable a et attribue la valeur 7\n",
    "\n",
    "a = 'Barbie'   # La variable a est déjà initialisée, et contient la valeur 7. \n",
    "               # Ici, on remplace la valeur 7 avec la valeur 'Barbie'\n",
    "```"
   ]
  },
  {
   "cell_type": "markdown",
   "id": "b7930b02",
   "metadata": {},
   "source": [
    "<b><font color='white' style='background-color:orange'>2.1.a</font></b> <font color='white' style='text-shadow: -1px 0 black, 0 1px black, 1px 0 black, 0 -1px black;'>C</font> Dans la première cellule de code, attribuez la valeur `3` à la variable `nombre`. Dans la deuxième, attribuez la valeur `'Allez les Bleus !'` à la même variable. Enfin, affichez la valeur de la variable en ne saisissant que son nom dans la troisième cellule."
   ]
  },
  {
   "cell_type": "code",
   "execution_count": null,
   "id": "a5c82479",
   "metadata": {},
   "outputs": [],
   "source": []
  },
  {
   "cell_type": "code",
   "execution_count": null,
   "id": "45bb691c",
   "metadata": {},
   "outputs": [],
   "source": []
  },
  {
   "cell_type": "code",
   "execution_count": null,
   "id": "3d13184c",
   "metadata": {},
   "outputs": [],
   "source": []
  },
  {
   "cell_type": "markdown",
   "id": "1b490841",
   "metadata": {},
   "source": [
    "<b><font color='white' style='background-color:orange'>2.1.b</font></b> Dans l'exercice `2.1.a`, quelles cellules contiennent des instructions? Quelles cellules contiennent des expressions? Expliquez."
   ]
  },
  {
   "cell_type": "markdown",
   "id": "4a20c8bd",
   "metadata": {},
   "source": [
    "**Ici votre réponse**"
   ]
  },
  {
   "cell_type": "markdown",
   "id": "6a94f944",
   "metadata": {},
   "source": [
    "<b><font color='white' style='background-color:orange'>2.1.c</font></b> Attribuez la valeur `10` à la variable `a`, et la valeur `7` à la variable b. Ensuite, calculez a - b"
   ]
  },
  {
   "cell_type": "code",
   "execution_count": null,
   "id": "02635149",
   "metadata": {},
   "outputs": [],
   "source": []
  },
  {
   "cell_type": "code",
   "execution_count": null,
   "id": "66128bce",
   "metadata": {},
   "outputs": [],
   "source": []
  },
  {
   "cell_type": "code",
   "execution_count": null,
   "id": "c07f6c5c",
   "metadata": {},
   "outputs": [],
   "source": []
  },
  {
   "cell_type": "markdown",
   "id": "c4415fff",
   "metadata": {},
   "source": [
    "<b><font color='white' style='background-color:orange'>2.1.d</font></b> <font color='white' style='text-shadow: -1px 0 black, 0 1px black, 1px 0 black, 0 -1px black;'>C</font> Attribuez la valeur `100` à la variable `mes_points` et la valeur `500 - mes_points` à la valeur `tes_points`. Affichez la valeur de `tes_points`."
   ]
  },
  {
   "cell_type": "code",
   "execution_count": null,
   "id": "6f4b2a30",
   "metadata": {},
   "outputs": [],
   "source": []
  },
  {
   "cell_type": "code",
   "execution_count": null,
   "id": "7745459e",
   "metadata": {},
   "outputs": [],
   "source": []
  },
  {
   "cell_type": "code",
   "execution_count": null,
   "id": "73e2bd5f",
   "metadata": {},
   "outputs": [],
   "source": []
  },
  {
   "cell_type": "markdown",
   "id": "02e57d0b",
   "metadata": {},
   "source": [
    "<b><font color='white' style='background-color:orange'>2.1.e</font></b> Attribuez la valeur `100` à la variable `Batman`. Dans la deuxième cellule, cherchez à afficher la valeur de la variable Robin. Que se passe-t-il? Expliquez"
   ]
  },
  {
   "cell_type": "code",
   "execution_count": null,
   "id": "a1b870ec",
   "metadata": {},
   "outputs": [],
   "source": []
  },
  {
   "cell_type": "code",
   "execution_count": null,
   "id": "6e5380d8",
   "metadata": {},
   "outputs": [],
   "source": []
  },
  {
   "cell_type": "markdown",
   "id": "a1bd8d29",
   "metadata": {},
   "source": [
    "**Ici votre réponse**"
   ]
  },
  {
   "cell_type": "markdown",
   "id": "56f84acf",
   "metadata": {},
   "source": [
    "<b><font color='white' style='background-color:green'>2.1.e</font></b> <font color='white' style='text-shadow: -1px 0 black, 0 1px black, 1px 0 black, 0 -1px black;'>C</font> Dans une seule cellule de code, attribuez `10` à `a`, `3` à `b` et `50` à `c`, et calculez $$a^b - c*b + a$$ Ensuite, dans la deuxième cellule, ajoutez `1` à la valeur de `b` et calculez à nouveau l'expression."
   ]
  },
  {
   "cell_type": "code",
   "execution_count": null,
   "id": "5457b2b7",
   "metadata": {},
   "outputs": [],
   "source": []
  },
  {
   "cell_type": "code",
   "execution_count": null,
   "id": "5749aae7",
   "metadata": {},
   "outputs": [],
   "source": []
  },
  {
   "cell_type": "markdown",
   "id": "de6c88f7",
   "metadata": {},
   "source": [
    "<b><font color='white' style='background-color:green'>2.1.f</font></b> Attribuez la valeur `'Tic'` à la variable `tamias_1` et la valeur `'Tac'` à la variable `tamias_2`. Ensuite, écrivez les instructions nécessaires pour échanger les  valeurs des deux variables. Utilisez les deux autres cellules pour afficher le contenu de `tamias_1` et `tamias_2`"
   ]
  },
  {
   "cell_type": "code",
   "execution_count": null,
   "id": "f5a25d53",
   "metadata": {},
   "outputs": [],
   "source": []
  },
  {
   "cell_type": "code",
   "execution_count": null,
   "id": "7a36bb49",
   "metadata": {},
   "outputs": [],
   "source": []
  },
  {
   "cell_type": "code",
   "execution_count": null,
   "id": "28e4f0c8",
   "metadata": {},
   "outputs": [],
   "source": []
  },
  {
   "cell_type": "markdown",
   "id": "d838ea33",
   "metadata": {},
   "source": [
    "<b><font color='white' style='background-color:green'>2.1.g</font></b> <font color='white' style='text-shadow: -1px 0 black, 0 1px black, 1px 0 black, 0 -1px black;'>C</font> Attribuez les valeurs aux variables comme dans le tableau:\n",
    "\n",
    "| Variable |   Valeur |\n",
    "| -------- | -------- |\n",
    "| canard_1 |   'Riri' |\n",
    "| canard_2 |   'Fifi' |\n",
    "| canard_3 | 'Loulou' |\n",
    "\n",
    "Et écrivez les instructions nécessaires pour obtenir les associations suivantes:\n",
    "\n",
    "| Variable |   Valeur |\n",
    "| -------- | -------- |\n",
    "| canard_1 | 'Loulou' |\n",
    "| canard_2 |   'Riri' |\n",
    "| canard_3 |   'Fifi' |\n",
    "\n",
    "Affichez vos résultats dans les trois cellules qui suivent."
   ]
  },
  {
   "cell_type": "code",
   "execution_count": null,
   "id": "cb9f4524",
   "metadata": {},
   "outputs": [],
   "source": []
  },
  {
   "cell_type": "code",
   "execution_count": null,
   "id": "10009175",
   "metadata": {},
   "outputs": [],
   "source": []
  },
  {
   "cell_type": "code",
   "execution_count": null,
   "id": "80a2b22b",
   "metadata": {},
   "outputs": [],
   "source": []
  },
  {
   "cell_type": "code",
   "execution_count": null,
   "id": "6320186c",
   "metadata": {},
   "outputs": [],
   "source": []
  },
  {
   "cell_type": "markdown",
   "id": "c468e695",
   "metadata": {},
   "source": [
    "<b><font color='white' style='background-color:black'>Ex. 2.2</font> Affichage avec `print`</b><a class='anchor' id='affichage'></a><br> La fonction `print` permet d'afficher toute valeur à n'importe quel point du code.<br>\n",
    "<b><font color='white' style='background-color:orange'>2.2.a</font></b> Dans les deux cellules suivantes, affichez les valeurs `'13'` et `'Madagascar'` à l'aide de la fonction `print`"
   ]
  },
  {
   "cell_type": "code",
   "execution_count": null,
   "id": "6a4a8ab4",
   "metadata": {},
   "outputs": [],
   "source": []
  },
  {
   "cell_type": "code",
   "execution_count": null,
   "id": "e2cf4d9c",
   "metadata": {},
   "outputs": [],
   "source": []
  },
  {
   "cell_type": "markdown",
   "id": "18e9ea6f",
   "metadata": {},
   "source": [
    "<b><font color='white' style='background-color:orange'>2.2.b</font></b> <font color='white' style='text-shadow: -1px 0 black, 0 1px black, 1px 0 black, 0 -1px black;'>C</font> Maintenant affichez les valeurs `'13'` et `'Madagascar'` de suite dans une seule ligne."
   ]
  },
  {
   "cell_type": "code",
   "execution_count": null,
   "id": "e3b28f99",
   "metadata": {},
   "outputs": [],
   "source": []
  },
  {
   "cell_type": "markdown",
   "id": "233eb275",
   "metadata": {},
   "source": [
    "<b><font color='white' style='background-color:orange'>2.2.c</font></b> <font color='white' style='text-shadow: -1px 0 black, 0 1px black, 1px 0 black, 0 -1px black;'>C</font> Certains caractères ont besoin de l'échappement `\\` pour ne pas être interprétés par Python. Affichez:<br>\n",
    "```\n",
    "\\\n",
    "Guillemets \", apostrophe '\n",
    "```"
   ]
  },
  {
   "cell_type": "code",
   "execution_count": null,
   "id": "dc00a333",
   "metadata": {},
   "outputs": [],
   "source": []
  },
  {
   "cell_type": "markdown",
   "id": "bc0e9f90",
   "metadata": {},
   "source": [
    "<b><font color='white' style='background-color:orange'>2.2.d</font></b> Qu'affiche ce code?<br>\n",
    "```python\n",
    "x = 8\n",
    "y = 9\n",
    "print('Mon numéro porte bonheur est le', x+y)\n",
    "```"
   ]
  },
  {
   "cell_type": "markdown",
   "id": "2b3c40a4",
   "metadata": {},
   "source": [
    "**Ici votre réponse**"
   ]
  },
  {
   "cell_type": "markdown",
   "id": "57650ee5",
   "metadata": {},
   "source": [
    "<b><font color='white' style='background-color:green'>2.2.e</font></b> Affichez le dessin suivant:<br>\n",
    "```\n",
    " /\\_/\\\n",
    "((@v@))\n",
    "():::()\n",
    " VV-VV\n",
    "```"
   ]
  },
  {
   "cell_type": "code",
   "execution_count": null,
   "id": "66c6d086",
   "metadata": {},
   "outputs": [],
   "source": []
  },
  {
   "cell_type": "markdown",
   "id": "f6e5429e",
   "metadata": {},
   "source": [
    "<b><font color='white' style='background-color:green'>2.2.f</font></b> <font color='white' style='text-shadow: -1px 0 black, 0 1px black, 1px 0 black, 0 -1px black;'>C</font> Vous avez les variables suivantes:<br>\n",
    "\n",
    "| Variable |   Valeur |\n",
    "| -------- | -------- |\n",
    "| a |   5 |\n",
    "| b |   10 |\n",
    "| c | 20 |\n",
    "\n",
    "Affichez le résultat de: $$a^{c/b} + a - c \\times b$$"
   ]
  },
  {
   "cell_type": "code",
   "execution_count": null,
   "id": "31145637",
   "metadata": {},
   "outputs": [],
   "source": []
  },
  {
   "cell_type": "markdown",
   "id": "086e5f23",
   "metadata": {},
   "source": [
    "<b><font color='white' style='background-color:black'>Ex. 2.3</font> Types</b><a class='anchor' id='types'></a><br>\n",
    "Chaque valeur a un type: étudions ici les types `int`, `float`, `str`, `bool`. Ces mots sont des mots réservés en Python et servent à définir les types !<br>\n",
    "<b><font color='white' style='background-color:orange'>2.3.a</font></b> A l'aide de la fonction `type` et de la fonction `print`, affichez ci-dessous les types des valeurs suivantes: `1000`, `'Barbie'`, `3.14`, `'h'`, `True`.\n",
    "Ensuite, écrivez en mots le nom complet des types que vous avez trouvés."
   ]
  },
  {
   "cell_type": "code",
   "execution_count": null,
   "id": "b4b8c1d9",
   "metadata": {},
   "outputs": [],
   "source": []
  },
  {
   "cell_type": "markdown",
   "id": "ff170341",
   "metadata": {},
   "source": [
    "**Ici votre réponse**"
   ]
  },
  {
   "cell_type": "markdown",
   "id": "a0a8d782",
   "metadata": {},
   "source": [
    "<b><font color='white' style='background-color:orange'>2.3.b</font></b> <font color='white' style='text-shadow: -1px 0 black, 0 1px black, 1px 0 black, 0 -1px black;'>C</font> Quel est le type du résultat de l'expression `8//4` ? Et `8/4` ? Expliquez"
   ]
  },
  {
   "cell_type": "code",
   "execution_count": null,
   "id": "8af520bd",
   "metadata": {},
   "outputs": [],
   "source": []
  },
  {
   "cell_type": "markdown",
   "id": "6bb7cb3b",
   "metadata": {},
   "source": [
    "Même si `8/4` donne un entier, l'opération `/` (division décimale) est définie sur les flottants, et rend toujours un `float` : dans ce cas, `2.0`."
   ]
  },
  {
   "cell_type": "markdown",
   "id": "518231df",
   "metadata": {},
   "source": [
    "<b><font color='white' style='background-color:green'>2.3.c</font></b> Affichez le type de `4.0` et de `9`. Ensuite, sommez-les, et affichez le type du résultat. Pourquoi le résultat a-t-il ce type? Expliquez."
   ]
  },
  {
   "cell_type": "code",
   "execution_count": null,
   "id": "1fbda8fa",
   "metadata": {},
   "outputs": [],
   "source": []
  },
  {
   "cell_type": "markdown",
   "id": "a6cba8b3",
   "metadata": {},
   "source": [
    "**Ici votre réponse**"
   ]
  },
  {
   "cell_type": "markdown",
   "id": "e06b5c9b",
   "metadata": {},
   "source": [
    "<b><font color='white' style='background-color:green'>2.3.d</font></b> <font color='white' style='text-shadow: -1px 0 black, 0 1px black, 1px 0 black, 0 -1px black;'>C</font> Que se passe-t-il quand vous cherchez à sommer la valeur `10` à la valeur `'22'`? Expliquez."
   ]
  },
  {
   "cell_type": "code",
   "execution_count": null,
   "id": "e8e2612a",
   "metadata": {},
   "outputs": [],
   "source": []
  },
  {
   "cell_type": "markdown",
   "id": "e5591dae",
   "metadata": {},
   "source": [
    "La somme entre un entier et une chaîne de caractères n'est pas définie"
   ]
  },
  {
   "cell_type": "markdown",
   "id": "bba2ae16",
   "metadata": {},
   "source": [
    "<h3>3. Fonctions</h3><a class='anchor' id='fonctions'></a>\n",
    "\n",
    "Les fonctions sont des morceaux de code réutilisables qui acceptent des données en entrée et rendent des données en sortie. Les variables contenant les données en entrée sont dites *paramètres*. Une fonction peut aussi ne prendre aucun paramètre, ou avoir certains paramètres optionnels.\n",
    "\n",
    "<b><font color='white' style='background-color:black'>Ex. 3.1</font> Utiliser les fonctions prédéfinies</b><a class='anchor' id='prédéfinies'></a><br>\n",
    "Nous avons déjà vu les fonctions print et type. Nous allons voir d'autres fonctions utiles et comment les utiliser.<br>Servez-vous de la <a href=\"https://docs.python.org/3/library/functions.html\">documentation officielle de Python</a> !<br>\n",
    "<b><font color='white' style='background-color:orange'>3.1.a</font></b> Dans la deuxième cellule de code, trouvez une fonction prédéfinie pour évaluer la longueur de la chaîne définie dans la première cellule."
   ]
  },
  {
   "cell_type": "code",
   "execution_count": null,
   "id": "a45d7177",
   "metadata": {},
   "outputs": [],
   "source": [
    "# Ne pas modifier !\n",
    "a = \"Bof, autant d'utiliser ChatGPT :/\""
   ]
  },
  {
   "cell_type": "code",
   "execution_count": null,
   "id": "c3f74de6",
   "metadata": {},
   "outputs": [],
   "source": []
  },
  {
   "cell_type": "markdown",
   "id": "f87f898d",
   "metadata": {},
   "source": [
    "<b><font color='white' style='background-color:orange'>3.1.b</font></b> <font color='white' style='text-shadow: -1px 0 black, 0 1px black, 1px 0 black, 0 -1px black;'>C</font> Dans la deuxième cellule de code, affichez le minimum et le maximum des variables définies dans la première cellule."
   ]
  },
  {
   "cell_type": "code",
   "execution_count": null,
   "id": "aa15936b",
   "metadata": {},
   "outputs": [],
   "source": [
    "# Ne pas modifier !\n",
    "a = 14*90\n",
    "b = 117*9\n",
    "c = 9**7\n",
    "d = 2**14 - 14**2\n",
    "e = 4**3**2"
   ]
  },
  {
   "cell_type": "code",
   "execution_count": null,
   "id": "d5945e64",
   "metadata": {},
   "outputs": [],
   "source": []
  },
  {
   "cell_type": "markdown",
   "id": "dc240a67",
   "metadata": {},
   "source": [
    "<b><font color='white' style='background-color:orange'>3.1.c</font></b> Faites comme dans l'exercice 3.1.b, cette fois avec les variables suivantes. Qu'est-ce qui se passe? Pourquoi? Expliquez dans la cellule de texte."
   ]
  },
  {
   "cell_type": "code",
   "execution_count": null,
   "id": "c08676d6",
   "metadata": {},
   "outputs": [],
   "source": [
    "# Ne pas modifier !\n",
    "a = 14*90\n",
    "b = 117*9\n",
    "c = \"9**7\"\n",
    "d = 2**14 - 14**2\n",
    "e = \"4**3**2\""
   ]
  },
  {
   "cell_type": "code",
   "execution_count": null,
   "id": "83eedf16",
   "metadata": {},
   "outputs": [],
   "source": []
  },
  {
   "cell_type": "markdown",
   "id": "baa6dc99",
   "metadata": {},
   "source": [
    "**Ici votre réponse**"
   ]
  },
  {
   "cell_type": "markdown",
   "id": "390f93e2",
   "metadata": {},
   "source": [
    "<b><font color='white' style='background-color:green'>3.1.d</font></b> Regardons plus attentivement le message d'erreur obtenu : qu'est-ce qu'il dit exactement ? Quelle relation pourrait-il y avoir avec la commande qui a échouée ?"
   ]
  },
  {
   "cell_type": "markdown",
   "id": "8fd7cc0e",
   "metadata": {},
   "source": [
    "**Ici votre réponse**"
   ]
  },
  {
   "cell_type": "markdown",
   "id": "4a5d5885",
   "metadata": {},
   "source": [
    "<b><font color='white' style='background-color:green'>3.1.e</font></b> <font color='white' style='text-shadow: -1px 0 black, 0 1px black, 1px 0 black, 0 -1px black;'>C</font> A la lumière de ce qu'on a découvert sur les fonctions minimum et maximum, que sera-t-il affiché par le code suivant ? Repondez, puis écrivez et lancez le code dans la cellule qui suit. Etait-ce le comportement attendu ?\n",
    "\n",
    "```python\n",
    "a = 'Dans'\n",
    "b = 'la'\n",
    "c = 'vallée'\n",
    "print(min(a, b, c))\n",
    "```"
   ]
  },
  {
   "cell_type": "markdown",
   "id": "f42ed45c",
   "metadata": {},
   "source": [
    "**Ici votre réponse**"
   ]
  },
  {
   "cell_type": "code",
   "execution_count": null,
   "id": "e7a44d91",
   "metadata": {},
   "outputs": [],
   "source": [
    "a = 'Dans'\n",
    "b = 'la'\n",
    "c = 'vallée'\n",
    "print(min(a, b, c))"
   ]
  },
  {
   "cell_type": "markdown",
   "id": "1bcbb771",
   "metadata": {},
   "source": [
    "<b><font color='white' style='background-color:blue'>3.1.f</font></b> <font color='white' style='text-shadow: -1px 0 black, 0 1px black, 1px 0 black, 0 -1px black;'>C</font> Faites des tests avec la fonction `abs`: que fait-elle? Combien de paramètres admet-elle? De quel type? Expliquez "
   ]
  },
  {
   "cell_type": "code",
   "execution_count": null,
   "id": "ad100b3d",
   "metadata": {},
   "outputs": [],
   "source": []
  },
  {
   "cell_type": "code",
   "execution_count": null,
   "id": "ee6c9d0f",
   "metadata": {},
   "outputs": [],
   "source": []
  },
  {
   "cell_type": "code",
   "execution_count": null,
   "id": "4cf6f5c9",
   "metadata": {},
   "outputs": [],
   "source": []
  },
  {
   "cell_type": "markdown",
   "id": "371ba40e",
   "metadata": {},
   "source": [
    "**Ici votre réponse**"
   ]
  },
  {
   "cell_type": "markdown",
   "id": "54042668",
   "metadata": {},
   "source": [
    "<b><font color='white' style='background-color:blue'>3.1.g</font></b> <font color='white' style='text-shadow: -1px 0 black, 0 1px black, 1px 0 black, 0 -1px black;'>C</font> Affichez le type du résultat de `print(4)`. Qu'est-ce que cela signifie? Expliquez."
   ]
  },
  {
   "cell_type": "code",
   "execution_count": null,
   "id": "cf6bf672",
   "metadata": {},
   "outputs": [],
   "source": []
  },
  {
   "cell_type": "markdown",
   "id": "070e8df6",
   "metadata": {},
   "source": [
    "**Ici votre réponse**"
   ]
  },
  {
   "cell_type": "markdown",
   "id": "145ba5f6",
   "metadata": {},
   "source": [
    "<b><font color='white' style='background-color:black'>Ex. 3.2</font> Importer des fonctions</b><a class='anchor' id='importer'></a><br>\n",
    "Grâce à son énorme communauté d'utilisateurs, Python a de nombreuses bibliothèques de fonctions. La commande `import` nous permet d'utiliser des fonctions dans des bibliothèques qui ne sont pas la bibliothèque standard.\n",
    "\n",
    "```python\n",
    "from math import cos    # Importer la fonction cos (cosinus) depuis la bibliothèque math\n",
    "\n",
    "print(cos(0))\n",
    "```\n",
    "\n",
    "On peut aussi obtenir le même résultat en important toute la bibliothèque et ensuite en appellant `nom_bibliothèque.fonction` au lieu de la fonction:\n",
    "\n",
    "```python\n",
    "import math    # Importer la bibliothèque math\n",
    "\n",
    "print(math.cos(0))   # Même résultat!\n",
    "```\n",
    "\n",
    "Pour avoir quelques infos sur l'usage d'une fonction, vous pouvez taper\n",
    "\n",
    "```python\n",
    "help(cos)    # help est une fonction préféfinie standard!\n",
    "```"
   ]
  },
  {
   "cell_type": "markdown",
   "id": "b3231277",
   "metadata": {},
   "source": [
    "<b><font color='white' style='background-color:orange'>3.2.a</font></b> <font color='white' style='text-shadow: -1px 0 black, 0 1px black, 1px 0 black, 0 -1px black;'>C</font> Importez la fonction `exp` depuis la bibliothèque `math` et calculez $e^{10}$"
   ]
  },
  {
   "cell_type": "code",
   "execution_count": null,
   "id": "e0d533b4",
   "metadata": {},
   "outputs": [],
   "source": []
  },
  {
   "cell_type": "markdown",
   "id": "751bedce",
   "metadata": {},
   "source": [
    "<b><font color='white' style='background-color:orange'>3.2.b</font></b> Par la même bibliothèque, importez la fonction `log` et contrôlez que $\\log(e^{4})$ est bien 4."
   ]
  },
  {
   "cell_type": "code",
   "execution_count": null,
   "id": "4ff5a1e9",
   "metadata": {},
   "outputs": [],
   "source": []
  },
  {
   "cell_type": "markdown",
   "id": "e8cf5560",
   "metadata": {},
   "source": [
    "<b><font color='white' style='background-color:green'>3.2.c</font></b> <font color='white' style='text-shadow: -1px 0 black, 0 1px black, 1px 0 black, 0 -1px black;'>C</font> Par la bibliothèque `random`, importez la fonction `randint`. Cette fonction génère un entier aléatoire entre deux entiers donnés : vous trouverez la spécification de cette fonction dans la [documentation officielle](https://docs.python.org/3/library/random.html) et quelques infos en écrivant `help(randint)` dans une cellule de code. Avec cette fonction, générez un entier entre 50 et 170."
   ]
  },
  {
   "cell_type": "code",
   "execution_count": null,
   "id": "f783440d",
   "metadata": {},
   "outputs": [],
   "source": []
  },
  {
   "cell_type": "markdown",
   "id": "da9b8c83",
   "metadata": {},
   "source": [
    "<b><font color='white' style='background-color:green'>3.2.d</font></b> <font color='white' style='text-shadow: -1px 0 black, 0 1px black, 1px 0 black, 0 -1px black;'>C</font> Python a vraiment de nombreuses bibliothèques : explorons un peu. Par la bibliothèque `emoji`, importez la fonction `emojize` et affichez le résultat de cette ligne de code: `emojize('Python is :thumbs_up:')` "
   ]
  },
  {
   "cell_type": "code",
   "execution_count": null,
   "id": "da5934d8",
   "metadata": {},
   "outputs": [],
   "source": [
    "%pip install emoji    # Cette ligne est une \"commande magique\" de Python\n",
    "                      # Installe la bibliothèque si votre ordinateur ne l'a pas\n",
    "                      # (on ne l'a pas fait avec les autres car elles sont très communes)"
   ]
  },
  {
   "cell_type": "code",
   "execution_count": null,
   "id": "69f057b9",
   "metadata": {},
   "outputs": [],
   "source": []
  },
  {
   "cell_type": "markdown",
   "id": "3420e76a",
   "metadata": {},
   "source": [
    "<b><font color='white' style='background-color:blue'>3.2.e</font></b> <font color='white' style='text-shadow: -1px 0 black, 0 1px black, 1px 0 black, 0 -1px black;'>C</font> Essayons encore, cette fois avec un outil plus compliqué. Exécutez les deux cellules ci-dessous, et observez. Savez-vous dire à peu près ce qui se passe? Expliquez dans la cellule en dessous."
   ]
  },
  {
   "cell_type": "code",
   "execution_count": null,
   "id": "952ee121",
   "metadata": {},
   "outputs": [],
   "source": [
    "%pip install py3dmol    # Encore la commande magique !"
   ]
  },
  {
   "cell_type": "code",
   "execution_count": null,
   "id": "2c8b26e6",
   "metadata": {
    "scrolled": true
   },
   "outputs": [],
   "source": []
  },
  {
   "cell_type": "markdown",
   "id": "fe90b8cf",
   "metadata": {},
   "source": [
    "**Ici votre réponse**"
   ]
  },
  {
   "cell_type": "markdown",
   "id": "d296d9bd",
   "metadata": {},
   "source": [
    "<b><font color='white' style='background-color:black'>Ex. 3.3</font> Définir et utiliser ses propres fonctions</b><a class='anchor' id='définir'></a><br>\n",
    "Définir et utiliser ses propres fonctions est fondamental pour programmer : ça permet de réutiliser son code à des endroits différents en l'appliquant à des données différentes.\n",
    "La syntaxe de base est:\n",
    "\n",
    "```python\n",
    "def surface_triangle(base, hauteur):   # Déclarer le nom de la fonction et de tous les paramètres en entrée\n",
    "    # <== Attention à l'indentation !!!\n",
    "    \n",
    "    # Ecrire le code avec une suite d'instructions\n",
    "    res = base*hauteur/2\n",
    "    \n",
    "    # Conclure en rendant le résultat\n",
    "    return res\n",
    "```\n",
    "\n",
    "Si on n'en a pas besoin, on peut aussi ne rendre aucun resultat. Dans ce cas, la fonction rendra implicitement la valeur `None`.\n",
    "Pour appliquer la fonction, après l'avoir définie, il suffira de l'appeler avec un jeu de paramètres compatibles:\n",
    "\n",
    "```python\n",
    "print(surface_triangle(4,5))     # ça va afficher 10\n",
    "```\n",
    "\n",
    "Les paramètres optionnels sont déclarés comme suit le paramètre `titre`:\n",
    "\n",
    "```python\n",
    "def salutation(nom, titre=\"M.\"):  \n",
    "    print(\"Bonjour\", titre, nom)\n",
    "```\n",
    "\n",
    "```python\n",
    "salutation(\"Debussy\")    # affiche \"Bonjour M. Debussy\" car par défaut le titre est \"M.\"\n",
    "salutation(\"Bovary\", titre=\"Mme\")  # affiche \"Bonjour Mme Bovary\" car on a spécifié une valeur pour titre\n",
    "```"
   ]
  },
  {
   "cell_type": "markdown",
   "id": "fcede9bf",
   "metadata": {},
   "source": [
    "<b><font color='white' style='background-color:orange'>3.3.a</font></b> <font color='white' style='text-shadow: -1px 0 black, 0 1px black, 1px 0 black, 0 -1px black;'>C</font> Définissez une fonction nommée `carré` qui prend en entrée un nombre et qui renvoie son carré."
   ]
  },
  {
   "cell_type": "code",
   "execution_count": null,
   "id": "10eeb5d4",
   "metadata": {},
   "outputs": [],
   "source": []
  },
  {
   "cell_type": "markdown",
   "id": "ef3df628",
   "metadata": {},
   "source": [
    "<b><font color='white' style='background-color:orange'>3.3.b</font></b> Il est important de toujours tester ses fonctions avec un jeu de test, pour s'assurer qu'elles rendent le bon résultat. Essayez d'appliquer votre fonction `carré` aux variables définies ci-après."
   ]
  },
  {
   "cell_type": "code",
   "execution_count": null,
   "id": "44837b58",
   "metadata": {},
   "outputs": [],
   "source": [
    "# Ne pas modifier !!\n",
    "a = 4     # Quel est le résultat attendu ?\n",
    "# Appliquez votre fonction ici !\n"
   ]
  },
  {
   "cell_type": "code",
   "execution_count": null,
   "id": "14d81df2",
   "metadata": {},
   "outputs": [],
   "source": [
    "# Ne pas modifier !!\n",
    "num = -10     # Quel est le résultat attendu ?\n",
    "# Appliquez votre fonction ici !\n"
   ]
  },
  {
   "cell_type": "code",
   "execution_count": null,
   "id": "4885a62e",
   "metadata": {},
   "outputs": [],
   "source": [
    "# Ne pas modifier !!\n",
    "mot = 'racine'     # Quel est le résultat attendu ?\n",
    "# Appliquez votre fonction ici !\n"
   ]
  },
  {
   "cell_type": "markdown",
   "id": "a9e5abb5",
   "metadata": {},
   "source": [
    "<b><font color='white' style='background-color:orange'>3.3.c</font></b> <font color='white' style='text-shadow: -1px 0 black, 0 1px black, 1px 0 black, 0 -1px black;'>C</font> Une bonne pratique pour tester ses fonctions c'est d'utiliser l'instruction `assert`. Cette instruction permet de comparer le résultat de la fonction avec un résultat attendu, tout comme on l'a fait \"à la main\" dans l'exercice 3.3.b. Si la comparaison est réussie, `assert` ne produit aucune sortie, sinon elle produit une erreur qui arrête l'exécution.<br>\n",
    "Testez la fonction `min` avec `assert`: testez si le minimum entre 2 et 3 est 2, et si le minimum entre 10 et 20 est 15"
   ]
  },
  {
   "cell_type": "code",
   "execution_count": null,
   "id": "078e95b1",
   "metadata": {},
   "outputs": [],
   "source": []
  },
  {
   "cell_type": "code",
   "execution_count": null,
   "id": "52df2fac",
   "metadata": {},
   "outputs": [],
   "source": []
  },
  {
   "cell_type": "markdown",
   "id": "bf20d571",
   "metadata": {},
   "source": [
    "<b><font color='white' style='background-color:green'>3.3.d</font></b> <font color='white' style='text-shadow: -1px 0 black, 0 1px black, 1px 0 black, 0 -1px black;'>C</font> Créez une fonction `expsum` qui prend deux entiers non-négatifs $a$ et $b$ et calcule $2^a + 2^b$. Dans la deuxième cellule, créez un jeu de test complet avec au moins trois `assert`. "
   ]
  },
  {
   "cell_type": "code",
   "execution_count": null,
   "id": "db8dc042",
   "metadata": {},
   "outputs": [],
   "source": []
  },
  {
   "cell_type": "code",
   "execution_count": null,
   "id": "e5264df4",
   "metadata": {},
   "outputs": [],
   "source": []
  },
  {
   "cell_type": "markdown",
   "id": "e8fad582",
   "metadata": {},
   "source": [
    "<b><font color='white' style='background-color:green'>3.3.e</font></b> La fonction `combien_secondes`devrait calculer le nombre de secondes totales si on rentre un nombre d'heures `h`, minutes `m` et secondes `s`. Pourtant, il y a quelque chose qui ne marche pas. Trouvez les erreurs (sans changer les `assert` !) et assurez-vous que tout marche bien"
   ]
  },
  {
   "cell_type": "code",
   "execution_count": null,
   "id": "e5670b27",
   "metadata": {},
   "outputs": [],
   "source": []
  },
  {
   "cell_type": "code",
   "execution_count": null,
   "id": "32fb4b9e",
   "metadata": {},
   "outputs": [],
   "source": [
    "# Ne pas modifier !\n",
    "assert combien_secondes(0,0,0) == 0\n",
    "assert combien_secondes(0,0,10) == 10\n",
    "assert combien_secondes(0,1,0) == 60\n",
    "assert combien_secondes(1,0,0) == 3600"
   ]
  },
  {
   "cell_type": "markdown",
   "id": "77aba5ff",
   "metadata": {},
   "source": [
    "<b><font color='white' style='background-color:blue'>3.3.f</font></b> <font color='white' style='text-shadow: -1px 0 black, 0 1px black, 1px 0 black, 0 -1px black;'>C</font> Vous aimez jouer à Donjons & Dragons avec vos amis, mais hélas, vous n'avez pas de dés. Ecrivez une fonction `tirage_caractéristique` qui lance 4 dés à six faces, somme les résultats et enlève la valeur minimale obtenue par l'un des  dés. Rappelez-vous des bibliothèques qu'on a vues !<br> _Exemple: Anne lance les dés et obtient 5, 6, 2, 3. Le résultat sera 5 + 6 + 3 + 2 - 2 = 14. Un bon résultat !_"
   ]
  },
  {
   "cell_type": "code",
   "execution_count": null,
   "id": "9b74857e",
   "metadata": {},
   "outputs": [],
   "source": []
  },
  {
   "cell_type": "code",
   "execution_count": null,
   "id": "5863849b",
   "metadata": {},
   "outputs": [],
   "source": []
  },
  {
   "cell_type": "markdown",
   "id": "c452f6a9",
   "metadata": {},
   "source": [
    "<b><font color='white' style='background-color:blue'>3.3.f-bis</font></b> <font color='white' style='text-shadow: -1px 0 black, 0 1px black, 1px 0 black, 0 -1px black;'>C</font> Mais comment tester une fonction qui utilise des valeurs aléatoires? Si vous avez des idées, écrivez votre réponse ci-dessous... sinon, on en reparlera dans quelques épisodes !"
   ]
  },
  {
   "cell_type": "markdown",
   "id": "4f71b43a",
   "metadata": {},
   "source": [
    "**Ici votre réponse**"
   ]
  },
  {
   "cell_type": "markdown",
   "id": "a1f04a5b",
   "metadata": {},
   "source": [
    "<b><font color='white' style='background-color:blue'>3.3.g</font></b> <font color='white' style='text-shadow: -1px 0 black, 0 1px black, 1px 0 black, 0 -1px black;'>C</font> Prenez l'exercice 1.2.e sur le coût des plaques à 96 puits et rédigez une fonction `cout_plaques` qui prend en entrée le nombre de puits souhaités `p` et le coût d'une plaque `c`, et rend le coût. Dans la deuxième cellule, créez un jeu de tests avec au moins 5 `assert` pour tester tous les cas d'usage de la fonction."
   ]
  },
  {
   "cell_type": "code",
   "execution_count": null,
   "id": "df224d2b",
   "metadata": {},
   "outputs": [],
   "source": []
  },
  {
   "cell_type": "code",
   "execution_count": null,
   "id": "721387c5",
   "metadata": {},
   "outputs": [],
   "source": []
  },
  {
   "cell_type": "markdown",
   "id": "04f4e035",
   "metadata": {},
   "source": [
    "<b><font color='white' style='background-color:blue'>3.3.g-bis</font></b> <font color='white' style='text-shadow: -1px 0 black, 0 1px black, 1px 0 black, 0 -1px black;'>C</font> Etes-vous sûrs d'avoir bien fait l'exercice `3.3.f`? Avez-vous contrôlé le coût pour 96 puits ? Et pour 97 ?"
   ]
  },
  {
   "cell_type": "code",
   "execution_count": null,
   "id": "a7a22d22",
   "metadata": {},
   "outputs": [],
   "source": []
  },
  {
   "cell_type": "markdown",
   "id": "3c0f398f",
   "metadata": {},
   "source": [
    "<b><font color='white' style='background-color:black'>Ex. 3.4</font> Compléments sur les fonctions</b><a class='anchor' id='compléments'></a><br>\n",
    "\n",
    "<b><font color='white' style='background-color:green'>3.4.a</font></b> <font color='white' style='text-shadow: -1px 0 black, 0 1px black, 1px 0 black, 0 -1px black;'>C</font>\n",
    "En Python, une fonction peut rendre plus qu'une valeur. Créez la fonction inverse de `combien_secondes` en `3.3.c`, c'est à dire une fonction qui prend un entier qui représente un certain montant de secondes et le transforme en heures, minutes, secondes (exemple : 120s -> 0h, 2m, 0s). Appellez cette fonction `combien_temps` et testez-la.\n",
    "\n",
    "**Attention** : pour utiliser une fonction qui rend plusieurs valeurs, vous avez deux possibilités : \n",
    "- `a = combien_temps(4000)` : dans ce cas, `a` contiendra un _triplet_ `(h, m, s)`\n",
    "- `a, b, c = combien_temps(4000)` : dans ce cas, `a`, `b`, `c` seront des entiers contenant respectivement heures, minutes, secondes.\n",
    "\n",
    "Pour tester, il faudra donc créer des `assert` qui utilisent la syntaxe du triplet : exemple\n",
    "```python\n",
    "assert combien_temps(3666) == (1, 1, 6)   # 1 heure, 1 minute, 6 secondes\n",
    "```\n",
    "\n",
    "NB : avec vos connaissances, la fonction `combien_temps` peut être écrite en 2 lignes !"
   ]
  },
  {
   "cell_type": "code",
   "execution_count": null,
   "id": "0f66b2fa",
   "metadata": {},
   "outputs": [],
   "source": []
  },
  {
   "cell_type": "code",
   "execution_count": null,
   "id": "9d015493",
   "metadata": {},
   "outputs": [],
   "source": []
  },
  {
   "cell_type": "markdown",
   "id": "81e51d71",
   "metadata": {},
   "source": [
    "<b><font color='white' style='background-color:green'>3.4.b</font></b> Les fonctions peuvent prendre des paramètres optionnels, qui ont une valeur par defaut s'ils ne sont pas spécifiés. Par exemple, la fonction `print` prend les paramètres optionnels `end` et `sep`, qui par defaut sont respectivement `'\\n'` et `' '`. Jouez avec `sep` et `end` dans l'appel de fonction suivant jusqu'à ce que vous obteniez l'affichage\n",
    "```\n",
    "PSG-Juventus 1-3\n",
    "```"
   ]
  },
  {
   "cell_type": "code",
   "execution_count": null,
   "id": "45fe3d84",
   "metadata": {},
   "outputs": [],
   "source": []
  },
  {
   "cell_type": "markdown",
   "id": "aee57b20",
   "metadata": {},
   "source": [
    "<h3>4. Tests</h3><a class='anchor' id='tests'></a>\n",
    "<b><font color='white' style='background-color:black'>Ex. 4.1</font> Comparaisons</b><a class='anchor' id='comparaisons'></a><br>\n",
    "On a déjà vu un premier type de comparaison en utilisant `assert`. Les opérateurs de comparaison sont:\n",
    "\n",
    "```python\n",
    "==    # égal à\n",
    "!=    # inégal à\n",
    ">     # supérieur à\n",
    "<     # inférieur à\n",
    ">=    # supérieur ou égal à\n",
    "<=    # inférieur ou égal à\n",
    "```\n",
    "\n",
    "Les tests rendent toujours un booléen : `True` ou `False`"
   ]
  },
  {
   "cell_type": "code",
   "execution_count": null,
   "id": "1747b41b",
   "metadata": {},
   "outputs": [],
   "source": [
    "# Exemple (ne pas modifier)\n",
    "2 + 2 == 5"
   ]
  },
  {
   "cell_type": "markdown",
   "id": "7c947b49",
   "metadata": {},
   "source": [
    "<b><font color='white' style='background-color:orange'>4.1.a</font></b> <font color='white' style='text-shadow: -1px 0 black, 0 1px black, 1px 0 black, 0 -1px black;'>C</font> Demandez à Python pour savoir si les égalités ou inégalité suivantes sont vraies :"
   ]
  },
  {
   "cell_type": "markdown",
   "id": "161b90a7",
   "metadata": {},
   "source": [
    "$3 \\times 5 = 5 + 17$"
   ]
  },
  {
   "cell_type": "code",
   "execution_count": null,
   "id": "254f0915",
   "metadata": {},
   "outputs": [],
   "source": []
  },
  {
   "cell_type": "markdown",
   "id": "1db544fe",
   "metadata": {},
   "source": [
    "$24 + 8 \\times 2 + 2 \\neq 42$"
   ]
  },
  {
   "cell_type": "code",
   "execution_count": null,
   "id": "14dc9a52",
   "metadata": {},
   "outputs": [],
   "source": []
  },
  {
   "cell_type": "markdown",
   "id": "b566e081",
   "metadata": {},
   "source": [
    "$\\frac{3 + 9}{24} > \\frac{2 + 7}{19}$"
   ]
  },
  {
   "cell_type": "code",
   "execution_count": null,
   "id": "3669a104",
   "metadata": {},
   "outputs": [],
   "source": []
  },
  {
   "cell_type": "markdown",
   "id": "8aa43f91",
   "metadata": {},
   "source": [
    "<b><font color='white' style='background-color:orange'>4.1.b</font></b> Testez si la longueur du fameux mot de Mary Poppins `'Supercalifragilisticexpialidocious'` est supérieure à celle de sa traduction française `'Supercalifragilisticexpidélilicieux'`."
   ]
  },
  {
   "cell_type": "code",
   "execution_count": null,
   "id": "b6dc114a",
   "metadata": {},
   "outputs": [],
   "source": []
  },
  {
   "cell_type": "markdown",
   "id": "8b21da50",
   "metadata": {},
   "source": [
    "<b><font color='white' style='background-color:orange'>4.1.c</font></b> Testez s'il est vrai que `4` et `4.0` sont égaux. Est-ce que `'Batman'` et `'batman'` le sont?"
   ]
  },
  {
   "cell_type": "code",
   "execution_count": null,
   "id": "d8313d30",
   "metadata": {},
   "outputs": [],
   "source": []
  },
  {
   "cell_type": "markdown",
   "id": "fe4e5f0b",
   "metadata": {},
   "source": [
    "<b><font color='white' style='background-color:green'>4.1.d</font></b> <font color='white' style='text-shadow: -1px 0 black, 0 1px black, 1px 0 black, 0 -1px black;'>C</font> Un triangle de côtés `6`, `8` et `10` est-il rectangle? Testez-le avec une comparaison adéquate"
   ]
  },
  {
   "cell_type": "code",
   "execution_count": null,
   "id": "90f214d0",
   "metadata": {},
   "outputs": [],
   "source": []
  },
  {
   "cell_type": "markdown",
   "id": "ad2113e7",
   "metadata": {},
   "source": [
    "<b><font color='white' style='background-color:green'>4.1.e</font></b> On lance deux dés à six faces. Créez deux variables (aléatoires) `dé1` et `dé2` pour ces lancers. Affichez le résultat du test pour savoir si le `dé1` est supérieur ou égal au `dé2`"
   ]
  },
  {
   "cell_type": "code",
   "execution_count": null,
   "id": "ae8aae46",
   "metadata": {},
   "outputs": [],
   "source": []
  },
  {
   "cell_type": "markdown",
   "id": "f58aadb5",
   "metadata": {},
   "source": [
    "<b><font color='white' style='background-color:black'>Ex. 4.2</font> Flottants et précision</b><a class='anchor' id='flottants'></a><br>\n",
    "Python est toujours exact sur les entiers, quelle que soit la taille, même énorme (ce n'est pas le cas pour tous les langages !). Mais pour les flottants, ça change : aucun langage n'arrive à avoir précision infinie. On va voir ce que cela entraîne du côté pratique, et comment faire avec.<br> \n",
    "<b><font color='white' style='background-color:orange'>4.2.a</font></b> Exécutez les tests suivants :"
   ]
  },
  {
   "cell_type": "markdown",
   "id": "cdf51a68",
   "metadata": {},
   "source": [
    "$0.1 + 0.1 = 0.2$"
   ]
  },
  {
   "cell_type": "code",
   "execution_count": null,
   "id": "dc17fdbb",
   "metadata": {},
   "outputs": [],
   "source": []
  },
  {
   "cell_type": "markdown",
   "id": "4db43d71",
   "metadata": {},
   "source": [
    "$0.1 + 0.1 + 0.1  = 0.3$"
   ]
  },
  {
   "cell_type": "code",
   "execution_count": null,
   "id": "7092c298",
   "metadata": {},
   "outputs": [],
   "source": []
  },
  {
   "cell_type": "markdown",
   "id": "e31b5a00",
   "metadata": {},
   "source": [
    "$0.1 + 0.1 + 0.1 + 0.1 = 0.4$"
   ]
  },
  {
   "cell_type": "code",
   "execution_count": null,
   "id": "13498105",
   "metadata": {},
   "outputs": [],
   "source": []
  },
  {
   "cell_type": "markdown",
   "id": "d737bb98",
   "metadata": {},
   "source": [
    "<b><font color='white' style='background-color:blue'>4.2.b</font></b> <font color='white' style='text-shadow: -1px 0 black, 0 1px black, 1px 0 black, 0 -1px black;'>C</font> Savez-vous expliquer la raison du comportement vu dans l'exercice 4.2.a ?"
   ]
  },
  {
   "cell_type": "markdown",
   "id": "980cd08f",
   "metadata": {},
   "source": [
    "**Ici votre réponse**"
   ]
  },
  {
   "cell_type": "markdown",
   "id": "28c03902",
   "metadata": {},
   "source": [
    "<b><font color='white' style='background-color:orange'>4.2.c</font></b> Utilisez la <a href=\"https://docs.python.org/3/library/functions.html\">fonction prédéfinie standard</a> `round` pour arrondir un nombre à virgule. Comme d'habitude en mathématiques, la fonction devrait arrondir vers le bas si la partie décimale est $\\lt 0.5$, et vers le haut si la partie décimale est $\\ge 0.5$, avec la possible exception de $0.5$ qui s'arrondit à 0 pour des exigences mathématiques. Trouvez au moins un autre nombre avec partie décimale `.5` qui est arrondi vers le bas plutôt que vers le haut."
   ]
  },
  {
   "cell_type": "code",
   "execution_count": null,
   "id": "a644b808",
   "metadata": {},
   "outputs": [],
   "source": []
  },
  {
   "cell_type": "markdown",
   "id": "e4ab6b74",
   "metadata": {},
   "source": [
    "<b><font color='white' style='background-color:green'>4.2.d</font></b> <font color='white' style='text-shadow: -1px 0 black, 0 1px black, 1px 0 black, 0 -1px black;'>C</font> Si on veut comparer deux flottants, il faut établir un seuil d'approximation. Créez une fonction `égalité_flottants` qui prend deux flottants `x` et `y` et un seuil `h`, et renvoie le résultat de ce test: $$|x - y| < h$$\n",
    "Dans la deuxième cellule, proposez un jeu de tests adéquat. Dans la troisième cellule, utilisez votre fonction pour savoir si $0.1+0.1+0.1$ est égal à $0.3$ avec une précision de $10^{-10}$"
   ]
  },
  {
   "cell_type": "code",
   "execution_count": null,
   "id": "b6e86c2b",
   "metadata": {},
   "outputs": [],
   "source": []
  },
  {
   "cell_type": "code",
   "execution_count": null,
   "id": "7963b0d1",
   "metadata": {},
   "outputs": [],
   "source": []
  },
  {
   "cell_type": "code",
   "execution_count": null,
   "id": "61e61a19",
   "metadata": {},
   "outputs": [],
   "source": []
  },
  {
   "cell_type": "markdown",
   "id": "f1765fef",
   "metadata": {},
   "source": [
    "<b><font color='white' style='background-color:blue'>4.2.e</font></b> <font color='white' style='text-shadow: -1px 0 black, 0 1px black, 1px 0 black, 0 -1px black;'>C</font> Calculez, à l'aide des fonctions de la bibliothèque `math`, $$\\log(e^{-500}e^{-400})$$\n",
    "Que se passe-t-il ? Expliquez-le dans la cellule de texte. Ensuite, contournez cet obstacle en modifiant le calcul"
   ]
  },
  {
   "cell_type": "code",
   "execution_count": null,
   "id": "1f3dbd26",
   "metadata": {},
   "outputs": [],
   "source": []
  },
  {
   "cell_type": "markdown",
   "id": "9ca1952c",
   "metadata": {},
   "source": [
    "**Ici votre réponse**"
   ]
  },
  {
   "cell_type": "code",
   "execution_count": null,
   "id": "bca48ac9",
   "metadata": {},
   "outputs": [],
   "source": []
  }
 ],
 "metadata": {
  "kernelspec": {
   "display_name": "Python 3 (ipykernel)",
   "language": "python",
   "name": "python3"
  },
  "language_info": {
   "codemirror_mode": {
    "name": "ipython",
    "version": 3
   },
   "file_extension": ".py",
   "mimetype": "text/x-python",
   "name": "python",
   "nbconvert_exporter": "python",
   "pygments_lexer": "ipython3",
   "version": "3.10.9"
  }
 },
 "nbformat": 4,
 "nbformat_minor": 5
}
