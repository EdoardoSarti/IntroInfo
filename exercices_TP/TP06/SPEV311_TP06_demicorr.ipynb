{
 "cells": [
  {
   "cell_type": "markdown",
   "id": "437a11d0",
   "metadata": {},
   "source": [
    "<h1><center>SPEV311 — Introduction à l'Informatique — TP 06</center><br>\n",
    "<center>Fichiers, Arboréscences</center></h1>"
   ]
  },
  {
   "cell_type": "markdown",
   "id": "c3a9453e",
   "metadata": {},
   "source": [
    "<h3>Auto-évaluation</h3>\n",
    "\n",
    "<div> Les exercices se divisent en trois niveaux d'auto-évaluation:\n",
    "<ul>\n",
    "    <li><h3><font color='white' style='background-color:orange'>Fondamentaux</font></h3> Pour réviser les notions apprises en cours. Il faut tous les savoir résoudre pour avoir la moyenne.</li>\n",
    "    <li><h3><font color='white' style='background-color:green'>Intermédiaires</font></h3> Pour vous aider à raisonner et rentrer au coeur des sujets. Si vous saurez tous les résoudre, vous aurez un bon niveau de préparation !</li>\n",
    "    <li><h3><font color='white' style='background-color:blue'>Avancés</font></h3> Défis pour vous entraîner à l'examen final... et aller plus loin !</li>\n",
    "</ul>\n",
    "</div>"
   ]
  },
  {
   "cell_type": "markdown",
   "id": "0a10e0ba",
   "metadata": {},
   "source": [
    "Les exercices avec un <font color='white' style='text-shadow: -1px 0 black, 0 1px black, 1px 0 black, 0 -1px black;'>C</font> sont corrigés : vous trouverez un notebook avec la correction de ces exercices dans le même dossier où vous avez trouvé celui-ci."
   ]
  },
  {
   "cell_type": "markdown",
   "id": "c1b5b9b0",
   "metadata": {},
   "source": [
    "### <font color='black'>Table des matières<font><a class='anchor' id='top'></a>\n",
    "    \n",
    "1. [Compléments sur les chaînes](#chaînes)<br>\n",
    "    1.1 [`ord` et `chr`](#ord)<br>\n",
    "    1.2 [L'opérateur `in`](#in)<br>\n",
    "    1.3 [La méthode `format`](#format)<br>\n",
    "2. [Fichiers de texte](#texte)<br>\n",
    "    2.1 [Lecture de fichiers](#lecture)<br>\n",
    "    2.2 [Ecriture de fichiers](#écriture)<br>\n",
    "    2.3 [Lecture et écriture de tableaux](#lectureécriture)<br>\n",
    "3. [Arboréscences](#variables)<br>\n",
    "    3.1 [Chéminements](#affectation)<br>\n",
    "    3.2 [Opérations sur l'arboréscence](#opérations)<br>\n",
    "4. [Archives](#archives)<br>\n",
    "    4.1 [Archivage et compression](#archivage)<br>\n",
    "    4.2 [Edition d'un fichier ODT](#odt)<br>"
   ]
  },
  {
   "cell_type": "markdown",
   "id": "45201be3",
   "metadata": {},
   "source": [
    "<h3>1. Compléments sur les chaînes</h3><a class='anchor' id='compléments'></a>"
   ]
  },
  {
   "cell_type": "markdown",
   "id": "e22835c2",
   "metadata": {},
   "source": [
    "<b><font color='white' style='background-color:black'>Ex. 1.1</font> Les fonctions `ord` et `chr`</b><a class='anchor' id='ordchr'></a><br>\n",
    "\n",
    "Chaque caractère est associé à un code ASCII. La fonction `ord` prend un caractère en entrée et rend son code ASCII, la fonction `chr` fait l'invers.\n",
    "\n",
    "<b><font color='white' style='background-color:orange'>1.1.a</font></b> <font color='white' style='text-shadow: -1px 0 black, 0 1px black, 1px 0 black, 0 -1px black;'>C</font> Affichez le caractère de code `65`"
   ]
  },
  {
   "cell_type": "code",
   "execution_count": null,
   "id": "dea6870c",
   "metadata": {},
   "outputs": [],
   "source": [
    "chr(65)"
   ]
  },
  {
   "cell_type": "markdown",
   "id": "d7187cf6",
   "metadata": {},
   "source": [
    "<b><font color='white' style='background-color:orange'>1.1.b</font></b> <font color='white' style='text-shadow: -1px 0 black, 0 1px black, 1px 0 black, 0 -1px black;'>C</font> Affichez les caractères de code `65` à `90`, précédés de leur code"
   ]
  },
  {
   "cell_type": "code",
   "execution_count": null,
   "id": "aaf40498",
   "metadata": {},
   "outputs": [],
   "source": [
    "for i in range(65, 91):\n",
    "    print(i, chr(i))"
   ]
  },
  {
   "cell_type": "markdown",
   "id": "a7df8787",
   "metadata": {},
   "source": [
    "<b><font color='white' style='background-color:orange'>1.1.c</font></b> Affichez les ordres de chaque caractère de la chaîne `s` ci-dessous."
   ]
  },
  {
   "cell_type": "code",
   "execution_count": null,
   "id": "2a2ac76e",
   "metadata": {},
   "outputs": [],
   "source": [
    "# Ne pas modifier !\n",
    "s = 'un ciel bourbeux et noir'\n",
    "\n",
    "# Ici votre réponse"
   ]
  },
  {
   "cell_type": "markdown",
   "id": "9dc4c2f2",
   "metadata": {},
   "source": [
    "<b><font color='white' style='background-color:orange'>1.1.d</font></b> La chaîne de caractères `s` contient un message caché : seules les lettres capitales de A à Z sont pertinentes, les autres sont inutiles. Déchiffrez le message."
   ]
  },
  {
   "cell_type": "code",
   "execution_count": null,
   "id": "97a10307",
   "metadata": {},
   "outputs": [],
   "source": [
    "# Ne pas modifier !\n",
    "s = 'se昀ׅき厾䓶Ὤᣴ䱫底䀬Ḉ䆯㫞悑Vaᴒ⢌嫮Oज़⟡⃧ᥠ䃩冫㸅徕UⰎ滚狰㬀ᖞ䭞猱嚚昍塠ⷻ民S洆䰡∯䂖ॆb爓A挸ܾt娴̓摫㼍㌦⼖烣V巻ઌdᲱ咵pas῭㲂果䋁Eய晞! 楄䫀ཡ$⣛洞嘥㚗⯂漵ᕌZ捨㕎⍮䜘э⎹ঢ়R᭥ŵ榍䍐ᙅᏈそ玟庨ḶᶀEU呁棽⼲⍫獋潹䧓䄱幈᳓ᷠ曎㟡S玁㏲⻨匐ᾯ佖ゝS䚲ᔿ帣к格☏ù㘑狹椛ᒶI'"
   ]
  },
  {
   "cell_type": "code",
   "execution_count": null,
   "id": "0911e635",
   "metadata": {},
   "outputs": [],
   "source": []
  },
  {
   "cell_type": "markdown",
   "id": "5ee528c9",
   "metadata": {},
   "source": [
    "<b><font color='white' style='background-color:green'>1.1.e</font></b> <font color='white' style='text-shadow: -1px 0 black, 0 1px black, 1px 0 black, 0 -1px black;'>C</font> Créez une fonction `césar` qui prend une chaîne `message` en entrée et rend une chaîne qui contient le même message chiffré de cette façon : chaque lettre est remplacée par la lettre suivante dans l'alphabet, et le `'Z'` est remplacé par `'A'`. On suppose que le message ne contient que des majuscules et des espaces : les espaces doivent rester des espaces. Testez avec les `assert` donnés"
   ]
  },
  {
   "cell_type": "code",
   "execution_count": null,
   "id": "9f1317c0",
   "metadata": {},
   "outputs": [],
   "source": [
    "def césar(message):\n",
    "    res = ''    \n",
    "    for c in message:\n",
    "        if c == \" \":\n",
    "            res = res + \" \"\n",
    "        else:\n",
    "            o = ord(c)+1\n",
    "            if o == 91:\n",
    "                o = 65\n",
    "            res = res + chr(o)\n",
    "    return res"
   ]
  },
  {
   "cell_type": "code",
   "execution_count": null,
   "id": "021ca732",
   "metadata": {},
   "outputs": [],
   "source": [
    "assert césar(\"ASTERIX\") == \"BTUFSJY\"\n",
    "assert césar(\"VENI VIDI VICI\") == \"WFOJ WJEJ WJDJ\""
   ]
  },
  {
   "cell_type": "markdown",
   "id": "fecc8852",
   "metadata": {},
   "source": [
    "<b><font color='white' style='background-color:green'>1.1.f</font></b> Créez une version de la fonction `césar` vue dans l'exercice `1.1.e` qui outre à la chaîne `message` prend un entier `n` qui dit combien de lettres doit-on avancer pour chiffrer le message. Par exemple,\n",
    "```python\n",
    "césar(\"ABC\", 1)   # rend \"BCD\"\n",
    "césar(\"ABC\", 3)   # rend \"DEF\"\n",
    "```\n",
    "Testez avec les `assert` donnés"
   ]
  },
  {
   "cell_type": "code",
   "execution_count": null,
   "id": "db7af467",
   "metadata": {},
   "outputs": [],
   "source": []
  },
  {
   "cell_type": "code",
   "execution_count": null,
   "id": "43aeb261",
   "metadata": {},
   "outputs": [],
   "source": []
  },
  {
   "cell_type": "markdown",
   "id": "01b783b6",
   "metadata": {},
   "source": [
    "<b><font color='white' style='background-color:blue'>1.1.g</font></b> <font color='white' style='text-shadow: -1px 0 black, 0 1px black, 1px 0 black, 0 -1px black;'>C</font> Vous avez intercepté une communication chiffrée et vous souhaitez la décrypter. Créez une fonction `déchiffre_césar` qui prend une chaîne `message` et affiche tous les 26 déchiffreges possibles d'un code césar. Trouvez donc le message caché dans la chaîne `s` ! Quel est le décalage qui a été appliqué ?"
   ]
  },
  {
   "cell_type": "code",
   "execution_count": null,
   "id": "e7b64dac",
   "metadata": {},
   "outputs": [],
   "source": [
    "message_chiffré = \"BCRENGVBA ONEOREBHFFR\""
   ]
  },
  {
   "cell_type": "code",
   "execution_count": null,
   "id": "4fc8dc32",
   "metadata": {},
   "outputs": [],
   "source": [
    "def déchiffre_césar(message):\n",
    "    for n in range(26):\n",
    "        print(n, \"\\t\", end = '')\n",
    "        for c in message:\n",
    "            if c != \" \":\n",
    "                o = ((ord(c) - 65) + n) % 26 + 65\n",
    "                print(chr(o), end='')\n",
    "            else:\n",
    "                print(\" \", end='')\n",
    "        print()"
   ]
  },
  {
   "cell_type": "code",
   "execution_count": null,
   "id": "1b51af6b",
   "metadata": {},
   "outputs": [],
   "source": [
    "déchiffre_césar(message_chiffré)"
   ]
  },
  {
   "cell_type": "markdown",
   "id": "80bcc77e",
   "metadata": {},
   "source": [
    "<b><font color='white' style='background-color:black'>Ex. 1.2</font> L'opérateur `in`</b><a class='anchor' id='ordchr'></a><br>\n",
    "\n",
    "On a vu déja une grande quantité d'opérateurs, mais on en a mis un de côté : l'opérateur `in` (ou _\"est contenu dans\"_). Cet opérateur nous dit si une donnée est ou pas un élément d'une séquence, et on l'utilise de cette façon :\n",
    "\n",
    "```python\n",
    "3 in ['a', 4, 'trou', False, 3]            # le résultat de cette expression est True\n",
    "'mouton' in ('a', 4, 'trou', False, 3)     # le résultat de cette expression est False\n",
    "'k' in 'késako'                            # le résultat de cette expression est True\n",
    "```\n",
    "\n",
    "Comme tous les autres opérateurs qui rendent des booléens (ceux de comparaison, par exemple), l'opérateur `in` peur être utilisé pour définir une condition `if` ou une boucle `while`... mais le `in` dans la boucle `for` n'est **pas** la même chose (ce n'est pas un opérateur, c'est une partie de la définition de boucle) ! Il ne faut pas les confondre."
   ]
  },
  {
   "cell_type": "markdown",
   "id": "271b7b92",
   "metadata": {},
   "source": [
    "<b><font color='white' style='background-color:orange'>1.2.a</font></b> <font color='white' style='text-shadow: -1px 0 black, 0 1px black, 1px 0 black, 0 -1px black;'>C</font> Vous avez la liste définie ci-dessous. Vérifiez si le mot `\"bien\"` est dans la phrase `\"Les miroirs feraient bien de réfléchir un peu plus avant de renvoyer les images.\"`. Et le mot `\"roi\"` ? Faites attention à ce que vous cherchez !"
   ]
  },
  {
   "cell_type": "code",
   "execution_count": null,
   "id": "3170bfa7",
   "metadata": {},
   "outputs": [],
   "source": [
    "\" bien \" in \"Les miroirs feraient bien de réfléchir un peu plus avant de renvoyer les images.\""
   ]
  },
  {
   "cell_type": "code",
   "execution_count": null,
   "id": "7c986605",
   "metadata": {},
   "outputs": [],
   "source": [
    "\" roi \" in \"Les miroirs feraient bien de réfléchir un peu plus avant de renvoyer les images.\""
   ]
  },
  {
   "cell_type": "markdown",
   "id": "132e39b4",
   "metadata": {},
   "source": [
    "<b><font color='white' style='background-color:orange'>1.2.b</font></b> Lancez un dé à 20 faces pour 5 fois et sauvegardez les résultats dans une liste. Puis, vérifiez si vous avez obtenu au moins un `20`"
   ]
  },
  {
   "cell_type": "code",
   "execution_count": null,
   "id": "113df27b",
   "metadata": {},
   "outputs": [],
   "source": []
  },
  {
   "cell_type": "markdown",
   "id": "a8924dbb",
   "metadata": {},
   "source": [
    "<b><font color='white' style='background-color:orange'>1.2.c</font></b> <font color='white' style='text-shadow: -1px 0 black, 0 1px black, 1px 0 black, 0 -1px black;'>C</font> Créez une fonction `filtre_dièses` qui prend une liste de chaînes de caractères `liste_str` et n'affiche que les chaînes qui ne contiennent pas de dièses.\n",
    "Testez-la avec cette liste : `[\"4818\", \"merlot\", \"# Test\", \"for i in a:  # commentaire\", \"Fin.\", \"87\"]`"
   ]
  },
  {
   "cell_type": "code",
   "execution_count": null,
   "id": "b528903a",
   "metadata": {},
   "outputs": [],
   "source": [
    "def filtre_dièses(liste_str):\n",
    "    for s in liste_str:\n",
    "        if not (\"#\" in s):\n",
    "            print(s)"
   ]
  },
  {
   "cell_type": "code",
   "execution_count": null,
   "id": "fe0c6dbf",
   "metadata": {},
   "outputs": [],
   "source": [
    "filtre_dièses([\"4818\", \"merlot\", \"# Test\", \"for i in a:  # commentaire\", \"Fin.\", \"87\"])"
   ]
  },
  {
   "cell_type": "markdown",
   "id": "7b54d21f",
   "metadata": {},
   "source": [
    "<b><font color='white' style='background-color:green'>1.2.d</font></b> A l'aide de la fonction que vous avez créée dans l'exercice `1.2.c`, créez une fonction `filtre_dièses_texte` qui prend une chaînes de caractères `texte` et n'affiche que les lignes qui ne contiennent pas de dièses. Vous avez droit à deux lignes de code. Indice : vous devez utiliser l'une des méthodes des chaînes vues en `TP05`, qui répartit une chaîne en éléments d'une liste... puis, vous appelez la fonction que vous avez déjà écrite !\n",
    "\n",
    "Testez-la avec cette chaîne : `\"4818\\nmerlot\\n# Test\\nfor i in a:  # commentaire\\nFin.\\n87\"`"
   ]
  },
  {
   "cell_type": "code",
   "execution_count": null,
   "id": "76f01431",
   "metadata": {},
   "outputs": [],
   "source": []
  },
  {
   "cell_type": "code",
   "execution_count": null,
   "id": "8e832725",
   "metadata": {},
   "outputs": [],
   "source": []
  },
  {
   "cell_type": "markdown",
   "id": "e03a49c5",
   "metadata": {},
   "source": [
    "<b><font color='white' style='background-color:black'>Ex. 1.3</font> La méthode `format`</b>\n",
    "\n",
    "La classe `str` implémente une autre méthode incontournable pour l'édition de texte: la méthode `format`. Cette méthode permet d'inclure dans la chaîne même des parties variables et de les éditer de façon très précise. Ici quelques exemples :\n",
    "\n",
    "```python\n",
    "prénom = \"Harry\"\n",
    "\"You are a wizard, {0}.\".format(prénom)\n",
    "```\n",
    "\n",
    "produit `\"You are a wizard, Harry.\"` : `\"{0}\"` a été remplacé avec le paramètre numéro `0` de `format` !\n",
    "\n",
    "```python\n",
    "ma_part = 0.66666666\n",
    "\"J'ai mangé à peu près {0:4.2f}% de tarte\".format(ma_part)\n",
    "```\n",
    "\n",
    "produit `\"J'ai mangé à peu près 0.67% de tarte\"` : la spécification `{0:4.2f}` a été interprétée comme \"le paramètre numéro `0` est un `float` (`f`) qui occupera _au plus_ `4` caractères en total et il y aura `2` chiffres après la virgule\"\n",
    "\n",
    "```python\n",
    "nom = \"Skywalker\"\n",
    "prénom = \"Luke\"\n",
    "employeur = \"Resistance\"\n",
    "\"{0:20s} {1:30s} {2:30s}\".format(nom, prénom, employeur)\n",
    "```\n",
    "\n",
    "produit `\"Skywalker            Luke                           Resistance                    \"` : la spécification `{0:20s}` a été interprétée comme \"le paramètre numéro `0` est une chaîne de longueur _maximale_ 20 caractères\". Et en effets après \"Skywalker\" (9 lettres) on a 12 espaces (11 pour rejoindre 20, plus un espace dans la chaîne de caractères, juste avant `{1:30s}`).\n",
    "\n",
    "En général, la spécification du format après les deux points dans les accolades `{}` est comme suit :\n",
    "- caratère \"filler\" \n",
    "- type d'alignement (`<` à gauche, `>` à droite. Default : à gauche pour les `str`, à droite pour les nombres)\n",
    "- (si c'est un nombre) signe qui précède (`+`, `-` ou ` `. Default : chaîne vide `\"\"`)\n",
    "- longueur totale de la chaîne remplacée\n",
    "- (si c'est un flottant) précision (`.X` où `X` est le nombre de chiffres après la virgule)\n",
    "- type (`d` entier, `f` flottant, `s` chaîne,... et bien d'autres)\n",
    "\n",
    "Donc, une spécification `\"{3:X<10.4f}\"` sera interprétée comme \"le paramètre numéro `0` est un flottant aligné à gauche qui occupe 10 caractères, a une précision de 4 chiffres après la virgule et les caractères qui ne sont pas occués seront remplis avec des `\"X\"`\""
   ]
  },
  {
   "cell_type": "markdown",
   "id": "5deabf23",
   "metadata": {},
   "source": [
    "<b><font color='white' style='background-color:orange'>1.3.a</font></b> <font color='white' style='text-shadow: -1px 0 black, 0 1px black, 1px 0 black, 0 -1px black;'>C</font> Essayez de lancer l'expression `\"{3:X<10.4f}\".format(0,0,0,3.14)` et commentez le résultat"
   ]
  },
  {
   "cell_type": "code",
   "execution_count": null,
   "id": "3bf8b8f3",
   "metadata": {},
   "outputs": [],
   "source": [
    "\"{3:X<10.4f}\".format(0,0,0,3.14)"
   ]
  },
  {
   "cell_type": "markdown",
   "id": "b455ce4a",
   "metadata": {},
   "source": [
    "**Comme décrit, le float est aligné à gauche, a une précision de 4 chiffres après la virgule et les caractères qui ne sont pas utilisés sont remplis avec des `\"X\"`**"
   ]
  },
  {
   "cell_type": "markdown",
   "id": "689f9b2a",
   "metadata": {},
   "source": [
    "<b><font color='white' style='background-color:orange'>1.3.b</font></b> Utilisez les variables suivantes pour afficher la phrase `J'ai besoin de 10 oeufs et 3 briques de lait`"
   ]
  },
  {
   "cell_type": "code",
   "execution_count": null,
   "id": "0db4fa78",
   "metadata": {},
   "outputs": [],
   "source": [
    "# Ne pas modifier !\n",
    "oeufs = 10\n",
    "briques = 3\n",
    "\n",
    "# Ici votre réponse\n"
   ]
  },
  {
   "cell_type": "markdown",
   "id": "989b731b",
   "metadata": {},
   "source": [
    "<b><font color='white' style='background-color:orange'>1.3.c</font></b> <font color='white' style='text-shadow: -1px 0 black, 0 1px black, 1px 0 black, 0 -1px black;'>C</font> Utilisez les variables suivantes pour afficher la phrase `Un crayon coûte 0.65683028 euros : le montant pour 19 crayons est donc de 12.48 euros, arrondi aux centimes`"
   ]
  },
  {
   "cell_type": "code",
   "execution_count": null,
   "id": "d6ec9859",
   "metadata": {},
   "outputs": [],
   "source": [
    "# Ne pas modifier !\n",
    "c = 0.65683028\n",
    "crayons = 19\n",
    "\n",
    "# Ici votre réponse\n",
    "print(\"Un crayon coûte {0} euros : le montant pour {1} crayons est donc de {2:5.2f} euros, arrondi aux centimes\".format(c, crayons, c*crayons))"
   ]
  },
  {
   "cell_type": "markdown",
   "id": "e930d682",
   "metadata": {},
   "source": [
    "<b><font color='white' style='background-color:green'>1.3.d</font></b> Utilisez la variable suivante pour afficher la phrase `Votre numéro agent est 007`.\n",
    "Vous devrez aller regarder "
   ]
  },
  {
   "cell_type": "code",
   "execution_count": null,
   "id": "02c708a7",
   "metadata": {},
   "outputs": [],
   "source": [
    "# Ne pas modifier !\n",
    "numéro_agent = 7\n",
    "\n",
    "# Ici votre réponse\n"
   ]
  },
  {
   "cell_type": "markdown",
   "id": "36475d82",
   "metadata": {},
   "source": [
    "<b><font color='white' style='background-color:green'>1.3.e</font></b> <font color='white' style='text-shadow: -1px 0 black, 0 1px black, 1px 0 black, 0 -1px black;'>C</font> Reproduisez exatement ce tableau :\n",
    "```\n",
    "    Nombre      Carré          %\n",
    "         1          1     1.0000\n",
    "         2          4     0.5000\n",
    "         3          9     0.3333\n",
    "         4         16     0.2500\n",
    "         5         25     0.2000\n",
    "         6         36     0.1667\n",
    "         7         49     0.1429\n",
    "         8         64     0.1250\n",
    "         9         81     0.1111\n",
    "        10        100     0.1000\n",
    "```\n",
    "\n",
    "en sachant que chaque variable (nombre ou chaîne) a 10 caractères disponibles. Faites attention à l'alignement et à la précision du float !"
   ]
  },
  {
   "cell_type": "code",
   "execution_count": null,
   "id": "3c646bcb",
   "metadata": {},
   "outputs": [],
   "source": []
  },
  {
   "cell_type": "markdown",
   "id": "b0f0fc16",
   "metadata": {},
   "source": [
    "<h3>2. Fichiers de texte</h3><a class='anchor' id='fichiers'></a>\n",
    "\n",
    "On peut ouvrir un fichier de texte avec la fonction `open`, qui prend une chaîne de caractères correspondante au nom du fichier qu'on veut utiliser et rend un objet qui contient toutes les informations (et le contenu) de ce fichier) :\n",
    "\n",
    "```python\n",
    "texte = open(\"fichier.txt\")  # Ouvre le fichier fichier.txt et le charge dans la variable texte\n",
    "```\n",
    "\n",
    "Attention : normalement, la fonction `open` ouvre un fichier _en lecture_, c'est à dire qu'il sera interdit d'écrire sur ce fichier. Pour modifier ce comportement, il faut utiliser le paramètre optionnel `mode`, qui prend les options suivantes : `\"r\"` (lecture), `\"w\"` (écriture), `\"a\"` (ajouter en bas du fichier).\n",
    "Attention : si vous ouvrez un fichier existant avec l'option `\"w\"`, Python va écraser tout son contenu ! Pour écrire et ne pas perdre le contenu, il faut utiliser l'option `\"a\"`.\n",
    "\n",
    "```python\n",
    "texte_en_écriture = open(\"autre_fichier.txt\", \"w\")    # ouvre le fichier en mode écriture\n",
    "```\n",
    "\n",
    "Comme toute donnée sur machine, les fichiers de texte sont des chaînes binaires qui sont interprétées par le système et/ou Python comme des longues chaînes de caractères. Il y a donc un _encodage_ qui doit être utilisé, et il en existent plusieurs. Parfois, il est donc nécessaire de spécifier le format d'encodage afin que le fichier soit lu correctement. Pour ça, `open` possède le paramètre `encoding` :\n",
    "```python\n",
    "texte = open(\"fichier.txt\", \"r\", encoding='utf-8')   # ouvre le fichier en lecture, avec encodage utf-8\n",
    "```\n",
    "\n",
    "L'objet rendu par la fonction `open` possède des méthodes très utiles :\n",
    "- `read` rend la chaîne de caractères équivalente au fichier entier\n",
    "- `readlines` rend la liste lignes du fichier\n",
    "- (si le fichier est ouvert en mode `\"a\"` ou `\"w\"`) `write` prend une chaîne de caractères et l'écrit dans le fichier\n",
    "- `close` : après avoir utilisé un fichier, toujours se rappeler d'appeler cette fonction pour le fermer, autrement tout son contenu va rester sur la mémoire vive, et risque de ralentir la machine !\n",
    "\n",
    "L'objet rendu par `open` est _itérable_, c'est à dire qu'il peut être utilisé comme séquence dans une boucle `for`, de cette façon :\n",
    "\n",
    "```python\n",
    "f = open(\"fichier.txt\")\n",
    "for ligne in f:\n",
    "    # bla bla...\n",
    "```\n",
    "\n",
    "La variable de boucle `ligne` va ainsi contenir chaque ligne (séparée par `\"\\n\"`) du texte du fichier."
   ]
  },
  {
   "cell_type": "markdown",
   "id": "6a09b0a6",
   "metadata": {},
   "source": [
    "<b><font color='white' style='background-color:black'>Ex. 2.1</font> Lecture de fichiers</b><a class='anchor' id='lecture'></a><br>\n",
    "\n",
    "<b><font color='white' style='background-color:orange'>2.1.a</font></b> <font color='white' style='text-shadow: -1px 0 black, 0 1px black, 1px 0 black, 0 -1px black;'>C</font> Ouvrez le fichier `correspondances.txt` et affichez-en le contenu avec la méthode `read`. Ensuite, fermez le fichier"
   ]
  },
  {
   "cell_type": "code",
   "execution_count": null,
   "id": "a99a6fae",
   "metadata": {},
   "outputs": [],
   "source": [
    "f = open(\"correspondances.txt\")\n",
    "print(f.read())\n",
    "f.close()"
   ]
  },
  {
   "cell_type": "markdown",
   "id": "d52e24e2",
   "metadata": {},
   "source": [
    "<b><font color='white' style='background-color:orange'>2.1.b</font></b> <font color='white' style='text-shadow: -1px 0 black, 0 1px black, 1px 0 black, 0 -1px black;'>C</font> Ouvrez le fichier `correspondances.txt` et affichez-en le contenu, cette fois-ci en utilisant la syntaxe à boucle, et numérotez les lignes. Attention : puisque chaque ligne se termine par `\"\\n\"`, vous ne devrez pas allez à la ligne avec la fonction `print` ! Ensuite, fermez le fichier"
   ]
  },
  {
   "cell_type": "code",
   "execution_count": null,
   "id": "46dc8489",
   "metadata": {},
   "outputs": [],
   "source": [
    "f = open(\"correspondances.txt\")\n",
    "i = 0\n",
    "for ligne in f:\n",
    "    print(i, ligne, end='')\n",
    "    i = i + 1\n",
    "f.close()"
   ]
  },
  {
   "cell_type": "markdown",
   "id": "dd90f478",
   "metadata": {},
   "source": [
    "<b><font color='white' style='background-color:orange'>2.1.c</font></b> Dans les fichiers `Aragon1a.txt` et `Aragon1b.txt` il y a les deux moitiés d'un poème. Ouvrez les fichiers, affichez-les dans le bon ordre, et fermez-les."
   ]
  },
  {
   "cell_type": "code",
   "execution_count": null,
   "id": "160ae502",
   "metadata": {},
   "outputs": [],
   "source": []
  },
  {
   "cell_type": "markdown",
   "id": "2b2d5e96",
   "metadata": {},
   "source": [
    "<b><font color='white' style='background-color:green'>2.1.d</font></b> <font color='white' style='text-shadow: -1px 0 black, 0 1px black, 1px 0 black, 0 -1px black;'>C</font> Répétez l'exercice `2.1.c` avec les fichiers `Aragon1a.txt` et `Aragon1b.txt`. Cette fois, numérotés les lignes, mais n'associez pas de numéros aux lignes vides ! \n",
    "\n",
    "Vous devez obtenir l'affichage suivant (faites attention au formattage) :\n",
    "```\n",
    "0    Les mains d'Elsa\n",
    "     \n",
    "1    Donne-moi tes mains pour l'inquiétude\n",
    "2    Donne-moi tes mains dont j'ai tant rêvé\n",
    "3    Dont j'ai tant rêvé dans ma solitude\n",
    "4    Donne-moi tes mains que je sois sauvé\n",
    "     \n",
    "5    Lorsque je les prends à mon pauvre piège\n",
    "6    De paume et de peur de hâte et d'émoi\n",
    "7    Lorsque je les prends comme une eau de neige\n",
    "8    Qui fond de partout dans mes mains à moi\n",
    "     \n",
    "9    Sauras-tu jamais ce qui me traverse\n",
    "10   Ce qui me bouleverse et qui m'envahit\n",
    "11   Sauras-tu jamais ce qui me transperce\n",
    "12   Ce que j'ai trahi quand j'ai tressailli\n",
    "     \n",
    "13   Ce que dit ainsi le profond langage\n",
    "14   Ce parler muet de sens animaux\n",
    "15   Sans bouche et sans yeux miroir sans image\n",
    "16   Ce frémir d'aimer qui n'a pas de mots\n",
    "     \n",
    "17   Sauras-tu jamais ce que les doigts pensent\n",
    "18   D'une proie entre eux un instant tenue\n",
    "19   Sauras-tu jamais ce que leur silence\n",
    "20   Un éclair aura connu d'inconnu\n",
    "     \n",
    "21   Donne-moi tes mains que mon coeur s'y forme\n",
    "22   S'y taise le monde au moins un moment\n",
    "23   Donne-moi tes mains que mon âme y dorme\n",
    "24   Que mon âme y dorme éternellement.\n",
    "```\n",
    "\n",
    "Indication : une ligne vide est une chaîne qui, une fois enlévés les espaces au début/fin (vous avez vu une méthode qui fait ça !), est égale à `\"\"`... ou bien à `False` !"
   ]
  },
  {
   "cell_type": "code",
   "execution_count": null,
   "id": "349a1815",
   "metadata": {},
   "outputs": [],
   "source": [
    "f = open(\"Aragon1a.txt\")\n",
    "i = 0\n",
    "for ligne in f:\n",
    "    if ligne.strip():\n",
    "        print(\"{0:4s}\".format(str(i)), ligne, end='')\n",
    "        i = i + 1\n",
    "    else:\n",
    "        print(\"    \", ligne, end='')\n",
    "f.close()\n",
    "f = open(\"Aragon1b.txt\")\n",
    "for ligne in f:\n",
    "    if ligne.strip():\n",
    "        print(\"{0:4s}\".format(str(i)), ligne, end='')\n",
    "        i = i + 1\n",
    "    else:\n",
    "        print(\"    \", ligne, end='')\n",
    "f.close()"
   ]
  },
  {
   "cell_type": "markdown",
   "id": "03bd5388",
   "metadata": {},
   "source": [
    "<b><font color='white' style='background-color:green'>2.1.e</font></b> Affichez les longueurs (nombre de caractères, sans les espaces à la fin) de chaque ligne du fichier `Aragon1a.txt`, puis le contenu de la ligne.\n",
    "\n",
    "Pour les lignes vides, afficher la longueur 0.    \n",
    "\n",
    "Vous devez obtenir l'affichage suivant :\n",
    "\n",
    "```\n",
    "16 Les mains d'Elsa\n",
    "0 \n",
    "37 Donne-moi tes mains pour l'inquiétude\n",
    "39 Donne-moi tes mains dont j'ai tant rêvé\n",
    "36 Dont j'ai tant rêvé dans ma solitude\n",
    "37 Donne-moi tes mains que je sois sauvé\n",
    "0 \n",
    "40 Lorsque je les prends à mon pauvre piège\n",
    "37 De paume et de peur de hâte et d'émoi\n",
    "44 Lorsque je les prends comme une eau de neige\n",
    "40 Qui fond de partout dans mes mains à moi\n",
    "0 \n",
    "35 Sauras-tu jamais ce qui me traverse\n",
    "37 Ce qui me bouleverse et qui m'envahit\n",
    "37 Sauras-tu jamais ce qui me transperce\n",
    "39 Ce que j'ai trahi quand j'ai tressailli\n",
    "0 \n",
    "```"
   ]
  },
  {
   "cell_type": "code",
   "execution_count": null,
   "id": "199237b2",
   "metadata": {},
   "outputs": [],
   "source": []
  },
  {
   "cell_type": "markdown",
   "id": "a231311d",
   "metadata": {},
   "source": [
    "<b><font color='white' style='background-color:green'>2.1.f</font></b> <font color='white' style='text-shadow: -1px 0 black, 0 1px black, 1px 0 black, 0 -1px black;'>C</font> Écrire une fonction `plus_longue_ligne` qui prend une chaîne `nom_fichier` avec le nom d'un fichier et affiche uniquement sa ligne la plus longue, précédée de sa longueur. Testez votre fonction avec le fichier `Aragon1a.txt` : vous devez obtenir l'affichage suivant :\n",
    "\n",
    "`44 Lorsque je les prends comme une eau de neige`"
   ]
  },
  {
   "cell_type": "code",
   "execution_count": null,
   "id": "4658f880",
   "metadata": {},
   "outputs": [],
   "source": [
    "def plus_longue_ligne(nom_fichier):\n",
    "    f = open(nom_fichier)\n",
    "    l = \"\"\n",
    "    lenl = 0\n",
    "    for ligne in f:\n",
    "        if len(ligne) > lenl:\n",
    "            l = ligne.strip()\n",
    "            lenl = len(ligne.strip())\n",
    "    print(lenl, l, end='')\n",
    "f.close()"
   ]
  },
  {
   "cell_type": "code",
   "execution_count": null,
   "id": "7a2aff77",
   "metadata": {},
   "outputs": [],
   "source": [
    "plus_longue_ligne(\"Aragon1a.txt\")"
   ]
  },
  {
   "cell_type": "markdown",
   "id": "81982ec4",
   "metadata": {},
   "source": [
    "<b><font color='white' style='background-color:black'>Ex. 2.2</font> Ecriture de fichiers</b><a class='anchor' id='écriture'></a><br>\n",
    "\n",
    "<b><font color='white' style='background-color:orange'>2.2.a</font></b> <font color='white' style='text-shadow: -1px 0 black, 0 1px black, 1px 0 black, 0 -1px black;'>C</font> Vous avez ces lignes de code : répondez aux questions\n",
    "\n",
    "```python\n",
    "f_out = open('bonjour.txt', 'w', encoding='utf-8')\n",
    "\n",
    "f_out.write('Bonjour\\n')\n",
    "f_out.write('Ce fichier a été écrit avec python,\\navec la commande write\\n')\n",
    "f_out.write('merci pour votre attention.')\n",
    "````\n",
    "\n",
    "Quel est le nom du fichier écrit ? Comme indique-t-on qu'on veut *écrire* dans le fichier ?"
   ]
  },
  {
   "cell_type": "markdown",
   "id": "7c33fdbc",
   "metadata": {},
   "source": [
    "**Le nom du fichier écrit est `\"bonjour.txt\"`. On indique qu'on veut écrire dans le fichier avec le paramètre `'w'`**"
   ]
  },
  {
   "cell_type": "markdown",
   "id": "bf25d0c2",
   "metadata": {},
   "source": [
    "<b><font color='white' style='background-color:orange'>2.2.b</font></b> Quel est le nombre de caractères de la chaîne `'merci pour votre attention.'` ? Utiliser du code python pour répondre à la question."
   ]
  },
  {
   "cell_type": "code",
   "execution_count": null,
   "id": "ad2fd1d3",
   "metadata": {},
   "outputs": [],
   "source": []
  },
  {
   "cell_type": "markdown",
   "id": "eda3757a",
   "metadata": {},
   "source": [
    "<b><font color='white' style='background-color:orange'>2.2.c</font></b> <font color='white' style='text-shadow: -1px 0 black, 0 1px black, 1px 0 black, 0 -1px black;'>C</font> Exécutez le code de `2.2.a` dans la boîte ci-dessous : est-ce qu'il renvoie une valeur ? Pourquoi ?"
   ]
  },
  {
   "cell_type": "code",
   "execution_count": null,
   "id": "79a94383",
   "metadata": {},
   "outputs": [],
   "source": [
    "f_out = open('bonjour.txt', 'w', encoding='utf-8')\n",
    "\n",
    "f_out.write('Bonjour\\n')\n",
    "f_out.write('Ce fichier a été écrit avec python,\\navec la commande write\\n')\n",
    "f_out.write('merci pour votre attention.')"
   ]
  },
  {
   "cell_type": "markdown",
   "id": "696a5759",
   "metadata": {},
   "source": [
    "**Il renvoie 27, le nombre de caractères de la dernière chaîne écrite avec `write`. En effet, la méthode `write` renvoie le nombre de caractères écrits.**"
   ]
  },
  {
   "cell_type": "markdown",
   "id": "ea112c78",
   "metadata": {},
   "source": [
    "<b><font color='white' style='background-color:orange'>2.2.d</font></b> Ouvrez le fichier écrit en `2.2.c` avec votre système d'exploitation :\n",
    "* cherchez dans le répertoire du TP le fichier que vous avez écrit ;\n",
    "* ouvrez-le directement en cliquant / double-cliquant sur le fichier : vous devriez alors lancer le bloc-notes sous Windows, Text.app sous chromeOS, TextEdit sous Mac. Ces programmes sont des *éditeurs de textes*.\n",
    "\n",
    "Quel est le contenu de ce fichier ? Pourquoi ?"
   ]
  },
  {
   "cell_type": "markdown",
   "id": "77dc6ff3",
   "metadata": {},
   "source": [
    "**Votre réponse ici**"
   ]
  },
  {
   "cell_type": "markdown",
   "id": "57527daa",
   "metadata": {},
   "source": [
    "<b><font color='white' style='background-color:orange'>2.2.d-bis</font></b> Fermez le fichier `bonjour.txt` dans votre éditeur de textes et ensuite exécutez le code ci-dessous :\n",
    "\n",
    "```python\n",
    "f_out.close()\n",
    "```\n",
    "\n",
    "Enfin, ouvrez à nouveau le fichier `bonjour.txt` avec votre éditeur de textes. Quel est le contenu du fichier `bonjour.txt` désormais ?"
   ]
  },
  {
   "cell_type": "markdown",
   "id": "ca05c8d3",
   "metadata": {},
   "source": [
    "**Votre réponse ici**"
   ]
  },
  {
   "cell_type": "markdown",
   "id": "263ce26c",
   "metadata": {},
   "source": [
    "<b><font color='white' style='background-color:orange'>2.2.d-bis</font></b> <font color='white' style='text-shadow: -1px 0 black, 0 1px black, 1px 0 black, 0 -1px black;'>C</font> Exécutez le code ci-dessous :\n",
    "\n",
    "```python\n",
    "f_out = open('bonjour.txt', 'w', encoding='utf-8')\n",
    "\n",
    "f_out.write('Je remplace\\ntout!\\n')\n",
    "\n",
    "f_out.close()\n",
    "```\n",
    "\n",
    "Ouvrez le fichier `bonjour.txt` avec votre éditeur de textes. Quel est le contenu du fichier `bonjour.txt` désormais ? Pourquoi ?"
   ]
  },
  {
   "cell_type": "code",
   "execution_count": null,
   "id": "c4410ff3",
   "metadata": {},
   "outputs": [],
   "source": [
    "f_out = open('bonjour.txt', 'w', encoding='utf-8')\n",
    "\n",
    "f_out.write('Je remplace\\ntout!\\n')\n",
    "\n",
    "f_out.close()"
   ]
  },
  {
   "cell_type": "markdown",
   "id": "6a635138",
   "metadata": {},
   "source": [
    "**C'est**\n",
    "\n",
    "```\n",
    "Je remplace\n",
    "tout!\n",
    "```\n",
    "\n",
    "**car on l'a ouvert à nouveau avec `'w'`**"
   ]
  },
  {
   "cell_type": "markdown",
   "id": "e6239ff6",
   "metadata": {},
   "source": [
    "<b><font color='white' style='background-color:green'>2.2.e</font></b>  <font color='white' style='text-shadow: -1px 0 black, 0 1px black, 1px 0 black, 0 -1px black;'>C</font> Créez un fichier `fichier.txt`, de 20 lignes. Chaque ligne a un contenu comme suit :\n",
    "```\n",
    "Voici la ligne 1 du fichier.\n",
    "Voici la ligne 2 du fichier.\n",
    "Voici la ligne 3 du fichier.\n",
    "...\n",
    "Voici la ligne 20 du fichier.\n",
    "```"
   ]
  },
  {
   "cell_type": "code",
   "execution_count": null,
   "id": "3446541a",
   "metadata": {},
   "outputs": [],
   "source": [
    "f = open(\"fichier.txt\", 'w')\n",
    "for i in range(1, 21):\n",
    "    f.write(\"Voici la ligne {0} du fichier\\n\".format(i))\n",
    "f.close()"
   ]
  },
  {
   "cell_type": "markdown",
   "id": "d694467d",
   "metadata": {},
   "source": [
    "<b><font color='white' style='background-color:green'>2.2.f</font></b> Créez 10 fichiers : `fichier01.txt`, `fichier02.txt`, ..., `fichier10.txt`. Chaque fichier a 20 lignes, `fichier01.txt` contient\n",
    "```\n",
    "Voici la ligne 1 du fichier 1.\n",
    "Voici la ligne 2 du fichier 1.\n",
    "...\n",
    "Voici la ligne 20 du fichier 1.\n",
    "```\n",
    "\n",
    "`fichier02.txt` contient\n",
    "```\n",
    "Voici la ligne 1 du fichier 2.\n",
    "Voici la ligne 2 du fichier 2.\n",
    "...\n",
    "Voici la ligne 20 du fichier 2.\n",
    "```\n",
    "et ainsi de suite."
   ]
  },
  {
   "cell_type": "code",
   "execution_count": null,
   "id": "6a101844",
   "metadata": {},
   "outputs": [],
   "source": []
  },
  {
   "cell_type": "markdown",
   "id": "28937733",
   "metadata": {},
   "source": [
    "<b><font color='white' style='background-color:black'>Ex. 2.3</font> Lecture et écriture de tableaux</b><a class='anchor' id='tableaux'></a><br>\n",
    "\n",
    "Ici on traite encore de fichiers de texte (donc pas de documents Excel on Numbers), mais formattés comme un tableau. Au fait, l'un des formats universalement compatibles avec les logiciels tableurs est un format texte qui s'appelle csv (\"comma-separated values\", valeurs séparées de virgules). On essayera de lire et d'écrire un tableau \"agréable à l'oeil\" et un facilement interprétable par un logiciel tableur."
   ]
  },
  {
   "cell_type": "markdown",
   "id": "06587834",
   "metadata": {},
   "source": [
    "<b><font color='white' style='background-color:orange'>2.3.a</font></b> <font color='white' style='text-shadow: -1px 0 black, 0 1px black, 1px 0 black, 0 -1px black;'>C</font> Affichez le contenu du fichier `heart.txt`"
   ]
  },
  {
   "cell_type": "code",
   "execution_count": null,
   "id": "3189f69b",
   "metadata": {},
   "outputs": [],
   "source": [
    "f = open(\"heart.txt\")\n",
    "print(f.read())\n",
    "f.close()"
   ]
  },
  {
   "cell_type": "markdown",
   "id": "b98eafb2",
   "metadata": {},
   "source": [
    "<b><font color='white' style='background-color:green'>2.3.b</font></b> Créez une fonction `extraire` qui prend une chaîne de caractères avec le nom d'un fichier et rend une liste où chaque élément est une liste à sa fois, et contient les infos d'une ligne du tableau. Par exemple, si les premières trois lignes du tableau étaient\n",
    "\n",
    "```\n",
    "Age     Sex    Disease\n",
    " 41       M          1\n",
    " 38       F          0\n",
    "```\n",
    "\n",
    "Le début de la liste serait\n",
    "\n",
    "```python\n",
    "[[\"Age\", \"Sex\", \"Disease\"], [\"41\", \"M\", \"1\"], [\"38\", \"F\", \"0\"], ...]\n",
    "```\n",
    "\n",
    "Indication : pour séparer les données d'une ligne du tableau, utilisez la méthode `split` qui rend la liste des mots dans une chaîne de caractères"
   ]
  },
  {
   "cell_type": "code",
   "execution_count": null,
   "id": "3ed7cf87",
   "metadata": {},
   "outputs": [],
   "source": []
  },
  {
   "cell_type": "code",
   "execution_count": null,
   "id": "7d7b776c",
   "metadata": {},
   "outputs": [],
   "source": []
  },
  {
   "cell_type": "markdown",
   "id": "c1b9de2f",
   "metadata": {},
   "source": [
    "<b><font color='white' style='background-color:green'>2.3.c</font></b> <font color='white' style='text-shadow: -1px 0 black, 0 1px black, 1px 0 black, 0 -1px black;'>C</font> En utilisant la fonction `extraire` que vous avez créée en `2.3.b`, transformez le contenu du fichier `heart.txt` en liste, et pour chaque ligne affichez le contenu de la première, troisième et douxième colonne comme de suite\n",
    "\n",
    "```\n",
    "Age ChestPainType HeartDisease\n",
    " 40           ATA            0\n",
    " 49           NAP            1\n",
    " 37           ATA            0\n",
    "...\n",
    "```"
   ]
  },
  {
   "cell_type": "code",
   "execution_count": null,
   "id": "7b5cbe1b",
   "metadata": {},
   "outputs": [],
   "source": [
    "t = extraire(\"heart.txt\")\n",
    "for l in t:\n",
    "    print(\"{0:>3s} {1:>13s} {2:>12s}\".format(l[0], l[2], l[11]))"
   ]
  },
  {
   "cell_type": "markdown",
   "id": "0f007090",
   "metadata": {},
   "source": [
    "<b><font color='white' style='background-color:green'>2.3.c-bis</font></b> Cette fois, au lieu d'afficher, écrivez le résultat sur le fichier `my_heart.txt`"
   ]
  },
  {
   "cell_type": "code",
   "execution_count": null,
   "id": "7ad0cc24",
   "metadata": {},
   "outputs": [],
   "source": []
  },
  {
   "cell_type": "markdown",
   "id": "0586de21",
   "metadata": {},
   "source": [
    "<b><font color='white' style='background-color:green'>2.3.d</font></b> <font color='white' style='text-shadow: -1px 0 black, 0 1px black, 1px 0 black, 0 -1px black;'>C</font> Affichez les premières 10 lignes de `heart_incomplete.txt`. Que remarquez-vous à la ligne 7 ?"
   ]
  },
  {
   "cell_type": "code",
   "execution_count": null,
   "id": "9c5c75de",
   "metadata": {},
   "outputs": [],
   "source": [
    "f = open(\"heart_incomplete.txt\")\n",
    "i = 0\n",
    "for line in f.readlines()[:10]:\n",
    "    print(line.strip())"
   ]
  },
  {
   "cell_type": "markdown",
   "id": "fcabe620",
   "metadata": {},
   "source": [
    "**Il y a une donnée manquante**"
   ]
  },
  {
   "cell_type": "markdown",
   "id": "1c5ab42c",
   "metadata": {},
   "source": [
    "<b><font color='white' style='background-color:green'>2.3.e</font></b> Exécutez le code que vous avez écrit en `2.3.c`, cette fois-ci en utilisant le fichier `heart_incomplete.txt`. Que se passe-t-il ? Comparez avec `2.3.d`"
   ]
  },
  {
   "cell_type": "code",
   "execution_count": null,
   "id": "166ffc3e",
   "metadata": {},
   "outputs": [],
   "source": []
  },
  {
   "cell_type": "markdown",
   "id": "e4296418",
   "metadata": {},
   "source": [
    "La ligne 7 ne contient pas 12 champs, l'élément `11` n'est pas défini"
   ]
  },
  {
   "cell_type": "markdown",
   "id": "42b4bbc8",
   "metadata": {},
   "source": [
    "<b><font color='white' style='background-color:green'>2.3.f</font></b> <font color='white' style='text-shadow: -1px 0 black, 0 1px black, 1px 0 black, 0 -1px black;'>C</font> Le précédent tableau \"agréable à l'oeil\" cache une difficulté : si on regarde ligne par ligne, il n'est pas facile de savoir s'il manquent des données. L'ordinateur ne comprend pas si les espaces ont été mis pour mieux ordonner les colonnes ou parce qu'il manque quelque chose. Le format `csv` (_comma-separated values_) et son proche `tsv` (_tab-separated values_) cherchent à résoudre ce problème, en sacrifiant un peu la clarté visuelle. \n",
    "\n",
    "Affichez les 10 premières lignes du fichier `heart_incomplete.csv` et comparez-les aux lignes obtenues en `2.3.d`. Mis à côté la différence de format, remarquez-vous quelque différence ?"
   ]
  },
  {
   "cell_type": "code",
   "execution_count": null,
   "id": "296dd55a",
   "metadata": {},
   "outputs": [],
   "source": [
    "f = open(\"heart_incomplete.csv\")\n",
    "i = 0\n",
    "for line in f.readlines()[:10]:\n",
    "    print(line.strip())"
   ]
  },
  {
   "cell_type": "markdown",
   "id": "a942e548",
   "metadata": {},
   "source": [
    "**La ligne 7 a une double virgule : maintenant on peut voir clairement quels champs sont vides !**"
   ]
  },
  {
   "cell_type": "markdown",
   "id": "c2621b08",
   "metadata": {},
   "source": [
    "<b><font color='white' style='background-color:green'>2.3.g</font></b> <font color='white' style='text-shadow: -1px 0 black, 0 1px black, 1px 0 black, 0 -1px black;'>C</font> A partir de la fonction `extraire` que vous avez créée en `2.3.b`, créez une fonction `extraire_csv` qui fait la même chose mais avec un fichier `csv`. Ensuite, appliquez-la au fichier `heart_incomplete.csv` et affichez encore la première, troisième et douzième colonne : que se passe-t-il maintenant ?"
   ]
  },
  {
   "cell_type": "code",
   "execution_count": null,
   "id": "f1f477bd",
   "metadata": {},
   "outputs": [],
   "source": [
    "def extraire_csv(fn):\n",
    "    table = []\n",
    "    f = open(fn)\n",
    "    for line in f:\n",
    "        table.append(line.split(','))\n",
    "    f.close\n",
    "    return table"
   ]
  },
  {
   "cell_type": "code",
   "execution_count": null,
   "id": "9acd5f8e",
   "metadata": {},
   "outputs": [],
   "source": [
    "t = extraire_csv(\"heart_incomplete.csv\")\n",
    "for l in t:\n",
    "    print(l[0], l[2], l[11], end='')"
   ]
  },
  {
   "cell_type": "markdown",
   "id": "af101d4d",
   "metadata": {},
   "source": [
    "<h3>3. Arboréscences</h3><a class='anchor' id='arboréscences'></a>\n",
    "\n",
    "Jusqu'à ce moment là on n'a travaillé qu'avec des fichiers que vous aviez placés auparavant dans le même dossier que ce notebook. Pourtant, vous rencontrerez des situations dans lesquelles vous aurez besoin d'organiser vos fichiers en des différents endroits : il faut donc une méthode pour pouvoir se déplacer parmi les répertoires, y créer, ouvrir, lire, copier, effacer des fichiers, ainsi que créer des nouveaux répertoires.\n",
    "\n",
    "Tout d'abord, il faut savoir comment les répertoires sont structurés dans un ordinateur. L'ordinateur utilise un _système de fichiers_ : une arboréscence de répertoires placés hiérarchiquement les uns dans les autres. Afin de spécifier l'emplacement d'un fichier ou d'un répertoire dans le système de fichiers, on utilise un _cheminement_ :\n",
    "- _absolu_ s'il part de la racine `/usr/Edoardo/Documents/cats/songs/nyan.mp4`\n",
    "- _rélatif_ s'il part de toute autre part `../../cats/songs/nyan.mp4`\n",
    "\n",
    "Python implémente des fonctions qui aident à travailler avec l'arboréscence :\n",
    "- `os.getcwd()` (***get*** ***c***urrent ***w***orking ***d***irectory) : pour savoir où on est\n",
    "- `os.listdir()` : pour une liste des contenus d'un répertoire\n",
    "- `os.remove('fichier.txt')` : pour effacer un fichier\n",
    "- `os.mkdir('mon_répertoire')` (**m**a**k**e **dir**ectory) : pour créer un nouveau répertoire\n",
    "- `os.chdir('mon_répertoire')` (**ch**ange **dir**ectory) : pour se déplacer dans un autre répertoire\n",
    "- `os.rmdir('mon_répertoire')` (**r**e**m**ove **dir**ectory) : pour effacer un répertoire (vide)"
   ]
  },
  {
   "cell_type": "markdown",
   "id": "520f4b3e",
   "metadata": {},
   "source": [
    "<b><font color='white' style='background-color:black'>Ex. 3.1</font> Chéminements</b><a class='anchor' id='chéminements'></a><br>\n",
    "\n",
    "On va s'entraîner sur les deux arboréscences en figure.\n",
    "\n",
    "![](arb_unix.jpeg)\n",
    "\n",
    "![](arb_win.jpeg)"
   ]
  },
  {
   "cell_type": "markdown",
   "id": "cd2966f1",
   "metadata": {},
   "source": [
    "<b><font color='white' style='background-color:orange'>3.1.a</font></b> <font color='white' style='text-shadow: -1px 0 black, 0 1px black, 1px 0 black, 0 -1px black;'>C</font> Dans l'arboréscence Unix, trouvez :\n",
    "- le répertoire qui contient le fichier `bzip2`\n",
    "- le répertoire qui contient plus de fichiers\n",
    "- le répertoire qui, dans ses sous-répertoires, contient les fichiers `fluff.jpeg`, `impots_2023.pdf` mais pas le dossier `Guest/`"
   ]
  },
  {
   "cell_type": "markdown",
   "id": "fae72384",
   "metadata": {},
   "source": [
    "* **`/opt/local/bin/`**\n",
    "* **`/Users/sarti/Desktop/my_cat/`**\n",
    "* **`/Users/sarti/`**"
   ]
  },
  {
   "cell_type": "markdown",
   "id": "00c0108a",
   "metadata": {},
   "source": [
    "<b><font color='white' style='background-color:orange'>3.1.b</font></b> Dans l'arboréscence Unix, on se trouve dans le répertoire `/Users/sarti/` : écrivez le chéminement absolu et rélatif qui identifie le fichier `fluff.jpeg`"
   ]
  },
  {
   "cell_type": "markdown",
   "id": "de03a368",
   "metadata": {},
   "source": [
    "**Ici votre réponse**"
   ]
  },
  {
   "cell_type": "markdown",
   "id": "29516353",
   "metadata": {},
   "source": [
    "**Ici votre réponse**"
   ]
  },
  {
   "cell_type": "markdown",
   "id": "fec15687",
   "metadata": {},
   "source": [
    "<b><font color='white' style='background-color:green'>3.1.c</font></b> <font color='white' style='text-shadow: -1px 0 black, 0 1px black, 1px 0 black, 0 -1px black;'>C</font> Dans l'arboréscence Unix, on se trouve dans le répertoire `/Users/Guest/` et on veut lancer l'exécutable `bzip2` sur le fichier `nyan.mp3`. Ecrivez la ligne de commande qui vous permet de le faire. \n",
    "(l'exécutable `bzip2` prend en argument un fichier et rend le fichier comprimé, en le plaçant dans le même répertoire que le fichier original et en rajoutant à son nom l'extension `bz2`)."
   ]
  },
  {
   "cell_type": "markdown",
   "id": "82b893bf",
   "metadata": {},
   "source": [
    "**`../../opt/local/bin/bzip2 ../sarti/Desktop/my_cat/nyan.mp3`**"
   ]
  },
  {
   "cell_type": "markdown",
   "id": "233190e9",
   "metadata": {},
   "source": [
    "<b><font color='white' style='background-color:green'>3.1.d</font></b> Refaites ces trois derniers exercices en vous basant sur l'arboréscence Windows."
   ]
  },
  {
   "cell_type": "markdown",
   "id": "d7eefdcc",
   "metadata": {},
   "source": [
    "**Ici votre réponse**"
   ]
  },
  {
   "cell_type": "markdown",
   "id": "e139ffe1",
   "metadata": {},
   "source": [
    "**Ici votre réponse**"
   ]
  },
  {
   "cell_type": "markdown",
   "id": "5af20ba6",
   "metadata": {},
   "source": [
    "**Ici votre réponse**"
   ]
  },
  {
   "cell_type": "markdown",
   "id": "a8565aae",
   "metadata": {},
   "source": [
    "<b><font color='white' style='background-color:black'>Ex. 3.2</font> Opérations sur l'arboréscence</b><a class='anchor' id='oparb'></a><br>\n",
    "\n",
    "Les exercices suivants sont à faire strictement dand l'ordre"
   ]
  },
  {
   "cell_type": "markdown",
   "id": "10565993",
   "metadata": {},
   "source": [
    "<b><font color='white' style='background-color:orange'>3.2.a</font></b> <font color='white' style='text-shadow: -1px 0 black, 0 1px black, 1px 0 black, 0 -1px black;'>C</font> Dans votre répertoire courant, créez un répertoire `manips`. Ensuite, listez le contenu du dossier courant pour bien vérifier que vous avez créé le nouveau répertoire."
   ]
  },
  {
   "cell_type": "code",
   "execution_count": null,
   "id": "27eed4a2",
   "metadata": {},
   "outputs": [],
   "source": [
    "import os\n",
    "\n",
    "os.mkdir(\"manips\")\n",
    "os.listdir()"
   ]
  },
  {
   "cell_type": "markdown",
   "id": "bf10f8db",
   "metadata": {},
   "source": [
    "<b><font color='white' style='background-color:orange'>3.2.b</font></b> Changez de répertoire et mettez-vous dans le répertoire que vous venez de créer. Ensuite, vérifiez que vous êtes bien dans le bon répertoire."
   ]
  },
  {
   "cell_type": "code",
   "execution_count": null,
   "id": "86169301",
   "metadata": {},
   "outputs": [],
   "source": []
  },
  {
   "cell_type": "markdown",
   "id": "29b8a41c",
   "metadata": {},
   "source": [
    "<b><font color='white' style='background-color:green'>3.2.c</font></b> <font color='white' style='text-shadow: -1px 0 black, 0 1px black, 1px 0 black, 0 -1px black;'>C</font> A l'aide d'une boucle `for`, créez 30 répertoires nommés `sous_dir_XX` où `XX` est remplacé par un entier de `1` à `30`. Les entiers avec une seule chiffre seront précédés par un `0`. Découvrez comment faire en regardant la documentation de la méthode `format`.\n",
    "**Astuce :** avant de rajouter la commande pour créer les répertoires, exécutez en n'affichant que leurs noms !"
   ]
  },
  {
   "cell_type": "code",
   "execution_count": null,
   "id": "db521e52",
   "metadata": {},
   "outputs": [],
   "source": [
    "for i in range(1,31):\n",
    "    #print(\"sous_dir_{0:02d}\".format(i))\n",
    "    os.mkdir(\"sous_dir_{0:02d}\".format(i))"
   ]
  },
  {
   "cell_type": "markdown",
   "id": "4e583c0c",
   "metadata": {},
   "source": [
    "<b><font color='white' style='background-color:green'>3.2.d</font></b> Dans chacun des 30 répertoires, créez deux fichiers nommés `data_XX_1.txt` et `data_XX_2.txt`, où `XX` est le numéro du répertoire. Les deux fichiers doivent contenir 50 lignes chacun, avec 50 flottant aléatoires de 0 à 10"
   ]
  },
  {
   "cell_type": "code",
   "execution_count": null,
   "id": "9631e9ae",
   "metadata": {},
   "outputs": [],
   "source": []
  },
  {
   "cell_type": "markdown",
   "id": "42acf3bb",
   "metadata": {},
   "source": [
    "<b><font color='white' style='background-color:green'>3.2.d</font></b> <font color='white' style='text-shadow: -1px 0 black, 0 1px black, 1px 0 black, 0 -1px black;'>C</font> Lisez tous les fichiers que vous avez créés et calculez la moyenne totale des nombre y contenus."
   ]
  },
  {
   "cell_type": "code",
   "execution_count": null,
   "id": "f2088174",
   "metadata": {},
   "outputs": [],
   "source": [
    "somme = 0\n",
    "c = 0\n",
    "for i in range(1,31):\n",
    "    rep = \"sous_dir_{0:02d}/\".format(i)\n",
    "    fn1 = rep + \"data_{0:02d}_1.txt\".format(i)\n",
    "    fn2 = rep + \"data_{0:02d}_2.txt\".format(i)\n",
    "    f1 = open(fn1)\n",
    "    for ligne in f1:\n",
    "        somme = somme + float(ligne.strip())\n",
    "        c = c + 1\n",
    "    f1.close()\n",
    "    f2 = open(fn2)\n",
    "    for ligne in f2:\n",
    "        somme = somme + float(ligne.strip())\n",
    "        c = c + 1\n",
    "    f2.close() \n",
    "print(somme/c)"
   ]
  }
 ],
 "metadata": {
  "kernelspec": {
   "display_name": "Python 3 (ipykernel)",
   "language": "python",
   "name": "python3"
  },
  "language_info": {
   "codemirror_mode": {
    "name": "ipython",
    "version": 3
   },
   "file_extension": ".py",
   "mimetype": "text/x-python",
   "name": "python",
   "nbconvert_exporter": "python",
   "pygments_lexer": "ipython3",
   "version": "3.11.6"
  }
 },
 "nbformat": 4,
 "nbformat_minor": 5
}
