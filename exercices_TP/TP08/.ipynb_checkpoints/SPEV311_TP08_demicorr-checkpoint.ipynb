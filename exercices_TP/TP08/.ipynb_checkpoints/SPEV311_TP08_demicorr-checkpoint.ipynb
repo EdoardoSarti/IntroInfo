{
 "cells": [
  {
   "cell_type": "markdown",
   "id": "437a11d0",
   "metadata": {},
   "source": [
    "<h1><center>SPEV311 — Introduction à l'Informatique — TP 08</center><br>\n",
    "<center>Ensembles, Dictionnaires</center></h1>"
   ]
  },
  {
   "cell_type": "markdown",
   "id": "c3a9453e",
   "metadata": {},
   "source": [
    "<h3>Auto-évaluation</h3>\n",
    "\n",
    "<div> Les exercices se divisent en trois niveaux d'auto-évaluation:\n",
    "<ul>\n",
    "    <li><h3><font color='white' style='background-color:orange'>Fondamentaux</font></h3> Pour réviser les notions apprises en cours. Il faut tous les savoir résoudre pour avoir la moyenne.</li>\n",
    "    <li><h3><font color='white' style='background-color:green'>Intermédiaires</font></h3> Pour vous aider à raisonner et rentrer au coeur des sujets. Si vous saurez tous les résoudre, vous aurez un bon niveau de préparation !</li>\n",
    "    <li><h3><font color='white' style='background-color:blue'>Avancés</font></h3> Défis pour vous entraîner à l'examen final... et aller plus loin !</li>\n",
    "</ul>\n",
    "</div>"
   ]
  },
  {
   "cell_type": "markdown",
   "id": "21135968",
   "metadata": {},
   "source": [
    "Les exercices avec un <font color='white' style='text-shadow: -1px 0 black, 0 1px black, 1px 0 black, 0 -1px black;'>C</font> sont corrigés : vous trouverez un notebook avec la correction de ces exercices dans le même dossier où vous avez trouvé celui-ci."
   ]
  },
  {
   "cell_type": "markdown",
   "id": "c1b5b9b0",
   "metadata": {},
   "source": [
    "### <font color='black'>Table des matières<font><a class='anchor' id='top'></a>\n",
    "1. [Ensembles](#ensembles)<br>\n",
    "    1.1 [Premiers pas](#ens1)<br>\n",
    "    1.2 [Opérations sur les ensembles](#opens)<br>\n",
    "    1.3 [Ensembles et sous-ensembles](#sousens)<br>\n",
    "2. [Dictionnaires](#dictionnaires)<br>\n",
    "    2.1 [Premiers pas](#dict1)<br>\n",
    "    2.2 [Dictionnaires et structures de données](#dict2)<br>"
   ]
  },
  {
   "cell_type": "markdown",
   "id": "45201be3",
   "metadata": {},
   "source": [
    "<h3>1. Ensembles</h3><a class='anchor' id='ensembles'></a>\n",
    "\n",
    "Les ensembles sont des structures de données _non ordonnées_ ou chaque élément se répète au plus une fois. C'est pourtant un type _itérable_, qui donc peut faire l'objet d'une boucle `for`. \n",
    "\n",
    "Un ensemble **vide** se déclare comme \n",
    "\n",
    "```python\n",
    "ens_vide = set()   # Ensemble vide affecté dans une variable ens_vide\n",
    "```\n",
    "\n",
    "alors que l'**initialisation** d'un ensemble et de ses éléments peut se faire de cette façon :\n",
    "\n",
    "```python\n",
    "ens = {1, \"James Bond\", False, 4.5}   # Ensemble non vide affecté dans une variable ens\n",
    "```\n",
    "\n",
    "Attention donc : `{}` n'est pas l'ensemble vide !\n",
    "\n",
    "N'oubliez pas qu'on peut aussi utiliser les **changements de type** pour créer des ensembles à partir d'une séquence (uplet, liste ou chaîne que soit), et viceversa :\n",
    "\n",
    "```python\n",
    "a = set([1, 3, 4, 1, 1, 4])     # a contiendra {1, 3, 4}\n",
    "b = set(\"yabadabadou\")          # b contiendra {\"a\", \"b\", \"d\", \"o\", \"u\", \"y\"}\n",
    "c = tuple({False, True, 1})      # c contiendra un 3-uplet avec False, True et 1... dans un ordre aléatoire !\n",
    "```\n",
    "\n",
    "Pour **rajouter** un élément à la fois (comme avec `append` pour les listes), on peut utiliser la méthode\n",
    "```python\n",
    "ens_vide.add(\"42\")\n",
    "```\n",
    "\n",
    "Pour **vérifier si un élément fait partie** d'un ensemble, on peut utiliser l'opérateur `in` vu pour les séquences :\n",
    "```python\n",
    "\"James Bond\" in ens      # rend True\n",
    "```\n",
    "\n",
    "On peut aussi **itérer** sur les éléments d'un ensemble, mais attention : l'ordre d'itération sera aléatoire !\n",
    "\n",
    "Pour **virer** un élément à la fois, on peut utiliser les méthodes `remove` ou `discard`. La seule différence c'est que, si avec `remove` on cherche à virer un élément qui n'est pas là, la méthode donnera une erreur et fera terminer l'exécution, alors que `discard` ne le fera pas et continuera avec l'exécution.\n",
    "```python\n",
    "ens.discard(4.5)\n",
    "ens.discard(\"Goldrake\")   # Il ne le trouve pas, et continue l'exécution\n",
    "ens.remove(1)\n",
    "ens.remove(1000)    # Il ne le trouve pas : Erreur !\n",
    "```\n",
    "\n",
    "Enfin, des **opérations** sont définies sur les ensembles : \n",
    "- Union : si `a` et `b` contiennent deux ensembles, `a | b` produira un ensemble contenant les éléments des deux ensembles (on gardera une seule copie de ceux qui se répètent) ;\n",
    "- Intersection : si `a` et `b` contiennent deux ensembles, `a & b` produira un ensemble ne contenant que les éléments qui sont communs aux deux ensembles (toujours une copie par élément) ;\n",
    "- Soustraction : si `a` et `b` sont deux ensembles, `a - b` contiendra tous les éléments de `a` qui ne sont pas dans `b`. Attention : `a - b` et `b - a` sont donc différents !"
   ]
  },
  {
   "cell_type": "markdown",
   "id": "e22835c2",
   "metadata": {},
   "source": [
    "<b><font color='white' style='background-color:black'>Ex. 1.1</font> Premiers pas avec les ensembles</b><a class='anchor' id='ens1'></a><br>\n",
    "Ici on va se concentrer sur l'initialisation et l'édition des ensembles.<br>\n",
    "\n",
    "<b><font color='white' style='background-color:orange'>1.1.a</font></b> <font color='white' style='text-shadow: -1px 0 black, 0 1px black, 1px 0 black, 0 -1px black;'>C</font> Créez un ensemble vide, ensuite rajoutez-en les résultats de 6 lancers d'un dé à 6 faces (à l'aide de la fonction `randint` de la bibliothèque `random`) et affichez l'ensemble obtenu. Combien d'éléments vous vous attendez qu'il contienne ? "
   ]
  },
  {
   "cell_type": "markdown",
   "id": "dffe34c6",
   "metadata": {},
   "source": [
    "Il contiendra un nombre d'éléments compris entre 1 et 6 (inclus)"
   ]
  },
  {
   "cell_type": "code",
   "execution_count": null,
   "id": "3577b990",
   "metadata": {},
   "outputs": [],
   "source": [
    "from random import randint\n",
    "\n",
    "s = set()\n",
    "for i in range(6):\n",
    "    s.add(randint(1,6))\n",
    "print(s)"
   ]
  },
  {
   "cell_type": "markdown",
   "id": "a7df8787",
   "metadata": {},
   "source": [
    "<b><font color='white' style='background-color:orange'>1.1.b</font></b> Combien de mots différents y a-t-il dans la phrase : \"Si mon tonton tond ton tonton, ton tonton sera tondu\" ? Calculez-le à l'aide d'un ensemble."
   ]
  },
  {
   "cell_type": "code",
   "execution_count": null,
   "id": "623536f0",
   "metadata": {},
   "outputs": [],
   "source": []
  },
  {
   "cell_type": "markdown",
   "id": "2d4c779a",
   "metadata": {},
   "source": [
    "<b><font color='white' style='background-color:orange'>1.1.c</font></b> <font color='white' style='text-shadow: -1px 0 black, 0 1px black, 1px 0 black, 0 -1px black;'>C</font> Combien de caractères différents y a-t-il dans la même phrase ? Calculez-le à l'aide d'un ensemble."
   ]
  },
  {
   "cell_type": "code",
   "execution_count": null,
   "id": "61e4f2bf",
   "metadata": {},
   "outputs": [],
   "source": [
    "len(set(\"Si mon tonton tond ton tonton, ton tonton sera tondu\"))"
   ]
  },
  {
   "cell_type": "markdown",
   "id": "1c3c08e8",
   "metadata": {},
   "source": [
    "<b><font color='white' style='background-color:orange'>1.1.d</font></b> Les ensembles sont souvent utilisés pour analyser les répétitions. Créez une fonction `sans_répétitions` qui prend une liste en entrée et, en utilisant un ensemble, rend une liste où tout élément répété a été viré. Par exemple, si la liste en entrée est `[1, 5, 2, 1, 4]`, celle en sortie doit être `[1, 5, 2, 4]`. Testez votre fonction avec au moins 3 `assert`."
   ]
  },
  {
   "cell_type": "code",
   "execution_count": null,
   "id": "16aa1eec",
   "metadata": {},
   "outputs": [],
   "source": []
  },
  {
   "cell_type": "code",
   "execution_count": null,
   "id": "20d0c362",
   "metadata": {},
   "outputs": [],
   "source": [
    "assert sans_répétitions([1, 5, 2, 1, 4]) == [1, 5, 2, 4]\n",
    "assert sans_répétitions([1, 1, 1, 1, 1]) == [1]\n",
    "assert sans_répétitions([]) == []"
   ]
  },
  {
   "cell_type": "markdown",
   "id": "5ef1578f",
   "metadata": {},
   "source": [
    "<b><font color='white' style='background-color:orange'>1.1.e</font></b> <font color='white' style='text-shadow: -1px 0 black, 0 1px black, 1px 0 black, 0 -1px black;'>C</font> Conversement, crééz maintenant une fonction `répétés` qui prend une liste en entrée et rend l'ensemble des éléments qui se répètent dans la liste. Testez votre fonction avec au moins `assert`"
   ]
  },
  {
   "cell_type": "code",
   "execution_count": null,
   "id": "91d88b62",
   "metadata": {},
   "outputs": [],
   "source": [
    "def répétés(l):\n",
    "    vu = set()\n",
    "    res = set()\n",
    "    for e in l:\n",
    "        if e in vu:\n",
    "            res.add(e)\n",
    "        vu.add(e)\n",
    "    return res"
   ]
  },
  {
   "cell_type": "code",
   "execution_count": null,
   "id": "0911e635",
   "metadata": {},
   "outputs": [],
   "source": [
    "assert répétés([1, 2, 3, 1, 2, 3]) == {1, 2, 3}\n",
    "assert répétés([1, 4, 5, 0, 3]) == set()\n",
    "assert répétés([1, 2, 3, 4, 5, 1, 1, 2]) == {1, 2}"
   ]
  },
  {
   "cell_type": "markdown",
   "id": "cbebfbf6",
   "metadata": {},
   "source": [
    "<b><font color='white' style='background-color:green'>1.1.f</font></b> Créez une fonction `lettres_manquantes` qui prend en entrée une chaîne de caractères et rend l'ensemble des lettres qui n'apparaissent pas dans la chaîne. Testez-la avec les `assert` donnés. \n",
    "\n",
    "Indication : pour obtenir la liste complète des lettres de l'alphabet vous pouvez utiliser les fonctions `ord` et `chr` vues en `TP06` !"
   ]
  },
  {
   "cell_type": "code",
   "execution_count": null,
   "id": "37a9b497",
   "metadata": {},
   "outputs": [],
   "source": []
  },
  {
   "cell_type": "code",
   "execution_count": null,
   "id": "e6dab7bf",
   "metadata": {},
   "outputs": [],
   "source": [
    "# asserts donnés\n",
    "assert lettres_manquantes(\"abcdefghijklmnopqrstuvwxyz\") == set()\n",
    "assert lettres_manquantes(\"aaaaa\") == set(\"bcdefghijklmnopqrstuvwxyz\")\n",
    "assert lettres_manquantes(\"AAAAA\") == set(\"bcdefghijklmnopqrstuvwxyz\")\n",
    "assert lettres_manquantes(\"Batman\") == set(\"cdefghijklopqrsuvwxyz\")"
   ]
  },
  {
   "cell_type": "markdown",
   "id": "f442aad0",
   "metadata": {},
   "source": [
    "<b><font color='white' style='background-color:black'>Ex. 1.2</font> Opérations sur les ensembles</b><a class='anchor' id='opens'></a><br>\n",
    "\n",
    "<b><font color='white' style='background-color:orange'>1.2.a</font></b> <font color='white' style='text-shadow: -1px 0 black, 0 1px black, 1px 0 black, 0 -1px black;'>C</font> Cette année, Sacha et Elodie ont pris 8 cours chacun. Les variables `cours_sacha` et `cours_elodie` contiennent deux ensembles avec les cours qu'ils ont pris. **A l'aide d'une seule ligne de code pour chaque point**, affichez: \n",
    "1. les cours qu'ils ont en commun\n",
    "2. les cours qu'Elodie a pris mais que Sacha n'a pas pris\n",
    "3. le nombre total de cours pris par les deux copains"
   ]
  },
  {
   "cell_type": "code",
   "execution_count": null,
   "id": "a949ae72",
   "metadata": {},
   "outputs": [],
   "source": [
    "# Ne pas modifier !\n",
    "cours_sacha = {\"IntroBioMol\",\n",
    "               \"ChimieOrganique1\", \n",
    "               \"AnatomieComparée\", \n",
    "               \"ChimieOrganique2\", \n",
    "               \"MathsPourLaBio\",\n",
    "               \"Synthèse\",\n",
    "               \"Programmation\",\n",
    "               \"Plantes\"}\n",
    "cours_elodie = {\"IntroBioMol\",\n",
    "               \"MathsPourLaBio\",\n",
    "               \"EquaDiff\",\n",
    "               \"Evolution\",\n",
    "               \"Programmation\",\n",
    "               \"BasesDeDonnées\",\n",
    "               \"Ecosystèmes\",\n",
    "               \"ChimieOrganique1\"}"
   ]
  },
  {
   "cell_type": "code",
   "execution_count": null,
   "id": "1dfa0eae",
   "metadata": {},
   "outputs": [],
   "source": [
    "cours_sacha & cours_elodie"
   ]
  },
  {
   "cell_type": "code",
   "execution_count": null,
   "id": "4f4c8664",
   "metadata": {},
   "outputs": [],
   "source": [
    "cours_elodie - cours_sacha"
   ]
  },
  {
   "cell_type": "code",
   "execution_count": null,
   "id": "a5586812",
   "metadata": {},
   "outputs": [],
   "source": [
    "len(cours_sacha | cours_elodie)"
   ]
  },
  {
   "cell_type": "markdown",
   "id": "b5f0f993",
   "metadata": {},
   "source": [
    "<b><font color='white' style='background-color:green'>1.2.b</font></b> La différence entre deux ensembles rend les éléments du premier ensemble qui ne sont pas contenus dans le deuxième ensemble : ce n'est donc pas une opération symmétrique (`a - b` n'est pas égal à `b - a`). Créez une fonction `différence_symmétrique` qui prend en entrée deux ensembles `a` et `b` et rend les éléments de `a` et `b` qui ne sont pas dans l'autre ensemble. Testez la fonction avec au moins 4 `assert`"
   ]
  },
  {
   "cell_type": "code",
   "execution_count": null,
   "id": "996982f3",
   "metadata": {},
   "outputs": [],
   "source": []
  },
  {
   "cell_type": "code",
   "execution_count": null,
   "id": "6812169d",
   "metadata": {},
   "outputs": [],
   "source": []
  },
  {
   "cell_type": "markdown",
   "id": "6c7a0610",
   "metadata": {},
   "source": [
    "<b><font color='white' style='background-color:green'>1.2.c</font></b> <font color='white' style='text-shadow: -1px 0 black, 0 1px black, 1px 0 black, 0 -1px black;'>C</font> Juste avant de partir, Marc et Jean découvrent qu'ils seront au Japon pendant la même période, et veulent construir leurs itinéraires afin de se rencontrer un maximum de fois. Pourtant, ils ont su aussi qu'un typhon intéressera les régions du sud, et viseront à l'éviter.\n",
    "Les ensembles `étapes_marc` et `étapes_jean` contiennent les villes que les deux copains veulent visiter, et l'ensemble `risque_typhon` les villes qui pourraient être traversées pas le typhon. Trouvez l'ensemble de toutes les villes où Marc et Jean pourraient se rencontrer tout en restant à l'abri du typhon."
   ]
  },
  {
   "cell_type": "code",
   "execution_count": null,
   "id": "b517e7a9",
   "metadata": {},
   "outputs": [],
   "source": [
    "# Ne pas modifier !\n",
    "étapes_marc = {\"Tokyo\", \"Nikko\", \"Kanazawa\", \"Hakone\", \"Shirakawago\", \"Matsumoto\", \"Kyoto\", \"Osaka\", \"Hiroshima\", \"Okinawa\"}\n",
    "étapes_jean = {\"Tokyo\", \"Kyoto\", \"Nara\", \"Osaka\", \"Himeji\", \"Hiroshima\", \"Matsuyama\", \"Kagoshima\", \"Okinawa\"}\n",
    "risque_typhon = {\"Okinawa\", \"Kagoshima\", \"Matsuyama\", \"Hiroshima\", \"Nagasaki\", \"Oita\", \"Fukoka\"}"
   ]
  },
  {
   "cell_type": "code",
   "execution_count": null,
   "id": "3812170a",
   "metadata": {},
   "outputs": [],
   "source": [
    "(étapes_marc & étapes_jean) - risque_typhon"
   ]
  },
  {
   "cell_type": "markdown",
   "id": "4814570d",
   "metadata": {},
   "source": [
    "<b><font color='white' style='background-color:black'>Ex. 1.3</font> Ensembles et sous-ensembles</b><a class='anchor' id='sousens'></a><br>\n",
    "\n",
    "<b><font color='white' style='background-color:orange'>1.3.a</font></b> Deux ensembles sont disjoints s'il n'y a aucun élément en commun entre les deux. Ecrivez une fonction `sont_disjoints` qui prend en entrée les ensembles `a` et `b` et renvoie `True` s'ils sont disjoints et `False` s'ils ne le sont pas. Testez avec au moins 3 `assert`."
   ]
  },
  {
   "cell_type": "code",
   "execution_count": null,
   "id": "d78f29d1",
   "metadata": {},
   "outputs": [],
   "source": []
  },
  {
   "cell_type": "code",
   "execution_count": null,
   "id": "02439454",
   "metadata": {},
   "outputs": [],
   "source": []
  },
  {
   "cell_type": "markdown",
   "id": "4b49d158",
   "metadata": {},
   "source": [
    "<b><font color='white' style='background-color:orange'>1.3.b</font></b> <font color='white' style='text-shadow: -1px 0 black, 0 1px black, 1px 0 black, 0 -1px black;'>C</font> Des copains veulent organiser un apéro et chacun participe en portant quelque chose. La liste L contient un ensemble d'items amenés par l'un des copains. Créez l'ensemble qui contient tous les items amenés. "
   ]
  },
  {
   "cell_type": "code",
   "execution_count": null,
   "id": "f400554a",
   "metadata": {},
   "outputs": [],
   "source": [
    "# Ne pas modifier !\n",
    "L = [{\"hoummous\", \"camembert\", \"baguette\"}, \n",
    "     {\"tube de pringles\", \"pack de seize\", \"caviar d'aubergines\"}, \n",
    "     {\"chips\", \"ricard\", \"crottins de chèvre\"}, \n",
    "     {\"camembert\", \"pack de seize\"}, \n",
    "     {\"rillette de thon\", \"hoummous\"}, \n",
    "     {\"rosé\", \"chips\"},\n",
    "     {\"baguette\", \"rillette de thon\", \"caviar d'aubergines\"},\n",
    "     {\"rosé\", \"pack de seize\"},\n",
    "     {\"jus de pomme\", \"camembert\"}]"
   ]
  },
  {
   "cell_type": "code",
   "execution_count": null,
   "id": "02e3ee77",
   "metadata": {},
   "outputs": [],
   "source": [
    "E = set()\n",
    "for s in L:\n",
    "    E = E | s\n",
    "print(E)"
   ]
  },
  {
   "cell_type": "markdown",
   "id": "db3769b7",
   "metadata": {},
   "source": [
    "<b><font color='white' style='background-color:green'>1.3.c</font></b> <font color='white' style='text-shadow: -1px 0 black, 0 1px black, 1px 0 black, 0 -1px black;'>C</font> Définissez une fonction `triplets` qui prend un ensemble d'au moins trois éléments en entrée et rend en sortie la liste avec tous les sous-ensembles de trois éléments de cet ensemble.\n",
    "Testez avec un jeu de tests avec au moins deux `assert`. Faites attention à choisir un bon test !"
   ]
  },
  {
   "cell_type": "code",
   "execution_count": null,
   "id": "0051aa12",
   "metadata": {},
   "outputs": [],
   "source": [
    "def triplets(E):\n",
    "    R = []\n",
    "    for e1 in E:\n",
    "        for e2 in E:\n",
    "            for e3 in E:\n",
    "                if e1 != e2 and e2 != e3 and e1 != e3 and {e1, e2, e3} not in R:\n",
    "                    R.append({e1, e2, e3})\n",
    "    return R "
   ]
  },
  {
   "cell_type": "code",
   "execution_count": null,
   "id": "3cb4460b",
   "metadata": {},
   "outputs": [],
   "source": [
    "assert triplets({1,2,3}) == [{1,2,3}]\n",
    "assert sorted(triplets({1,2,3,4})) == sorted([{1,2,3}, {1,2,4}, {1,3,4}, {2,3,4}])"
   ]
  },
  {
   "cell_type": "markdown",
   "id": "29f47d3a",
   "metadata": {},
   "source": [
    "<b><font color='white' style='background-color:green'>1.3.d</font></b> En vous basant sur l'exercice `1.3.c`, définissez une fonction `au_plus_triplets` qui prend un ensemble quelconque en entrée et rend en sortie la liste avec tous les sous-ensembles de trois ou moins éléments de cet ensemble.\n",
    "Testez avec un jeu de tests avec au moins quatre `assert`. Faites attention à choisir un bon test !"
   ]
  },
  {
   "cell_type": "code",
   "execution_count": null,
   "id": "978b46f6",
   "metadata": {},
   "outputs": [],
   "source": []
  },
  {
   "cell_type": "code",
   "execution_count": null,
   "id": "3efd6d6b",
   "metadata": {},
   "outputs": [],
   "source": []
  },
  {
   "cell_type": "markdown",
   "id": "3b7cf207",
   "metadata": {},
   "source": [
    "<b><font color='white' style='background-color:blue'>1.3.e</font></b> <font color='white' style='text-shadow: -1px 0 black, 0 1px black, 1px 0 black, 0 -1px black;'>C</font> Cherchons à généraliser encore plus : définissez une fonction qui prend un ensemble quelconque en entrée et rend en sortie la liste avec tous les sous-ensembles possibles.\n",
    "Vous vous rendrez compte très vite que la stratégie que vous avez utilisée en `1.3.d` n'est pas viable pour lister tous les sous-ensemble d'un ensemble quelconque : il faut donc raisonner d'une autre façon.\n",
    "Chaque sous-ensemble peut être pensé comme une sélection d'éléments d'après l'ensemble total : on pourrait marquer les éléments choisis par des \"1\" et les éléments non choisis par des \"0\". Est-ce que ça vous fait penser à quelque chose qu'on a déjà vu en cours ?\n",
    "\n",
    "(la fonction `bin` pourrait vous être utile : elle transforme un entier en un chaîne de caractères qui représente son binaire correspondant)"
   ]
  },
  {
   "cell_type": "code",
   "execution_count": null,
   "id": "b09affb0",
   "metadata": {},
   "outputs": [],
   "source": [
    "def sousensembles(E):\n",
    "    R = []\n",
    "    L = sorted(list(E))\n",
    "    for n in range(2**len(L)):\n",
    "        i = 0\n",
    "        s = set()\n",
    "        for c in bin(n)[:1:-1]:   \n",
    "            if c == \"1\" and L[i] not in s:\n",
    "                s.add(L[i])\n",
    "            i = i + 1\n",
    "        R.append(s)\n",
    "    return R"
   ]
  },
  {
   "cell_type": "code",
   "execution_count": null,
   "id": "0ee57f75",
   "metadata": {},
   "outputs": [],
   "source": [
    "# Testez avec cet ensemble (ne modifiez pas cette ligne !)\n",
    "sousensembles({0,1,2,3,4,5,6,7})"
   ]
  },
  {
   "cell_type": "markdown",
   "id": "40aefbe4",
   "metadata": {},
   "source": [
    "<h3>2. Dictionnaires</h3><a class='anchor' id='dictionnaires'></a>\n",
    "\n",
    "Les dictionnaires sont des structures de données _non ordonnées_ qui contiennent une collection d' **associations a:b**  entre une **clé a** et une **valeur b**.\n",
    "\n",
    "Les clés du dictionnaires forment un ensemble. Pour cette raison, le type de chaque clé doit être immutable (donc pas de listes, ensembles ou dictionnaires). Les valeurs, par contre, n'ont pas ces limitations.\n",
    "\n",
    "Les ensembles sont des structures de données _non ordonnées_ ou chaque élément se répète au plus une fois. C'est pourtant un type _itérable_, qui donc peut faire l'objet d'une boucle `for`. \n",
    "\n",
    "Un dictionnaire **vide** se déclare comme \n",
    "\n",
    "```python\n",
    "d_vide = {}   # Dictionnaire vide affecté dans une variable d_vide\n",
    "```\n",
    "\n",
    "alors que l'**initialisation** d'un dictionnaire et de ses éléments peut se faire de cette façon :\n",
    "\n",
    "```python\n",
    "d = {\"Roger Rabbit\" : 1, \"Oeufs\" : \"oui\", (1,2,3) : False, True : 4.5}   # Dictionnaire non vide affecté dans une variable d\n",
    "```\n",
    "\n",
    "Pour **récupérer** une _valeur_ à partir d'une _clé_ on utilise la syntaxe à crochets :\n",
    "```python\n",
    "d[\"Roger Rabbit\"]    # La valeur récupérée sera 1\n",
    "```\n",
    "\n",
    "Pour **rajouter** un élément à la fois (comme avec `append` pour les listes), on peut utiliser la sytaxe à crochets \n",
    "```python\n",
    "d[\"Life, the universe and everything\"] = 42\n",
    "```\n",
    "\n",
    "Pour **vérifier si une clé fait partie** d'un dictionnaire, on peut utiliser l'opérateur `in` vu pour les séquences :\n",
    "```python\n",
    "\"James Bond\" in d      # rend False\n",
    "```\n",
    "\n",
    "On peut aussi **itérer** sur les clés d'un dictionnaire, mais attention : l'ordre d'itération sera aléatoire !\n",
    "```python\n",
    "for k in d:\n",
    "    print(k, d[k])  # Va afficher toutes les associations clé - valeur de d\n",
    "```\n",
    "\n",
    "Pour **retirer** une association à la fois, on peut utiliser l'opérateur `del` :\n",
    "```python\n",
    "del d[\"Oeufs\"]\n",
    "del d[\"James Bond\"] # Mais \"James Bond\" n'est pas une clé de d : Erreur !\n",
    "```"
   ]
  },
  {
   "cell_type": "markdown",
   "id": "4ba4ce96",
   "metadata": {},
   "source": [
    "<b><font color='white' style='background-color:black'>Ex. 2.1</font> Premiers pas avec les dictionnaires</b><a class='anchor' id='dict1'></a><br>\n",
    "Ici on va se concentrer sur l'initialisation et l'édition des dictionnaires.<br>\n",
    "\n",
    "<b><font color='white' style='background-color:orange'>2.1.a</font></b> <font color='white' style='text-shadow: -1px 0 black, 0 1px black, 1px 0 black, 0 -1px black;'>C</font> Créez un dictionnaire `d` contenant des associations entre les entiers de `1` à `5` et les mêmes écrits en lettres "
   ]
  },
  {
   "cell_type": "code",
   "execution_count": null,
   "id": "505234cc",
   "metadata": {},
   "outputs": [],
   "source": [
    "d = {1 : \"un\", 2 : \"deux\", 3 : \"trois\", 4 : \"quatre\", 5 : \"cinq\"}\n",
    "d"
   ]
  },
  {
   "cell_type": "markdown",
   "id": "6666241c",
   "metadata": {},
   "source": [
    "<b><font color='white' style='background-color:orange'>2.1.b</font></b> <font color='white' style='text-shadow: -1px 0 black, 0 1px black, 1px 0 black, 0 -1px black;'>C</font> Rajoutez aux dictionnaire `d` créé dans l'exercice `2.1.a` les associations correspondant aux entiers de `6` à `8`, et retirez les associations correspondant aux entiers de `1` à `3`. "
   ]
  },
  {
   "cell_type": "code",
   "execution_count": null,
   "id": "c3b63d4a",
   "metadata": {},
   "outputs": [],
   "source": [
    "d[6] = \"six\"\n",
    "d[7] = \"sept\"\n",
    "d[8] = \"huit\"\n",
    "del d[1]\n",
    "del d[2]\n",
    "del d[3]\n",
    "d"
   ]
  },
  {
   "cell_type": "markdown",
   "id": "df0642f0",
   "metadata": {},
   "source": [
    "<b><font color='white' style='background-color:orange'>2.1.c</font></b> Créez une fonction `occurrences_mots` qui prend une chaîne de caractères et rend un dictionnaire qui compte les occurrences des mots de la chaîne. Testez-la avec la phrase : \"Si mon tonton tond ton tonton, ton tonton sera tondu\""
   ]
  },
  {
   "cell_type": "code",
   "execution_count": null,
   "id": "d25dca6a",
   "metadata": {},
   "outputs": [],
   "source": []
  },
  {
   "cell_type": "code",
   "execution_count": null,
   "id": "257bd2dd",
   "metadata": {},
   "outputs": [],
   "source": []
  },
  {
   "cell_type": "markdown",
   "id": "54779ceb",
   "metadata": {},
   "source": [
    "<b><font color='white' style='background-color:orange'>2.1.d</font></b> <font color='white' style='text-shadow: -1px 0 black, 0 1px black, 1px 0 black, 0 -1px black;'>C</font> Créez une fonction `fréquences_codons` qui prend une chaîne de caractères exprimant une suite de bases d'ADN (`A`, `C`, `G`, `T`) et rend un dictionnaire qui compte les fréquences des triplets (n'importe dans quel cadre de lecture). Testez-la sur la séquence `\"AGATTAGACTGGAGCCTATTGGCGAAAATCGAGCTACA\"`"
   ]
  },
  {
   "cell_type": "code",
   "execution_count": null,
   "id": "b8ed6acf",
   "metadata": {},
   "outputs": [],
   "source": [
    "def fréquences_codons(seq):\n",
    "    d = {}\n",
    "    n = 0\n",
    "    for i in range(len(seq)-2):\n",
    "        s = seq[i:i+3]\n",
    "        if s not in d:\n",
    "            d[s] = 1\n",
    "        else:\n",
    "            d[s] += 1\n",
    "        n += 1\n",
    "    for s in d:\n",
    "        d[s] = d[s]/n\n",
    "    return d"
   ]
  },
  {
   "cell_type": "code",
   "execution_count": null,
   "id": "577b0e5f",
   "metadata": {},
   "outputs": [],
   "source": [
    "fréquences_codons(\"AAAGATTAGAAACTGGAGCCTAAATTGGCGAAAATCGAGCTAAACA\")"
   ]
  },
  {
   "cell_type": "markdown",
   "id": "c18d6b11",
   "metadata": {},
   "source": [
    "<b><font color='white' style='background-color:green'>2.1.e</font></b> <font color='white' style='text-shadow: -1px 0 black, 0 1px black, 1px 0 black, 0 -1px black;'>C</font> Vous utilisez souvent la formule $e^{-x^2} + x^{-4} + log(x)$ mais vous ne voulez pas la recalculer à chaque fois parce que ça prend du temps à l'ordinateur. Vous avez entendu parler des _lookup tables_, tableaux qui tabulent les résultats d'une fonction souhaitée.\n",
    "Créez-en une pour la formule en haut. Les clés seront les valeurs de $x$, bornée entre 1 et 10 avec un pas de 0.1. Les valeurs seront les resultats de la formule pour chaque $x$"
   ]
  },
  {
   "cell_type": "code",
   "execution_count": null,
   "id": "3bec43bb",
   "metadata": {},
   "outputs": [],
   "source": [
    "import math\n",
    "\n",
    "d = {}\n",
    "for i in range(10,101):\n",
    "    x = i/10\n",
    "    d[x] = math.exp(-x**2) + x**-4 + math.log(x)\n",
    "d"
   ]
  },
  {
   "cell_type": "markdown",
   "id": "dccb59fa",
   "metadata": {},
   "source": [
    "<b><font color='white' style='background-color:black'>Ex. 2.2</font> Dictionnaires et structures de données</b><a class='anchor' id='dict2'></a><br>\n",
    "Les dictionnaires peuvent contenir d'autres structures de données : on va voir quelques exemples<br>\n",
    "\n",
    "<b><font color='white' style='background-color:green'>2.2.a</font></b> Vous avez de suite un ensemble `mots` contenant des mots en français. Créez un dictionnaire `dico` qui a pour clés les lettres de l'alphabet et pour valeurs l'ensemble de mots qui commences avec cette lettre. S'il n'y a pas de mots, la clé doit bien être là, et sera associée à un ensemble vide"
   ]
  },
  {
   "cell_type": "code",
   "execution_count": null,
   "id": "0c8aae96",
   "metadata": {},
   "outputs": [],
   "source": [
    "# Ne pas modifier !\n",
    "mots = [\"Le\", \"De\", \"Un\", \"Et\", \"Avoir\", \"Que\", \"Pour\", \"Dans\", \"Il\", \"Qui\", \"Ne\", \"Sur\", \"Se\", \"Pas\", \"Plus\", \"Son\", \"Par\", \"Au\", \"Avec\", \"Des\", \"Tout\", \"Mais\", \"Nous\", \"Vous\", \"Y\", \"Faire\", \"Leur\", \"Comme\", \"Votre\", \"Si\", \"Lui\", \"Bien\", \"Je\", \"Venir\", \"La\", \"Mon\", \"Ton\", \"En\", \"Les\", \"Du\", \"Me\", \"Sa\", \"Là\", \"Suis\", \"Peu\", \"Aux\",\"Ce\", \"Ma\", \"Voici\", \"Ou\", \"Ces\", \"Cela\", \"Ils\", \"Que\", \"Dire\", \"Un\", \"Se\",\"Deux\", \"Lorsque\", \"Autre\", \"Jour\", \"Après\", \"Encore\", \"Sans\", \"Temps\", \"Donc\", \"Elle\", \"Personne\", \"Jusqu'à\", \"Rien\", \"Tous\", \"Quand\", \"Très\", \"Beaucoup\", \"Doit\", \"Peut\", \"Même\", \"Trop\", \"Et\", \"Aussi\", \"Notre\", \"Alors\", \"Voir\", \"Ceux\", \"Mieux\", \"Aussitôt\", \"Grand\", \"Nombre\", \"Tant\", \"Toute\", \"Car\", \"Soit\", \"Autres\", \"Cependant\", \"Soi\", \"Surtout\", \"Souvent\", \"Lors\", \"Permettre\"]"
   ]
  },
  {
   "cell_type": "code",
   "execution_count": null,
   "id": "6d58fa1d",
   "metadata": {},
   "outputs": [],
   "source": []
  },
  {
   "cell_type": "markdown",
   "id": "65cc974e",
   "metadata": {},
   "source": [
    "<b><font color='white' style='background-color:green'>2.2.b</font></b> <font color='white' style='text-shadow: -1px 0 black, 0 1px black, 1px 0 black, 0 -1px black;'>C</font> Un livre de recettes est représenté en Python3 par un dictionnaire de type qui associe des chaînes de caractères `str` à des ensembles de chaînes de caractères `set[str]`, ayant :\n",
    "• les noms des recettes, de type `str`, comme clés\n",
    "• l’ensemble des ingrédients, de type `set[str]`, comme valeurs associées.\n",
    "\n",
    "Donner une définition de la fonction `nb_ingredients` qui, étant donné un livre de recettes `D` et le nom d’une recette `r`, vérifie si elle est contenue dans `D`, et renvoie le nombre d’ingrédients nécessaires à la recette `r`. Si `r` n'est pas dans `D`, la fonction doit afficher une message et renvoyer `None`.\n",
    "Testez-la avec le livre de recettes suivant et 2 `assert`"
   ]
  },
  {
   "cell_type": "code",
   "execution_count": null,
   "id": "96c357bb",
   "metadata": {},
   "outputs": [],
   "source": [
    "# Ne pas modifier !\n",
    "Dessert = {\n",
    "'gateau chocolat' : {'chocolat', 'oeuf', 'farine', 'sucre', 'beurre'}, 'gateau yaourt' : {'yaourt', 'oeuf', 'farine', 'sucre'},\n",
    "'crepes' : {'oeuf', 'farine', 'lait'},\n",
    " 'quatre-quarts' : {'oeuf', 'farine', 'beurre', 'sucre'},\n",
    "'kouign amann' : {'farine', 'beurre', 'sucre'}\n",
    "}"
   ]
  },
  {
   "cell_type": "code",
   "execution_count": null,
   "id": "710b1dba",
   "metadata": {},
   "outputs": [],
   "source": [
    "def nb_ingrédients(D, r):\n",
    "    if r not in D:\n",
    "        print(r, \"n'est pas contenu dans le livre de recettes\")\n",
    "        return None\n",
    "    else:\n",
    "        return len(D[r])"
   ]
  },
  {
   "cell_type": "code",
   "execution_count": null,
   "id": "6534df1c",
   "metadata": {},
   "outputs": [],
   "source": [
    "assert nb_ingrédients(Dessert, 'crepes') == 3\n",
    "assert nb_ingrédients(Dessert, 'gateau chocolat') == 5"
   ]
  },
  {
   "cell_type": "markdown",
   "id": "785925b4",
   "metadata": {},
   "source": [
    "<b><font color='white' style='background-color:green'>2.2.c</font></b> Donner une définition de la fonction `recette_avec` qui, étant donnés un livre de recettes `D` et le nom d’un ingrédient `i`, renvoie l’ensemble des recettes qui utilisent cet ingrédient. Tester avec 3 `assert`"
   ]
  },
  {
   "cell_type": "code",
   "execution_count": null,
   "id": "387d6a16",
   "metadata": {},
   "outputs": [],
   "source": []
  },
  {
   "cell_type": "code",
   "execution_count": null,
   "id": "ea9cd9fb",
   "metadata": {},
   "outputs": [],
   "source": []
  },
  {
   "cell_type": "markdown",
   "id": "db5d8510",
   "metadata": {},
   "source": [
    "<b><font color='white' style='background-color:green'>2.2.d</font></b> <font color='white' style='text-shadow: -1px 0 black, 0 1px black, 1px 0 black, 0 -1px black;'>C</font> Donner une définition de la fonction `tous_ingredients` qui, étant donné un livre de recettes `D`, renvoie l’ensemble de tous les ingrédients apparaissant au moins une fois dans une recette de `D`. Testez avec un `assert`."
   ]
  },
  {
   "cell_type": "code",
   "execution_count": null,
   "id": "a29bcf93",
   "metadata": {},
   "outputs": [],
   "source": [
    "def tous_ingredients(D):\n",
    "    SR = set()\n",
    "    for r in D:\n",
    "        for i in D[r]:\n",
    "            SR.add(i)\n",
    "    return SR"
   ]
  },
  {
   "cell_type": "code",
   "execution_count": null,
   "id": "b5bb395e",
   "metadata": {},
   "outputs": [],
   "source": [
    "assert tous_ingredients(Dessert) == {'farine', 'lait', 'yaourt', 'beurre', 'chocolat', 'sucre', 'oeuf'}"
   ]
  },
  {
   "cell_type": "markdown",
   "id": "304bfdd9",
   "metadata": {},
   "source": [
    "<b><font color='white' style='background-color:green'>2.2.e</font></b> Tout livre de recettes contient une table des ingrédients permettant d’associer à chaque ingrédient l’ensemble des recettes qui l’utilisent. Une telle table est représentée en Python3 par un dictionnaire contenant les associations entre les ingrédients et des ensembles contenant les noms des recettes qui l'utilisent.\n",
    "Donner une définition de la fonction `table_ingredients` qui, étant donné un livre de recettes `D`, renvoie la table des ingrédients associée. Essayez cette fonction sur le livre de recettes donné."
   ]
  },
  {
   "cell_type": "code",
   "execution_count": null,
   "id": "1a037f93",
   "metadata": {},
   "outputs": [],
   "source": []
  },
  {
   "cell_type": "code",
   "execution_count": null,
   "id": "ebae1098",
   "metadata": {},
   "outputs": [],
   "source": []
  },
  {
   "cell_type": "markdown",
   "id": "77c70b6c",
   "metadata": {},
   "source": [
    "<b><font color='white' style='background-color:green'>2.2.f</font></b> <font color='white' style='text-shadow: -1px 0 black, 0 1px black, 1px 0 black, 0 -1px black;'>C</font> Certaines personnes sont allergiques à certains ingrédients. On aimerait donc pouvoir ne conserver d’un livre de recettes que celles qui n’utilisent pas un ingrédient donné.\n",
    "Donner une définition de la fonction `recettes_sans` qui, étant donnés un livre de recettes `D` et un ingrédient `i`, renvoie un nouveau livre de recettes ne contenant que des recettes de `D` n’utilisant pas l’ingrédient `i`. Tester avec 3 `assert`."
   ]
  },
  {
   "cell_type": "code",
   "execution_count": null,
   "id": "ab0124ee",
   "metadata": {},
   "outputs": [],
   "source": [
    "def recettes_sans(D, i):\n",
    "    DR = dict()\n",
    "\n",
    "    for r in D:\n",
    "        if i not in D[r]:\n",
    "            DR[r] = D[r] \n",
    "    return DR"
   ]
  },
  {
   "cell_type": "code",
   "execution_count": null,
   "id": "9185200c",
   "metadata": {},
   "outputs": [],
   "source": [
    "assert recettes_sans(Dessert, 'beurre') == {'gateau yaourt' : {'yaourt', 'oeuf', 'farine', 'sucre'}, \n",
    "                                            'crepes' : {'oeuf', 'farine', 'lait'}}\n",
    "assert recettes_sans(Dessert, 'oeuf') == {'kouign amann': {'farine', 'beurre', 'sucre'}}\n",
    "assert recettes_sans(Dessert, 'farine') == {}"
   ]
  }
 ],
 "metadata": {
  "kernelspec": {
   "display_name": "Python 3 (ipykernel)",
   "language": "python",
   "name": "python3"
  },
  "language_info": {
   "codemirror_mode": {
    "name": "ipython",
    "version": 3
   },
   "file_extension": ".py",
   "mimetype": "text/x-python",
   "name": "python",
   "nbconvert_exporter": "python",
   "pygments_lexer": "ipython3",
   "version": "3.11.6"
  }
 },
 "nbformat": 4,
 "nbformat_minor": 5
}
