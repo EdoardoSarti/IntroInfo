{
 "cells": [
  {
   "cell_type": "markdown",
   "id": "437a11d0",
   "metadata": {},
   "source": [
    "<h1><center>SPEV311 — Introduction à l'Informatique — TP 04</center><br>\n",
    "<center>Objets, Traitement d'images</center></h1>"
   ]
  },
  {
   "cell_type": "markdown",
   "id": "c3a9453e",
   "metadata": {},
   "source": [
    "<h3>Auto-évaluation</h3>\n",
    "\n",
    "<div> Les exercices se divisent en trois niveaux d'auto-évaluation:\n",
    "<ul>\n",
    "    <li><h3><font color='white' style='background-color:orange'>Fondamentaux</font></h3> Pour réviser les notions apprises en cours. Il faut tous les savoir résoudre pour avoir la moyenne.</li>\n",
    "    <li><h3><font color='white' style='background-color:green'>Intermédiaires</font></h3> Pour vous aider à raisonner et rentrer au coeur des sujets. Si vous saurez tous les résoudre, vous aurez un bon niveau de préparation !</li>\n",
    "    <li><h3><font color='white' style='background-color:blue'>Avancés</font></h3> Défis pour vous entraîner à l'examen final... et aller plus loin !</li>\n",
    "</ul>\n",
    "</div>\n",
    "\n",
    "Les exercices avec un <font color='white' style='text-shadow: -1px 0 black, 0 1px black, 1px 0 black, 0 -1px black;'>C</font> sont corrigés : vous trouverez un notebook avec la correction de ces exercices dans le même dossier où vous avez trouvé celui-ci."
   ]
  },
  {
   "cell_type": "markdown",
   "id": "c1b5b9b0",
   "metadata": {},
   "source": [
    "### <font color='black'>Table des matières<font><a class='anchor' id='top'></a>\n",
    "1. [Boulces imbriquées](#imbriquées) **[40m]**<br>\n",
    "    1.1 [Retour sur la boucle `for`](#retour)<br>\n",
    "    1.2 [Tapis célestes](#tapis)<br>\n",
    "2. [Objets](#objets) **[20m]**<br>\n",
    "    2.1 [Les chaînes en tant qu'objets, et ses méthodes](#chaînesobjets)<br>\n",
    "    2.2 [Autres exemples d'objets](#autres)<br>\n",
    "3. [Images](#images) **[60m]**<br>\n",
    "    3.1 [La bibliothèque `PIL`](#PIL)<br>\n",
    "    3.2 [Modifier une image simple](#simple)<br>\n",
    "    3.3 [Canaux](#canaux)<br>\n",
    "    3.4 [Colocalisation](#colocalisation)<br>"
   ]
  },
  {
   "cell_type": "markdown",
   "id": "cd351e35",
   "metadata": {},
   "source": [
    "<h3>1. Boucles imbriquées [40m]</h3><a class='anchor' id='imbriquées'></a>"
   ]
  },
  {
   "cell_type": "markdown",
   "id": "3b40846e",
   "metadata": {},
   "source": [
    "<b><font color='white' style='background-color:black'>Ex. 1.1</font> Retour sur la boucle `for`</b><a class='anchor' id='for'></a><br>\n",
    "\n",
    "Puisqu'une bonne utilisation des boucles sera fondamentale pour ce TP et les suivants, revenons sur les boucles avec quelques exemples où il faudra définir une boucle à l'intérieur d'une autre boucle. \n",
    "\n",
    "Exemple :\n",
    "```python\n",
    "for i in range(0,10):\n",
    "    for j in range(0, 10):\n",
    "        print(\"abscisse\", i, \"ordonnée\", j)\n",
    "```"
   ]
  },
  {
   "cell_type": "markdown",
   "id": "55dac024",
   "metadata": {},
   "source": [
    "<b><font color='white' style='background-color:orange'>1.1.a</font></b> <font color='white' style='text-shadow: -1px 0 black, 0 1px black, 1px 0 black, 0 -1px black;'>C</font> Le bus 38 départ de son terminus tous les 12 minutes à partir de 9h jusqu'à 21h. Affichez tous les horaires de départ en suivant ce format :\n",
    "```\n",
    "9h\n",
    "9h12\n",
    "9h24\n",
    "9h36\n",
    "...\n",
    "```\n",
    "\n",
    "\n",
    "Dans la première boîte de code, utilisez deux boucles imbriquées. Dans la deuxième, cherchez à en utiliser une seule."
   ]
  },
  {
   "cell_type": "code",
   "execution_count": null,
   "id": "801ad024",
   "metadata": {},
   "outputs": [],
   "source": []
  },
  {
   "cell_type": "markdown",
   "id": "75172365",
   "metadata": {},
   "source": [
    "<b><font color='white' style='background-color:orange'>1.1.b</font></b> Créez une fonction `premiers` qui prend deux entiers `a` et `b` et, en supposant $a \\leq b$, affiche tous les nombres premiers dans l'interval $[a,b]$. Pour vérifier qu'un nombre `n` est premier, on utilise une méthode très (trop) simple : on essaye à le diviser par tous les nombre de $2$ jusqu'à $\\sqrt{n}$ (ou l'entier juste avant, si la racine n'est pas un entier).\n",
    "\n",
    "Stratégie :\n",
    "- faites une boucle sur les entiers de `a` jusqu'à `b` (inclus !)\n",
    "- pour chaque entier `n` :\n",
    "    - initialisez une variable `flag` (drapeau) égale à `True`\n",
    "    - faites une boucle de `2` jusqu'à la racine de l'entier (quelle boucle est-il mieux faire ?)\n",
    "    - pour chaque entier `i` :\n",
    "        - si l'entier `n` est divisible par `i`, ça veut dire que `n` n'est pas premier : changez la valeur de `flag` en `False`\n",
    "    - si, après avoir terminé la boucle interne, `flag` est encore `True`, ça veut dire qu'on n'a trouvé aucun diviseur : `n` est donc premier, vous devez l'afficher"
   ]
  },
  {
   "cell_type": "code",
   "execution_count": null,
   "id": "8bb4283a",
   "metadata": {},
   "outputs": [],
   "source": []
  },
  {
   "cell_type": "code",
   "execution_count": null,
   "id": "5fd0a49a",
   "metadata": {},
   "outputs": [],
   "source": []
  },
  {
   "cell_type": "markdown",
   "id": "dfc16031",
   "metadata": {},
   "source": [
    "<b><font color='white' style='background-color:green'>1.1.c</font></b> <font color='white' style='text-shadow: -1px 0 black, 0 1px black, 1px 0 black, 0 -1px black;'>C</font> Trouvez toutes les occurrences du mot `honourable` dans la fameuse oration délivrée par Marc Antoine dans le _Julius Caesar_ de Shakespeare, rapportée ci-dessous. Pour chaque répétition, affichez l'indice du caractère de début de mot (le `h` de `honourable`). Inspirez-vous par la stratégie de `1.1.b`.\n",
    "\n",
    "```\n",
    "Friends, Romans, countrymen, lend me your ears;\n",
    "I come to bury Caesar, not to praise him.\n",
    "The evil that men do lives after them;\n",
    "The good is oft interred with their bones;\n",
    "So let it be with Caesar. The noble Brutus\n",
    "Hath told you Caesar was ambitious:\n",
    "If it were so, it was a grievous fault,\n",
    "And grievously hath Caesar answer’d it.\n",
    "Here, under leave of Brutus and the rest–\n",
    "For Brutus is an honourable man;\n",
    "So are they all, all honourable men–\n",
    "Come I to speak in Caesar’s funeral.\n",
    "He was my friend, faithful and just to me:\n",
    "But Brutus says he was ambitious;\n",
    "And Brutus is an honourable man.\n",
    "He hath brought many captives home to Rome\n",
    "Whose ransoms did the general coffers fill:\n",
    "Did this in Caesar seem ambitious?\n",
    "When that the poor have cried, Caesar hath wept:\n",
    "Ambition should be made of sterner stuff:\n",
    "Yet Brutus says he was ambitious;\n",
    "And Brutus is an honourable man.\n",
    "You all did see that on the Lupercal\n",
    "I thrice presented him a kingly crown,\n",
    "Which he did thrice refuse: was this ambition?\n",
    "Yet Brutus says he was ambitious;\n",
    "And, sure, he is an honourable man.\n",
    "I speak not to disprove what Brutus spoke,\n",
    "But here I am to speak what I do know.\n",
    "You all did love him once, not without cause:\n",
    "What cause withholds you then, to mourn for him?\n",
    "O judgment! thou art fled to brutish beasts,\n",
    "And men have lost their reason. Bear with me;\n",
    "My heart is in the coffin there with Caesar,\n",
    "And I must pause till it come back to me.\n",
    "```"
   ]
  },
  {
   "cell_type": "code",
   "execution_count": null,
   "id": "b1872803",
   "metadata": {},
   "outputs": [],
   "source": [
    "# Ne pas modifier !\n",
    "mot = \"honourable\"\n",
    "texte = \"Friends, Romans, countrymen, lend me your ears;\\nI come to bury Caesar, not to praise him.\\nThe evil that men do lives after them;\\nThe good is oft interred with their bones;\\nSo let it be with Caesar. The noble Brutus\\nHath told you Caesar was ambitious:\\nIf it were so, it was a grievous fault,\\nAnd grievously hath Caesar answer’d it.\\nHere, under leave of Brutus and the rest–\\nFor Brutus is an honourable man;\\nSo are they all, all honourable men–\\nCome I to speak in Caesar’s funeral.\\nHe was my friend, faithful and just to me:\\nBut Brutus says he was ambitious;\\nAnd Brutus is an honourable man.\\nHe hath brought many captives home to Rome\\nWhose ransoms did the general coffers fill:\\nDid this in Caesar seem ambitious?\\nWhen that the poor have cried, Caesar hath wept:\\nAmbition should be made of sterner stuff:\\nYet Brutus says he was ambitious;\\nAnd Brutus is an honourable man.\\nYou all did see that on the Lupercal\\nI thrice presented him a kingly crown,\\nWhich he did thrice refuse: was this ambition?\\nYet Brutus says he was ambitious;\\nAnd, sure, he is an honourable man.\\nI speak not to disprove what Brutus spoke,\\nBut here I am to speak what I do know.\\nYou all did love him once, not without cause:\\nWhat cause withholds you then, to mourn for him?\\nO judgment! thou art fled to brutish beasts,\\nAnd men have lost their reason. Bear with me;\\nMy heart is in the coffin there with Caesar,\\nAnd I must pause till it come back to me.\"\n",
    "\n",
    "# Ici votre code"
   ]
  },
  {
   "cell_type": "markdown",
   "id": "df05bb8d",
   "metadata": {},
   "source": [
    "<b><font color='white' style='background-color:green'>1.1.d</font></b> Vous trouvez ci-dessus une séquence d'ARN dans laquelle vous devez trouver tous les codons start `AUG` dans les trois cadres de lecture. Pour ce faire transformez le code que vous avez écrit pour l'exercice `1.1.b` en une fonction `trouve_mot` qui prend deux chaînes : un `texte` (dans ce cas, la séquence) et un `mot` (dans ce cas, le codon). La fonction devra rendre le bon résultat même si vous mettez l'oration comme `texte` et `\"honourable\"` comme `mot` !\n",
    "\n",
    "`\"GUAUGAGGAAAUAGCGAUGCCGAGGGAGUAGUUAGUAGAGCCAGGGCUAUGCUAGCUAGCAUCGAUGUCGUAGUCGAUAUUAUAUUAGAGCCGAGGGAAAAAUAGCGUA\"`"
   ]
  },
  {
   "cell_type": "code",
   "execution_count": null,
   "id": "e68fe991",
   "metadata": {},
   "outputs": [],
   "source": []
  },
  {
   "cell_type": "code",
   "execution_count": null,
   "id": "04132832",
   "metadata": {},
   "outputs": [],
   "source": []
  },
  {
   "cell_type": "code",
   "execution_count": null,
   "id": "81677fc5",
   "metadata": {},
   "outputs": [],
   "source": []
  },
  {
   "cell_type": "markdown",
   "id": "f4f5c910",
   "metadata": {},
   "source": [
    "<b><font color='white' style='background-color:blue'>1.1.e</font></b> <font color='white' style='text-shadow: -1px 0 black, 0 1px black, 1px 0 black, 0 -1px black;'>C</font> Modifiez la fonction `trouve_mot` de l'exercice `1.1.c` en lui donnant un paramètre booléen optionnel (voir TP01 !) `cadre`, par défaut égal à `False`. Quand `cadre` est `True`, la fonction devra afficher aussi le cadre (`0`, `1`, ou `2`) de chaque codon `AUG` trouvé."
   ]
  },
  {
   "cell_type": "code",
   "execution_count": null,
   "id": "56dadf20",
   "metadata": {},
   "outputs": [],
   "source": []
  },
  {
   "cell_type": "code",
   "execution_count": null,
   "id": "1c413bea",
   "metadata": {},
   "outputs": [],
   "source": []
  },
  {
   "cell_type": "markdown",
   "id": "e7d754f8",
   "metadata": {},
   "source": [
    "<b><font color='white' style='background-color:black'>Ex. 1.2</font> Tapis célestes</b><a class='anchor' id='chaînes'></a><br>\n",
    "\n",
    "On définit les fonctions suivantes :"
   ]
  },
  {
   "cell_type": "code",
   "execution_count": null,
   "id": "5d50fbd7",
   "metadata": {},
   "outputs": [],
   "source": [
    "# Ne pas modifier !\n",
    "from emoji import emojize\n",
    "\n",
    "def étoile():\n",
    "    print(emojize(\":star:\"), end='')\n",
    "    \n",
    "def lune():\n",
    "    print(emojize(\":crescent_moon:\"), end='')\n",
    "    \n",
    "def soleil():\n",
    "    print(emojize(\":sun:\"), end='')"
   ]
  },
  {
   "cell_type": "markdown",
   "id": "b44dbbba",
   "metadata": {},
   "source": [
    "<b><font color='white' style='background-color:orange'>1.2.a</font></b> <font color='white' style='text-shadow: -1px 0 black, 0 1px black, 1px 0 black, 0 -1px black;'>C</font> Reproduisez le tapis suivant à l'aide des fonctions définies :\n",
    "\n",
    "```\n",
    "☀️⭐⭐⭐☀️\n",
    "⭐☀️⭐☀️⭐\n",
    "⭐⭐☀️⭐⭐\n",
    "⭐☀️⭐☀️⭐\n",
    "☀️⭐⭐⭐☀️\n",
    "```"
   ]
  },
  {
   "cell_type": "code",
   "execution_count": null,
   "id": "e2b828fd",
   "metadata": {},
   "outputs": [],
   "source": []
  },
  {
   "cell_type": "markdown",
   "id": "5a06e38c",
   "metadata": {},
   "source": [
    "<b><font color='white' style='background-color:green'>1.2.b</font></b> Reproduisez le tapis suivant à l'aide des fonctions définies :\n",
    "\n",
    "```\n",
    "🌙🌙🌙🌙🌙🌙🌙🌙🌙🌙\n",
    "🌙⭐⭐🌙⭐⭐🌙⭐⭐🌙\n",
    "🌙⭐⭐🌙⭐⭐🌙⭐⭐🌙\n",
    "🌙🌙🌙🌙🌙🌙🌙🌙🌙🌙\n",
    "🌙⭐⭐🌙⭐⭐🌙⭐⭐🌙\n",
    "🌙⭐⭐🌙⭐⭐🌙⭐⭐🌙\n",
    "🌙🌙🌙🌙🌙🌙🌙🌙🌙🌙\n",
    "🌙⭐⭐🌙⭐⭐🌙⭐⭐🌙\n",
    "🌙⭐⭐🌙⭐⭐🌙⭐⭐🌙\n",
    "🌙🌙🌙🌙🌙🌙🌙🌙🌙🌙\n",
    "```"
   ]
  },
  {
   "cell_type": "code",
   "execution_count": null,
   "id": "71fc2ccd",
   "metadata": {},
   "outputs": [],
   "source": []
  },
  {
   "cell_type": "markdown",
   "id": "87e689b4",
   "metadata": {},
   "source": [
    "<b><font color='white' style='background-color:blue'>1.2.c</font></b> <font color='white' style='text-shadow: -1px 0 black, 0 1px black, 1px 0 black, 0 -1px black;'>C</font> Reproduisez le tapis suivant à l'aide des fonctions définies :\n",
    "```\n",
    "⭐⭐⭐⭐☀️☀️⭐⭐⭐⭐\n",
    "⭐⭐⭐☀️🌙🌙☀️⭐⭐⭐\n",
    "⭐⭐☀️🌙🌙🌙🌙☀️⭐⭐\n",
    "⭐☀️🌙🌙🌙🌙🌙🌙☀️⭐\n",
    "☀️🌙🌙🌙🌙🌙🌙🌙🌙☀️\n",
    "☀️🌙🌙🌙🌙🌙🌙🌙🌙☀️\n",
    "⭐☀️🌙🌙🌙🌙🌙🌙☀️⭐\n",
    "⭐⭐☀️🌙🌙🌙🌙☀️⭐⭐\n",
    "⭐⭐⭐☀️🌙🌙☀️⭐⭐⭐\n",
    "⭐⭐⭐⭐☀️☀️⭐⭐⭐⭐\n",
    "```"
   ]
  },
  {
   "cell_type": "code",
   "execution_count": null,
   "id": "0ffcd422",
   "metadata": {},
   "outputs": [],
   "source": []
  },
  {
   "cell_type": "markdown",
   "id": "45201be3",
   "metadata": {},
   "source": [
    "<h3>2. Objets [20m]</h3><a class='anchor' id='objets'></a>"
   ]
  },
  {
   "cell_type": "markdown",
   "id": "e22835c2",
   "metadata": {},
   "source": [
    "<b><font color='white' style='background-color:black'>Ex. 2.1</font> Les chaînes en tant qu'objets, et ses méthodes</b><a class='anchor' id='chaînes'></a><br>\n",
    "En Python, les types sont définis comme des classes, et puisque chaque donnée est associée à un type (et donc dérive d'une classe), **tout est un objet**. Les chaînes ne font pas d'exception, et constituent un bon exemple d'objet parce qu'elles intègres plusieurs méthodes très utiles :\n",
    "\n",
    "- `count` : méthode qui prend un caractère et compte les occurrences de ce caractère dans la chaîne ;\n",
    "- `replace` : méthode qui prend deux chaînes et remplace toutes les occurrences de la première avec la deuxième ;\n",
    "- `index` : méthode qui prend un caractère et rend l'index correspondant à la première occurrence du caractère dans la chaîne ;\n",
    "- `strip` : méthode qui enlève les espaces à droite et à gauche de la châine. Pour n'enlever que les espaces de droite : `rstrip`, de gauche : `lstrip`\n",
    "- `split` : méthode qui prend un caractère et divise la chaîne en sous-chaînes séparées par ce caratère.\n",
    "- `upper` : méthode qui rend la chaîne toute en majuscules\n",
    "- `lower` : méthode qui rend la chaîne toute en minuscules\n",
    "- `capitalize` : méthode qui rend le premier caractère majuscule"
   ]
  },
  {
   "cell_type": "markdown",
   "id": "b9a94d61",
   "metadata": {},
   "source": [
    "<b><font color='white' style='background-color:orange'>2.1.a</font></b> <font color='white' style='text-shadow: -1px 0 black, 0 1px black, 1px 0 black, 0 -1px black;'>C</font> `upper` ou `lower` peuvent être utilisés pour comparer des mots à défaut de casse. Comparez chacune des variables suivantes au mot `\"canard\"` et vérifiez lesquelles contiennent le même mot."
   ]
  },
  {
   "cell_type": "code",
   "execution_count": null,
   "id": "51c85f4b",
   "metadata": {},
   "outputs": [],
   "source": [
    "# Ne pas modifier !\n",
    "vrai_mot = \"CANARD\"\n",
    "a = \"Canard\"\n",
    "b = \"cAnARd\"\n",
    "c = \"CAnaRD  \"\n",
    "d = \"canadair\"\n",
    "e = \"  caNARD\""
   ]
  },
  {
   "cell_type": "code",
   "execution_count": null,
   "id": "70c2bb1b",
   "metadata": {},
   "outputs": [],
   "source": []
  },
  {
   "cell_type": "markdown",
   "id": "addcdb5c",
   "metadata": {},
   "source": [
    "<b><font color='white' style='background-color:orange'>2.1.b</font></b> Répétez la même validation de l'exercice `2.1.a`, mais cette fois, avant de comparer, enlevez les espaces qui précèdent ou suivent le mot. "
   ]
  },
  {
   "cell_type": "code",
   "execution_count": null,
   "id": "8f5491ea",
   "metadata": {},
   "outputs": [],
   "source": []
  },
  {
   "cell_type": "markdown",
   "id": "330dc5cf",
   "metadata": {},
   "source": [
    "<b><font color='white' style='background-color:orange'>2.1.c</font></b> Comptez les `'C'` dans la chaîne de caractères suivante : dans la première boîte, à l'aide d'une boucle `for`, dans la deuxième à l'aide d'une méthode de `str`"
   ]
  },
  {
   "cell_type": "code",
   "execution_count": null,
   "id": "2e5d47d8",
   "metadata": {},
   "outputs": [],
   "source": [
    "# Ne pas modifier !\n",
    "séquence = \"ACCTAGCTATTACCTATCGAGCTATTAGGCCCAAGAGCTATACGAGGATTCACAATCGCGCCCATCAGAGCTAC\""
   ]
  },
  {
   "cell_type": "code",
   "execution_count": null,
   "id": "e606d130",
   "metadata": {},
   "outputs": [],
   "source": []
  },
  {
   "cell_type": "code",
   "execution_count": null,
   "id": "c274d76a",
   "metadata": {},
   "outputs": [],
   "source": []
  },
  {
   "cell_type": "markdown",
   "id": "e9f5bb10",
   "metadata": {},
   "source": [
    "<b><font color='white' style='background-color:orange'>2.1.c</font></b> <font color='white' style='text-shadow: -1px 0 black, 0 1px black, 1px 0 black, 0 -1px black;'>C</font> Remplacez le mot `'NOM'` avec un nom et `'PRENOM'` avec un prénom dans le modèle suivant et affichez le résultat."
   ]
  },
  {
   "cell_type": "code",
   "execution_count": null,
   "id": "2e0d35aa",
   "metadata": {},
   "outputs": [],
   "source": [
    "# Ne pas modifier !\n",
    "texte = \"A l'attention de Mme NOM PRENOM\\n\\nChère Mme NOM,\\nLe comité scientifique de la conférence aRNAc_2024 est honoré de vous inviter\\nen tant qu'oratrice dans une session plénaire.\\nEn attendant votre réponse, veuillez agréer, Mme NOM, l'expression de nos\\nsalutations les plus distinguées,\\n\\n\\nLe Comité aRNAc\""
   ]
  },
  {
   "cell_type": "code",
   "execution_count": null,
   "id": "a028d4ca",
   "metadata": {},
   "outputs": [],
   "source": []
  },
  {
   "cell_type": "markdown",
   "id": "7b1c9d9c",
   "metadata": {},
   "source": [
    "<b><font color='white' style='background-color:black'>Ex. 2.2</font> Autres exemples d'objets</b><a class='anchor' id='autres'></a><br>\n",
    "\n",
    "<b><font color='white' style='background-color:green'>2.2.a</font></b> <font color='white' style='text-shadow: -1px 0 black, 0 1px black, 1px 0 black, 0 -1px black;'>C</font> Reprénons le code de l'exercice `3.2.e` du `TP01`, écrit ci-dessous. Est-ce que `py3Dmol.view` est une fonction ou une méthode ? et `view.setStyle` ? Répondez dans la boîte de texte."
   ]
  },
  {
   "cell_type": "code",
   "execution_count": null,
   "id": "a0135a01",
   "metadata": {},
   "outputs": [],
   "source": [
    "# Ne pas modifier ! \n",
    "# Pour installer le package...\n",
    "%pip install py3dmol"
   ]
  },
  {
   "cell_type": "code",
   "execution_count": null,
   "id": "999238bc",
   "metadata": {},
   "outputs": [],
   "source": [
    "# Ne pas modifier !\n",
    "import py3Dmol\n",
    "view = py3Dmol.view(query='pdb:1hvr')\n",
    "view.setStyle({'cartoon':{'color':'spectrum'}})\n",
    "view"
   ]
  },
  {
   "cell_type": "markdown",
   "id": "47ea015a",
   "metadata": {},
   "source": [
    "**Votre réponse ici**"
   ]
  },
  {
   "cell_type": "markdown",
   "id": "cd049031",
   "metadata": {},
   "source": [
    "<b><font color='white' style='background-color:green'>2.2.b</font></b> Même les nombres sont des objets (car `float` et `int` sont des classes !). Cherchez la méthode de la classe `float` qui écrit le nombre en termes de fraction d'entiers. Montrez le résultat pour le flottant `7.5` et le floattant `7.4`. Que remarquez-vous ? Expliquez."
   ]
  },
  {
   "cell_type": "code",
   "execution_count": null,
   "id": "a32cb30e",
   "metadata": {},
   "outputs": [],
   "source": []
  },
  {
   "cell_type": "code",
   "execution_count": null,
   "id": "dcb8f34e",
   "metadata": {},
   "outputs": [],
   "source": []
  },
  {
   "cell_type": "markdown",
   "id": "faabcff3",
   "metadata": {},
   "source": [
    "**Votre réponse ici**"
   ]
  },
  {
   "cell_type": "markdown",
   "id": "e7e8289e",
   "metadata": {},
   "source": [
    "<h3>3. Images [60m]</h3><a class='anchor' id='images'></a>"
   ]
  },
  {
   "cell_type": "markdown",
   "id": "0747adb4",
   "metadata": {},
   "source": [
    "<b><font color='white' style='background-color:black'>Ex. 3.1</font> La bibliothèque PIL</b><a class='anchor' id='PIL'></a><br>"
   ]
  },
  {
   "cell_type": "markdown",
   "id": "b22e7483",
   "metadata": {},
   "source": [
    "Pour manipuler les images, nous allons utiliser la bibliothèque _pillow_ (ou `PIL`), et plus spécifiquement, sa sous-bibliothèque `Image`.\n",
    "\n",
    "Le fonctionnement en bref : parmi les fonctions de la bibliothèque `Image` il y a `open`, qui sert à ouvrir un fichier image (`.jpeg`, `.png`, etc.) et charger son contenu dans un objet. Cet objet sera rendu par la fonction `open`.\n",
    "\n",
    "L'objet image rendu par la fonction `open` sera le centre de toutes nos manipulations. En effets, cet objet contient tous les attributs et les méthodes utiles pour analyser et modifier l'image en question. Ceux qu'on utilisera sont :\n",
    "- `width` (attribut, `int`) : largeur de l'image en pixels\n",
    "- `height` (attribut, `int`) : hauteur de l'image en pixels\n",
    "- `getpixel` (méthode) : prend un couple d'entiers `(x,y)` correspondant aux coordonnées d'un pixel et rend les valeurs des canaux RGB pour le pixel souhaité\n",
    "- `putpixel` (méthode) : prend un couple d'entiers `(x,y)` correspondant aux coordonnées d'un pixel et un triplet d'entiers `(r, g, b)` correspondant aux valeurs des canaux RGB qu'on souhaite attribuer au pixel choisi. La méthode ne rend rien, mais elle change la couleur du pixel souhaité\n",
    "\n",
    "**Attention** : les attributs et les méthodes sont à l'intérieur de l'objet image, donc il faut utiliser la syntaxe au point pour les utiliser. Par exemple, si l'objet se trouve dans une variable `obj`, la largeur de l'image associée sera donnée par `obj.width`, et on pourra changer la couleur du pixel `(0,3)` en rouge par `obj.putpixel((0,3), (255,0,0))`\n",
    "\n",
    "**Remarque sur l'utilisation de getpixel** : getpixel est une fonction qui rend trois valeurs (les niveaux de rouge, vert, et bleu du pixel choisi). Vous rappelez-vous comment on fait pour utiliser une telle fonction (**TP01 ex. 3.4.a**)? Si vous écrivez \n",
    "```python\n",
    "c = obj.getpixel((100,100))\n",
    "```\n",
    "\n",
    "`c` contiendra un triplet d'entiers, par exemple `(199, 3, 41)`. Si par contre vous écrivez\n",
    "```python\n",
    "r, g, b = obj.getpixel((100,100))\n",
    "```\n",
    "chacune des trois variables contiendra un entier.\n",
    "\n",
    "L'objet image nous donne donc tous les outils qu'on souhaite utiliser, sauf un : son affichage dans un notebook Jupyter. Pour ça, il faut un peu de bricolage : ici de suite on va définir deux fonctions pour l'affichage. Ce n'est donc pas des fonctions standard, et vous ne pouvez pas les utiliser hors de ce notebook (ou bien, il faudra copier-coller toute la définition) ! Mais elles nous rendront un bon service quand même.\n",
    "\n",
    "*Exécutez les deux blocs de code ci-dessous.*"
   ]
  },
  {
   "cell_type": "code",
   "execution_count": null,
   "id": "1c4dc7a7",
   "metadata": {},
   "outputs": [],
   "source": [
    "# Ne pas modifier !\n",
    "from PIL import Image  # Importe la sous-bibliothèque Image (dans la bibliothèque PIL)"
   ]
  },
  {
   "cell_type": "code",
   "execution_count": null,
   "id": "7f138bac",
   "metadata": {},
   "outputs": [],
   "source": [
    "# Ne pas modifier !\n",
    "# Des fonctions techniques, vous pouvez traiter ce code comme une boîte noire.\n",
    "\n",
    "def afficher_image(img):\n",
    "    from matplotlib.pyplot import imshow, show, axis, figure\n",
    "    from numpy import asarray\n",
    "    # pour afficher les courbes dans le notebook\n",
    "    # (nécessaire pour les versions anciennes de jupyter)\n",
    "    %matplotlib inline\n",
    "    fig=figure(figsize=(10,7), dpi= 70)\n",
    "    axis('off')\n",
    "    imshow(asarray(img))\n",
    "    show()\n",
    "    \n",
    "def afficher_image_axes(img):\n",
    "    from matplotlib.pyplot import imshow, show, axis, gca, figure\n",
    "    from matplotlib.axis import XAxis\n",
    "    from numpy import asarray\n",
    "    # pour afficher les courbes dans le notebook\n",
    "    # (nécessaire pour les versions anciennes de jupyter)\n",
    "    %matplotlib inline\n",
    "    fig=figure(figsize=(10,7), dpi= 70)\n",
    "    hauteur = img.height\n",
    "    largeur = img.width\n",
    "    pasX = max(largeur // 10, 1)\n",
    "    pasY = max(hauteur // 10, 1)\n",
    "    axis('on')\n",
    "    axeX = gca().get_xaxis()\n",
    "    axeY = gca().get_yaxis()\n",
    "    axeX.set_ticks_position('top')\n",
    "    axeX.set_ticks(range(0,largeur,pasX))\n",
    "    axeY.set_ticks(range(0,hauteur, pasY))\n",
    "    imshow(asarray(img))\n",
    "    show()"
   ]
  },
  {
   "cell_type": "markdown",
   "id": "abd51f36",
   "metadata": {},
   "source": [
    "<b><font color='white' style='background-color:orange'>3.1.a</font></b> <font color='white' style='text-shadow: -1px 0 black, 0 1px black, 1px 0 black, 0 -1px black;'>C</font> Vérifions que tout s'est bien passé : exécutez le code ci-dessous qui doit afficher une image au microscope de diatomées. Si ce n'est pas le cas, vérifiez que vous avez bien respecté toutes les étapes précédentes."
   ]
  },
  {
   "cell_type": "code",
   "execution_count": null,
   "id": "e83ef4dd",
   "metadata": {
    "scrolled": true
   },
   "outputs": [],
   "source": [
    "# Ne pas modifier !\n",
    "image_diatomées = Image.open('diatoms.jpeg')  # Affecte la variable image_diatomées par l'objet rendu par la fonction open\n",
    "afficher_image(image_diatomées)\n",
    "afficher_image_axes(image_diatomées)"
   ]
  },
  {
   "cell_type": "markdown",
   "id": "a4c499aa",
   "metadata": {},
   "source": [
    "En fait, vous devez obtenir deux photos de diatomées :\n",
    "* une première sans axes,\n",
    "* une seconde avec des axes gradués (qui représentent les pixels).\n",
    "\n",
    "Allez chercher dans l'explorateur de fichiers votre répertoire de TP. À l'aide des propriétés du fichier `diatoms.jpeg`, répondez aux questions suivantes : quel est le nombre de pixels de cette image ? Quel est son ratio d'aspect ?"
   ]
  },
  {
   "cell_type": "markdown",
   "id": "bb6ba7cc",
   "metadata": {},
   "source": [
    "**Taille : 2.2 megapixels. Ratio d'aspect : 1.52**"
   ]
  },
  {
   "cell_type": "markdown",
   "id": "56b02ae3",
   "metadata": {},
   "source": [
    "<b><font color='white' style='background-color:orange'>3.1.b</font></b> <font color='white' style='text-shadow: -1px 0 black, 0 1px black, 1px 0 black, 0 -1px black;'>C</font> Quel est le ratio d'aspect de l'écran d'ordinateur que vous utilisez en ce moment ? de votre écran de téléphone ?\n",
    "\n",
    "*Indications :* pour l'ordinateur, aller chercher dans les paramètres d'affichage. Pour le téléphone, vous pouvez chercher les spécifications sur internet."
   ]
  },
  {
   "cell_type": "markdown",
   "id": "d82e0887",
   "metadata": {},
   "source": [
    "**Votre réponse ici**"
   ]
  },
  {
   "cell_type": "markdown",
   "id": "a7df8787",
   "metadata": {},
   "source": [
    "<b><font color='white' style='background-color:orange'>3.1.c</font></b> <font color='white' style='text-shadow: -1px 0 black, 0 1px black, 1px 0 black, 0 -1px black;'>C</font> La variable `image_diatomées` est associée à  l'objet - rendu par la fonction `open` de la bibliothèque `Image` -  qui contient toutes les informations sur l'image `diatoms.jpeg`. Pour première chose, répétez cette affectation dans la première boîte de code.\n",
    "\n",
    "Nous pouvons désormais manipuler l'image, mais pour l'afficher nous n'allons pas utiliser `print`. En effet, dans la deuxième boîte de code, essayons d'utiliser `print` sur la variable `image_diatomées` et voyons ce que ça rend : arrivez-vous à y lire la taille de l'image ?"
   ]
  },
  {
   "cell_type": "code",
   "execution_count": null,
   "id": "ab4de991",
   "metadata": {},
   "outputs": [],
   "source": []
  },
  {
   "cell_type": "code",
   "execution_count": null,
   "id": "77c9b48c",
   "metadata": {},
   "outputs": [],
   "source": []
  },
  {
   "cell_type": "markdown",
   "id": "50b47a8f",
   "metadata": {},
   "source": [
    "**Votre réponse ici**"
   ]
  },
  {
   "cell_type": "markdown",
   "id": "132e39b4",
   "metadata": {},
   "source": [
    "<b><font color='white' style='background-color:orange'>3.1.d</font></b> Utilisez les attributs `width` et `height` pour récupérer la taille de l'image. Est-elle cohérente avec celle que vous avez récupérée avec `print` ?"
   ]
  },
  {
   "cell_type": "code",
   "execution_count": null,
   "id": "29bd0cd8",
   "metadata": {},
   "outputs": [],
   "source": []
  },
  {
   "cell_type": "markdown",
   "id": "7c51a78d",
   "metadata": {},
   "source": [
    "**Votre réponse ici**"
   ]
  },
  {
   "cell_type": "markdown",
   "id": "2f0292dd",
   "metadata": {},
   "source": [
    "<b><font color='white' style='background-color:black'>Ex. 3.2</font> Modifier une image simple</b><a class='modif' id='modifier'></a><br>\n",
    "\n",
    "Nous allons nous entraîner sur une image très simple : une croix blanche sur un fond noir de 10x10 pixels.\n",
    "\n",
    "<b><font color='white' style='background-color:orange'>3.2.a</font></b> <font color='white' style='text-shadow: -1px 0 black, 0 1px black, 1px 0 black, 0 -1px black;'>C</font> L'image se trouve dans le fichier `x.jpg` : chargez-la dans la variable `image_x`, et affichez-la sans axes (première boîte de code) et avec (deuxième), en utilisant les fonctions données auparavant."
   ]
  },
  {
   "cell_type": "code",
   "execution_count": null,
   "id": "71d21fdf",
   "metadata": {},
   "outputs": [],
   "source": []
  },
  {
   "cell_type": "code",
   "execution_count": null,
   "id": "787b441c",
   "metadata": {},
   "outputs": [],
   "source": []
  },
  {
   "cell_type": "markdown",
   "id": "f228f961",
   "metadata": {},
   "source": [
    "<b><font color='white' style='background-color:orange'>3.2.b</font></b> <font color='white' style='text-shadow: -1px 0 black, 0 1px black, 1px 0 black, 0 -1px black;'>C</font> changez la couleur du pixel en haut à gauche en rouge, et affichez l'image à nouveau pour vérifier."
   ]
  },
  {
   "cell_type": "code",
   "execution_count": null,
   "id": "504ab7da",
   "metadata": {},
   "outputs": [],
   "source": []
  },
  {
   "cell_type": "markdown",
   "id": "7164274d",
   "metadata": {},
   "source": [
    "<b><font color='white' style='background-color:green'>3.2.c</font></b> Rendez le carré central de la croix vert, puis affichez l'image obtenue."
   ]
  },
  {
   "cell_type": "code",
   "execution_count": null,
   "id": "e9825448",
   "metadata": {},
   "outputs": [],
   "source": []
  },
  {
   "cell_type": "markdown",
   "id": "b010d3ff",
   "metadata": {},
   "source": [
    "<b><font color='white' style='background-color:green'>3.2.d</font></b> <font color='white' style='text-shadow: -1px 0 black, 0 1px black, 1px 0 black, 0 -1px black;'>C</font> Ecrivez une fonction `est_blanc` qui prend deux entiers `x`, `y`, un objet image `obj` et vérifie si la couleur du pixel `(x,y)` dans l'image `obj` et blanche (c'est à dire avec un code RGB de `(255,255,255)`). Si c'est le cas, la fonction rend `True`, sinon `False`. Testez-la avec `image_x` et les pixels `(0,0)` et `(3,3)`"
   ]
  },
  {
   "cell_type": "code",
   "execution_count": null,
   "id": "4947552f",
   "metadata": {},
   "outputs": [],
   "source": []
  },
  {
   "cell_type": "code",
   "execution_count": null,
   "id": "5725b905",
   "metadata": {},
   "outputs": [],
   "source": []
  },
  {
   "cell_type": "markdown",
   "id": "79771879",
   "metadata": {},
   "source": [
    "<b><font color='white' style='background-color:green'>3.2.e</font></b> Transformez les parties restantes de la croix en jaune, puis affichez l'image obtenue."
   ]
  },
  {
   "cell_type": "code",
   "execution_count": null,
   "id": "a9dd0729",
   "metadata": {},
   "outputs": [],
   "source": []
  },
  {
   "cell_type": "markdown",
   "id": "e01b2e23",
   "metadata": {},
   "source": [
    "<b><font color='white' style='background-color:green'>3.2.f</font></b> <font color='white' style='text-shadow: -1px 0 black, 0 1px black, 1px 0 black, 0 -1px black;'>C</font> Affichez la couleur RGB des pixels `(0,0)`, `(2,2)` et `(4,4)` en utilisant la méthode `getpixel`"
   ]
  },
  {
   "cell_type": "code",
   "execution_count": null,
   "id": "34b4b909",
   "metadata": {},
   "outputs": [],
   "source": []
  },
  {
   "cell_type": "markdown",
   "id": "7f11050c",
   "metadata": {},
   "source": [
    "<b><font color='white' style='background-color:green'>3.2.g</font></b> <font color='white' style='text-shadow: -1px 0 black, 0 1px black, 1px 0 black, 0 -1px black;'>C</font> Créez une nouvelle image nommée `image_nouvelle` avec la fonction `new` de la sous-bibliothèque `Image`. L'image doit être de taille `20x20` et en mode `RGB`. Ensuite, avec une double boucle, colorez les deux diagonales de violet sur un fond jaune."
   ]
  },
  {
   "cell_type": "code",
   "execution_count": null,
   "id": "301e867d",
   "metadata": {},
   "outputs": [],
   "source": []
  },
  {
   "cell_type": "markdown",
   "id": "bb2e79b5",
   "metadata": {},
   "source": [
    "<b><font color='white' style='background-color:green'>3.2.h</font></b> Créez une nouvelle image nommée `image_palette` avec la fonction `new` de la sous-bibliothèque `Image`. L'image doit être de taille `256x256` et en mode `RGB`. Ensuite, avec une double boucle, colorez chaque pixel afin que la valeur du rouge soit égale à la première coordonnée et celle du vert à la deuxième. La valeur du bleu sera toujours égale à `0`. Enfin affichez. Qu'obtenez-vous ?"
   ]
  },
  {
   "cell_type": "code",
   "execution_count": null,
   "id": "9510c906",
   "metadata": {},
   "outputs": [],
   "source": []
  },
  {
   "cell_type": "markdown",
   "id": "654344da",
   "metadata": {},
   "source": [
    "<b><font color='white' style='background-color:black'>Ex. 3.3</font> Canaux </b><a class='modif' id='lot'></a><br>\n",
    "\n",
    "![](glia_neurons.jpeg)\n",
    "\n",
    "<b><font color='white' style='background-color:orange'>3.3.a</font></b> <font color='white' style='text-shadow: -1px 0 black, 0 1px black, 1px 0 black, 0 -1px black;'>C</font> Vous avez ci-dessus une image d'un tissu neuronal humain, avec les neurons en bleu, entourés par des différents types de cellules gliales : astrocytes (en rouge) et oligodendrocytes (en vert). Cette image se trouve dans le fichier `glia_neurons.jpeg`. Chargez-la dans une variable `image_neurons` et affichez-la avec les axes à l'aide de nos fonctions, et affichez de suite sa largeur et son hauteur"
   ]
  },
  {
   "cell_type": "code",
   "execution_count": null,
   "id": "09630277",
   "metadata": {},
   "outputs": [],
   "source": []
  },
  {
   "cell_type": "markdown",
   "id": "104dec7d",
   "metadata": {},
   "source": [
    "<b><font color='white' style='background-color:green'>3.3.b</font></b> <font color='white' style='text-shadow: -1px 0 black, 0 1px black, 1px 0 black, 0 -1px black;'>C</font> On ne veut que voir les cellules qui ont été colorées en bleu (les neurones). Pour ce faire, on va sélectionner le canal bleu **pour chaque pixel** : pour ce faire, il faudra \n",
    "- faire une double boucle sur tous les pixels (de 0 jusqu'à la largeur, et de 0 jusqu'à l'hauteur)\n",
    "- pour chaque pixel ;\n",
    "  - récupérez les valeurs des trois canaux RGB\n",
    "  - remplacez ces valeurs en annulant les valeurs des canaux rouge et vert tout en gardant celle du bleu inaltérée"
   ]
  },
  {
   "cell_type": "code",
   "execution_count": null,
   "id": "2d82afd6",
   "metadata": {},
   "outputs": [],
   "source": []
  },
  {
   "cell_type": "markdown",
   "id": "868eafd1",
   "metadata": {},
   "source": [
    "<b><font color='white' style='background-color:green'>3.3.c</font></b> <font color='white' style='text-shadow: -1px 0 black, 0 1px black, 1px 0 black, 0 -1px black;'>C</font> Faites la même chose avec les canaux rouge et vert et affichez les images qui en résultent. Rappelez-vous de toujours recharger l'image originale au début chaque script, autrement les effets vont se combiner (et que se passerait-il ?)"
   ]
  },
  {
   "cell_type": "code",
   "execution_count": null,
   "id": "0fdd56db",
   "metadata": {},
   "outputs": [],
   "source": []
  },
  {
   "cell_type": "code",
   "execution_count": null,
   "id": "0484d614",
   "metadata": {},
   "outputs": [],
   "source": []
  },
  {
   "cell_type": "markdown",
   "id": "75855178",
   "metadata": {},
   "source": [
    "<b><font color='white' style='background-color:black'>Ex. 3.4</font> Colocalisation </b><a class='modif' id='colocalisation'></a><br>\n",
    "On va maintenant étudier un exemple d'application : mesurer la colocalisation de marqueurs moléculaires.\n",
    "Les trois images de suite montrent la même structure cellulaire (réticule endoplasmique auquel sont rattachés des mitochondres), mais avec trois marqueurs différents qui ont été liés à trois molécules différentes : \n",
    "- Le marqueur CFP (bleu) est rattaché au mitochondres ;\n",
    "- Le marqueur GFP (vert) à une protéine nommée TRB1 de fonction inconnue ;\n",
    "- Le marqueur RFP (rouge) à une protéine qui se lie uniquement à la membrane du réticule endoplasmique.\n",
    "\n",
    "![](triple_image.jpeg)\n",
    "\n",
    "<b><font color='white' style='background-color:orange'>3.4.a</font></b> <font color='white' style='text-shadow: -1px 0 black, 0 1px black, 1px 0 black, 0 -1px black;'>C</font> Chargez les trois images `Mito-CFP.jpeg`, `GFP-TRB1.jpeg` et `VAP27-1-RFP.jpeg` et vérifiez qu'elles aient la même taille."
   ]
  },
  {
   "cell_type": "code",
   "execution_count": null,
   "id": "5a25ae3b",
   "metadata": {},
   "outputs": [],
   "source": []
  },
  {
   "cell_type": "markdown",
   "id": "b73f7d14",
   "metadata": {},
   "source": [
    "<b><font color='white' style='background-color:green'>3.4.b</font></b> <font color='white' style='text-shadow: -1px 0 black, 0 1px black, 1px 0 black, 0 -1px black;'>C</font> Puisque les images ont la même taille, on peut les superposer : \n",
    "- chargez les trois images dans trois variables ;\n",
    "- créez une nouvelle image de taille égale aux autres dans une quatrième variable `image_résultat`\n",
    "- faites une double boucles sur tous les pixels ;\n",
    "- pour chaque pixel :\n",
    "  - prenez la valeur du bleu depuis l'image bleu, du vert depuis l'image verte et du rouge depuis l'image rouge\n",
    "  - changez le pixel correspondant de `image_résultat` en mettant les trois valeurs recueillies\n",
    "- affichez `image_résultat`"
   ]
  },
  {
   "cell_type": "code",
   "execution_count": null,
   "id": "72933129",
   "metadata": {},
   "outputs": [],
   "source": []
  },
  {
   "cell_type": "markdown",
   "id": "0af92135",
   "metadata": {},
   "source": [
    "<b><font color='white' style='background-color:green'>3.4.b</font></b> <font color='white' style='text-shadow: -1px 0 black, 0 1px black, 1px 0 black, 0 -1px black;'>C</font> D'après l'image créée, on voit bien qu'il y a des densités de couleurs qui se superposent. Etudions par exemple la colocalisation du bleu (les mitochondres) et du vert (la protéine à la fonction inconnue) : pour ça, on va faire un filtrage de `image_résultat`, en sélectionnant les pixels qui ont une valeur de bleu de >100 et de vert de >100. Pour ce faire :\n",
    "- créez une nouvelle image de taille égale aux autres dans une variable `image_filtrée` ; \n",
    "- faites l'habituelle double boucle sur tous les pixels ;\n",
    "- pour chaque pixel :\n",
    "    - si la valeur de bleu ET la valeur de vert dans `image_résultat` sont >100, transférez les canaux bleu et vert dans le pixel correspondant de `image_filtrée` et mettez le canal rouge à 0\n",
    "    - sinon, annulez les trois canaux du pixel correspondant de `image_filtrée`\n",
    "- Affichez `image_filtrée`"
   ]
  },
  {
   "cell_type": "code",
   "execution_count": null,
   "id": "c5b45826",
   "metadata": {},
   "outputs": [],
   "source": []
  },
  {
   "cell_type": "markdown",
   "id": "9cc9ba47",
   "metadata": {},
   "source": [
    "<b><font color='white' style='background-color:green'>3.4.c</font></b> <font color='white' style='text-shadow: -1px 0 black, 0 1px black, 1px 0 black, 0 -1px black;'>C</font> Y a-t-il des régions vertes qui n'ont pas de bleu et des régions bleues qui n'ont pas de vert ?\n",
    "Cette fois-ci, créez une variable `image_diff` dans laquelle vous mettrez les pixels dont la valeur de bleu est >100 ET la valeur de vert <100, OU où la valeur de vert est <100 ET la valeur de bleu est >100.\n",
    "Affichez l'image : comment interpreteriez-vous ce résultat ? Est-ce que TRB1 ne se trouve qu'en proximité des mitochondres ? Est-ce que tous les mitochondres expriment la protéine TRB1 ?"
   ]
  },
  {
   "cell_type": "code",
   "execution_count": null,
   "id": "500ea3e8",
   "metadata": {},
   "outputs": [],
   "source": []
  },
  {
   "cell_type": "markdown",
   "id": "0a660d2b",
   "metadata": {},
   "source": [
    "Tous les mitochondres expriment la protéine TRB1, mais cette protéine se trouve aussi dans des endroits différents (petites taches vertes en haut à gauche), c'est à dire sur le réticule endoplasmique."
   ]
  },
  {
   "cell_type": "markdown",
   "id": "59feafa0",
   "metadata": {},
   "source": [
    "<b><font color='white' style='background-color:blue'>3.4.d</font></b> <font color='white' style='text-shadow: -1px 0 black, 0 1px black, 1px 0 black, 0 -1px black;'>C</font> L'analyse d'image est une étape qualitative qui sert à directionner les analyses quantitatives. Maintenant qu'on a un cadre assez clair de la colocalisation de TRB1 et des mitochondres, on peut évaluer son pourcentage de colocalisation par rapport à toutes les régions vertes et toutes les régions bleues : $\\frac{\\mathrm{vert-et-bleu}}{\\mathrm{vert}}$ et $\\frac{\\mathrm{vert-et-bleu}}{\\mathrm{bleu}}$. En vous inspirant du code que vous avez écrit en `3.4.c`, calculez ces deux quantités. Que remarquez-vous ? Quelle est la cause ?\n",
    "\n",
    "NB : attention à exclure la région de l'échelle, en bas à gauche ! Excluez le rectangle $[225, \\mathrm{hauteur}] \\times [0, 165]$ de votre analyse."
   ]
  },
  {
   "cell_type": "code",
   "execution_count": null,
   "id": "8ca5c053",
   "metadata": {},
   "outputs": [],
   "source": []
  }
 ],
 "metadata": {
  "kernelspec": {
   "display_name": "Python 3 (ipykernel)",
   "language": "python",
   "name": "python3"
  },
  "language_info": {
   "codemirror_mode": {
    "name": "ipython",
    "version": 3
   },
   "file_extension": ".py",
   "mimetype": "text/x-python",
   "name": "python",
   "nbconvert_exporter": "python",
   "pygments_lexer": "ipython3",
   "version": "3.10.8"
  }
 },
 "nbformat": 4,
 "nbformat_minor": 5
}
