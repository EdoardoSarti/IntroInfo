{
 "cells": [
  {
   "cell_type": "markdown",
   "id": "437a11d0",
   "metadata": {},
   "source": [
    "<h1><center>SPEB307 — Introduction à l'Informatique — TP 04</center><br>\n",
    "<center>Chaînes de caractères, fichiers</center></h1>"
   ]
  },
  {
   "cell_type": "markdown",
   "id": "c3a9453e",
   "metadata": {},
   "source": [
    "<h3>Auto-évaluation</h3>\n",
    "\n",
    "<div> Les exercices se divisent en trois niveaux d'auto-évaluation:\n",
    "<ul>\n",
    "    <li><h3><font color='white' style='background-color:orange'>Fondamentaux</font></h3> Pour réviser les notions apprises en cours. Il faut tous les savoir résoudre pour avoir la moyenne.</li>\n",
    "    <li><h3><font color='white' style='background-color:green'>Intermédiaires</font></h3> Pour vous aider à raisonner et rentrer au coeur des sujets. Si vous saurez tous les résoudre, vous aurez un bon niveau de préparation !</li>\n",
    "    <li><h3><font color='white' style='background-color:blue'>Avancés</font></h3> Défis pour vous entraîner à l'examen final... et aller plus loin !</li>\n",
    "</ul>\n",
    "</div>"
   ]
  },
  {
   "cell_type": "markdown",
   "id": "c1b5b9b0",
   "metadata": {},
   "source": [
    "### <font color='black'>Table des matières<font><a class='anchor' id='top'></a>\n",
    "    \n",
    "1. [Chaînes de caractères](#chaînes)<br>\n",
    "    1.1 [Caractères spéciaux et usage de la fonction print](#caractères)<br>\n",
    "    1.2 [Opérations sur les chaînes](#opérations)<br>\n",
    "    1.3 [Extraction de caractères](#extraction)<br>\n",
    "    1.4 [Itération par indice](#indice)<br>\n",
    "    1.5 [Itération par élément](#élément)<br>\n",
    "    1.6 [Modifier une chaîne](#modifier)<br>\n",
    "    1.7 [Découpages](#découpages)<br>\n",
    "2. [Fichiers de texte](#texte)<br>\n",
    "    2.1 [Lecture de fichiers](#lecture)<br>\n",
    "    2.2 [Ecriture de fichiers](#écriture)<br>"
   ]
  },
  {
   "cell_type": "markdown",
   "id": "3195eaef",
   "metadata": {},
   "source": [
    "<h3>1. Chaînes de caractères</h3><a class='anchor' id='chaînes'></a>\n",
    "\n",
    "Le type `str` (chaîne de caractères) est les premier **type complexe** qu'on rencontre. La chaîne de caractère est une **séquence** qui se compose d'un certain nombre d'**éléments** : les caractères. Ainsi, la chaîne `'Kaboom !'` est composée des 8 éléments suivants: `'K'`, `'a'`, `'b'` `'o'`, `'o'`, `'m'`, `' '`, `'!'`. Remarquez comme l'espace `' '` et le point exclamatif `'!'` sont aussi des éléments.\n",
    "\n",
    "Chaque élément d'une séquence est associé à un indice qui sert à le récupérer sans devoir considérer toute la séquence. En fait, Python offre deux systèmes d'indexage, montrés en figure.\n",
    "\n",
    "\n",
    "Ainsi, dans l'exemple, le caractère `'b'` correspond à l'indice `2` (car c'est le troisième élément) et aussi à l'indice `-6` (c'est aussi le sixième-dernier élément).\n",
    "\n",
    "\n",
    "![](Kaboom.jpeg)"
   ]
  },
  {
   "cell_type": "markdown",
   "id": "261cb3be",
   "metadata": {},
   "source": [
    "<b><font color='white' style='background-color:black'>Ex. 1.1</font> Caractères spéciaux et usage de la fonction print</b><a class='anchor' id='caractères'></a><br>\n",
    "\n",
    "Petit rappel sur les caractères spéciaux (ils commencent tous par l'_échappement_ `'\\'`\n",
    "\n",
    "```python\n",
    "'\\n' # caractère de retour à la ligne\n",
    "'\\t' # caractère de tabulation\n",
    "'\\\\' # anti-slash \\\n",
    "'\\'' # apostrophe '\n",
    "\"\\\"\" # guillemets \"\n",
    "```"
   ]
  },
  {
   "cell_type": "markdown",
   "id": "b889734b",
   "metadata": {},
   "source": [
    "<b><font color='white' style='background-color:orange'>1.1.c</font></b> Combien de caractères y a-t-il dans la chaîne `'Hello !\\nJe m\\'appelle HAL\\nEnchanté'` ? Comptez-les à la main, puis utilisez l'une des fonctions vues en cours (TP01) pour vérifier."
   ]
  },
  {
   "cell_type": "code",
   "execution_count": null,
   "id": "322293a0",
   "metadata": {},
   "outputs": [],
   "source": []
  },
  {
   "cell_type": "markdown",
   "id": "aa2de05a",
   "metadata": {},
   "source": [
    "<b><font color='white' style='background-color:orange'>1.1.d</font></b> Quelle est la chaîne la plus longue ? Répondez, puis vérifiez avec du code"
   ]
  },
  {
   "cell_type": "code",
   "execution_count": null,
   "id": "833348ad",
   "metadata": {},
   "outputs": [],
   "source": [
    "# Ne pas modifier !\n",
    "s1 = 'azertyuiop'\n",
    "s2 = 'a\\n\\'\\nmel\\\\3'"
   ]
  },
  {
   "cell_type": "markdown",
   "id": "35a0aa77",
   "metadata": {},
   "source": [
    "**Ici votre réponse**"
   ]
  },
  {
   "cell_type": "code",
   "execution_count": null,
   "id": "a7ef8ee3",
   "metadata": {},
   "outputs": [],
   "source": []
  },
  {
   "cell_type": "markdown",
   "id": "52bfbb16",
   "metadata": {},
   "source": [
    "<b><font color='white' style='background-color:green'>1.1.f</font></b> Un autre paramètre optionnel de la fonction `print` est `sep`, qui permet de changer le séparateur utilisé par la fonction pour séparer les arguments. Le défault est `' '`.\n",
    "\n",
    "Exemple :"
   ]
  },
  {
   "cell_type": "code",
   "execution_count": null,
   "id": "1305a616",
   "metadata": {
    "scrolled": true
   },
   "outputs": [],
   "source": [
    "# Ne pas modifier !\n",
    "print(\"T'as pris les chaussettes\", \"les caleçons\", \"la brosse à dents ?\")  # arguments séparés par un espace\n",
    "print(\"T'as pris les chaussettes\", \"les caleçons\", \"la brosse à dents ?\", sep=\",\")  # arguments séparés par une virgule"
   ]
  },
  {
   "cell_type": "markdown",
   "id": "ea7f0fb9",
   "metadata": {},
   "source": [
    "Ecrivez du code qui genère ce tableau (les colonnes sont séparées par des `'\\t'` :\n",
    "```\n",
    "nombre  carré\n",
    "1       1\n",
    "3       9\n",
    "5       25\n",
    "7       49\n",
    "9       81\n",
    "```"
   ]
  },
  {
   "cell_type": "code",
   "execution_count": null,
   "id": "8872352a",
   "metadata": {},
   "outputs": [],
   "source": []
  },
  {
   "cell_type": "markdown",
   "id": "6468efaa",
   "metadata": {},
   "source": [
    "<b><font color='white' style='background-color:black'>Ex. 1.2</font> Opérations sur les chaînes</b><a class='anchor' id='opérations'></a><br>\n",
    "\n",
    "On définit deux opérations sur les chaînes :\n",
    "- la *concaténation* `+` enchaîne plusieurs chaînes de caractères l'une après l'autre\n",
    "- la *répétition* `*` repète une chaîne de caractères un certain nombre de fois\n",
    "\n",
    "Exemples :"
   ]
  },
  {
   "cell_type": "code",
   "execution_count": null,
   "id": "b1d26ec8",
   "metadata": {},
   "outputs": [],
   "source": [
    "# Ne pas modifier !\n",
    "# Concaténation\n",
    "a = \"Ceci \" + \"n'est pas \" + \"une addition\"\n",
    "print(a)"
   ]
  },
  {
   "cell_type": "code",
   "execution_count": null,
   "id": "ea4299ff",
   "metadata": {},
   "outputs": [],
   "source": [
    "# Ne pas modifier !\n",
    "# Répétition\n",
    "a = \"All work and no play makes Jack a dull boy\\n\"*10\n",
    "print(a)"
   ]
  },
  {
   "cell_type": "markdown",
   "id": "de672db0",
   "metadata": {},
   "source": [
    "<b><font color='white' style='background-color:orange'>1.2.a</font></b> Expliquez pourquoi les deux boîtes de code suivantes ne produisent pas le même affichage.\n",
    "\n",
    "```python\n",
    "print('Bonjour', 'à toutes', 'et à tous !')\n",
    "```\n",
    "\n",
    "```python\n",
    "print('Bonjour' + 'à toutes' + 'et à tous !')\n",
    "```"
   ]
  },
  {
   "cell_type": "markdown",
   "id": "99bbb873",
   "metadata": {},
   "source": [
    "**Ici votre réponse**"
   ]
  },
  {
   "cell_type": "markdown",
   "id": "64f6800a",
   "metadata": {},
   "source": [
    "<b><font color='white' style='background-color:orange'>1.2.b</font></b> Écrire du code pour afficher\n",
    "```\n",
    "Bonjour ! Bonjour ! Bonjour ! Bonjour ! Bonjour ! \n",
    "```\n",
    "* sans boucle `for`,\n",
    "* avec un seul `print`,\n",
    "* en tapant une seule fois `Bonjour !`."
   ]
  },
  {
   "cell_type": "code",
   "execution_count": null,
   "id": "d5ab4a85",
   "metadata": {},
   "outputs": [],
   "source": []
  },
  {
   "cell_type": "markdown",
   "id": "594487c9",
   "metadata": {},
   "source": [
    "<b><font color='white' style='background-color:orange'>1.2.c</font></b> Écrire du code pour produire l'affichage suivant en deux lignes de code, avec une boucle `for`.\n",
    "```\n",
    "Oui ! \n",
    "Oui ! Oui ! \n",
    "Oui ! Oui ! Oui ! \n",
    "Oui ! Oui ! Oui ! Oui ! \n",
    "Oui ! Oui ! Oui ! Oui ! Oui ! \n",
    "Oui ! Oui ! Oui ! Oui ! Oui ! Oui ! \n",
    "Oui ! Oui ! Oui ! Oui ! Oui ! Oui ! Oui ! \n",
    "Oui ! Oui ! Oui ! Oui ! Oui ! Oui ! Oui ! Oui ! \n",
    "Oui ! Oui ! Oui ! Oui ! Oui ! Oui ! Oui ! Oui ! Oui ! \n",
    "```"
   ]
  },
  {
   "cell_type": "code",
   "execution_count": null,
   "id": "95dc90c3",
   "metadata": {},
   "outputs": [],
   "source": []
  },
  {
   "cell_type": "markdown",
   "id": "6faec306",
   "metadata": {},
   "source": [
    "<b><font color='white' style='background-color:orange'>1.2.e</font></b> Écrire du code pour produire l'affichage suivant.\n",
    "```\n",
    "Non ! \n",
    "Oui ! Oui ! \n",
    "Non ! Non ! Non ! \n",
    "Oui ! Oui ! Oui ! Oui ! \n",
    "Non ! Non ! Non ! Non ! Non ! \n",
    "Oui ! Oui ! Oui ! Oui ! Oui ! Oui ! \n",
    "Non ! Non ! Non ! Non ! Non ! Non ! Non ! \n",
    "Oui ! Oui ! Oui ! Oui ! Oui ! Oui ! Oui ! Oui ! \n",
    "Non ! Non ! Non ! Non ! Non ! Non ! Non ! Non ! Non ! \n",
    "Oui ! Oui ! Oui ! Oui ! Oui ! Oui ! Oui ! Oui ! Oui ! Oui !  \n",
    "```"
   ]
  },
  {
   "cell_type": "code",
   "execution_count": null,
   "id": "7976e3ef",
   "metadata": {},
   "outputs": [],
   "source": []
  },
  {
   "cell_type": "markdown",
   "id": "d8da1c79",
   "metadata": {},
   "source": [
    "<b><font color='white' style='background-color:black'>Ex. 1.3</font> Extraction de caractères</b><a class='anchor' id='extraction'></a><br>\n",
    "\n",
    "La syntaxe pour extraire (récupérer) un caractère d'après une chaîne de caractères est simple : si `v` est la variable contenant la chaîne et `i` contient un entier, `v[i]` extrait le caractère correspondant à l'indice `i`, selon les règles mentionnées au début de cette section.\n",
    "\n",
    "Exemples:"
   ]
  },
  {
   "cell_type": "code",
   "execution_count": null,
   "id": "4056ea43",
   "metadata": {},
   "outputs": [],
   "source": [
    "# Ne pas modifier !\n",
    "chaîne = \"Abracadabra\"\n",
    "print(chaîne[3])  # Extrait le QUATRIEME caractère\n",
    "print(chaîne[-1]) # Extrait le DERNIER caractère"
   ]
  },
  {
   "cell_type": "markdown",
   "id": "d2d4b483",
   "metadata": {},
   "source": [
    "Attention : il faut toujour contrôler que le caractère auquel l'indice pointe existe ! Si `v` contient un mot de 4 lettres et on cherche à extraire `v[6]`, une erreur se produira :"
   ]
  },
  {
   "cell_type": "code",
   "execution_count": null,
   "id": "dbde7b34",
   "metadata": {},
   "outputs": [],
   "source": [
    "# Ne pas modifier !\n",
    "v = \"Cool\"\n",
    "print(v[6])"
   ]
  },
  {
   "cell_type": "markdown",
   "id": "3795e758",
   "metadata": {},
   "source": [
    "<b><font color='white' style='background-color:green'>1.3.b</font></b> Pour une chaîne de caractères `s` définie au préalable, créez un test qui vérifie si la elle commence et se termine avec la même lettre. Essayez donc avec les chaînes `'baobab'`, `'Europe'`, `'EUROPE'`, `'Super Mario'`, et `'H'`."
   ]
  },
  {
   "cell_type": "code",
   "execution_count": null,
   "id": "a5a51fe7",
   "metadata": {},
   "outputs": [],
   "source": []
  },
  {
   "cell_type": "code",
   "execution_count": null,
   "id": "25f8cd0c",
   "metadata": {},
   "outputs": [],
   "source": []
  },
  {
   "cell_type": "markdown",
   "id": "1841a158",
   "metadata": {},
   "source": [
    "<b><font color='white' style='background-color:black'>Ex. 1.4</font> Itération par indice</b><a class='anchor' id='indice'></a><br>\n",
    "\n",
    "Si on peut récupérer un caractère d'une chaîne avec un indice, rien nous empêche d'utiliser une boucle (`while` ou `for`) pour en récupérer plusieurs !\n",
    "\n",
    "Exemple:"
   ]
  },
  {
   "cell_type": "code",
   "execution_count": null,
   "id": "e9d654b8",
   "metadata": {},
   "outputs": [],
   "source": [
    "# Ne pas modifier !\n",
    "var = \"Itération\" # Les indices positifs de cette chaîne vont de 0 jusqu'à sa longueur moins 1\n",
    "n = len(var) # La longueur de la chaîne ! Cfr TP01\n",
    "for i in range(0,n):\n",
    "    print(\"Caractère numéro\", i, \":\", var[i])"
   ]
  },
  {
   "cell_type": "markdown",
   "id": "7bde2fb2",
   "metadata": {},
   "source": [
    "<b><font color='white' style='background-color:orange'>1.4.a</font></b> Ecrivez du code pour afficher les caractères impairs (premier, troisième, etc.) de cette chaîne: `'Mteys9seawgqeg'` sans jamais retourner à la ligne"
   ]
  },
  {
   "cell_type": "code",
   "execution_count": null,
   "id": "a5c3d4e1",
   "metadata": {},
   "outputs": [],
   "source": []
  },
  {
   "cell_type": "markdown",
   "id": "9568cad5",
   "metadata": {},
   "source": [
    "<b><font color='white' style='background-color:green'>1.4.c</font></b> Créez un script qui prend en entrée une chaîne `s` et vérifie si elle est palyndrome, c'est-à-dire si elle reste identique quand on l'inverse. Le code doit rendre `True` si c'est le cas, `False` autrement. Testez avec plusieurs valeurs de `s`."
   ]
  },
  {
   "cell_type": "code",
   "execution_count": null,
   "id": "02089422",
   "metadata": {},
   "outputs": [],
   "source": []
  },
  {
   "cell_type": "markdown",
   "id": "2f98a512",
   "metadata": {},
   "source": [
    "<b><font color='white' style='background-color:black'>Ex. 1.5</font> Itération par élément</b><a class='anchor' id='élément'></a><br>\n",
    "\n",
    "Comme toute _séquence_, le type `str` (chaîne) est un type _itérable_, c'est à dire qu'on peut y itérer dessus. Cette propriété permet d'utiliser la boucle `for` d'une nouvelle façon :\n",
    "\n",
    "```python\n",
    "# Itération par élément\n",
    "chaîne = \"Exemple\"\n",
    "for c in chaîne:\n",
    "    # Ici le code à répéter\n",
    "    print(c)\n",
    "```\n",
    "\n",
    "On peut en effet simplement itérer sur les éléments de la chaîne (c'est à dire ses caractères) sans devoir passer par les indices associés. Mais attention : parfois, c'est plus pratique d'avoir l'indice !"
   ]
  },
  {
   "cell_type": "markdown",
   "id": "9b87ae29",
   "metadata": {},
   "source": [
    "<b><font color='white' style='background-color:green'>1.5.a</font></b> Créez du code qui affiche tous les caractères d'une chaîne `s` définie au préalable (de suite, sans retourner à la ligne), sauf les `'r'`. Testez-la avec différentes valeurs de `s`"
   ]
  },
  {
   "cell_type": "code",
   "execution_count": null,
   "id": "6d98b603",
   "metadata": {},
   "outputs": [],
   "source": []
  },
  {
   "cell_type": "markdown",
   "id": "f2bd2f41",
   "metadata": {},
   "source": [
    "<b><font color='white' style='background-color:black'>Ex. 1.6</font> Modifier une chaîne</b><a class='anchor' id='modifier'></a><br>\n",
    "\n",
    "Comme tous les types qu'on a vu jusqu'à ce moment, le type `str` aussi est un type _immuable_, ou _non-modifiable_. Cela signifie que, une fois une variable affectée par un `str`, la seule façon de modifier son contenu est avec une autre affectation. (On verra qu'il y a aussi des types _modifiables_ pour lesquels ce n'est pas le cas).\n",
    "\n",
    "Par exemple, si on a `s = 'Incomple'`, la seule façon de rajouter le `'t'` manquant est\n",
    "```python\n",
    "s = s + 't'  # affectation ! s vaut la valeur précédente de s concatenée avec 't'\n",
    "```"
   ]
  },
  {
   "cell_type": "markdown",
   "id": "c50cc8f4",
   "metadata": {},
   "source": [
    "<b><font color='white' style='background-color:green'>1.6.b</font></b> Créez du code qui prend en entrée la chaîne `s` définie au préalable et affiche une chaîne dans laquelle `'L'` a été remplacé par `'1'`, `'E'` par `'3'` et `'T'` par `'7'`.\n",
    "\n",
    "Exemple : pour `s = 'MIGNONNE, ALLONS VOIR SI LA ROSE\\nQUI CE MATIN AVAIT DÉCLOSE\\nSA ROBE DE POURPRE AU SOLEIL,\\nA POINT PERDU CETTE VESPRÉE,\\nLES PLIS DE SA ROBE POURPRÉE,\\nET SON TEINT AU VÔTRE PAREIL.'`, la fonction `print(leet(s))` doit rendre\n",
    "```\n",
    "MIGNONN3, A11ONS VOIR SI 1A ROS3\n",
    "QUI C3 MA7IN AVAI7 DÉC1OS3\n",
    "SA ROB3 D3 POURPR3 AU SO13I1,\n",
    "A POIN7 P3RDU C3773 V3SPRÉ3,\n",
    "13S P1IS D3 SA ROB3 POURPRÉ3,\n",
    "37 SON 73IN7 AU VÔ7R3 PAR3I1.\n",
    "```"
   ]
  },
  {
   "cell_type": "code",
   "execution_count": null,
   "id": "f77d7850",
   "metadata": {},
   "outputs": [],
   "source": []
  },
  {
   "cell_type": "markdown",
   "id": "8a22e04e",
   "metadata": {},
   "source": [
    "<b><font color='white' style='background-color:black'>Ex. 1.7</font> Découpages</b><a class='anchor' id='découpages'></a><br>\n",
    "\n",
    "La syntaxe à crochets utilisée pour l'extraction d'un caractère peut être généralisée pour extraire une sous-chaîne. Si `s` contient une chaîne, la syntaxe\n",
    "\n",
    "```\n",
    "s[début:fin:pas]\n",
    "```\n",
    "\n",
    "où `début`, `fin` et `pas` sont trois entiers, sélectionne la sous-châine formée par les caractères suivants :\n",
    "- en supposant $\\mathrm{début} <= \\mathrm{fin}$ :\n",
    "$$\\{\\mathrm{début}, \\mathrm{début}+\\mathrm{pas}, \\mathrm{début}+2\\mathrm{pas}, ..., \\mathrm{début}+n\\mathrm{pas}\\}$$ où $\\mathrm{début}+n\\mathrm{pas} < \\mathrm{fin}$ et $\\mathrm{début}+(n+1)\\mathrm{pas} \\geq \\mathrm{fin}$.\n",
    "- en supposant $\\mathrm{début} > \\mathrm{fin}$ :\n",
    "$$\\{\\mathrm{début}, \\mathrm{début}-\\mathrm{pas}, \\mathrm{début}-2\\mathrm{pas}, ..., \\mathrm{début}-n\\mathrm{pas}\\}$$ où $\\mathrm{début}-n\\mathrm{pas} > \\mathrm{fin}$ et $\\mathrm{début}-(n+1)\\mathrm{pas} \\leq \\mathrm{fin}$.\n",
    "\n",
    "Vous avez bien remarqué que c'est la même convention que la fonction `range` ! Avec une convention supplémentaire : les trois entiers peuvent être omis, et ont des défaults\n",
    "- si `pas` est positif ou nul, `début = 0`, `fin = len(s)`\n",
    "- si `pas` est négatif, `début = len(s)-1`, `fin = -1`\n",
    "Si `pas` n'est pas défini, `pas = 0`\n",
    "\n",
    "Exemples:"
   ]
  },
  {
   "cell_type": "code",
   "execution_count": null,
   "id": "801bf994",
   "metadata": {},
   "outputs": [],
   "source": [
    "# Ne pas modifier !\n",
    "s = \"caillou\"\n",
    "print(s[::-1])  # Rend la chaîne inversée"
   ]
  },
  {
   "cell_type": "code",
   "execution_count": null,
   "id": "76626830",
   "metadata": {},
   "outputs": [],
   "source": [
    "# Ne pas modifier !\n",
    "var = \"Cogito ergo sum\"\n",
    "print(var[2::3])  # Départ du TROISIEME caractère, et sélectionne chaque 3ème caractère jusqu'au bout"
   ]
  },
  {
   "cell_type": "markdown",
   "id": "5a224e11",
   "metadata": {},
   "source": [
    "<b><font color='white' style='background-color:green'>1.7.a</font></b> Créez du code qui définit une chaîne `s` et utilise un découpage pour en afficher la première moitié (`n//2` caractères si n est impair). Ensuite, faites la même chose mais sans utiliser un découpage."
   ]
  },
  {
   "cell_type": "code",
   "execution_count": null,
   "id": "6bae688a",
   "metadata": {},
   "outputs": [],
   "source": []
  },
  {
   "cell_type": "code",
   "execution_count": null,
   "id": "08d9c38a",
   "metadata": {},
   "outputs": [],
   "source": []
  },
  {
   "cell_type": "markdown",
   "id": "b0f0fc16",
   "metadata": {},
   "source": [
    "<h3>2. Fichiers de texte</h3><a class='anchor' id='fichiers'></a>\n",
    "\n",
    "On peut ouvrir un fichier de texte avec la fonction `open`, qui prend une chaîne de caractères correspondante au nom du fichier qu'on veut utiliser et rend un objet qui contient toutes les informations (et le contenu) de ce fichier) :\n",
    "\n",
    "```python\n",
    "texte = open(\"fichier.txt\")  # Ouvre le fichier fichier.txt et le charge dans la variable texte\n",
    "```\n",
    "\n",
    "Attention : normalement, la fonction `open` ouvre un fichier _en lecture_, c'est à dire qu'il sera interdit d'écrire sur ce fichier. Pour modifier ce comportement, il faut utiliser le paramètre optionnel `mode`, qui prend les options suivantes : `\"r\"` (lecture), `\"w\"` (écriture), `\"a\"` (ajouter en bas du fichier).\n",
    "Attention : si vous ouvrez un fichier existant avec l'option `\"w\"`, Python va écraser tout son contenu ! Pour écrire et ne pas perdre le contenu, il faut utiliser l'option `\"a\"`.\n",
    "\n",
    "```python\n",
    "texte_en_écriture = open(\"autre_fichier.txt\", \"w\")    # ouvre le fichier en mode écriture\n",
    "```\n",
    "\n",
    "Comme toute donnée sur machine, les fichiers de texte sont des chaînes binaires qui sont interprétées par le système et/ou Python comme des longues chaînes de caractères. Il y a donc un _encodage_ qui doit être utilisé, et il en existent plusieurs. Parfois, il est donc nécessaire de spécifier le format d'encodage afin que le fichier soit lu correctement. Pour ça, `open` possède le paramètre `encoding` :\n",
    "```python\n",
    "texte = open(\"fichier.txt\", \"r\", encoding='utf-8')   # ouvre le fichier en lecture, avec encodage utf-8\n",
    "```\n",
    "\n",
    "L'objet rendu par la fonction `open` possède des méthodes très utiles :\n",
    "- `read` rend la chaîne de caractères équivalente au fichier entier\n",
    "- `readlines` rend la liste lignes du fichier\n",
    "- (si le fichier est ouvert en mode `\"a\"` ou `\"w\"`) `write` prend une chaîne de caractères et l'écrit dans le fichier\n",
    "- `close` : après avoir utilisé un fichier, toujours se rappeler d'appeler cette fonction pour le fermer, autrement tout son contenu va rester sur la mémoire vive, et risque de ralentir la machine !\n",
    "\n",
    "L'objet rendu par `open` est _itérable_, c'est à dire qu'il peut être utilisé comme séquence dans une boucle `for`, de cette façon :\n",
    "\n",
    "```python\n",
    "f = open(\"fichier.txt\")\n",
    "for ligne in f:\n",
    "    # bla bla...\n",
    "```\n",
    "\n",
    "La variable de boucle `ligne` va ainsi contenir chaque ligne (séparée par `\"\\n\"`) du texte du fichier."
   ]
  },
  {
   "cell_type": "markdown",
   "id": "6a09b0a6",
   "metadata": {},
   "source": [
    "<b><font color='white' style='background-color:black'>Ex. 2.1</font> Lecture de fichiers</b><a class='anchor' id='lecture'></a><br>\n",
    "\n",
    "<b><font color='white' style='background-color:orange'>2.1.a</font></b> Ouvrez le fichier `correspondances.txt` et affichez-en le contenu avec la méthode `read`. Ensuite, fermez le fichier"
   ]
  },
  {
   "cell_type": "code",
   "execution_count": null,
   "id": "a99a6fae",
   "metadata": {},
   "outputs": [],
   "source": []
  },
  {
   "cell_type": "markdown",
   "id": "d52e24e2",
   "metadata": {},
   "source": [
    "<b><font color='white' style='background-color:orange'>2.1.b</font></b> Ouvrez le fichier `correspondances.txt` et affichez-en le contenu, cette fois-ci en utilisant la syntaxe à boucle, et numérotez les lignes. Attention : puisque chaque ligne se termine par `\"\\n\"`, vous ne devrez pas allez à la ligne avec la fonction `print` ! Ensuite, fermez le fichier"
   ]
  },
  {
   "cell_type": "code",
   "execution_count": null,
   "id": "46dc8489",
   "metadata": {},
   "outputs": [],
   "source": []
  },
  {
   "cell_type": "markdown",
   "id": "dd90f478",
   "metadata": {},
   "source": [
    "<b><font color='white' style='background-color:orange'>2.1.c</font></b> Dans les fichiers `Aragon1a.txt` et `Aragon1b.txt` il y a les deux moitiés d'un poème. Ouvrez les fichiers, affichez-les dans le bon ordre, et fermez-les."
   ]
  },
  {
   "cell_type": "code",
   "execution_count": null,
   "id": "160ae502",
   "metadata": {},
   "outputs": [],
   "source": []
  },
  {
   "cell_type": "markdown",
   "id": "2b2d5e96",
   "metadata": {},
   "source": [
    "<b><font color='white' style='background-color:green'>2.1.d</font></b> Répétez l'exercice `2.1.c` avec les fichiers `Aragon1a.txt` et `Aragon1b.txt`. Cette fois, numérotés les lignes, mais n'associez pas de numéros aux lignes vides ! \n",
    "\n",
    "Vous devez obtenir l'affichage suivant (faites attention au formattage) :\n",
    "```\n",
    "0    Les mains d'Elsa\n",
    "     \n",
    "1    Donne-moi tes mains pour l'inquiétude\n",
    "2    Donne-moi tes mains dont j'ai tant rêvé\n",
    "3    Dont j'ai tant rêvé dans ma solitude\n",
    "4    Donne-moi tes mains que je sois sauvé\n",
    "     \n",
    "5    Lorsque je les prends à mon pauvre piège\n",
    "6    De paume et de peur de hâte et d'émoi\n",
    "7    Lorsque je les prends comme une eau de neige\n",
    "8    Qui fond de partout dans mes mains à moi\n",
    "     \n",
    "9    Sauras-tu jamais ce qui me traverse\n",
    "10   Ce qui me bouleverse et qui m'envahit\n",
    "11   Sauras-tu jamais ce qui me transperce\n",
    "12   Ce que j'ai trahi quand j'ai tressailli\n",
    "     \n",
    "13   Ce que dit ainsi le profond langage\n",
    "14   Ce parler muet de sens animaux\n",
    "15   Sans bouche et sans yeux miroir sans image\n",
    "16   Ce frémir d'aimer qui n'a pas de mots\n",
    "     \n",
    "17   Sauras-tu jamais ce que les doigts pensent\n",
    "18   D'une proie entre eux un instant tenue\n",
    "19   Sauras-tu jamais ce que leur silence\n",
    "20   Un éclair aura connu d'inconnu\n",
    "     \n",
    "21   Donne-moi tes mains que mon coeur s'y forme\n",
    "22   S'y taise le monde au moins un moment\n",
    "23   Donne-moi tes mains que mon âme y dorme\n",
    "24   Que mon âme y dorme éternellement.\n",
    "```\n",
    "\n",
    "Indication : une ligne vide est une chaîne qui, une fois enlévés les espaces au début/fin (vous avez vu une méthode qui fait ça !), est égale à `\"\"`... ou bien à `False` !"
   ]
  },
  {
   "cell_type": "code",
   "execution_count": null,
   "id": "349a1815",
   "metadata": {},
   "outputs": [],
   "source": []
  },
  {
   "cell_type": "markdown",
   "id": "03bd5388",
   "metadata": {},
   "source": [
    "<b><font color='white' style='background-color:green'>2.1.e</font></b> Affichez les longueurs (nombre de caractères, sans les espaces à la fin) de chaque ligne du fichier `Aragon1a.txt`, puis le contenu de la ligne.\n",
    "\n",
    "Pour les lignes vides, afficher la longueur 0.    \n",
    "\n",
    "Vous devez obtenir l'affichage suivant :\n",
    "\n",
    "```\n",
    "16 Les mains d'Elsa\n",
    "0 \n",
    "37 Donne-moi tes mains pour l'inquiétude\n",
    "39 Donne-moi tes mains dont j'ai tant rêvé\n",
    "36 Dont j'ai tant rêvé dans ma solitude\n",
    "37 Donne-moi tes mains que je sois sauvé\n",
    "0 \n",
    "40 Lorsque je les prends à mon pauvre piège\n",
    "37 De paume et de peur de hâte et d'émoi\n",
    "44 Lorsque je les prends comme une eau de neige\n",
    "40 Qui fond de partout dans mes mains à moi\n",
    "0 \n",
    "35 Sauras-tu jamais ce qui me traverse\n",
    "37 Ce qui me bouleverse et qui m'envahit\n",
    "37 Sauras-tu jamais ce qui me transperce\n",
    "39 Ce que j'ai trahi quand j'ai tressailli\n",
    "0 \n",
    "```"
   ]
  },
  {
   "cell_type": "code",
   "execution_count": null,
   "id": "199237b2",
   "metadata": {},
   "outputs": [],
   "source": []
  },
  {
   "cell_type": "markdown",
   "id": "a231311d",
   "metadata": {},
   "source": [
    "<b><font color='white' style='background-color:green'>2.1.f</font></b> Écrire du code qui définit une chaîne `nom_fichier` avec le nom d'un fichier et affiche uniquement sa ligne la plus longue, précédée de sa longueur. Testez votre fonction avec le fichier `Aragon1a.txt` : vous devez obtenir l'affichage suivant :\n",
    "\n",
    "`44 Lorsque je les prends comme une eau de neige`"
   ]
  },
  {
   "cell_type": "code",
   "execution_count": null,
   "id": "4658f880",
   "metadata": {},
   "outputs": [],
   "source": []
  },
  {
   "cell_type": "markdown",
   "id": "81982ec4",
   "metadata": {},
   "source": [
    "<b><font color='white' style='background-color:black'>Ex. 2.2</font> Ecriture de fichiers</b><a class='anchor' id='écriture'></a><br>\n",
    "\n",
    "<b><font color='white' style='background-color:orange'>2.2.a</font></b> Vous avez ces lignes de code : répondez aux questions\n",
    "\n",
    "```python\n",
    "f_out = open('bonjour.txt', 'w', encoding='utf-8')\n",
    "\n",
    "f_out.write('Bonjour\\n')\n",
    "f_out.write('Ce fichier a été écrit avec python,\\navec la commande write\\n')\n",
    "f_out.write('merci pour votre attention.')\n",
    "````\n",
    "\n",
    "Quel est le nom du fichier écrit ? Comme indique-t-on qu'on veut *écrire* dans le fichier ?"
   ]
  },
  {
   "cell_type": "markdown",
   "id": "7c33fdbc",
   "metadata": {},
   "source": [
    "**Ici votre réponse**"
   ]
  },
  {
   "cell_type": "markdown",
   "id": "bf25d0c2",
   "metadata": {},
   "source": [
    "<b><font color='white' style='background-color:orange'>2.2.b</font></b> Quel est le nombre de caractères de la chaîne `'merci pour votre attention.'` ? Utiliser du code python pour répondre à la question."
   ]
  },
  {
   "cell_type": "code",
   "execution_count": null,
   "id": "ad2fd1d3",
   "metadata": {},
   "outputs": [],
   "source": []
  },
  {
   "cell_type": "markdown",
   "id": "eda3757a",
   "metadata": {},
   "source": [
    "<b><font color='white' style='background-color:orange'>2.2.c</font></b> Exécutez le code de `2.2.a` dans la boîte ci-dessous : est-ce qu'il renvoie une valeur ? Pourquoi ?"
   ]
  },
  {
   "cell_type": "code",
   "execution_count": null,
   "id": "79a94383",
   "metadata": {},
   "outputs": [],
   "source": []
  },
  {
   "cell_type": "markdown",
   "id": "696a5759",
   "metadata": {},
   "source": [
    "**Ici votre réponse**"
   ]
  },
  {
   "cell_type": "markdown",
   "id": "ea112c78",
   "metadata": {},
   "source": [
    "<b><font color='white' style='background-color:orange'>2.2.d</font></b> Ouvrez le fichier écrit en `2.2.c` avec votre système d'exploitation :\n",
    "* cherchez dans le répertoire du TP le fichier que vous avez écrit ;\n",
    "* ouvrez-le directement en cliquant / double-cliquant sur le fichier : vous devriez alors lancer le bloc-notes sous Windows, Text.app sous chromeOS, TextEdit sous Mac. Ces programmes sont des *éditeurs de textes*.\n",
    "\n",
    "Quel est le contenu de ce fichier ? Pourquoi ?"
   ]
  },
  {
   "cell_type": "markdown",
   "id": "77dc6ff3",
   "metadata": {},
   "source": [
    "**Ici votre réponse**"
   ]
  },
  {
   "cell_type": "markdown",
   "id": "57527daa",
   "metadata": {},
   "source": [
    "<b><font color='white' style='background-color:orange'>2.2.d-bis</font></b> Fermez le fichier `bonjour.txt` dans votre éditeur de textes et ensuite exécutez le code ci-dessous :\n",
    "\n",
    "```python\n",
    "f_out.close()\n",
    "```\n",
    "\n",
    "Enfin, ouvrez à nouveau le fichier `bonjour.txt` avec votre éditeur de textes. Quel est le contenu du fichier `bonjour.txt` désormais ?"
   ]
  },
  {
   "cell_type": "markdown",
   "id": "ca05c8d3",
   "metadata": {},
   "source": [
    "**Ici votre réponse**"
   ]
  },
  {
   "cell_type": "markdown",
   "id": "263ce26c",
   "metadata": {},
   "source": [
    "<b><font color='white' style='background-color:orange'>2.2.d-bis</font></b> Exécutez le code ci-dessous :\n",
    "\n",
    "```python\n",
    "f_out = open('bonjour.txt', 'w', encoding='utf-8')\n",
    "\n",
    "f_out.write('Je remplace\\ntout!\\n')\n",
    "\n",
    "f_out.close()\n",
    "```\n",
    "\n",
    "Ouvrez le fichier `bonjour.txt` avec votre éditeur de textes. Quel est le contenu du fichier `bonjour.txt` désormais ? Pourquoi ?"
   ]
  },
  {
   "cell_type": "code",
   "execution_count": null,
   "id": "c4410ff3",
   "metadata": {},
   "outputs": [],
   "source": []
  },
  {
   "cell_type": "markdown",
   "id": "6a635138",
   "metadata": {},
   "source": [
    "**Ici votre réponse**"
   ]
  },
  {
   "cell_type": "markdown",
   "id": "e6239ff6",
   "metadata": {},
   "source": [
    "<b><font color='white' style='background-color:green'>2.2.e</font></b> Créez un fichier `fichier.txt`, de 20 lignes. Chaque ligne a un contenu comme suit :\n",
    "```\n",
    "Voici la ligne 1 du fichier.\n",
    "Voici la ligne 2 du fichier.\n",
    "Voici la ligne 3 du fichier.\n",
    "...\n",
    "Voici la ligne 20 du fichier.\n",
    "```"
   ]
  },
  {
   "cell_type": "code",
   "execution_count": null,
   "id": "3446541a",
   "metadata": {},
   "outputs": [],
   "source": []
  },
  {
   "cell_type": "markdown",
   "id": "d694467d",
   "metadata": {},
   "source": [
    "<b><font color='white' style='background-color:green'>2.2.f</font></b> Créez 10 fichiers : `fichier01.txt`, `fichier02.txt`, ..., `fichier10.txt`. Chaque fichier a 20 lignes, `fichier01.txt` contient\n",
    "```\n",
    "Voici la ligne 1 du fichier 1.\n",
    "Voici la ligne 2 du fichier 1.\n",
    "...\n",
    "Voici la ligne 20 du fichier 1.\n",
    "```\n",
    "\n",
    "`fichier02.txt` contient\n",
    "```\n",
    "Voici la ligne 1 du fichier 2.\n",
    "Voici la ligne 2 du fichier 2.\n",
    "...\n",
    "Voici la ligne 20 du fichier 2.\n",
    "```\n",
    "et ainsi de suite."
   ]
  },
  {
   "cell_type": "code",
   "execution_count": null,
   "id": "6a101844",
   "metadata": {},
   "outputs": [],
   "source": []
  }
 ],
 "metadata": {
  "kernelspec": {
   "display_name": "Python 3 (ipykernel)",
   "language": "python",
   "name": "python3"
  },
  "language_info": {
   "codemirror_mode": {
    "name": "ipython",
    "version": 3
   },
   "file_extension": ".py",
   "mimetype": "text/x-python",
   "name": "python",
   "nbconvert_exporter": "python",
   "pygments_lexer": "ipython3",
   "version": "3.10.9"
  }
 },
 "nbformat": 4,
 "nbformat_minor": 5
}
