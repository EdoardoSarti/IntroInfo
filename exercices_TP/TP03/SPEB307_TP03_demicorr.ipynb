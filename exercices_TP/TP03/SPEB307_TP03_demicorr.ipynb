{
 "cells": [
  {
   "cell_type": "markdown",
   "id": "437a11d0",
   "metadata": {},
   "source": [
    "<h1><center>SPEB307 — Introduction à l'Informatique — TP 03</center><br>\n",
    "<center>Boucles, Chaînes, Récursion</center></h1>"
   ]
  },
  {
   "cell_type": "markdown",
   "id": "c3a9453e",
   "metadata": {},
   "source": [
    "<h3>Auto-évaluation</h3>\n",
    "\n",
    "<div> Les exercices se divisent en trois niveaux d'auto-évaluation:\n",
    "<ul>\n",
    "    <li><h3><font color='white' style='background-color:orange'>Fondamentaux</font></h3> Pour réviser les notions apprises en cours. Il faut savoir tous les résoudre pour avoir la moyenne.</li>\n",
    "    <li><h3><font color='white' style='background-color:green'>Intermédiaires</font></h3> Pour vous aider à raisonner et rentrer au coeur des sujets. Si vous savez tous les résoudre, vous aurez un bon niveau de préparation !</li>\n",
    "    <li><h3><font color='white' style='background-color:blue'>Avancés</font></h3> Défis pour vous entraîner à l'examen final... et aller plus loin !</li>\n",
    "</ul>\n",
    "</div>"
   ]
  },
  {
   "cell_type": "markdown",
   "id": "c1b5b9b0",
   "metadata": {},
   "source": [
    "### <font color='black'>Table des matières<font><a class='anchor' id='top'></a>\n",
    "1. [La boucle for](#for) **1h**<br>\n",
    "    1.1 [La fonction `range`](#range)<br>\n",
    "    1.2 [Différences entre `while` et `for`](#différences)<br>\n",
    "    1.3 [Usage avancé des boucles](#itérateurs)\n",
    "2. [Chaînes de caractères](#chaînes) **1h**<br>\n",
    "    2.1 [Caractères spéciaux et usage de la fonction print](#caractères)<br>\n",
    "    2.2 [Opérations sur les chaînes](#opérations)<br>\n",
    "    2.3 [Extraction de caractères](#extraction)<br>\n",
    "    2.4 [Itération par indice](#indice)<br>\n",
    "    2.5 [Itération par élément](#élément)<br>\n",
    "    2.6 [Modifier une chaîne](#modifier)<br>\n",
    "    2.7 [Découpages](#découpages)<br>\n",
    "3. [Récursion](#récursion) **facultatif en TP**<br>\n",
    "    3.1 [Récursion au lieu d'un `for`](#récursion)\n",
    "    \n",
    "Les exercices avec un <font color='white' style='text-shadow: -1px 0 black, 0 1px black, 1px 0 black, 0 -1px black;'>C</font> sont corrigés : vous trouverez un notebook avec la correction de ces exercices dans le même dossier où vous avez trouvé celui-ci."
   ]
  },
  {
   "cell_type": "markdown",
   "id": "45201be3",
   "metadata": {},
   "source": [
    "<h3>1. La boucle for</h3><a class='anchor' id='for'></a>\n",
    "\n",
    "Alors que `while` est utile pour introduire tous les concepts clé des boucles, la syntaxe la plus utilisée en python est celle de la boucle `for`:\n",
    "\n",
    "```python\n",
    "for variable_de_boucle in variable_itérable:\n",
    "    # instructions répétées\n",
    "```\n",
    "\n",
    "Comme on l'a vu dans les exercices avec la boucle `while`, la variable de boucle change à chaque tour de boucle. Une variable itérable est par contre un type complexe (on peut penser à une liste) qui contient toutes les valeurs qui seront données à la variable de boucle au cours de l'exécution.\n",
    "\n",
    "Exemple : \n",
    "\n",
    "```python\n",
    "somme = 0\n",
    "for i in (1, 3, 5, 7, 9):   # la variable itérable utilisée ici s'appelle n-uplet\n",
    "    somme = somme + i\n",
    "```\n",
    "\n",
    "L'exécution donnera 5 tours de boucle où i prendra les valeurs 1, 3, 5, 7, 9 dans cet ordre. Regardons la table de boucle :\n",
    "\n",
    "| tour de boucle | i | somme |\n",
    "|:---------------|---|-------|\n",
    "| 0 (entrée)     | / | 0     |\n",
    "| 1              | 1 | 1     |\n",
    "| 2              | 3 | 4     |\n",
    "| 3              | 5 | 9     |\n",
    "| 4              | 7 | 16    |\n",
    "| 5 (sortie)     | 9 | 25    |"
   ]
  },
  {
   "cell_type": "markdown",
   "id": "e22835c2",
   "metadata": {},
   "source": [
    "<b><font color='white' style='background-color:black'>Ex. 1.1</font> La fonction range</b><a class='anchor' id='range'></a><br>\n",
    "Une fonction très pratique à utiliser avec les boucles `for` est la fonction `range`. Cette fonction rend un _objet itérable_ (on en reparlera, pensez-le comme une liste) qui produit les entiers depuis une certaine valeur jusqu'à une autre valeur avec un certain pas :\n",
    "\n",
    "```python\n",
    "range(début, fin, pas)    # si pas == 1, on peut écrire range(début, fin)\n",
    "```\n",
    "\n",
    "En supposant $\\mathrm{début} <= \\mathrm{fin}$, l'itérateur rendu parcurra la liste suivante : \n",
    "$$\\{\\mathrm{début}, \\mathrm{début}+\\mathrm{pas}, \\mathrm{début}+2\\mathrm{pas}, ..., \\mathrm{début}+n\\mathrm{pas}\\}$$ où $\\mathrm{début}+n\\mathrm{pas} < \\mathrm{fin}$ et $\\mathrm{début}+(n+1)\\mathrm{pas} \\geq \\mathrm{fin}$.\n",
    "\n",
    "Exemple :\n",
    "\n",
    "`range(1,9,3)` est équivalent à lister les entiers `1, 4, 7` (et on s'arrête là, car `10` est plus grand ou égal à `9`), donc\n",
    "\n",
    "```python\n",
    "for i in range(1,9,3):\n",
    "    print(i)\n",
    "```\n",
    "\n",
    "produira\n",
    "\n",
    "| tour de boucle | i |\n",
    "|:---------------|---|\n",
    "| 0 (entrée)     | / |\n",
    "| 1              | 1 |\n",
    "| 2              | 4 |\n",
    "| 3 (sortie)     | 7 |\n",
    "\n",
    "Avec la fonction `range` on peut aussi faire des pas négatifs :\n",
    "\n",
    "```python\n",
    "range(début, fin, pas)\n",
    "```\n",
    "\n",
    "En supposant $\\mathrm{début} > \\mathrm{fin}$, l'itérateur rendu parcourra la liste suivante : \n",
    "$$\\{\\mathrm{début}, \\mathrm{début}-\\mathrm{pas}, \\mathrm{début}-2\\mathrm{pas}, ..., \\mathrm{début}-n\\mathrm{pas}\\}$$ où $\\mathrm{début}-n\\mathrm{pas} > \\mathrm{fin}$ et $\\mathrm{début}-(n+1)\\mathrm{pas} \\leq \\mathrm{fin}$.\n",
    "\n",
    "Exemple :\n",
    "\n",
    "`range(13,1,-4)` est équivalent à lister les entiers `13, 9, 5` (et on s'arrête là,  car `1` est plus petit ou égal à `1`), donc\n",
    "\n",
    "```python\n",
    "for i in range(13,1,-4):\n",
    "    print(i)\n",
    "```\n",
    "\n",
    "produira\n",
    "\n",
    "| tour de boucle | i  |\n",
    "|:---------------|----|\n",
    "| 0 (entrée)     | /  |\n",
    "| 1              | 13 |\n",
    "| 2              | 9  |\n",
    "| 3 (sortie)     | 5  |"
   ]
  },
  {
   "cell_type": "markdown",
   "id": "a7df8787",
   "metadata": {},
   "source": [
    "<b><font color='white' style='background-color:orange'>1.1.a</font></b> <font color='white' style='text-shadow: -1px 0 black, 0 1px black, 1px 0 black, 0 -1px black;'>C</font> Affichez, avec une boucle `for` et la fonction `range`, les entiers de `1` à `10`"
   ]
  },
  {
   "cell_type": "code",
   "execution_count": null,
   "id": "0911e635",
   "metadata": {},
   "outputs": [],
   "source": [
    "for i in range(1, 11):\n",
    "    print(i)"
   ]
  },
  {
   "cell_type": "markdown",
   "id": "132e39b4",
   "metadata": {},
   "source": [
    "<b><font color='white' style='background-color:orange'>1.1.b</font></b> N'affichez que les nombres impairs de `1` à `16`"
   ]
  },
  {
   "cell_type": "code",
   "execution_count": null,
   "id": "787b441c",
   "metadata": {},
   "outputs": [],
   "source": []
  },
  {
   "cell_type": "markdown",
   "id": "9be67320",
   "metadata": {},
   "source": [
    "<b><font color='white' style='background-color:orange'>1.1.c</font></b> <font color='white' style='text-shadow: -1px 0 black, 0 1px black, 1px 0 black, 0 -1px black;'>C</font> Affichez la suite suivante :\n",
    "```\n",
    "-4\n",
    "-1\n",
    "2\n",
    "5\n",
    "8\n",
    "11\n",
    "```"
   ]
  },
  {
   "cell_type": "code",
   "execution_count": null,
   "id": "504ab7da",
   "metadata": {},
   "outputs": [],
   "source": [
    "for i in range(-4, 12, 3):\n",
    "    print(i)"
   ]
  },
  {
   "cell_type": "markdown",
   "id": "79771879",
   "metadata": {},
   "source": [
    "<b><font color='white' style='background-color:green'>1.1.d</font></b> <font color='white' style='text-shadow: -1px 0 black, 0 1px black, 1px 0 black, 0 -1px black;'>C</font> Qu'affiche le code suivant ? Repondez, puis exécutez dans une boîte de code. Servez-vous d'une table de boucle, avec une colonne qui suit la condition `n % i == 0`\n",
    "\n",
    "```python\n",
    "n = 12\n",
    "for i in range(1, n):\n",
    "    if n % i == 0:\n",
    "        print(i)\n",
    "```"
   ]
  },
  {
   "cell_type": "markdown",
   "id": "f173f9d3",
   "metadata": {},
   "source": [
    "| tour de boucle | i  | n  | n % i == 0 |\n",
    "|:---------------|----|----|------------|\n",
    "| 0 (entrée)     | /  | 12 |            |\n",
    "| 1              | 1  | 12 | True       |\n",
    "| 2              | 2  | 12 | True       |\n",
    "| 3              | 3  | 12 | True       |\n",
    "| 4              | 4  | 12 | True       |\n",
    "| 5              | 5  | 12 | False      |\n",
    "| 6              | 6  | 12 | True       |\n",
    "| 7              | 7  | 12 | False      |\n",
    "| 8              | 8  | 12 | False      |\n",
    "| 9              | 9  | 12 | False      |\n",
    "| 10             | 10 | 12 | False      |\n",
    "| 11 (sortie)    | 11 | 12 | False      |\n",
    "\n",
    "```\n",
    "1\n",
    "2\n",
    "3\n",
    "4\n",
    "6\n",
    "```"
   ]
  },
  {
   "cell_type": "code",
   "execution_count": null,
   "id": "23b79d68",
   "metadata": {},
   "outputs": [],
   "source": [
    "n = 12\n",
    "for i in range(1, n):\n",
    "    if n % i == 0:\n",
    "        print(i)"
   ]
  },
  {
   "cell_type": "markdown",
   "id": "9fd52100",
   "metadata": {},
   "source": [
    "<b><font color='white' style='background-color:green'>1.1.e</font></b> <font color='white' style='text-shadow: -1px 0 black, 0 1px black, 1px 0 black, 0 -1px black;'>C</font> Créez une fonction `factorielle` qui prend en entrée un entier non-négatif et rend la factorielle de cet entier, définie de suite: $$n! = 1 \\times ... \\times n$$\n",
    "On a aussi que $0! = 1$.\n",
    "\n",
    "Testez votre fonction contre le jeu de tests donné, puis complétez-le avec deux autres `assert`."
   ]
  },
  {
   "cell_type": "code",
   "execution_count": null,
   "id": "5124660f",
   "metadata": {},
   "outputs": [],
   "source": [
    "def factorielle(n):\n",
    "    if n == 0:\n",
    "        return 1\n",
    "    fac = 1\n",
    "    for i in range(1,n+1):\n",
    "        fac = fac * i\n",
    "    return fac"
   ]
  },
  {
   "cell_type": "code",
   "execution_count": null,
   "id": "8c4bb5e0",
   "metadata": {},
   "outputs": [],
   "source": [
    "# Ne pas modifier !!\n",
    "assert factorielle(0) == 1\n",
    "assert factorielle(10) == 3628800\n",
    "# Complétez ici"
   ]
  },
  {
   "cell_type": "markdown",
   "id": "e210b2ca",
   "metadata": {},
   "source": [
    "<b><font color='white' style='background-color:green'>1.1.f</font></b> Affichez la suite suivante :\n",
    "```\n",
    "5\n",
    "4\n",
    "3\n",
    "2\n",
    "1\n",
    "0\n",
    "```"
   ]
  },
  {
   "cell_type": "code",
   "execution_count": null,
   "id": "7dc3cddb",
   "metadata": {},
   "outputs": [],
   "source": []
  },
  {
   "cell_type": "markdown",
   "id": "2a944169",
   "metadata": {},
   "source": [
    "<b><font color='white' style='background-color:green'>1.1.g</font></b> <font color='white' style='text-shadow: -1px 0 black, 0 1px black, 1px 0 black, 0 -1px black;'>C</font> Affichez la suite suivante :\n",
    "```\n",
    "10\n",
    "7\n",
    "4\n",
    "1\n",
    "-2\n",
    "-5\n",
    "```"
   ]
  },
  {
   "cell_type": "code",
   "execution_count": null,
   "id": "054b91e8",
   "metadata": {},
   "outputs": [],
   "source": [
    "for i in range(10,-6,-3):\n",
    "    print(i)"
   ]
  },
  {
   "cell_type": "markdown",
   "id": "478c3c4e",
   "metadata": {},
   "source": [
    "<b><font color='white' style='background-color:green'>1.1.h</font></b> Créez une fonction `count_up_down` qui prend deux entiers `début` et `fin` (avec $\\mathrm{début} \\leq \\mathrm{fin}$) en entrée et produit la sortie suivante :\n",
    "```\n",
    "début fin\n",
    "début+1 fin-1\n",
    "début+2 fin-2\n",
    "... ...\n",
    "fin-1 début+1\n",
    "fin début\n",
    "```\n",
    "\n",
    "Exemple de sortie pour $\\mathrm{début} = 5$ et $\\mathrm{fin} = 12$:\n",
    "```\n",
    "5 12\n",
    "6 11\n",
    "7 10\n",
    "8 9\n",
    "9 8\n",
    "10 7\n",
    "11 6\n",
    "12 5\n",
    "```\n",
    "\n",
    "Validez dans la deuxième boîte de code"
   ]
  },
  {
   "cell_type": "code",
   "execution_count": null,
   "id": "ceb2eaac",
   "metadata": {},
   "outputs": [],
   "source": []
  },
  {
   "cell_type": "code",
   "execution_count": null,
   "id": "bc205624",
   "metadata": {},
   "outputs": [],
   "source": []
  },
  {
   "cell_type": "markdown",
   "id": "060f2e7a",
   "metadata": {},
   "source": [
    "<b><font color='white' style='background-color:blue'>1.1.k</font></b> <font color='white' style='text-shadow: -1px 0 black, 0 1px black, 1px 0 black, 0 -1px black;'>C</font> Créez une fonction `central_limit` qui prend un entier `n` et tire n valeurs comprises entre `0` et `1` (avec la fonction `random` de la bibliothèque `random`, et en rend la moyenne $\\frac{1}{n}\\sum_{i=1}^{n} X_i$ et l'erreur moyen carré depuis la valeur `0.5` $\\frac{1}{n}\\sqrt{\\sum_{i=1}^{n} (X_i - 0.5)^2}$. Ensuite, affichez les résultats pour 5 valeurs croissantes de `n` : que remarquez-vous ?"
   ]
  },
  {
   "cell_type": "code",
   "execution_count": null,
   "id": "5b35cd22",
   "metadata": {},
   "outputs": [],
   "source": [
    "from random import random\n",
    "\n",
    "def central_limit(n):\n",
    "    av = 0\n",
    "    err = 0\n",
    "    for i in range(n):\n",
    "        r = random()\n",
    "        av = av + r\n",
    "        err = (0.5 - r)**2\n",
    "    return av/n, err**0.5/n"
   ]
  },
  {
   "cell_type": "code",
   "execution_count": null,
   "id": "da16322d",
   "metadata": {},
   "outputs": [],
   "source": [
    "print(central_limit(1))\n",
    "print(central_limit(10))\n",
    "print(central_limit(100))\n",
    "print(central_limit(1000))\n",
    "print(central_limit(10000))"
   ]
  },
  {
   "cell_type": "markdown",
   "id": "c340b54c",
   "metadata": {},
   "source": [
    "<b><font color='white' style='background-color:black'>Ex. 1.2</font> Différences entre `while` et `for`</b><a class='anchor' id='différences'></a>\n",
    "\n",
    "<b><font color='white' style='background-color:orange'>1.2.a</font></b> <font color='white' style='text-shadow: -1px 0 black, 0 1px black, 1px 0 black, 0 -1px black;'>C</font> La première différence entre `while` et `for` est la condition d'arrêt : alors que `for` l'intègre dans l'itérateur (et donc normalement l'arrêt est assuré, une fois atteint le bout de la liste), une boucle `while` n'est pas à priori assurée s'arreter. Le problème de l'arrêt est important en informatique : il ne suffit pas d'essayer en exécutant le code, car le code pourrait avoir un temps d'exécution très long mais limité (et alors quand est-ce qu'on déciderait qu'il ne s'arrète pas ?). Il faut, en principe, le prouver théoriquement. \n",
    "\n",
    "Analysez les codes suivants et décidez s'ils vont s'arreter ou pas. Expliquez dans les cellules de texte en dessous des codes"
   ]
  },
  {
   "cell_type": "markdown",
   "id": "6a8fb6d6",
   "metadata": {},
   "source": [
    "```python\n",
    "i = 0\n",
    "while i < 10:\n",
    "    print(i)\n",
    "```"
   ]
  },
  {
   "cell_type": "markdown",
   "id": "02fe5411",
   "metadata": {},
   "source": [
    "**Non : `i` vaut toujours `0`**"
   ]
  },
  {
   "cell_type": "markdown",
   "id": "f9b7e304",
   "metadata": {},
   "source": [
    "```python\n",
    "j = 0\n",
    "flag = True\n",
    "while flag:\n",
    "    j = j + 1\n",
    "    print(i)\n",
    "```"
   ]
  },
  {
   "cell_type": "markdown",
   "id": "1d31efca",
   "metadata": {},
   "source": [
    "**Non : `flag` vaut toujours `True`**"
   ]
  },
  {
   "cell_type": "markdown",
   "id": "20fbe987",
   "metadata": {},
   "source": [
    "```python\n",
    "a = 0\n",
    "flag = True\n",
    "while flag:\n",
    "    a = a + 10\n",
    "    if a == 100:\n",
    "        flag = False\n",
    "```"
   ]
  },
  {
   "cell_type": "markdown",
   "id": "388b66cf",
   "metadata": {},
   "source": [
    "**Oui : quand `a` vaut `100` (après 10 tours), `flag` devient `False` et la boucle s'arrète**"
   ]
  },
  {
   "cell_type": "markdown",
   "id": "55273dcf",
   "metadata": {},
   "source": [
    "```python\n",
    "n = 0\n",
    "m = 0\n",
    "while m < 1000 and n > -1000:\n",
    "    m = m - n\n",
    "    n = n - m\n",
    "```"
   ]
  },
  {
   "cell_type": "markdown",
   "id": "9139989e",
   "metadata": {},
   "source": [
    "**Non : `m` et `n` valent toujours `0`**"
   ]
  },
  {
   "cell_type": "markdown",
   "id": "f7b5761c",
   "metadata": {},
   "source": [
    "```python\n",
    "n = 0\n",
    "m = 1\n",
    "while m < 1000 and n > -1000:\n",
    "    m = m - n\n",
    "    n = n - m\n",
    "```"
   ]
  },
  {
   "cell_type": "markdown",
   "id": "454ec101",
   "metadata": {},
   "source": [
    "**Oui : `m` et `n` deviennent de plus en plus grands (`m` étant positif, `n` négatif), et la condition d'arrêt sera vérifiée (même si c'est pénible de calculer à quel tour). A remarquer : on n'a changé qu'une unité dans l'initialisation d'une variable !**"
   ]
  },
  {
   "cell_type": "markdown",
   "id": "e673c637",
   "metadata": {},
   "source": [
    "<b><font color='white' style='background-color:orange'>1.2.b</font></b> Ici on a un script avec une condition `while` : produisez le même affichage avec une boucle `for`"
   ]
  },
  {
   "cell_type": "code",
   "execution_count": null,
   "id": "3bb012e5",
   "metadata": {},
   "outputs": [],
   "source": [
    "# Ne pas modifier !!\n",
    "i = 0\n",
    "t = 1\n",
    "while t <= 10 :\n",
    "    i = i + t**2\n",
    "    print(\"tour numéro\", t, \":\", i)\n",
    "    t = t + 1"
   ]
  },
  {
   "cell_type": "code",
   "execution_count": null,
   "id": "bcb51900",
   "metadata": {},
   "outputs": [],
   "source": []
  },
  {
   "cell_type": "markdown",
   "id": "05092a42",
   "metadata": {},
   "source": [
    "<b><font color='white' style='background-color:green'>1.2.c</font></b> <font color='white' style='text-shadow: -1px 0 black, 0 1px black, 1px 0 black, 0 -1px black;'>C</font> Une autre différence entre `while` et `for` est le dégré de versatilité de la variable de boucle. Pour comprendre cette limite de `for`, cherchez à reproduire cette boucle `while` avec un `for`, comme vous l'avez fait en `1.2.b`. Y-arrivez-vous ? Pourquoi ? Expliquez."
   ]
  },
  {
   "cell_type": "code",
   "execution_count": null,
   "id": "6a5d0da4",
   "metadata": {},
   "outputs": [],
   "source": [
    "# Ne pas modifier !\n",
    "def collatz_while(n):\n",
    "    nombre_pas = 0\n",
    "    while n > 1:\n",
    "        nombre_pas = nombre_pas + 1\n",
    "        if n % 2 == 0:\n",
    "            n = n // 2\n",
    "        else:\n",
    "            n = 3*n + 1\n",
    "    print(nombre_pas)"
   ]
  },
  {
   "cell_type": "code",
   "execution_count": null,
   "id": "edfdba82",
   "metadata": {},
   "outputs": [],
   "source": [
    "# A compléter\n",
    "def collatz_for(n):\n",
    "    # à compléter"
   ]
  },
  {
   "cell_type": "markdown",
   "id": "9ef1e1ef",
   "metadata": {},
   "source": [
    "**La seule façon de le faire serait de créer une liste appropriée avec une boucle while et ensuite de faire une boucle for sur cette liste : une complication inutile. Le problème c'est qu'on ne connaît pas à priori si on atteindra la condition d'arrêt - dans ce cas, c'est l'un des fameux problèmes ouverts en mathématiques : la conjecture de Collatz !**"
   ]
  },
  {
   "cell_type": "markdown",
   "id": "6f32617a",
   "metadata": {},
   "source": [
    "<b><font color='white' style='background-color:green'>1.2.d</font></b> Attention : même si Python le permet, il est une mauvaise pratique de modifier la variable de boucle d'une boucle `for` ! \n",
    "\n",
    "Faites une table de boucle pour chacun des deux codes ci-dessous et expliquez les différences dans la boîte de texte. (N'oubliez pas la colonne de la condition de boucle pour la boucle `while`). Pourquoi le comportement n'est pas le même ?"
   ]
  },
  {
   "cell_type": "code",
   "execution_count": null,
   "id": "24d2339a",
   "metadata": {},
   "outputs": [],
   "source": [
    "# Ne pas modifier !\n",
    "for i in range(1,11):\n",
    "    print(\"début de tour\", i)\n",
    "    i = i ** 2\n",
    "    print(\"fin de tour\", i)"
   ]
  },
  {
   "cell_type": "code",
   "execution_count": null,
   "id": "683ef2a7",
   "metadata": {},
   "outputs": [],
   "source": [
    "# Ne pas modifier !\n",
    "i = 1\n",
    "while i < 11:\n",
    "    print(\"début de tour\", i)\n",
    "    i = i ** 2\n",
    "    print(\"fin de tour\", i)\n",
    "    i = i + 1"
   ]
  },
  {
   "cell_type": "markdown",
   "id": "14358bcb",
   "metadata": {},
   "source": [
    "**Votre réponse ici**"
   ]
  },
  {
   "cell_type": "markdown",
   "id": "1dc245c1",
   "metadata": {},
   "source": [
    "<b><font color='white' style='background-color:black'>Ex. 1.3</font> Usage avancé des boucles</b><a class='anchor' id='itérateurs'></a>"
   ]
  },
  {
   "cell_type": "markdown",
   "id": "9ec9c291",
   "metadata": {},
   "source": [
    "<b><font color='white' style='background-color:green'>1.3.a</font></b> Ecrivez du code qui affiche les lignes suivantes, avec `for` dans la première boîte et avec `while` dans la deuxième :\n",
    "\n",
    "```\n",
    "5 est un nombre impair\n",
    "6 est un nombre pair\n",
    "7 est un nombre impair\n",
    "8 est un nombre pair\n",
    "9 est un nombre impair\n",
    "10 est un nombre pair\n",
    "11 est un nombre impair\n",
    "12 est un nombre pair\n",
    "13 est un nombre impair\n",
    "14 est un nombre pair\n",
    "```"
   ]
  },
  {
   "cell_type": "code",
   "execution_count": null,
   "id": "09558766",
   "metadata": {},
   "outputs": [],
   "source": []
  },
  {
   "cell_type": "code",
   "execution_count": null,
   "id": "56c7e819",
   "metadata": {},
   "outputs": [],
   "source": []
  },
  {
   "cell_type": "markdown",
   "id": "aa2b3844",
   "metadata": {},
   "source": [
    "<b><font color='white' style='background-color:green'>1.3.b</font></b> <font color='white' style='text-shadow: -1px 0 black, 0 1px black, 1px 0 black, 0 -1px black;'>C</font> Ecrivez du code qui affiche les lignes suivantes, avec `for` dans la première boîte et avec `while` dans la deuxième :\n",
    "\n",
    "```\n",
    "21 est strictement positif\n",
    "18 est strictement positif\n",
    "15 est strictement positif\n",
    "12 est strictement positif\n",
    "9 est strictement positif\n",
    "6 est strictement positif\n",
    "3 est strictement positif\n",
    "0 est nul\n",
    "-3 est strictement négatif\n",
    "-6 est strictement négatif\n",
    "-9 est strictement négatif\n",
    "-12 est strictement négatif\n",
    "-15 est strictement négatif\n",
    "-18 est strictement négatif\n",
    "-21 est strictement négatif\n",
    "```"
   ]
  },
  {
   "cell_type": "code",
   "execution_count": null,
   "id": "ca89d4e5",
   "metadata": {},
   "outputs": [],
   "source": [
    "for i in range(21, -22, -3):\n",
    "    if i > 0:\n",
    "        print(i, \"est strictement positif\")\n",
    "    elif i == 0:\n",
    "        print(i, \"est nul\")\n",
    "    else:\n",
    "        print(i, \"est strictement négatif\")"
   ]
  },
  {
   "cell_type": "code",
   "execution_count": null,
   "id": "c335ce3e",
   "metadata": {},
   "outputs": [],
   "source": [
    "i = 21\n",
    "while i > -22:\n",
    "    if i > 0:\n",
    "        print(i, \"est strictement positif\")\n",
    "    elif i == 0:\n",
    "        print(i, \"est nul\")\n",
    "    else:\n",
    "        print(i, \"est strictement négatif\")\n",
    "    i = i - 3"
   ]
  },
  {
   "cell_type": "markdown",
   "id": "fcda3903",
   "metadata": {},
   "source": [
    "<b><font color='white' style='background-color:green'>1.3.c</font></b> <font color='white' style='text-shadow: -1px 0 black, 0 1px black, 1px 0 black, 0 -1px black;'>C</font> La fonction `range` n'accepte et ne rend que des entiers. Toutefois, parfois il est pratique de travailler avec des boucles sur des nombres à virgule. A cet effet, la bibliothèque `numpy` implémente la fonction `arange`, qui se comporte comme `range`, mais peut prendre des flottants comme début de boucle, fin, et pas.\n",
    "\n",
    "Exemple :\n",
    "\n",
    "```python\n",
    "for x in arange(0,2,0.4):\n",
    "    print(x)\n",
    "```\n",
    "\n",
    "donne\n",
    "\n",
    "```\n",
    "0.0\n",
    "0.4\n",
    "0.8\n",
    "1.2000000000000002\n",
    "1.6\n",
    "```\n",
    "\n",
    "(faites toujours attention à l'imprécision des flottants !)\n",
    "\n",
    "Divisez l'intervalle $[0,6]$ dans des intervalles de taille avec $0.6$ `arange`. Dans la deuxième boîte de code, faites la même chose sans utiliser `arange`."
   ]
  },
  {
   "cell_type": "code",
   "execution_count": null,
   "id": "86f94c7d",
   "metadata": {},
   "outputs": [],
   "source": [
    "from numpy import arange\n",
    "\n",
    "for i in arange(0,6.01,0.6):\n",
    "    print(i)"
   ]
  },
  {
   "cell_type": "code",
   "execution_count": null,
   "id": "3dd89da1",
   "metadata": {},
   "outputs": [],
   "source": [
    "for i in range(0, 61, 6):\n",
    "    print(i/10)"
   ]
  },
  {
   "cell_type": "markdown",
   "id": "7e3e3b53",
   "metadata": {},
   "source": [
    "<b><font color='white' style='background-color:blue'>1.3.d</font></b> <font color='white' style='text-shadow: -1px 0 black, 0 1px black, 1px 0 black, 0 -1px black;'>C</font> Dans la bibliothèque `numpy` il y a aussi la fonction `linspace`. `linspace(a, b, c)` divise l'interval entre `a` et `b` en `c-1` intervalles de la même taille.\n",
    "\n",
    "Exemple :\n",
    "\n",
    "```python\n",
    "for i in linspace(0, 2, 5):\n",
    "    print(i)\n",
    "```\n",
    "\n",
    "donne\n",
    "\n",
    "```\n",
    "0.0\n",
    "0.5\n",
    "1.0\n",
    "1.5\n",
    "2.0\n",
    "```\n",
    "\n",
    "(5 nombres qui définissent 4 intervalles de la même taille)\n",
    "\n",
    "Divisez l'intervalle $[1,4]$ en 16 intervalles de la même taille avec `linspace`. Dans la deuxième boîte de code, faites la même chose sans utiliser `linspace`."
   ]
  },
  {
   "cell_type": "code",
   "execution_count": null,
   "id": "789057bf",
   "metadata": {},
   "outputs": [],
   "source": [
    "from numpy import linspace\n",
    "for i in linspace(1, 4, 17):\n",
    "    print(i)"
   ]
  },
  {
   "cell_type": "code",
   "execution_count": null,
   "id": "4b5144e0",
   "metadata": {},
   "outputs": [],
   "source": [
    "début = 1\n",
    "fin = 4\n",
    "n = 16\n",
    "\n",
    "interval = fin - début\n",
    "taille = interval / n\n",
    "p = début\n",
    "print(p)\n",
    "for i in range(n):\n",
    "    p = p + taille\n",
    "    print(p)"
   ]
  },
  {
   "cell_type": "markdown",
   "id": "3195eaef",
   "metadata": {},
   "source": [
    "<h3>2. Chaînes de caractères</h3><a class='anchor' id='chaînes'></a>\n",
    "\n",
    "Le type `str` (chaîne de caractères) est le premier **type complexe** qu'on rencontre. La chaîne de caractère est une **séquence** qui se compose d'un certain nombre d'**éléments** : les caractères. Ainsi, la chaîne `'Kaboom !'` est composée des 8 éléments suivants: `'K'`, `'a'`, `'b'` `'o'`, `'o'`, `'m'`, `' '`, `'!'`. Remarquez comme l'espace `' '` et le point exclamatif `'!'` sont aussi des éléments.\n",
    "\n",
    "Chaque élément d'une séquence est associé à un indice qui sert à le récupérer sans devoir considérer toute la séquence. En fait, Python offre deux systèmes d'indexage, montrés en figure.\n",
    "\n",
    "\n",
    "Ainsi, dans l'exemple, le caractère `'b'` correspond à l'indice `2` (car c'est le troisième élément) et aussi à l'indice `-6` (c'est aussi le sixième-dernier élément).\n",
    "\n",
    "\n",
    "![](Kaboom.jpeg)"
   ]
  },
  {
   "cell_type": "markdown",
   "id": "261cb3be",
   "metadata": {},
   "source": [
    "<b><font color='white' style='background-color:black'>Ex. 2.1</font> Caractères spéciaux et usage de la fonction print</b><a class='anchor' id='caractères'></a><br>\n",
    "\n",
    "Petit rappel sur les caractères spéciaux (ils commencent tous par l'_échappement_ `'\\'`\n",
    "\n",
    "```python\n",
    "'\\n' # caractère de retour à la ligne\n",
    "'\\t' # caractère de tabulation\n",
    "'\\\\' # anti-slash \\\n",
    "'\\'' # apostrophe '\n",
    "\"\\\"\" # guillemets \"\n",
    "```\n",
    "\n",
    "<b><font color='white' style='background-color:orange'>2.1.a</font></b> Complétez le code pour produire l'affichage suivant **avec une seule instruction `print`** \n",
    "```\n",
    "Ô rage ! ô désespoir ! ô vieillesse ennemie !\n",
    "N'ai-je donc tant vécu que pour cette infamie ?\n",
    "Et ne suis-je blanchi dans les travaux guerriers\n",
    "Que pour voir en un jour flétrir tant de lauriers ?\n",
    "```"
   ]
  },
  {
   "cell_type": "code",
   "execution_count": null,
   "id": "78c8db7d",
   "metadata": {},
   "outputs": [],
   "source": []
  },
  {
   "cell_type": "markdown",
   "id": "d3b89017",
   "metadata": {},
   "source": [
    "<b><font color='white' style='background-color:orange'>2.1.b</font></b> <font color='white' style='text-shadow: -1px 0 black, 0 1px black, 1px 0 black, 0 -1px black;'>C</font> Complétez le code pour produire l'affichage suivant **avec une seule instruction `print`**\n",
    "```\n",
    "Tissu\tNb. cellules\n",
    "Bla\t180\n",
    "Bla\t198\n",
    "Bla\t163\n",
    "```"
   ]
  },
  {
   "cell_type": "code",
   "execution_count": null,
   "id": "90dfe7d0",
   "metadata": {
    "scrolled": true
   },
   "outputs": [],
   "source": [
    "print(\"Tissu\\tNb. cellules\\nBla\\t180\\nBla\\t198\\nBla\\t163\")"
   ]
  },
  {
   "cell_type": "markdown",
   "id": "b889734b",
   "metadata": {},
   "source": [
    "<b><font color='white' style='background-color:orange'>2.1.c</font></b> Combien de caractères y a-t-il dans la chaîne `'Hello !\\nJe m\\'appelle HAL\\nEnchanté'`. Comptez-les à la main, puis utilisez l'une des fonctions vues en cours (TP01) pour vérifier."
   ]
  },
  {
   "cell_type": "code",
   "execution_count": null,
   "id": "322293a0",
   "metadata": {},
   "outputs": [],
   "source": []
  },
  {
   "cell_type": "markdown",
   "id": "b0e3e1d6",
   "metadata": {},
   "source": [
    "<b><font color='white' style='background-color:orange'>2.1.d</font></b> <font color='white' style='text-shadow: -1px 0 black, 0 1px black, 1px 0 black, 0 -1px black;'>C</font> Quelle est la chaîne la plus longue ? Comptez, puis vérifiez en utilisant la boîte de code"
   ]
  },
  {
   "cell_type": "code",
   "execution_count": null,
   "id": "b9ad0df9",
   "metadata": {},
   "outputs": [],
   "source": [
    "# Ne pas modifier !\n",
    "s1 = 'azertyuiop'\n",
    "s2 = 'a\\n\\'\\nmel\\\\3'"
   ]
  },
  {
   "cell_type": "markdown",
   "id": "35a0aa77",
   "metadata": {},
   "source": [
    "**La chaîne la plus longue est la première, même si elle a moins de symboles elle a plus de caractères**"
   ]
  },
  {
   "cell_type": "code",
   "execution_count": null,
   "id": "a7ef8ee3",
   "metadata": {},
   "outputs": [],
   "source": [
    "len(s1) > len(s2)"
   ]
  },
  {
   "cell_type": "markdown",
   "id": "3e2e9996",
   "metadata": {},
   "source": [
    "<b><font color='white' style='background-color:green'>2.1.e</font></b> <font color='white' style='text-shadow: -1px 0 black, 0 1px black, 1px 0 black, 0 -1px black;'>C</font> La fonction `print` prend plusieurs paramètres optionnels. Le paramètre `end` change le caractère de fin, par défaut `'\\n'`\n",
    "\n",
    "Exemple :\n",
    "\n",
    "```python\n",
    "print(\"Un\", end=\",\")\n",
    "print(\"deux\", end=\",\")\n",
    "print(\"trois\", end=\"!\")\n",
    "```\n",
    "\n",
    "affiche\n",
    "\n",
    "```\n",
    "Un,deux,trois!\n",
    "```\n",
    "\n",
    "sans revenir à la ligne.\n",
    "Le paramètre `end` accepte aussi la chaîne vide `''`.\n",
    "\n",
    "Sachant cela, créez une fonction `carré_soleils` qui prend un entier `n` en entrée et affiche un carré de `n` par `n` emoji ☀️. (Pour afficher un ☀️ : bibliothèque `emoji`, fonction `emojize` qui prend la chaîne `':sun:'`). Vous utiliserez une seule boucle `for` et un seul appel à la fonction `print`"
   ]
  },
  {
   "cell_type": "code",
   "execution_count": null,
   "id": "7a3aac2d",
   "metadata": {},
   "outputs": [],
   "source": [
    "from emoji import emojize\n",
    "\n",
    "def carré_soleil(n):\n",
    "    for i in range(n**2):\n",
    "        if (i+1) % n == 0:\n",
    "            e = '\\n'\n",
    "        else:\n",
    "            e = ''\n",
    "        print(emojize(\":sun:\"), end=e)"
   ]
  },
  {
   "cell_type": "code",
   "execution_count": null,
   "id": "4bde266a",
   "metadata": {
    "scrolled": true
   },
   "outputs": [],
   "source": [
    "carré_soleil(12)"
   ]
  },
  {
   "cell_type": "markdown",
   "id": "52bfbb16",
   "metadata": {},
   "source": [
    "<b><font color='white' style='background-color:green'>2.1.f</font></b> Un autre paramètre optionnel de la fonction `print` est `sep`, qui permet de changer le séparateur utilisé par la fonction pour séparer les arguments. Par défaut il est `' '`.\n",
    "\n",
    "Exemple :"
   ]
  },
  {
   "cell_type": "code",
   "execution_count": null,
   "id": "1305a616",
   "metadata": {
    "scrolled": true
   },
   "outputs": [],
   "source": [
    "# Ne pas modifier !\n",
    "print(\"T'as pris les chaussettes\", \"les caleçons\", \"la brosse à dents ?\")  # arguments séparés par un espace\n",
    "print(\"T'as pris les chaussettes\", \"les caleçons\", \"la brosse à dents ?\", sep=\",\")  # arguments séparés par une virgule"
   ]
  },
  {
   "cell_type": "markdown",
   "id": "ea7f0fb9",
   "metadata": {},
   "source": [
    "Ecrivez du code qui genère ce tableau (les colonnes sont séparées par des `'\\t'` :\n",
    "```\n",
    "nombre  carré\n",
    "1       1\n",
    "3       9\n",
    "5       25\n",
    "7       49\n",
    "9       81\n",
    "```"
   ]
  },
  {
   "cell_type": "code",
   "execution_count": null,
   "id": "8872352a",
   "metadata": {},
   "outputs": [],
   "source": []
  },
  {
   "cell_type": "markdown",
   "id": "2935ab5e",
   "metadata": {},
   "source": [
    "<b><font color='white' style='background-color:blue'>2.1.g</font></b> <font color='white' style='text-shadow: -1px 0 black, 0 1px black, 1px 0 black, 0 -1px black;'>C</font> Généralisez la fonction `carré_soleil` de l'exercice `2.1.e` en `carré_emoji` : cette fonction va prendre la paramètre entier `n` ainsi qu'un autre paramètre `s` chaîne de caractères correspondant à un emoji, et va afficher un carré `n` par `n` de l'emoji correspondant. Essayez avec `:skull:` et `:eggplant:`"
   ]
  },
  {
   "cell_type": "code",
   "execution_count": null,
   "id": "89ed231c",
   "metadata": {},
   "outputs": [],
   "source": [
    "def carré_emoji(n, s):\n",
    "    for i in range(n**2):\n",
    "        if (i+1) % n == 0:\n",
    "            e = '\\n'\n",
    "        else:\n",
    "            e = ''\n",
    "        print(emojize(s), end=e)"
   ]
  },
  {
   "cell_type": "code",
   "execution_count": null,
   "id": "20a5cb9e",
   "metadata": {},
   "outputs": [],
   "source": [
    "carré_emoji(6, \":skull:\")\n",
    "carré_emoji(10, \":eggplant:\")"
   ]
  },
  {
   "cell_type": "markdown",
   "id": "d561edb7",
   "metadata": {},
   "source": [
    "<b><font color='white' style='background-color:blue'>2.1.h</font></b> <font color='white' style='text-shadow: -1px 0 black, 0 1px black, 1px 0 black, 0 -1px black;'>C</font> Généralisez encore plus la fonction `carré_emoji` en `échiquier_emoji`: cette fonction va prendre la paramètre entier `n` ainsi que deux autres paramètres `s1` et `s2`, chaînes de caractères correspondant à deux emojis différents, et va afficher un carré `2*n-1` par `2*n-1` où les deux emojis s'alternent comme sur un échiquier. Par exemple, `échiquier_emoji(10, ':skull:', ':basketball:')` doit donner\n",
    "\n",
    "```\n",
    "💀🏀💀🏀💀🏀💀🏀💀🏀💀🏀💀🏀💀🏀💀🏀💀\n",
    "🏀💀🏀💀🏀💀🏀💀🏀💀🏀💀🏀💀🏀💀🏀💀🏀\n",
    "💀🏀💀🏀💀🏀💀🏀💀🏀💀🏀💀🏀💀🏀💀🏀💀\n",
    "🏀💀🏀💀🏀💀🏀💀🏀💀🏀💀🏀💀🏀💀🏀💀🏀\n",
    "💀🏀💀🏀💀🏀💀🏀💀🏀💀🏀💀🏀💀🏀💀🏀💀\n",
    "🏀💀🏀💀🏀💀🏀💀🏀💀🏀💀🏀💀🏀💀🏀💀🏀\n",
    "💀🏀💀🏀💀🏀💀🏀💀🏀💀🏀💀🏀💀🏀💀🏀💀\n",
    "🏀💀🏀💀🏀💀🏀💀🏀💀🏀💀🏀💀🏀💀🏀💀🏀\n",
    "💀🏀💀🏀💀🏀💀🏀💀🏀💀🏀💀🏀💀🏀💀🏀💀\n",
    "🏀💀🏀💀🏀💀🏀💀🏀💀🏀💀🏀💀🏀💀🏀💀🏀\n",
    "```\n",
    "\n",
    "Indice : on peut mettre l'un des deux emojis comme caractère de fin ! Mais... comment alterner les lignes ?"
   ]
  },
  {
   "cell_type": "code",
   "execution_count": null,
   "id": "5f79729e",
   "metadata": {},
   "outputs": [],
   "source": [
    "def échiquier_emoji(n, s1, s2):\n",
    "    c1 = s1\n",
    "    c2 = s2\n",
    "    for i in range(n**2):\n",
    "        if (i+1) % n == 0:\n",
    "            print(emojize(c1), end='\\n')\n",
    "            # On échange les deux variables :\n",
    "            # le caractère de fin et celui affiché s'échangent !\n",
    "            tmp = c1\n",
    "            c1 = c2\n",
    "            c2 = tmp\n",
    "        else:\n",
    "            e = emojize(c2)\n",
    "            print(emojize(c1), end=e)"
   ]
  },
  {
   "cell_type": "code",
   "execution_count": null,
   "id": "b6c30609",
   "metadata": {
    "scrolled": true
   },
   "outputs": [],
   "source": [
    "échiquier_emoji(10, \":skull:\", \":basketball:\")"
   ]
  },
  {
   "cell_type": "markdown",
   "id": "6468efaa",
   "metadata": {},
   "source": [
    "<b><font color='white' style='background-color:black'>Ex. 2.2</font> Opérations sur les chaînes</b><a class='anchor' id='opérations'></a><br>\n",
    "\n",
    "On définit deux opérations sur les chaînes :\n",
    "- la *concaténation* `+` enchaîne plusieurs chaînes de caractères l'une après l'autre\n",
    "- la *répétition* `*` repète une chaîne de caractères un certain nombre de fois\n",
    "\n",
    "Exemples :"
   ]
  },
  {
   "cell_type": "code",
   "execution_count": null,
   "id": "b1d26ec8",
   "metadata": {},
   "outputs": [],
   "source": [
    "# Concaténation\n",
    "# Ne pas modifier !\n",
    "a = \"Ceci \" + \"n'est pas \" + \"une addition\"\n",
    "print(a)"
   ]
  },
  {
   "cell_type": "code",
   "execution_count": null,
   "id": "ea4299ff",
   "metadata": {},
   "outputs": [],
   "source": [
    "# Répétition\n",
    "# Ne pas modifier !\n",
    "a = \"All work and no play makes Jack a dull boy\\n\"*10\n",
    "print(a)"
   ]
  },
  {
   "cell_type": "markdown",
   "id": "de672db0",
   "metadata": {},
   "source": [
    "<b><font color='white' style='background-color:orange'>2.2.a</font></b> <font color='white' style='text-shadow: -1px 0 black, 0 1px black, 1px 0 black, 0 -1px black;'>C</font> Expliquez pourquoi les deux boîtes de code suivantes ne produisent pas le même affichage.\n",
    "\n",
    "```python\n",
    "print('Bonjour', 'à toutes', 'et à tous !')\n",
    "```\n",
    "\n",
    "```python\n",
    "print('Bonjour' + 'à toutes' + 'et à tous !')\n",
    "```"
   ]
  },
  {
   "cell_type": "markdown",
   "id": "041d63fc",
   "metadata": {},
   "source": [
    "**Le caractère de séparation est `' '` par défaut, alors que la concaténation ne rajoute pas d'espaces entre les chaînes joignées. Afin que les deux commandes produisent le même affichage, il faudrait rajouter `sep=''` au premier print**"
   ]
  },
  {
   "cell_type": "markdown",
   "id": "64f6800a",
   "metadata": {},
   "source": [
    "<b><font color='white' style='background-color:orange'>2.2.b</font></b> Écrire du code pour afficher\n",
    "```\n",
    "Bonjour ! Bonjour ! Bonjour ! Bonjour ! Bonjour ! \n",
    "```\n",
    "* sans boucle `for`,\n",
    "* avec un seul `print`,\n",
    "* en tapant une seule fois `Bonjour !`."
   ]
  },
  {
   "cell_type": "code",
   "execution_count": null,
   "id": "d5ab4a85",
   "metadata": {},
   "outputs": [],
   "source": []
  },
  {
   "cell_type": "markdown",
   "id": "594487c9",
   "metadata": {},
   "source": [
    "<b><font color='white' style='background-color:orange'>2.2.c</font></b> <font color='white' style='text-shadow: -1px 0 black, 0 1px black, 1px 0 black, 0 -1px black;'>C</font> Écrire du code pour produire l'affichage suivant en deux lignes de code, avec une boucle `for`.\n",
    "```\n",
    "Oui ! \n",
    "Oui ! Oui ! \n",
    "Oui ! Oui ! Oui ! \n",
    "Oui ! Oui ! Oui ! Oui ! \n",
    "Oui ! Oui ! Oui ! Oui ! Oui ! \n",
    "Oui ! Oui ! Oui ! Oui ! Oui ! Oui ! \n",
    "Oui ! Oui ! Oui ! Oui ! Oui ! Oui ! Oui ! \n",
    "Oui ! Oui ! Oui ! Oui ! Oui ! Oui ! Oui ! Oui ! \n",
    "Oui ! Oui ! Oui ! Oui ! Oui ! Oui ! Oui ! Oui ! Oui ! \n",
    "```"
   ]
  },
  {
   "cell_type": "code",
   "execution_count": null,
   "id": "95dc90c3",
   "metadata": {},
   "outputs": [],
   "source": [
    "for i in range(1,10):\n",
    "    print(\"Oui ! \"*i)"
   ]
  },
  {
   "cell_type": "markdown",
   "id": "60e1c900",
   "metadata": {},
   "source": [
    "<b><font color='white' style='background-color:orange'>2.2.d</font></b> <font color='white' style='text-shadow: -1px 0 black, 0 1px black, 1px 0 black, 0 -1px black;'>C</font> Transformez le code de l'exercice `2.2.c` en une fonction nommée `oui` qui prend un paramètre entier `n` qui dit combien de lignes on veut afficher. Par exemple, pour `oui(3)`, votre code doit afficher\n",
    "```\n",
    "Oui !\n",
    "Oui ! Oui !\n",
    "Oui ! Oui ! Oui !\n",
    "```"
   ]
  },
  {
   "cell_type": "code",
   "execution_count": null,
   "id": "9bdabbd6",
   "metadata": {},
   "outputs": [],
   "source": [
    "def oui(n):\n",
    "    for i in range(1,n+1):\n",
    "        print(\"Oui ! \"*i)"
   ]
  },
  {
   "cell_type": "code",
   "execution_count": null,
   "id": "95a5b7b1",
   "metadata": {},
   "outputs": [],
   "source": [
    "oui(3)"
   ]
  },
  {
   "cell_type": "markdown",
   "id": "6faec306",
   "metadata": {},
   "source": [
    "<b><font color='white' style='background-color:orange'>2.2.e</font></b> Écrire du code pour produire l'affichage suivant.\n",
    "```\n",
    "Non ! \n",
    "Oui ! Oui ! \n",
    "Non ! Non ! Non ! \n",
    "Oui ! Oui ! Oui ! Oui ! \n",
    "Non ! Non ! Non ! Non ! Non ! \n",
    "Oui ! Oui ! Oui ! Oui ! Oui ! Oui ! \n",
    "Non ! Non ! Non ! Non ! Non ! Non ! Non ! \n",
    "Oui ! Oui ! Oui ! Oui ! Oui ! Oui ! Oui ! Oui ! \n",
    "Non ! Non ! Non ! Non ! Non ! Non ! Non ! Non ! Non ! \n",
    "Oui ! Oui ! Oui ! Oui ! Oui ! Oui ! Oui ! Oui ! Oui ! Oui !  \n",
    "```"
   ]
  },
  {
   "cell_type": "code",
   "execution_count": null,
   "id": "7976e3ef",
   "metadata": {},
   "outputs": [],
   "source": []
  },
  {
   "cell_type": "markdown",
   "id": "bedf2724",
   "metadata": {},
   "source": [
    "<b><font color='white' style='background-color:orange'>2.2.f</font></b> <font color='white' style='text-shadow: -1px 0 black, 0 1px black, 1px 0 black, 0 -1px black;'>C</font> Transformez le code de l'exercice `2.2.e` en une fonction nommée `oui_non` qui prend un paramètre entier `n` qui dit combien de lignes on veut afficher. Par exemple, pour `oui_non(3)`, votre code doit afficher\n",
    "```\n",
    "Non !\n",
    "Oui ! Oui !\n",
    "Non ! Non ! Non !\n",
    "```"
   ]
  },
  {
   "cell_type": "code",
   "execution_count": null,
   "id": "8b117633",
   "metadata": {},
   "outputs": [],
   "source": [
    "def oui_non(n):\n",
    "    for i in range(1,n+1):\n",
    "        if i % 2 == 0:\n",
    "            s = \"Oui ! \"\n",
    "        else:\n",
    "            s = \"Non ! \"\n",
    "        print(s*i)"
   ]
  },
  {
   "cell_type": "code",
   "execution_count": null,
   "id": "97112168",
   "metadata": {},
   "outputs": [],
   "source": [
    "oui_non(3)"
   ]
  },
  {
   "cell_type": "markdown",
   "id": "d8da1c79",
   "metadata": {},
   "source": [
    "<b><font color='white' style='background-color:black'>Ex. 2.3</font> Extraction de caractères</b><a class='anchor' id='extraction'></a><br>\n",
    "\n",
    "La syntaxe pour extraire (récupérer) un caractère d'après une chaîne de caractères est simple : si `v` est la variable contenant la chaîne et `i` contient un entier, `v[i]` extrait le caractère correspondant à l'indice `i`, selon les règles mentionnées au début de cette section.\n",
    "\n",
    "Exemples:"
   ]
  },
  {
   "cell_type": "code",
   "execution_count": null,
   "id": "4056ea43",
   "metadata": {},
   "outputs": [],
   "source": [
    "# Ne pas modifier !\n",
    "chaîne = \"Abracadabra\"\n",
    "print(chaîne[3])  # Extrait le QUATRIEME caractère\n",
    "print(chaîne[-1]) # Extrait le DERNIER caractère"
   ]
  },
  {
   "cell_type": "markdown",
   "id": "d2d4b483",
   "metadata": {},
   "source": [
    "Attention : il faut toujour contrôler que le caractère auquel l'indice pointe existe ! Si `v` contient un mot de 4 lettres et on cherche à extraire `v[6]`, une erreur se produira :"
   ]
  },
  {
   "cell_type": "code",
   "execution_count": null,
   "id": "dbde7b34",
   "metadata": {},
   "outputs": [],
   "source": [
    "# Ne pas modifier !\n",
    "v = \"Cool\"\n",
    "print(v[6])"
   ]
  },
  {
   "cell_type": "markdown",
   "id": "c077af88",
   "metadata": {},
   "source": [
    "<b><font color='white' style='background-color:orange'>2.3.a</font></b> Créez une fonction `avant_dernier` qui prend en entrée une chaîne `s` et en rend l'avant-dernier caractère. Ensuite, créez une fonction `avant_dernier_2` qui utilise l'autre système d'indexation (si vous avez utilisé le positif, utilisez maintenant le négatif, et viceversa). Dans la troisième boîte de code, complétez et utilisez le jeu de tests sur les deux fonctions."
   ]
  },
  {
   "cell_type": "code",
   "execution_count": null,
   "id": "858550e9",
   "metadata": {},
   "outputs": [],
   "source": []
  },
  {
   "cell_type": "code",
   "execution_count": null,
   "id": "37149fa3",
   "metadata": {},
   "outputs": [],
   "source": []
  },
  {
   "cell_type": "code",
   "execution_count": null,
   "id": "b0f42a5b",
   "metadata": {},
   "outputs": [],
   "source": []
  },
  {
   "cell_type": "markdown",
   "id": "3795e758",
   "metadata": {},
   "source": [
    "<b><font color='white' style='background-color:green'>2.3.b</font></b> <font color='white' style='text-shadow: -1px 0 black, 0 1px black, 1px 0 black, 0 -1px black;'>C</font> Créez une fonction `début_fin` qui prend en entrée une chaîne de caractères `chaîne` et vérifie si elle commence et se termine avec le même caractère. La fonction doit rendre `True` quand c'est le cas, `False` autrement.\n",
    "Ensuite, créez un jeu de tests approprié et testez. Attention : la même lettre en majuscule et en minuscule c'est deux caractères différents !"
   ]
  },
  {
   "cell_type": "code",
   "execution_count": null,
   "id": "25f8cd0c",
   "metadata": {},
   "outputs": [],
   "source": [
    "def début_fin(chaîne):\n",
    "    return chaîne[0] == chaîne[-1]"
   ]
  },
  {
   "cell_type": "code",
   "execution_count": null,
   "id": "892d42ff",
   "metadata": {},
   "outputs": [],
   "source": [
    "assert début_fin('Europe') == False\n",
    "assert début_fin('EUROPE') == True\n",
    "assert début_fin('Super Mario') == False\n",
    "assert début_fin('H') == True"
   ]
  },
  {
   "cell_type": "markdown",
   "id": "1841a158",
   "metadata": {},
   "source": [
    "<b><font color='white' style='background-color:black'>Ex. 2.4</font> Itération par indice</b><a class='anchor' id='indice'></a><br>\n",
    "\n",
    "Si on peut récupérer un caractère d'une chaîne avec un indice, rien nous empêche d'utiliser une boucle (`while` ou `for`) pour en récupérer plusieurs !\n",
    "\n",
    "Exemple:"
   ]
  },
  {
   "cell_type": "code",
   "execution_count": null,
   "id": "e9d654b8",
   "metadata": {},
   "outputs": [],
   "source": [
    "var = \"Itération\" # Les indices positifs de cette chaîne vont de 0 jusqu'à sa longueur moins 1\n",
    "n = len(var) # La longueur de la chaîne ! Cfr TP01\n",
    "for i in range(0,n):\n",
    "    print(\"Caractère numéro\", i, \":\", var[i])"
   ]
  },
  {
   "cell_type": "markdown",
   "id": "7bde2fb2",
   "metadata": {},
   "source": [
    "<b><font color='white' style='background-color:orange'>2.4.a</font></b> <font color='white' style='text-shadow: -1px 0 black, 0 1px black, 1px 0 black, 0 -1px black;'>C</font> Ecrivez du code pour afficher les caractères impairs (premier, troisième, etc.) de cette chaîne: `'Mteys9seawgqeg'` sans jamais retourner à la ligne"
   ]
  },
  {
   "cell_type": "code",
   "execution_count": null,
   "id": "a5c3d4e1",
   "metadata": {},
   "outputs": [],
   "source": [
    "s = 'Mteys9seawgqeg'\n",
    "l = len(s)\n",
    "for i in range(0,l,2):\n",
    "    print(s[i], end='')"
   ]
  },
  {
   "cell_type": "markdown",
   "id": "bfc3be78",
   "metadata": {},
   "source": [
    "<b><font color='white' style='background-color:orange'>2.4.b</font></b> Créez une fonction `liste_inversée` qui prend une chaîne `s` et affiche les indices, deux points, puis les caractères de `s`, un caractère par ligne, mais ***en partant de la fin***.\n",
    "\n",
    "Par exemple, pour `liste_inversée('Bonjour !')` elle doit afficher\n",
    "```\n",
    "8 : !\n",
    "7 :  \n",
    "6 : r\n",
    "5 : u\n",
    "4 : o\n",
    "3 : j\n",
    "2 : n\n",
    "1 : o\n",
    "0 : B\n",
    "```"
   ]
  },
  {
   "cell_type": "code",
   "execution_count": null,
   "id": "82e93210",
   "metadata": {},
   "outputs": [],
   "source": []
  },
  {
   "cell_type": "code",
   "execution_count": null,
   "id": "78aa1e23",
   "metadata": {},
   "outputs": [],
   "source": []
  },
  {
   "cell_type": "markdown",
   "id": "9568cad5",
   "metadata": {},
   "source": [
    "<b><font color='white' style='background-color:green'>2.4.c</font></b> <font color='white' style='text-shadow: -1px 0 black, 0 1px black, 1px 0 black, 0 -1px black;'>C</font> Créez une fonction `est_palindrome` qui prend en entrée une chaîne `s` et vérifie si elle est palindrome, c'est-à-dire si elle reste identique quand on l'inverse. La fonction doit rendre `True` si c'est le cas, `False` autrement. Créez un jeu de tests approprié et testez."
   ]
  },
  {
   "cell_type": "code",
   "execution_count": null,
   "id": "02089422",
   "metadata": {},
   "outputs": [],
   "source": [
    "def est_palindrome(s):\n",
    "    l = len(s)\n",
    "    for i in range(l):\n",
    "        if s[i] != s[l-1-i]:\n",
    "            return False\n",
    "    return True"
   ]
  },
  {
   "cell_type": "code",
   "execution_count": null,
   "id": "c548a76b",
   "metadata": {},
   "outputs": [],
   "source": [
    "assert est_palindrome(\"OTTO\") == True\n",
    "assert est_palindrome(\"Radar\") == False"
   ]
  },
  {
   "cell_type": "markdown",
   "id": "2f98a512",
   "metadata": {},
   "source": [
    "<b><font color='white' style='background-color:black'>Ex. 2.5</font> Itération par élément</b><a class='anchor' id='élément'></a><br>\n",
    "\n",
    "Comme toute _séquence_, le type `str` (chaîne) est un type _itérable_, c'est à dire qu'on peut y itérer dessus. Cette propriété permet d'utiliser la boucle `for` d'une nouvelle façon :\n",
    "\n",
    "```python\n",
    "# Itération par élément\n",
    "chaîne = \"Exemple\"\n",
    "for c in chaîne:\n",
    "    # Ici le code à répéter\n",
    "    print(c)\n",
    "```\n",
    "\n",
    "On peut en effet simplement itérer sur les éléments de la chaîne (c'est à dire ses caractères) sans devoir passer par les indices associés. Mais attention : parfois, c'est plus pratique d'avoir l'indice !"
   ]
  },
  {
   "cell_type": "markdown",
   "id": "9b87ae29",
   "metadata": {},
   "source": [
    "<b><font color='white' style='background-color:green'>2.5.a</font></b> Créez une fonction `anaérobie` qui prend en entrée une chaîne `s` et affiche tous ses caractères (de suite, sans retourner à la ligne) sauf les `r`. Testez-la dans la deuxième boîte de code."
   ]
  },
  {
   "cell_type": "code",
   "execution_count": null,
   "id": "6d98b603",
   "metadata": {},
   "outputs": [],
   "source": []
  },
  {
   "cell_type": "code",
   "execution_count": null,
   "id": "b1ad5623",
   "metadata": {},
   "outputs": [],
   "source": []
  },
  {
   "cell_type": "markdown",
   "id": "d5f4008b",
   "metadata": {},
   "source": [
    "<b><font color='white' style='background-color:green'>2.5.b</font></b> <font color='white' style='text-shadow: -1px 0 black, 0 1px black, 1px 0 black, 0 -1px black;'>C</font> Créez une fonction `première_lettre` qui prend en entrée une chaîne `s` et affiche la première lettre de chaque ligne. Testez-la dans la deuxième boîte de code avec ce poème (attention à bien transcrire les caractères spéciaux):\n",
    "\n",
    "```\n",
    "Notre histoire est noble et tragique\n",
    "Comme le masque d'un tyran\n",
    "Nul drame hasardeux ou magique\n",
    "Aucun détail indifférent\n",
    "Ne rend notre amour pathétique\n",
    "```"
   ]
  },
  {
   "cell_type": "code",
   "execution_count": null,
   "id": "2cdf9751",
   "metadata": {},
   "outputs": [],
   "source": [
    "def première_lettre(s):\n",
    "    début = True\n",
    "    for c in s:\n",
    "        if c == '\\n':\n",
    "            début = True\n",
    "        elif début:\n",
    "            print(c)\n",
    "            début = False"
   ]
  },
  {
   "cell_type": "code",
   "execution_count": null,
   "id": "434e1b8e",
   "metadata": {},
   "outputs": [],
   "source": [
    "poème = 'Notre histoire est noble et tragique\\nComme le masque d\\'un tyran\\nNul drame hasardeux ou magique\\nAucun détail indifférent\\nNe rend notre amour pathétique\\n'\n",
    "\n",
    "première_lettre(poème)"
   ]
  },
  {
   "cell_type": "markdown",
   "id": "bff6bb2d",
   "metadata": {},
   "source": [
    "<b><font color='white' style='background-color:green'>2.5.c</font></b> Créez une fonction `dernière_lettre` qui prend en entrée une chaîne `s` et affiche la dernière lettre de chaque ligne. Mieux utiliser une boucle par indice ou par élément ? Testez-la dans la deuxième boîte de code avec le poème de l'exercice `2.5.b`"
   ]
  },
  {
   "cell_type": "code",
   "execution_count": null,
   "id": "9ae9b4aa",
   "metadata": {},
   "outputs": [],
   "source": []
  },
  {
   "cell_type": "code",
   "execution_count": null,
   "id": "338d7d5b",
   "metadata": {},
   "outputs": [],
   "source": []
  },
  {
   "cell_type": "markdown",
   "id": "170dc89b",
   "metadata": {},
   "source": [
    "<b><font color='white' style='background-color:green'>2.5.d</font></b> <font color='white' style='text-shadow: -1px 0 black, 0 1px black, 1px 0 black, 0 -1px black;'>C</font> Créez une fonction `premier_mot` qui prend en entrée une chaîne `s` et affiche le premier mot de chaque ligne. Testez-la dans la deuxième boîte de code avec le poème de l'exercice `2.5.b`."
   ]
  },
  {
   "cell_type": "code",
   "execution_count": null,
   "id": "55391827",
   "metadata": {},
   "outputs": [],
   "source": [
    "def premier_mot(s):\n",
    "    début = True\n",
    "    for c in s:\n",
    "        if c == '\\n':\n",
    "            début = True\n",
    "        elif c == ' ':\n",
    "            if début:\n",
    "                print()\n",
    "            début = False\n",
    "        elif début:\n",
    "            print(c, end='')\n",
    "            "
   ]
  },
  {
   "cell_type": "code",
   "execution_count": null,
   "id": "44b44988",
   "metadata": {},
   "outputs": [],
   "source": [
    "premier_mot(poème)"
   ]
  },
  {
   "cell_type": "markdown",
   "id": "f2bd2f41",
   "metadata": {},
   "source": [
    "<b><font color='white' style='background-color:black'>Ex. 2.6</font> Modifier une chaîne</b><a class='anchor' id='modifier'></a><br>\n",
    "\n",
    "Comme tous les types qu'on a vu jusqu'à présent, le type `str` aussi est un type _immuable_, ou _immodifiable_. Cela signifie que, une fois une variable affectée par un `str`, la seule façon de modifier son contenu est avec une autre affectation. (On verra qu'il y a aussi des types _modifiables_ pour lesquels ce n'est pas le cas).\n",
    "\n",
    "Par exemple, si on a `s = 'Incomple'`, la seule façon de rajouter le `'t'` manquant est\n",
    "```python\n",
    "s = s + 't'  # affectation ! s vaut la valeur précédente de s concatenée avec 't'\n",
    "```"
   ]
  },
  {
   "cell_type": "markdown",
   "id": "52c589a8",
   "metadata": {},
   "source": [
    "<b><font color='white' style='background-color:green'>2.6.a</font></b> Créez une fonction `anaérobie_2` qui, comme dans l'exercice 2.5.a, prend en entrée une chaîne `s` et rend (et n'affiche pas !) tous ses caractères sauf les `r`. Testez-la dans la deuxième boîte de code."
   ]
  },
  {
   "cell_type": "code",
   "execution_count": null,
   "id": "42bce941",
   "metadata": {},
   "outputs": [],
   "source": []
  },
  {
   "cell_type": "code",
   "execution_count": null,
   "id": "59d9a1a7",
   "metadata": {},
   "outputs": [],
   "source": []
  },
  {
   "cell_type": "markdown",
   "id": "c50cc8f4",
   "metadata": {},
   "source": [
    "<b><font color='white' style='background-color:green'>2.6.b</font></b> <font color='white' style='text-shadow: -1px 0 black, 0 1px black, 1px 0 black, 0 -1px black;'>C</font> Créez une fonction `leet` qui prend en entrée la chaîne `s` et rend une chaîne dans laquelle `'L'` a été remplacé par `'1'`, `'E'` par `'3'` et `'T'` par `'7'`.\n",
    "\n",
    "Exemple : pour `s = 'MIGNONNE, ALLONS VOIR SI LA ROSE\\nQUI CE MATIN AVAIT DÉCLOSE\\nSA ROBE DE POURPRE AU SOLEIL,\\nA POINT PERDU CETTE VESPRÉE,\\nLES PLIS DE SA ROBE POURPRÉE,\\nET SON TEINT AU VÔTRE PAREIL.'`, la fonction `print(leet(s))` doit rendre\n",
    "```\n",
    "MIGNONN3, A11ONS VOIR SI 1A ROS3\n",
    "QUI C3 MA7IN AVAI7 DÉC1OS3\n",
    "SA ROB3 D3 POURPR3 AU SO13I1,\n",
    "A POIN7 P3RDU C3773 V3SPRÉ3,\n",
    "13S P1IS D3 SA ROB3 POURPRÉ3,\n",
    "37 SON 73IN7 AU VÔ7R3 PAR3I1.\n",
    "```"
   ]
  },
  {
   "cell_type": "code",
   "execution_count": null,
   "id": "f77d7850",
   "metadata": {},
   "outputs": [],
   "source": [
    "def leet(s):\n",
    "    res = ''\n",
    "    for c in s:\n",
    "        if c == \"L\":\n",
    "            res = res + \"1\"\n",
    "        elif c == \"E\":\n",
    "            res = res + \"3\"\n",
    "        elif c == \"T\":\n",
    "            res = res + \"7\"\n",
    "        else:\n",
    "            res = res + c\n",
    "    return res"
   ]
  },
  {
   "cell_type": "code",
   "execution_count": null,
   "id": "febcd66a",
   "metadata": {},
   "outputs": [],
   "source": [
    "s = 'MIGNONNE, ALLONS VOIR SI LA ROSE\\nQUI CE MATIN AVAIT DÉCLOSE\\nSA ROBE DE POURPRE AU SOLEIL,\\nA POINT PERDU CETTE VESPRÉE,\\nLES PLIS DE SA ROBE POURPRÉE,\\nET SON TEINT AU VÔTRE PAREIL.'\n",
    "print(leet(s))"
   ]
  },
  {
   "cell_type": "markdown",
   "id": "8a22e04e",
   "metadata": {},
   "source": [
    "<b><font color='white' style='background-color:black'>Ex. 2.7</font> Découpages</b><a class='anchor' id='découpages'></a><br>\n",
    "\n",
    "La syntaxe à crochets utilisée pour l'extraction d'un caractère peut être généralisée pour extraire une sous-chaîne. Si `s` contient une chaîne, la syntaxe\n",
    "\n",
    "```\n",
    "s[début:fin:pas]\n",
    "```\n",
    "\n",
    "où `début`, `fin` et `pas` sont trois entiers, sélectionne la sous-châine formée par les caractères suivants :\n",
    "- en supposant $\\mathrm{début} <= \\mathrm{fin}$ :\n",
    "$$\\{\\mathrm{début}, \\mathrm{début}+\\mathrm{pas}, \\mathrm{début}+2\\mathrm{pas}, ..., \\mathrm{début}+n\\mathrm{pas}\\}$$ où $\\mathrm{début}+n\\mathrm{pas} < \\mathrm{fin}$ et $\\mathrm{début}+(n+1)\\mathrm{pas} \\geq \\mathrm{fin}$.\n",
    "- en supposant $\\mathrm{début} > \\mathrm{fin}$ :\n",
    "$$\\{\\mathrm{début}, \\mathrm{début}-\\mathrm{pas}, \\mathrm{début}-2\\mathrm{pas}, ..., \\mathrm{début}-n\\mathrm{pas}\\}$$ où $\\mathrm{début}-n\\mathrm{pas} > \\mathrm{fin}$ et $\\mathrm{début}-(n+1)\\mathrm{pas} \\leq \\mathrm{fin}$.\n",
    "\n",
    "Vous avez bien remarqué que c'est la même convention que la fonction `range` ! Avec une convention supplémentaire : les trois entiers peuvent être omis, et ont des valeurs par défaut\n",
    "- si `pas` est positif ou nul, `début = 0`, `fin = len(s)`\n",
    "- si `pas` est négatif, `début = len(s)-1`, `fin = -1`\n",
    "Si `pas` n'est pas défini, `pas = 0`\n",
    "\n",
    "Exemples:"
   ]
  },
  {
   "cell_type": "code",
   "execution_count": null,
   "id": "801bf994",
   "metadata": {},
   "outputs": [],
   "source": [
    "# Ne pas modifier !\n",
    "s = \"caillou\"\n",
    "print(s[::-1])  # Rend la chaîne inversée"
   ]
  },
  {
   "cell_type": "code",
   "execution_count": null,
   "id": "76626830",
   "metadata": {},
   "outputs": [],
   "source": [
    "# Ne pas modifier !\n",
    "var = \"Cogito ergo sum\"\n",
    "print(var[2::3])  # Départ du TROISIEME caractère, et sélectionne chaque 3ème caractère jusqu'au bout"
   ]
  },
  {
   "cell_type": "markdown",
   "id": "5a224e11",
   "metadata": {},
   "source": [
    "<b><font color='white' style='background-color:green'>2.7.a</font></b> <font color='white' style='text-shadow: -1px 0 black, 0 1px black, 1px 0 black, 0 -1px black;'>C</font> Créez une fonction `demi_mot` qui prend en entrée une chaîne `s` et utilise un découpage pour rendre la première moitié (`n//2` caractères si n est impair). Ensuite, créez `demi_mot_2` qui fait la même chose mais sans utiliser un découpage. Testez avec un jeu de tests adéquat."
   ]
  },
  {
   "cell_type": "code",
   "execution_count": null,
   "id": "6bae688a",
   "metadata": {},
   "outputs": [],
   "source": [
    "def demi_mot(s):\n",
    "    return s[:len(s)//2]"
   ]
  },
  {
   "cell_type": "code",
   "execution_count": null,
   "id": "08d9c38a",
   "metadata": {},
   "outputs": [],
   "source": [
    "def demi_mot_2(s):\n",
    "    res = ''\n",
    "    for i in range(len(s)//2):\n",
    "        res = res + s[i]\n",
    "    return res"
   ]
  },
  {
   "cell_type": "code",
   "execution_count": null,
   "id": "76d3543f",
   "metadata": {},
   "outputs": [],
   "source": [
    "assert demi_mot('Bisous') == demi_mot_2('Bisous')\n",
    "assert demi_mot('Bisous') == 'Bis'\n",
    "assert demi_mot('Shindou') == demi_mot_2('Shindou')\n",
    "assert demi_mot('Shindou') == 'Shi'"
   ]
  },
  {
   "cell_type": "markdown",
   "id": "10610767",
   "metadata": {},
   "source": [
    "<b><font color='white' style='background-color:green'>2.7.b</font></b> <font color='white' style='text-shadow: -1px 0 black, 0 1px black, 1px 0 black, 0 -1px black;'>C</font> Combien de façons connaissez-vous d'inverser une chaîne de caractères ? Trouvez-en au moins 3 différentes et créez 3 fonctions `inverse_1`, `inverse_2` et `inverse_3` qui prennent une chaîne `s` et rendent la chaine inversée. Testez avec un jeu de tests adéquat."
   ]
  },
  {
   "cell_type": "code",
   "execution_count": null,
   "id": "b743afd1",
   "metadata": {},
   "outputs": [],
   "source": [
    "def inverse_1(s):\n",
    "    res = ''\n",
    "    for i in range(0,len(s)):\n",
    "        res = res + s[len(s)-i-1]\n",
    "    return res"
   ]
  },
  {
   "cell_type": "code",
   "execution_count": null,
   "id": "54e98d22",
   "metadata": {},
   "outputs": [],
   "source": [
    "def inverse_2(s):\n",
    "    res = ''\n",
    "    for i in range(-1,-len(s)-1,-1):\n",
    "        res = res + s[i]\n",
    "    return res"
   ]
  },
  {
   "cell_type": "code",
   "execution_count": null,
   "id": "446e3f95",
   "metadata": {},
   "outputs": [],
   "source": [
    "def inverse_3(s):\n",
    "    return s[::-1]"
   ]
  },
  {
   "cell_type": "code",
   "execution_count": null,
   "id": "1bae0468",
   "metadata": {},
   "outputs": [],
   "source": [
    "assert inverse_1(\"Crocodile\") == \"elidocorC\"\n",
    "assert inverse_2(\"Crocodile\") == \"elidocorC\"\n",
    "assert inverse_3(\"Crocodile\") == \"elidocorC\""
   ]
  },
  {
   "cell_type": "markdown",
   "id": "572191b8",
   "metadata": {},
   "source": [
    "<h3>3. Récursion</h3><a class='anchor' id='récursion'></a>\n",
    "\n",
    "On conclue en introduisant la façon la plus élégante - mais aussi la moins utilisée - de gérer une boucle.\n",
    "On observe que rien n'empêche une fonction de faire appel à elle-même. Ainsi, on peut en effet rendre n'importe quelle boucle :\n",
    "\n",
    "```python\n",
    "for i in range(1,11):\n",
    "    print(i)\n",
    "```\n",
    "\n",
    "est équivalent à\n",
    "\n",
    "```python\n",
    "def affiche_et_incrémente(n):\n",
    "    if n < 11:\n",
    "        print(n)\n",
    "        return affiche_et_incrémente(n+1)\n",
    "\n",
    "affiche_et_incrémente(1)\n",
    "```\n",
    "\n",
    "Essayez dans la boîte ci-dessous !"
   ]
  },
  {
   "cell_type": "code",
   "execution_count": null,
   "id": "2baebc6b",
   "metadata": {},
   "outputs": [],
   "source": [
    "# Ne pas modifier !\n",
    "def affiche_et_incrémente(n):\n",
    "    if n < 11:\n",
    "        print(n)\n",
    "        return affiche_et_incrémente(n+1)\n",
    "\n",
    "affiche_et_incrémente(1)"
   ]
  },
  {
   "cell_type": "markdown",
   "id": "52758561",
   "metadata": {},
   "source": [
    "<b><font color='white' style='background-color:blue'>3.1.a</font></b> <font color='white' style='text-shadow: -1px 0 black, 0 1px black, 1px 0 black, 0 -1px black;'>C</font> On a déjà vu dans l'exercice `1.1.e` la factorielle. Ré-implémentez ce calcul dans une nouvelle fonction `factorielle_récursion` qui prend un entier `n` et rend $n!$ en utilisant la récursion. Testez-la dans la deuxième boîte de code."
   ]
  },
  {
   "cell_type": "code",
   "execution_count": null,
   "id": "d2584c2f",
   "metadata": {},
   "outputs": [],
   "source": [
    "def factorielle_récursion(n):\n",
    "    if n > 0:\n",
    "        return n*factorielle_récursion(n-1)\n",
    "    else:\n",
    "        return 1"
   ]
  },
  {
   "cell_type": "code",
   "execution_count": null,
   "id": "27241531",
   "metadata": {},
   "outputs": [],
   "source": [
    "assert factorielle_récursion(5) == 1*2*3*4*5\n",
    "assert factorielle_récursion(0) == 1"
   ]
  },
  {
   "cell_type": "markdown",
   "id": "ab169129",
   "metadata": {},
   "source": [
    "<b><font color='white' style='background-color:blue'>3.1.b</font></b> <font color='white' style='text-shadow: -1px 0 black, 0 1px black, 1px 0 black, 0 -1px black;'>C</font> On a déjà vu dans l'exercice `1.2.c` la fonction de Collatz. Ré-implémentez ce calcul dans une nouvelle fonction `collatz_récursion` qui prend un entier `n`, le nombre de pas faits `p` et rend le nouveau `n` et le nombre de pas pour rejoindre $1$ en utilisant la récursion. Testez-la dans la deuxième boîte de code."
   ]
  },
  {
   "cell_type": "code",
   "execution_count": null,
   "id": "205291c7",
   "metadata": {},
   "outputs": [],
   "source": [
    "def collatz_récursion(n, p):\n",
    "    if n > 1:\n",
    "        if n % 2 == 0:\n",
    "            return collatz_récursion(n//2, p+1)\n",
    "        else:\n",
    "            return collatz_récursion(3*n + 1, p+1)\n",
    "    return p\n",
    "\n",
    "collatz_récursion(28, 0)"
   ]
  }
 ],
 "metadata": {
  "kernelspec": {
   "display_name": "Python 3 (ipykernel)",
   "language": "python",
   "name": "python3"
  },
  "language_info": {
   "codemirror_mode": {
    "name": "ipython",
    "version": 3
   },
   "file_extension": ".py",
   "mimetype": "text/x-python",
   "name": "python",
   "nbconvert_exporter": "python",
   "pygments_lexer": "ipython3",
   "version": "3.10.9"
  }
 },
 "nbformat": 4,
 "nbformat_minor": 5
}
